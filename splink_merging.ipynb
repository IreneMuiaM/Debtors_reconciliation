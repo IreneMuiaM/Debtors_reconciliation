{
  "cells": [
    {
      "cell_type": "markdown",
      "metadata": {
        "id": "view-in-github",
        "colab_type": "text"
      },
      "source": [
        "<a href=\"https://colab.research.google.com/github/IreneMuiaM/Debtors_reconciliation/blob/main/splink_merging.ipynb\" target=\"_parent\"><img src=\"https://colab.research.google.com/assets/colab-badge.svg\" alt=\"Open In Colab\"/></a>"
      ]
    },
    {
      "cell_type": "code",
      "execution_count": null,
      "metadata": {
        "id": "D-wW2fXVambb"
      },
      "outputs": [],
      "source": [
        "#!sudo apt install python3-pip\n"
      ]
    },
    {
      "cell_type": "code",
      "execution_count": null,
      "metadata": {
        "id": "viC6z4DPgXxO"
      },
      "outputs": [],
      "source": [
        "# !sudo apt-get update -y\n",
        "\n",
        "# !sudo apt-get install python3.7\n",
        "\n",
        "# !sudo update-alternatives --install /usr/bin/python3 python3 /usr/bin/python3.7 1\n",
        "\n",
        "# !sudo update-alternatives --config python3\n",
        "\n",
        "# !apt-get install python3-pip\n",
        "\n",
        "# !python -m pip install --upgrade pip --us\n",
        "# 2"
      ]
    },
    {
      "cell_type": "code",
      "execution_count": null,
      "metadata": {
        "id": "-_y-C188iK1L"
      },
      "outputs": [],
      "source": [
        "!apt-get install python3.7\n",
        "!ln -sf /usr/bin/python3.7 /usr/bin/python"
      ]
    },
    {
      "cell_type": "code",
      "execution_count": null,
      "metadata": {
        "id": "KU9A8p0Q8kmV"
      },
      "outputs": [],
      "source": [
        "!python3 --version"
      ]
    },
    {
      "cell_type": "code",
      "execution_count": null,
      "metadata": {
        "id": "rX18MmQ-71OO"
      },
      "outputs": [],
      "source": [
        "import pandas as pd\n",
        "import numpy as np"
      ]
    },
    {
      "cell_type": "code",
      "execution_count": null,
      "metadata": {
        "colab": {
          "base_uri": "https://localhost:8080/"
        },
        "id": "0TeL2mpdnWR9",
        "outputId": "231ea5f6-bd4a-4a2e-c64a-9d61d6982c2f"
      },
      "outputs": [
        {
          "name": "stderr",
          "output_type": "stream",
          "text": [
            "<ipython-input-3-3d0591096b08>:1: DtypeWarning: Columns (2,4,9,26) have mixed types. Specify dtype option on import or set low_memory=False.\n",
            "  Actuarial_claims=pd.read_csv(\"Actuarial.csv\")\n"
          ]
        }
      ],
      "source": [
        "Actuarial_claims=pd.read_csv(\"Actuarial.csv\")"
      ]
    },
    {
      "cell_type": "code",
      "execution_count": null,
      "metadata": {
        "id": "hAjNBX9qn3cT"
      },
      "outputs": [],
      "source": [
        "Actuarial_claims_unique_id=Actuarial_claims[['PolPcId', 'cltname_x', 'ClientPinNumber',\n",
        "       'OriginalAttachmentDate','Department', 'BranchName_x']]"
      ]
    },
    {
      "cell_type": "code",
      "execution_count": null,
      "metadata": {
        "colab": {
          "base_uri": "https://localhost:8080/"
        },
        "id": "KQJbuNlRzwC2",
        "outputId": "77736dd9-9192-42c8-ad7f-7be6f6c4c321"
      },
      "outputs": [
        {
          "name": "stderr",
          "output_type": "stream",
          "text": [
            "<ipython-input-5-01fc80ee5cd3>:2: SettingWithCopyWarning: \n",
            "A value is trying to be set on a copy of a slice from a DataFrame.\n",
            "Try using .loc[row_indexer,col_indexer] = value instead\n",
            "\n",
            "See the caveats in the documentation: https://pandas.pydata.org/pandas-docs/stable/user_guide/indexing.html#returning-a-view-versus-a-copy\n",
            "  x[\"cltname_x\"]=x[\"cltname_x\"].apply(str.lower)\n",
            "<ipython-input-5-01fc80ee5cd3>:3: SettingWithCopyWarning: \n",
            "A value is trying to be set on a copy of a slice from a DataFrame.\n",
            "Try using .loc[row_indexer,col_indexer] = value instead\n",
            "\n",
            "See the caveats in the documentation: https://pandas.pydata.org/pandas-docs/stable/user_guide/indexing.html#returning-a-view-versus-a-copy\n",
            "  x[\"Department\"]=x[\"Department\"].apply(str.lower)\n",
            "<ipython-input-5-01fc80ee5cd3>:4: SettingWithCopyWarning: \n",
            "A value is trying to be set on a copy of a slice from a DataFrame.\n",
            "Try using .loc[row_indexer,col_indexer] = value instead\n",
            "\n",
            "See the caveats in the documentation: https://pandas.pydata.org/pandas-docs/stable/user_guide/indexing.html#returning-a-view-versus-a-copy\n",
            "  x[\"BranchName_x\"]=x[\"BranchName_x\"].apply(str.lower)\n",
            "<ipython-input-5-01fc80ee5cd3>:11: SettingWithCopyWarning: \n",
            "A value is trying to be set on a copy of a slice from a DataFrame.\n",
            "Try using .loc[row_indexer,col_indexer] = value instead\n",
            "\n",
            "See the caveats in the documentation: https://pandas.pydata.org/pandas-docs/stable/user_guide/indexing.html#returning-a-view-versus-a-copy\n",
            "  x[\"cltname_x\"]=x[\"cltname_x\"].apply(lambda y: re.sub('[\">\",\",\",\"/\",\".\",\"-\",\"?\",\")\",\"(\",\"-\"]', ' ', y))\n",
            "<ipython-input-5-01fc80ee5cd3>:12: SettingWithCopyWarning: \n",
            "A value is trying to be set on a copy of a slice from a DataFrame.\n",
            "Try using .loc[row_indexer,col_indexer] = value instead\n",
            "\n",
            "See the caveats in the documentation: https://pandas.pydata.org/pandas-docs/stable/user_guide/indexing.html#returning-a-view-versus-a-copy\n",
            "  x[\"BranchName_x\"]=x[\"BranchName_x\"].apply(lambda y: re.sub('[\">\",\",\",\"/\",\".\",\"-\",\"?\",\")\",\"(\",\"-\"]', ' ', y))\n",
            "<ipython-input-5-01fc80ee5cd3>:18: SettingWithCopyWarning: \n",
            "A value is trying to be set on a copy of a slice from a DataFrame.\n",
            "Try using .loc[row_indexer,col_indexer] = value instead\n",
            "\n",
            "See the caveats in the documentation: https://pandas.pydata.org/pandas-docs/stable/user_guide/indexing.html#returning-a-view-versus-a-copy\n",
            "  x[\"cltname_x\"]=x[\"cltname_x\"].str.strip()\n",
            "<ipython-input-5-01fc80ee5cd3>:19: SettingWithCopyWarning: \n",
            "A value is trying to be set on a copy of a slice from a DataFrame.\n",
            "Try using .loc[row_indexer,col_indexer] = value instead\n",
            "\n",
            "See the caveats in the documentation: https://pandas.pydata.org/pandas-docs/stable/user_guide/indexing.html#returning-a-view-versus-a-copy\n",
            "  x[\"Department\"]=x[\"Department\"].str.strip()\n",
            "<ipython-input-5-01fc80ee5cd3>:20: SettingWithCopyWarning: \n",
            "A value is trying to be set on a copy of a slice from a DataFrame.\n",
            "Try using .loc[row_indexer,col_indexer] = value instead\n",
            "\n",
            "See the caveats in the documentation: https://pandas.pydata.org/pandas-docs/stable/user_guide/indexing.html#returning-a-view-versus-a-copy\n",
            "  x[\"BranchName_x\"]=x[\"BranchName_x\"].str.strip()\n",
            "<ipython-input-5-01fc80ee5cd3>:21: SettingWithCopyWarning: \n",
            "A value is trying to be set on a copy of a slice from a DataFrame.\n",
            "Try using .loc[row_indexer,col_indexer] = value instead\n",
            "\n",
            "See the caveats in the documentation: https://pandas.pydata.org/pandas-docs/stable/user_guide/indexing.html#returning-a-view-versus-a-copy\n",
            "  x[\"ClientPinNumber\"]= x[\"ClientPinNumber\"].str.strip()\n"
          ]
        }
      ],
      "source": [
        "def lower_case(x):\n",
        "  x[\"cltname_x\"]=x[\"cltname_x\"].apply(str.lower)\n",
        "  x[\"Department\"]=x[\"Department\"].apply(str.lower)\n",
        "  x[\"BranchName_x\"]=x[\"BranchName_x\"].apply(str.lower)\n",
        "  return x\n",
        "\n",
        "Actuarial_claims_unique_id2=lower_case(Actuarial_claims_unique_id)\n",
        "\n",
        "import re\n",
        "def remove_dirt(x):\n",
        "  x[\"cltname_x\"]=x[\"cltname_x\"].apply(lambda y: re.sub('[\">\",\",\",\"/\",\".\",\"-\",\"?\",\")\",\"(\",\"-\"]', ' ', y))\n",
        "  x[\"BranchName_x\"]=x[\"BranchName_x\"].apply(lambda y: re.sub('[\">\",\",\",\"/\",\".\",\"-\",\"?\",\")\",\"(\",\"-\"]', ' ', y))\n",
        "  return x\n",
        "\n",
        "Actuarial_claims_unique_id3=remove_dirt(Actuarial_claims_unique_id2)\n",
        "\n",
        "def remove_trailing(x):\n",
        "  x[\"cltname_x\"]=x[\"cltname_x\"].str.strip()\n",
        "  x[\"Department\"]=x[\"Department\"].str.strip()\n",
        "  x[\"BranchName_x\"]=x[\"BranchName_x\"].str.strip()\n",
        "  x[\"ClientPinNumber\"]= x[\"ClientPinNumber\"].str.strip()\n",
        "  return x\n",
        "Actuarial_claims_unique_id4=remove_trailing(Actuarial_claims_unique_id3)\n"
      ]
    },
    {
      "cell_type": "code",
      "execution_count": null,
      "metadata": {
        "colab": {
          "base_uri": "https://localhost:8080/"
        },
        "id": "sR265tSd8C4V",
        "outputId": "ac1df808-c24b-4034-ff0f-4f69581394e5"
      },
      "outputs": [
        {
          "name": "stderr",
          "output_type": "stream",
          "text": [
            "<ipython-input-6-12ae5a98a46e>:3: SettingWithCopyWarning: \n",
            "A value is trying to be set on a copy of a slice from a DataFrame.\n",
            "Try using .loc[row_indexer,col_indexer] = value instead\n",
            "\n",
            "See the caveats in the documentation: https://pandas.pydata.org/pandas-docs/stable/user_guide/indexing.html#returning-a-view-versus-a-copy\n",
            "  x[\"cltname_x\"]=x[\"cltname_x\"].replace('', np.nan)\n",
            "<ipython-input-6-12ae5a98a46e>:4: SettingWithCopyWarning: \n",
            "A value is trying to be set on a copy of a slice from a DataFrame.\n",
            "Try using .loc[row_indexer,col_indexer] = value instead\n",
            "\n",
            "See the caveats in the documentation: https://pandas.pydata.org/pandas-docs/stable/user_guide/indexing.html#returning-a-view-versus-a-copy\n",
            "  x[\"Department\"]=x[\"Department\"].replace('', np.nan)\n",
            "<ipython-input-6-12ae5a98a46e>:5: SettingWithCopyWarning: \n",
            "A value is trying to be set on a copy of a slice from a DataFrame.\n",
            "Try using .loc[row_indexer,col_indexer] = value instead\n",
            "\n",
            "See the caveats in the documentation: https://pandas.pydata.org/pandas-docs/stable/user_guide/indexing.html#returning-a-view-versus-a-copy\n",
            "  x[\"BranchName_x\"]=x[\"BranchName_x\"].replace('', np.nan)\n",
            "<ipython-input-6-12ae5a98a46e>:6: SettingWithCopyWarning: \n",
            "A value is trying to be set on a copy of a slice from a DataFrame.\n",
            "Try using .loc[row_indexer,col_indexer] = value instead\n",
            "\n",
            "See the caveats in the documentation: https://pandas.pydata.org/pandas-docs/stable/user_guide/indexing.html#returning-a-view-versus-a-copy\n",
            "  x[\"OriginalAttachmentDate\"]= x[\"OriginalAttachmentDate\"].replace('', np.nan)\n"
          ]
        }
      ],
      "source": [
        "# fILL MISSING Values with nan\n",
        "def replace_to_null(x):\n",
        "  x[\"cltname_x\"]=x[\"cltname_x\"].replace('', np.nan)\n",
        "  x[\"Department\"]=x[\"Department\"].replace('', np.nan)\n",
        "  x[\"BranchName_x\"]=x[\"BranchName_x\"].replace('', np.nan)\n",
        "  x[\"OriginalAttachmentDate\"]= x[\"OriginalAttachmentDate\"].replace('', np.nan)\n",
        "  return x\n",
        "Actuarial_claims_unique_id5=replace_to_null(Actuarial_claims_unique_id4)"
      ]
    },
    {
      "cell_type": "code",
      "execution_count": null,
      "metadata": {
        "colab": {
          "base_uri": "https://localhost:8080/"
        },
        "id": "SGuMeDcdrfRd",
        "outputId": "8ed6ced8-fcce-494b-ea0b-187f2278ad2b"
      },
      "outputs": [
        {
          "name": "stdout",
          "output_type": "stream",
          "text": [
            "<class 'pandas.core.frame.DataFrame'>\n",
            "RangeIndex: 356310 entries, 0 to 356309\n",
            "Data columns (total 7 columns):\n",
            " #   Column                  Non-Null Count   Dtype \n",
            "---  ------                  --------------   ----- \n",
            " 0   PolPcId                 356310 non-null  int64 \n",
            " 1   cltname_x               356310 non-null  object\n",
            " 2   ClientPinNumber         310024 non-null  object\n",
            " 3   OriginalAttachmentDate  355324 non-null  object\n",
            " 4   Department              356310 non-null  object\n",
            " 5   BranchName_x            356310 non-null  object\n",
            " 6   unique_id               356310 non-null  int64 \n",
            "dtypes: int64(2), object(5)\n",
            "memory usage: 19.0+ MB\n"
          ]
        }
      ],
      "source": [
        "Actuarial_claims_unique_id6 = Actuarial_claims_unique_id5.replace(r'^\\s*$', np.nan, regex=True)\n",
        "Actuarial_claims_unique_id6 = Actuarial_claims_unique_id6.assign(unique_id=range(len(Actuarial_claims_unique_id6)))\n",
        "Actuarial_claims_unique_id6.info()"
      ]
    },
    {
      "cell_type": "code",
      "execution_count": null,
      "metadata": {
        "id": "kbIyS86dhlm7"
      },
      "outputs": [],
      "source": [
        "Actuarial_claims_unique_id6.to_csv(\"Actuarial_claims_unique_id6.csv\")"
      ]
    },
    {
      "cell_type": "markdown",
      "metadata": {
        "id": "GgfWqkacolQ1"
      },
      "source": [
        "#Data deduplication using splink"
      ]
    },
    {
      "cell_type": "code",
      "execution_count": null,
      "metadata": {
        "colab": {
          "base_uri": "https://localhost:8080/"
        },
        "id": "dUxGu-dMoiLE",
        "outputId": "13630c53-dea2-4bd6-9fa5-9dda1ed65742"
      },
      "outputs": [
        {
          "name": "stdout",
          "output_type": "stream",
          "text": [
            "Python 3.10.12\n"
          ]
        }
      ],
      "source": [
        "!python --version"
      ]
    },
    {
      "cell_type": "code",
      "execution_count": null,
      "metadata": {
        "colab": {
          "base_uri": "https://localhost:8080/"
        },
        "id": "67o-y4WHzE3E",
        "outputId": "c85a553e-f0ff-4ca8-8d0f-baac403627fb"
      },
      "outputs": [
        {
          "name": "stdout",
          "output_type": "stream",
          "text": [
            "Requirement already satisfied: splink in /usr/local/lib/python3.10/dist-packages (3.9.3)\n",
            "Requirement already satisfied: Jinja2>=3.0.3 in /usr/local/lib/python3.10/dist-packages (from splink) (3.1.2)\n",
            "Requirement already satisfied: altair<6.0.0,>=5.0.1 in /usr/local/lib/python3.10/dist-packages (from splink) (5.0.1)\n",
            "Requirement already satisfied: duckdb>=0.6.0 in /usr/local/lib/python3.10/dist-packages (from splink) (0.8.1)\n",
            "Requirement already satisfied: jsonschema<5.0,>=3.2 in /usr/local/lib/python3.10/dist-packages (from splink) (4.3.3)\n",
            "Requirement already satisfied: pandas>=1.0.0 in /usr/local/lib/python3.10/dist-packages (from splink) (1.5.3)\n",
            "Requirement already satisfied: phonetics<2.0.0,>=1.0.5 in /usr/local/lib/python3.10/dist-packages (from splink) (1.0.5)\n",
            "Requirement already satisfied: sqlglot<11.4.2,>=5.1.0 in /usr/local/lib/python3.10/dist-packages (from splink) (11.4.1)\n",
            "Requirement already satisfied: numpy in /usr/local/lib/python3.10/dist-packages (from altair<6.0.0,>=5.0.1->splink) (1.22.4)\n",
            "Requirement already satisfied: toolz in /usr/local/lib/python3.10/dist-packages (from altair<6.0.0,>=5.0.1->splink) (0.12.0)\n",
            "Requirement already satisfied: typing-extensions>=4.0.1 in /usr/local/lib/python3.10/dist-packages (from altair<6.0.0,>=5.0.1->splink) (4.6.3)\n",
            "Requirement already satisfied: MarkupSafe>=2.0 in /usr/local/lib/python3.10/dist-packages (from Jinja2>=3.0.3->splink) (2.1.3)\n",
            "Requirement already satisfied: attrs>=17.4.0 in /usr/local/lib/python3.10/dist-packages (from jsonschema<5.0,>=3.2->splink) (23.1.0)\n",
            "Requirement already satisfied: pyrsistent!=0.17.0,!=0.17.1,!=0.17.2,>=0.14.0 in /usr/local/lib/python3.10/dist-packages (from jsonschema<5.0,>=3.2->splink) (0.19.3)\n",
            "Requirement already satisfied: python-dateutil>=2.8.1 in /usr/local/lib/python3.10/dist-packages (from pandas>=1.0.0->splink) (2.8.2)\n",
            "Requirement already satisfied: pytz>=2020.1 in /usr/local/lib/python3.10/dist-packages (from pandas>=1.0.0->splink) (2022.7.1)\n",
            "Requirement already satisfied: six>=1.5 in /usr/local/lib/python3.10/dist-packages (from python-dateutil>=2.8.1->pandas>=1.0.0->splink) (1.16.0)\n"
          ]
        }
      ],
      "source": [
        "pip install splink"
      ]
    },
    {
      "cell_type": "code",
      "execution_count": null,
      "metadata": {
        "colab": {
          "base_uri": "https://localhost:8080/"
        },
        "id": "L-K8ilOUifyH",
        "outputId": "900f0653-255e-4ba2-9a38-71df19cdf833"
      },
      "outputs": [
        {
          "name": "stdout",
          "output_type": "stream",
          "text": [
            "Requirement already satisfied: altair in /usr/local/lib/python3.10/dist-packages (5.0.1)\n",
            "Requirement already satisfied: vega_datasets in /usr/local/lib/python3.10/dist-packages (0.9.0)\n",
            "Requirement already satisfied: jinja2 in /usr/local/lib/python3.10/dist-packages (from altair) (3.1.2)\n",
            "Requirement already satisfied: jsonschema>=3.0 in /usr/local/lib/python3.10/dist-packages (from altair) (4.3.3)\n",
            "Requirement already satisfied: numpy in /usr/local/lib/python3.10/dist-packages (from altair) (1.22.4)\n",
            "Requirement already satisfied: pandas>=0.18 in /usr/local/lib/python3.10/dist-packages (from altair) (1.5.3)\n",
            "Requirement already satisfied: toolz in /usr/local/lib/python3.10/dist-packages (from altair) (0.12.0)\n",
            "Requirement already satisfied: typing-extensions>=4.0.1 in /usr/local/lib/python3.10/dist-packages (from altair) (4.6.3)\n",
            "Requirement already satisfied: attrs>=17.4.0 in /usr/local/lib/python3.10/dist-packages (from jsonschema>=3.0->altair) (23.1.0)\n",
            "Requirement already satisfied: pyrsistent!=0.17.0,!=0.17.1,!=0.17.2,>=0.14.0 in /usr/local/lib/python3.10/dist-packages (from jsonschema>=3.0->altair) (0.19.3)\n",
            "Requirement already satisfied: python-dateutil>=2.8.1 in /usr/local/lib/python3.10/dist-packages (from pandas>=0.18->altair) (2.8.2)\n",
            "Requirement already satisfied: pytz>=2020.1 in /usr/local/lib/python3.10/dist-packages (from pandas>=0.18->altair) (2022.7.1)\n",
            "Requirement already satisfied: MarkupSafe>=2.0 in /usr/local/lib/python3.10/dist-packages (from jinja2->altair) (2.1.3)\n",
            "Requirement already satisfied: six>=1.5 in /usr/local/lib/python3.10/dist-packages (from python-dateutil>=2.8.1->pandas>=0.18->altair) (1.16.0)\n"
          ]
        }
      ],
      "source": [
        "pip install altair vega_datasets"
      ]
    },
    {
      "cell_type": "code",
      "execution_count": null,
      "metadata": {
        "colab": {
          "base_uri": "https://localhost:8080/"
        },
        "id": "Ed0g8S-03eK1",
        "outputId": "db5ebd25-acce-4944-99a6-dff2dcd7588b"
      },
      "outputs": [
        {
          "name": "stdout",
          "output_type": "stream",
          "text": [
            "Requirement already satisfied: altair_viewer in /usr/local/lib/python3.10/dist-packages (0.4.0)\n",
            "Requirement already satisfied: altair in /usr/local/lib/python3.10/dist-packages (from altair_viewer) (5.0.1)\n",
            "Requirement already satisfied: altair-data-server>=0.4.0 in /usr/local/lib/python3.10/dist-packages (from altair_viewer) (0.4.1)\n",
            "Requirement already satisfied: portpicker in /usr/local/lib/python3.10/dist-packages (from altair-data-server>=0.4.0->altair_viewer) (1.5.2)\n",
            "Requirement already satisfied: tornado in /usr/local/lib/python3.10/dist-packages (from altair-data-server>=0.4.0->altair_viewer) (6.3.1)\n",
            "Requirement already satisfied: jinja2 in /usr/local/lib/python3.10/dist-packages (from altair->altair_viewer) (3.1.2)\n",
            "Requirement already satisfied: jsonschema>=3.0 in /usr/local/lib/python3.10/dist-packages (from altair->altair_viewer) (4.3.3)\n",
            "Requirement already satisfied: numpy in /usr/local/lib/python3.10/dist-packages (from altair->altair_viewer) (1.22.4)\n",
            "Requirement already satisfied: pandas>=0.18 in /usr/local/lib/python3.10/dist-packages (from altair->altair_viewer) (1.5.3)\n",
            "Requirement already satisfied: toolz in /usr/local/lib/python3.10/dist-packages (from altair->altair_viewer) (0.12.0)\n",
            "Requirement already satisfied: typing-extensions>=4.0.1 in /usr/local/lib/python3.10/dist-packages (from altair->altair_viewer) (4.6.3)\n",
            "Requirement already satisfied: attrs>=17.4.0 in /usr/local/lib/python3.10/dist-packages (from jsonschema>=3.0->altair->altair_viewer) (23.1.0)\n",
            "Requirement already satisfied: pyrsistent!=0.17.0,!=0.17.1,!=0.17.2,>=0.14.0 in /usr/local/lib/python3.10/dist-packages (from jsonschema>=3.0->altair->altair_viewer) (0.19.3)\n",
            "Requirement already satisfied: python-dateutil>=2.8.1 in /usr/local/lib/python3.10/dist-packages (from pandas>=0.18->altair->altair_viewer) (2.8.2)\n",
            "Requirement already satisfied: pytz>=2020.1 in /usr/local/lib/python3.10/dist-packages (from pandas>=0.18->altair->altair_viewer) (2022.7.1)\n",
            "Requirement already satisfied: MarkupSafe>=2.0 in /usr/local/lib/python3.10/dist-packages (from jinja2->altair->altair_viewer) (2.1.3)\n",
            "Requirement already satisfied: psutil in /usr/local/lib/python3.10/dist-packages (from portpicker->altair-data-server>=0.4.0->altair_viewer) (5.9.5)\n",
            "Requirement already satisfied: six>=1.5 in /usr/local/lib/python3.10/dist-packages (from python-dateutil>=2.8.1->pandas>=0.18->altair->altair_viewer) (1.16.0)\n"
          ]
        }
      ],
      "source": [
        "pip install altair_viewer"
      ]
    },
    {
      "cell_type": "code",
      "execution_count": null,
      "metadata": {
        "colab": {
          "base_uri": "https://localhost:8080/"
        },
        "id": "o7NmtPbJ1maA",
        "outputId": "e311fa9a-efe1-4c8a-a3d4-0bf28a5147a5"
      },
      "outputs": [
        {
          "data": {
            "text/plain": [
              "RendererRegistry.enable('mimetype')"
            ]
          },
          "execution_count": 11,
          "metadata": {},
          "output_type": "execute_result"
        }
      ],
      "source": [
        "import pandas as pd\n",
        "import altair as alt\n",
        "alt.renderers.enable('mimetype')"
      ]
    },
    {
      "cell_type": "code",
      "execution_count": null,
      "metadata": {
        "colab": {
          "base_uri": "https://localhost:8080/"
        },
        "id": "fKW6gUZYu77r",
        "outputId": "e6470ca8-45d5-440f-9cc9-39efe2df4065"
      },
      "outputs": [
        {
          "data": {
            "text/plain": [
              "RendererRegistry.enable('default')"
            ]
          },
          "execution_count": 12,
          "metadata": {},
          "output_type": "execute_result"
        }
      ],
      "source": [
        "import altair as alt\n",
        "alt.renderers.enable('default')"
      ]
    },
    {
      "cell_type": "code",
      "execution_count": null,
      "metadata": {
        "id": "nFFGwKuDxPXS"
      },
      "outputs": [],
      "source": [
        "#pip install git+git://github.com/altair-viz/altair.git\n",
        "#pip install git+git://github.com/altair-viz/altair_viewer.git\n",
        "#import altair as alt\n",
        "#alt.renderers.enable('altair_viewer')"
      ]
    },
    {
      "cell_type": "markdown",
      "metadata": {
        "id": "gY-SDU1l2B4d"
      },
      "source": [
        "## **Deduplicating with Splink**"
      ]
    },
    {
      "cell_type": "code",
      "execution_count": null,
      "metadata": {
        "id": "AkngVXm_1_3I"
      },
      "outputs": [],
      "source": [
        "# Initialise the linker, passing in the input dataset(s)\n",
        "from splink.duckdb.linker import DuckDBLinker\n",
        "linker = DuckDBLinker(Actuarial_claims_unique_id6)"
      ]
    },
    {
      "cell_type": "markdown",
      "metadata": {
        "id": "Co0npGCg5eSa"
      },
      "source": [
        "# Explaratory Analysis"
      ]
    },
    {
      "cell_type": "code",
      "execution_count": null,
      "metadata": {
        "colab": {
          "base_uri": "https://localhost:8080/",
          "height": 296
        },
        "id": "akZ0CSaQ2Qgl",
        "outputId": "db392ed1-9f41-472c-e67b-da82aedecd10"
      },
      "outputs": [
        {
          "name": "stderr",
          "output_type": "stream",
          "text": [
            "/usr/local/lib/python3.10/dist-packages/ipykernel/ipkernel.py:283: DeprecationWarning: `should_run_async` will not call `transform_cell` automatically in the future. Please pass the result to `transformed_cell` argument and any exception that happen during thetransform in `preprocessing_exc_tuple` in IPython 7.17 and above.\n",
            "  and should_run_async(code)\n"
          ]
        },
        {
          "data": {
            "text/html": [
              "\n",
              "<style>\n",
              "  #altair-viz-b957c979193447ada9fc7c5687a2e464.vega-embed {\n",
              "    width: 100%;\n",
              "    display: flex;\n",
              "  }\n",
              "\n",
              "  #altair-viz-b957c979193447ada9fc7c5687a2e464.vega-embed details,\n",
              "  #altair-viz-b957c979193447ada9fc7c5687a2e464.vega-embed details summary {\n",
              "    position: relative;\n",
              "  }\n",
              "</style>\n",
              "<div id=\"altair-viz-b957c979193447ada9fc7c5687a2e464\"></div>\n",
              "<script type=\"text/javascript\">\n",
              "  var VEGA_DEBUG = (typeof VEGA_DEBUG == \"undefined\") ? {} : VEGA_DEBUG;\n",
              "  (function(spec, embedOpt){\n",
              "    let outputDiv = document.currentScript.previousElementSibling;\n",
              "    if (outputDiv.id !== \"altair-viz-b957c979193447ada9fc7c5687a2e464\") {\n",
              "      outputDiv = document.getElementById(\"altair-viz-b957c979193447ada9fc7c5687a2e464\");\n",
              "    }\n",
              "    const paths = {\n",
              "      \"vega\": \"https://cdn.jsdelivr.net/npm/vega@5?noext\",\n",
              "      \"vega-lib\": \"https://cdn.jsdelivr.net/npm/vega-lib?noext\",\n",
              "      \"vega-lite\": \"https://cdn.jsdelivr.net/npm/vega-lite@5.8.0?noext\",\n",
              "      \"vega-embed\": \"https://cdn.jsdelivr.net/npm/vega-embed@6?noext\",\n",
              "    };\n",
              "\n",
              "    function maybeLoadScript(lib, version) {\n",
              "      var key = `${lib.replace(\"-\", \"\")}_version`;\n",
              "      return (VEGA_DEBUG[key] == version) ?\n",
              "        Promise.resolve(paths[lib]) :\n",
              "        new Promise(function(resolve, reject) {\n",
              "          var s = document.createElement('script');\n",
              "          document.getElementsByTagName(\"head\")[0].appendChild(s);\n",
              "          s.async = true;\n",
              "          s.onload = () => {\n",
              "            VEGA_DEBUG[key] = version;\n",
              "            return resolve(paths[lib]);\n",
              "          };\n",
              "          s.onerror = () => reject(`Error loading script: ${paths[lib]}`);\n",
              "          s.src = paths[lib];\n",
              "        });\n",
              "    }\n",
              "\n",
              "    function showError(err) {\n",
              "      outputDiv.innerHTML = `<div class=\"error\" style=\"color:red;\">${err}</div>`;\n",
              "      throw err;\n",
              "    }\n",
              "\n",
              "    function displayChart(vegaEmbed) {\n",
              "      vegaEmbed(outputDiv, spec, embedOpt)\n",
              "        .catch(err => showError(`Javascript Error: ${err.message}<br>This usually means there's a typo in your chart specification. See the javascript console for the full traceback.`));\n",
              "    }\n",
              "\n",
              "    if(typeof define === \"function\" && define.amd) {\n",
              "      requirejs.config({paths});\n",
              "      require([\"vega-embed\"], displayChart, err => showError(`Error loading script: ${err.message}`));\n",
              "    } else {\n",
              "      maybeLoadScript(\"vega\", \"5\")\n",
              "        .then(() => maybeLoadScript(\"vega-lite\", \"5.8.0\"))\n",
              "        .then(() => maybeLoadScript(\"vega-embed\", \"6\"))\n",
              "        .catch(showError)\n",
              "        .then(() => displayChart(vegaEmbed));\n",
              "    }\n",
              "  })({\"config\": {\"view\": {\"continuousWidth\": 400, \"continuousHeight\": 300}, \"axis\": {\"labelFontSize\": 11}}, \"layer\": [{\"mark\": \"bar\", \"encoding\": {\"color\": {\"field\": \"null_proportion\", \"legend\": {\"format\": \".0%\"}, \"scale\": {\"range\": \"heatmap\"}, \"title\": \"Missingness\", \"type\": \"quantitative\"}, \"tooltip\": [{\"field\": \"column_name\", \"title\": \"Column\", \"type\": \"nominal\"}, {\"field\": \"null_count\", \"format\": \",.0f\", \"title\": \"Count of nulls\", \"type\": \"quantitative\"}, {\"field\": \"null_proportion\", \"format\": \".2%\", \"title\": \"Percentage of nulls\", \"type\": \"quantitative\"}, {\"field\": \"total_record_count\", \"format\": \",.0f\", \"title\": \"Total record count\", \"type\": \"quantitative\"}], \"x\": {\"axis\": {\"format\": \"%\", \"title\": \"Percentage of nulls\"}, \"field\": \"null_proportion\", \"type\": \"quantitative\"}, \"y\": {\"axis\": {\"title\": \"\"}, \"field\": \"column_name\", \"sort\": \"-x\", \"type\": \"nominal\"}}, \"title\": \"Missingness per column out of 356,310 records\"}], \"data\": {\"values\": [{\"null_proportion\": 0.0, \"null_count\": 0, \"total_record_count\": 356310, \"column_name\": \"None\"}, {\"null_proportion\": 0.0, \"null_count\": 0, \"total_record_count\": 356310, \"column_name\": \"PolPcId\"}, {\"null_proportion\": 0.0, \"null_count\": 0, \"total_record_count\": 356310, \"column_name\": \"cltname_x\"}, {\"null_proportion\": 0.12990373373031616, \"null_count\": 46286, \"total_record_count\": 356310, \"column_name\": \"ClientPinNumber\"}, {\"null_proportion\": 0.0027672648429870605, \"null_count\": 986, \"total_record_count\": 356310, \"column_name\": \"OriginalAttachmentDate\"}, {\"null_proportion\": 0.0, \"null_count\": 0, \"total_record_count\": 356310, \"column_name\": \"Department\"}, {\"null_proportion\": 0.0, \"null_count\": 0, \"total_record_count\": 356310, \"column_name\": \"BranchName_x\"}, {\"null_proportion\": 0.0, \"null_count\": 0, \"total_record_count\": 356310, \"column_name\": \"unique_id\"}], \"name\": \"data-0e7bce5a1d2f132e282789d6ef7780fe\"}, \"title\": \"\", \"$schema\": \"https://vega.github.io/schema/vega-lite/v5.9.3.json\"}, {\"mode\": \"vega-lite\"});\n",
              "</script>"
            ],
            "text/plain": [
              "alt.LayerChart(...)"
            ]
          },
          "execution_count": 14,
          "metadata": {},
          "output_type": "execute_result"
        }
      ],
      "source": [
        "linker.missingness_chart()"
      ]
    },
    {
      "cell_type": "code",
      "execution_count": null,
      "metadata": {
        "colab": {
          "base_uri": "https://localhost:8080/"
        },
        "id": "0MqMCyvK5upE",
        "outputId": "0e005511-6767-4b9c-d08f-15a4c5257363"
      },
      "outputs": [
        {
          "name": "stderr",
          "output_type": "stream",
          "text": [
            "/usr/local/lib/python3.10/dist-packages/ipykernel/ipkernel.py:283: DeprecationWarning: `should_run_async` will not call `transform_cell` automatically in the future. Please pass the result to `transformed_cell` argument and any exception that happen during thetransform in `preprocessing_exc_tuple` in IPython 7.17 and above.\n",
            "  and should_run_async(code)\n"
          ]
        },
        {
          "data": {
            "text/plain": [
              "Index(['PolPcId', 'cltname_x', 'ClientPinNumber', 'OriginalAttachmentDate',\n",
              "       'Department', 'BranchName_x', 'unique_id'],\n",
              "      dtype='object')"
            ]
          },
          "execution_count": 15,
          "metadata": {},
          "output_type": "execute_result"
        }
      ],
      "source": [
        "Actuarial_claims_unique_id6.columns"
      ]
    },
    {
      "cell_type": "code",
      "execution_count": null,
      "metadata": {
        "colab": {
          "base_uri": "https://localhost:8080/",
          "height": 1000
        },
        "id": "GHRnvncd5oFB",
        "outputId": "d10e2286-653c-40bc-ff46-54a16bf94e75"
      },
      "outputs": [
        {
          "name": "stderr",
          "output_type": "stream",
          "text": [
            "/usr/local/lib/python3.10/dist-packages/ipykernel/ipkernel.py:283: DeprecationWarning: `should_run_async` will not call `transform_cell` automatically in the future. Please pass the result to `transformed_cell` argument and any exception that happen during thetransform in `preprocessing_exc_tuple` in IPython 7.17 and above.\n",
            "  and should_run_async(code)\n"
          ]
        },
        {
          "data": {
            "text/html": [
              "\n",
              "<style>\n",
              "  #altair-viz-5545acd60dea4441952ca9217f64da2e.vega-embed {\n",
              "    width: 100%;\n",
              "    display: flex;\n",
              "  }\n",
              "\n",
              "  #altair-viz-5545acd60dea4441952ca9217f64da2e.vega-embed details,\n",
              "  #altair-viz-5545acd60dea4441952ca9217f64da2e.vega-embed details summary {\n",
              "    position: relative;\n",
              "  }\n",
              "</style>\n",
              "<div id=\"altair-viz-5545acd60dea4441952ca9217f64da2e\"></div>\n",
              "<script type=\"text/javascript\">\n",
              "  var VEGA_DEBUG = (typeof VEGA_DEBUG == \"undefined\") ? {} : VEGA_DEBUG;\n",
              "  (function(spec, embedOpt){\n",
              "    let outputDiv = document.currentScript.previousElementSibling;\n",
              "    if (outputDiv.id !== \"altair-viz-5545acd60dea4441952ca9217f64da2e\") {\n",
              "      outputDiv = document.getElementById(\"altair-viz-5545acd60dea4441952ca9217f64da2e\");\n",
              "    }\n",
              "    const paths = {\n",
              "      \"vega\": \"https://cdn.jsdelivr.net/npm/vega@5?noext\",\n",
              "      \"vega-lib\": \"https://cdn.jsdelivr.net/npm/vega-lib?noext\",\n",
              "      \"vega-lite\": \"https://cdn.jsdelivr.net/npm/vega-lite@5.8.0?noext\",\n",
              "      \"vega-embed\": \"https://cdn.jsdelivr.net/npm/vega-embed@6?noext\",\n",
              "    };\n",
              "\n",
              "    function maybeLoadScript(lib, version) {\n",
              "      var key = `${lib.replace(\"-\", \"\")}_version`;\n",
              "      return (VEGA_DEBUG[key] == version) ?\n",
              "        Promise.resolve(paths[lib]) :\n",
              "        new Promise(function(resolve, reject) {\n",
              "          var s = document.createElement('script');\n",
              "          document.getElementsByTagName(\"head\")[0].appendChild(s);\n",
              "          s.async = true;\n",
              "          s.onload = () => {\n",
              "            VEGA_DEBUG[key] = version;\n",
              "            return resolve(paths[lib]);\n",
              "          };\n",
              "          s.onerror = () => reject(`Error loading script: ${paths[lib]}`);\n",
              "          s.src = paths[lib];\n",
              "        });\n",
              "    }\n",
              "\n",
              "    function showError(err) {\n",
              "      outputDiv.innerHTML = `<div class=\"error\" style=\"color:red;\">${err}</div>`;\n",
              "      throw err;\n",
              "    }\n",
              "\n",
              "    function displayChart(vegaEmbed) {\n",
              "      vegaEmbed(outputDiv, spec, embedOpt)\n",
              "        .catch(err => showError(`Javascript Error: ${err.message}<br>This usually means there's a typo in your chart specification. See the javascript console for the full traceback.`));\n",
              "    }\n",
              "\n",
              "    if(typeof define === \"function\" && define.amd) {\n",
              "      requirejs.config({paths});\n",
              "      require([\"vega-embed\"], displayChart, err => showError(`Error loading script: ${err.message}`));\n",
              "    } else {\n",
              "      maybeLoadScript(\"vega\", \"5\")\n",
              "        .then(() => maybeLoadScript(\"vega-lite\", \"5.8.0\"))\n",
              "        .then(() => maybeLoadScript(\"vega-embed\", \"6\"))\n",
              "        .catch(showError)\n",
              "        .then(() => displayChart(vegaEmbed));\n",
              "    }\n",
              "  })({\"config\": {\"view\": {\"continuousWidth\": 400, \"continuousHeight\": 300}}, \"vconcat\": [{\"hconcat\": [{\"mark\": {\"type\": \"line\", \"interpolate\": \"step-after\"}, \"data\": {\"values\": [{\"percentile_ex_nulls\": 0.9981729388237, \"percentile_inc_nulls\": 0.9981729388237, \"value_count\": 651, \"group_name\": \"cltname_x\", \"total_non_null_rows\": 356310, \"total_rows_inc_nulls\": 356310, \"sum_tokens_in_value_count_group\": 651.0, \"distinct_value_count\": 82423}, {\"percentile_ex_nulls\": 0.9964777827262878, \"percentile_inc_nulls\": 0.9964777827262878, \"value_count\": 604, \"group_name\": \"cltname_x\", \"total_non_null_rows\": 356310, \"total_rows_inc_nulls\": 356310, \"sum_tokens_in_value_count_group\": 604.0, \"distinct_value_count\": 82423}, {\"percentile_ex_nulls\": 0.9951193928718567, \"percentile_inc_nulls\": 0.9951193928718567, \"value_count\": 484, \"group_name\": \"cltname_x\", \"total_non_null_rows\": 356310, \"total_rows_inc_nulls\": 356310, \"sum_tokens_in_value_count_group\": 484.0, \"distinct_value_count\": 82423}, {\"percentile_ex_nulls\": 0.9941399097442627, \"percentile_inc_nulls\": 0.9941399097442627, \"value_count\": 349, \"group_name\": \"cltname_x\", \"total_non_null_rows\": 356310, \"total_rows_inc_nulls\": 356310, \"sum_tokens_in_value_count_group\": 349.0, \"distinct_value_count\": 82423}, {\"percentile_ex_nulls\": 0.9933653473854065, \"percentile_inc_nulls\": 0.9933653473854065, \"value_count\": 276, \"group_name\": \"cltname_x\", \"total_non_null_rows\": 356310, \"total_rows_inc_nulls\": 356310, \"sum_tokens_in_value_count_group\": 276.0, \"distinct_value_count\": 82423}, {\"percentile_ex_nulls\": 0.9926244020462036, \"percentile_inc_nulls\": 0.9926244020462036, \"value_count\": 264, \"group_name\": \"cltname_x\", \"total_non_null_rows\": 356310, \"total_rows_inc_nulls\": 356310, \"sum_tokens_in_value_count_group\": 264.0, \"distinct_value_count\": 82423}, {\"percentile_ex_nulls\": 0.9919480085372925, \"percentile_inc_nulls\": 0.9919480085372925, \"value_count\": 241, \"group_name\": \"cltname_x\", \"total_non_null_rows\": 356310, \"total_rows_inc_nulls\": 356310, \"sum_tokens_in_value_count_group\": 241.0, \"distinct_value_count\": 82423}, {\"percentile_ex_nulls\": 0.9912884831428528, \"percentile_inc_nulls\": 0.9912884831428528, \"value_count\": 235, \"group_name\": \"cltname_x\", \"total_non_null_rows\": 356310, \"total_rows_inc_nulls\": 356310, \"sum_tokens_in_value_count_group\": 235.0, \"distinct_value_count\": 82423}, {\"percentile_ex_nulls\": 0.9906457662582397, \"percentile_inc_nulls\": 0.9906457662582397, \"value_count\": 229, \"group_name\": \"cltname_x\", \"total_non_null_rows\": 356310, \"total_rows_inc_nulls\": 356310, \"sum_tokens_in_value_count_group\": 229.0, \"distinct_value_count\": 82423}, {\"percentile_ex_nulls\": 0.9900199174880981, \"percentile_inc_nulls\": 0.9900199174880981, \"value_count\": 223, \"group_name\": \"cltname_x\", \"total_non_null_rows\": 356310, \"total_rows_inc_nulls\": 356310, \"sum_tokens_in_value_count_group\": 223.0, \"distinct_value_count\": 82423}, {\"percentile_ex_nulls\": 0.9894052743911743, \"percentile_inc_nulls\": 0.9894052743911743, \"value_count\": 219, \"group_name\": \"cltname_x\", \"total_non_null_rows\": 356310, \"total_rows_inc_nulls\": 356310, \"sum_tokens_in_value_count_group\": 219.0, \"distinct_value_count\": 82423}, {\"percentile_ex_nulls\": 0.9888074994087219, \"percentile_inc_nulls\": 0.9888074994087219, \"value_count\": 213, \"group_name\": \"cltname_x\", \"total_non_null_rows\": 356310, \"total_rows_inc_nulls\": 356310, \"sum_tokens_in_value_count_group\": 213.0, \"distinct_value_count\": 82423}, {\"percentile_ex_nulls\": 0.9876343607902527, \"percentile_inc_nulls\": 0.9876343607902527, \"value_count\": 209, \"group_name\": \"cltname_x\", \"total_non_null_rows\": 356310, \"total_rows_inc_nulls\": 356310, \"sum_tokens_in_value_count_group\": 418.0, \"distinct_value_count\": 82423}, {\"percentile_ex_nulls\": 0.9870618581771851, \"percentile_inc_nulls\": 0.9870618581771851, \"value_count\": 204, \"group_name\": \"cltname_x\", \"total_non_null_rows\": 356310, \"total_rows_inc_nulls\": 356310, \"sum_tokens_in_value_count_group\": 204.0, \"distinct_value_count\": 82423}, {\"percentile_ex_nulls\": 0.9864920973777771, \"percentile_inc_nulls\": 0.9864920973777771, \"value_count\": 203, \"group_name\": \"cltname_x\", \"total_non_null_rows\": 356310, \"total_rows_inc_nulls\": 356310, \"sum_tokens_in_value_count_group\": 203.0, \"distinct_value_count\": 82423}, {\"percentile_ex_nulls\": 0.9859532713890076, \"percentile_inc_nulls\": 0.9859532713890076, \"value_count\": 192, \"group_name\": \"cltname_x\", \"total_non_null_rows\": 356310, \"total_rows_inc_nulls\": 356310, \"sum_tokens_in_value_count_group\": 192.0, \"distinct_value_count\": 82423}, {\"percentile_ex_nulls\": 0.9854227900505066, \"percentile_inc_nulls\": 0.9854227900505066, \"value_count\": 189, \"group_name\": \"cltname_x\", \"total_non_null_rows\": 356310, \"total_rows_inc_nulls\": 356310, \"sum_tokens_in_value_count_group\": 189.0, \"distinct_value_count\": 82423}, {\"percentile_ex_nulls\": 0.9848951697349548, \"percentile_inc_nulls\": 0.9848951697349548, \"value_count\": 188, \"group_name\": \"cltname_x\", \"total_non_null_rows\": 356310, \"total_rows_inc_nulls\": 356310, \"sum_tokens_in_value_count_group\": 188.0, \"distinct_value_count\": 82423}, {\"percentile_ex_nulls\": 0.9843703508377075, \"percentile_inc_nulls\": 0.9843703508377075, \"value_count\": 187, \"group_name\": \"cltname_x\", \"total_non_null_rows\": 356310, \"total_rows_inc_nulls\": 356310, \"sum_tokens_in_value_count_group\": 187.0, \"distinct_value_count\": 82423}, {\"percentile_ex_nulls\": 0.983856737613678, \"percentile_inc_nulls\": 0.983856737613678, \"value_count\": 183, \"group_name\": \"cltname_x\", \"total_non_null_rows\": 356310, \"total_rows_inc_nulls\": 356310, \"sum_tokens_in_value_count_group\": 183.0, \"distinct_value_count\": 82423}, {\"percentile_ex_nulls\": 0.983354389667511, \"percentile_inc_nulls\": 0.983354389667511, \"value_count\": 179, \"group_name\": \"cltname_x\", \"total_non_null_rows\": 356310, \"total_rows_inc_nulls\": 356310, \"sum_tokens_in_value_count_group\": 179.0, \"distinct_value_count\": 82423}, {\"percentile_ex_nulls\": 0.9828576445579529, \"percentile_inc_nulls\": 0.9828576445579529, \"value_count\": 177, \"group_name\": \"cltname_x\", \"total_non_null_rows\": 356310, \"total_rows_inc_nulls\": 356310, \"sum_tokens_in_value_count_group\": 177.0, \"distinct_value_count\": 82423}, {\"percentile_ex_nulls\": 0.9813841581344604, \"percentile_inc_nulls\": 0.9813841581344604, \"value_count\": 175, \"group_name\": \"cltname_x\", \"total_non_null_rows\": 356310, \"total_rows_inc_nulls\": 356310, \"sum_tokens_in_value_count_group\": 525.0, \"distinct_value_count\": 82423}, {\"percentile_ex_nulls\": 0.9804075360298157, \"percentile_inc_nulls\": 0.9804075360298157, \"value_count\": 174, \"group_name\": \"cltname_x\", \"total_non_null_rows\": 356310, \"total_rows_inc_nulls\": 356310, \"sum_tokens_in_value_count_group\": 348.0, \"distinct_value_count\": 82423}, {\"percentile_ex_nulls\": 0.9799247980117798, \"percentile_inc_nulls\": 0.9799247980117798, \"value_count\": 172, \"group_name\": \"cltname_x\", \"total_non_null_rows\": 356310, \"total_rows_inc_nulls\": 356310, \"sum_tokens_in_value_count_group\": 172.0, \"distinct_value_count\": 82423}, {\"percentile_ex_nulls\": 0.9794504642486572, \"percentile_inc_nulls\": 0.9794504642486572, \"value_count\": 169, \"group_name\": \"cltname_x\", \"total_non_null_rows\": 356310, \"total_rows_inc_nulls\": 356310, \"sum_tokens_in_value_count_group\": 169.0, \"distinct_value_count\": 82423}, {\"percentile_ex_nulls\": 0.9789901971817017, \"percentile_inc_nulls\": 0.9789901971817017, \"value_count\": 164, \"group_name\": \"cltname_x\", \"total_non_null_rows\": 356310, \"total_rows_inc_nulls\": 356310, \"sum_tokens_in_value_count_group\": 164.0, \"distinct_value_count\": 82423}, {\"percentile_ex_nulls\": 0.9780808687210083, \"percentile_inc_nulls\": 0.9780808687210083, \"value_count\": 162, \"group_name\": \"cltname_x\", \"total_non_null_rows\": 356310, \"total_rows_inc_nulls\": 356310, \"sum_tokens_in_value_count_group\": 324.0, \"distinct_value_count\": 82423}, {\"percentile_ex_nulls\": 0.9776318073272705, \"percentile_inc_nulls\": 0.9776318073272705, \"value_count\": 160, \"group_name\": \"cltname_x\", \"total_non_null_rows\": 356310, \"total_rows_inc_nulls\": 356310, \"sum_tokens_in_value_count_group\": 160.0, \"distinct_value_count\": 82423}, {\"percentile_ex_nulls\": 0.9771996140480042, \"percentile_inc_nulls\": 0.9771996140480042, \"value_count\": 154, \"group_name\": \"cltname_x\", \"total_non_null_rows\": 356310, \"total_rows_inc_nulls\": 356310, \"sum_tokens_in_value_count_group\": 154.0, \"distinct_value_count\": 82423}, {\"percentile_ex_nulls\": 0.9767702221870422, \"percentile_inc_nulls\": 0.9767702221870422, \"value_count\": 153, \"group_name\": \"cltname_x\", \"total_non_null_rows\": 356310, \"total_rows_inc_nulls\": 356310, \"sum_tokens_in_value_count_group\": 153.0, \"distinct_value_count\": 82423}, {\"percentile_ex_nulls\": 0.9759170413017273, \"percentile_inc_nulls\": 0.9759170413017273, \"value_count\": 152, \"group_name\": \"cltname_x\", \"total_non_null_rows\": 356310, \"total_rows_inc_nulls\": 356310, \"sum_tokens_in_value_count_group\": 304.0, \"distinct_value_count\": 82423}, {\"percentile_ex_nulls\": 0.9754932522773743, \"percentile_inc_nulls\": 0.9754932522773743, \"value_count\": 151, \"group_name\": \"cltname_x\", \"total_non_null_rows\": 356310, \"total_rows_inc_nulls\": 356310, \"sum_tokens_in_value_count_group\": 151.0, \"distinct_value_count\": 82423}, {\"percentile_ex_nulls\": 0.9750750660896301, \"percentile_inc_nulls\": 0.9750750660896301, \"value_count\": 149, \"group_name\": \"cltname_x\", \"total_non_null_rows\": 356310, \"total_rows_inc_nulls\": 356310, \"sum_tokens_in_value_count_group\": 149.0, \"distinct_value_count\": 82423}, {\"percentile_ex_nulls\": 0.974670946598053, \"percentile_inc_nulls\": 0.974670946598053, \"value_count\": 144, \"group_name\": \"cltname_x\", \"total_non_null_rows\": 356310, \"total_rows_inc_nulls\": 356310, \"sum_tokens_in_value_count_group\": 144.0, \"distinct_value_count\": 82423}, {\"percentile_ex_nulls\": 0.9742724299430847, \"percentile_inc_nulls\": 0.9742724299430847, \"value_count\": 142, \"group_name\": \"cltname_x\", \"total_non_null_rows\": 356310, \"total_rows_inc_nulls\": 356310, \"sum_tokens_in_value_count_group\": 142.0, \"distinct_value_count\": 82423}, {\"percentile_ex_nulls\": 0.9738851189613342, \"percentile_inc_nulls\": 0.9738851189613342, \"value_count\": 138, \"group_name\": \"cltname_x\", \"total_non_null_rows\": 356310, \"total_rows_inc_nulls\": 356310, \"sum_tokens_in_value_count_group\": 138.0, \"distinct_value_count\": 82423}, {\"percentile_ex_nulls\": 0.9735006093978882, \"percentile_inc_nulls\": 0.9735006093978882, \"value_count\": 137, \"group_name\": \"cltname_x\", \"total_non_null_rows\": 356310, \"total_rows_inc_nulls\": 356310, \"sum_tokens_in_value_count_group\": 137.0, \"distinct_value_count\": 82423}, {\"percentile_ex_nulls\": 0.9727428555488586, \"percentile_inc_nulls\": 0.9727428555488586, \"value_count\": 135, \"group_name\": \"cltname_x\", \"total_non_null_rows\": 356310, \"total_rows_inc_nulls\": 356310, \"sum_tokens_in_value_count_group\": 270.0, \"distinct_value_count\": 82423}, {\"percentile_ex_nulls\": 0.9723808169364929, \"percentile_inc_nulls\": 0.9723808169364929, \"value_count\": 129, \"group_name\": \"cltname_x\", \"total_non_null_rows\": 356310, \"total_rows_inc_nulls\": 356310, \"sum_tokens_in_value_count_group\": 129.0, \"distinct_value_count\": 82423}, {\"percentile_ex_nulls\": 0.9720215797424316, \"percentile_inc_nulls\": 0.9720215797424316, \"value_count\": 128, \"group_name\": \"cltname_x\", \"total_non_null_rows\": 356310, \"total_rows_inc_nulls\": 356310, \"sum_tokens_in_value_count_group\": 128.0, \"distinct_value_count\": 82423}, {\"percentile_ex_nulls\": 0.9706183075904846, \"percentile_inc_nulls\": 0.9706183075904846, \"value_count\": 125, \"group_name\": \"cltname_x\", \"total_non_null_rows\": 356310, \"total_rows_inc_nulls\": 356310, \"sum_tokens_in_value_count_group\": 500.0, \"distinct_value_count\": 82423}, {\"percentile_ex_nulls\": 0.9702730774879456, \"percentile_inc_nulls\": 0.9702730774879456, \"value_count\": 123, \"group_name\": \"cltname_x\", \"total_non_null_rows\": 356310, \"total_rows_inc_nulls\": 356310, \"sum_tokens_in_value_count_group\": 123.0, \"distinct_value_count\": 82423}, {\"percentile_ex_nulls\": 0.9699306488037109, \"percentile_inc_nulls\": 0.9699306488037109, \"value_count\": 122, \"group_name\": \"cltname_x\", \"total_non_null_rows\": 356310, \"total_rows_inc_nulls\": 356310, \"sum_tokens_in_value_count_group\": 122.0, \"distinct_value_count\": 82423}, {\"percentile_ex_nulls\": 0.9692515134811401, \"percentile_inc_nulls\": 0.9692515134811401, \"value_count\": 121, \"group_name\": \"cltname_x\", \"total_non_null_rows\": 356310, \"total_rows_inc_nulls\": 356310, \"sum_tokens_in_value_count_group\": 242.0, \"distinct_value_count\": 82423}, {\"percentile_ex_nulls\": 0.9682411551475525, \"percentile_inc_nulls\": 0.9682411551475525, \"value_count\": 120, \"group_name\": \"cltname_x\", \"total_non_null_rows\": 356310, \"total_rows_inc_nulls\": 356310, \"sum_tokens_in_value_count_group\": 360.0, \"distinct_value_count\": 82423}, {\"percentile_ex_nulls\": 0.9675844311714172, \"percentile_inc_nulls\": 0.9675844311714172, \"value_count\": 117, \"group_name\": \"cltname_x\", \"total_non_null_rows\": 356310, \"total_rows_inc_nulls\": 356310, \"sum_tokens_in_value_count_group\": 234.0, \"distinct_value_count\": 82423}, {\"percentile_ex_nulls\": 0.967258870601654, \"percentile_inc_nulls\": 0.967258870601654, \"value_count\": 116, \"group_name\": \"cltname_x\", \"total_non_null_rows\": 356310, \"total_rows_inc_nulls\": 356310, \"sum_tokens_in_value_count_group\": 116.0, \"distinct_value_count\": 82423}, {\"percentile_ex_nulls\": 0.9669361114501953, \"percentile_inc_nulls\": 0.9669361114501953, \"value_count\": 115, \"group_name\": \"cltname_x\", \"total_non_null_rows\": 356310, \"total_rows_inc_nulls\": 356310, \"sum_tokens_in_value_count_group\": 115.0, \"distinct_value_count\": 82423}, {\"percentile_ex_nulls\": 0.966616153717041, \"percentile_inc_nulls\": 0.966616153717041, \"value_count\": 114, \"group_name\": \"cltname_x\", \"total_non_null_rows\": 356310, \"total_rows_inc_nulls\": 356310, \"sum_tokens_in_value_count_group\": 114.0, \"distinct_value_count\": 82423}, {\"percentile_ex_nulls\": 0.9656647443771362, \"percentile_inc_nulls\": 0.9656647443771362, \"value_count\": 113, \"group_name\": \"cltname_x\", \"total_non_null_rows\": 356310, \"total_rows_inc_nulls\": 356310, \"sum_tokens_in_value_count_group\": 339.0, \"distinct_value_count\": 82423}, {\"percentile_ex_nulls\": 0.9647217392921448, \"percentile_inc_nulls\": 0.9647217392921448, \"value_count\": 112, \"group_name\": \"cltname_x\", \"total_non_null_rows\": 356310, \"total_rows_inc_nulls\": 356310, \"sum_tokens_in_value_count_group\": 336.0, \"distinct_value_count\": 82423}, {\"percentile_ex_nulls\": 0.9640986919403076, \"percentile_inc_nulls\": 0.9640986919403076, \"value_count\": 111, \"group_name\": \"cltname_x\", \"total_non_null_rows\": 356310, \"total_rows_inc_nulls\": 356310, \"sum_tokens_in_value_count_group\": 222.0, \"distinct_value_count\": 82423}, {\"percentile_ex_nulls\": 0.9631724953651428, \"percentile_inc_nulls\": 0.9631724953651428, \"value_count\": 110, \"group_name\": \"cltname_x\", \"total_non_null_rows\": 356310, \"total_rows_inc_nulls\": 356310, \"sum_tokens_in_value_count_group\": 330.0, \"distinct_value_count\": 82423}, {\"percentile_ex_nulls\": 0.9622547626495361, \"percentile_inc_nulls\": 0.9622547626495361, \"value_count\": 109, \"group_name\": \"cltname_x\", \"total_non_null_rows\": 356310, \"total_rows_inc_nulls\": 356310, \"sum_tokens_in_value_count_group\": 327.0, \"distinct_value_count\": 82423}, {\"percentile_ex_nulls\": 0.9610423445701599, \"percentile_inc_nulls\": 0.9610423445701599, \"value_count\": 108, \"group_name\": \"cltname_x\", \"total_non_null_rows\": 356310, \"total_rows_inc_nulls\": 356310, \"sum_tokens_in_value_count_group\": 432.0, \"distinct_value_count\": 82423}, {\"percentile_ex_nulls\": 0.9601414203643799, \"percentile_inc_nulls\": 0.9601414203643799, \"value_count\": 107, \"group_name\": \"cltname_x\", \"total_non_null_rows\": 356310, \"total_rows_inc_nulls\": 356310, \"sum_tokens_in_value_count_group\": 321.0, \"distinct_value_count\": 82423}, {\"percentile_ex_nulls\": 0.9598439335823059, \"percentile_inc_nulls\": 0.9598439335823059, \"value_count\": 106, \"group_name\": \"cltname_x\", \"total_non_null_rows\": 356310, \"total_rows_inc_nulls\": 356310, \"sum_tokens_in_value_count_group\": 106.0, \"distinct_value_count\": 82423}, {\"percentile_ex_nulls\": 0.9592545628547668, \"percentile_inc_nulls\": 0.9592545628547668, \"value_count\": 105, \"group_name\": \"cltname_x\", \"total_non_null_rows\": 356310, \"total_rows_inc_nulls\": 356310, \"sum_tokens_in_value_count_group\": 210.0, \"distinct_value_count\": 82423}, {\"percentile_ex_nulls\": 0.9586764574050903, \"percentile_inc_nulls\": 0.9586764574050903, \"value_count\": 103, \"group_name\": \"cltname_x\", \"total_non_null_rows\": 356310, \"total_rows_inc_nulls\": 356310, \"sum_tokens_in_value_count_group\": 206.0, \"distinct_value_count\": 82423}, {\"percentile_ex_nulls\": 0.9583901762962341, \"percentile_inc_nulls\": 0.9583901762962341, \"value_count\": 102, \"group_name\": \"cltname_x\", \"total_non_null_rows\": 356310, \"total_rows_inc_nulls\": 356310, \"sum_tokens_in_value_count_group\": 102.0, \"distinct_value_count\": 82423}, {\"percentile_ex_nulls\": 0.9581066966056824, \"percentile_inc_nulls\": 0.9581066966056824, \"value_count\": 101, \"group_name\": \"cltname_x\", \"total_non_null_rows\": 356310, \"total_rows_inc_nulls\": 356310, \"sum_tokens_in_value_count_group\": 101.0, \"distinct_value_count\": 82423}, {\"percentile_ex_nulls\": 0.9578260779380798, \"percentile_inc_nulls\": 0.9578260779380798, \"value_count\": 100, \"group_name\": \"cltname_x\", \"total_non_null_rows\": 356310, \"total_rows_inc_nulls\": 356310, \"sum_tokens_in_value_count_group\": 100.0, \"distinct_value_count\": 82423}, {\"percentile_ex_nulls\": 0.9572703838348389, \"percentile_inc_nulls\": 0.9572703838348389, \"value_count\": 99, \"group_name\": \"cltname_x\", \"total_non_null_rows\": 356310, \"total_rows_inc_nulls\": 356310, \"sum_tokens_in_value_count_group\": 198.0, \"distinct_value_count\": 82423}, {\"percentile_ex_nulls\": 0.9567202925682068, \"percentile_inc_nulls\": 0.9567202925682068, \"value_count\": 98, \"group_name\": \"cltname_x\", \"total_non_null_rows\": 356310, \"total_rows_inc_nulls\": 356310, \"sum_tokens_in_value_count_group\": 196.0, \"distinct_value_count\": 82423}, {\"percentile_ex_nulls\": 0.9561758041381836, \"percentile_inc_nulls\": 0.9561758041381836, \"value_count\": 97, \"group_name\": \"cltname_x\", \"total_non_null_rows\": 356310, \"total_rows_inc_nulls\": 356310, \"sum_tokens_in_value_count_group\": 194.0, \"distinct_value_count\": 82423}, {\"percentile_ex_nulls\": 0.9550980925559998, \"percentile_inc_nulls\": 0.9550980925559998, \"value_count\": 96, \"group_name\": \"cltname_x\", \"total_non_null_rows\": 356310, \"total_rows_inc_nulls\": 356310, \"sum_tokens_in_value_count_group\": 384.0, \"distinct_value_count\": 82423}, {\"percentile_ex_nulls\": 0.9548314809799194, \"percentile_inc_nulls\": 0.9548314809799194, \"value_count\": 95, \"group_name\": \"cltname_x\", \"total_non_null_rows\": 356310, \"total_rows_inc_nulls\": 356310, \"sum_tokens_in_value_count_group\": 95.0, \"distinct_value_count\": 82423}, {\"percentile_ex_nulls\": 0.9540400505065918, \"percentile_inc_nulls\": 0.9540400505065918, \"value_count\": 94, \"group_name\": \"cltname_x\", \"total_non_null_rows\": 356310, \"total_rows_inc_nulls\": 356310, \"sum_tokens_in_value_count_group\": 282.0, \"distinct_value_count\": 82423}, {\"percentile_ex_nulls\": 0.9535180330276489, \"percentile_inc_nulls\": 0.9535180330276489, \"value_count\": 93, \"group_name\": \"cltname_x\", \"total_non_null_rows\": 356310, \"total_rows_inc_nulls\": 356310, \"sum_tokens_in_value_count_group\": 186.0, \"distinct_value_count\": 82423}, {\"percentile_ex_nulls\": 0.9530016183853149, \"percentile_inc_nulls\": 0.9530016183853149, \"value_count\": 92, \"group_name\": \"cltname_x\", \"total_non_null_rows\": 356310, \"total_rows_inc_nulls\": 356310, \"sum_tokens_in_value_count_group\": 184.0, \"distinct_value_count\": 82423}, {\"percentile_ex_nulls\": 0.9522354006767273, \"percentile_inc_nulls\": 0.9522354006767273, \"value_count\": 91, \"group_name\": \"cltname_x\", \"total_non_null_rows\": 356310, \"total_rows_inc_nulls\": 356310, \"sum_tokens_in_value_count_group\": 273.0, \"distinct_value_count\": 82423}, {\"percentile_ex_nulls\": 0.9517302513122559, \"percentile_inc_nulls\": 0.9517302513122559, \"value_count\": 90, \"group_name\": \"cltname_x\", \"total_non_null_rows\": 356310, \"total_rows_inc_nulls\": 356310, \"sum_tokens_in_value_count_group\": 180.0, \"distinct_value_count\": 82423}, {\"percentile_ex_nulls\": 0.9512306451797485, \"percentile_inc_nulls\": 0.9512306451797485, \"value_count\": 89, \"group_name\": \"cltname_x\", \"total_non_null_rows\": 356310, \"total_rows_inc_nulls\": 356310, \"sum_tokens_in_value_count_group\": 178.0, \"distinct_value_count\": 82423}, {\"percentile_ex_nulls\": 0.9499958157539368, \"percentile_inc_nulls\": 0.9499958157539368, \"value_count\": 88, \"group_name\": \"cltname_x\", \"total_non_null_rows\": 356310, \"total_rows_inc_nulls\": 356310, \"sum_tokens_in_value_count_group\": 440.0, \"distinct_value_count\": 82423}, {\"percentile_ex_nulls\": 0.949507474899292, \"percentile_inc_nulls\": 0.949507474899292, \"value_count\": 87, \"group_name\": \"cltname_x\", \"total_non_null_rows\": 356310, \"total_rows_inc_nulls\": 356310, \"sum_tokens_in_value_count_group\": 174.0, \"distinct_value_count\": 82423}, {\"percentile_ex_nulls\": 0.9483006596565247, \"percentile_inc_nulls\": 0.9483006596565247, \"value_count\": 86, \"group_name\": \"cltname_x\", \"total_non_null_rows\": 356310, \"total_rows_inc_nulls\": 356310, \"sum_tokens_in_value_count_group\": 430.0, \"distinct_value_count\": 82423}, {\"percentile_ex_nulls\": 0.9475849866867065, \"percentile_inc_nulls\": 0.9475849866867065, \"value_count\": 85, \"group_name\": \"cltname_x\", \"total_non_null_rows\": 356310, \"total_rows_inc_nulls\": 356310, \"sum_tokens_in_value_count_group\": 255.0, \"distinct_value_count\": 82423}, {\"percentile_ex_nulls\": 0.9468777179718018, \"percentile_inc_nulls\": 0.9468777179718018, \"value_count\": 84, \"group_name\": \"cltname_x\", \"total_non_null_rows\": 356310, \"total_rows_inc_nulls\": 356310, \"sum_tokens_in_value_count_group\": 252.0, \"distinct_value_count\": 82423}, {\"percentile_ex_nulls\": 0.9461789131164551, \"percentile_inc_nulls\": 0.9461789131164551, \"value_count\": 83, \"group_name\": \"cltname_x\", \"total_non_null_rows\": 356310, \"total_rows_inc_nulls\": 356310, \"sum_tokens_in_value_count_group\": 249.0, \"distinct_value_count\": 82423}, {\"percentile_ex_nulls\": 0.945488452911377, \"percentile_inc_nulls\": 0.945488452911377, \"value_count\": 82, \"group_name\": \"cltname_x\", \"total_non_null_rows\": 356310, \"total_rows_inc_nulls\": 356310, \"sum_tokens_in_value_count_group\": 246.0, \"distinct_value_count\": 82423}, {\"percentile_ex_nulls\": 0.9450337886810303, \"percentile_inc_nulls\": 0.9450337886810303, \"value_count\": 81, \"group_name\": \"cltname_x\", \"total_non_null_rows\": 356310, \"total_rows_inc_nulls\": 356310, \"sum_tokens_in_value_count_group\": 162.0, \"distinct_value_count\": 82423}, {\"percentile_ex_nulls\": 0.9448093175888062, \"percentile_inc_nulls\": 0.9448093175888062, \"value_count\": 80, \"group_name\": \"cltname_x\", \"total_non_null_rows\": 356310, \"total_rows_inc_nulls\": 356310, \"sum_tokens_in_value_count_group\": 80.0, \"distinct_value_count\": 82423}, {\"percentile_ex_nulls\": 0.9445875883102417, \"percentile_inc_nulls\": 0.9445875883102417, \"value_count\": 79, \"group_name\": \"cltname_x\", \"total_non_null_rows\": 356310, \"total_rows_inc_nulls\": 356310, \"sum_tokens_in_value_count_group\": 79.0, \"distinct_value_count\": 82423}, {\"percentile_ex_nulls\": 0.9439308643341064, \"percentile_inc_nulls\": 0.9439308643341064, \"value_count\": 78, \"group_name\": \"cltname_x\", \"total_non_null_rows\": 356310, \"total_rows_inc_nulls\": 356310, \"sum_tokens_in_value_count_group\": 234.0, \"distinct_value_count\": 82423}, {\"percentile_ex_nulls\": 0.9422020316123962, \"percentile_inc_nulls\": 0.9422020316123962, \"value_count\": 77, \"group_name\": \"cltname_x\", \"total_non_null_rows\": 356310, \"total_rows_inc_nulls\": 356310, \"sum_tokens_in_value_count_group\": 616.0, \"distinct_value_count\": 82423}, {\"percentile_ex_nulls\": 0.9402823448181152, \"percentile_inc_nulls\": 0.9402823448181152, \"value_count\": 76, \"group_name\": \"cltname_x\", \"total_non_null_rows\": 356310, \"total_rows_inc_nulls\": 356310, \"sum_tokens_in_value_count_group\": 684.0, \"distinct_value_count\": 82423}, {\"percentile_ex_nulls\": 0.9390193819999695, \"percentile_inc_nulls\": 0.9390193819999695, \"value_count\": 75, \"group_name\": \"cltname_x\", \"total_non_null_rows\": 356310, \"total_rows_inc_nulls\": 356310, \"sum_tokens_in_value_count_group\": 450.0, \"distinct_value_count\": 82423}, {\"percentile_ex_nulls\": 0.9379809498786926, \"percentile_inc_nulls\": 0.9379809498786926, \"value_count\": 74, \"group_name\": \"cltname_x\", \"total_non_null_rows\": 356310, \"total_rows_inc_nulls\": 356310, \"sum_tokens_in_value_count_group\": 370.0, \"distinct_value_count\": 82423}, {\"percentile_ex_nulls\": 0.9363419413566589, \"percentile_inc_nulls\": 0.9363419413566589, \"value_count\": 73, \"group_name\": \"cltname_x\", \"total_non_null_rows\": 356310, \"total_rows_inc_nulls\": 356310, \"sum_tokens_in_value_count_group\": 584.0, \"distinct_value_count\": 82423}, {\"percentile_ex_nulls\": 0.9355336427688599, \"percentile_inc_nulls\": 0.9355336427688599, \"value_count\": 72, \"group_name\": \"cltname_x\", \"total_non_null_rows\": 356310, \"total_rows_inc_nulls\": 356310, \"sum_tokens_in_value_count_group\": 288.0, \"distinct_value_count\": 82423}, {\"percentile_ex_nulls\": 0.9337402582168579, \"percentile_inc_nulls\": 0.9337402582168579, \"value_count\": 71, \"group_name\": \"cltname_x\", \"total_non_null_rows\": 356310, \"total_rows_inc_nulls\": 356310, \"sum_tokens_in_value_count_group\": 639.0, \"distinct_value_count\": 82423}, {\"percentile_ex_nulls\": 0.9329544305801392, \"percentile_inc_nulls\": 0.9329544305801392, \"value_count\": 70, \"group_name\": \"cltname_x\", \"total_non_null_rows\": 356310, \"total_rows_inc_nulls\": 356310, \"sum_tokens_in_value_count_group\": 280.0, \"distinct_value_count\": 82423}, {\"percentile_ex_nulls\": 0.9325671195983887, \"percentile_inc_nulls\": 0.9325671195983887, \"value_count\": 69, \"group_name\": \"cltname_x\", \"total_non_null_rows\": 356310, \"total_rows_inc_nulls\": 356310, \"sum_tokens_in_value_count_group\": 138.0, \"distinct_value_count\": 82423}, {\"percentile_ex_nulls\": 0.9306586980819702, \"percentile_inc_nulls\": 0.9306586980819702, \"value_count\": 68, \"group_name\": \"cltname_x\", \"total_non_null_rows\": 356310, \"total_rows_inc_nulls\": 356310, \"sum_tokens_in_value_count_group\": 680.0, \"distinct_value_count\": 82423}, {\"percentile_ex_nulls\": 0.9289663434028625, \"percentile_inc_nulls\": 0.9289663434028625, \"value_count\": 67, \"group_name\": \"cltname_x\", \"total_non_null_rows\": 356310, \"total_rows_inc_nulls\": 356310, \"sum_tokens_in_value_count_group\": 603.0, \"distinct_value_count\": 82423}, {\"percentile_ex_nulls\": 0.9272992610931396, \"percentile_inc_nulls\": 0.9272992610931396, \"value_count\": 66, \"group_name\": \"cltname_x\", \"total_non_null_rows\": 356310, \"total_rows_inc_nulls\": 356310, \"sum_tokens_in_value_count_group\": 594.0, \"distinct_value_count\": 82423}, {\"percentile_ex_nulls\": 0.9252926111221313, \"percentile_inc_nulls\": 0.9252926111221313, \"value_count\": 65, \"group_name\": \"cltname_x\", \"total_non_null_rows\": 356310, \"total_rows_inc_nulls\": 356310, \"sum_tokens_in_value_count_group\": 715.0, \"distinct_value_count\": 82423}, {\"percentile_ex_nulls\": 0.9234963655471802, \"percentile_inc_nulls\": 0.9234963655471802, \"value_count\": 64, \"group_name\": \"cltname_x\", \"total_non_null_rows\": 356310, \"total_rows_inc_nulls\": 356310, \"sum_tokens_in_value_count_group\": 640.0, \"distinct_value_count\": 82423}, {\"percentile_ex_nulls\": 0.921728253364563, \"percentile_inc_nulls\": 0.921728253364563, \"value_count\": 63, \"group_name\": \"cltname_x\", \"total_non_null_rows\": 356310, \"total_rows_inc_nulls\": 356310, \"sum_tokens_in_value_count_group\": 630.0, \"distinct_value_count\": 82423}, {\"percentile_ex_nulls\": 0.9208582639694214, \"percentile_inc_nulls\": 0.9208582639694214, \"value_count\": 62, \"group_name\": \"cltname_x\", \"total_non_null_rows\": 356310, \"total_rows_inc_nulls\": 356310, \"sum_tokens_in_value_count_group\": 310.0, \"distinct_value_count\": 82423}, {\"percentile_ex_nulls\": 0.9193174242973328, \"percentile_inc_nulls\": 0.9193174242973328, \"value_count\": 61, \"group_name\": \"cltname_x\", \"total_non_null_rows\": 356310, \"total_rows_inc_nulls\": 356310, \"sum_tokens_in_value_count_group\": 549.0, \"distinct_value_count\": 82423}, {\"percentile_ex_nulls\": 0.9174651503562927, \"percentile_inc_nulls\": 0.9174651503562927, \"value_count\": 60, \"group_name\": \"cltname_x\", \"total_non_null_rows\": 356310, \"total_rows_inc_nulls\": 356310, \"sum_tokens_in_value_count_group\": 660.0, \"distinct_value_count\": 82423}, {\"percentile_ex_nulls\": 0.9163060188293457, \"percentile_inc_nulls\": 0.9163060188293457, \"value_count\": 59, \"group_name\": \"cltname_x\", \"total_non_null_rows\": 356310, \"total_rows_inc_nulls\": 356310, \"sum_tokens_in_value_count_group\": 413.0, \"distinct_value_count\": 82423}, {\"percentile_ex_nulls\": 0.914189875125885, \"percentile_inc_nulls\": 0.914189875125885, \"value_count\": 58, \"group_name\": \"cltname_x\", \"total_non_null_rows\": 356310, \"total_rows_inc_nulls\": 356310, \"sum_tokens_in_value_count_group\": 754.0, \"distinct_value_count\": 82423}, {\"percentile_ex_nulls\": 0.9119502902030945, \"percentile_inc_nulls\": 0.9119502902030945, \"value_count\": 57, \"group_name\": \"cltname_x\", \"total_non_null_rows\": 356310, \"total_rows_inc_nulls\": 356310, \"sum_tokens_in_value_count_group\": 798.0, \"distinct_value_count\": 82423}, {\"percentile_ex_nulls\": 0.9102214574813843, \"percentile_inc_nulls\": 0.9102214574813843, \"value_count\": 56, \"group_name\": \"cltname_x\", \"total_non_null_rows\": 356310, \"total_rows_inc_nulls\": 356310, \"sum_tokens_in_value_count_group\": 616.0, \"distinct_value_count\": 82423}, {\"percentile_ex_nulls\": 0.9085234999656677, \"percentile_inc_nulls\": 0.9085234999656677, \"value_count\": 55, \"group_name\": \"cltname_x\", \"total_non_null_rows\": 356310, \"total_rows_inc_nulls\": 356310, \"sum_tokens_in_value_count_group\": 605.0, \"distinct_value_count\": 82423}, {\"percentile_ex_nulls\": 0.905340850353241, \"percentile_inc_nulls\": 0.905340850353241, \"value_count\": 54, \"group_name\": \"cltname_x\", \"total_non_null_rows\": 356310, \"total_rows_inc_nulls\": 356310, \"sum_tokens_in_value_count_group\": 1134.0, \"distinct_value_count\": 82423}, {\"percentile_ex_nulls\": 0.9028121829032898, \"percentile_inc_nulls\": 0.9028121829032898, \"value_count\": 53, \"group_name\": \"cltname_x\", \"total_non_null_rows\": 356310, \"total_rows_inc_nulls\": 356310, \"sum_tokens_in_value_count_group\": 901.0, \"distinct_value_count\": 82423}, {\"percentile_ex_nulls\": 0.9004771113395691, \"percentile_inc_nulls\": 0.9004771113395691, \"value_count\": 52, \"group_name\": \"cltname_x\", \"total_non_null_rows\": 356310, \"total_rows_inc_nulls\": 356310, \"sum_tokens_in_value_count_group\": 832.0, \"distinct_value_count\": 82423}, {\"percentile_ex_nulls\": 0.8977575898170471, \"percentile_inc_nulls\": 0.8977575898170471, \"value_count\": 51, \"group_name\": \"cltname_x\", \"total_non_null_rows\": 356310, \"total_rows_inc_nulls\": 356310, \"sum_tokens_in_value_count_group\": 969.0, \"distinct_value_count\": 82423}, {\"percentile_ex_nulls\": 0.8952316641807556, \"percentile_inc_nulls\": 0.8952316641807556, \"value_count\": 50, \"group_name\": \"cltname_x\", \"total_non_null_rows\": 356310, \"total_rows_inc_nulls\": 356310, \"sum_tokens_in_value_count_group\": 900.0, \"distinct_value_count\": 82423}, {\"percentile_ex_nulls\": 0.8933063745498657, \"percentile_inc_nulls\": 0.8933063745498657, \"value_count\": 49, \"group_name\": \"cltname_x\", \"total_non_null_rows\": 356310, \"total_rows_inc_nulls\": 356310, \"sum_tokens_in_value_count_group\": 686.0, \"distinct_value_count\": 82423}, {\"percentile_ex_nulls\": 0.8904774188995361, \"percentile_inc_nulls\": 0.8904774188995361, \"value_count\": 48, \"group_name\": \"cltname_x\", \"total_non_null_rows\": 356310, \"total_rows_inc_nulls\": 356310, \"sum_tokens_in_value_count_group\": 1008.0, \"distinct_value_count\": 82423}, {\"percentile_ex_nulls\": 0.8874435424804688, \"percentile_inc_nulls\": 0.8874435424804688, \"value_count\": 47, \"group_name\": \"cltname_x\", \"total_non_null_rows\": 356310, \"total_rows_inc_nulls\": 356310, \"sum_tokens_in_value_count_group\": 1081.0, \"distinct_value_count\": 82423}, {\"percentile_ex_nulls\": 0.8853778839111328, \"percentile_inc_nulls\": 0.8853778839111328, \"value_count\": 46, \"group_name\": \"cltname_x\", \"total_non_null_rows\": 356310, \"total_rows_inc_nulls\": 356310, \"sum_tokens_in_value_count_group\": 736.0, \"distinct_value_count\": 82423}, {\"percentile_ex_nulls\": 0.8823468089103699, \"percentile_inc_nulls\": 0.8823468089103699, \"value_count\": 45, \"group_name\": \"cltname_x\", \"total_non_null_rows\": 356310, \"total_rows_inc_nulls\": 356310, \"sum_tokens_in_value_count_group\": 1080.0, \"distinct_value_count\": 82423}, {\"percentile_ex_nulls\": 0.8802475333213806, \"percentile_inc_nulls\": 0.8802475333213806, \"value_count\": 44, \"group_name\": \"cltname_x\", \"total_non_null_rows\": 356310, \"total_rows_inc_nulls\": 356310, \"sum_tokens_in_value_count_group\": 748.0, \"distinct_value_count\": 82423}, {\"percentile_ex_nulls\": 0.8777132034301758, \"percentile_inc_nulls\": 0.8777132034301758, \"value_count\": 43, \"group_name\": \"cltname_x\", \"total_non_null_rows\": 356310, \"total_rows_inc_nulls\": 356310, \"sum_tokens_in_value_count_group\": 903.0, \"distinct_value_count\": 82423}, {\"percentile_ex_nulls\": 0.8741769790649414, \"percentile_inc_nulls\": 0.8741769790649414, \"value_count\": 42, \"group_name\": \"cltname_x\", \"total_non_null_rows\": 356310, \"total_rows_inc_nulls\": 356310, \"sum_tokens_in_value_count_group\": 1260.0, \"distinct_value_count\": 82423}, {\"percentile_ex_nulls\": 0.8708400130271912, \"percentile_inc_nulls\": 0.8708400130271912, \"value_count\": 41, \"group_name\": \"cltname_x\", \"total_non_null_rows\": 356310, \"total_rows_inc_nulls\": 356310, \"sum_tokens_in_value_count_group\": 1189.0, \"distinct_value_count\": 82423}, {\"percentile_ex_nulls\": 0.8669108152389526, \"percentile_inc_nulls\": 0.8669108152389526, \"value_count\": 40, \"group_name\": \"cltname_x\", \"total_non_null_rows\": 356310, \"total_rows_inc_nulls\": 356310, \"sum_tokens_in_value_count_group\": 1400.0, \"distinct_value_count\": 82423}, {\"percentile_ex_nulls\": 0.8634082674980164, \"percentile_inc_nulls\": 0.8634082674980164, \"value_count\": 39, \"group_name\": \"cltname_x\", \"total_non_null_rows\": 356310, \"total_rows_inc_nulls\": 356310, \"sum_tokens_in_value_count_group\": 1248.0, \"distinct_value_count\": 82423}, {\"percentile_ex_nulls\": 0.861168622970581, \"percentile_inc_nulls\": 0.861168622970581, \"value_count\": 38, \"group_name\": \"cltname_x\", \"total_non_null_rows\": 356310, \"total_rows_inc_nulls\": 356310, \"sum_tokens_in_value_count_group\": 798.0, \"distinct_value_count\": 82423}, {\"percentile_ex_nulls\": 0.8575341701507568, \"percentile_inc_nulls\": 0.8575341701507568, \"value_count\": 37, \"group_name\": \"cltname_x\", \"total_non_null_rows\": 356310, \"total_rows_inc_nulls\": 356310, \"sum_tokens_in_value_count_group\": 1295.0, \"distinct_value_count\": 82423}, {\"percentile_ex_nulls\": 0.8536947965621948, \"percentile_inc_nulls\": 0.8536947965621948, \"value_count\": 36, \"group_name\": \"cltname_x\", \"total_non_null_rows\": 356310, \"total_rows_inc_nulls\": 356310, \"sum_tokens_in_value_count_group\": 1368.0, \"distinct_value_count\": 82423}, {\"percentile_ex_nulls\": 0.8502568006515503, \"percentile_inc_nulls\": 0.8502568006515503, \"value_count\": 35, \"group_name\": \"cltname_x\", \"total_non_null_rows\": 356310, \"total_rows_inc_nulls\": 356310, \"sum_tokens_in_value_count_group\": 1225.0, \"distinct_value_count\": 82423}, {\"percentile_ex_nulls\": 0.8462490439414978, \"percentile_inc_nulls\": 0.8462490439414978, \"value_count\": 34, \"group_name\": \"cltname_x\", \"total_non_null_rows\": 356310, \"total_rows_inc_nulls\": 356310, \"sum_tokens_in_value_count_group\": 1428.0, \"distinct_value_count\": 82423}, {\"percentile_ex_nulls\": 0.842822253704071, \"percentile_inc_nulls\": 0.842822253704071, \"value_count\": 33, \"group_name\": \"cltname_x\", \"total_non_null_rows\": 356310, \"total_rows_inc_nulls\": 356310, \"sum_tokens_in_value_count_group\": 1221.0, \"distinct_value_count\": 82423}, {\"percentile_ex_nulls\": 0.8387808203697205, \"percentile_inc_nulls\": 0.8387808203697205, \"value_count\": 32, \"group_name\": \"cltname_x\", \"total_non_null_rows\": 356310, \"total_rows_inc_nulls\": 356310, \"sum_tokens_in_value_count_group\": 1440.0, \"distinct_value_count\": 82423}, {\"percentile_ex_nulls\": 0.8339086771011353, \"percentile_inc_nulls\": 0.8339086771011353, \"value_count\": 31, \"group_name\": \"cltname_x\", \"total_non_null_rows\": 356310, \"total_rows_inc_nulls\": 356310, \"sum_tokens_in_value_count_group\": 1736.0, \"distinct_value_count\": 82423}, {\"percentile_ex_nulls\": 0.8284358978271484, \"percentile_inc_nulls\": 0.8284358978271484, \"value_count\": 30, \"group_name\": \"cltname_x\", \"total_non_null_rows\": 356310, \"total_rows_inc_nulls\": 356310, \"sum_tokens_in_value_count_group\": 1950.0, \"distinct_value_count\": 82423}, {\"percentile_ex_nulls\": 0.8242850303649902, \"percentile_inc_nulls\": 0.8242850303649902, \"value_count\": 29, \"group_name\": \"cltname_x\", \"total_non_null_rows\": 356310, \"total_rows_inc_nulls\": 356310, \"sum_tokens_in_value_count_group\": 1479.0, \"distinct_value_count\": 82423}, {\"percentile_ex_nulls\": 0.8187056183815002, \"percentile_inc_nulls\": 0.8187056183815002, \"value_count\": 28, \"group_name\": \"cltname_x\", \"total_non_null_rows\": 356310, \"total_rows_inc_nulls\": 356310, \"sum_tokens_in_value_count_group\": 1988.0, \"distinct_value_count\": 82423}, {\"percentile_ex_nulls\": 0.8125677108764648, \"percentile_inc_nulls\": 0.8125677108764648, \"value_count\": 27, \"group_name\": \"cltname_x\", \"total_non_null_rows\": 356310, \"total_rows_inc_nulls\": 356310, \"sum_tokens_in_value_count_group\": 2187.0, \"distinct_value_count\": 82423}, {\"percentile_ex_nulls\": 0.807313859462738, \"percentile_inc_nulls\": 0.807313859462738, \"value_count\": 26, \"group_name\": \"cltname_x\", \"total_non_null_rows\": 356310, \"total_rows_inc_nulls\": 356310, \"sum_tokens_in_value_count_group\": 1872.0, \"distinct_value_count\": 82423}, {\"percentile_ex_nulls\": 0.8011394739151001, \"percentile_inc_nulls\": 0.8011394739151001, \"value_count\": 25, \"group_name\": \"cltname_x\", \"total_non_null_rows\": 356310, \"total_rows_inc_nulls\": 356310, \"sum_tokens_in_value_count_group\": 2200.0, \"distinct_value_count\": 82423}, {\"percentile_ex_nulls\": 0.7922483086585999, \"percentile_inc_nulls\": 0.7922483086585999, \"value_count\": 24, \"group_name\": \"cltname_x\", \"total_non_null_rows\": 356310, \"total_rows_inc_nulls\": 356310, \"sum_tokens_in_value_count_group\": 3168.0, \"distinct_value_count\": 82423}, {\"percentile_ex_nulls\": 0.7851477861404419, \"percentile_inc_nulls\": 0.7851477861404419, \"value_count\": 23, \"group_name\": \"cltname_x\", \"total_non_null_rows\": 356310, \"total_rows_inc_nulls\": 356310, \"sum_tokens_in_value_count_group\": 2530.0, \"distinct_value_count\": 82423}, {\"percentile_ex_nulls\": 0.7763801217079163, \"percentile_inc_nulls\": 0.7763801217079163, \"value_count\": 22, \"group_name\": \"cltname_x\", \"total_non_null_rows\": 356310, \"total_rows_inc_nulls\": 356310, \"sum_tokens_in_value_count_group\": 3124.0, \"distinct_value_count\": 82423}, {\"percentile_ex_nulls\": 0.768600344657898, \"percentile_inc_nulls\": 0.768600344657898, \"value_count\": 21, \"group_name\": \"cltname_x\", \"total_non_null_rows\": 356310, \"total_rows_inc_nulls\": 356310, \"sum_tokens_in_value_count_group\": 2772.0, \"distinct_value_count\": 82423}, {\"percentile_ex_nulls\": 0.7591142654418945, \"percentile_inc_nulls\": 0.7591142654418945, \"value_count\": 20, \"group_name\": \"cltname_x\", \"total_non_null_rows\": 356310, \"total_rows_inc_nulls\": 356310, \"sum_tokens_in_value_count_group\": 3380.0, \"distinct_value_count\": 82423}, {\"percentile_ex_nulls\": 0.7498891353607178, \"percentile_inc_nulls\": 0.7498891353607178, \"value_count\": 19, \"group_name\": \"cltname_x\", \"total_non_null_rows\": 356310, \"total_rows_inc_nulls\": 356310, \"sum_tokens_in_value_count_group\": 3287.0, \"distinct_value_count\": 82423}, {\"percentile_ex_nulls\": 0.7372596859931946, \"percentile_inc_nulls\": 0.7372596859931946, \"value_count\": 18, \"group_name\": \"cltname_x\", \"total_non_null_rows\": 356310, \"total_rows_inc_nulls\": 356310, \"sum_tokens_in_value_count_group\": 4500.0, \"distinct_value_count\": 82423}, {\"percentile_ex_nulls\": 0.7265246510505676, \"percentile_inc_nulls\": 0.7265246510505676, \"value_count\": 17, \"group_name\": \"cltname_x\", \"total_non_null_rows\": 356310, \"total_rows_inc_nulls\": 356310, \"sum_tokens_in_value_count_group\": 3825.0, \"distinct_value_count\": 82423}, {\"percentile_ex_nulls\": 0.7136369943618774, \"percentile_inc_nulls\": 0.7136369943618774, \"value_count\": 16, \"group_name\": \"cltname_x\", \"total_non_null_rows\": 356310, \"total_rows_inc_nulls\": 356310, \"sum_tokens_in_value_count_group\": 4592.0, \"distinct_value_count\": 82423}, {\"percentile_ex_nulls\": 0.6991972923278809, \"percentile_inc_nulls\": 0.6991972923278809, \"value_count\": 15, \"group_name\": \"cltname_x\", \"total_non_null_rows\": 356310, \"total_rows_inc_nulls\": 356310, \"sum_tokens_in_value_count_group\": 5145.0, \"distinct_value_count\": 82423}, {\"percentile_ex_nulls\": 0.6840700507164001, \"percentile_inc_nulls\": 0.6840700507164001, \"value_count\": 14, \"group_name\": \"cltname_x\", \"total_non_null_rows\": 356310, \"total_rows_inc_nulls\": 356310, \"sum_tokens_in_value_count_group\": 5390.0, \"distinct_value_count\": 82423}, {\"percentile_ex_nulls\": 0.668527364730835, \"percentile_inc_nulls\": 0.668527364730835, \"value_count\": 13, \"group_name\": \"cltname_x\", \"total_non_null_rows\": 356310, \"total_rows_inc_nulls\": 356310, \"sum_tokens_in_value_count_group\": 5538.0, \"distinct_value_count\": 82423}, {\"percentile_ex_nulls\": 0.6427633166313171, \"percentile_inc_nulls\": 0.6427633166313171, \"value_count\": 12, \"group_name\": \"cltname_x\", \"total_non_null_rows\": 356310, \"total_rows_inc_nulls\": 356310, \"sum_tokens_in_value_count_group\": 9180.0, \"distinct_value_count\": 82423}, {\"percentile_ex_nulls\": 0.6210294365882874, \"percentile_inc_nulls\": 0.6210294365882874, \"value_count\": 11, \"group_name\": \"cltname_x\", \"total_non_null_rows\": 356310, \"total_rows_inc_nulls\": 356310, \"sum_tokens_in_value_count_group\": 7744.0, \"distinct_value_count\": 82423}, {\"percentile_ex_nulls\": 0.5863966941833496, \"percentile_inc_nulls\": 0.5863966941833496, \"value_count\": 10, \"group_name\": \"cltname_x\", \"total_non_null_rows\": 356310, \"total_rows_inc_nulls\": 356310, \"sum_tokens_in_value_count_group\": 12340.0, \"distinct_value_count\": 82423}, {\"percentile_ex_nulls\": 0.5599253177642822, \"percentile_inc_nulls\": 0.5599253177642822, \"value_count\": 9, \"group_name\": \"cltname_x\", \"total_non_null_rows\": 356310, \"total_rows_inc_nulls\": 356310, \"sum_tokens_in_value_count_group\": 9432.0, \"distinct_value_count\": 82423}, {\"percentile_ex_nulls\": 0.5181864500045776, \"percentile_inc_nulls\": 0.5181864500045776, \"value_count\": 8, \"group_name\": \"cltname_x\", \"total_non_null_rows\": 356310, \"total_rows_inc_nulls\": 356310, \"sum_tokens_in_value_count_group\": 14872.0, \"distinct_value_count\": 82423}, {\"percentile_ex_nulls\": 0.48060399293899536, \"percentile_inc_nulls\": 0.48060399293899536, \"value_count\": 7, \"group_name\": \"cltname_x\", \"total_non_null_rows\": 356310, \"total_rows_inc_nulls\": 356310, \"sum_tokens_in_value_count_group\": 13391.0, \"distinct_value_count\": 82423}, {\"percentile_ex_nulls\": 0.40536612272262573, \"percentile_inc_nulls\": 0.40536612272262573, \"value_count\": 6, \"group_name\": \"cltname_x\", \"total_non_null_rows\": 356310, \"total_rows_inc_nulls\": 356310, \"sum_tokens_in_value_count_group\": 26808.0, \"distinct_value_count\": 82423}, {\"percentile_ex_nulls\": 0.33746176958084106, \"percentile_inc_nulls\": 0.33746176958084106, \"value_count\": 5, \"group_name\": \"cltname_x\", \"total_non_null_rows\": 356310, \"total_rows_inc_nulls\": 356310, \"sum_tokens_in_value_count_group\": 24195.0, \"distinct_value_count\": 82423}, {\"percentile_ex_nulls\": 0.2434200644493103, \"percentile_inc_nulls\": 0.2434200644493103, \"value_count\": 4, \"group_name\": \"cltname_x\", \"total_non_null_rows\": 356310, \"total_rows_inc_nulls\": 356310, \"sum_tokens_in_value_count_group\": 33508.0, \"distinct_value_count\": 82423}, {\"percentile_ex_nulls\": 0.17193734645843506, \"percentile_inc_nulls\": 0.17193734645843506, \"value_count\": 3, \"group_name\": \"cltname_x\", \"total_non_null_rows\": 356310, \"total_rows_inc_nulls\": 356310, \"sum_tokens_in_value_count_group\": 25470.0, \"distinct_value_count\": 82423}, {\"percentile_ex_nulls\": 0.07794618606567383, \"percentile_inc_nulls\": 0.07794618606567383, \"value_count\": 2, \"group_name\": \"cltname_x\", \"total_non_null_rows\": 356310, \"total_rows_inc_nulls\": 356310, \"sum_tokens_in_value_count_group\": 33490.0, \"distinct_value_count\": 82423}, {\"percentile_ex_nulls\": 0.0, \"percentile_inc_nulls\": 0.0, \"value_count\": 1, \"group_name\": \"cltname_x\", \"total_non_null_rows\": 356310, \"total_rows_inc_nulls\": 356310, \"sum_tokens_in_value_count_group\": 27773.0, \"distinct_value_count\": 82423}, {\"percentile_ex_nulls\": 1.0, \"percentile_inc_nulls\": 1.0, \"value_count\": 651, \"group_name\": \"cltname_x\", \"total_non_null_rows\": 356310, \"total_rows_inc_nulls\": 356310, \"sum_tokens_in_value_count_group\": 651.0, \"distinct_value_count\": 82423}]}, \"encoding\": {\"tooltip\": [{\"field\": \"value_count\", \"type\": \"quantitative\"}, {\"field\": \"percentile_ex_nulls\", \"type\": \"quantitative\"}, {\"field\": \"percentile_inc_nulls\", \"type\": \"quantitative\"}, {\"field\": \"total_non_null_rows\", \"type\": \"quantitative\"}, {\"field\": \"total_rows_inc_nulls\", \"type\": \"quantitative\"}], \"x\": {\"field\": \"percentile_ex_nulls\", \"sort\": \"descending\", \"title\": \"Percentile\", \"type\": \"quantitative\"}, \"y\": {\"field\": \"value_count\", \"title\": \"Count of values\", \"type\": \"quantitative\"}}, \"title\": {\"text\": \"Distribution of counts of values in column cltname_x\", \"subtitle\": \"In this col, 0 values (0.0%) are null and there are 82423 distinct values\"}}, {\"mark\": \"bar\", \"data\": {\"values\": [{\"value_count\": 651, \"group_name\": \"cltname_x\", \"value\": \"asl limited\", \"total_non_null_rows\": 356310, \"total_rows_inc_nulls\": 356310, \"distinct_value_count\": 82423}, {\"value_count\": 604, \"group_name\": \"cltname_x\", \"value\": \"fair trade on declaration\", \"total_non_null_rows\": 356310, \"total_rows_inc_nulls\": 356310, \"distinct_value_count\": 82423}, {\"value_count\": 484, \"group_name\": \"cltname_x\", \"value\": \"prime mattress limited\", \"total_non_null_rows\": 356310, \"total_rows_inc_nulls\": 356310, \"distinct_value_count\": 82423}, {\"value_count\": 349, \"group_name\": \"cltname_x\", \"value\": \"flamingo horticulture kenya limited  trillvane limited and or associated and or subsidiary companies\", \"total_non_null_rows\": 356310, \"total_rows_inc_nulls\": 356310, \"distinct_value_count\": 82423}, {\"value_count\": 276, \"group_name\": \"cltname_x\", \"value\": \"mitchell cotts freight  k  limited\", \"total_non_null_rows\": 356310, \"total_rows_inc_nulls\": 356310, \"distinct_value_count\": 82423}, {\"value_count\": 264, \"group_name\": \"cltname_x\", \"value\": \"flamingo horticulture kenya limited and or associated and or subsidiary companies\", \"total_non_null_rows\": 356310, \"total_rows_inc_nulls\": 356310, \"distinct_value_count\": 82423}, {\"value_count\": 241, \"group_name\": \"cltname_x\", \"value\": \"ramco printing works limited\", \"total_non_null_rows\": 356310, \"total_rows_inc_nulls\": 356310, \"distinct_value_count\": 82423}, {\"value_count\": 235, \"group_name\": \"cltname_x\", \"value\": \"adrian kenya ltd\", \"total_non_null_rows\": 356310, \"total_rows_inc_nulls\": 356310, \"distinct_value_count\": 82423}, {\"value_count\": 229, \"group_name\": \"cltname_x\", \"value\": \"flamingo horticulture kenya limited\", \"total_non_null_rows\": 356310, \"total_rows_inc_nulls\": 356310, \"distinct_value_count\": 82423}, {\"value_count\": 223, \"group_name\": \"cltname_x\", \"value\": \"polythene industries ltd\", \"total_non_null_rows\": 356310, \"total_rows_inc_nulls\": 356310, \"distinct_value_count\": 82423}]}, \"encoding\": {\"tooltip\": [{\"field\": \"value\", \"type\": \"nominal\"}, {\"field\": \"value_count\", \"type\": \"quantitative\"}, {\"field\": \"total_non_null_rows\", \"type\": \"quantitative\"}, {\"field\": \"total_rows_inc_nulls\", \"type\": \"quantitative\"}], \"x\": {\"field\": \"value\", \"sort\": \"-y\", \"title\": null, \"type\": \"nominal\"}, \"y\": {\"field\": \"value_count\", \"title\": \"Value count\", \"type\": \"quantitative\"}}, \"title\": \"Top 10 values by value count\"}, {\"mark\": \"bar\", \"data\": {\"values\": [{\"value_count\": 1, \"group_name\": \"cltname_x\", \"value\": \"joseph kiama karanja\", \"total_non_null_rows\": 356310, \"total_rows_inc_nulls\": 356310, \"distinct_value_count\": 82423}, {\"value_count\": 1, \"group_name\": \"cltname_x\", \"value\": \"archana hardware & spares\", \"total_non_null_rows\": 356310, \"total_rows_inc_nulls\": 356310, \"distinct_value_count\": 82423}, {\"value_count\": 1, \"group_name\": \"cltname_x\", \"value\": \"highrider engineering & road work\", \"total_non_null_rows\": 356310, \"total_rows_inc_nulls\": 356310, \"distinct_value_count\": 82423}, {\"value_count\": 1, \"group_name\": \"cltname_x\", \"value\": \"mijungu clifford ochieng\", \"total_non_null_rows\": 356310, \"total_rows_inc_nulls\": 356310, \"distinct_value_count\": 82423}, {\"value_count\": 1, \"group_name\": \"cltname_x\", \"value\": \"elizabeth wangare belyon\", \"total_non_null_rows\": 356310, \"total_rows_inc_nulls\": 356310, \"distinct_value_count\": 82423}]}, \"encoding\": {\"tooltip\": [{\"field\": \"value\", \"type\": \"nominal\"}, {\"field\": \"value_count\", \"type\": \"quantitative\"}, {\"field\": \"total_non_null_rows\", \"type\": \"quantitative\"}, {\"field\": \"total_rows_inc_nulls\", \"type\": \"quantitative\"}], \"x\": {\"field\": \"value\", \"sort\": \"-y\", \"title\": null, \"type\": \"nominal\"}, \"y\": {\"field\": \"value_count\", \"scale\": {\"domain\": [0, 651]}, \"title\": \"Value count\", \"type\": \"quantitative\"}}, \"title\": \"Bottom 5 values by value count\"}]}, {\"hconcat\": [{\"mark\": {\"type\": \"line\", \"interpolate\": \"step-after\"}, \"data\": {\"values\": [{\"percentile_ex_nulls\": 0.9998596906661987, \"percentile_inc_nulls\": 0.9998596906661987, \"value_count\": 50, \"group_name\": \"PolPcId\", \"total_non_null_rows\": 356310, \"total_rows_inc_nulls\": 356310, \"sum_tokens_in_value_count_group\": 50.0, \"distinct_value_count\": 131308}, {\"percentile_ex_nulls\": 0.9997221231460571, \"percentile_inc_nulls\": 0.9997221231460571, \"value_count\": 49, \"group_name\": \"PolPcId\", \"total_non_null_rows\": 356310, \"total_rows_inc_nulls\": 356310, \"sum_tokens_in_value_count_group\": 49.0, \"distinct_value_count\": 131308}, {\"percentile_ex_nulls\": 0.9995874166488647, \"percentile_inc_nulls\": 0.9995874166488647, \"value_count\": 48, \"group_name\": \"PolPcId\", \"total_non_null_rows\": 356310, \"total_rows_inc_nulls\": 356310, \"sum_tokens_in_value_count_group\": 48.0, \"distinct_value_count\": 131308}, {\"percentile_ex_nulls\": 0.9994555115699768, \"percentile_inc_nulls\": 0.9994555115699768, \"value_count\": 47, \"group_name\": \"PolPcId\", \"total_non_null_rows\": 356310, \"total_rows_inc_nulls\": 356310, \"sum_tokens_in_value_count_group\": 47.0, \"distinct_value_count\": 131308}, {\"percentile_ex_nulls\": 0.9990766644477844, \"percentile_inc_nulls\": 0.9990766644477844, \"value_count\": 45, \"group_name\": \"PolPcId\", \"total_non_null_rows\": 356310, \"total_rows_inc_nulls\": 356310, \"sum_tokens_in_value_count_group\": 135.0, \"distinct_value_count\": 131308}, {\"percentile_ex_nulls\": 0.9989531636238098, \"percentile_inc_nulls\": 0.9989531636238098, \"value_count\": 44, \"group_name\": \"PolPcId\", \"total_non_null_rows\": 356310, \"total_rows_inc_nulls\": 356310, \"sum_tokens_in_value_count_group\": 44.0, \"distinct_value_count\": 131308}, {\"percentile_ex_nulls\": 0.9985911250114441, \"percentile_inc_nulls\": 0.9985911250114441, \"value_count\": 43, \"group_name\": \"PolPcId\", \"total_non_null_rows\": 356310, \"total_rows_inc_nulls\": 356310, \"sum_tokens_in_value_count_group\": 129.0, \"distinct_value_count\": 131308}, {\"percentile_ex_nulls\": 0.9983553886413574, \"percentile_inc_nulls\": 0.9983553886413574, \"value_count\": 42, \"group_name\": \"PolPcId\", \"total_non_null_rows\": 356310, \"total_rows_inc_nulls\": 356310, \"sum_tokens_in_value_count_group\": 84.0, \"distinct_value_count\": 131308}, {\"percentile_ex_nulls\": 0.9978950619697571, \"percentile_inc_nulls\": 0.9978950619697571, \"value_count\": 41, \"group_name\": \"PolPcId\", \"total_non_null_rows\": 356310, \"total_rows_inc_nulls\": 356310, \"sum_tokens_in_value_count_group\": 164.0, \"distinct_value_count\": 131308}, {\"percentile_ex_nulls\": 0.997670590877533, \"percentile_inc_nulls\": 0.997670590877533, \"value_count\": 40, \"group_name\": \"PolPcId\", \"total_non_null_rows\": 356310, \"total_rows_inc_nulls\": 356310, \"sum_tokens_in_value_count_group\": 80.0, \"distinct_value_count\": 131308}, {\"percentile_ex_nulls\": 0.997451663017273, \"percentile_inc_nulls\": 0.997451663017273, \"value_count\": 39, \"group_name\": \"PolPcId\", \"total_non_null_rows\": 356310, \"total_rows_inc_nulls\": 356310, \"sum_tokens_in_value_count_group\": 78.0, \"distinct_value_count\": 131308}, {\"percentile_ex_nulls\": 0.9971317052841187, \"percentile_inc_nulls\": 0.9971317052841187, \"value_count\": 38, \"group_name\": \"PolPcId\", \"total_non_null_rows\": 356310, \"total_rows_inc_nulls\": 356310, \"sum_tokens_in_value_count_group\": 114.0, \"distinct_value_count\": 131308}, {\"percentile_ex_nulls\": 0.9966124892234802, \"percentile_inc_nulls\": 0.9966124892234802, \"value_count\": 37, \"group_name\": \"PolPcId\", \"total_non_null_rows\": 356310, \"total_rows_inc_nulls\": 356310, \"sum_tokens_in_value_count_group\": 185.0, \"distinct_value_count\": 131308}, {\"percentile_ex_nulls\": 0.9958041906356812, \"percentile_inc_nulls\": 0.9958041906356812, \"value_count\": 36, \"group_name\": \"PolPcId\", \"total_non_null_rows\": 356310, \"total_rows_inc_nulls\": 356310, \"sum_tokens_in_value_count_group\": 288.0, \"distinct_value_count\": 131308}, {\"percentile_ex_nulls\": 0.9951165914535522, \"percentile_inc_nulls\": 0.9951165914535522, \"value_count\": 35, \"group_name\": \"PolPcId\", \"total_non_null_rows\": 356310, \"total_rows_inc_nulls\": 356310, \"sum_tokens_in_value_count_group\": 245.0, \"distinct_value_count\": 131308}, {\"percentile_ex_nulls\": 0.9949257373809814, \"percentile_inc_nulls\": 0.9949257373809814, \"value_count\": 34, \"group_name\": \"PolPcId\", \"total_non_null_rows\": 356310, \"total_rows_inc_nulls\": 356310, \"sum_tokens_in_value_count_group\": 68.0, \"distinct_value_count\": 131308}, {\"percentile_ex_nulls\": 0.9944626688957214, \"percentile_inc_nulls\": 0.9944626688957214, \"value_count\": 33, \"group_name\": \"PolPcId\", \"total_non_null_rows\": 356310, \"total_rows_inc_nulls\": 356310, \"sum_tokens_in_value_count_group\": 165.0, \"distinct_value_count\": 131308}, {\"percentile_ex_nulls\": 0.9940136671066284, \"percentile_inc_nulls\": 0.9940136671066284, \"value_count\": 32, \"group_name\": \"PolPcId\", \"total_non_null_rows\": 356310, \"total_rows_inc_nulls\": 356310, \"sum_tokens_in_value_count_group\": 160.0, \"distinct_value_count\": 131308}, {\"percentile_ex_nulls\": 0.9936656355857849, \"percentile_inc_nulls\": 0.9936656355857849, \"value_count\": 31, \"group_name\": \"PolPcId\", \"total_non_null_rows\": 356310, \"total_rows_inc_nulls\": 356310, \"sum_tokens_in_value_count_group\": 124.0, \"distinct_value_count\": 131308}, {\"percentile_ex_nulls\": 0.9929920434951782, \"percentile_inc_nulls\": 0.9929920434951782, \"value_count\": 30, \"group_name\": \"PolPcId\", \"total_non_null_rows\": 356310, \"total_rows_inc_nulls\": 356310, \"sum_tokens_in_value_count_group\": 240.0, \"distinct_value_count\": 131308}, {\"percentile_ex_nulls\": 0.992666482925415, \"percentile_inc_nulls\": 0.992666482925415, \"value_count\": 29, \"group_name\": \"PolPcId\", \"total_non_null_rows\": 356310, \"total_rows_inc_nulls\": 356310, \"sum_tokens_in_value_count_group\": 116.0, \"distinct_value_count\": 131308}, {\"percentile_ex_nulls\": 0.9925093054771423, \"percentile_inc_nulls\": 0.9925093054771423, \"value_count\": 28, \"group_name\": \"PolPcId\", \"total_non_null_rows\": 356310, \"total_rows_inc_nulls\": 356310, \"sum_tokens_in_value_count_group\": 56.0, \"distinct_value_count\": 131308}, {\"percentile_ex_nulls\": 0.9924335479736328, \"percentile_inc_nulls\": 0.9924335479736328, \"value_count\": 27, \"group_name\": \"PolPcId\", \"total_non_null_rows\": 356310, \"total_rows_inc_nulls\": 356310, \"sum_tokens_in_value_count_group\": 27.0, \"distinct_value_count\": 131308}, {\"percentile_ex_nulls\": 0.9918497800827026, \"percentile_inc_nulls\": 0.9918497800827026, \"value_count\": 26, \"group_name\": \"PolPcId\", \"total_non_null_rows\": 356310, \"total_rows_inc_nulls\": 356310, \"sum_tokens_in_value_count_group\": 208.0, \"distinct_value_count\": 131308}, {\"percentile_ex_nulls\": 0.9911481738090515, \"percentile_inc_nulls\": 0.9911481738090515, \"value_count\": 25, \"group_name\": \"PolPcId\", \"total_non_null_rows\": 356310, \"total_rows_inc_nulls\": 356310, \"sum_tokens_in_value_count_group\": 250.0, \"distinct_value_count\": 131308}, {\"percentile_ex_nulls\": 0.9891274571418762, \"percentile_inc_nulls\": 0.9891274571418762, \"value_count\": 24, \"group_name\": \"PolPcId\", \"total_non_null_rows\": 356310, \"total_rows_inc_nulls\": 356310, \"sum_tokens_in_value_count_group\": 720.0, \"distinct_value_count\": 131308}, {\"percentile_ex_nulls\": 0.988675594329834, \"percentile_inc_nulls\": 0.988675594329834, \"value_count\": 23, \"group_name\": \"PolPcId\", \"total_non_null_rows\": 356310, \"total_rows_inc_nulls\": 356310, \"sum_tokens_in_value_count_group\": 161.0, \"distinct_value_count\": 131308}, {\"percentile_ex_nulls\": 0.9881816506385803, \"percentile_inc_nulls\": 0.9881816506385803, \"value_count\": 22, \"group_name\": \"PolPcId\", \"total_non_null_rows\": 356310, \"total_rows_inc_nulls\": 356310, \"sum_tokens_in_value_count_group\": 176.0, \"distinct_value_count\": 131308}, {\"percentile_ex_nulls\": 0.9875333309173584, \"percentile_inc_nulls\": 0.9875333309173584, \"value_count\": 21, \"group_name\": \"PolPcId\", \"total_non_null_rows\": 356310, \"total_rows_inc_nulls\": 356310, \"sum_tokens_in_value_count_group\": 231.0, \"distinct_value_count\": 131308}, {\"percentile_ex_nulls\": 0.9846706390380859, \"percentile_inc_nulls\": 0.9846706390380859, \"value_count\": 20, \"group_name\": \"PolPcId\", \"total_non_null_rows\": 356310, \"total_rows_inc_nulls\": 356310, \"sum_tokens_in_value_count_group\": 1020.0, \"distinct_value_count\": 131308}, {\"percentile_ex_nulls\": 0.983817458152771, \"percentile_inc_nulls\": 0.983817458152771, \"value_count\": 19, \"group_name\": \"PolPcId\", \"total_non_null_rows\": 356310, \"total_rows_inc_nulls\": 356310, \"sum_tokens_in_value_count_group\": 304.0, \"distinct_value_count\": 131308}, {\"percentile_ex_nulls\": 0.9812915921211243, \"percentile_inc_nulls\": 0.9812915921211243, \"value_count\": 18, \"group_name\": \"PolPcId\", \"total_non_null_rows\": 356310, \"total_rows_inc_nulls\": 356310, \"sum_tokens_in_value_count_group\": 900.0, \"distinct_value_count\": 131308}, {\"percentile_ex_nulls\": 0.9801465272903442, \"percentile_inc_nulls\": 0.9801465272903442, \"value_count\": 17, \"group_name\": \"PolPcId\", \"total_non_null_rows\": 356310, \"total_rows_inc_nulls\": 356310, \"sum_tokens_in_value_count_group\": 408.0, \"distinct_value_count\": 131308}, {\"percentile_ex_nulls\": 0.9778114557266235, \"percentile_inc_nulls\": 0.9778114557266235, \"value_count\": 16, \"group_name\": \"PolPcId\", \"total_non_null_rows\": 356310, \"total_rows_inc_nulls\": 356310, \"sum_tokens_in_value_count_group\": 832.0, \"distinct_value_count\": 131308}, {\"percentile_ex_nulls\": 0.9745277762413025, \"percentile_inc_nulls\": 0.9745277762413025, \"value_count\": 15, \"group_name\": \"PolPcId\", \"total_non_null_rows\": 356310, \"total_rows_inc_nulls\": 356310, \"sum_tokens_in_value_count_group\": 1170.0, \"distinct_value_count\": 131308}, {\"percentile_ex_nulls\": 0.9707950949668884, \"percentile_inc_nulls\": 0.9707950949668884, \"value_count\": 14, \"group_name\": \"PolPcId\", \"total_non_null_rows\": 356310, \"total_rows_inc_nulls\": 356310, \"sum_tokens_in_value_count_group\": 1330.0, \"distinct_value_count\": 131308}, {\"percentile_ex_nulls\": 0.9648115634918213, \"percentile_inc_nulls\": 0.9648115634918213, \"value_count\": 13, \"group_name\": \"PolPcId\", \"total_non_null_rows\": 356310, \"total_rows_inc_nulls\": 356310, \"sum_tokens_in_value_count_group\": 2132.0, \"distinct_value_count\": 131308}, {\"percentile_ex_nulls\": 0.944907546043396, \"percentile_inc_nulls\": 0.944907546043396, \"value_count\": 12, \"group_name\": \"PolPcId\", \"total_non_null_rows\": 356310, \"total_rows_inc_nulls\": 356310, \"sum_tokens_in_value_count_group\": 7092.0, \"distinct_value_count\": 131308}, {\"percentile_ex_nulls\": 0.9358311891555786, \"percentile_inc_nulls\": 0.9358311891555786, \"value_count\": 11, \"group_name\": \"PolPcId\", \"total_non_null_rows\": 356310, \"total_rows_inc_nulls\": 356310, \"sum_tokens_in_value_count_group\": 3234.0, \"distinct_value_count\": 131308}, {\"percentile_ex_nulls\": 0.9061940312385559, \"percentile_inc_nulls\": 0.9061940312385559, \"value_count\": 10, \"group_name\": \"PolPcId\", \"total_non_null_rows\": 356310, \"total_rows_inc_nulls\": 356310, \"sum_tokens_in_value_count_group\": 10560.0, \"distinct_value_count\": 131308}, {\"percentile_ex_nulls\": 0.889674723148346, \"percentile_inc_nulls\": 0.889674723148346, \"value_count\": 9, \"group_name\": \"PolPcId\", \"total_non_null_rows\": 356310, \"total_rows_inc_nulls\": 356310, \"sum_tokens_in_value_count_group\": 5886.0, \"distinct_value_count\": 131308}, {\"percentile_ex_nulls\": 0.8489012718200684, \"percentile_inc_nulls\": 0.8489012718200684, \"value_count\": 8, \"group_name\": \"PolPcId\", \"total_non_null_rows\": 356310, \"total_rows_inc_nulls\": 356310, \"sum_tokens_in_value_count_group\": 14528.0, \"distinct_value_count\": 131308}, {\"percentile_ex_nulls\": 0.8129100799560547, \"percentile_inc_nulls\": 0.8129100799560547, \"value_count\": 7, \"group_name\": \"PolPcId\", \"total_non_null_rows\": 356310, \"total_rows_inc_nulls\": 356310, \"sum_tokens_in_value_count_group\": 12824.0, \"distinct_value_count\": 131308}, {\"percentile_ex_nulls\": 0.6779433488845825, \"percentile_inc_nulls\": 0.6779433488845825, \"value_count\": 6, \"group_name\": \"PolPcId\", \"total_non_null_rows\": 356310, \"total_rows_inc_nulls\": 356310, \"sum_tokens_in_value_count_group\": 48090.0, \"distinct_value_count\": 131308}, {\"percentile_ex_nulls\": 0.5533187389373779, \"percentile_inc_nulls\": 0.5533187389373779, \"value_count\": 5, \"group_name\": \"PolPcId\", \"total_non_null_rows\": 356310, \"total_rows_inc_nulls\": 356310, \"sum_tokens_in_value_count_group\": 44405.0, \"distinct_value_count\": 131308}, {\"percentile_ex_nulls\": 0.4081193208694458, \"percentile_inc_nulls\": 0.4081193208694458, \"value_count\": 4, \"group_name\": \"PolPcId\", \"total_non_null_rows\": 356310, \"total_rows_inc_nulls\": 356310, \"sum_tokens_in_value_count_group\": 51736.0, \"distinct_value_count\": 131308}, {\"percentile_ex_nulls\": 0.3006426692008972, \"percentile_inc_nulls\": 0.3006426692008972, \"value_count\": 3, \"group_name\": \"PolPcId\", \"total_non_null_rows\": 356310, \"total_rows_inc_nulls\": 356310, \"sum_tokens_in_value_count_group\": 38295.0, \"distinct_value_count\": 131308}, {\"percentile_ex_nulls\": 0.15845751762390137, \"percentile_inc_nulls\": 0.15845751762390137, \"value_count\": 2, \"group_name\": \"PolPcId\", \"total_non_null_rows\": 356310, \"total_rows_inc_nulls\": 356310, \"sum_tokens_in_value_count_group\": 50662.0, \"distinct_value_count\": 131308}, {\"percentile_ex_nulls\": 0.0, \"percentile_inc_nulls\": 0.0, \"value_count\": 1, \"group_name\": \"PolPcId\", \"total_non_null_rows\": 356310, \"total_rows_inc_nulls\": 356310, \"sum_tokens_in_value_count_group\": 56460.0, \"distinct_value_count\": 131308}, {\"percentile_ex_nulls\": 1.0, \"percentile_inc_nulls\": 1.0, \"value_count\": 50, \"group_name\": \"PolPcId\", \"total_non_null_rows\": 356310, \"total_rows_inc_nulls\": 356310, \"sum_tokens_in_value_count_group\": 50.0, \"distinct_value_count\": 131308}]}, \"encoding\": {\"tooltip\": [{\"field\": \"value_count\", \"type\": \"quantitative\"}, {\"field\": \"percentile_ex_nulls\", \"type\": \"quantitative\"}, {\"field\": \"percentile_inc_nulls\", \"type\": \"quantitative\"}, {\"field\": \"total_non_null_rows\", \"type\": \"quantitative\"}, {\"field\": \"total_rows_inc_nulls\", \"type\": \"quantitative\"}], \"x\": {\"field\": \"percentile_ex_nulls\", \"sort\": \"descending\", \"title\": \"Percentile\", \"type\": \"quantitative\"}, \"y\": {\"field\": \"value_count\", \"title\": \"Count of values\", \"type\": \"quantitative\"}}, \"title\": {\"text\": \"Distribution of counts of values in column PolPcId\", \"subtitle\": \"In this col, 0 values (0.0%) are null and there are 131308 distinct values\"}}, {\"mark\": \"bar\", \"data\": {\"values\": [{\"value_count\": 50, \"group_name\": \"PolPcId\", \"value\": \"1167767\", \"total_non_null_rows\": 356310, \"total_rows_inc_nulls\": 356310, \"distinct_value_count\": 131308}, {\"value_count\": 49, \"group_name\": \"PolPcId\", \"value\": \"1167052\", \"total_non_null_rows\": 356310, \"total_rows_inc_nulls\": 356310, \"distinct_value_count\": 131308}, {\"value_count\": 48, \"group_name\": \"PolPcId\", \"value\": \"1166781\", \"total_non_null_rows\": 356310, \"total_rows_inc_nulls\": 356310, \"distinct_value_count\": 131308}, {\"value_count\": 47, \"group_name\": \"PolPcId\", \"value\": \"1168992\", \"total_non_null_rows\": 356310, \"total_rows_inc_nulls\": 356310, \"distinct_value_count\": 131308}, {\"value_count\": 45, \"group_name\": \"PolPcId\", \"value\": \"1158488\", \"total_non_null_rows\": 356310, \"total_rows_inc_nulls\": 356310, \"distinct_value_count\": 131308}, {\"value_count\": 45, \"group_name\": \"PolPcId\", \"value\": \"1158490\", \"total_non_null_rows\": 356310, \"total_rows_inc_nulls\": 356310, \"distinct_value_count\": 131308}, {\"value_count\": 45, \"group_name\": \"PolPcId\", \"value\": \"1172093\", \"total_non_null_rows\": 356310, \"total_rows_inc_nulls\": 356310, \"distinct_value_count\": 131308}, {\"value_count\": 44, \"group_name\": \"PolPcId\", \"value\": \"1174843\", \"total_non_null_rows\": 356310, \"total_rows_inc_nulls\": 356310, \"distinct_value_count\": 131308}, {\"value_count\": 43, \"group_name\": \"PolPcId\", \"value\": \"1166562\", \"total_non_null_rows\": 356310, \"total_rows_inc_nulls\": 356310, \"distinct_value_count\": 131308}, {\"value_count\": 43, \"group_name\": \"PolPcId\", \"value\": \"1180295\", \"total_non_null_rows\": 356310, \"total_rows_inc_nulls\": 356310, \"distinct_value_count\": 131308}]}, \"encoding\": {\"tooltip\": [{\"field\": \"value\", \"type\": \"nominal\"}, {\"field\": \"value_count\", \"type\": \"quantitative\"}, {\"field\": \"total_non_null_rows\", \"type\": \"quantitative\"}, {\"field\": \"total_rows_inc_nulls\", \"type\": \"quantitative\"}], \"x\": {\"field\": \"value\", \"sort\": \"-y\", \"title\": null, \"type\": \"nominal\"}, \"y\": {\"field\": \"value_count\", \"title\": \"Value count\", \"type\": \"quantitative\"}}, \"title\": \"Top 10 values by value count\"}, {\"mark\": \"bar\", \"data\": {\"values\": [{\"value_count\": 1, \"group_name\": \"PolPcId\", \"value\": \"70597\", \"total_non_null_rows\": 356310, \"total_rows_inc_nulls\": 356310, \"distinct_value_count\": 131308}, {\"value_count\": 1, \"group_name\": \"PolPcId\", \"value\": \"1184890\", \"total_non_null_rows\": 356310, \"total_rows_inc_nulls\": 356310, \"distinct_value_count\": 131308}, {\"value_count\": 1, \"group_name\": \"PolPcId\", \"value\": \"1185919\", \"total_non_null_rows\": 356310, \"total_rows_inc_nulls\": 356310, \"distinct_value_count\": 131308}, {\"value_count\": 1, \"group_name\": \"PolPcId\", \"value\": \"1183737\", \"total_non_null_rows\": 356310, \"total_rows_inc_nulls\": 356310, \"distinct_value_count\": 131308}, {\"value_count\": 1, \"group_name\": \"PolPcId\", \"value\": \"1183720\", \"total_non_null_rows\": 356310, \"total_rows_inc_nulls\": 356310, \"distinct_value_count\": 131308}]}, \"encoding\": {\"tooltip\": [{\"field\": \"value\", \"type\": \"nominal\"}, {\"field\": \"value_count\", \"type\": \"quantitative\"}, {\"field\": \"total_non_null_rows\", \"type\": \"quantitative\"}, {\"field\": \"total_rows_inc_nulls\", \"type\": \"quantitative\"}], \"x\": {\"field\": \"value\", \"sort\": \"-y\", \"title\": null, \"type\": \"nominal\"}, \"y\": {\"field\": \"value_count\", \"scale\": {\"domain\": [0, 50]}, \"title\": \"Value count\", \"type\": \"quantitative\"}}, \"title\": \"Bottom 5 values by value count\"}]}, {\"hconcat\": [{\"mark\": {\"type\": \"line\", \"interpolate\": \"step-after\"}, \"data\": {\"values\": [{\"percentile_ex_nulls\": 0.9249187111854553, \"percentile_inc_nulls\": 0.9346720576286316, \"value_count\": 23277, \"group_name\": \"ClientPinNumber\", \"total_non_null_rows\": 310024, \"total_rows_inc_nulls\": 356310, \"sum_tokens_in_value_count_group\": 23277.0, \"distinct_value_count\": 57160}, {\"percentile_ex_nulls\": 0.9205609560012817, \"percentile_inc_nulls\": 0.9308804273605347, \"value_count\": 1351, \"group_name\": \"ClientPinNumber\", \"total_non_null_rows\": 310024, \"total_rows_inc_nulls\": 356310, \"sum_tokens_in_value_count_group\": 1351.0, \"distinct_value_count\": 57160}, {\"percentile_ex_nulls\": 0.9172257781028748, \"percentile_inc_nulls\": 0.9279784560203552, \"value_count\": 1034, \"group_name\": \"ClientPinNumber\", \"total_non_null_rows\": 310024, \"total_rows_inc_nulls\": 356310, \"sum_tokens_in_value_count_group\": 1034.0, \"distinct_value_count\": 57160}, {\"percentile_ex_nulls\": 0.9142389297485352, \"percentile_inc_nulls\": 0.9253795742988586, \"value_count\": 926, \"group_name\": \"ClientPinNumber\", \"total_non_null_rows\": 310024, \"total_rows_inc_nulls\": 356310, \"sum_tokens_in_value_count_group\": 926.0, \"distinct_value_count\": 57160}, {\"percentile_ex_nulls\": 0.9113681316375732, \"percentile_inc_nulls\": 0.9228817820549011, \"value_count\": 890, \"group_name\": \"ClientPinNumber\", \"total_non_null_rows\": 310024, \"total_rows_inc_nulls\": 356310, \"sum_tokens_in_value_count_group\": 890.0, \"distinct_value_count\": 57160}, {\"percentile_ex_nulls\": 0.9086070656776428, \"percentile_inc_nulls\": 0.9204793572425842, \"value_count\": 856, \"group_name\": \"ClientPinNumber\", \"total_non_null_rows\": 310024, \"total_rows_inc_nulls\": 356310, \"sum_tokens_in_value_count_group\": 856.0, \"distinct_value_count\": 57160}, {\"percentile_ex_nulls\": 0.9063491821289062, \"percentile_inc_nulls\": 0.9185147881507874, \"value_count\": 700, \"group_name\": \"ClientPinNumber\", \"total_non_null_rows\": 310024, \"total_rows_inc_nulls\": 356310, \"sum_tokens_in_value_count_group\": 700.0, \"distinct_value_count\": 57160}, {\"percentile_ex_nulls\": 0.9042590260505676, \"percentile_inc_nulls\": 0.9166961312294006, \"value_count\": 648, \"group_name\": \"ClientPinNumber\", \"total_non_null_rows\": 310024, \"total_rows_inc_nulls\": 356310, \"sum_tokens_in_value_count_group\": 648.0, \"distinct_value_count\": 57160}, {\"percentile_ex_nulls\": 0.9022269248962402, \"percentile_inc_nulls\": 0.9149280190467834, \"value_count\": 630, \"group_name\": \"ClientPinNumber\", \"total_non_null_rows\": 310024, \"total_rows_inc_nulls\": 356310, \"sum_tokens_in_value_count_group\": 630.0, \"distinct_value_count\": 57160}, {\"percentile_ex_nulls\": 0.9002400040626526, \"percentile_inc_nulls\": 0.9131991863250732, \"value_count\": 616, \"group_name\": \"ClientPinNumber\", \"total_non_null_rows\": 310024, \"total_rows_inc_nulls\": 356310, \"sum_tokens_in_value_count_group\": 616.0, \"distinct_value_count\": 57160}, {\"percentile_ex_nulls\": 0.898256242275238, \"percentile_inc_nulls\": 0.9114731550216675, \"value_count\": 615, \"group_name\": \"ClientPinNumber\", \"total_non_null_rows\": 310024, \"total_rows_inc_nulls\": 356310, \"sum_tokens_in_value_count_group\": 615.0, \"distinct_value_count\": 57160}, {\"percentile_ex_nulls\": 0.8964338302612305, \"percentile_inc_nulls\": 0.909887433052063, \"value_count\": 565, \"group_name\": \"ClientPinNumber\", \"total_non_null_rows\": 310024, \"total_rows_inc_nulls\": 356310, \"sum_tokens_in_value_count_group\": 565.0, \"distinct_value_count\": 57160}, {\"percentile_ex_nulls\": 0.8948952555656433, \"percentile_inc_nulls\": 0.9085487127304077, \"value_count\": 477, \"group_name\": \"ClientPinNumber\", \"total_non_null_rows\": 310024, \"total_rows_inc_nulls\": 356310, \"sum_tokens_in_value_count_group\": 477.0, \"distinct_value_count\": 57160}, {\"percentile_ex_nulls\": 0.8934534192085266, \"percentile_inc_nulls\": 0.9072942137718201, \"value_count\": 447, \"group_name\": \"ClientPinNumber\", \"total_non_null_rows\": 310024, \"total_rows_inc_nulls\": 356310, \"sum_tokens_in_value_count_group\": 447.0, \"distinct_value_count\": 57160}, {\"percentile_ex_nulls\": 0.8920373916625977, \"percentile_inc_nulls\": 0.906062126159668, \"value_count\": 439, \"group_name\": \"ClientPinNumber\", \"total_non_null_rows\": 310024, \"total_rows_inc_nulls\": 356310, \"sum_tokens_in_value_count_group\": 439.0, \"distinct_value_count\": 57160}, {\"percentile_ex_nulls\": 0.8906503915786743, \"percentile_inc_nulls\": 0.9048553109169006, \"value_count\": 430, \"group_name\": \"ClientPinNumber\", \"total_non_null_rows\": 310024, \"total_rows_inc_nulls\": 356310, \"sum_tokens_in_value_count_group\": 430.0, \"distinct_value_count\": 57160}, {\"percentile_ex_nulls\": 0.8893117904663086, \"percentile_inc_nulls\": 0.9036905765533447, \"value_count\": 415, \"group_name\": \"ClientPinNumber\", \"total_non_null_rows\": 310024, \"total_rows_inc_nulls\": 356310, \"sum_tokens_in_value_count_group\": 415.0, \"distinct_value_count\": 57160}, {\"percentile_ex_nulls\": 0.8879989981651306, \"percentile_inc_nulls\": 0.9025483131408691, \"value_count\": 407, \"group_name\": \"ClientPinNumber\", \"total_non_null_rows\": 310024, \"total_rows_inc_nulls\": 356310, \"sum_tokens_in_value_count_group\": 407.0, \"distinct_value_count\": 57160}, {\"percentile_ex_nulls\": 0.8866894245147705, \"percentile_inc_nulls\": 0.9014089107513428, \"value_count\": 406, \"group_name\": \"ClientPinNumber\", \"total_non_null_rows\": 310024, \"total_rows_inc_nulls\": 356310, \"sum_tokens_in_value_count_group\": 406.0, \"distinct_value_count\": 57160}, {\"percentile_ex_nulls\": 0.8854959607124329, \"percentile_inc_nulls\": 0.9003704786300659, \"value_count\": 370, \"group_name\": \"ClientPinNumber\", \"total_non_null_rows\": 310024, \"total_rows_inc_nulls\": 356310, \"sum_tokens_in_value_count_group\": 370.0, \"distinct_value_count\": 57160}, {\"percentile_ex_nulls\": 0.8844057321548462, \"percentile_inc_nulls\": 0.8994218707084656, \"value_count\": 338, \"group_name\": \"ClientPinNumber\", \"total_non_null_rows\": 310024, \"total_rows_inc_nulls\": 356310, \"sum_tokens_in_value_count_group\": 338.0, \"distinct_value_count\": 57160}, {\"percentile_ex_nulls\": 0.8822639584541321, \"percentile_inc_nulls\": 0.897558331489563, \"value_count\": 332, \"group_name\": \"ClientPinNumber\", \"total_non_null_rows\": 310024, \"total_rows_inc_nulls\": 356310, \"sum_tokens_in_value_count_group\": 664.0, \"distinct_value_count\": 57160}, {\"percentile_ex_nulls\": 0.8812317848205566, \"percentile_inc_nulls\": 0.8966602087020874, \"value_count\": 320, \"group_name\": \"ClientPinNumber\", \"total_non_null_rows\": 310024, \"total_rows_inc_nulls\": 356310, \"sum_tokens_in_value_count_group\": 320.0, \"distinct_value_count\": 57160}, {\"percentile_ex_nulls\": 0.8802382946014404, \"percentile_inc_nulls\": 0.8957958221435547, \"value_count\": 308, \"group_name\": \"ClientPinNumber\", \"total_non_null_rows\": 310024, \"total_rows_inc_nulls\": 356310, \"sum_tokens_in_value_count_group\": 308.0, \"distinct_value_count\": 57160}, {\"percentile_ex_nulls\": 0.8783481121063232, \"percentile_inc_nulls\": 0.8941511511802673, \"value_count\": 293, \"group_name\": \"ClientPinNumber\", \"total_non_null_rows\": 310024, \"total_rows_inc_nulls\": 356310, \"sum_tokens_in_value_count_group\": 586.0, \"distinct_value_count\": 57160}, {\"percentile_ex_nulls\": 0.8775449395179749, \"percentile_inc_nulls\": 0.8934523463249207, \"value_count\": 249, \"group_name\": \"ClientPinNumber\", \"total_non_null_rows\": 310024, \"total_rows_inc_nulls\": 356310, \"sum_tokens_in_value_count_group\": 249.0, \"distinct_value_count\": 57160}, {\"percentile_ex_nulls\": 0.8767514824867249, \"percentile_inc_nulls\": 0.8927619457244873, \"value_count\": 246, \"group_name\": \"ClientPinNumber\", \"total_non_null_rows\": 310024, \"total_rows_inc_nulls\": 356310, \"sum_tokens_in_value_count_group\": 246.0, \"distinct_value_count\": 57160}, {\"percentile_ex_nulls\": 0.8759805560112, \"percentile_inc_nulls\": 0.8920911550521851, \"value_count\": 239, \"group_name\": \"ClientPinNumber\", \"total_non_null_rows\": 310024, \"total_rows_inc_nulls\": 356310, \"sum_tokens_in_value_count_group\": 239.0, \"distinct_value_count\": 57160}, {\"percentile_ex_nulls\": 0.8752257823944092, \"percentile_inc_nulls\": 0.8914344310760498, \"value_count\": 234, \"group_name\": \"ClientPinNumber\", \"total_non_null_rows\": 310024, \"total_rows_inc_nulls\": 356310, \"sum_tokens_in_value_count_group\": 234.0, \"distinct_value_count\": 57160}, {\"percentile_ex_nulls\": 0.8744774460792542, \"percentile_inc_nulls\": 0.8907833099365234, \"value_count\": 232, \"group_name\": \"ClientPinNumber\", \"total_non_null_rows\": 310024, \"total_rows_inc_nulls\": 356310, \"sum_tokens_in_value_count_group\": 232.0, \"distinct_value_count\": 57160}, {\"percentile_ex_nulls\": 0.8737420439720154, \"percentile_inc_nulls\": 0.8901433944702148, \"value_count\": 228, \"group_name\": \"ClientPinNumber\", \"total_non_null_rows\": 310024, \"total_rows_inc_nulls\": 356310, \"sum_tokens_in_value_count_group\": 228.0, \"distinct_value_count\": 57160}, {\"percentile_ex_nulls\": 0.8730098009109497, \"percentile_inc_nulls\": 0.8895063400268555, \"value_count\": 227, \"group_name\": \"ClientPinNumber\", \"total_non_null_rows\": 310024, \"total_rows_inc_nulls\": 356310, \"sum_tokens_in_value_count_group\": 227.0, \"distinct_value_count\": 57160}, {\"percentile_ex_nulls\": 0.8715776801109314, \"percentile_inc_nulls\": 0.8882602453231812, \"value_count\": 222, \"group_name\": \"ClientPinNumber\", \"total_non_null_rows\": 310024, \"total_rows_inc_nulls\": 356310, \"sum_tokens_in_value_count_group\": 444.0, \"distinct_value_count\": 57160}, {\"percentile_ex_nulls\": 0.8708745241165161, \"percentile_inc_nulls\": 0.8876484036445618, \"value_count\": 218, \"group_name\": \"ClientPinNumber\", \"total_non_null_rows\": 310024, \"total_rows_inc_nulls\": 356310, \"sum_tokens_in_value_count_group\": 218.0, \"distinct_value_count\": 57160}, {\"percentile_ex_nulls\": 0.8701745867729187, \"percentile_inc_nulls\": 0.8870393633842468, \"value_count\": 217, \"group_name\": \"ClientPinNumber\", \"total_non_null_rows\": 310024, \"total_rows_inc_nulls\": 356310, \"sum_tokens_in_value_count_group\": 217.0, \"distinct_value_count\": 57160}, {\"percentile_ex_nulls\": 0.8687810897827148, \"percentile_inc_nulls\": 0.8858269453048706, \"value_count\": 216, \"group_name\": \"ClientPinNumber\", \"total_non_null_rows\": 310024, \"total_rows_inc_nulls\": 356310, \"sum_tokens_in_value_count_group\": 432.0, \"distinct_value_count\": 57160}, {\"percentile_ex_nulls\": 0.8680908679962158, \"percentile_inc_nulls\": 0.8852263689041138, \"value_count\": 214, \"group_name\": \"ClientPinNumber\", \"total_non_null_rows\": 310024, \"total_rows_inc_nulls\": 356310, \"sum_tokens_in_value_count_group\": 214.0, \"distinct_value_count\": 57160}, {\"percentile_ex_nulls\": 0.8674328327178955, \"percentile_inc_nulls\": 0.8846538066864014, \"value_count\": 204, \"group_name\": \"ClientPinNumber\", \"total_non_null_rows\": 310024, \"total_rows_inc_nulls\": 356310, \"sum_tokens_in_value_count_group\": 204.0, \"distinct_value_count\": 57160}, {\"percentile_ex_nulls\": 0.8667812943458557, \"percentile_inc_nulls\": 0.8840869069099426, \"value_count\": 202, \"group_name\": \"ClientPinNumber\", \"total_non_null_rows\": 310024, \"total_rows_inc_nulls\": 356310, \"sum_tokens_in_value_count_group\": 202.0, \"distinct_value_count\": 57160}, {\"percentile_ex_nulls\": 0.8661490678787231, \"percentile_inc_nulls\": 0.8835368156433105, \"value_count\": 196, \"group_name\": \"ClientPinNumber\", \"total_non_null_rows\": 310024, \"total_rows_inc_nulls\": 356310, \"sum_tokens_in_value_count_group\": 196.0, \"distinct_value_count\": 57160}, {\"percentile_ex_nulls\": 0.8655201196670532, \"percentile_inc_nulls\": 0.8829895257949829, \"value_count\": 195, \"group_name\": \"ClientPinNumber\", \"total_non_null_rows\": 310024, \"total_rows_inc_nulls\": 356310, \"sum_tokens_in_value_count_group\": 195.0, \"distinct_value_count\": 57160}, {\"percentile_ex_nulls\": 0.8648975491523743, \"percentile_inc_nulls\": 0.8824478387832642, \"value_count\": 193, \"group_name\": \"ClientPinNumber\", \"total_non_null_rows\": 310024, \"total_rows_inc_nulls\": 356310, \"sum_tokens_in_value_count_group\": 193.0, \"distinct_value_count\": 57160}, {\"percentile_ex_nulls\": 0.8636589646339417, \"percentile_inc_nulls\": 0.8813701868057251, \"value_count\": 192, \"group_name\": \"ClientPinNumber\", \"total_non_null_rows\": 310024, \"total_rows_inc_nulls\": 356310, \"sum_tokens_in_value_count_group\": 384.0, \"distinct_value_count\": 57160}, {\"percentile_ex_nulls\": 0.8630557656288147, \"percentile_inc_nulls\": 0.880845308303833, \"value_count\": 187, \"group_name\": \"ClientPinNumber\", \"total_non_null_rows\": 310024, \"total_rows_inc_nulls\": 356310, \"sum_tokens_in_value_count_group\": 187.0, \"distinct_value_count\": 57160}, {\"percentile_ex_nulls\": 0.8624558448791504, \"percentile_inc_nulls\": 0.8803232908248901, \"value_count\": 186, \"group_name\": \"ClientPinNumber\", \"total_non_null_rows\": 310024, \"total_rows_inc_nulls\": 356310, \"sum_tokens_in_value_count_group\": 186.0, \"distinct_value_count\": 57160}, {\"percentile_ex_nulls\": 0.8618655204772949, \"percentile_inc_nulls\": 0.8798097372055054, \"value_count\": 183, \"group_name\": \"ClientPinNumber\", \"total_non_null_rows\": 310024, \"total_rows_inc_nulls\": 356310, \"sum_tokens_in_value_count_group\": 183.0, \"distinct_value_count\": 57160}, {\"percentile_ex_nulls\": 0.8612849116325378, \"percentile_inc_nulls\": 0.8793045282363892, \"value_count\": 180, \"group_name\": \"ClientPinNumber\", \"total_non_null_rows\": 310024, \"total_rows_inc_nulls\": 356310, \"sum_tokens_in_value_count_group\": 180.0, \"distinct_value_count\": 57160}, {\"percentile_ex_nulls\": 0.8607075214385986, \"percentile_inc_nulls\": 0.8788021802902222, \"value_count\": 179, \"group_name\": \"ClientPinNumber\", \"total_non_null_rows\": 310024, \"total_rows_inc_nulls\": 356310, \"sum_tokens_in_value_count_group\": 179.0, \"distinct_value_count\": 57160}, {\"percentile_ex_nulls\": 0.8595786094665527, \"percentile_inc_nulls\": 0.8778198957443237, \"value_count\": 175, \"group_name\": \"ClientPinNumber\", \"total_non_null_rows\": 310024, \"total_rows_inc_nulls\": 356310, \"sum_tokens_in_value_count_group\": 350.0, \"distinct_value_count\": 57160}, {\"percentile_ex_nulls\": 0.8584561347961426, \"percentile_inc_nulls\": 0.8768432140350342, \"value_count\": 174, \"group_name\": \"ClientPinNumber\", \"total_non_null_rows\": 310024, \"total_rows_inc_nulls\": 356310, \"sum_tokens_in_value_count_group\": 348.0, \"distinct_value_count\": 57160}, {\"percentile_ex_nulls\": 0.8579045534133911, \"percentile_inc_nulls\": 0.8763632774353027, \"value_count\": 171, \"group_name\": \"ClientPinNumber\", \"total_non_null_rows\": 310024, \"total_rows_inc_nulls\": 356310, \"sum_tokens_in_value_count_group\": 171.0, \"distinct_value_count\": 57160}, {\"percentile_ex_nulls\": 0.8573594093322754, \"percentile_inc_nulls\": 0.8758889436721802, \"value_count\": 169, \"group_name\": \"ClientPinNumber\", \"total_non_null_rows\": 310024, \"total_rows_inc_nulls\": 356310, \"sum_tokens_in_value_count_group\": 169.0, \"distinct_value_count\": 57160}, {\"percentile_ex_nulls\": 0.8557337522506714, \"percentile_inc_nulls\": 0.8744744658470154, \"value_count\": 168, \"group_name\": \"ClientPinNumber\", \"total_non_null_rows\": 310024, \"total_rows_inc_nulls\": 356310, \"sum_tokens_in_value_count_group\": 504.0, \"distinct_value_count\": 57160}, {\"percentile_ex_nulls\": 0.8551950454711914, \"percentile_inc_nulls\": 0.8740057945251465, \"value_count\": 167, \"group_name\": \"ClientPinNumber\", \"total_non_null_rows\": 310024, \"total_rows_inc_nulls\": 356310, \"sum_tokens_in_value_count_group\": 167.0, \"distinct_value_count\": 57160}, {\"percentile_ex_nulls\": 0.8546757698059082, \"percentile_inc_nulls\": 0.8735539317131042, \"value_count\": 161, \"group_name\": \"ClientPinNumber\", \"total_non_null_rows\": 310024, \"total_rows_inc_nulls\": 356310, \"sum_tokens_in_value_count_group\": 161.0, \"distinct_value_count\": 57160}, {\"percentile_ex_nulls\": 0.8536435961723328, \"percentile_inc_nulls\": 0.8726558685302734, \"value_count\": 160, \"group_name\": \"ClientPinNumber\", \"total_non_null_rows\": 310024, \"total_rows_inc_nulls\": 356310, \"sum_tokens_in_value_count_group\": 320.0, \"distinct_value_count\": 57160}, {\"percentile_ex_nulls\": 0.853137195110321, \"percentile_inc_nulls\": 0.872215211391449, \"value_count\": 157, \"group_name\": \"ClientPinNumber\", \"total_non_null_rows\": 310024, \"total_rows_inc_nulls\": 356310, \"sum_tokens_in_value_count_group\": 157.0, \"distinct_value_count\": 57160}, {\"percentile_ex_nulls\": 0.8521372675895691, \"percentile_inc_nulls\": 0.8713451623916626, \"value_count\": 155, \"group_name\": \"ClientPinNumber\", \"total_non_null_rows\": 310024, \"total_rows_inc_nulls\": 356310, \"sum_tokens_in_value_count_group\": 310.0, \"distinct_value_count\": 57160}, {\"percentile_ex_nulls\": 0.8516469597816467, \"percentile_inc_nulls\": 0.8709185719490051, \"value_count\": 152, \"group_name\": \"ClientPinNumber\", \"total_non_null_rows\": 310024, \"total_rows_inc_nulls\": 356310, \"sum_tokens_in_value_count_group\": 152.0, \"distinct_value_count\": 57160}, {\"percentile_ex_nulls\": 0.851159930229187, \"percentile_inc_nulls\": 0.8704947829246521, \"value_count\": 151, \"group_name\": \"ClientPinNumber\", \"total_non_null_rows\": 310024, \"total_rows_inc_nulls\": 356310, \"sum_tokens_in_value_count_group\": 151.0, \"distinct_value_count\": 57160}, {\"percentile_ex_nulls\": 0.8506760597229004, \"percentile_inc_nulls\": 0.8700737953186035, \"value_count\": 150, \"group_name\": \"ClientPinNumber\", \"total_non_null_rows\": 310024, \"total_rows_inc_nulls\": 356310, \"sum_tokens_in_value_count_group\": 150.0, \"distinct_value_count\": 57160}, {\"percentile_ex_nulls\": 0.8501986861228943, \"percentile_inc_nulls\": 0.8696584701538086, \"value_count\": 148, \"group_name\": \"ClientPinNumber\", \"total_non_null_rows\": 310024, \"total_rows_inc_nulls\": 356310, \"sum_tokens_in_value_count_group\": 148.0, \"distinct_value_count\": 57160}, {\"percentile_ex_nulls\": 0.8483150005340576, \"percentile_inc_nulls\": 0.8680194020271301, \"value_count\": 146, \"group_name\": \"ClientPinNumber\", \"total_non_null_rows\": 310024, \"total_rows_inc_nulls\": 356310, \"sum_tokens_in_value_count_group\": 584.0, \"distinct_value_count\": 57160}, {\"percentile_ex_nulls\": 0.847850501537323, \"percentile_inc_nulls\": 0.867615282535553, \"value_count\": 144, \"group_name\": \"ClientPinNumber\", \"total_non_null_rows\": 310024, \"total_rows_inc_nulls\": 356310, \"sum_tokens_in_value_count_group\": 144.0, \"distinct_value_count\": 57160}, {\"percentile_ex_nulls\": 0.8469280004501343, \"percentile_inc_nulls\": 0.8668125867843628, \"value_count\": 143, \"group_name\": \"ClientPinNumber\", \"total_non_null_rows\": 310024, \"total_rows_inc_nulls\": 356310, \"sum_tokens_in_value_count_group\": 286.0, \"distinct_value_count\": 57160}, {\"percentile_ex_nulls\": 0.8464764356613159, \"percentile_inc_nulls\": 0.8664196729660034, \"value_count\": 140, \"group_name\": \"ClientPinNumber\", \"total_non_null_rows\": 310024, \"total_rows_inc_nulls\": 356310, \"sum_tokens_in_value_count_group\": 140.0, \"distinct_value_count\": 57160}, {\"percentile_ex_nulls\": 0.8455796837806702, \"percentile_inc_nulls\": 0.8656394481658936, \"value_count\": 139, \"group_name\": \"ClientPinNumber\", \"total_non_null_rows\": 310024, \"total_rows_inc_nulls\": 356310, \"sum_tokens_in_value_count_group\": 278.0, \"distinct_value_count\": 57160}, {\"percentile_ex_nulls\": 0.8451410531997681, \"percentile_inc_nulls\": 0.8652577996253967, \"value_count\": 136, \"group_name\": \"ClientPinNumber\", \"total_non_null_rows\": 310024, \"total_rows_inc_nulls\": 356310, \"sum_tokens_in_value_count_group\": 136.0, \"distinct_value_count\": 57160}, {\"percentile_ex_nulls\": 0.843834638595581, \"percentile_inc_nulls\": 0.86412113904953, \"value_count\": 135, \"group_name\": \"ClientPinNumber\", \"total_non_null_rows\": 310024, \"total_rows_inc_nulls\": 356310, \"sum_tokens_in_value_count_group\": 405.0, \"distinct_value_count\": 57160}, {\"percentile_ex_nulls\": 0.8429831266403198, \"percentile_inc_nulls\": 0.8633801937103271, \"value_count\": 132, \"group_name\": \"ClientPinNumber\", \"total_non_null_rows\": 310024, \"total_rows_inc_nulls\": 356310, \"sum_tokens_in_value_count_group\": 264.0, \"distinct_value_count\": 57160}, {\"percentile_ex_nulls\": 0.8425605893135071, \"percentile_inc_nulls\": 0.8630125522613525, \"value_count\": 131, \"group_name\": \"ClientPinNumber\", \"total_non_null_rows\": 310024, \"total_rows_inc_nulls\": 356310, \"sum_tokens_in_value_count_group\": 131.0, \"distinct_value_count\": 57160}, {\"percentile_ex_nulls\": 0.8421444892883301, \"percentile_inc_nulls\": 0.8626505136489868, \"value_count\": 129, \"group_name\": \"ClientPinNumber\", \"total_non_null_rows\": 310024, \"total_rows_inc_nulls\": 356310, \"sum_tokens_in_value_count_group\": 129.0, \"distinct_value_count\": 57160}, {\"percentile_ex_nulls\": 0.841731607913971, \"percentile_inc_nulls\": 0.8622912764549255, \"value_count\": 128, \"group_name\": \"ClientPinNumber\", \"total_non_null_rows\": 310024, \"total_rows_inc_nulls\": 356310, \"sum_tokens_in_value_count_group\": 128.0, \"distinct_value_count\": 57160}, {\"percentile_ex_nulls\": 0.8413316607475281, \"percentile_inc_nulls\": 0.861943244934082, \"value_count\": 124, \"group_name\": \"ClientPinNumber\", \"total_non_null_rows\": 310024, \"total_rows_inc_nulls\": 356310, \"sum_tokens_in_value_count_group\": 124.0, \"distinct_value_count\": 57160}, {\"percentile_ex_nulls\": 0.8405381441116333, \"percentile_inc_nulls\": 0.8612528443336487, \"value_count\": 123, \"group_name\": \"ClientPinNumber\", \"total_non_null_rows\": 310024, \"total_rows_inc_nulls\": 356310, \"sum_tokens_in_value_count_group\": 246.0, \"distinct_value_count\": 57160}, {\"percentile_ex_nulls\": 0.8393576145172119, \"percentile_inc_nulls\": 0.8602256774902344, \"value_count\": 122, \"group_name\": \"ClientPinNumber\", \"total_non_null_rows\": 310024, \"total_rows_inc_nulls\": 356310, \"sum_tokens_in_value_count_group\": 366.0, \"distinct_value_count\": 57160}, {\"percentile_ex_nulls\": 0.8381867408752441, \"percentile_inc_nulls\": 0.8592068552970886, \"value_count\": 121, \"group_name\": \"ClientPinNumber\", \"total_non_null_rows\": 310024, \"total_rows_inc_nulls\": 356310, \"sum_tokens_in_value_count_group\": 363.0, \"distinct_value_count\": 57160}, {\"percentile_ex_nulls\": 0.8374125957489014, \"percentile_inc_nulls\": 0.8585332632064819, \"value_count\": 120, \"group_name\": \"ClientPinNumber\", \"total_non_null_rows\": 310024, \"total_rows_inc_nulls\": 356310, \"sum_tokens_in_value_count_group\": 240.0, \"distinct_value_count\": 57160}, {\"percentile_ex_nulls\": 0.8370287418365479, \"percentile_inc_nulls\": 0.8581993579864502, \"value_count\": 119, \"group_name\": \"ClientPinNumber\", \"total_non_null_rows\": 310024, \"total_rows_inc_nulls\": 356310, \"sum_tokens_in_value_count_group\": 119.0, \"distinct_value_count\": 57160}, {\"percentile_ex_nulls\": 0.8366481065750122, \"percentile_inc_nulls\": 0.8578681349754333, \"value_count\": 118, \"group_name\": \"ClientPinNumber\", \"total_non_null_rows\": 310024, \"total_rows_inc_nulls\": 356310, \"sum_tokens_in_value_count_group\": 118.0, \"distinct_value_count\": 57160}, {\"percentile_ex_nulls\": 0.8355159759521484, \"percentile_inc_nulls\": 0.8568830490112305, \"value_count\": 117, \"group_name\": \"ClientPinNumber\", \"total_non_null_rows\": 310024, \"total_rows_inc_nulls\": 356310, \"sum_tokens_in_value_count_group\": 351.0, \"distinct_value_count\": 57160}, {\"percentile_ex_nulls\": 0.8351482152938843, \"percentile_inc_nulls\": 0.8565630912780762, \"value_count\": 114, \"group_name\": \"ClientPinNumber\", \"total_non_null_rows\": 310024, \"total_rows_inc_nulls\": 356310, \"sum_tokens_in_value_count_group\": 114.0, \"distinct_value_count\": 57160}, {\"percentile_ex_nulls\": 0.8337031602859497, \"percentile_inc_nulls\": 0.8553057909011841, \"value_count\": 112, \"group_name\": \"ClientPinNumber\", \"total_non_null_rows\": 310024, \"total_rows_inc_nulls\": 356310, \"sum_tokens_in_value_count_group\": 448.0, \"distinct_value_count\": 57160}, {\"percentile_ex_nulls\": 0.8329871296882629, \"percentile_inc_nulls\": 0.8546826839447021, \"value_count\": 111, \"group_name\": \"ClientPinNumber\", \"total_non_null_rows\": 310024, \"total_rows_inc_nulls\": 356310, \"sum_tokens_in_value_count_group\": 222.0, \"distinct_value_count\": 57160}, {\"percentile_ex_nulls\": 0.832632303237915, \"percentile_inc_nulls\": 0.8543739914894104, \"value_count\": 110, \"group_name\": \"ClientPinNumber\", \"total_non_null_rows\": 310024, \"total_rows_inc_nulls\": 356310, \"sum_tokens_in_value_count_group\": 110.0, \"distinct_value_count\": 57160}, {\"percentile_ex_nulls\": 0.8308743834495544, \"percentile_inc_nulls\": 0.8528444170951843, \"value_count\": 109, \"group_name\": \"ClientPinNumber\", \"total_non_null_rows\": 310024, \"total_rows_inc_nulls\": 356310, \"sum_tokens_in_value_count_group\": 545.0, \"distinct_value_count\": 57160}, {\"percentile_ex_nulls\": 0.8305259943008423, \"percentile_inc_nulls\": 0.8525413274765015, \"value_count\": 108, \"group_name\": \"ClientPinNumber\", \"total_non_null_rows\": 310024, \"total_rows_inc_nulls\": 356310, \"sum_tokens_in_value_count_group\": 108.0, \"distinct_value_count\": 57160}, {\"percentile_ex_nulls\": 0.8288003206253052, \"percentile_inc_nulls\": 0.8510398268699646, \"value_count\": 107, \"group_name\": \"ClientPinNumber\", \"total_non_null_rows\": 310024, \"total_rows_inc_nulls\": 356310, \"sum_tokens_in_value_count_group\": 535.0, \"distinct_value_count\": 57160}, {\"percentile_ex_nulls\": 0.8281165361404419, \"percentile_inc_nulls\": 0.8504448533058167, \"value_count\": 106, \"group_name\": \"ClientPinNumber\", \"total_non_null_rows\": 310024, \"total_rows_inc_nulls\": 356310, \"sum_tokens_in_value_count_group\": 212.0, \"distinct_value_count\": 57160}, {\"percentile_ex_nulls\": 0.8271005153656006, \"percentile_inc_nulls\": 0.8495607972145081, \"value_count\": 105, \"group_name\": \"ClientPinNumber\", \"total_non_null_rows\": 310024, \"total_rows_inc_nulls\": 356310, \"sum_tokens_in_value_count_group\": 315.0, \"distinct_value_count\": 57160}, {\"percentile_ex_nulls\": 0.8267650604248047, \"percentile_inc_nulls\": 0.849268913269043, \"value_count\": 104, \"group_name\": \"ClientPinNumber\", \"total_non_null_rows\": 310024, \"total_rows_inc_nulls\": 356310, \"sum_tokens_in_value_count_group\": 104.0, \"distinct_value_count\": 57160}, {\"percentile_ex_nulls\": 0.8264328241348267, \"percentile_inc_nulls\": 0.8489798307418823, \"value_count\": 103, \"group_name\": \"ClientPinNumber\", \"total_non_null_rows\": 310024, \"total_rows_inc_nulls\": 356310, \"sum_tokens_in_value_count_group\": 103.0, \"distinct_value_count\": 57160}, {\"percentile_ex_nulls\": 0.8251296877861023, \"percentile_inc_nulls\": 0.8478459715843201, \"value_count\": 101, \"group_name\": \"ClientPinNumber\", \"total_non_null_rows\": 310024, \"total_rows_inc_nulls\": 356310, \"sum_tokens_in_value_count_group\": 404.0, \"distinct_value_count\": 57160}, {\"percentile_ex_nulls\": 0.8248071074485779, \"percentile_inc_nulls\": 0.8475652933120728, \"value_count\": 100, \"group_name\": \"ClientPinNumber\", \"total_non_null_rows\": 310024, \"total_rows_inc_nulls\": 356310, \"sum_tokens_in_value_count_group\": 100.0, \"distinct_value_count\": 57160}, {\"percentile_ex_nulls\": 0.8238491415977478, \"percentile_inc_nulls\": 0.8467317819595337, \"value_count\": 99, \"group_name\": \"ClientPinNumber\", \"total_non_null_rows\": 310024, \"total_rows_inc_nulls\": 356310, \"sum_tokens_in_value_count_group\": 297.0, \"distinct_value_count\": 57160}, {\"percentile_ex_nulls\": 0.8229007720947266, \"percentile_inc_nulls\": 0.845906674861908, \"value_count\": 98, \"group_name\": \"ClientPinNumber\", \"total_non_null_rows\": 310024, \"total_rows_inc_nulls\": 356310, \"sum_tokens_in_value_count_group\": 294.0, \"distinct_value_count\": 57160}, {\"percentile_ex_nulls\": 0.8216493129730225, \"percentile_inc_nulls\": 0.8448176980018616, \"value_count\": 97, \"group_name\": \"ClientPinNumber\", \"total_non_null_rows\": 310024, \"total_rows_inc_nulls\": 356310, \"sum_tokens_in_value_count_group\": 388.0, \"distinct_value_count\": 57160}, {\"percentile_ex_nulls\": 0.8213396072387695, \"percentile_inc_nulls\": 0.8445482850074768, \"value_count\": 96, \"group_name\": \"ClientPinNumber\", \"total_non_null_rows\": 310024, \"total_rows_inc_nulls\": 356310, \"sum_tokens_in_value_count_group\": 96.0, \"distinct_value_count\": 57160}, {\"percentile_ex_nulls\": 0.8201138973236084, \"percentile_inc_nulls\": 0.8434817790985107, \"value_count\": 95, \"group_name\": \"ClientPinNumber\", \"total_non_null_rows\": 310024, \"total_rows_inc_nulls\": 356310, \"sum_tokens_in_value_count_group\": 380.0, \"distinct_value_count\": 57160}, {\"percentile_ex_nulls\": 0.8195075392723083, \"percentile_inc_nulls\": 0.842954158782959, \"value_count\": 94, \"group_name\": \"ClientPinNumber\", \"total_non_null_rows\": 310024, \"total_rows_inc_nulls\": 356310, \"sum_tokens_in_value_count_group\": 188.0, \"distinct_value_count\": 57160}, {\"percentile_ex_nulls\": 0.8186075687408447, \"percentile_inc_nulls\": 0.8421711325645447, \"value_count\": 93, \"group_name\": \"ClientPinNumber\", \"total_non_null_rows\": 310024, \"total_rows_inc_nulls\": 356310, \"sum_tokens_in_value_count_group\": 279.0, \"distinct_value_count\": 57160}, {\"percentile_ex_nulls\": 0.8168464303016663, \"percentile_inc_nulls\": 0.8406387567520142, \"value_count\": 91, \"group_name\": \"ClientPinNumber\", \"total_non_null_rows\": 310024, \"total_rows_inc_nulls\": 356310, \"sum_tokens_in_value_count_group\": 546.0, \"distinct_value_count\": 57160}, {\"percentile_ex_nulls\": 0.8156852722167969, \"percentile_inc_nulls\": 0.8396283984184265, \"value_count\": 90, \"group_name\": \"ClientPinNumber\", \"total_non_null_rows\": 310024, \"total_rows_inc_nulls\": 356310, \"sum_tokens_in_value_count_group\": 360.0, \"distinct_value_count\": 57160}, {\"percentile_ex_nulls\": 0.8145369291305542, \"percentile_inc_nulls\": 0.8386293053627014, \"value_count\": 89, \"group_name\": \"ClientPinNumber\", \"total_non_null_rows\": 310024, \"total_rows_inc_nulls\": 356310, \"sum_tokens_in_value_count_group\": 356.0, \"distinct_value_count\": 57160}, {\"percentile_ex_nulls\": 0.8134015798568726, \"percentile_inc_nulls\": 0.8376413583755493, \"value_count\": 88, \"group_name\": \"ClientPinNumber\", \"total_non_null_rows\": 310024, \"total_rows_inc_nulls\": 356310, \"sum_tokens_in_value_count_group\": 352.0, \"distinct_value_count\": 57160}, {\"percentile_ex_nulls\": 0.8122790455818176, \"percentile_inc_nulls\": 0.8366646766662598, \"value_count\": 87, \"group_name\": \"ClientPinNumber\", \"total_non_null_rows\": 310024, \"total_rows_inc_nulls\": 356310, \"sum_tokens_in_value_count_group\": 348.0, \"distinct_value_count\": 57160}, {\"percentile_ex_nulls\": 0.8106146454811096, \"percentile_inc_nulls\": 0.8352165222167969, \"value_count\": 86, \"group_name\": \"ClientPinNumber\", \"total_non_null_rows\": 310024, \"total_rows_inc_nulls\": 356310, \"sum_tokens_in_value_count_group\": 516.0, \"distinct_value_count\": 57160}, {\"percentile_ex_nulls\": 0.8086954355239868, \"percentile_inc_nulls\": 0.8335466384887695, \"value_count\": 85, \"group_name\": \"ClientPinNumber\", \"total_non_null_rows\": 310024, \"total_rows_inc_nulls\": 356310, \"sum_tokens_in_value_count_group\": 595.0, \"distinct_value_count\": 57160}, {\"percentile_ex_nulls\": 0.8078826069831848, \"percentile_inc_nulls\": 0.8328393697738647, \"value_count\": 84, \"group_name\": \"ClientPinNumber\", \"total_non_null_rows\": 310024, \"total_rows_inc_nulls\": 356310, \"sum_tokens_in_value_count_group\": 252.0, \"distinct_value_count\": 57160}, {\"percentile_ex_nulls\": 0.8062763214111328, \"percentile_inc_nulls\": 0.8314417004585266, \"value_count\": 83, \"group_name\": \"ClientPinNumber\", \"total_non_null_rows\": 310024, \"total_rows_inc_nulls\": 356310, \"sum_tokens_in_value_count_group\": 498.0, \"distinct_value_count\": 57160}, {\"percentile_ex_nulls\": 0.8046892881393433, \"percentile_inc_nulls\": 0.8300608992576599, \"value_count\": 82, \"group_name\": \"ClientPinNumber\", \"total_non_null_rows\": 310024, \"total_rows_inc_nulls\": 356310, \"sum_tokens_in_value_count_group\": 492.0, \"distinct_value_count\": 57160}, {\"percentile_ex_nulls\": 0.8033829927444458, \"percentile_inc_nulls\": 0.8289242386817932, \"value_count\": 81, \"group_name\": \"ClientPinNumber\", \"total_non_null_rows\": 310024, \"total_rows_inc_nulls\": 356310, \"sum_tokens_in_value_count_group\": 405.0, \"distinct_value_count\": 57160}, {\"percentile_ex_nulls\": 0.8013185858726501, \"percentile_inc_nulls\": 0.8271280527114868, \"value_count\": 80, \"group_name\": \"ClientPinNumber\", \"total_non_null_rows\": 310024, \"total_rows_inc_nulls\": 356310, \"sum_tokens_in_value_count_group\": 640.0, \"distinct_value_count\": 57160}, {\"percentile_ex_nulls\": 0.8008089661598206, \"percentile_inc_nulls\": 0.8266845941543579, \"value_count\": 79, \"group_name\": \"ClientPinNumber\", \"total_non_null_rows\": 310024, \"total_rows_inc_nulls\": 356310, \"sum_tokens_in_value_count_group\": 158.0, \"distinct_value_count\": 57160}, {\"percentile_ex_nulls\": 0.8000638484954834, \"percentile_inc_nulls\": 0.8260363340377808, \"value_count\": 77, \"group_name\": \"ClientPinNumber\", \"total_non_null_rows\": 310024, \"total_rows_inc_nulls\": 356310, \"sum_tokens_in_value_count_group\": 231.0, \"distinct_value_count\": 57160}, {\"percentile_ex_nulls\": 0.7993284463882446, \"percentile_inc_nulls\": 0.8253964185714722, \"value_count\": 76, \"group_name\": \"ClientPinNumber\", \"total_non_null_rows\": 310024, \"total_rows_inc_nulls\": 356310, \"sum_tokens_in_value_count_group\": 228.0, \"distinct_value_count\": 57160}, {\"percentile_ex_nulls\": 0.798844575881958, \"percentile_inc_nulls\": 0.8249754309654236, \"value_count\": 75, \"group_name\": \"ClientPinNumber\", \"total_non_null_rows\": 310024, \"total_rows_inc_nulls\": 356310, \"sum_tokens_in_value_count_group\": 150.0, \"distinct_value_count\": 57160}, {\"percentile_ex_nulls\": 0.7974124550819397, \"percentile_inc_nulls\": 0.8237293362617493, \"value_count\": 74, \"group_name\": \"ClientPinNumber\", \"total_non_null_rows\": 310024, \"total_rows_inc_nulls\": 356310, \"sum_tokens_in_value_count_group\": 444.0, \"distinct_value_count\": 57160}, {\"percentile_ex_nulls\": 0.7957642078399658, \"percentile_inc_nulls\": 0.8222951889038086, \"value_count\": 73, \"group_name\": \"ClientPinNumber\", \"total_non_null_rows\": 310024, \"total_rows_inc_nulls\": 356310, \"sum_tokens_in_value_count_group\": 511.0, \"distinct_value_count\": 57160}, {\"percentile_ex_nulls\": 0.7932095527648926, \"percentile_inc_nulls\": 0.8200724124908447, \"value_count\": 72, \"group_name\": \"ClientPinNumber\", \"total_non_null_rows\": 310024, \"total_rows_inc_nulls\": 356310, \"sum_tokens_in_value_count_group\": 792.0, \"distinct_value_count\": 57160}, {\"percentile_ex_nulls\": 0.7918354868888855, \"percentile_inc_nulls\": 0.8188768029212952, \"value_count\": 71, \"group_name\": \"ClientPinNumber\", \"total_non_null_rows\": 310024, \"total_rows_inc_nulls\": 356310, \"sum_tokens_in_value_count_group\": 426.0, \"distinct_value_count\": 57160}, {\"percentile_ex_nulls\": 0.7913838624954224, \"percentile_inc_nulls\": 0.8184838891029358, \"value_count\": 70, \"group_name\": \"ClientPinNumber\", \"total_non_null_rows\": 310024, \"total_rows_inc_nulls\": 356310, \"sum_tokens_in_value_count_group\": 140.0, \"distinct_value_count\": 57160}, {\"percentile_ex_nulls\": 0.7898259162902832, \"percentile_inc_nulls\": 0.8171283602714539, \"value_count\": 69, \"group_name\": \"ClientPinNumber\", \"total_non_null_rows\": 310024, \"total_rows_inc_nulls\": 356310, \"sum_tokens_in_value_count_group\": 483.0, \"distinct_value_count\": 57160}, {\"percentile_ex_nulls\": 0.7878519296646118, \"percentile_inc_nulls\": 0.8154107332229614, \"value_count\": 68, \"group_name\": \"ClientPinNumber\", \"total_non_null_rows\": 310024, \"total_rows_inc_nulls\": 356310, \"sum_tokens_in_value_count_group\": 612.0, \"distinct_value_count\": 57160}, {\"percentile_ex_nulls\": 0.7863391041755676, \"percentile_inc_nulls\": 0.8140944838523865, \"value_count\": 67, \"group_name\": \"ClientPinNumber\", \"total_non_null_rows\": 310024, \"total_rows_inc_nulls\": 356310, \"sum_tokens_in_value_count_group\": 469.0, \"distinct_value_count\": 57160}, {\"percentile_ex_nulls\": 0.7844231128692627, \"percentile_inc_nulls\": 0.8124274015426636, \"value_count\": 66, \"group_name\": \"ClientPinNumber\", \"total_non_null_rows\": 310024, \"total_rows_inc_nulls\": 356310, \"sum_tokens_in_value_count_group\": 594.0, \"distinct_value_count\": 57160}, {\"percentile_ex_nulls\": 0.7814878821372986, \"percentile_inc_nulls\": 0.8098734617233276, \"value_count\": 65, \"group_name\": \"ClientPinNumber\", \"total_non_null_rows\": 310024, \"total_rows_inc_nulls\": 356310, \"sum_tokens_in_value_count_group\": 910.0, \"distinct_value_count\": 57160}, {\"percentile_ex_nulls\": 0.7794235348701477, \"percentile_inc_nulls\": 0.8080772161483765, \"value_count\": 64, \"group_name\": \"ClientPinNumber\", \"total_non_null_rows\": 310024, \"total_rows_inc_nulls\": 356310, \"sum_tokens_in_value_count_group\": 640.0, \"distinct_value_count\": 57160}, {\"percentile_ex_nulls\": 0.7782042622566223, \"percentile_inc_nulls\": 0.8070163726806641, \"value_count\": 63, \"group_name\": \"ClientPinNumber\", \"total_non_null_rows\": 310024, \"total_rows_inc_nulls\": 356310, \"sum_tokens_in_value_count_group\": 378.0, \"distinct_value_count\": 57160}, {\"percentile_ex_nulls\": 0.7764043807983398, \"percentile_inc_nulls\": 0.8054503202438354, \"value_count\": 62, \"group_name\": \"ClientPinNumber\", \"total_non_null_rows\": 310024, \"total_rows_inc_nulls\": 356310, \"sum_tokens_in_value_count_group\": 558.0, \"distinct_value_count\": 57160}, {\"percentile_ex_nulls\": 0.7748303413391113, \"percentile_inc_nulls\": 0.8040807247161865, \"value_count\": 61, \"group_name\": \"ClientPinNumber\", \"total_non_null_rows\": 310024, \"total_rows_inc_nulls\": 356310, \"sum_tokens_in_value_count_group\": 488.0, \"distinct_value_count\": 57160}, {\"percentile_ex_nulls\": 0.7727015018463135, \"percentile_inc_nulls\": 0.8022283911705017, \"value_count\": 60, \"group_name\": \"ClientPinNumber\", \"total_non_null_rows\": 310024, \"total_rows_inc_nulls\": 356310, \"sum_tokens_in_value_count_group\": 660.0, \"distinct_value_count\": 57160}, {\"percentile_ex_nulls\": 0.77079838514328, \"percentile_inc_nulls\": 0.8005725145339966, \"value_count\": 59, \"group_name\": \"ClientPinNumber\", \"total_non_null_rows\": 310024, \"total_rows_inc_nulls\": 356310, \"sum_tokens_in_value_count_group\": 590.0, \"distinct_value_count\": 57160}, {\"percentile_ex_nulls\": 0.76930171251297, \"percentile_inc_nulls\": 0.7992702722549438, \"value_count\": 58, \"group_name\": \"ClientPinNumber\", \"total_non_null_rows\": 310024, \"total_rows_inc_nulls\": 356310, \"sum_tokens_in_value_count_group\": 464.0, \"distinct_value_count\": 57160}, {\"percentile_ex_nulls\": 0.7674631476402283, \"percentile_inc_nulls\": 0.7976706027984619, \"value_count\": 57, \"group_name\": \"ClientPinNumber\", \"total_non_null_rows\": 310024, \"total_rows_inc_nulls\": 356310, \"sum_tokens_in_value_count_group\": 570.0, \"distinct_value_count\": 57160}, {\"percentile_ex_nulls\": 0.7658374905586243, \"percentile_inc_nulls\": 0.7962560653686523, \"value_count\": 56, \"group_name\": \"ClientPinNumber\", \"total_non_null_rows\": 310024, \"total_rows_inc_nulls\": 356310, \"sum_tokens_in_value_count_group\": 504.0, \"distinct_value_count\": 57160}, {\"percentile_ex_nulls\": 0.7637085914611816, \"percentile_inc_nulls\": 0.7944037318229675, \"value_count\": 55, \"group_name\": \"ClientPinNumber\", \"total_non_null_rows\": 310024, \"total_rows_inc_nulls\": 356310, \"sum_tokens_in_value_count_group\": 660.0, \"distinct_value_count\": 57160}, {\"percentile_ex_nulls\": 0.7614442706108093, \"percentile_inc_nulls\": 0.7924335598945618, \"value_count\": 54, \"group_name\": \"ClientPinNumber\", \"total_non_null_rows\": 310024, \"total_rows_inc_nulls\": 356310, \"sum_tokens_in_value_count_group\": 702.0, \"distinct_value_count\": 57160}, {\"percentile_ex_nulls\": 0.7590509057044983, \"percentile_inc_nulls\": 0.7903510928153992, \"value_count\": 53, \"group_name\": \"ClientPinNumber\", \"total_non_null_rows\": 310024, \"total_rows_inc_nulls\": 356310, \"sum_tokens_in_value_count_group\": 742.0, \"distinct_value_count\": 57160}, {\"percentile_ex_nulls\": 0.7575413584709167, \"percentile_inc_nulls\": 0.7890376448631287, \"value_count\": 52, \"group_name\": \"ClientPinNumber\", \"total_non_null_rows\": 310024, \"total_rows_inc_nulls\": 356310, \"sum_tokens_in_value_count_group\": 468.0, \"distinct_value_count\": 57160}, {\"percentile_ex_nulls\": 0.7555673122406006, \"percentile_inc_nulls\": 0.7873200178146362, \"value_count\": 51, \"group_name\": \"ClientPinNumber\", \"total_non_null_rows\": 310024, \"total_rows_inc_nulls\": 356310, \"sum_tokens_in_value_count_group\": 612.0, \"distinct_value_count\": 57160}, {\"percentile_ex_nulls\": 0.7525030374526978, \"percentile_inc_nulls\": 0.7846537828445435, \"value_count\": 50, \"group_name\": \"ClientPinNumber\", \"total_non_null_rows\": 310024, \"total_rows_inc_nulls\": 356310, \"sum_tokens_in_value_count_group\": 950.0, \"distinct_value_count\": 57160}, {\"percentile_ex_nulls\": 0.7493419647216797, \"percentile_inc_nulls\": 0.7819033861160278, \"value_count\": 49, \"group_name\": \"ClientPinNumber\", \"total_non_null_rows\": 310024, \"total_rows_inc_nulls\": 356310, \"sum_tokens_in_value_count_group\": 980.0, \"distinct_value_count\": 57160}, {\"percentile_ex_nulls\": 0.746709942817688, \"percentile_inc_nulls\": 0.7796132564544678, \"value_count\": 48, \"group_name\": \"ClientPinNumber\", \"total_non_null_rows\": 310024, \"total_rows_inc_nulls\": 356310, \"sum_tokens_in_value_count_group\": 816.0, \"distinct_value_count\": 57160}, {\"percentile_ex_nulls\": 0.7438294887542725, \"percentile_inc_nulls\": 0.7771070003509521, \"value_count\": 47, \"group_name\": \"ClientPinNumber\", \"total_non_null_rows\": 310024, \"total_rows_inc_nulls\": 356310, \"sum_tokens_in_value_count_group\": 893.0, \"distinct_value_count\": 57160}, {\"percentile_ex_nulls\": 0.7405652403831482, \"percentile_inc_nulls\": 0.77426677942276, \"value_count\": 46, \"group_name\": \"ClientPinNumber\", \"total_non_null_rows\": 310024, \"total_rows_inc_nulls\": 356310, \"sum_tokens_in_value_count_group\": 1012.0, \"distinct_value_count\": 57160}, {\"percentile_ex_nulls\": 0.7379525899887085, \"percentile_inc_nulls\": 0.7719935178756714, \"value_count\": 45, \"group_name\": \"ClientPinNumber\", \"total_non_null_rows\": 310024, \"total_rows_inc_nulls\": 356310, \"sum_tokens_in_value_count_group\": 810.0, \"distinct_value_count\": 57160}, {\"percentile_ex_nulls\": 0.7351140975952148, \"percentile_inc_nulls\": 0.7695237398147583, \"value_count\": 44, \"group_name\": \"ClientPinNumber\", \"total_non_null_rows\": 310024, \"total_rows_inc_nulls\": 356310, \"sum_tokens_in_value_count_group\": 880.0, \"distinct_value_count\": 57160}, {\"percentile_ex_nulls\": 0.7328948974609375, \"percentile_inc_nulls\": 0.7675928473472595, \"value_count\": 43, \"group_name\": \"ClientPinNumber\", \"total_non_null_rows\": 310024, \"total_rows_inc_nulls\": 356310, \"sum_tokens_in_value_count_group\": 688.0, \"distinct_value_count\": 57160}, {\"percentile_ex_nulls\": 0.7293725609779358, \"percentile_inc_nulls\": 0.7645280957221985, \"value_count\": 42, \"group_name\": \"ClientPinNumber\", \"total_non_null_rows\": 310024, \"total_rows_inc_nulls\": 356310, \"sum_tokens_in_value_count_group\": 1092.0, \"distinct_value_count\": 57160}, {\"percentile_ex_nulls\": 0.7255374193191528, \"percentile_inc_nulls\": 0.7611911296844482, \"value_count\": 41, \"group_name\": \"ClientPinNumber\", \"total_non_null_rows\": 310024, \"total_rows_inc_nulls\": 356310, \"sum_tokens_in_value_count_group\": 1189.0, \"distinct_value_count\": 57160}, {\"percentile_ex_nulls\": 0.721666693687439, \"percentile_inc_nulls\": 0.7578232288360596, \"value_count\": 40, \"group_name\": \"ClientPinNumber\", \"total_non_null_rows\": 310024, \"total_rows_inc_nulls\": 356310, \"sum_tokens_in_value_count_group\": 1200.0, \"distinct_value_count\": 57160}, {\"percentile_ex_nulls\": 0.7190250158309937, \"percentile_inc_nulls\": 0.7555246949195862, \"value_count\": 39, \"group_name\": \"ClientPinNumber\", \"total_non_null_rows\": 310024, \"total_rows_inc_nulls\": 356310, \"sum_tokens_in_value_count_group\": 819.0, \"distinct_value_count\": 57160}, {\"percentile_ex_nulls\": 0.7159607410430908, \"percentile_inc_nulls\": 0.7528584599494934, \"value_count\": 38, \"group_name\": \"ClientPinNumber\", \"total_non_null_rows\": 310024, \"total_rows_inc_nulls\": 356310, \"sum_tokens_in_value_count_group\": 950.0, \"distinct_value_count\": 57160}, {\"percentile_ex_nulls\": 0.7119029760360718, \"percentile_inc_nulls\": 0.7493278384208679, \"value_count\": 37, \"group_name\": \"ClientPinNumber\", \"total_non_null_rows\": 310024, \"total_rows_inc_nulls\": 356310, \"sum_tokens_in_value_count_group\": 1258.0, \"distinct_value_count\": 57160}, {\"percentile_ex_nulls\": 0.7079548835754395, \"percentile_inc_nulls\": 0.7458926439285278, \"value_count\": 36, \"group_name\": \"ClientPinNumber\", \"total_non_null_rows\": 310024, \"total_rows_inc_nulls\": 356310, \"sum_tokens_in_value_count_group\": 1224.0, \"distinct_value_count\": 57160}, {\"percentile_ex_nulls\": 0.7034391164779663, \"percentile_inc_nulls\": 0.7419634461402893, \"value_count\": 35, \"group_name\": \"ClientPinNumber\", \"total_non_null_rows\": 310024, \"total_rows_inc_nulls\": 356310, \"sum_tokens_in_value_count_group\": 1400.0, \"distinct_value_count\": 57160}, {\"percentile_ex_nulls\": 0.6992716789245605, \"percentile_inc_nulls\": 0.7383373975753784, \"value_count\": 34, \"group_name\": \"ClientPinNumber\", \"total_non_null_rows\": 310024, \"total_rows_inc_nulls\": 356310, \"sum_tokens_in_value_count_group\": 1292.0, \"distinct_value_count\": 57160}, {\"percentile_ex_nulls\": 0.6949074864387512, \"percentile_inc_nulls\": 0.7345401048660278, \"value_count\": 33, \"group_name\": \"ClientPinNumber\", \"total_non_null_rows\": 310024, \"total_rows_inc_nulls\": 356310, \"sum_tokens_in_value_count_group\": 1353.0, \"distinct_value_count\": 57160}, {\"percentile_ex_nulls\": 0.6910884380340576, \"percentile_inc_nulls\": 0.7312172055244446, \"value_count\": 32, \"group_name\": \"ClientPinNumber\", \"total_non_null_rows\": 310024, \"total_rows_inc_nulls\": 356310, \"sum_tokens_in_value_count_group\": 1184.0, \"distinct_value_count\": 57160}, {\"percentile_ex_nulls\": 0.6868887543678284, \"percentile_inc_nulls\": 0.7275630831718445, \"value_count\": 31, \"group_name\": \"ClientPinNumber\", \"total_non_null_rows\": 310024, \"total_rows_inc_nulls\": 356310, \"sum_tokens_in_value_count_group\": 1302.0, \"distinct_value_count\": 57160}, {\"percentile_ex_nulls\": 0.6797280311584473, \"percentile_inc_nulls\": 0.7213325500488281, \"value_count\": 30, \"group_name\": \"ClientPinNumber\", \"total_non_null_rows\": 310024, \"total_rows_inc_nulls\": 356310, \"sum_tokens_in_value_count_group\": 2220.0, \"distinct_value_count\": 57160}, {\"percentile_ex_nulls\": 0.6753315925598145, \"percentile_inc_nulls\": 0.7175072431564331, \"value_count\": 29, \"group_name\": \"ClientPinNumber\", \"total_non_null_rows\": 310024, \"total_rows_inc_nulls\": 356310, \"sum_tokens_in_value_count_group\": 1363.0, \"distinct_value_count\": 57160}, {\"percentile_ex_nulls\": 0.6696417331695557, \"percentile_inc_nulls\": 0.7125564813613892, \"value_count\": 28, \"group_name\": \"ClientPinNumber\", \"total_non_null_rows\": 310024, \"total_rows_inc_nulls\": 356310, \"sum_tokens_in_value_count_group\": 1764.0, \"distinct_value_count\": 57160}, {\"percentile_ex_nulls\": 0.663806676864624, \"percentile_inc_nulls\": 0.7074794769287109, \"value_count\": 27, \"group_name\": \"ClientPinNumber\", \"total_non_null_rows\": 310024, \"total_rows_inc_nulls\": 356310, \"sum_tokens_in_value_count_group\": 1809.0, \"distinct_value_count\": 57160}, {\"percentile_ex_nulls\": 0.6582716107368469, \"percentile_inc_nulls\": 0.7026634216308594, \"value_count\": 26, \"group_name\": \"ClientPinNumber\", \"total_non_null_rows\": 310024, \"total_rows_inc_nulls\": 356310, \"sum_tokens_in_value_count_group\": 1716.0, \"distinct_value_count\": 57160}, {\"percentile_ex_nulls\": 0.6522237062454224, \"percentile_inc_nulls\": 0.6974011659622192, \"value_count\": 25, \"group_name\": \"ClientPinNumber\", \"total_non_null_rows\": 310024, \"total_rows_inc_nulls\": 356310, \"sum_tokens_in_value_count_group\": 1875.0, \"distinct_value_count\": 57160}, {\"percentile_ex_nulls\": 0.6429340839385986, \"percentile_inc_nulls\": 0.6893182992935181, \"value_count\": 24, \"group_name\": \"ClientPinNumber\", \"total_non_null_rows\": 310024, \"total_rows_inc_nulls\": 356310, \"sum_tokens_in_value_count_group\": 2880.0, \"distinct_value_count\": 57160}, {\"percentile_ex_nulls\": 0.6353669166564941, \"percentile_inc_nulls\": 0.6827341318130493, \"value_count\": 23, \"group_name\": \"ClientPinNumber\", \"total_non_null_rows\": 310024, \"total_rows_inc_nulls\": 356310, \"sum_tokens_in_value_count_group\": 2346.0, \"distinct_value_count\": 57160}, {\"percentile_ex_nulls\": 0.6284126043319702, \"percentile_inc_nulls\": 0.6766831874847412, \"value_count\": 22, \"group_name\": \"ClientPinNumber\", \"total_non_null_rows\": 310024, \"total_rows_inc_nulls\": 356310, \"sum_tokens_in_value_count_group\": 2156.0, \"distinct_value_count\": 57160}, {\"percentile_ex_nulls\": 0.6214357614517212, \"percentile_inc_nulls\": 0.6706126928329468, \"value_count\": 21, \"group_name\": \"ClientPinNumber\", \"total_non_null_rows\": 310024, \"total_rows_inc_nulls\": 356310, \"sum_tokens_in_value_count_group\": 2163.0, \"distinct_value_count\": 57160}, {\"percentile_ex_nulls\": 0.6102753281593323, \"percentile_inc_nulls\": 0.6609020233154297, \"value_count\": 20, \"group_name\": \"ClientPinNumber\", \"total_non_null_rows\": 310024, \"total_rows_inc_nulls\": 356310, \"sum_tokens_in_value_count_group\": 3460.0, \"distinct_value_count\": 57160}, {\"percentile_ex_nulls\": 0.6027371883392334, \"percentile_inc_nulls\": 0.6543431282043457, \"value_count\": 19, \"group_name\": \"ClientPinNumber\", \"total_non_null_rows\": 310024, \"total_rows_inc_nulls\": 356310, \"sum_tokens_in_value_count_group\": 2337.0, \"distinct_value_count\": 57160}, {\"percentile_ex_nulls\": 0.590776801109314, \"percentile_inc_nulls\": 0.6439364552497864, \"value_count\": 18, \"group_name\": \"ClientPinNumber\", \"total_non_null_rows\": 310024, \"total_rows_inc_nulls\": 356310, \"sum_tokens_in_value_count_group\": 3708.0, \"distinct_value_count\": 57160}, {\"percentile_ex_nulls\": 0.5812356472015381, \"percentile_inc_nulls\": 0.6356346607208252, \"value_count\": 17, \"group_name\": \"ClientPinNumber\", \"total_non_null_rows\": 310024, \"total_rows_inc_nulls\": 356310, \"sum_tokens_in_value_count_group\": 2958.0, \"distinct_value_count\": 57160}, {\"percentile_ex_nulls\": 0.5699849128723145, \"percentile_inc_nulls\": 0.6258454322814941, \"value_count\": 16, \"group_name\": \"ClientPinNumber\", \"total_non_null_rows\": 310024, \"total_rows_inc_nulls\": 356310, \"sum_tokens_in_value_count_group\": 3488.0, \"distinct_value_count\": 57160}, {\"percentile_ex_nulls\": 0.5577439069747925, \"percentile_inc_nulls\": 0.6151946783065796, \"value_count\": 15, \"group_name\": \"ClientPinNumber\", \"total_non_null_rows\": 310024, \"total_rows_inc_nulls\": 356310, \"sum_tokens_in_value_count_group\": 3795.0, \"distinct_value_count\": 57160}, {\"percentile_ex_nulls\": 0.5429773330688477, \"percentile_inc_nulls\": 0.6023463010787964, \"value_count\": 14, \"group_name\": \"ClientPinNumber\", \"total_non_null_rows\": 310024, \"total_rows_inc_nulls\": 356310, \"sum_tokens_in_value_count_group\": 4578.0, \"distinct_value_count\": 57160}, {\"percentile_ex_nulls\": 0.5298525094985962, \"percentile_inc_nulls\": 0.5909264087677002, \"value_count\": 13, \"group_name\": \"ClientPinNumber\", \"total_non_null_rows\": 310024, \"total_rows_inc_nulls\": 356310, \"sum_tokens_in_value_count_group\": 4069.0, \"distinct_value_count\": 57160}, {\"percentile_ex_nulls\": 0.5041899681091309, \"percentile_inc_nulls\": 0.5685975551605225, \"value_count\": 12, \"group_name\": \"ClientPinNumber\", \"total_non_null_rows\": 310024, \"total_rows_inc_nulls\": 356310, \"sum_tokens_in_value_count_group\": 7956.0, \"distinct_value_count\": 57160}, {\"percentile_ex_nulls\": 0.48549145460128784, \"percentile_inc_nulls\": 0.5523279905319214, \"value_count\": 11, \"group_name\": \"ClientPinNumber\", \"total_non_null_rows\": 310024, \"total_rows_inc_nulls\": 356310, \"sum_tokens_in_value_count_group\": 5797.0, \"distinct_value_count\": 57160}, {\"percentile_ex_nulls\": 0.4558808207511902, \"percentile_inc_nulls\": 0.5265639424324036, \"value_count\": 10, \"group_name\": \"ClientPinNumber\", \"total_non_null_rows\": 310024, \"total_rows_inc_nulls\": 356310, \"sum_tokens_in_value_count_group\": 9180.0, \"distinct_value_count\": 57160}, {\"percentile_ex_nulls\": 0.4335567355155945, \"percentile_inc_nulls\": 0.5071398615837097, \"value_count\": 9, \"group_name\": \"ClientPinNumber\", \"total_non_null_rows\": 310024, \"total_rows_inc_nulls\": 356310, \"sum_tokens_in_value_count_group\": 6921.0, \"distinct_value_count\": 57160}, {\"percentile_ex_nulls\": 0.39843690395355225, \"percentile_inc_nulls\": 0.4765821695327759, \"value_count\": 8, \"group_name\": \"ClientPinNumber\", \"total_non_null_rows\": 310024, \"total_rows_inc_nulls\": 356310, \"sum_tokens_in_value_count_group\": 10888.0, \"distinct_value_count\": 57160}, {\"percentile_ex_nulls\": 0.3754967451095581, \"percentile_inc_nulls\": 0.45662206411361694, \"value_count\": 7, \"group_name\": \"ClientPinNumber\", \"total_non_null_rows\": 310024, \"total_rows_inc_nulls\": 356310, \"sum_tokens_in_value_count_group\": 7112.0, \"distinct_value_count\": 57160}, {\"percentile_ex_nulls\": 0.31395310163497925, \"percentile_inc_nulls\": 0.40307319164276123, \"value_count\": 6, \"group_name\": \"ClientPinNumber\", \"total_non_null_rows\": 310024, \"total_rows_inc_nulls\": 356310, \"sum_tokens_in_value_count_group\": 19080.0, \"distinct_value_count\": 57160}, {\"percentile_ex_nulls\": 0.2606669068336487, \"percentile_inc_nulls\": 0.3567090630531311, \"value_count\": 5, \"group_name\": \"ClientPinNumber\", \"total_non_null_rows\": 310024, \"total_rows_inc_nulls\": 356310, \"sum_tokens_in_value_count_group\": 16520.0, \"distinct_value_count\": 57160}, {\"percentile_ex_nulls\": 0.18882733583450317, \"percentile_inc_nulls\": 0.29420167207717896, \"value_count\": 4, \"group_name\": \"ClientPinNumber\", \"total_non_null_rows\": 310024, \"total_rows_inc_nulls\": 356310, \"sum_tokens_in_value_count_group\": 22272.0, \"distinct_value_count\": 57160}, {\"percentile_ex_nulls\": 0.13865375518798828, \"percentile_inc_nulls\": 0.250545859336853, \"value_count\": 3, \"group_name\": \"ClientPinNumber\", \"total_non_null_rows\": 310024, \"total_rows_inc_nulls\": 356310, \"sum_tokens_in_value_count_group\": 15555.0, \"distinct_value_count\": 57160}, {\"percentile_ex_nulls\": 0.06176942586898804, \"percentile_inc_nulls\": 0.18364906311035156, \"value_count\": 2, \"group_name\": \"ClientPinNumber\", \"total_non_null_rows\": 310024, \"total_rows_inc_nulls\": 356310, \"sum_tokens_in_value_count_group\": 23836.0, \"distinct_value_count\": 57160}, {\"percentile_ex_nulls\": 0.0, \"percentile_inc_nulls\": 0.12990373373031616, \"value_count\": 1, \"group_name\": \"ClientPinNumber\", \"total_non_null_rows\": 310024, \"total_rows_inc_nulls\": 356310, \"sum_tokens_in_value_count_group\": 19150.0, \"distinct_value_count\": 57160}, {\"percentile_ex_nulls\": 1.0, \"percentile_inc_nulls\": 1.0, \"value_count\": 23277, \"group_name\": \"ClientPinNumber\", \"total_non_null_rows\": 310024, \"total_rows_inc_nulls\": 356310, \"sum_tokens_in_value_count_group\": 23277.0, \"distinct_value_count\": 57160}]}, \"encoding\": {\"tooltip\": [{\"field\": \"value_count\", \"type\": \"quantitative\"}, {\"field\": \"percentile_ex_nulls\", \"type\": \"quantitative\"}, {\"field\": \"percentile_inc_nulls\", \"type\": \"quantitative\"}, {\"field\": \"total_non_null_rows\", \"type\": \"quantitative\"}, {\"field\": \"total_rows_inc_nulls\", \"type\": \"quantitative\"}], \"x\": {\"field\": \"percentile_ex_nulls\", \"sort\": \"descending\", \"title\": \"Percentile\", \"type\": \"quantitative\"}, \"y\": {\"field\": \"value_count\", \"title\": \"Count of values\", \"type\": \"quantitative\"}}, \"title\": {\"text\": \"Distribution of counts of values in column ClientPinNumber\", \"subtitle\": \"In this col, 46,286 values (13.0%) are null and there are 57160 distinct values\"}}, {\"mark\": \"bar\", \"data\": {\"values\": [{\"value_count\": 23277, \"group_name\": \"ClientPinNumber\", \"value\": \"0\", \"total_non_null_rows\": 310024, \"total_rows_inc_nulls\": 356310, \"distinct_value_count\": 57160}, {\"value_count\": 1351, \"group_name\": \"ClientPinNumber\", \"value\": \"P000609362E\", \"total_non_null_rows\": 310024, \"total_rows_inc_nulls\": 356310, \"distinct_value_count\": 57160}, {\"value_count\": 1034, \"group_name\": \"ClientPinNumber\", \"value\": \"P000619379O\", \"total_non_null_rows\": 310024, \"total_rows_inc_nulls\": 356310, \"distinct_value_count\": 57160}, {\"value_count\": 926, \"group_name\": \"ClientPinNumber\", \"value\": \"P000593831T\", \"total_non_null_rows\": 310024, \"total_rows_inc_nulls\": 356310, \"distinct_value_count\": 57160}, {\"value_count\": 890, \"group_name\": \"ClientPinNumber\", \"value\": \"P000596926F\", \"total_non_null_rows\": 310024, \"total_rows_inc_nulls\": 356310, \"distinct_value_count\": 57160}, {\"value_count\": 856, \"group_name\": \"ClientPinNumber\", \"value\": \"P000591343L\", \"total_non_null_rows\": 310024, \"total_rows_inc_nulls\": 356310, \"distinct_value_count\": 57160}, {\"value_count\": 700, \"group_name\": \"ClientPinNumber\", \"value\": \"P000608609Y\", \"total_non_null_rows\": 310024, \"total_rows_inc_nulls\": 356310, \"distinct_value_count\": 57160}, {\"value_count\": 648, \"group_name\": \"ClientPinNumber\", \"value\": \"P0513288915D\", \"total_non_null_rows\": 310024, \"total_rows_inc_nulls\": 356310, \"distinct_value_count\": 57160}, {\"value_count\": 630, \"group_name\": \"ClientPinNumber\", \"value\": \"P051449667X\", \"total_non_null_rows\": 310024, \"total_rows_inc_nulls\": 356310, \"distinct_value_count\": 57160}, {\"value_count\": 616, \"group_name\": \"ClientPinNumber\", \"value\": \"P051160233G\", \"total_non_null_rows\": 310024, \"total_rows_inc_nulls\": 356310, \"distinct_value_count\": 57160}]}, \"encoding\": {\"tooltip\": [{\"field\": \"value\", \"type\": \"nominal\"}, {\"field\": \"value_count\", \"type\": \"quantitative\"}, {\"field\": \"total_non_null_rows\", \"type\": \"quantitative\"}, {\"field\": \"total_rows_inc_nulls\", \"type\": \"quantitative\"}], \"x\": {\"field\": \"value\", \"sort\": \"-y\", \"title\": null, \"type\": \"nominal\"}, \"y\": {\"field\": \"value_count\", \"title\": \"Value count\", \"type\": \"quantitative\"}}, \"title\": \"Top 10 values by value count\"}, {\"mark\": \"bar\", \"data\": {\"values\": [{\"value_count\": 1, \"group_name\": \"ClientPinNumber\", \"value\": \"A006421912A\", \"total_non_null_rows\": 310024, \"total_rows_inc_nulls\": 356310, \"distinct_value_count\": 57160}, {\"value_count\": 1, \"group_name\": \"ClientPinNumber\", \"value\": \"A006071031U\", \"total_non_null_rows\": 310024, \"total_rows_inc_nulls\": 356310, \"distinct_value_count\": 57160}, {\"value_count\": 1, \"group_name\": \"ClientPinNumber\", \"value\": \"A008181989Z\", \"total_non_null_rows\": 310024, \"total_rows_inc_nulls\": 356310, \"distinct_value_count\": 57160}, {\"value_count\": 1, \"group_name\": \"ClientPinNumber\", \"value\": \"A005433288Z\", \"total_non_null_rows\": 310024, \"total_rows_inc_nulls\": 356310, \"distinct_value_count\": 57160}, {\"value_count\": 1, \"group_name\": \"ClientPinNumber\", \"value\": \"P051099442H\", \"total_non_null_rows\": 310024, \"total_rows_inc_nulls\": 356310, \"distinct_value_count\": 57160}]}, \"encoding\": {\"tooltip\": [{\"field\": \"value\", \"type\": \"nominal\"}, {\"field\": \"value_count\", \"type\": \"quantitative\"}, {\"field\": \"total_non_null_rows\", \"type\": \"quantitative\"}, {\"field\": \"total_rows_inc_nulls\", \"type\": \"quantitative\"}], \"x\": {\"field\": \"value\", \"sort\": \"-y\", \"title\": null, \"type\": \"nominal\"}, \"y\": {\"field\": \"value_count\", \"scale\": {\"domain\": [0, 23277]}, \"title\": \"Value count\", \"type\": \"quantitative\"}}, \"title\": \"Bottom 5 values by value count\"}]}, {\"hconcat\": [{\"mark\": {\"type\": \"line\", \"interpolate\": \"step-after\"}, \"data\": {\"values\": [{\"percentile_ex_nulls\": 0.634484052658081, \"percentile_inc_nulls\": 0.634484052658081, \"value_count\": 130237, \"group_name\": \"Department\", \"total_non_null_rows\": 356310, \"total_rows_inc_nulls\": 356310, \"sum_tokens_in_value_count_group\": 130237.0, \"distinct_value_count\": 13}, {\"percentile_ex_nulls\": 0.46531111001968384, \"percentile_inc_nulls\": 0.46531111001968384, \"value_count\": 60278, \"group_name\": \"Department\", \"total_non_null_rows\": 356310, \"total_rows_inc_nulls\": 356310, \"sum_tokens_in_value_count_group\": 60278.0, \"distinct_value_count\": 13}, {\"percentile_ex_nulls\": 0.38266676664352417, \"percentile_inc_nulls\": 0.38266676664352417, \"value_count\": 29447, \"group_name\": \"Department\", \"total_non_null_rows\": 356310, \"total_rows_inc_nulls\": 356310, \"sum_tokens_in_value_count_group\": 29447.0, \"distinct_value_count\": 13}, {\"percentile_ex_nulls\": 0.3091156482696533, \"percentile_inc_nulls\": 0.3091156482696533, \"value_count\": 26207, \"group_name\": \"Department\", \"total_non_null_rows\": 356310, \"total_rows_inc_nulls\": 356310, \"sum_tokens_in_value_count_group\": 26207.0, \"distinct_value_count\": 13}, {\"percentile_ex_nulls\": 0.25417470932006836, \"percentile_inc_nulls\": 0.25417470932006836, \"value_count\": 19576, \"group_name\": \"Department\", \"total_non_null_rows\": 356310, \"total_rows_inc_nulls\": 356310, \"sum_tokens_in_value_count_group\": 19576.0, \"distinct_value_count\": 13}, {\"percentile_ex_nulls\": 0.20222556591033936, \"percentile_inc_nulls\": 0.20222556591033936, \"value_count\": 18510, \"group_name\": \"Department\", \"total_non_null_rows\": 356310, \"total_rows_inc_nulls\": 356310, \"sum_tokens_in_value_count_group\": 18510.0, \"distinct_value_count\": 13}, {\"percentile_ex_nulls\": 0.15282762050628662, \"percentile_inc_nulls\": 0.15282762050628662, \"value_count\": 17601, \"group_name\": \"Department\", \"total_non_null_rows\": 356310, \"total_rows_inc_nulls\": 356310, \"sum_tokens_in_value_count_group\": 17601.0, \"distinct_value_count\": 13}, {\"percentile_ex_nulls\": 0.10395443439483643, \"percentile_inc_nulls\": 0.10395443439483643, \"value_count\": 17414, \"group_name\": \"Department\", \"total_non_null_rows\": 356310, \"total_rows_inc_nulls\": 356310, \"sum_tokens_in_value_count_group\": 17414.0, \"distinct_value_count\": 13}, {\"percentile_ex_nulls\": 0.06589484214782715, \"percentile_inc_nulls\": 0.06589484214782715, \"value_count\": 13561, \"group_name\": \"Department\", \"total_non_null_rows\": 356310, \"total_rows_inc_nulls\": 356310, \"sum_tokens_in_value_count_group\": 13561.0, \"distinct_value_count\": 13}, {\"percentile_ex_nulls\": 0.03745335340499878, \"percentile_inc_nulls\": 0.03745335340499878, \"value_count\": 10134, \"group_name\": \"Department\", \"total_non_null_rows\": 356310, \"total_rows_inc_nulls\": 356310, \"sum_tokens_in_value_count_group\": 10134.0, \"distinct_value_count\": 13}, {\"percentile_ex_nulls\": 0.01939600706100464, \"percentile_inc_nulls\": 0.01939600706100464, \"value_count\": 6434, \"group_name\": \"Department\", \"total_non_null_rows\": 356310, \"total_rows_inc_nulls\": 356310, \"sum_tokens_in_value_count_group\": 6434.0, \"distinct_value_count\": 13}, {\"percentile_ex_nulls\": 0.003892660140991211, \"percentile_inc_nulls\": 0.003892660140991211, \"value_count\": 5524, \"group_name\": \"Department\", \"total_non_null_rows\": 356310, \"total_rows_inc_nulls\": 356310, \"sum_tokens_in_value_count_group\": 5524.0, \"distinct_value_count\": 13}, {\"percentile_ex_nulls\": 0.0, \"percentile_inc_nulls\": 0.0, \"value_count\": 1387, \"group_name\": \"Department\", \"total_non_null_rows\": 356310, \"total_rows_inc_nulls\": 356310, \"sum_tokens_in_value_count_group\": 1387.0, \"distinct_value_count\": 13}, {\"percentile_ex_nulls\": 1.0, \"percentile_inc_nulls\": 1.0, \"value_count\": 130237, \"group_name\": \"Department\", \"total_non_null_rows\": 356310, \"total_rows_inc_nulls\": 356310, \"sum_tokens_in_value_count_group\": 130237.0, \"distinct_value_count\": 13}]}, \"encoding\": {\"tooltip\": [{\"field\": \"value_count\", \"type\": \"quantitative\"}, {\"field\": \"percentile_ex_nulls\", \"type\": \"quantitative\"}, {\"field\": \"percentile_inc_nulls\", \"type\": \"quantitative\"}, {\"field\": \"total_non_null_rows\", \"type\": \"quantitative\"}, {\"field\": \"total_rows_inc_nulls\", \"type\": \"quantitative\"}], \"x\": {\"field\": \"percentile_ex_nulls\", \"sort\": \"descending\", \"title\": \"Percentile\", \"type\": \"quantitative\"}, \"y\": {\"field\": \"value_count\", \"title\": \"Count of values\", \"type\": \"quantitative\"}}, \"title\": {\"text\": \"Distribution of counts of values in column Department\", \"subtitle\": \"In this col, 0 values (0.0%) are null and there are 13 distinct values\"}}, {\"mark\": \"bar\", \"data\": {\"values\": [{\"value_count\": 130237, \"group_name\": \"Department\", \"value\": \"motor private\", \"total_non_null_rows\": 356310, \"total_rows_inc_nulls\": 356310, \"distinct_value_count\": 13}, {\"value_count\": 60278, \"group_name\": \"Department\", \"value\": \"fire industrial\", \"total_non_null_rows\": 356310, \"total_rows_inc_nulls\": 356310, \"distinct_value_count\": 13}, {\"value_count\": 29447, \"group_name\": \"Department\", \"value\": \"medical\", \"total_non_null_rows\": 356310, \"total_rows_inc_nulls\": 356310, \"distinct_value_count\": 13}, {\"value_count\": 26207, \"group_name\": \"Department\", \"value\": \"motor commercial\", \"total_non_null_rows\": 356310, \"total_rows_inc_nulls\": 356310, \"distinct_value_count\": 13}, {\"value_count\": 19576, \"group_name\": \"Department\", \"value\": \"miscellaneous accident\", \"total_non_null_rows\": 356310, \"total_rows_inc_nulls\": 356310, \"distinct_value_count\": 13}, {\"value_count\": 18510, \"group_name\": \"Department\", \"value\": \"fire domestic\", \"total_non_null_rows\": 356310, \"total_rows_inc_nulls\": 356310, \"distinct_value_count\": 13}, {\"value_count\": 17601, \"group_name\": \"Department\", \"value\": \"personal accident\", \"total_non_null_rows\": 356310, \"total_rows_inc_nulls\": 356310, \"distinct_value_count\": 13}, {\"value_count\": 17414, \"group_name\": \"Department\", \"value\": \"theft\", \"total_non_null_rows\": 356310, \"total_rows_inc_nulls\": 356310, \"distinct_value_count\": 13}, {\"value_count\": 13561, \"group_name\": \"Department\", \"value\": \"workmens compensation\", \"total_non_null_rows\": 356310, \"total_rows_inc_nulls\": 356310, \"distinct_value_count\": 13}, {\"value_count\": 10134, \"group_name\": \"Department\", \"value\": \"liabilities\", \"total_non_null_rows\": 356310, \"total_rows_inc_nulls\": 356310, \"distinct_value_count\": 13}]}, \"encoding\": {\"tooltip\": [{\"field\": \"value\", \"type\": \"nominal\"}, {\"field\": \"value_count\", \"type\": \"quantitative\"}, {\"field\": \"total_non_null_rows\", \"type\": \"quantitative\"}, {\"field\": \"total_rows_inc_nulls\", \"type\": \"quantitative\"}], \"x\": {\"field\": \"value\", \"sort\": \"-y\", \"title\": null, \"type\": \"nominal\"}, \"y\": {\"field\": \"value_count\", \"title\": \"Value count\", \"type\": \"quantitative\"}}, \"title\": \"Top 10 values by value count\"}, {\"mark\": \"bar\", \"data\": {\"values\": [{\"value_count\": 1387, \"group_name\": \"Department\", \"value\": \"aviation\", \"total_non_null_rows\": 356310, \"total_rows_inc_nulls\": 356310, \"distinct_value_count\": 13}, {\"value_count\": 5524, \"group_name\": \"Department\", \"value\": \"engineering\", \"total_non_null_rows\": 356310, \"total_rows_inc_nulls\": 356310, \"distinct_value_count\": 13}, {\"value_count\": 6434, \"group_name\": \"Department\", \"value\": \"marine\", \"total_non_null_rows\": 356310, \"total_rows_inc_nulls\": 356310, \"distinct_value_count\": 13}, {\"value_count\": 10134, \"group_name\": \"Department\", \"value\": \"liabilities\", \"total_non_null_rows\": 356310, \"total_rows_inc_nulls\": 356310, \"distinct_value_count\": 13}, {\"value_count\": 13561, \"group_name\": \"Department\", \"value\": \"workmens compensation\", \"total_non_null_rows\": 356310, \"total_rows_inc_nulls\": 356310, \"distinct_value_count\": 13}]}, \"encoding\": {\"tooltip\": [{\"field\": \"value\", \"type\": \"nominal\"}, {\"field\": \"value_count\", \"type\": \"quantitative\"}, {\"field\": \"total_non_null_rows\", \"type\": \"quantitative\"}, {\"field\": \"total_rows_inc_nulls\", \"type\": \"quantitative\"}], \"x\": {\"field\": \"value\", \"sort\": \"-y\", \"title\": null, \"type\": \"nominal\"}, \"y\": {\"field\": \"value_count\", \"scale\": {\"domain\": [0, 130237]}, \"title\": \"Value count\", \"type\": \"quantitative\"}}, \"title\": \"Bottom 5 values by value count\"}]}, {\"hconcat\": [{\"mark\": {\"type\": \"line\", \"interpolate\": \"step-after\"}, \"data\": {\"values\": [{\"percentile_ex_nulls\": 0.816063642501831, \"percentile_inc_nulls\": 0.8165726661682129, \"value_count\": 65357, \"group_name\": \"substr_OriginalAttachmentDate_1_4_\", \"total_non_null_rows\": 355324, \"total_rows_inc_nulls\": 356310, \"sum_tokens_in_value_count_group\": 65357.0, \"distinct_value_count\": 62}, {\"percentile_ex_nulls\": 0.7861557006835938, \"percentile_inc_nulls\": 0.7867475152015686, \"value_count\": 10627, \"group_name\": \"substr_OriginalAttachmentDate_1_4_\", \"total_non_null_rows\": 355324, \"total_rows_inc_nulls\": 356310, \"sum_tokens_in_value_count_group\": 10627.0, \"distinct_value_count\": 62}, {\"percentile_ex_nulls\": 0.7588820457458496, \"percentile_inc_nulls\": 0.7595492601394653, \"value_count\": 9691, \"group_name\": \"substr_OriginalAttachmentDate_1_4_\", \"total_non_null_rows\": 355324, \"total_rows_inc_nulls\": 356310, \"sum_tokens_in_value_count_group\": 9691.0, \"distinct_value_count\": 62}, {\"percentile_ex_nulls\": 0.735061526298523, \"percentile_inc_nulls\": 0.7357946634292603, \"value_count\": 8464, \"group_name\": \"substr_OriginalAttachmentDate_1_4_\", \"total_non_null_rows\": 355324, \"total_rows_inc_nulls\": 356310, \"sum_tokens_in_value_count_group\": 8464.0, \"distinct_value_count\": 62}, {\"percentile_ex_nulls\": 0.7139512300491333, \"percentile_inc_nulls\": 0.7147427797317505, \"value_count\": 7501, \"group_name\": \"substr_OriginalAttachmentDate_1_4_\", \"total_non_null_rows\": 355324, \"total_rows_inc_nulls\": 356310, \"sum_tokens_in_value_count_group\": 7501.0, \"distinct_value_count\": 62}, {\"percentile_ex_nulls\": 0.6930069327354431, \"percentile_inc_nulls\": 0.6938564777374268, \"value_count\": 7442, \"group_name\": \"substr_OriginalAttachmentDate_1_4_\", \"total_non_null_rows\": 355324, \"total_rows_inc_nulls\": 356310, \"sum_tokens_in_value_count_group\": 7442.0, \"distinct_value_count\": 62}, {\"percentile_ex_nulls\": 0.6721527576446533, \"percentile_inc_nulls\": 0.6730599403381348, \"value_count\": 7410, \"group_name\": \"substr_OriginalAttachmentDate_1_4_\", \"total_non_null_rows\": 355324, \"total_rows_inc_nulls\": 356310, \"sum_tokens_in_value_count_group\": 7410.0, \"distinct_value_count\": 62}, {\"percentile_ex_nulls\": 0.6517375707626343, \"percentile_inc_nulls\": 0.6527012586593628, \"value_count\": 7254, \"group_name\": \"substr_OriginalAttachmentDate_1_4_\", \"total_non_null_rows\": 355324, \"total_rows_inc_nulls\": 356310, \"sum_tokens_in_value_count_group\": 7254.0, \"distinct_value_count\": 62}, {\"percentile_ex_nulls\": 0.631420910358429, \"percentile_inc_nulls\": 0.6324408650398254, \"value_count\": 7219, \"group_name\": \"substr_OriginalAttachmentDate_1_4_\", \"total_non_null_rows\": 355324, \"total_rows_inc_nulls\": 356310, \"sum_tokens_in_value_count_group\": 7219.0, \"distinct_value_count\": 62}, {\"percentile_ex_nulls\": 0.6113631725311279, \"percentile_inc_nulls\": 0.6124386191368103, \"value_count\": 7127, \"group_name\": \"substr_OriginalAttachmentDate_1_4_\", \"total_non_null_rows\": 355324, \"total_rows_inc_nulls\": 356310, \"sum_tokens_in_value_count_group\": 7127.0, \"distinct_value_count\": 62}, {\"percentile_ex_nulls\": 0.5914039015769958, \"percentile_inc_nulls\": 0.592534601688385, \"value_count\": 7092, \"group_name\": \"substr_OriginalAttachmentDate_1_4_\", \"total_non_null_rows\": 355324, \"total_rows_inc_nulls\": 356310, \"sum_tokens_in_value_count_group\": 7092.0, \"distinct_value_count\": 62}, {\"percentile_ex_nulls\": 0.5714868307113647, \"percentile_inc_nulls\": 0.5726726651191711, \"value_count\": 7077, \"group_name\": \"substr_OriginalAttachmentDate_1_4_\", \"total_non_null_rows\": 355324, \"total_rows_inc_nulls\": 356310, \"sum_tokens_in_value_count_group\": 7077.0, \"distinct_value_count\": 62}, {\"percentile_ex_nulls\": 0.5516740083694458, \"percentile_inc_nulls\": 0.5529146194458008, \"value_count\": 7040, \"group_name\": \"substr_OriginalAttachmentDate_1_4_\", \"total_non_null_rows\": 355324, \"total_rows_inc_nulls\": 356310, \"sum_tokens_in_value_count_group\": 7040.0, \"distinct_value_count\": 62}, {\"percentile_ex_nulls\": 0.5319595336914062, \"percentile_inc_nulls\": 0.5332547426223755, \"value_count\": 7005, \"group_name\": \"substr_OriginalAttachmentDate_1_4_\", \"total_non_null_rows\": 355324, \"total_rows_inc_nulls\": 356310, \"sum_tokens_in_value_count_group\": 7005.0, \"distinct_value_count\": 62}, {\"percentile_ex_nulls\": 0.5122677087783813, \"percentile_inc_nulls\": 0.5136173963546753, \"value_count\": 6997, \"group_name\": \"substr_OriginalAttachmentDate_1_4_\", \"total_non_null_rows\": 355324, \"total_rows_inc_nulls\": 356310, \"sum_tokens_in_value_count_group\": 6997.0, \"distinct_value_count\": 62}, {\"percentile_ex_nulls\": 0.49258989095687866, \"percentile_inc_nulls\": 0.49399399757385254, \"value_count\": 6992, \"group_name\": \"substr_OriginalAttachmentDate_1_4_\", \"total_non_null_rows\": 355324, \"total_rows_inc_nulls\": 356310, \"sum_tokens_in_value_count_group\": 6992.0, \"distinct_value_count\": 62}, {\"percentile_ex_nulls\": 0.4729374051094055, \"percentile_inc_nulls\": 0.47439587116241455, \"value_count\": 6983, \"group_name\": \"substr_OriginalAttachmentDate_1_4_\", \"total_non_null_rows\": 355324, \"total_rows_inc_nulls\": 356310, \"sum_tokens_in_value_count_group\": 6983.0, \"distinct_value_count\": 62}, {\"percentile_ex_nulls\": 0.4535072445869446, \"percentile_inc_nulls\": 0.4550195336341858, \"value_count\": 6904, \"group_name\": \"substr_OriginalAttachmentDate_1_4_\", \"total_non_null_rows\": 355324, \"total_rows_inc_nulls\": 356310, \"sum_tokens_in_value_count_group\": 6904.0, \"distinct_value_count\": 62}, {\"percentile_ex_nulls\": 0.4340883493423462, \"percentile_inc_nulls\": 0.43565434217453003, \"value_count\": 6900, \"group_name\": \"substr_OriginalAttachmentDate_1_4_\", \"total_non_null_rows\": 355324, \"total_rows_inc_nulls\": 356310, \"sum_tokens_in_value_count_group\": 6900.0, \"distinct_value_count\": 62}, {\"percentile_ex_nulls\": 0.41484951972961426, \"percentile_inc_nulls\": 0.4164687991142273, \"value_count\": 6836, \"group_name\": \"substr_OriginalAttachmentDate_1_4_\", \"total_non_null_rows\": 355324, \"total_rows_inc_nulls\": 356310, \"sum_tokens_in_value_count_group\": 6836.0, \"distinct_value_count\": 62}, {\"percentile_ex_nulls\": 0.39562201499938965, \"percentile_inc_nulls\": 0.39729446172714233, \"value_count\": 6832, \"group_name\": \"substr_OriginalAttachmentDate_1_4_\", \"total_non_null_rows\": 355324, \"total_rows_inc_nulls\": 356310, \"sum_tokens_in_value_count_group\": 6832.0, \"distinct_value_count\": 62}, {\"percentile_ex_nulls\": 0.37654364109039307, \"percentile_inc_nulls\": 0.37826889753341675, \"value_count\": 6779, \"group_name\": \"substr_OriginalAttachmentDate_1_4_\", \"total_non_null_rows\": 355324, \"total_rows_inc_nulls\": 356310, \"sum_tokens_in_value_count_group\": 6779.0, \"distinct_value_count\": 62}, {\"percentile_ex_nulls\": 0.35751593112945557, \"percentile_inc_nulls\": 0.3592938780784607, \"value_count\": 6761, \"group_name\": \"substr_OriginalAttachmentDate_1_4_\", \"total_non_null_rows\": 355324, \"total_rows_inc_nulls\": 356310, \"sum_tokens_in_value_count_group\": 6761.0, \"distinct_value_count\": 62}, {\"percentile_ex_nulls\": 0.33852481842041016, \"percentile_inc_nulls\": 0.3403553366661072, \"value_count\": 6748, \"group_name\": \"substr_OriginalAttachmentDate_1_4_\", \"total_non_null_rows\": 355324, \"total_rows_inc_nulls\": 356310, \"sum_tokens_in_value_count_group\": 6748.0, \"distinct_value_count\": 62}, {\"percentile_ex_nulls\": 0.32001495361328125, \"percentile_inc_nulls\": 0.32189667224884033, \"value_count\": 6577, \"group_name\": \"substr_OriginalAttachmentDate_1_4_\", \"total_non_null_rows\": 355324, \"total_rows_inc_nulls\": 356310, \"sum_tokens_in_value_count_group\": 6577.0, \"distinct_value_count\": 62}, {\"percentile_ex_nulls\": 0.301524817943573, \"percentile_inc_nulls\": 0.30345767736434937, \"value_count\": 6570, \"group_name\": \"substr_OriginalAttachmentDate_1_4_\", \"total_non_null_rows\": 355324, \"total_rows_inc_nulls\": 356310, \"sum_tokens_in_value_count_group\": 6570.0, \"distinct_value_count\": 62}, {\"percentile_ex_nulls\": 0.28327101469039917, \"percentile_inc_nulls\": 0.28525441884994507, \"value_count\": 6486, \"group_name\": \"substr_OriginalAttachmentDate_1_4_\", \"total_non_null_rows\": 355324, \"total_rows_inc_nulls\": 356310, \"sum_tokens_in_value_count_group\": 6486.0, \"distinct_value_count\": 62}, {\"percentile_ex_nulls\": 0.26503700017929077, \"percentile_inc_nulls\": 0.26707082986831665, \"value_count\": 6479, \"group_name\": \"substr_OriginalAttachmentDate_1_4_\", \"total_non_null_rows\": 355324, \"total_rows_inc_nulls\": 356310, \"sum_tokens_in_value_count_group\": 6479.0, \"distinct_value_count\": 62}, {\"percentile_ex_nulls\": 0.2473067045211792, \"percentile_inc_nulls\": 0.24938958883285522, \"value_count\": 6300, \"group_name\": \"substr_OriginalAttachmentDate_1_4_\", \"total_non_null_rows\": 355324, \"total_rows_inc_nulls\": 356310, \"sum_tokens_in_value_count_group\": 6300.0, \"distinct_value_count\": 62}, {\"percentile_ex_nulls\": 0.2297649383544922, \"percentile_inc_nulls\": 0.23189640045166016, \"value_count\": 6233, \"group_name\": \"substr_OriginalAttachmentDate_1_4_\", \"total_non_null_rows\": 355324, \"total_rows_inc_nulls\": 356310, \"sum_tokens_in_value_count_group\": 6233.0, \"distinct_value_count\": 62}, {\"percentile_ex_nulls\": 0.21257221698760986, \"percentile_inc_nulls\": 0.21475118398666382, \"value_count\": 6109, \"group_name\": \"substr_OriginalAttachmentDate_1_4_\", \"total_non_null_rows\": 355324, \"total_rows_inc_nulls\": 356310, \"sum_tokens_in_value_count_group\": 6109.0, \"distinct_value_count\": 62}, {\"percentile_ex_nulls\": 0.20040303468704224, \"percentile_inc_nulls\": 0.2026156783103943, \"value_count\": 4324, \"group_name\": \"substr_OriginalAttachmentDate_1_4_\", \"total_non_null_rows\": 355324, \"total_rows_inc_nulls\": 356310, \"sum_tokens_in_value_count_group\": 4324.0, \"distinct_value_count\": 62}, {\"percentile_ex_nulls\": 0.19194310903549194, \"percentile_inc_nulls\": 0.1941792368888855, \"value_count\": 3006, \"group_name\": \"substr_OriginalAttachmentDate_1_4_\", \"total_non_null_rows\": 355324, \"total_rows_inc_nulls\": 356310, \"sum_tokens_in_value_count_group\": 3006.0, \"distinct_value_count\": 62}, {\"percentile_ex_nulls\": 0.18367183208465576, \"percentile_inc_nulls\": 0.1859307885169983, \"value_count\": 2939, \"group_name\": \"substr_OriginalAttachmentDate_1_4_\", \"total_non_null_rows\": 355324, \"total_rows_inc_nulls\": 356310, \"sum_tokens_in_value_count_group\": 2939.0, \"distinct_value_count\": 62}, {\"percentile_ex_nulls\": 0.1757466197013855, \"percentile_inc_nulls\": 0.17802757024765015, \"value_count\": 2816, \"group_name\": \"substr_OriginalAttachmentDate_1_4_\", \"total_non_null_rows\": 355324, \"total_rows_inc_nulls\": 356310, \"sum_tokens_in_value_count_group\": 2816.0, \"distinct_value_count\": 62}, {\"percentile_ex_nulls\": 0.1681029200553894, \"percentile_inc_nulls\": 0.17040497064590454, \"value_count\": 2716, \"group_name\": \"substr_OriginalAttachmentDate_1_4_\", \"total_non_null_rows\": 355324, \"total_rows_inc_nulls\": 356310, \"sum_tokens_in_value_count_group\": 2716.0, \"distinct_value_count\": 62}, {\"percentile_ex_nulls\": 0.16054081916809082, \"percentile_inc_nulls\": 0.16286379098892212, \"value_count\": 2687, \"group_name\": \"substr_OriginalAttachmentDate_1_4_\", \"total_non_null_rows\": 355324, \"total_rows_inc_nulls\": 356310, \"sum_tokens_in_value_count_group\": 2687.0, \"distinct_value_count\": 62}, {\"percentile_ex_nulls\": 0.15302932262420654, \"percentile_inc_nulls\": 0.15537315607070923, \"value_count\": 2669, \"group_name\": \"substr_OriginalAttachmentDate_1_4_\", \"total_non_null_rows\": 355324, \"total_rows_inc_nulls\": 356310, \"sum_tokens_in_value_count_group\": 2669.0, \"distinct_value_count\": 62}, {\"percentile_ex_nulls\": 0.14566421508789062, \"percentile_inc_nulls\": 0.14802837371826172, \"value_count\": 2617, \"group_name\": \"substr_OriginalAttachmentDate_1_4_\", \"total_non_null_rows\": 355324, \"total_rows_inc_nulls\": 356310, \"sum_tokens_in_value_count_group\": 2617.0, \"distinct_value_count\": 62}, {\"percentile_ex_nulls\": 0.1383131742477417, \"percentile_inc_nulls\": 0.14069771766662598, \"value_count\": 2612, \"group_name\": \"substr_OriginalAttachmentDate_1_4_\", \"total_non_null_rows\": 355324, \"total_rows_inc_nulls\": 356310, \"sum_tokens_in_value_count_group\": 2612.0, \"distinct_value_count\": 62}, {\"percentile_ex_nulls\": 0.1310691237449646, \"percentile_inc_nulls\": 0.13347363471984863, \"value_count\": 2574, \"group_name\": \"substr_OriginalAttachmentDate_1_4_\", \"total_non_null_rows\": 355324, \"total_rows_inc_nulls\": 356310, \"sum_tokens_in_value_count_group\": 2574.0, \"distinct_value_count\": 62}, {\"percentile_ex_nulls\": 0.12388694286346436, \"percentile_inc_nulls\": 0.12631136178970337, \"value_count\": 2552, \"group_name\": \"substr_OriginalAttachmentDate_1_4_\", \"total_non_null_rows\": 355324, \"total_rows_inc_nulls\": 356310, \"sum_tokens_in_value_count_group\": 2552.0, \"distinct_value_count\": 62}, {\"percentile_ex_nulls\": 0.11675262451171875, \"percentile_inc_nulls\": 0.11919677257537842, \"value_count\": 2535, \"group_name\": \"substr_OriginalAttachmentDate_1_4_\", \"total_non_null_rows\": 355324, \"total_rows_inc_nulls\": 356310, \"sum_tokens_in_value_count_group\": 2535.0, \"distinct_value_count\": 62}, {\"percentile_ex_nulls\": 0.10966610908508301, \"percentile_inc_nulls\": 0.11212986707687378, \"value_count\": 2518, \"group_name\": \"substr_OriginalAttachmentDate_1_4_\", \"total_non_null_rows\": 355324, \"total_rows_inc_nulls\": 356310, \"sum_tokens_in_value_count_group\": 2518.0, \"distinct_value_count\": 62}, {\"percentile_ex_nulls\": 0.1026725172996521, \"percentile_inc_nulls\": 0.10515564680099487, \"value_count\": 2485, \"group_name\": \"substr_OriginalAttachmentDate_1_4_\", \"total_non_null_rows\": 355324, \"total_rows_inc_nulls\": 356310, \"sum_tokens_in_value_count_group\": 2485.0, \"distinct_value_count\": 62}, {\"percentile_ex_nulls\": 0.09576046466827393, \"percentile_inc_nulls\": 0.0982627272605896, \"value_count\": 2456, \"group_name\": \"substr_OriginalAttachmentDate_1_4_\", \"total_non_null_rows\": 355324, \"total_rows_inc_nulls\": 356310, \"sum_tokens_in_value_count_group\": 2456.0, \"distinct_value_count\": 62}, {\"percentile_ex_nulls\": 0.08886253833770752, \"percentile_inc_nulls\": 0.0913839340209961, \"value_count\": 2451, \"group_name\": \"substr_OriginalAttachmentDate_1_4_\", \"total_non_null_rows\": 355324, \"total_rows_inc_nulls\": 356310, \"sum_tokens_in_value_count_group\": 2451.0, \"distinct_value_count\": 62}, {\"percentile_ex_nulls\": 0.08197587728500366, \"percentile_inc_nulls\": 0.08451628684997559, \"value_count\": 2447, \"group_name\": \"substr_OriginalAttachmentDate_1_4_\", \"total_non_null_rows\": 355324, \"total_rows_inc_nulls\": 356310, \"sum_tokens_in_value_count_group\": 2447.0, \"distinct_value_count\": 62}, {\"percentile_ex_nulls\": 0.07510048151016235, \"percentile_inc_nulls\": 0.07765990495681763, \"value_count\": 2443, \"group_name\": \"substr_OriginalAttachmentDate_1_4_\", \"total_non_null_rows\": 355324, \"total_rows_inc_nulls\": 356310, \"sum_tokens_in_value_count_group\": 2443.0, \"distinct_value_count\": 62}, {\"percentile_ex_nulls\": 0.06828415393829346, \"percentile_inc_nulls\": 0.07086247205734253, \"value_count\": 2422, \"group_name\": \"substr_OriginalAttachmentDate_1_4_\", \"total_non_null_rows\": 355324, \"total_rows_inc_nulls\": 356310, \"sum_tokens_in_value_count_group\": 2422.0, \"distinct_value_count\": 62}, {\"percentile_ex_nulls\": 0.06168454885482788, \"percentile_inc_nulls\": 0.06428110599517822, \"value_count\": 2345, \"group_name\": \"substr_OriginalAttachmentDate_1_4_\", \"total_non_null_rows\": 355324, \"total_rows_inc_nulls\": 356310, \"sum_tokens_in_value_count_group\": 2345.0, \"distinct_value_count\": 62}, {\"percentile_ex_nulls\": 0.055191874504089355, \"percentile_inc_nulls\": 0.057806432247161865, \"value_count\": 2307, \"group_name\": \"substr_OriginalAttachmentDate_1_4_\", \"total_non_null_rows\": 355324, \"total_rows_inc_nulls\": 356310, \"sum_tokens_in_value_count_group\": 2307.0, \"distinct_value_count\": 62}, {\"percentile_ex_nulls\": 0.048744261264801025, \"percentile_inc_nulls\": 0.0513765811920166, \"value_count\": 2291, \"group_name\": \"substr_OriginalAttachmentDate_1_4_\", \"total_non_null_rows\": 355324, \"total_rows_inc_nulls\": 356310, \"sum_tokens_in_value_count_group\": 2291.0, \"distinct_value_count\": 62}, {\"percentile_ex_nulls\": 0.04229944944381714, \"percentile_inc_nulls\": 0.04494965076446533, \"value_count\": 2290, \"group_name\": \"substr_OriginalAttachmentDate_1_4_\", \"total_non_null_rows\": 355324, \"total_rows_inc_nulls\": 356310, \"sum_tokens_in_value_count_group\": 2290.0, \"distinct_value_count\": 62}, {\"percentile_ex_nulls\": 0.0360713005065918, \"percentile_inc_nulls\": 0.03873872756958008, \"value_count\": 2213, \"group_name\": \"substr_OriginalAttachmentDate_1_4_\", \"total_non_null_rows\": 355324, \"total_rows_inc_nulls\": 356310, \"sum_tokens_in_value_count_group\": 2213.0, \"distinct_value_count\": 62}, {\"percentile_ex_nulls\": 0.03036665916442871, \"percentile_inc_nulls\": 0.03304988145828247, \"value_count\": 2027, \"group_name\": \"substr_OriginalAttachmentDate_1_4_\", \"total_non_null_rows\": 355324, \"total_rows_inc_nulls\": 356310, \"sum_tokens_in_value_count_group\": 2027.0, \"distinct_value_count\": 62}, {\"percentile_ex_nulls\": 0.024766147136688232, \"percentile_inc_nulls\": 0.027464866638183594, \"value_count\": 1990, \"group_name\": \"substr_OriginalAttachmentDate_1_4_\", \"total_non_null_rows\": 355324, \"total_rows_inc_nulls\": 356310, \"sum_tokens_in_value_count_group\": 1990.0, \"distinct_value_count\": 62}, {\"percentile_ex_nulls\": 0.01943296194076538, \"percentile_inc_nulls\": 0.02214646339416504, \"value_count\": 1895, \"group_name\": \"substr_OriginalAttachmentDate_1_4_\", \"total_non_null_rows\": 355324, \"total_rows_inc_nulls\": 356310, \"sum_tokens_in_value_count_group\": 1895.0, \"distinct_value_count\": 62}, {\"percentile_ex_nulls\": 0.014172971248626709, \"percentile_inc_nulls\": 0.016901016235351562, \"value_count\": 1869, \"group_name\": \"substr_OriginalAttachmentDate_1_4_\", \"total_non_null_rows\": 355324, \"total_rows_inc_nulls\": 356310, \"sum_tokens_in_value_count_group\": 1869.0, \"distinct_value_count\": 62}, {\"percentile_ex_nulls\": 0.009267568588256836, \"percentile_inc_nulls\": 0.012009203433990479, \"value_count\": 1743, \"group_name\": \"substr_OriginalAttachmentDate_1_4_\", \"total_non_null_rows\": 355324, \"total_rows_inc_nulls\": 356310, \"sum_tokens_in_value_count_group\": 1743.0, \"distinct_value_count\": 62}, {\"percentile_ex_nulls\": 0.0045732855796813965, \"percentile_inc_nulls\": 0.007327914237976074, \"value_count\": 1668, \"group_name\": \"substr_OriginalAttachmentDate_1_4_\", \"total_non_null_rows\": 355324, \"total_rows_inc_nulls\": 356310, \"sum_tokens_in_value_count_group\": 1668.0, \"distinct_value_count\": 62}, {\"percentile_ex_nulls\": 0.0, \"percentile_inc_nulls\": 0.0027672648429870605, \"value_count\": 1625, \"group_name\": \"substr_OriginalAttachmentDate_1_4_\", \"total_non_null_rows\": 355324, \"total_rows_inc_nulls\": 356310, \"sum_tokens_in_value_count_group\": 1625.0, \"distinct_value_count\": 62}, {\"percentile_ex_nulls\": 1.0, \"percentile_inc_nulls\": 1.0, \"value_count\": 65357, \"group_name\": \"substr_OriginalAttachmentDate_1_4_\", \"total_non_null_rows\": 355324, \"total_rows_inc_nulls\": 356310, \"sum_tokens_in_value_count_group\": 65357.0, \"distinct_value_count\": 62}]}, \"encoding\": {\"tooltip\": [{\"field\": \"value_count\", \"type\": \"quantitative\"}, {\"field\": \"percentile_ex_nulls\", \"type\": \"quantitative\"}, {\"field\": \"percentile_inc_nulls\", \"type\": \"quantitative\"}, {\"field\": \"total_non_null_rows\", \"type\": \"quantitative\"}, {\"field\": \"total_rows_inc_nulls\", \"type\": \"quantitative\"}], \"x\": {\"field\": \"percentile_ex_nulls\", \"sort\": \"descending\", \"title\": \"Percentile\", \"type\": \"quantitative\"}, \"y\": {\"field\": \"value_count\", \"title\": \"Count of values\", \"type\": \"quantitative\"}}, \"title\": {\"text\": \"Distribution of counts of values in column substr(OriginalAttachmentDate, 1,4)\", \"subtitle\": \"In this col, 986 values (0.3%) are null and there are 62 distinct values\"}}, {\"mark\": \"bar\", \"data\": {\"values\": [{\"value_count\": 65357, \"group_name\": \"substr_OriginalAttachmentDate_1_4_\", \"value\": \"01/0\", \"total_non_null_rows\": 355324, \"total_rows_inc_nulls\": 356310, \"distinct_value_count\": 62}, {\"value_count\": 10627, \"group_name\": \"substr_OriginalAttachmentDate_1_4_\", \"value\": \"01/1\", \"total_non_null_rows\": 355324, \"total_rows_inc_nulls\": 356310, \"distinct_value_count\": 62}, {\"value_count\": 9691, \"group_name\": \"substr_OriginalAttachmentDate_1_4_\", \"value\": \"15/0\", \"total_non_null_rows\": 355324, \"total_rows_inc_nulls\": 356310, \"distinct_value_count\": 62}, {\"value_count\": 8464, \"group_name\": \"substr_OriginalAttachmentDate_1_4_\", \"value\": \"29/0\", \"total_non_null_rows\": 355324, \"total_rows_inc_nulls\": 356310, \"distinct_value_count\": 62}, {\"value_count\": 7501, \"group_name\": \"substr_OriginalAttachmentDate_1_4_\", \"value\": \"10/0\", \"total_non_null_rows\": 355324, \"total_rows_inc_nulls\": 356310, \"distinct_value_count\": 62}, {\"value_count\": 7442, \"group_name\": \"substr_OriginalAttachmentDate_1_4_\", \"value\": \"27/0\", \"total_non_null_rows\": 355324, \"total_rows_inc_nulls\": 356310, \"distinct_value_count\": 62}, {\"value_count\": 7410, \"group_name\": \"substr_OriginalAttachmentDate_1_4_\", \"value\": \"16/0\", \"total_non_null_rows\": 355324, \"total_rows_inc_nulls\": 356310, \"distinct_value_count\": 62}, {\"value_count\": 7254, \"group_name\": \"substr_OriginalAttachmentDate_1_4_\", \"value\": \"08/0\", \"total_non_null_rows\": 355324, \"total_rows_inc_nulls\": 356310, \"distinct_value_count\": 62}, {\"value_count\": 7219, \"group_name\": \"substr_OriginalAttachmentDate_1_4_\", \"value\": \"18/0\", \"total_non_null_rows\": 355324, \"total_rows_inc_nulls\": 356310, \"distinct_value_count\": 62}, {\"value_count\": 7127, \"group_name\": \"substr_OriginalAttachmentDate_1_4_\", \"value\": \"20/0\", \"total_non_null_rows\": 355324, \"total_rows_inc_nulls\": 356310, \"distinct_value_count\": 62}]}, \"encoding\": {\"tooltip\": [{\"field\": \"value\", \"type\": \"nominal\"}, {\"field\": \"value_count\", \"type\": \"quantitative\"}, {\"field\": \"total_non_null_rows\", \"type\": \"quantitative\"}, {\"field\": \"total_rows_inc_nulls\", \"type\": \"quantitative\"}], \"x\": {\"field\": \"value\", \"sort\": \"-y\", \"title\": null, \"type\": \"nominal\"}, \"y\": {\"field\": \"value_count\", \"title\": \"Value count\", \"type\": \"quantitative\"}}, \"title\": \"Top 10 values by value count\"}, {\"mark\": \"bar\", \"data\": {\"values\": [{\"value_count\": 1625, \"group_name\": \"substr_OriginalAttachmentDate_1_4_\", \"value\": \"26/1\", \"total_non_null_rows\": 355324, \"total_rows_inc_nulls\": 356310, \"distinct_value_count\": 62}, {\"value_count\": 1668, \"group_name\": \"substr_OriginalAttachmentDate_1_4_\", \"value\": \"27/1\", \"total_non_null_rows\": 355324, \"total_rows_inc_nulls\": 356310, \"distinct_value_count\": 62}, {\"value_count\": 1743, \"group_name\": \"substr_OriginalAttachmentDate_1_4_\", \"value\": \"25/1\", \"total_non_null_rows\": 355324, \"total_rows_inc_nulls\": 356310, \"distinct_value_count\": 62}, {\"value_count\": 1869, \"group_name\": \"substr_OriginalAttachmentDate_1_4_\", \"value\": \"28/1\", \"total_non_null_rows\": 355324, \"total_rows_inc_nulls\": 356310, \"distinct_value_count\": 62}, {\"value_count\": 1895, \"group_name\": \"substr_OriginalAttachmentDate_1_4_\", \"value\": \"12/1\", \"total_non_null_rows\": 355324, \"total_rows_inc_nulls\": 356310, \"distinct_value_count\": 62}]}, \"encoding\": {\"tooltip\": [{\"field\": \"value\", \"type\": \"nominal\"}, {\"field\": \"value_count\", \"type\": \"quantitative\"}, {\"field\": \"total_non_null_rows\", \"type\": \"quantitative\"}, {\"field\": \"total_rows_inc_nulls\", \"type\": \"quantitative\"}], \"x\": {\"field\": \"value\", \"sort\": \"-y\", \"title\": null, \"type\": \"nominal\"}, \"y\": {\"field\": \"value_count\", \"scale\": {\"domain\": [0, 65357]}, \"title\": \"Value count\", \"type\": \"quantitative\"}}, \"title\": \"Bottom 5 values by value count\"}]}], \"$schema\": \"https://vega.github.io/schema/vega-lite/v5.9.3.json\"}, {\"mode\": \"vega-lite\"});\n",
              "</script>"
            ],
            "text/plain": [
              "alt.VConcatChart(...)"
            ]
          },
          "execution_count": 16,
          "metadata": {},
          "output_type": "execute_result"
        }
      ],
      "source": [
        "linker.profile_columns([\"cltname_x\", \"PolPcId\", \"ClientPinNumber\", \"Department\", \"substr(OriginalAttachmentDate, 1,4)\"], top_n=10, bottom_n=5)"
      ]
    },
    {
      "cell_type": "markdown",
      "metadata": {
        "id": "b_u6WuPPkXbg"
      },
      "source": [
        "## Specifying a linkage model"
      ]
    },
    {
      "cell_type": "markdown",
      "metadata": {
        "id": "TFHBnhYD8Yz4"
      },
      "source": [
        "### Comparisons"
      ]
    },
    {
      "cell_type": "code",
      "execution_count": null,
      "metadata": {
        "colab": {
          "base_uri": "https://localhost:8080/"
        },
        "id": "vqeqVg6amQNm",
        "outputId": "a11af6cb-6274-43ef-f01e-2feb2707dc54"
      },
      "outputs": [
        {
          "name": "stdout",
          "output_type": "stream",
          "text": [
            "Comparison 'Exact match vs. Cltname_X within levenshtein threshold 4 vs. anything else' of \"cltname_x\".\n",
            "Similarity is assessed using the following ComparisonLevels:\n",
            "    - 'Null' with SQL rule: \"cltname_x_l\" IS NULL OR \"cltname_x_r\" IS NULL\n",
            "    - 'Exact match' with SQL rule: \"cltname_x_l\" = \"cltname_x_r\"\n",
            "    - 'Levenshtein <= 4' with SQL rule: levenshtein(\"cltname_x_l\", \"cltname_x_r\") <= 4\n",
            "    - 'All other comparisons' with SQL rule: ELSE\n",
            "\n"
          ]
        },
        {
          "name": "stderr",
          "output_type": "stream",
          "text": [
            "/usr/local/lib/python3.10/dist-packages/ipykernel/ipkernel.py:283: DeprecationWarning: `should_run_async` will not call `transform_cell` automatically in the future. Please pass the result to `transformed_cell` argument and any exception that happen during thetransform in `preprocessing_exc_tuple` in IPython 7.17 and above.\n",
            "  and should_run_async(code)\n",
            "<ipython-input-17-e46a11a61581>:1: SplinkDeprecated: Importing directly from `splink.duckdb.duckdb_comparison_library` is deprecated and will be removed in Splink v4. Please import from `splink.duckdb.comparison_library` going forward.\n",
            "  import splink.duckdb.duckdb_comparison_library as cl\n"
          ]
        }
      ],
      "source": [
        "import splink.duckdb.duckdb_comparison_library as cl\n",
        "first_name_comparison = cl.levenshtein_at_thresholds(\"cltname_x\", 4)\n",
        "print(first_name_comparison.human_readable_description)"
      ]
    },
    {
      "cell_type": "markdown",
      "metadata": {
        "id": "8z0dIirJ_v9t"
      },
      "source": [
        "## Testing Blocking Rules"
      ]
    },
    {
      "cell_type": "code",
      "execution_count": null,
      "metadata": {
        "colab": {
          "base_uri": "https://localhost:8080/",
          "height": 173,
          "referenced_widgets": [
            "203c2f8b294f4a15bfede0394869975c",
            "75173c57aaaf41909c4c52ea2b98cb7d",
            "a392d75fe5e04b8ba9e4f7b8020b7d33"
          ]
        },
        "id": "aCewQ96noOKC",
        "outputId": "8957c911-b37d-493a-a8d4-516cf313273f"
      },
      "outputs": [
        {
          "name": "stderr",
          "output_type": "stream",
          "text": [
            "/usr/local/lib/python3.10/dist-packages/ipykernel/ipkernel.py:283: DeprecationWarning: `should_run_async` will not call `transform_cell` automatically in the future. Please pass the result to `transformed_cell` argument and any exception that happen during thetransform in `preprocessing_exc_tuple` in IPython 7.17 and above.\n",
            "  and should_run_async(code)\n"
          ]
        },
        {
          "name": "stdout",
          "output_type": "stream",
          "text": [
            "Number of comparisons generated by 'l.cltname_x =r.cltname_x and l.polref = r.polref': 5,825\n"
          ]
        },
        {
          "data": {
            "application/vnd.jupyter.widget-view+json": {
              "model_id": "203c2f8b294f4a15bfede0394869975c",
              "version_major": 2,
              "version_minor": 0
            },
            "text/plain": [
              "FloatProgress(value=0.0, layout=Layout(width='auto'), style=ProgressStyle(bar_color='black'))"
            ]
          },
          "metadata": {},
          "output_type": "display_data"
        },
        {
          "name": "stdout",
          "output_type": "stream",
          "text": [
            "Number of comparisons generated by 'l.ClientPinNumber = r.ClientPinNumber': 1,349,464,498\n",
            "Number of comparisons generated by 'l.polref = r.polref': 10,667,023\n",
            "Number of comparisons generated by 'l.BranchName_x = r.BranchName_x and l.cltname_x = r.cltname_x': 2,797,986\n"
          ]
        }
      ],
      "source": [
        "# df =Actuarial_claims_unique_id6\n",
        "\n",
        "# from splink.duckdb.duckdb_linker import DuckDBLinker\n",
        "# settings = {\"link_type\": \"dedupe_only\"}\n",
        "# linker = DuckDBLinker(df, settings)\n",
        "\n",
        "# blocking_rule_1 = \"l.cltname_x =r.cltname_x and l.polref = r.polref\"\n",
        "# count = linker.count_num_comparisons_from_blocking_rule(blocking_rule_1)\n",
        "# print(f\"Number of comparisons generated by '{blocking_rule_1}': {count:,.0f}\")\n",
        "\n",
        "# blocking_rule_2 = \"l.ClientPinNumber = r.ClientPinNumber\"\n",
        "# count = linker.count_num_comparisons_from_blocking_rule(blocking_rule_2)\n",
        "# print(f\"Number of comparisons generated by '{blocking_rule_2}': {count:,.0f}\")\n",
        "\n",
        "# blocking_rule_3 = \"l.polref = r.polref\"\n",
        "# count = linker.count_num_comparisons_from_blocking_rule(blocking_rule_3)\n",
        "# print(f\"Number of comparisons generated by '{blocking_rule_3}': {count:,.0f}\")\n",
        "\n",
        "# blocking_rule_3 = \"l.BranchName_x = r.BranchName_x and l.cltname_x = r.cltname_x\"\n",
        "# count = linker.count_num_comparisons_from_blocking_rule(blocking_rule_3)\n",
        "# print(f\"Number of comparisons generated by '{blocking_rule_3}': {count:,.0f}\")\n"
      ]
    },
    {
      "cell_type": "markdown",
      "metadata": {
        "id": "zCqriTYt-O3r"
      },
      "source": [
        "## Specifying the full settings dictionary\n",
        "\n",
        "`Comparisons` are specified as part of the Splink `settings`, a Python dictionary which controls all of the configuration of a Splink model."
      ]
    },
    {
      "cell_type": "code",
      "execution_count": null,
      "metadata": {
        "colab": {
          "base_uri": "https://localhost:8080/"
        },
        "id": "L1ku_mOuklDG",
        "outputId": "2ac9ce09-625a-40b3-ad3a-58a4a912a792"
      },
      "outputs": [
        {
          "name": "stderr",
          "output_type": "stream",
          "text": [
            "/usr/local/lib/python3.10/dist-packages/ipykernel/ipkernel.py:283: DeprecationWarning: `should_run_async` will not call `transform_cell` automatically in the future. Please pass the result to `transformed_cell` argument and any exception that happen during thetransform in `preprocessing_exc_tuple` in IPython 7.17 and above.\n",
            "  and should_run_async(code)\n"
          ]
        }
      ],
      "source": [
        "settings = {\n",
        "    \"probability_two_random_records_match\": 4/1000,\n",
        "    \"link_type\": \"dedupe_only\",\n",
        "    \"comparisons\": [\n",
        "        cl.levenshtein_at_thresholds(\"cltname_x\", 4),\n",
        "        cl.exact_match(\"ClientPinNumber\"),\n",
        "        cl.exact_match(\"PolPcId\"),\n",
        "        cl.exact_match(\"OriginalAttachmentDate\",term_frequency_adjustments=True),\n",
        "        cl.exact_match(\"BranchName_x\",term_frequency_adjustments=True),\n",
        "    ],\n",
        "    \"blocking_rules_to_generate_predictions\": [\n",
        "        \"l.cltname_x = r.cltname_x\",\n",
        "        \"l.ClientPinNumber = r.ClientPinNumber\",\n",
        "    ],\n",
        "    \"retain_matching_columns\": True,\n",
        "    \"retain_intermediate_calculation_columns\": True,\n",
        "    \"additional_columns_to_retain\": [\"Department\"],\n",
        "}"
      ]
    },
    {
      "cell_type": "markdown",
      "metadata": {
        "id": "EehjVfk5AONn"
      },
      "source": [
        "## Estimate the parameters of the model\n",
        "\n",
        "Now that we have specified our linkage model, we want to estimate its `m` and `u` parameters.\n",
        "\n",
        "- The `m` values are the proportion of records falling into each `ComparisonLevel` amongst truly *matching* records\n",
        "\n",
        "- The `u` values are the proportion of records falling into each `ComparisonLevel` amongst truly *non-matching* records"
      ]
    },
    {
      "cell_type": "code",
      "execution_count": null,
      "metadata": {
        "colab": {
          "base_uri": "https://localhost:8080/",
          "height": 312,
          "referenced_widgets": [
            "64bebb5919294169a4a8ddd7b9a252b1",
            "e266101654c944cb967f7f74f8852adc",
            "ce63067ebfaf415e83263c2d325b07a6"
          ]
        },
        "id": "eLM2LltFrBnC",
        "outputId": "6a01c234-bcf7-4f61-88a3-e1ec02ada372"
      },
      "outputs": [
        {
          "name": "stderr",
          "output_type": "stream",
          "text": [
            "/usr/local/lib/python3.10/dist-packages/ipykernel/ipkernel.py:283: DeprecationWarning: `should_run_async` will not call `transform_cell` automatically in the future. Please pass the result to `transformed_cell` argument and any exception that happen during thetransform in `preprocessing_exc_tuple` in IPython 7.17 and above.\n",
            "  and should_run_async(code)\n",
            "<ipython-input-19-b32a9c7f81cf>:4: DeprecationWarning: target_rows is deprecated; use max_pairs\n",
            "  linker.estimate_u_using_random_sampling(target_rows=1e6)\n",
            "INFO:splink.estimate_u:----- Estimating u probabilities using random sampling -----\n"
          ]
        },
        {
          "data": {
            "application/vnd.jupyter.widget-view+json": {
              "model_id": "64bebb5919294169a4a8ddd7b9a252b1",
              "version_major": 2,
              "version_minor": 0
            },
            "text/plain": [
              "FloatProgress(value=0.0, layout=Layout(width='auto'), style=ProgressStyle(bar_color='black'))"
            ]
          },
          "metadata": {},
          "output_type": "display_data"
        },
        {
          "name": "stderr",
          "output_type": "stream",
          "text": [
            "INFO:splink.estimate_u:\n",
            "Estimated u probabilities using random sampling\n",
            "INFO:splink.settings:\n",
            "Your model is not yet fully trained. Missing estimates for:\n",
            "    - cltname_x (no m values are trained).\n",
            "    - ClientPinNumber (no m values are trained).\n",
            "    - PolPcId (no m values are trained).\n",
            "    - OriginalAttachmentDate (no m values are trained).\n",
            "    - BranchName_x (no m values are trained).\n"
          ]
        }
      ],
      "source": [
        "df =Actuarial_claims_unique_id6\n",
        "linker = DuckDBLinker(df, settings)\n",
        "## control random sample using the `target_rows`\n",
        "linker.estimate_u_using_random_sampling(target_rows=1e6)"
      ]
    },
    {
      "cell_type": "markdown",
      "metadata": {
        "id": "Bg2-DJ3fCltl"
      },
      "source": [
        "### Estimating m values by blocking client name and pin number"
      ]
    },
    {
      "cell_type": "code",
      "execution_count": null,
      "metadata": {
        "colab": {
          "base_uri": "https://localhost:8080/",
          "height": 1000,
          "referenced_widgets": [
            "7444740056fc43c3b2aae02b07f8b4d3",
            "4e526ecfc33f4b589cf05d6362265963",
            "1a26051974074e2bbf57bc7407ab38af",
            "34e000fda6694b3f9f1d75fd9b9ffab0",
            "f0ec5b0961014969bdecda82a660ef47",
            "b5c68569b34a4262a3f3e2968be6e7f4",
            "492f91b15a374a3ca4f38a27041b158b",
            "c99bb6bd4ed848bfa5cf0354bb69528c",
            "a90288989e244c65915cc7610a90e83e",
            "4b89ceec2c25434397fa7b930f8380f7",
            "803f1a0478b942c39fac289f5b4df737",
            "12fc0ada52d247cba9f6fff6f231a261",
            "88d28f61e9be407eb2ae07153c4e6eeb",
            "404b33ca920144f48af5f78d20eb7616",
            "b4e6aea9a48e4ea9a13fa80c26f1bce8",
            "cbc3b3a14b94494e8597f46e4047d0cf",
            "1918874319134f8ea94871580db77e8b",
            "f865cd14b4b847769dffb001c8c18285",
            "ffa18fa13e1e4dec9036a2e5c98967c6",
            "d043be37b88143ad85925f363f393c16",
            "bce23328821f438f97d5d6a9c6df33b6",
            "aaf6b293e6ea419c80e2893241190bf0",
            "83a871b2034b4c2aa765edfb16399fb9",
            "f537b080f3b142209c9e76968b8c41ef",
            "6f2ae5a41b374b62a62a0167ae196a2f",
            "6dc8d9c15fea44878cad7a84c887fea8",
            "9e3717a3c42f4bbcac5eb008dc347249",
            "18b9e3ed3345450ead51ba212193b61e",
            "91577f2a6b5f4321867b544b3546ed56",
            "1c1e23d6cc4c47ac8a9779bd6c008fa2",
            "0942a3b505b34c89891f83bee308384c",
            "f2f3778149b34588bcff917755142b87",
            "fe7f195557f74d5f8f7d750c9db07970",
            "8413c843070b469e9d9a2dbf23205097",
            "c542823fbc2b406d9c73d7d7874d332d",
            "34546645c6874c86927beded91073896",
            "086cb8ecdd064e0c89ce3982d51cdd9f",
            "f4eb563af2b24d7eb73906db2189bff4",
            "6f1ea44581434b3a82317d9cd9927c79",
            "7ec71ead2bfb4be48e332e842733e07f",
            "adea4c8e68ce418c99ef9becdc9d93b2",
            "b62c1edb6cbd4f579d88b37da1f0720a",
            "291d72f4a6154973a90136b47cddee01",
            "e1eb9ec69c024fc5ad05632fc5fb51c6",
            "6194df9926ec407b89eb80f98a3eb5f8",
            "b7c6e300bb9b4e199dca9b0f4b973b8f",
            "bb0fc04fdfcd41bfafb965d82ee8da6f",
            "cf3b95d63c284114b72603863b917e68"
          ]
        },
        "id": "yNNgBmXspbZx",
        "outputId": "24e094ef-d030-4885-cc92-be4d94fb9ce9"
      },
      "outputs": [
        {
          "name": "stderr",
          "output_type": "stream",
          "text": [
            "/usr/local/lib/python3.10/dist-packages/ipykernel/ipkernel.py:283: DeprecationWarning: `should_run_async` will not call `transform_cell` automatically in the future. Please pass the result to `transformed_cell` argument and any exception that happen during thetransform in `preprocessing_exc_tuple` in IPython 7.17 and above.\n",
            "  and should_run_async(code)\n",
            "INFO:splink.em_training_session:\n",
            "----- Starting EM training session -----\n",
            "\n",
            "INFO:splink.em_training_session:Estimating the m probabilities of the model by blocking on:\n",
            "l.cltname_x = r.cltname_x and l.ClientPinNumber = r.ClientPinNumber\n",
            "\n",
            "Parameter estimates will be made for the following comparison(s):\n",
            "    - PolPcId\n",
            "    - OriginalAttachmentDate\n",
            "    - BranchName_x\n",
            "\n",
            "Parameter estimates cannot be made for the following comparison(s) since they are used in the blocking rules: \n",
            "    - cltname_x\n",
            "    - ClientPinNumber\n"
          ]
        },
        {
          "data": {
            "application/vnd.jupyter.widget-view+json": {
              "model_id": "7444740056fc43c3b2aae02b07f8b4d3",
              "version_major": 2,
              "version_minor": 0
            },
            "text/plain": [
              "FloatProgress(value=0.0, layout=Layout(width='auto'), style=ProgressStyle(bar_color='black'))"
            ]
          },
          "metadata": {},
          "output_type": "display_data"
        },
        {
          "name": "stderr",
          "output_type": "stream",
          "text": [
            "INFO:splink.expectation_maximisation:\n"
          ]
        },
        {
          "data": {
            "application/vnd.jupyter.widget-view+json": {
              "model_id": "34e000fda6694b3f9f1d75fd9b9ffab0",
              "version_major": 2,
              "version_minor": 0
            },
            "text/plain": [
              "FloatProgress(value=0.0, layout=Layout(width='auto'), style=ProgressStyle(bar_color='black'))"
            ]
          },
          "metadata": {},
          "output_type": "display_data"
        },
        {
          "name": "stderr",
          "output_type": "stream",
          "text": [
            "INFO:splink.expectation_maximisation:Iteration 1: Largest change in params was 0.645 in the m_probability of PolPcId, level `All other comparisons`\n"
          ]
        },
        {
          "data": {
            "application/vnd.jupyter.widget-view+json": {
              "model_id": "492f91b15a374a3ca4f38a27041b158b",
              "version_major": 2,
              "version_minor": 0
            },
            "text/plain": [
              "FloatProgress(value=0.0, layout=Layout(width='auto'), style=ProgressStyle(bar_color='black'))"
            ]
          },
          "metadata": {},
          "output_type": "display_data"
        },
        {
          "name": "stderr",
          "output_type": "stream",
          "text": [
            "INFO:splink.expectation_maximisation:Iteration 2: Largest change in params was 0.0969 in probability_two_random_records_match\n"
          ]
        },
        {
          "data": {
            "application/vnd.jupyter.widget-view+json": {
              "model_id": "4b89ceec2c25434397fa7b930f8380f7",
              "version_major": 2,
              "version_minor": 0
            },
            "text/plain": [
              "FloatProgress(value=0.0, layout=Layout(width='auto'), style=ProgressStyle(bar_color='black'))"
            ]
          },
          "metadata": {},
          "output_type": "display_data"
        },
        {
          "name": "stderr",
          "output_type": "stream",
          "text": [
            "INFO:splink.expectation_maximisation:Iteration 3: Largest change in params was 0.0786 in probability_two_random_records_match\n"
          ]
        },
        {
          "data": {
            "application/vnd.jupyter.widget-view+json": {
              "model_id": "88d28f61e9be407eb2ae07153c4e6eeb",
              "version_major": 2,
              "version_minor": 0
            },
            "text/plain": [
              "FloatProgress(value=0.0, layout=Layout(width='auto'), style=ProgressStyle(bar_color='black'))"
            ]
          },
          "metadata": {},
          "output_type": "display_data"
        },
        {
          "name": "stderr",
          "output_type": "stream",
          "text": [
            "INFO:splink.expectation_maximisation:Iteration 4: Largest change in params was 0.0541 in probability_two_random_records_match\n"
          ]
        },
        {
          "data": {
            "application/vnd.jupyter.widget-view+json": {
              "model_id": "cbc3b3a14b94494e8597f46e4047d0cf",
              "version_major": 2,
              "version_minor": 0
            },
            "text/plain": [
              "FloatProgress(value=0.0, layout=Layout(width='auto'), style=ProgressStyle(bar_color='black'))"
            ]
          },
          "metadata": {},
          "output_type": "display_data"
        },
        {
          "name": "stderr",
          "output_type": "stream",
          "text": [
            "INFO:splink.expectation_maximisation:Iteration 5: Largest change in params was 0.0333 in probability_two_random_records_match\n"
          ]
        },
        {
          "data": {
            "application/vnd.jupyter.widget-view+json": {
              "model_id": "ffa18fa13e1e4dec9036a2e5c98967c6",
              "version_major": 2,
              "version_minor": 0
            },
            "text/plain": [
              "FloatProgress(value=0.0, layout=Layout(width='auto'), style=ProgressStyle(bar_color='black'))"
            ]
          },
          "metadata": {},
          "output_type": "display_data"
        },
        {
          "name": "stderr",
          "output_type": "stream",
          "text": [
            "INFO:splink.expectation_maximisation:Iteration 6: Largest change in params was 0.019 in probability_two_random_records_match\n"
          ]
        },
        {
          "data": {
            "application/vnd.jupyter.widget-view+json": {
              "model_id": "aaf6b293e6ea419c80e2893241190bf0",
              "version_major": 2,
              "version_minor": 0
            },
            "text/plain": [
              "FloatProgress(value=0.0, layout=Layout(width='auto'), style=ProgressStyle(bar_color='black'))"
            ]
          },
          "metadata": {},
          "output_type": "display_data"
        },
        {
          "name": "stderr",
          "output_type": "stream",
          "text": [
            "INFO:splink.expectation_maximisation:Iteration 7: Largest change in params was 0.0104 in probability_two_random_records_match\n"
          ]
        },
        {
          "data": {
            "application/vnd.jupyter.widget-view+json": {
              "model_id": "6f2ae5a41b374b62a62a0167ae196a2f",
              "version_major": 2,
              "version_minor": 0
            },
            "text/plain": [
              "FloatProgress(value=0.0, layout=Layout(width='auto'), style=ProgressStyle(bar_color='black'))"
            ]
          },
          "metadata": {},
          "output_type": "display_data"
        },
        {
          "name": "stderr",
          "output_type": "stream",
          "text": [
            "INFO:splink.expectation_maximisation:Iteration 8: Largest change in params was 0.00559 in probability_two_random_records_match\n"
          ]
        },
        {
          "data": {
            "application/vnd.jupyter.widget-view+json": {
              "model_id": "18b9e3ed3345450ead51ba212193b61e",
              "version_major": 2,
              "version_minor": 0
            },
            "text/plain": [
              "FloatProgress(value=0.0, layout=Layout(width='auto'), style=ProgressStyle(bar_color='black'))"
            ]
          },
          "metadata": {},
          "output_type": "display_data"
        },
        {
          "name": "stderr",
          "output_type": "stream",
          "text": [
            "INFO:splink.expectation_maximisation:Iteration 9: Largest change in params was 0.00297 in probability_two_random_records_match\n"
          ]
        },
        {
          "data": {
            "application/vnd.jupyter.widget-view+json": {
              "model_id": "0942a3b505b34c89891f83bee308384c",
              "version_major": 2,
              "version_minor": 0
            },
            "text/plain": [
              "FloatProgress(value=0.0, layout=Layout(width='auto'), style=ProgressStyle(bar_color='black'))"
            ]
          },
          "metadata": {},
          "output_type": "display_data"
        },
        {
          "name": "stderr",
          "output_type": "stream",
          "text": [
            "INFO:splink.expectation_maximisation:Iteration 10: Largest change in params was 0.00158 in probability_two_random_records_match\n"
          ]
        },
        {
          "data": {
            "application/vnd.jupyter.widget-view+json": {
              "model_id": "8413c843070b469e9d9a2dbf23205097",
              "version_major": 2,
              "version_minor": 0
            },
            "text/plain": [
              "FloatProgress(value=0.0, layout=Layout(width='auto'), style=ProgressStyle(bar_color='black'))"
            ]
          },
          "metadata": {},
          "output_type": "display_data"
        },
        {
          "name": "stderr",
          "output_type": "stream",
          "text": [
            "INFO:splink.expectation_maximisation:Iteration 11: Largest change in params was 0.000837 in probability_two_random_records_match\n"
          ]
        },
        {
          "data": {
            "application/vnd.jupyter.widget-view+json": {
              "model_id": "086cb8ecdd064e0c89ce3982d51cdd9f",
              "version_major": 2,
              "version_minor": 0
            },
            "text/plain": [
              "FloatProgress(value=0.0, layout=Layout(width='auto'), style=ProgressStyle(bar_color='black'))"
            ]
          },
          "metadata": {},
          "output_type": "display_data"
        },
        {
          "name": "stderr",
          "output_type": "stream",
          "text": [
            "INFO:splink.expectation_maximisation:Iteration 12: Largest change in params was 0.000446 in probability_two_random_records_match\n"
          ]
        },
        {
          "data": {
            "application/vnd.jupyter.widget-view+json": {
              "model_id": "7ec71ead2bfb4be48e332e842733e07f",
              "version_major": 2,
              "version_minor": 0
            },
            "text/plain": [
              "FloatProgress(value=0.0, layout=Layout(width='auto'), style=ProgressStyle(bar_color='black'))"
            ]
          },
          "metadata": {},
          "output_type": "display_data"
        },
        {
          "name": "stderr",
          "output_type": "stream",
          "text": [
            "INFO:splink.expectation_maximisation:Iteration 13: Largest change in params was 0.000238 in probability_two_random_records_match\n"
          ]
        },
        {
          "data": {
            "application/vnd.jupyter.widget-view+json": {
              "model_id": "291d72f4a6154973a90136b47cddee01",
              "version_major": 2,
              "version_minor": 0
            },
            "text/plain": [
              "FloatProgress(value=0.0, layout=Layout(width='auto'), style=ProgressStyle(bar_color='black'))"
            ]
          },
          "metadata": {},
          "output_type": "display_data"
        },
        {
          "name": "stderr",
          "output_type": "stream",
          "text": [
            "INFO:splink.expectation_maximisation:Iteration 14: Largest change in params was 0.000128 in probability_two_random_records_match\n"
          ]
        },
        {
          "data": {
            "application/vnd.jupyter.widget-view+json": {
              "model_id": "b7c6e300bb9b4e199dca9b0f4b973b8f",
              "version_major": 2,
              "version_minor": 0
            },
            "text/plain": [
              "FloatProgress(value=0.0, layout=Layout(width='auto'), style=ProgressStyle(bar_color='black'))"
            ]
          },
          "metadata": {},
          "output_type": "display_data"
        },
        {
          "name": "stderr",
          "output_type": "stream",
          "text": [
            "INFO:splink.expectation_maximisation:Iteration 15: Largest change in params was 6.91e-05 in probability_two_random_records_match\n",
            "INFO:splink.expectation_maximisation:\n",
            "EM converged after 15 iterations\n",
            "INFO:splink.settings:\n",
            "Your model is not yet fully trained. Missing estimates for:\n",
            "    - cltname_x (no m values are trained).\n",
            "    - ClientPinNumber (no m values are trained).\n"
          ]
        }
      ],
      "source": [
        "training_blocking_rule = \"l.cltname_x = r.cltname_x and l.ClientPinNumber = r.ClientPinNumber\"\n",
        "training_session_client_name_pin = linker.estimate_parameters_using_expectation_maximisation(training_blocking_rule)"
      ]
    },
    {
      "cell_type": "code",
      "execution_count": null,
      "metadata": {
        "colab": {
          "base_uri": "https://localhost:8080/"
        },
        "id": "NoHn0kcpmg6I",
        "outputId": "b50622b9-6290-41d6-aaca-f6b8313ff054"
      },
      "outputs": [
        {
          "name": "stderr",
          "output_type": "stream",
          "text": [
            "/usr/local/lib/python3.10/dist-packages/ipykernel/ipkernel.py:283: DeprecationWarning: `should_run_async` will not call `transform_cell` automatically in the future. Please pass the result to `transformed_cell` argument and any exception that happen during thetransform in `preprocessing_exc_tuple` in IPython 7.17 and above.\n",
            "  and should_run_async(code)\n",
            "INFO:splink.em_training_session:\n",
            "----- Starting EM training session -----\n",
            "\n",
            "INFO:splink.em_training_session:Estimating the m probabilities of the model by blocking on:\n",
            "l.OriginalAttachmentDate = r.OriginalAttachmentDate and l.PolPcId= r.PolPcId\n",
            "\n",
            "Parameter estimates will be made for the following comparison(s):\n",
            "    - cltname_x\n",
            "    - ClientPinNumber\n",
            "    - BranchName_x\n",
            "\n",
            "Parameter estimates cannot be made for the following comparison(s) since they are used in the blocking rules: \n",
            "    - PolPcId\n",
            "    - OriginalAttachmentDate\n",
            "INFO:splink.expectation_maximisation:\n",
            "INFO:splink.expectation_maximisation:Iteration 1: Largest change in params was 0.947 in probability_two_random_records_match\n",
            "INFO:splink.expectation_maximisation:Iteration 2: Largest change in params was 0.0368 in probability_two_random_records_match\n",
            "INFO:splink.expectation_maximisation:Iteration 3: Largest change in params was 0.00767 in probability_two_random_records_match\n",
            "INFO:splink.expectation_maximisation:Iteration 4: Largest change in params was 0.00205 in probability_two_random_records_match\n",
            "INFO:splink.expectation_maximisation:Iteration 5: Largest change in params was 0.000851 in probability_two_random_records_match\n",
            "INFO:splink.expectation_maximisation:Iteration 6: Largest change in params was 0.000434 in probability_two_random_records_match\n",
            "INFO:splink.expectation_maximisation:Iteration 7: Largest change in params was 0.000247 in probability_two_random_records_match\n",
            "INFO:splink.expectation_maximisation:Iteration 8: Largest change in params was 0.00015 in probability_two_random_records_match\n",
            "INFO:splink.expectation_maximisation:Iteration 9: Largest change in params was 9.47e-05 in probability_two_random_records_match\n",
            "INFO:splink.expectation_maximisation:\n",
            "EM converged after 9 iterations\n",
            "INFO:splink.settings:\n",
            "Your model is fully trained. All comparisons have at least one estimate for their m and u values\n"
          ]
        }
      ],
      "source": [
        "# estimating m values by blocking original attachment date and PCID\n",
        "training_blocking_rule = \"l.OriginalAttachmentDate = r.OriginalAttachmentDate and l.PolPcId= r.PolPcId\"\n",
        "training_session_dob = linker.estimate_parameters_using_expectation_maximisation(training_blocking_rule)"
      ]
    },
    {
      "cell_type": "code",
      "execution_count": null,
      "metadata": {
        "colab": {
          "base_uri": "https://localhost:8080/"
        },
        "id": "_fJS8p0ezQLT",
        "outputId": "b370eda7-98c9-4167-b41c-c28ededa9c33"
      },
      "outputs": [
        {
          "name": "stderr",
          "output_type": "stream",
          "text": [
            "/usr/local/lib/python3.10/dist-packages/ipykernel/ipkernel.py:283: DeprecationWarning: `should_run_async` will not call `transform_cell` automatically in the future. Please pass the result to `transformed_cell` argument and any exception that happen during thetransform in `preprocessing_exc_tuple` in IPython 7.17 and above.\n",
            "  and should_run_async(code)\n",
            "<ipython-input-22-16998612a483>:2: DeprecationWarning: This function is deprecated. Use save_model_to_json() instead.\n",
            "  linker.save_settings_to_json(\"saved_prediction_model.json\", overwrite=True)\n"
          ]
        },
        {
          "data": {
            "text/plain": [
              "{'probability_two_random_records_match': 0.004,\n",
              " 'link_type': 'dedupe_only',\n",
              " 'comparisons': [{'output_column_name': 'cltname_x',\n",
              "   'comparison_levels': [{'sql_condition': '\"cltname_x_l\" IS NULL OR \"cltname_x_r\" IS NULL',\n",
              "     'label_for_charts': 'Null',\n",
              "     'is_null_level': True},\n",
              "    {'sql_condition': '\"cltname_x_l\" = \"cltname_x_r\"',\n",
              "     'label_for_charts': 'Exact match',\n",
              "     'm_probability': 0.9411479160331413,\n",
              "     'u_probability': 5.936965004024484e-05},\n",
              "    {'sql_condition': 'levenshtein(\"cltname_x_l\", \"cltname_x_r\") <= 4',\n",
              "     'label_for_charts': 'Levenshtein <= 4',\n",
              "     'm_probability': 0.01572436550300359,\n",
              "     'u_probability': 4.769037462249175e-05},\n",
              "    {'sql_condition': 'ELSE',\n",
              "     'label_for_charts': 'All other comparisons',\n",
              "     'm_probability': 0.04312771846385511,\n",
              "     'u_probability': 0.9998929399753372}],\n",
              "   'comparison_description': 'Exact match vs. Cltname_X within levenshtein threshold 4 vs. anything else'},\n",
              "  {'output_column_name': 'ClientPinNumber',\n",
              "   'comparison_levels': [{'sql_condition': '\"ClientPinNumber_l\" IS NULL OR \"ClientPinNumber_r\" IS NULL',\n",
              "     'label_for_charts': 'Null',\n",
              "     'is_null_level': True},\n",
              "    {'sql_condition': '\"ClientPinNumber_l\" = \"ClientPinNumber_r\"',\n",
              "     'label_for_charts': 'Exact match',\n",
              "     'm_probability': 0.9281895115647253,\n",
              "     'u_probability': 0.006451488135527665},\n",
              "    {'sql_condition': 'ELSE',\n",
              "     'label_for_charts': 'All other comparisons',\n",
              "     'm_probability': 0.07181048843527471,\n",
              "     'u_probability': 0.9935485118644724}],\n",
              "   'comparison_description': 'Exact match vs. anything else'},\n",
              "  {'output_column_name': 'PolPcId',\n",
              "   'comparison_levels': [{'sql_condition': '\"PolPcId_l\" IS NULL OR \"PolPcId_r\" IS NULL',\n",
              "     'label_for_charts': 'Null',\n",
              "     'is_null_level': True},\n",
              "    {'sql_condition': '\"PolPcId_l\" = \"PolPcId_r\"',\n",
              "     'label_for_charts': 'Exact match',\n",
              "     'm_probability': 0.19563208656429656,\n",
              "     'u_probability': 1.65456401751502e-05},\n",
              "    {'sql_condition': 'ELSE',\n",
              "     'label_for_charts': 'All other comparisons',\n",
              "     'm_probability': 0.8043679134357035,\n",
              "     'u_probability': 0.9999834543598248}],\n",
              "   'comparison_description': 'Exact match vs. anything else'},\n",
              "  {'output_column_name': 'OriginalAttachmentDate',\n",
              "   'comparison_levels': [{'sql_condition': '\"OriginalAttachmentDate_l\" IS NULL OR \"OriginalAttachmentDate_r\" IS NULL',\n",
              "     'label_for_charts': 'Null',\n",
              "     'is_null_level': True},\n",
              "    {'sql_condition': '\"OriginalAttachmentDate_l\" = \"OriginalAttachmentDate_r\"',\n",
              "     'label_for_charts': 'Exact match',\n",
              "     'm_probability': 0.3647553166566332,\n",
              "     'u_probability': 0.0010550680949561286,\n",
              "     'tf_adjustment_column': 'OriginalAttachmentDate',\n",
              "     'tf_adjustment_weight': 1.0},\n",
              "    {'sql_condition': 'ELSE',\n",
              "     'label_for_charts': 'All other comparisons',\n",
              "     'm_probability': 0.6352446833433667,\n",
              "     'u_probability': 0.9989449319050439}],\n",
              "   'comparison_description': 'Exact match vs. anything else'},\n",
              "  {'output_column_name': 'BranchName_x',\n",
              "   'comparison_levels': [{'sql_condition': '\"BranchName_x_l\" IS NULL OR \"BranchName_x_r\" IS NULL',\n",
              "     'label_for_charts': 'Null',\n",
              "     'is_null_level': True},\n",
              "    {'sql_condition': '\"BranchName_x_l\" = \"BranchName_x_r\"',\n",
              "     'label_for_charts': 'Exact match',\n",
              "     'm_probability': 0.999433829189739,\n",
              "     'u_probability': 0.3105499868121515,\n",
              "     'tf_adjustment_column': 'BranchName_x',\n",
              "     'tf_adjustment_weight': 1.0},\n",
              "    {'sql_condition': 'ELSE',\n",
              "     'label_for_charts': 'All other comparisons',\n",
              "     'm_probability': 0.0005661708102609709,\n",
              "     'u_probability': 0.6894500131878485}],\n",
              "   'comparison_description': 'Exact match vs. anything else'}],\n",
              " 'blocking_rules_to_generate_predictions': ['l.cltname_x = r.cltname_x',\n",
              "  'l.ClientPinNumber = r.ClientPinNumber'],\n",
              " 'retain_matching_columns': True,\n",
              " 'retain_intermediate_calculation_columns': True,\n",
              " 'additional_columns_to_retain': ['Department'],\n",
              " 'sql_dialect': 'duckdb',\n",
              " 'linker_uid': 'gap7fjg1'}"
            ]
          },
          "execution_count": 22,
          "metadata": {},
          "output_type": "execute_result"
        }
      ],
      "source": [
        "# save model setting for access in prediction stage\n",
        "linker.save_settings_to_json(\"saved_prediction_model.json\", overwrite=True)"
      ]
    },
    {
      "cell_type": "markdown",
      "metadata": {
        "id": "fr_sXQSYKG1r"
      },
      "source": [
        "## Visualising model parameters"
      ]
    },
    {
      "cell_type": "code",
      "execution_count": null,
      "metadata": {
        "colab": {
          "base_uri": "https://localhost:8080/",
          "height": 414
        },
        "id": "EE24BQQOKL8M",
        "outputId": "b317e1e2-a065-41e1-90fe-036b2d107180"
      },
      "outputs": [
        {
          "name": "stderr",
          "output_type": "stream",
          "text": [
            "/usr/local/lib/python3.10/dist-packages/ipykernel/ipkernel.py:283: DeprecationWarning: `should_run_async` will not call `transform_cell` automatically in the future. Please pass the result to `transformed_cell` argument and any exception that happen during thetransform in `preprocessing_exc_tuple` in IPython 7.17 and above.\n",
            "  and should_run_async(code)\n"
          ]
        },
        {
          "data": {
            "text/html": [
              "\n",
              "<style>\n",
              "  #altair-viz-79281c9e6d5e4486a44825f0f9eda305.vega-embed {\n",
              "    width: 100%;\n",
              "    display: flex;\n",
              "  }\n",
              "\n",
              "  #altair-viz-79281c9e6d5e4486a44825f0f9eda305.vega-embed details,\n",
              "  #altair-viz-79281c9e6d5e4486a44825f0f9eda305.vega-embed details summary {\n",
              "    position: relative;\n",
              "  }\n",
              "</style>\n",
              "<div id=\"altair-viz-79281c9e6d5e4486a44825f0f9eda305\"></div>\n",
              "<script type=\"text/javascript\">\n",
              "  var VEGA_DEBUG = (typeof VEGA_DEBUG == \"undefined\") ? {} : VEGA_DEBUG;\n",
              "  (function(spec, embedOpt){\n",
              "    let outputDiv = document.currentScript.previousElementSibling;\n",
              "    if (outputDiv.id !== \"altair-viz-79281c9e6d5e4486a44825f0f9eda305\") {\n",
              "      outputDiv = document.getElementById(\"altair-viz-79281c9e6d5e4486a44825f0f9eda305\");\n",
              "    }\n",
              "    const paths = {\n",
              "      \"vega\": \"https://cdn.jsdelivr.net/npm/vega@5?noext\",\n",
              "      \"vega-lib\": \"https://cdn.jsdelivr.net/npm/vega-lib?noext\",\n",
              "      \"vega-lite\": \"https://cdn.jsdelivr.net/npm/vega-lite@5.8.0?noext\",\n",
              "      \"vega-embed\": \"https://cdn.jsdelivr.net/npm/vega-embed@6?noext\",\n",
              "    };\n",
              "\n",
              "    function maybeLoadScript(lib, version) {\n",
              "      var key = `${lib.replace(\"-\", \"\")}_version`;\n",
              "      return (VEGA_DEBUG[key] == version) ?\n",
              "        Promise.resolve(paths[lib]) :\n",
              "        new Promise(function(resolve, reject) {\n",
              "          var s = document.createElement('script');\n",
              "          document.getElementsByTagName(\"head\")[0].appendChild(s);\n",
              "          s.async = true;\n",
              "          s.onload = () => {\n",
              "            VEGA_DEBUG[key] = version;\n",
              "            return resolve(paths[lib]);\n",
              "          };\n",
              "          s.onerror = () => reject(`Error loading script: ${paths[lib]}`);\n",
              "          s.src = paths[lib];\n",
              "        });\n",
              "    }\n",
              "\n",
              "    function showError(err) {\n",
              "      outputDiv.innerHTML = `<div class=\"error\" style=\"color:red;\">${err}</div>`;\n",
              "      throw err;\n",
              "    }\n",
              "\n",
              "    function displayChart(vegaEmbed) {\n",
              "      vegaEmbed(outputDiv, spec, embedOpt)\n",
              "        .catch(err => showError(`Javascript Error: ${err.message}<br>This usually means there's a typo in your chart specification. See the javascript console for the full traceback.`));\n",
              "    }\n",
              "\n",
              "    if(typeof define === \"function\" && define.amd) {\n",
              "      requirejs.config({paths});\n",
              "      require([\"vega-embed\"], displayChart, err => showError(`Error loading script: ${err.message}`));\n",
              "    } else {\n",
              "      maybeLoadScript(\"vega\", \"5\")\n",
              "        .then(() => maybeLoadScript(\"vega-lite\", \"5.8.0\"))\n",
              "        .then(() => maybeLoadScript(\"vega-embed\", \"6\"))\n",
              "        .catch(showError)\n",
              "        .then(() => displayChart(vegaEmbed));\n",
              "    }\n",
              "  })({\"config\": {\"view\": {\"continuousWidth\": 300, \"continuousHeight\": 300, \"discreteHeight\": 60, \"discreteWidth\": 400}, \"header\": {\"title\": null}, \"mark\": {\"tooltip\": null}, \"title\": {\"anchor\": \"middle\"}}, \"vconcat\": [{\"mark\": {\"type\": \"bar\", \"clip\": true, \"height\": 15}, \"encoding\": {\"color\": {\"field\": \"log2_bayes_factor\", \"scale\": {\"domain\": [-10, 0, 10], \"range\": [\"red\", \"orange\", \"green\"]}, \"title\": \"Match weight\", \"type\": \"quantitative\"}, \"tooltip\": [{\"field\": \"comparison_name\", \"title\": \"Comparison name\", \"type\": \"nominal\"}, {\"field\": \"probability_two_random_records_match\", \"format\": \".4f\", \"title\": \"Probability two random records match\", \"type\": \"nominal\"}, {\"field\": \"log2_bayes_factor\", \"format\": \",.4f\", \"title\": \"Equivalent match weight\", \"type\": \"quantitative\"}, {\"field\": \"bayes_factor_description\", \"title\": \"Match weight description\", \"type\": \"nominal\"}], \"x\": {\"axis\": {\"domain\": false, \"labels\": false, \"ticks\": false, \"title\": \"\"}, \"field\": \"log2_bayes_factor\", \"scale\": {\"domain\": [-10, 10]}, \"type\": \"quantitative\"}, \"y\": {\"axis\": {\"title\": \"Prior (starting) match weight\", \"titleAlign\": \"right\", \"titleAngle\": 0, \"titleFontWeight\": \"normal\"}, \"field\": \"label_for_charts\", \"sort\": {\"field\": \"comparison_vector_value\", \"order\": \"descending\"}, \"type\": \"nominal\"}}, \"height\": 20, \"transform\": [{\"filter\": \"(datum.comparison_name == 'probability_two_random_records_match')\"}]}, {\"mark\": {\"type\": \"bar\", \"clip\": true}, \"encoding\": {\"color\": {\"field\": \"log2_bayes_factor\", \"scale\": {\"domain\": [-10, 0, 10], \"range\": [\"red\", \"orange\", \"green\"]}, \"title\": \"Match weight\", \"type\": \"quantitative\"}, \"row\": {\"field\": \"comparison_name\", \"header\": {\"labelAlign\": \"left\", \"labelAnchor\": \"middle\", \"labelAngle\": 0}, \"sort\": {\"field\": \"comparison_sort_order\"}, \"type\": \"nominal\"}, \"tooltip\": [{\"field\": \"comparison_name\", \"title\": \"Comparison name\", \"type\": \"nominal\"}, {\"field\": \"label_for_charts\", \"title\": \"Label\", \"type\": \"ordinal\"}, {\"field\": \"sql_condition\", \"title\": \"SQL condition\", \"type\": \"nominal\"}, {\"field\": \"m_probability\", \"format\": \".4f\", \"title\": \"M probability\", \"type\": \"quantitative\"}, {\"field\": \"u_probability\", \"format\": \".4f\", \"title\": \"U probability\", \"type\": \"quantitative\"}, {\"field\": \"bayes_factor\", \"format\": \",.4f\", \"title\": \"Bayes factor = m/u\", \"type\": \"quantitative\"}, {\"field\": \"log2_bayes_factor\", \"format\": \",.4f\", \"title\": \"Match weight = log2(m/u)\", \"type\": \"quantitative\"}, {\"field\": \"bayes_factor_description\", \"title\": \"Match weight description\", \"type\": \"nominal\"}], \"x\": {\"axis\": {\"title\": \"Comparison level match weight = log2(m/u)\"}, \"field\": \"log2_bayes_factor\", \"scale\": {\"domain\": [-10, 10]}, \"type\": \"quantitative\"}, \"y\": {\"axis\": {\"title\": null}, \"field\": \"label_for_charts\", \"sort\": {\"field\": \"comparison_vector_value\", \"order\": \"descending\"}, \"type\": \"nominal\"}}, \"height\": {\"step\": 12}, \"resolve\": {\"axis\": {\"y\": \"independent\"}, \"scale\": {\"y\": \"independent\"}}, \"transform\": [{\"filter\": \"(datum.comparison_name != 'probability_two_random_records_match')\"}]}], \"data\": {\"name\": \"data-6db3d9ee81664d6d7a7256e23f724b12\"}, \"params\": [{\"name\": \"mouse_zoom\", \"select\": {\"type\": \"interval\", \"encodings\": [\"x\"]}, \"bind\": \"scales\", \"views\": []}], \"resolve\": {\"axis\": {\"y\": \"independent\"}, \"scale\": {\"y\": \"independent\"}}, \"title\": {\"text\": \"Model parameters (components of final match weight)\", \"subtitle\": \"Use mousewheel to zoom\"}, \"$schema\": \"https://vega.github.io/schema/vega-lite/v5.9.3.json\", \"datasets\": {\"data-6db3d9ee81664d6d7a7256e23f724b12\": [{\"comparison_name\": \"probability_two_random_records_match\", \"sql_condition\": null, \"label_for_charts\": \"\", \"m_probability\": null, \"u_probability\": null, \"m_probability_description\": null, \"u_probability_description\": null, \"has_tf_adjustments\": false, \"tf_adjustment_column\": null, \"tf_adjustment_weight\": null, \"is_null_level\": false, \"bayes_factor\": 0.004016064257028113, \"log2_bayes_factor\": -7.960001932068081, \"comparison_vector_value\": 0, \"max_comparison_vector_value\": 0, \"bayes_factor_description\": \"The probability that two random records drawn at random match is 0.004 or one in  250.0 records.This is equivalent to a starting match weight of -7.960.\", \"probability_two_random_records_match\": 0.004, \"comparison_sort_order\": -1}, {\"comparison_name\": \"cltname_x\", \"sql_condition\": \"\\\"cltname_x_l\\\" = \\\"cltname_x_r\\\"\", \"label_for_charts\": \"Exact match\", \"m_probability\": 0.9411479160331413, \"u_probability\": 5.936965004024484e-05, \"m_probability_description\": \"Amongst matching record comparisons, 94.11% of records are in the exact match comparison level\", \"u_probability_description\": \"Amongst non-matching record comparisons, 0.01% of records are in the exact match comparison level\", \"has_tf_adjustments\": false, \"tf_adjustment_column\": null, \"tf_adjustment_weight\": 1.0, \"is_null_level\": false, \"bayes_factor\": 15852.340638611924, \"log2_bayes_factor\": 13.952408253252116, \"comparison_vector_value\": 2, \"max_comparison_vector_value\": 2, \"bayes_factor_description\": \"If comparison level is `exact match` then comparison is 15,852.34 times more likely to be a match\", \"probability_two_random_records_match\": 0.004, \"comparison_sort_order\": 0}, {\"comparison_name\": \"cltname_x\", \"sql_condition\": \"levenshtein(\\\"cltname_x_l\\\", \\\"cltname_x_r\\\") <= 4\", \"label_for_charts\": \"Levenshtein <= 4\", \"m_probability\": 0.01572436550300359, \"u_probability\": 4.769037462249175e-05, \"m_probability_description\": \"Amongst matching record comparisons, 1.57% of records are in the levenshtein <= 4 comparison level\", \"u_probability_description\": \"Amongst non-matching record comparisons, 0.00% of records are in the levenshtein <= 4 comparison level\", \"has_tf_adjustments\": false, \"tf_adjustment_column\": null, \"tf_adjustment_weight\": 1.0, \"is_null_level\": false, \"bayes_factor\": 329.71780212411375, \"log2_bayes_factor\": 8.365087972878944, \"comparison_vector_value\": 1, \"max_comparison_vector_value\": 2, \"bayes_factor_description\": \"If comparison level is `levenshtein <= 4` then comparison is 329.72 times more likely to be a match\", \"probability_two_random_records_match\": 0.004, \"comparison_sort_order\": 0}, {\"comparison_name\": \"cltname_x\", \"sql_condition\": \"ELSE\", \"label_for_charts\": \"All other comparisons\", \"m_probability\": 0.04312771846385511, \"u_probability\": 0.9998929399753372, \"m_probability_description\": \"Amongst matching record comparisons, 4.31% of records are in the all other comparisons comparison level\", \"u_probability_description\": \"Amongst non-matching record comparisons, 99.99% of records are in the all other comparisons comparison level\", \"has_tf_adjustments\": false, \"tf_adjustment_column\": null, \"tf_adjustment_weight\": 1.0, \"is_null_level\": false, \"bayes_factor\": 0.04313233621283382, \"log2_bayes_factor\": -4.5350863296867745, \"comparison_vector_value\": 0, \"max_comparison_vector_value\": 2, \"bayes_factor_description\": \"If comparison level is `all other comparisons` then comparison is  23.18 times less likely to be a match\", \"probability_two_random_records_match\": 0.004, \"comparison_sort_order\": 0}, {\"comparison_name\": \"ClientPinNumber\", \"sql_condition\": \"\\\"ClientPinNumber_l\\\" = \\\"ClientPinNumber_r\\\"\", \"label_for_charts\": \"Exact match\", \"m_probability\": 0.9281895115647253, \"u_probability\": 0.006451488135527665, \"m_probability_description\": \"Amongst matching record comparisons, 92.82% of records are in the exact match comparison level\", \"u_probability_description\": \"Amongst non-matching record comparisons, 0.65% of records are in the exact match comparison level\", \"has_tf_adjustments\": false, \"tf_adjustment_column\": null, \"tf_adjustment_weight\": 1.0, \"is_null_level\": false, \"bayes_factor\": 143.872156635193, \"log2_bayes_factor\": 7.168643606237589, \"comparison_vector_value\": 1, \"max_comparison_vector_value\": 1, \"bayes_factor_description\": \"If comparison level is `exact match` then comparison is 143.87 times more likely to be a match\", \"probability_two_random_records_match\": 0.004, \"comparison_sort_order\": 1}, {\"comparison_name\": \"ClientPinNumber\", \"sql_condition\": \"ELSE\", \"label_for_charts\": \"All other comparisons\", \"m_probability\": 0.07181048843527471, \"u_probability\": 0.9935485118644724, \"m_probability_description\": \"Amongst matching record comparisons, 7.18% of records are in the all other comparisons comparison level\", \"u_probability_description\": \"Amongst non-matching record comparisons, 99.35% of records are in the all other comparisons comparison level\", \"has_tf_adjustments\": false, \"tf_adjustment_column\": null, \"tf_adjustment_weight\": 1.0, \"is_null_level\": false, \"bayes_factor\": 0.07227678123186622, \"log2_bayes_factor\": -3.7903239310019843, \"comparison_vector_value\": 0, \"max_comparison_vector_value\": 1, \"bayes_factor_description\": \"If comparison level is `all other comparisons` then comparison is  13.84 times less likely to be a match\", \"probability_two_random_records_match\": 0.004, \"comparison_sort_order\": 1}, {\"comparison_name\": \"PolPcId\", \"sql_condition\": \"\\\"PolPcId_l\\\" = \\\"PolPcId_r\\\"\", \"label_for_charts\": \"Exact match\", \"m_probability\": 0.19563208656429656, \"u_probability\": 1.65456401751502e-05, \"m_probability_description\": \"Amongst matching record comparisons, 19.56% of records are in the exact match comparison level\", \"u_probability_description\": \"Amongst non-matching record comparisons, 0.00% of records are in the exact match comparison level\", \"has_tf_adjustments\": false, \"tf_adjustment_column\": null, \"tf_adjustment_weight\": 1.0, \"is_null_level\": false, \"bayes_factor\": 11823.784664319925, \"log2_bayes_factor\": 13.529404279911825, \"comparison_vector_value\": 1, \"max_comparison_vector_value\": 1, \"bayes_factor_description\": \"If comparison level is `exact match` then comparison is 11,823.78 times more likely to be a match\", \"probability_two_random_records_match\": 0.004, \"comparison_sort_order\": 2}, {\"comparison_name\": \"PolPcId\", \"sql_condition\": \"ELSE\", \"label_for_charts\": \"All other comparisons\", \"m_probability\": 0.8043679134357035, \"u_probability\": 0.9999834543598248, \"m_probability_description\": \"Amongst matching record comparisons, 80.44% of records are in the all other comparisons comparison level\", \"u_probability_description\": \"Amongst non-matching record comparisons, 100.00% of records are in the all other comparisons comparison level\", \"has_tf_adjustments\": false, \"tf_adjustment_column\": null, \"tf_adjustment_weight\": 1.0, \"is_null_level\": false, \"bayes_factor\": 0.8043812224379736, \"log2_bayes_factor\": -0.31404869127966734, \"comparison_vector_value\": 0, \"max_comparison_vector_value\": 1, \"bayes_factor_description\": \"If comparison level is `all other comparisons` then comparison is  1.24 times less likely to be a match\", \"probability_two_random_records_match\": 0.004, \"comparison_sort_order\": 2}, {\"comparison_name\": \"OriginalAttachmentDate\", \"sql_condition\": \"\\\"OriginalAttachmentDate_l\\\" = \\\"OriginalAttachmentDate_r\\\"\", \"label_for_charts\": \"Exact match\", \"m_probability\": 0.3647553166566332, \"u_probability\": 0.0010550680949561286, \"m_probability_description\": \"Amongst matching record comparisons, 36.48% of records are in the exact match comparison level\", \"u_probability_description\": \"Amongst non-matching record comparisons, 0.11% of records are in the exact match comparison level\", \"has_tf_adjustments\": true, \"tf_adjustment_column\": \"OriginalAttachmentDate\", \"tf_adjustment_weight\": 1.0, \"is_null_level\": false, \"bayes_factor\": 345.7173223229732, \"log2_bayes_factor\": 8.433449082074345, \"comparison_vector_value\": 1, \"max_comparison_vector_value\": 1, \"bayes_factor_description\": \"If comparison level is `exact match` then comparison is 345.72 times more likely to be a match\", \"probability_two_random_records_match\": 0.004, \"comparison_sort_order\": 3}, {\"comparison_name\": \"OriginalAttachmentDate\", \"sql_condition\": \"ELSE\", \"label_for_charts\": \"All other comparisons\", \"m_probability\": 0.6352446833433667, \"u_probability\": 0.9989449319050439, \"m_probability_description\": \"Amongst matching record comparisons, 63.52% of records are in the all other comparisons comparison level\", \"u_probability_description\": \"Amongst non-matching record comparisons, 99.89% of records are in the all other comparisons comparison level\", \"has_tf_adjustments\": false, \"tf_adjustment_column\": null, \"tf_adjustment_weight\": 1.0, \"is_null_level\": false, \"bayes_factor\": 0.6359156176226046, \"log2_bayes_factor\": -0.6530927540853123, \"comparison_vector_value\": 0, \"max_comparison_vector_value\": 1, \"bayes_factor_description\": \"If comparison level is `all other comparisons` then comparison is  1.57 times less likely to be a match\", \"probability_two_random_records_match\": 0.004, \"comparison_sort_order\": 3}, {\"comparison_name\": \"BranchName_x\", \"sql_condition\": \"\\\"BranchName_x_l\\\" = \\\"BranchName_x_r\\\"\", \"label_for_charts\": \"Exact match\", \"m_probability\": 0.999433829189739, \"u_probability\": 0.3105499868121515, \"m_probability_description\": \"Amongst matching record comparisons, 99.94% of records are in the exact match comparison level\", \"u_probability_description\": \"Amongst non-matching record comparisons, 31.05% of records are in the exact match comparison level\", \"has_tf_adjustments\": true, \"tf_adjustment_column\": \"BranchName_x\", \"tf_adjustment_weight\": 1.0, \"is_null_level\": false, \"bayes_factor\": 3.2182703964958987, \"log2_bayes_factor\": 1.6862855452333034, \"comparison_vector_value\": 1, \"max_comparison_vector_value\": 1, \"bayes_factor_description\": \"If comparison level is `exact match` then comparison is 3.22 times more likely to be a match\", \"probability_two_random_records_match\": 0.004, \"comparison_sort_order\": 4}, {\"comparison_name\": \"BranchName_x\", \"sql_condition\": \"ELSE\", \"label_for_charts\": \"All other comparisons\", \"m_probability\": 0.0005661708102609709, \"u_probability\": 0.6894500131878485, \"m_probability_description\": \"Amongst matching record comparisons, 0.06% of records are in the all other comparisons comparison level\", \"u_probability_description\": \"Amongst non-matching record comparisons, 68.95% of records are in the all other comparisons comparison level\", \"has_tf_adjustments\": false, \"tf_adjustment_column\": null, \"tf_adjustment_weight\": 1.0, \"is_null_level\": false, \"bayes_factor\": 0.0008211919637844886, \"log2_bayes_factor\": -10.249992870301904, \"comparison_vector_value\": 0, \"max_comparison_vector_value\": 1, \"bayes_factor_description\": \"If comparison level is `all other comparisons` then comparison is  1,217.74 times less likely to be a match\", \"probability_two_random_records_match\": 0.004, \"comparison_sort_order\": 4}]}}, {\"mode\": \"vega-lite\"});\n",
              "</script>"
            ],
            "text/plain": [
              "alt.VConcatChart(...)"
            ]
          },
          "execution_count": 23,
          "metadata": {},
          "output_type": "execute_result"
        }
      ],
      "source": [
        "linker.match_weights_chart()"
      ]
    },
    {
      "cell_type": "code",
      "execution_count": null,
      "metadata": {
        "colab": {
          "base_uri": "https://localhost:8080/",
          "height": 400
        },
        "id": "jHkJtnlcKnOZ",
        "outputId": "f9c9dd70-b309-460a-9e87-98646921863f"
      },
      "outputs": [
        {
          "name": "stderr",
          "output_type": "stream",
          "text": [
            "/usr/local/lib/python3.10/dist-packages/ipykernel/ipkernel.py:283: DeprecationWarning: `should_run_async` will not call `transform_cell` automatically in the future. Please pass the result to `transformed_cell` argument and any exception that happen during thetransform in `preprocessing_exc_tuple` in IPython 7.17 and above.\n",
            "  and should_run_async(code)\n"
          ]
        },
        {
          "data": {
            "text/html": [
              "\n",
              "<style>\n",
              "  #altair-viz-bb4a6c8f2c6240ff8e746e99664b8b82.vega-embed {\n",
              "    width: 100%;\n",
              "    display: flex;\n",
              "  }\n",
              "\n",
              "  #altair-viz-bb4a6c8f2c6240ff8e746e99664b8b82.vega-embed details,\n",
              "  #altair-viz-bb4a6c8f2c6240ff8e746e99664b8b82.vega-embed details summary {\n",
              "    position: relative;\n",
              "  }\n",
              "</style>\n",
              "<div id=\"altair-viz-bb4a6c8f2c6240ff8e746e99664b8b82\"></div>\n",
              "<script type=\"text/javascript\">\n",
              "  var VEGA_DEBUG = (typeof VEGA_DEBUG == \"undefined\") ? {} : VEGA_DEBUG;\n",
              "  (function(spec, embedOpt){\n",
              "    let outputDiv = document.currentScript.previousElementSibling;\n",
              "    if (outputDiv.id !== \"altair-viz-bb4a6c8f2c6240ff8e746e99664b8b82\") {\n",
              "      outputDiv = document.getElementById(\"altair-viz-bb4a6c8f2c6240ff8e746e99664b8b82\");\n",
              "    }\n",
              "    const paths = {\n",
              "      \"vega\": \"https://cdn.jsdelivr.net/npm/vega@5?noext\",\n",
              "      \"vega-lib\": \"https://cdn.jsdelivr.net/npm/vega-lib?noext\",\n",
              "      \"vega-lite\": \"https://cdn.jsdelivr.net/npm/vega-lite@5.8.0?noext\",\n",
              "      \"vega-embed\": \"https://cdn.jsdelivr.net/npm/vega-embed@6?noext\",\n",
              "    };\n",
              "\n",
              "    function maybeLoadScript(lib, version) {\n",
              "      var key = `${lib.replace(\"-\", \"\")}_version`;\n",
              "      return (VEGA_DEBUG[key] == version) ?\n",
              "        Promise.resolve(paths[lib]) :\n",
              "        new Promise(function(resolve, reject) {\n",
              "          var s = document.createElement('script');\n",
              "          document.getElementsByTagName(\"head\")[0].appendChild(s);\n",
              "          s.async = true;\n",
              "          s.onload = () => {\n",
              "            VEGA_DEBUG[key] = version;\n",
              "            return resolve(paths[lib]);\n",
              "          };\n",
              "          s.onerror = () => reject(`Error loading script: ${paths[lib]}`);\n",
              "          s.src = paths[lib];\n",
              "        });\n",
              "    }\n",
              "\n",
              "    function showError(err) {\n",
              "      outputDiv.innerHTML = `<div class=\"error\" style=\"color:red;\">${err}</div>`;\n",
              "      throw err;\n",
              "    }\n",
              "\n",
              "    function displayChart(vegaEmbed) {\n",
              "      vegaEmbed(outputDiv, spec, embedOpt)\n",
              "        .catch(err => showError(`Javascript Error: ${err.message}<br>This usually means there's a typo in your chart specification. See the javascript console for the full traceback.`));\n",
              "    }\n",
              "\n",
              "    if(typeof define === \"function\" && define.amd) {\n",
              "      requirejs.config({paths});\n",
              "      require([\"vega-embed\"], displayChart, err => showError(`Error loading script: ${err.message}`));\n",
              "    } else {\n",
              "      maybeLoadScript(\"vega\", \"5\")\n",
              "        .then(() => maybeLoadScript(\"vega-lite\", \"5.8.0\"))\n",
              "        .then(() => maybeLoadScript(\"vega-embed\", \"6\"))\n",
              "        .catch(showError)\n",
              "        .then(() => displayChart(vegaEmbed));\n",
              "    }\n",
              "  })({\"config\": {\"view\": {\"continuousWidth\": 300, \"continuousHeight\": 300, \"discreteHeight\": 300, \"discreteWidth\": 400}, \"header\": {\"title\": null}, \"title\": {\"anchor\": \"middle\", \"offset\": 10}}, \"hconcat\": [{\"mark\": \"bar\", \"encoding\": {\"color\": {\"value\": \"green\"}, \"row\": {\"field\": \"comparison_name\", \"header\": {\"labelAlign\": \"left\", \"labelAnchor\": \"middle\", \"labelAngle\": 0}, \"sort\": {\"field\": \"comparison_sort_order\"}, \"type\": \"nominal\"}, \"tooltip\": [{\"field\": \"m_probability_description\", \"title\": \"m probability description\", \"type\": \"nominal\"}, {\"field\": \"comparison_name\", \"title\": \"Comparison column name\", \"type\": \"nominal\"}, {\"field\": \"label_for_charts\", \"title\": \"Label\", \"type\": \"ordinal\"}, {\"field\": \"sql_condition\", \"title\": \"SQL condition\", \"type\": \"nominal\"}, {\"field\": \"m_probability\", \"format\": \".4p\", \"title\": \"m probability\", \"type\": \"quantitative\"}, {\"field\": \"u_probability\", \"format\": \".4p\", \"title\": \"u probability\", \"type\": \"quantitative\"}, {\"field\": \"bayes_factor\", \"format\": \",.4f\", \"title\": \"Bayes factor = m/u\", \"type\": \"quantitative\"}, {\"field\": \"log2_bayes_factor\", \"format\": \",.4f\", \"title\": \"Match weight = log2(m/u)\", \"type\": \"quantitative\"}], \"x\": {\"axis\": {\"title\": \"Proportion of record comparisons\"}, \"field\": \"m_probability\", \"type\": \"quantitative\"}, \"y\": {\"axis\": {\"title\": null}, \"field\": \"label_for_charts\", \"sort\": {\"field\": \"comparison_vector_value\", \"order\": \"descending\"}, \"type\": \"nominal\"}}, \"height\": {\"step\": 12}, \"resolve\": {\"scale\": {\"y\": \"independent\"}}, \"title\": {\"text\": \"Amongst matching record comparisons:\", \"fontSize\": 12, \"fontWeight\": \"bold\"}, \"transform\": [{\"filter\": \"(datum.bayes_factor != 'no-op filter due to vega lite issue 4680')\"}], \"width\": 150}, {\"mark\": \"bar\", \"encoding\": {\"color\": {\"value\": \"red\"}, \"row\": {\"field\": \"comparison_name\", \"header\": {\"labels\": false}, \"sort\": {\"field\": \"comparison_sort_order\"}, \"type\": \"nominal\"}, \"tooltip\": [{\"field\": \"u_probability_description\", \"title\": \"u probability description\", \"type\": \"nominal\"}, {\"field\": \"comparison_name\", \"title\": \"Comparison column name\", \"type\": \"nominal\"}, {\"field\": \"label_for_charts\", \"title\": \"Label\", \"type\": \"ordinal\"}, {\"field\": \"sql_condition\", \"title\": \"SQL condition\", \"type\": \"nominal\"}, {\"field\": \"m_probability\", \"format\": \".4p\", \"title\": \"m probability\", \"type\": \"quantitative\"}, {\"field\": \"u_probability\", \"format\": \".4p\", \"title\": \"u probability\", \"type\": \"quantitative\"}, {\"field\": \"bayes_factor\", \"format\": \",.4f\", \"title\": \"Bayes factor = m/u\", \"type\": \"quantitative\"}, {\"field\": \"log2_bayes_factor\", \"format\": \",.4f\", \"title\": \"Match weight = log2(m/u)\", \"type\": \"quantitative\"}], \"x\": {\"axis\": {\"title\": \"Proportion of record comparisons\"}, \"field\": \"u_probability\", \"type\": \"quantitative\"}, \"y\": {\"axis\": {\"title\": null}, \"field\": \"label_for_charts\", \"sort\": {\"field\": \"comparison_vector_value\", \"order\": \"descending\"}, \"type\": \"nominal\"}}, \"height\": {\"step\": 12}, \"resolve\": {\"scale\": {\"y\": \"independent\"}}, \"title\": {\"text\": \"Amongst non-matching record comparisons:\", \"fontSize\": 12, \"fontWeight\": \"bold\"}, \"transform\": [{\"filter\": \"(datum.bayes_factor != 'no-op filter2 due to vega lite issue 4680')\"}], \"width\": 150}], \"data\": {\"name\": \"data-0781065f28132337cf5d5becfe4f5abb\"}, \"title\": {\"text\": \"Proportion of record comparisons in each comparison level by match status\", \"subtitle\": \"(m and u probabilities)\"}, \"$schema\": \"https://vega.github.io/schema/vega-lite/v5.9.3.json\", \"datasets\": {\"data-0781065f28132337cf5d5becfe4f5abb\": [{\"comparison_name\": \"cltname_x\", \"sql_condition\": \"\\\"cltname_x_l\\\" = \\\"cltname_x_r\\\"\", \"label_for_charts\": \"Exact match\", \"m_probability\": 0.9411479160331413, \"u_probability\": 5.936965004024484e-05, \"m_probability_description\": \"Amongst matching record comparisons, 94.11% of records are in the exact match comparison level\", \"u_probability_description\": \"Amongst non-matching record comparisons, 0.01% of records are in the exact match comparison level\", \"has_tf_adjustments\": false, \"tf_adjustment_column\": null, \"tf_adjustment_weight\": 1.0, \"is_null_level\": false, \"bayes_factor\": 15852.340638611924, \"log2_bayes_factor\": 13.952408253252116, \"comparison_vector_value\": 2, \"max_comparison_vector_value\": 2, \"bayes_factor_description\": \"If comparison level is `exact match` then comparison is 15,852.34 times more likely to be a match\", \"probability_two_random_records_match\": 0.004, \"comparison_sort_order\": 0}, {\"comparison_name\": \"cltname_x\", \"sql_condition\": \"levenshtein(\\\"cltname_x_l\\\", \\\"cltname_x_r\\\") <= 4\", \"label_for_charts\": \"Levenshtein <= 4\", \"m_probability\": 0.01572436550300359, \"u_probability\": 4.769037462249175e-05, \"m_probability_description\": \"Amongst matching record comparisons, 1.57% of records are in the levenshtein <= 4 comparison level\", \"u_probability_description\": \"Amongst non-matching record comparisons, 0.00% of records are in the levenshtein <= 4 comparison level\", \"has_tf_adjustments\": false, \"tf_adjustment_column\": null, \"tf_adjustment_weight\": 1.0, \"is_null_level\": false, \"bayes_factor\": 329.71780212411375, \"log2_bayes_factor\": 8.365087972878944, \"comparison_vector_value\": 1, \"max_comparison_vector_value\": 2, \"bayes_factor_description\": \"If comparison level is `levenshtein <= 4` then comparison is 329.72 times more likely to be a match\", \"probability_two_random_records_match\": 0.004, \"comparison_sort_order\": 0}, {\"comparison_name\": \"cltname_x\", \"sql_condition\": \"ELSE\", \"label_for_charts\": \"All other comparisons\", \"m_probability\": 0.04312771846385511, \"u_probability\": 0.9998929399753372, \"m_probability_description\": \"Amongst matching record comparisons, 4.31% of records are in the all other comparisons comparison level\", \"u_probability_description\": \"Amongst non-matching record comparisons, 99.99% of records are in the all other comparisons comparison level\", \"has_tf_adjustments\": false, \"tf_adjustment_column\": null, \"tf_adjustment_weight\": 1.0, \"is_null_level\": false, \"bayes_factor\": 0.04313233621283382, \"log2_bayes_factor\": -4.5350863296867745, \"comparison_vector_value\": 0, \"max_comparison_vector_value\": 2, \"bayes_factor_description\": \"If comparison level is `all other comparisons` then comparison is  23.18 times less likely to be a match\", \"probability_two_random_records_match\": 0.004, \"comparison_sort_order\": 0}, {\"comparison_name\": \"ClientPinNumber\", \"sql_condition\": \"\\\"ClientPinNumber_l\\\" = \\\"ClientPinNumber_r\\\"\", \"label_for_charts\": \"Exact match\", \"m_probability\": 0.9281895115647253, \"u_probability\": 0.006451488135527665, \"m_probability_description\": \"Amongst matching record comparisons, 92.82% of records are in the exact match comparison level\", \"u_probability_description\": \"Amongst non-matching record comparisons, 0.65% of records are in the exact match comparison level\", \"has_tf_adjustments\": false, \"tf_adjustment_column\": null, \"tf_adjustment_weight\": 1.0, \"is_null_level\": false, \"bayes_factor\": 143.872156635193, \"log2_bayes_factor\": 7.168643606237589, \"comparison_vector_value\": 1, \"max_comparison_vector_value\": 1, \"bayes_factor_description\": \"If comparison level is `exact match` then comparison is 143.87 times more likely to be a match\", \"probability_two_random_records_match\": 0.004, \"comparison_sort_order\": 1}, {\"comparison_name\": \"ClientPinNumber\", \"sql_condition\": \"ELSE\", \"label_for_charts\": \"All other comparisons\", \"m_probability\": 0.07181048843527471, \"u_probability\": 0.9935485118644724, \"m_probability_description\": \"Amongst matching record comparisons, 7.18% of records are in the all other comparisons comparison level\", \"u_probability_description\": \"Amongst non-matching record comparisons, 99.35% of records are in the all other comparisons comparison level\", \"has_tf_adjustments\": false, \"tf_adjustment_column\": null, \"tf_adjustment_weight\": 1.0, \"is_null_level\": false, \"bayes_factor\": 0.07227678123186622, \"log2_bayes_factor\": -3.7903239310019843, \"comparison_vector_value\": 0, \"max_comparison_vector_value\": 1, \"bayes_factor_description\": \"If comparison level is `all other comparisons` then comparison is  13.84 times less likely to be a match\", \"probability_two_random_records_match\": 0.004, \"comparison_sort_order\": 1}, {\"comparison_name\": \"PolPcId\", \"sql_condition\": \"\\\"PolPcId_l\\\" = \\\"PolPcId_r\\\"\", \"label_for_charts\": \"Exact match\", \"m_probability\": 0.19563208656429656, \"u_probability\": 1.65456401751502e-05, \"m_probability_description\": \"Amongst matching record comparisons, 19.56% of records are in the exact match comparison level\", \"u_probability_description\": \"Amongst non-matching record comparisons, 0.00% of records are in the exact match comparison level\", \"has_tf_adjustments\": false, \"tf_adjustment_column\": null, \"tf_adjustment_weight\": 1.0, \"is_null_level\": false, \"bayes_factor\": 11823.784664319925, \"log2_bayes_factor\": 13.529404279911825, \"comparison_vector_value\": 1, \"max_comparison_vector_value\": 1, \"bayes_factor_description\": \"If comparison level is `exact match` then comparison is 11,823.78 times more likely to be a match\", \"probability_two_random_records_match\": 0.004, \"comparison_sort_order\": 2}, {\"comparison_name\": \"PolPcId\", \"sql_condition\": \"ELSE\", \"label_for_charts\": \"All other comparisons\", \"m_probability\": 0.8043679134357035, \"u_probability\": 0.9999834543598248, \"m_probability_description\": \"Amongst matching record comparisons, 80.44% of records are in the all other comparisons comparison level\", \"u_probability_description\": \"Amongst non-matching record comparisons, 100.00% of records are in the all other comparisons comparison level\", \"has_tf_adjustments\": false, \"tf_adjustment_column\": null, \"tf_adjustment_weight\": 1.0, \"is_null_level\": false, \"bayes_factor\": 0.8043812224379736, \"log2_bayes_factor\": -0.31404869127966734, \"comparison_vector_value\": 0, \"max_comparison_vector_value\": 1, \"bayes_factor_description\": \"If comparison level is `all other comparisons` then comparison is  1.24 times less likely to be a match\", \"probability_two_random_records_match\": 0.004, \"comparison_sort_order\": 2}, {\"comparison_name\": \"OriginalAttachmentDate\", \"sql_condition\": \"\\\"OriginalAttachmentDate_l\\\" = \\\"OriginalAttachmentDate_r\\\"\", \"label_for_charts\": \"Exact match\", \"m_probability\": 0.3647553166566332, \"u_probability\": 0.0010550680949561286, \"m_probability_description\": \"Amongst matching record comparisons, 36.48% of records are in the exact match comparison level\", \"u_probability_description\": \"Amongst non-matching record comparisons, 0.11% of records are in the exact match comparison level\", \"has_tf_adjustments\": true, \"tf_adjustment_column\": \"OriginalAttachmentDate\", \"tf_adjustment_weight\": 1.0, \"is_null_level\": false, \"bayes_factor\": 345.7173223229732, \"log2_bayes_factor\": 8.433449082074345, \"comparison_vector_value\": 1, \"max_comparison_vector_value\": 1, \"bayes_factor_description\": \"If comparison level is `exact match` then comparison is 345.72 times more likely to be a match\", \"probability_two_random_records_match\": 0.004, \"comparison_sort_order\": 3}, {\"comparison_name\": \"OriginalAttachmentDate\", \"sql_condition\": \"ELSE\", \"label_for_charts\": \"All other comparisons\", \"m_probability\": 0.6352446833433667, \"u_probability\": 0.9989449319050439, \"m_probability_description\": \"Amongst matching record comparisons, 63.52% of records are in the all other comparisons comparison level\", \"u_probability_description\": \"Amongst non-matching record comparisons, 99.89% of records are in the all other comparisons comparison level\", \"has_tf_adjustments\": false, \"tf_adjustment_column\": null, \"tf_adjustment_weight\": 1.0, \"is_null_level\": false, \"bayes_factor\": 0.6359156176226046, \"log2_bayes_factor\": -0.6530927540853123, \"comparison_vector_value\": 0, \"max_comparison_vector_value\": 1, \"bayes_factor_description\": \"If comparison level is `all other comparisons` then comparison is  1.57 times less likely to be a match\", \"probability_two_random_records_match\": 0.004, \"comparison_sort_order\": 3}, {\"comparison_name\": \"BranchName_x\", \"sql_condition\": \"\\\"BranchName_x_l\\\" = \\\"BranchName_x_r\\\"\", \"label_for_charts\": \"Exact match\", \"m_probability\": 0.999433829189739, \"u_probability\": 0.3105499868121515, \"m_probability_description\": \"Amongst matching record comparisons, 99.94% of records are in the exact match comparison level\", \"u_probability_description\": \"Amongst non-matching record comparisons, 31.05% of records are in the exact match comparison level\", \"has_tf_adjustments\": true, \"tf_adjustment_column\": \"BranchName_x\", \"tf_adjustment_weight\": 1.0, \"is_null_level\": false, \"bayes_factor\": 3.2182703964958987, \"log2_bayes_factor\": 1.6862855452333034, \"comparison_vector_value\": 1, \"max_comparison_vector_value\": 1, \"bayes_factor_description\": \"If comparison level is `exact match` then comparison is 3.22 times more likely to be a match\", \"probability_two_random_records_match\": 0.004, \"comparison_sort_order\": 4}, {\"comparison_name\": \"BranchName_x\", \"sql_condition\": \"ELSE\", \"label_for_charts\": \"All other comparisons\", \"m_probability\": 0.0005661708102609709, \"u_probability\": 0.6894500131878485, \"m_probability_description\": \"Amongst matching record comparisons, 0.06% of records are in the all other comparisons comparison level\", \"u_probability_description\": \"Amongst non-matching record comparisons, 68.95% of records are in the all other comparisons comparison level\", \"has_tf_adjustments\": false, \"tf_adjustment_column\": null, \"tf_adjustment_weight\": 1.0, \"is_null_level\": false, \"bayes_factor\": 0.0008211919637844886, \"log2_bayes_factor\": -10.249992870301904, \"comparison_vector_value\": 0, \"max_comparison_vector_value\": 1, \"bayes_factor_description\": \"If comparison level is `all other comparisons` then comparison is  1,217.74 times less likely to be a match\", \"probability_two_random_records_match\": 0.004, \"comparison_sort_order\": 4}]}}, {\"mode\": \"vega-lite\"});\n",
              "</script>"
            ],
            "text/plain": [
              "alt.HConcatChart(...)"
            ]
          },
          "execution_count": 24,
          "metadata": {},
          "output_type": "execute_result"
        }
      ],
      "source": [
        "linker.m_u_parameters_chart()"
      ]
    },
    {
      "cell_type": "markdown",
      "metadata": {
        "id": "B_BSw3LRK9a1"
      },
      "source": [
        "## Predicting which records match"
      ]
    },
    {
      "cell_type": "code",
      "execution_count": null,
      "metadata": {
        "colab": {
          "base_uri": "https://localhost:8080/"
        },
        "id": "IOruxFMA0qHf",
        "outputId": "f091764f-273e-4993-cd98-419742fc593c"
      },
      "outputs": [
        {
          "name": "stderr",
          "output_type": "stream",
          "text": [
            "/usr/local/lib/python3.10/dist-packages/ipykernel/ipkernel.py:283: DeprecationWarning: `should_run_async` will not call `transform_cell` automatically in the future. Please pass the result to `transformed_cell` argument and any exception that happen during thetransform in `preprocessing_exc_tuple` in IPython 7.17 and above.\n",
            "  and should_run_async(code)\n",
            "<ipython-input-25-2357a84ca35a>:3: DeprecationWarning: `load_settings_from_json` is deprecated. We advise you use `linker.load_settings()` when loading in your settings or a previously trained model.\n",
            "  linker.load_settings_from_json(\"saved_prediction_model.json\")\n"
          ]
        }
      ],
      "source": [
        "## Load estimated model from previous sectiom\n",
        "linker = DuckDBLinker(df)\n",
        "linker.load_settings_from_json(\"saved_prediction_model.json\")"
      ]
    },
    {
      "cell_type": "code",
      "execution_count": null,
      "metadata": {
        "colab": {
          "background_save": true,
          "base_uri": "https://localhost:8080/",
          "referenced_widgets": [
            "10cb219b95db413aaa39dd15eaa30910",
            "613e933cad77454c97894e8b73fb9291",
            "58b60ef297c440318df4e644b0d40613"
          ]
        },
        "id": "qxomkP4z0zBB",
        "outputId": "866103ba-88fa-4520-bebc-e8e682b19d72"
      },
      "outputs": [
        {
          "name": "stderr",
          "output_type": "stream",
          "text": [
            "/usr/local/lib/python3.10/dist-packages/ipykernel/ipkernel.py:283: DeprecationWarning: `should_run_async` will not call `transform_cell` automatically in the future. Please pass the result to `transformed_cell` argument and any exception that happen during thetransform in `preprocessing_exc_tuple` in IPython 7.17 and above.\n",
            "  and should_run_async(code)\n"
          ]
        },
        {
          "data": {
            "application/vnd.jupyter.widget-view+json": {
              "model_id": "10cb219b95db413aaa39dd15eaa30910",
              "version_major": 2,
              "version_minor": 0
            },
            "text/plain": [
              "FloatProgress(value=0.0, layout=Layout(width='auto'), style=ProgressStyle(bar_color='black'))"
            ]
          },
          "metadata": {},
          "output_type": "display_data"
        },
        {
          "data": {
            "text/html": [
              "\n",
              "  <div id=\"df-5f0e77ae-cd09-49ea-83a9-9c23bfbdce40\">\n",
              "    <div class=\"colab-df-container\">\n",
              "      <div>\n",
              "<style scoped>\n",
              "    .dataframe tbody tr th:only-of-type {\n",
              "        vertical-align: middle;\n",
              "    }\n",
              "\n",
              "    .dataframe tbody tr th {\n",
              "        vertical-align: top;\n",
              "    }\n",
              "\n",
              "    .dataframe thead th {\n",
              "        text-align: right;\n",
              "    }\n",
              "</style>\n",
              "<table border=\"1\" class=\"dataframe\">\n",
              "  <thead>\n",
              "    <tr style=\"text-align: right;\">\n",
              "      <th></th>\n",
              "      <th>match_weight</th>\n",
              "      <th>match_probability</th>\n",
              "      <th>unique_id_l</th>\n",
              "      <th>unique_id_r</th>\n",
              "      <th>cltname_x_l</th>\n",
              "      <th>cltname_x_r</th>\n",
              "      <th>gamma_cltname_x</th>\n",
              "      <th>bf_cltname_x</th>\n",
              "      <th>ClientPinNumber_l</th>\n",
              "      <th>ClientPinNumber_r</th>\n",
              "      <th>...</th>\n",
              "      <th>BranchName_x_l</th>\n",
              "      <th>BranchName_x_r</th>\n",
              "      <th>gamma_BranchName_x</th>\n",
              "      <th>tf_BranchName_x_l</th>\n",
              "      <th>tf_BranchName_x_r</th>\n",
              "      <th>bf_BranchName_x</th>\n",
              "      <th>bf_tf_adj_BranchName_x</th>\n",
              "      <th>Department_l</th>\n",
              "      <th>Department_r</th>\n",
              "      <th>match_key</th>\n",
              "    </tr>\n",
              "  </thead>\n",
              "  <tbody>\n",
              "    <tr>\n",
              "      <th>0</th>\n",
              "      <td>7.096639</td>\n",
              "      <td>0.992747</td>\n",
              "      <td>0</td>\n",
              "      <td>303067</td>\n",
              "      <td>mogeni tea factory</td>\n",
              "      <td>mogeni tea factory</td>\n",
              "      <td>2</td>\n",
              "      <td>15852.340639</td>\n",
              "      <td>A000093952N</td>\n",
              "      <td>P051345509A</td>\n",
              "      <td>...</td>\n",
              "      <td>kisumu</td>\n",
              "      <td>kisumu</td>\n",
              "      <td>1</td>\n",
              "      <td>0.017187</td>\n",
              "      <td>0.017187</td>\n",
              "      <td>3.21827</td>\n",
              "      <td>18.068593</td>\n",
              "      <td>motor commercial</td>\n",
              "      <td>motor private</td>\n",
              "      <td>0</td>\n",
              "    </tr>\n",
              "    <tr>\n",
              "      <th>1</th>\n",
              "      <td>8.085949</td>\n",
              "      <td>0.996333</td>\n",
              "      <td>2</td>\n",
              "      <td>293086</td>\n",
              "      <td>makarim limited</td>\n",
              "      <td>makarim limited</td>\n",
              "      <td>2</td>\n",
              "      <td>15852.340639</td>\n",
              "      <td>P0512548421A</td>\n",
              "      <td>NaN</td>\n",
              "      <td>...</td>\n",
              "      <td>williamson house</td>\n",
              "      <td>williamson house</td>\n",
              "      <td>1</td>\n",
              "      <td>0.119783</td>\n",
              "      <td>0.119783</td>\n",
              "      <td>3.21827</td>\n",
              "      <td>2.592598</td>\n",
              "      <td>motor commercial</td>\n",
              "      <td>motor commercial</td>\n",
              "      <td>0</td>\n",
              "    </tr>\n",
              "    <tr>\n",
              "      <th>2</th>\n",
              "      <td>40.828024</td>\n",
              "      <td>1.000000</td>\n",
              "      <td>4</td>\n",
              "      <td>83344</td>\n",
              "      <td>wahome moses j n</td>\n",
              "      <td>wahome moses j n</td>\n",
              "      <td>2</td>\n",
              "      <td>15852.340639</td>\n",
              "      <td>A001114797F</td>\n",
              "      <td>A001114797F</td>\n",
              "      <td>...</td>\n",
              "      <td>williamson house</td>\n",
              "      <td>williamson house</td>\n",
              "      <td>1</td>\n",
              "      <td>0.119783</td>\n",
              "      <td>0.119783</td>\n",
              "      <td>3.21827</td>\n",
              "      <td>2.592598</td>\n",
              "      <td>motor commercial</td>\n",
              "      <td>motor commercial</td>\n",
              "      <td>0</td>\n",
              "    </tr>\n",
              "    <tr>\n",
              "      <th>3</th>\n",
              "      <td>17.495195</td>\n",
              "      <td>0.999995</td>\n",
              "      <td>5</td>\n",
              "      <td>101865</td>\n",
              "      <td>nic bank ltd - loan vehicles</td>\n",
              "      <td>nic bank ltd - loan vehicles</td>\n",
              "      <td>2</td>\n",
              "      <td>15852.340639</td>\n",
              "      <td>P000595273F</td>\n",
              "      <td>P000595273F</td>\n",
              "      <td>...</td>\n",
              "      <td>nic business</td>\n",
              "      <td>nic business</td>\n",
              "      <td>1</td>\n",
              "      <td>0.025346</td>\n",
              "      <td>0.025346</td>\n",
              "      <td>3.21827</td>\n",
              "      <td>12.252471</td>\n",
              "      <td>motor commercial</td>\n",
              "      <td>engineering</td>\n",
              "      <td>0</td>\n",
              "    </tr>\n",
              "    <tr>\n",
              "      <th>4</th>\n",
              "      <td>18.786460</td>\n",
              "      <td>0.999998</td>\n",
              "      <td>6</td>\n",
              "      <td>287914</td>\n",
              "      <td>gal baking limited</td>\n",
              "      <td>gal baking limited</td>\n",
              "      <td>2</td>\n",
              "      <td>15852.340639</td>\n",
              "      <td>A003168213F</td>\n",
              "      <td>A003168213F</td>\n",
              "      <td>...</td>\n",
              "      <td>meru</td>\n",
              "      <td>meru</td>\n",
              "      <td>1</td>\n",
              "      <td>0.010356</td>\n",
              "      <td>0.010356</td>\n",
              "      <td>3.21827</td>\n",
              "      <td>29.987010</td>\n",
              "      <td>motor commercial</td>\n",
              "      <td>liabilities</td>\n",
              "      <td>0</td>\n",
              "    </tr>\n",
              "  </tbody>\n",
              "</table>\n",
              "<p>5 rows × 33 columns</p>\n",
              "</div>\n",
              "      <button class=\"colab-df-convert\" onclick=\"convertToInteractive('df-5f0e77ae-cd09-49ea-83a9-9c23bfbdce40')\"\n",
              "              title=\"Convert this dataframe to an interactive table.\"\n",
              "              style=\"display:none;\">\n",
              "        \n",
              "  <svg xmlns=\"http://www.w3.org/2000/svg\" height=\"24px\"viewBox=\"0 0 24 24\"\n",
              "       width=\"24px\">\n",
              "    <path d=\"M0 0h24v24H0V0z\" fill=\"none\"/>\n",
              "    <path d=\"M18.56 5.44l.94 2.06.94-2.06 2.06-.94-2.06-.94-.94-2.06-.94 2.06-2.06.94zm-11 1L8.5 8.5l.94-2.06 2.06-.94-2.06-.94L8.5 2.5l-.94 2.06-2.06.94zm10 10l.94 2.06.94-2.06 2.06-.94-2.06-.94-.94-2.06-.94 2.06-2.06.94z\"/><path d=\"M17.41 7.96l-1.37-1.37c-.4-.4-.92-.59-1.43-.59-.52 0-1.04.2-1.43.59L10.3 9.45l-7.72 7.72c-.78.78-.78 2.05 0 2.83L4 21.41c.39.39.9.59 1.41.59.51 0 1.02-.2 1.41-.59l7.78-7.78 2.81-2.81c.8-.78.8-2.07 0-2.86zM5.41 20L4 18.59l7.72-7.72 1.47 1.35L5.41 20z\"/>\n",
              "  </svg>\n",
              "      </button>\n",
              "      \n",
              "  <style>\n",
              "    .colab-df-container {\n",
              "      display:flex;\n",
              "      flex-wrap:wrap;\n",
              "      gap: 12px;\n",
              "    }\n",
              "\n",
              "    .colab-df-convert {\n",
              "      background-color: #E8F0FE;\n",
              "      border: none;\n",
              "      border-radius: 50%;\n",
              "      cursor: pointer;\n",
              "      display: none;\n",
              "      fill: #1967D2;\n",
              "      height: 32px;\n",
              "      padding: 0 0 0 0;\n",
              "      width: 32px;\n",
              "    }\n",
              "\n",
              "    .colab-df-convert:hover {\n",
              "      background-color: #E2EBFA;\n",
              "      box-shadow: 0px 1px 2px rgba(60, 64, 67, 0.3), 0px 1px 3px 1px rgba(60, 64, 67, 0.15);\n",
              "      fill: #174EA6;\n",
              "    }\n",
              "\n",
              "    [theme=dark] .colab-df-convert {\n",
              "      background-color: #3B4455;\n",
              "      fill: #D2E3FC;\n",
              "    }\n",
              "\n",
              "    [theme=dark] .colab-df-convert:hover {\n",
              "      background-color: #434B5C;\n",
              "      box-shadow: 0px 1px 3px 1px rgba(0, 0, 0, 0.15);\n",
              "      filter: drop-shadow(0px 1px 2px rgba(0, 0, 0, 0.3));\n",
              "      fill: #FFFFFF;\n",
              "    }\n",
              "  </style>\n",
              "\n",
              "      <script>\n",
              "        const buttonEl =\n",
              "          document.querySelector('#df-5f0e77ae-cd09-49ea-83a9-9c23bfbdce40 button.colab-df-convert');\n",
              "        buttonEl.style.display =\n",
              "          google.colab.kernel.accessAllowed ? 'block' : 'none';\n",
              "\n",
              "        async function convertToInteractive(key) {\n",
              "          const element = document.querySelector('#df-5f0e77ae-cd09-49ea-83a9-9c23bfbdce40');\n",
              "          const dataTable =\n",
              "            await google.colab.kernel.invokeFunction('convertToInteractive',\n",
              "                                                     [key], {});\n",
              "          if (!dataTable) return;\n",
              "\n",
              "          const docLinkHtml = 'Like what you see? Visit the ' +\n",
              "            '<a target=\"_blank\" href=https://colab.research.google.com/notebooks/data_table.ipynb>data table notebook</a>'\n",
              "            + ' to learn more about interactive tables.';\n",
              "          element.innerHTML = '';\n",
              "          dataTable['output_type'] = 'display_data';\n",
              "          await google.colab.output.renderOutput(dataTable, element);\n",
              "          const docLink = document.createElement('div');\n",
              "          docLink.innerHTML = docLinkHtml;\n",
              "          element.appendChild(docLink);\n",
              "        }\n",
              "      </script>\n",
              "    </div>\n",
              "  </div>\n",
              "  "
            ],
            "text/plain": [
              "   match_weight  match_probability  unique_id_l  unique_id_r  \\\n",
              "0      7.096639           0.992747            0       303067   \n",
              "1      8.085949           0.996333            2       293086   \n",
              "2     40.828024           1.000000            4        83344   \n",
              "3     17.495195           0.999995            5       101865   \n",
              "4     18.786460           0.999998            6       287914   \n",
              "\n",
              "                    cltname_x_l                   cltname_x_r  \\\n",
              "0            mogeni tea factory            mogeni tea factory   \n",
              "1               makarim limited               makarim limited   \n",
              "2              wahome moses j n              wahome moses j n   \n",
              "3  nic bank ltd - loan vehicles  nic bank ltd - loan vehicles   \n",
              "4            gal baking limited            gal baking limited   \n",
              "\n",
              "   gamma_cltname_x  bf_cltname_x ClientPinNumber_l ClientPinNumber_r  ...  \\\n",
              "0                2  15852.340639       A000093952N       P051345509A  ...   \n",
              "1                2  15852.340639      P0512548421A               NaN  ...   \n",
              "2                2  15852.340639       A001114797F       A001114797F  ...   \n",
              "3                2  15852.340639       P000595273F       P000595273F  ...   \n",
              "4                2  15852.340639       A003168213F       A003168213F  ...   \n",
              "\n",
              "     BranchName_x_l    BranchName_x_r  gamma_BranchName_x  tf_BranchName_x_l  \\\n",
              "0            kisumu            kisumu                   1           0.017187   \n",
              "1  williamson house  williamson house                   1           0.119783   \n",
              "2  williamson house  williamson house                   1           0.119783   \n",
              "3      nic business      nic business                   1           0.025346   \n",
              "4              meru              meru                   1           0.010356   \n",
              "\n",
              "   tf_BranchName_x_r  bf_BranchName_x bf_tf_adj_BranchName_x  \\\n",
              "0           0.017187          3.21827              18.068593   \n",
              "1           0.119783          3.21827               2.592598   \n",
              "2           0.119783          3.21827               2.592598   \n",
              "3           0.025346          3.21827              12.252471   \n",
              "4           0.010356          3.21827              29.987010   \n",
              "\n",
              "       Department_l      Department_r  match_key  \n",
              "0  motor commercial     motor private          0  \n",
              "1  motor commercial  motor commercial          0  \n",
              "2  motor commercial  motor commercial          0  \n",
              "3  motor commercial       engineering          0  \n",
              "4  motor commercial       liabilities          0  \n",
              "\n",
              "[5 rows x 33 columns]"
            ]
          },
          "execution_count": 26,
          "metadata": {},
          "output_type": "execute_result"
        }
      ],
      "source": [
        "#  `threshold_match_probability` or `threshold_match_weight` can be provided, which will drop any row where the predicted score is below the threshold\n",
        "df_predictions = linker.predict(threshold_match_probability=0.2)\n",
        "df_predictions.as_pandas_dataframe(limit=5)"
      ]
    },
    {
      "cell_type": "code",
      "execution_count": 27,
      "metadata": {
        "colab": {
          "base_uri": "https://localhost:8080/",
          "height": 1000,
          "referenced_widgets": [
            "8b4b2a39114f457ab6b69e78b45da574",
            "a44c01b617e747a1b454d9221b4e4c78",
            "b1e53973b9cc4961bb8c62727fe1f6fd"
          ]
        },
        "id": "uQitRl0l1QIV",
        "outputId": "5a0d0c8f-fdea-4918-90ba-c9097fcbc4f0"
      },
      "outputs": [
        {
          "output_type": "stream",
          "name": "stderr",
          "text": [
            "/usr/local/lib/python3.10/dist-packages/ipykernel/ipkernel.py:283: DeprecationWarning: `should_run_async` will not call `transform_cell` automatically in the future. Please pass the result to `transformed_cell` argument and any exception that happen during thetransform in `preprocessing_exc_tuple` in IPython 7.17 and above.\n",
            "  and should_run_async(code)\n"
          ]
        },
        {
          "output_type": "display_data",
          "data": {
            "text/plain": [
              "FloatProgress(value=0.0, layout=Layout(width='auto'), style=ProgressStyle(bar_color='black'))"
            ],
            "application/vnd.jupyter.widget-view+json": {
              "version_major": 2,
              "version_minor": 0,
              "model_id": "8b4b2a39114f457ab6b69e78b45da574"
            }
          },
          "metadata": {}
        },
        {
          "output_type": "stream",
          "name": "stderr",
          "text": [
            "INFO:splink.connected_components:Completed iteration 1, root rows count 15786\n",
            "INFO:splink.connected_components:Completed iteration 2, root rows count 11596\n",
            "INFO:splink.connected_components:Completed iteration 3, root rows count 9951\n",
            "INFO:splink.connected_components:Completed iteration 4, root rows count 9131\n",
            "INFO:splink.connected_components:Completed iteration 5, root rows count 7894\n",
            "INFO:splink.connected_components:Completed iteration 6, root rows count 4570\n",
            "INFO:splink.connected_components:Completed iteration 7, root rows count 2500\n",
            "INFO:splink.connected_components:Completed iteration 8, root rows count 1584\n",
            "INFO:splink.connected_components:Completed iteration 9, root rows count 854\n",
            "INFO:splink.connected_components:Completed iteration 10, root rows count 545\n",
            "INFO:splink.connected_components:Completed iteration 11, root rows count 386\n",
            "INFO:splink.connected_components:Completed iteration 12, root rows count 174\n",
            "INFO:splink.connected_components:Completed iteration 13, root rows count 137\n",
            "INFO:splink.connected_components:Completed iteration 14, root rows count 62\n",
            "INFO:splink.connected_components:Completed iteration 15, root rows count 38\n",
            "INFO:splink.connected_components:Completed iteration 16, root rows count 39\n",
            "INFO:splink.connected_components:Completed iteration 17, root rows count 37\n",
            "INFO:splink.connected_components:Completed iteration 18, root rows count 40\n",
            "INFO:splink.connected_components:Completed iteration 19, root rows count 30\n",
            "INFO:splink.connected_components:Completed iteration 20, root rows count 30\n",
            "INFO:splink.connected_components:Completed iteration 21, root rows count 19\n",
            "INFO:splink.connected_components:Completed iteration 22, root rows count 12\n",
            "INFO:splink.connected_components:Completed iteration 23, root rows count 6\n",
            "INFO:splink.connected_components:Completed iteration 24, root rows count 2\n",
            "INFO:splink.connected_components:Completed iteration 25, root rows count 0\n"
          ]
        },
        {
          "output_type": "execute_result",
          "data": {
            "text/plain": [
              "   cluster_id  PolPcId                     cltname_x ClientPinNumber  \\\n",
              "0       54628  1197089       emmanuel baptist church     P051351540N   \n",
              "1          82  1237172       margaret wambui muchiri     A002571926Z   \n",
              "2      216316  1260166  eunice rachel wanjiku ndwaru     A003644344T   \n",
              "3        9045  1194316          simon njuguna gakuru     A001802690Y   \n",
              "4      112271  1229622            joyce karuana gatu     A004214102V   \n",
              "5      110555  1208342      bernard kamoche macharia               0   \n",
              "6        4209  1185826        nyawira beatrice thuku     P051350553U   \n",
              "7       44329  1096209           jane nyaga nic bank     A002886356M   \n",
              "8        2383  1115914         dunlop industries ltd     P051127963H   \n",
              "9       50023  1185250         mohamed ibrahim somow     A003893881M   \n",
              "\n",
              "  OriginalAttachmentDate              Department          BranchName_x  \\\n",
              "0             10/01/2019         fire industrial  icea building branch   \n",
              "1             22/09/2020           motor private               nairobi   \n",
              "2             05/07/2021           fire domestic               nairobi   \n",
              "3             09/11/2018           motor private      westlands branch   \n",
              "4             19/03/2020           motor private               nairobi   \n",
              "5             01/09/2019                 medical               nairobi   \n",
              "6             01/04/2018                 medical               nairobi   \n",
              "7             13/07/2012           fire domestic          nic business   \n",
              "8             01/01/2014                   theft               nairobi   \n",
              "9             15/04/2018  miscellaneous accident               nairobi   \n",
              "\n",
              "   unique_id  tf_OriginalAttachmentDate  tf_BranchName_x  \n",
              "0     314177                   0.000625         0.109444  \n",
              "1     120492                   0.000301         0.532267  \n",
              "2     216316                   0.000146         0.532267  \n",
              "3     127403                   0.000293         0.018268  \n",
              "4     112271                   0.000428         0.532267  \n",
              "5     332620                   0.007416         0.532267  \n",
              "6     332093                   0.010374         0.532267  \n",
              "7     217155                   0.000045         0.025346  \n",
              "8      96568                   0.001534         0.532267  \n",
              "9      50023                   0.000070         0.532267  "
            ],
            "text/html": [
              "\n",
              "  <div id=\"df-a76b4b1e-c3ca-40ae-b9a2-042b788c2bde\">\n",
              "    <div class=\"colab-df-container\">\n",
              "      <div>\n",
              "<style scoped>\n",
              "    .dataframe tbody tr th:only-of-type {\n",
              "        vertical-align: middle;\n",
              "    }\n",
              "\n",
              "    .dataframe tbody tr th {\n",
              "        vertical-align: top;\n",
              "    }\n",
              "\n",
              "    .dataframe thead th {\n",
              "        text-align: right;\n",
              "    }\n",
              "</style>\n",
              "<table border=\"1\" class=\"dataframe\">\n",
              "  <thead>\n",
              "    <tr style=\"text-align: right;\">\n",
              "      <th></th>\n",
              "      <th>cluster_id</th>\n",
              "      <th>PolPcId</th>\n",
              "      <th>cltname_x</th>\n",
              "      <th>ClientPinNumber</th>\n",
              "      <th>OriginalAttachmentDate</th>\n",
              "      <th>Department</th>\n",
              "      <th>BranchName_x</th>\n",
              "      <th>unique_id</th>\n",
              "      <th>tf_OriginalAttachmentDate</th>\n",
              "      <th>tf_BranchName_x</th>\n",
              "    </tr>\n",
              "  </thead>\n",
              "  <tbody>\n",
              "    <tr>\n",
              "      <th>0</th>\n",
              "      <td>54628</td>\n",
              "      <td>1197089</td>\n",
              "      <td>emmanuel baptist church</td>\n",
              "      <td>P051351540N</td>\n",
              "      <td>10/01/2019</td>\n",
              "      <td>fire industrial</td>\n",
              "      <td>icea building branch</td>\n",
              "      <td>314177</td>\n",
              "      <td>0.000625</td>\n",
              "      <td>0.109444</td>\n",
              "    </tr>\n",
              "    <tr>\n",
              "      <th>1</th>\n",
              "      <td>82</td>\n",
              "      <td>1237172</td>\n",
              "      <td>margaret wambui muchiri</td>\n",
              "      <td>A002571926Z</td>\n",
              "      <td>22/09/2020</td>\n",
              "      <td>motor private</td>\n",
              "      <td>nairobi</td>\n",
              "      <td>120492</td>\n",
              "      <td>0.000301</td>\n",
              "      <td>0.532267</td>\n",
              "    </tr>\n",
              "    <tr>\n",
              "      <th>2</th>\n",
              "      <td>216316</td>\n",
              "      <td>1260166</td>\n",
              "      <td>eunice rachel wanjiku ndwaru</td>\n",
              "      <td>A003644344T</td>\n",
              "      <td>05/07/2021</td>\n",
              "      <td>fire domestic</td>\n",
              "      <td>nairobi</td>\n",
              "      <td>216316</td>\n",
              "      <td>0.000146</td>\n",
              "      <td>0.532267</td>\n",
              "    </tr>\n",
              "    <tr>\n",
              "      <th>3</th>\n",
              "      <td>9045</td>\n",
              "      <td>1194316</td>\n",
              "      <td>simon njuguna gakuru</td>\n",
              "      <td>A001802690Y</td>\n",
              "      <td>09/11/2018</td>\n",
              "      <td>motor private</td>\n",
              "      <td>westlands branch</td>\n",
              "      <td>127403</td>\n",
              "      <td>0.000293</td>\n",
              "      <td>0.018268</td>\n",
              "    </tr>\n",
              "    <tr>\n",
              "      <th>4</th>\n",
              "      <td>112271</td>\n",
              "      <td>1229622</td>\n",
              "      <td>joyce karuana gatu</td>\n",
              "      <td>A004214102V</td>\n",
              "      <td>19/03/2020</td>\n",
              "      <td>motor private</td>\n",
              "      <td>nairobi</td>\n",
              "      <td>112271</td>\n",
              "      <td>0.000428</td>\n",
              "      <td>0.532267</td>\n",
              "    </tr>\n",
              "    <tr>\n",
              "      <th>5</th>\n",
              "      <td>110555</td>\n",
              "      <td>1208342</td>\n",
              "      <td>bernard kamoche macharia</td>\n",
              "      <td>0</td>\n",
              "      <td>01/09/2019</td>\n",
              "      <td>medical</td>\n",
              "      <td>nairobi</td>\n",
              "      <td>332620</td>\n",
              "      <td>0.007416</td>\n",
              "      <td>0.532267</td>\n",
              "    </tr>\n",
              "    <tr>\n",
              "      <th>6</th>\n",
              "      <td>4209</td>\n",
              "      <td>1185826</td>\n",
              "      <td>nyawira beatrice thuku</td>\n",
              "      <td>P051350553U</td>\n",
              "      <td>01/04/2018</td>\n",
              "      <td>medical</td>\n",
              "      <td>nairobi</td>\n",
              "      <td>332093</td>\n",
              "      <td>0.010374</td>\n",
              "      <td>0.532267</td>\n",
              "    </tr>\n",
              "    <tr>\n",
              "      <th>7</th>\n",
              "      <td>44329</td>\n",
              "      <td>1096209</td>\n",
              "      <td>jane nyaga nic bank</td>\n",
              "      <td>A002886356M</td>\n",
              "      <td>13/07/2012</td>\n",
              "      <td>fire domestic</td>\n",
              "      <td>nic business</td>\n",
              "      <td>217155</td>\n",
              "      <td>0.000045</td>\n",
              "      <td>0.025346</td>\n",
              "    </tr>\n",
              "    <tr>\n",
              "      <th>8</th>\n",
              "      <td>2383</td>\n",
              "      <td>1115914</td>\n",
              "      <td>dunlop industries ltd</td>\n",
              "      <td>P051127963H</td>\n",
              "      <td>01/01/2014</td>\n",
              "      <td>theft</td>\n",
              "      <td>nairobi</td>\n",
              "      <td>96568</td>\n",
              "      <td>0.001534</td>\n",
              "      <td>0.532267</td>\n",
              "    </tr>\n",
              "    <tr>\n",
              "      <th>9</th>\n",
              "      <td>50023</td>\n",
              "      <td>1185250</td>\n",
              "      <td>mohamed ibrahim somow</td>\n",
              "      <td>A003893881M</td>\n",
              "      <td>15/04/2018</td>\n",
              "      <td>miscellaneous accident</td>\n",
              "      <td>nairobi</td>\n",
              "      <td>50023</td>\n",
              "      <td>0.000070</td>\n",
              "      <td>0.532267</td>\n",
              "    </tr>\n",
              "  </tbody>\n",
              "</table>\n",
              "</div>\n",
              "      <button class=\"colab-df-convert\" onclick=\"convertToInteractive('df-a76b4b1e-c3ca-40ae-b9a2-042b788c2bde')\"\n",
              "              title=\"Convert this dataframe to an interactive table.\"\n",
              "              style=\"display:none;\">\n",
              "        \n",
              "  <svg xmlns=\"http://www.w3.org/2000/svg\" height=\"24px\"viewBox=\"0 0 24 24\"\n",
              "       width=\"24px\">\n",
              "    <path d=\"M0 0h24v24H0V0z\" fill=\"none\"/>\n",
              "    <path d=\"M18.56 5.44l.94 2.06.94-2.06 2.06-.94-2.06-.94-.94-2.06-.94 2.06-2.06.94zm-11 1L8.5 8.5l.94-2.06 2.06-.94-2.06-.94L8.5 2.5l-.94 2.06-2.06.94zm10 10l.94 2.06.94-2.06 2.06-.94-2.06-.94-.94-2.06-.94 2.06-2.06.94z\"/><path d=\"M17.41 7.96l-1.37-1.37c-.4-.4-.92-.59-1.43-.59-.52 0-1.04.2-1.43.59L10.3 9.45l-7.72 7.72c-.78.78-.78 2.05 0 2.83L4 21.41c.39.39.9.59 1.41.59.51 0 1.02-.2 1.41-.59l7.78-7.78 2.81-2.81c.8-.78.8-2.07 0-2.86zM5.41 20L4 18.59l7.72-7.72 1.47 1.35L5.41 20z\"/>\n",
              "  </svg>\n",
              "      </button>\n",
              "      \n",
              "  <style>\n",
              "    .colab-df-container {\n",
              "      display:flex;\n",
              "      flex-wrap:wrap;\n",
              "      gap: 12px;\n",
              "    }\n",
              "\n",
              "    .colab-df-convert {\n",
              "      background-color: #E8F0FE;\n",
              "      border: none;\n",
              "      border-radius: 50%;\n",
              "      cursor: pointer;\n",
              "      display: none;\n",
              "      fill: #1967D2;\n",
              "      height: 32px;\n",
              "      padding: 0 0 0 0;\n",
              "      width: 32px;\n",
              "    }\n",
              "\n",
              "    .colab-df-convert:hover {\n",
              "      background-color: #E2EBFA;\n",
              "      box-shadow: 0px 1px 2px rgba(60, 64, 67, 0.3), 0px 1px 3px 1px rgba(60, 64, 67, 0.15);\n",
              "      fill: #174EA6;\n",
              "    }\n",
              "\n",
              "    [theme=dark] .colab-df-convert {\n",
              "      background-color: #3B4455;\n",
              "      fill: #D2E3FC;\n",
              "    }\n",
              "\n",
              "    [theme=dark] .colab-df-convert:hover {\n",
              "      background-color: #434B5C;\n",
              "      box-shadow: 0px 1px 3px 1px rgba(0, 0, 0, 0.15);\n",
              "      filter: drop-shadow(0px 1px 2px rgba(0, 0, 0, 0.3));\n",
              "      fill: #FFFFFF;\n",
              "    }\n",
              "  </style>\n",
              "\n",
              "      <script>\n",
              "        const buttonEl =\n",
              "          document.querySelector('#df-a76b4b1e-c3ca-40ae-b9a2-042b788c2bde button.colab-df-convert');\n",
              "        buttonEl.style.display =\n",
              "          google.colab.kernel.accessAllowed ? 'block' : 'none';\n",
              "\n",
              "        async function convertToInteractive(key) {\n",
              "          const element = document.querySelector('#df-a76b4b1e-c3ca-40ae-b9a2-042b788c2bde');\n",
              "          const dataTable =\n",
              "            await google.colab.kernel.invokeFunction('convertToInteractive',\n",
              "                                                     [key], {});\n",
              "          if (!dataTable) return;\n",
              "\n",
              "          const docLinkHtml = 'Like what you see? Visit the ' +\n",
              "            '<a target=\"_blank\" href=https://colab.research.google.com/notebooks/data_table.ipynb>data table notebook</a>'\n",
              "            + ' to learn more about interactive tables.';\n",
              "          element.innerHTML = '';\n",
              "          dataTable['output_type'] = 'display_data';\n",
              "          await google.colab.output.renderOutput(dataTable, element);\n",
              "          const docLink = document.createElement('div');\n",
              "          docLink.innerHTML = docLinkHtml;\n",
              "          element.appendChild(docLink);\n",
              "        }\n",
              "      </script>\n",
              "    </div>\n",
              "  </div>\n",
              "  "
            ]
          },
          "metadata": {},
          "execution_count": 27
        }
      ],
      "source": [
        "clusters = linker.cluster_pairwise_predictions_at_threshold(df_predictions, threshold_match_probability=0.8)\n",
        "clusters.as_pandas_dataframe(limit=10)"
      ]
    },
    {
      "cell_type": "code",
      "execution_count": 28,
      "metadata": {
        "colab": {
          "base_uri": "https://localhost:8080/",
          "height": 661
        },
        "id": "LrHgyE1RyLvY",
        "outputId": "f082889f-b8be-40bd-cbad-cd00e4ae3085"
      },
      "outputs": [
        {
          "output_type": "stream",
          "name": "stderr",
          "text": [
            "/usr/local/lib/python3.10/dist-packages/ipykernel/ipkernel.py:283: DeprecationWarning: `should_run_async` will not call `transform_cell` automatically in the future. Please pass the result to `transformed_cell` argument and any exception that happen during thetransform in `preprocessing_exc_tuple` in IPython 7.17 and above.\n",
            "  and should_run_async(code)\n"
          ]
        },
        {
          "output_type": "execute_result",
          "data": {
            "text/html": [
              "\n",
              "<style>\n",
              "  #altair-viz-dd60224314454e7985914b606858544b.vega-embed {\n",
              "    width: 100%;\n",
              "    display: flex;\n",
              "  }\n",
              "\n",
              "  #altair-viz-dd60224314454e7985914b606858544b.vega-embed details,\n",
              "  #altair-viz-dd60224314454e7985914b606858544b.vega-embed details summary {\n",
              "    position: relative;\n",
              "  }\n",
              "</style>\n",
              "<div id=\"altair-viz-dd60224314454e7985914b606858544b\"></div>\n",
              "<script type=\"text/javascript\">\n",
              "  var VEGA_DEBUG = (typeof VEGA_DEBUG == \"undefined\") ? {} : VEGA_DEBUG;\n",
              "  (function(spec, embedOpt){\n",
              "    let outputDiv = document.currentScript.previousElementSibling;\n",
              "    if (outputDiv.id !== \"altair-viz-dd60224314454e7985914b606858544b\") {\n",
              "      outputDiv = document.getElementById(\"altair-viz-dd60224314454e7985914b606858544b\");\n",
              "    }\n",
              "    const paths = {\n",
              "      \"vega\": \"https://cdn.jsdelivr.net/npm/vega@5?noext\",\n",
              "      \"vega-lib\": \"https://cdn.jsdelivr.net/npm/vega-lib?noext\",\n",
              "      \"vega-lite\": \"https://cdn.jsdelivr.net/npm/vega-lite@5.8.0?noext\",\n",
              "      \"vega-embed\": \"https://cdn.jsdelivr.net/npm/vega-embed@6?noext\",\n",
              "    };\n",
              "\n",
              "    function maybeLoadScript(lib, version) {\n",
              "      var key = `${lib.replace(\"-\", \"\")}_version`;\n",
              "      return (VEGA_DEBUG[key] == version) ?\n",
              "        Promise.resolve(paths[lib]) :\n",
              "        new Promise(function(resolve, reject) {\n",
              "          var s = document.createElement('script');\n",
              "          document.getElementsByTagName(\"head\")[0].appendChild(s);\n",
              "          s.async = true;\n",
              "          s.onload = () => {\n",
              "            VEGA_DEBUG[key] = version;\n",
              "            return resolve(paths[lib]);\n",
              "          };\n",
              "          s.onerror = () => reject(`Error loading script: ${paths[lib]}`);\n",
              "          s.src = paths[lib];\n",
              "        });\n",
              "    }\n",
              "\n",
              "    function showError(err) {\n",
              "      outputDiv.innerHTML = `<div class=\"error\" style=\"color:red;\">${err}</div>`;\n",
              "      throw err;\n",
              "    }\n",
              "\n",
              "    function displayChart(vegaEmbed) {\n",
              "      vegaEmbed(outputDiv, spec, embedOpt)\n",
              "        .catch(err => showError(`Javascript Error: ${err.message}<br>This usually means there's a typo in your chart specification. See the javascript console for the full traceback.`));\n",
              "    }\n",
              "\n",
              "    if(typeof define === \"function\" && define.amd) {\n",
              "      requirejs.config({paths});\n",
              "      require([\"vega-embed\"], displayChart, err => showError(`Error loading script: ${err.message}`));\n",
              "    } else {\n",
              "      maybeLoadScript(\"vega\", \"5\")\n",
              "        .then(() => maybeLoadScript(\"vega-lite\", \"5.8.0\"))\n",
              "        .then(() => maybeLoadScript(\"vega-embed\", \"6\"))\n",
              "        .catch(showError)\n",
              "        .then(() => displayChart(vegaEmbed));\n",
              "    }\n",
              "  })({\"config\": {\"view\": {\"continuousWidth\": 400, \"continuousHeight\": 300}}, \"layer\": [{\"layer\": [{\"mark\": \"rule\", \"encoding\": {\"color\": {\"value\": \"black\"}, \"size\": {\"value\": 0.5}, \"y\": {\"field\": \"zero\", \"type\": \"quantitative\"}}}, {\"mark\": {\"type\": \"bar\", \"width\": 60}, \"encoding\": {\"color\": {\"condition\": {\"test\": \"(datum.log2_bayes_factor < 0)\", \"value\": \"red\"}, \"value\": \"green\"}, \"opacity\": {\"condition\": {\"test\": \"datum.column_name == 'Prior match weight' || datum.column_name == 'Final score'\", \"value\": 1}, \"value\": 0.5}, \"tooltip\": [{\"field\": \"column_name\", \"title\": \"Comparison column\", \"type\": \"nominal\"}, {\"field\": \"value_l\", \"title\": \"Value (L)\", \"type\": \"nominal\"}, {\"field\": \"value_r\", \"title\": \"Value (R)\", \"type\": \"nominal\"}, {\"field\": \"label_for_charts\", \"title\": \"Label\", \"type\": \"ordinal\"}, {\"field\": \"sql_condition\", \"title\": \"SQL condition\", \"type\": \"nominal\"}, {\"field\": \"comparison_vector_value\", \"title\": \"Comparison vector value\", \"type\": \"nominal\"}, {\"field\": \"bayes_factor\", \"format\": \",.4f\", \"title\": \"Bayes factor = m/u\", \"type\": \"quantitative\"}, {\"field\": \"log2_bayes_factor\", \"format\": \",.4f\", \"title\": \"Match weight = log2(m/u)\", \"type\": \"quantitative\"}, {\"field\": \"prob\", \"format\": \".4f\", \"title\": \"Adjusted match score\", \"type\": \"quantitative\"}, {\"field\": \"bayes_factor_description\", \"title\": \"Match weight description\", \"type\": \"nominal\"}], \"x\": {\"axis\": {\"grid\": true, \"labelAlign\": \"center\", \"labelAngle\": -20, \"labelExpr\": \"datum.value == 'Prior' || datum.value == 'Final score' ? '' : datum.value\", \"labelPadding\": 10, \"tickBand\": \"extent\", \"title\": \"Column\"}, \"field\": \"column_name\", \"sort\": {\"field\": \"bar_sort_order\", \"order\": \"ascending\"}, \"type\": \"nominal\"}, \"y\": {\"axis\": {\"grid\": false, \"orient\": \"left\", \"title\": \"log2(Bayes factor)\"}, \"field\": \"previous_sum\", \"type\": \"quantitative\"}, \"y2\": {\"field\": \"sum\"}}}, {\"mark\": {\"type\": \"text\", \"fontWeight\": \"bold\"}, \"encoding\": {\"color\": {\"value\": \"white\"}, \"text\": {\"condition\": {\"test\": \"abs(datum.log2_bayes_factor) > 1\", \"field\": \"log2_bayes_factor\", \"format\": \".2f\", \"type\": \"nominal\"}, \"value\": \"\"}, \"x\": {\"axis\": {\"labelAngle\": -20, \"title\": \"Column\"}, \"field\": \"column_name\", \"sort\": {\"field\": \"bar_sort_order\", \"order\": \"ascending\"}, \"type\": \"nominal\"}, \"y\": {\"axis\": {\"orient\": \"left\"}, \"field\": \"center\", \"type\": \"quantitative\"}}}, {\"mark\": {\"type\": \"text\", \"baseline\": \"bottom\", \"dy\": -25, \"fontWeight\": \"bold\"}, \"encoding\": {\"color\": {\"value\": \"black\"}, \"text\": {\"field\": \"column_name\", \"type\": \"nominal\"}, \"x\": {\"axis\": {\"labelAngle\": -20, \"title\": \"Column\"}, \"field\": \"column_name\", \"sort\": {\"field\": \"bar_sort_order\", \"order\": \"ascending\"}, \"type\": \"nominal\"}, \"y\": {\"field\": \"sum_top\", \"type\": \"quantitative\"}}}, {\"mark\": {\"type\": \"text\", \"baseline\": \"bottom\", \"dy\": -13, \"fontSize\": 8}, \"encoding\": {\"color\": {\"value\": \"grey\"}, \"text\": {\"field\": \"value_l\", \"type\": \"nominal\"}, \"x\": {\"axis\": {\"labelAngle\": -20, \"title\": \"Column\"}, \"field\": \"column_name\", \"sort\": {\"field\": \"bar_sort_order\", \"order\": \"ascending\"}, \"type\": \"nominal\"}, \"y\": {\"field\": \"sum_top\", \"type\": \"quantitative\"}}}, {\"mark\": {\"type\": \"text\", \"baseline\": \"bottom\", \"dy\": -5, \"fontSize\": 8}, \"encoding\": {\"color\": {\"value\": \"grey\"}, \"text\": {\"field\": \"value_r\", \"type\": \"nominal\"}, \"x\": {\"axis\": {\"labelAngle\": -20, \"title\": \"Column\"}, \"field\": \"column_name\", \"sort\": {\"field\": \"bar_sort_order\", \"order\": \"ascending\"}, \"type\": \"nominal\"}, \"y\": {\"field\": \"sum_top\", \"type\": \"quantitative\"}}}]}, {\"mark\": {\"type\": \"rule\", \"color\": \"black\", \"strokeWidth\": 2, \"x2Offset\": 30, \"xOffset\": -30}, \"encoding\": {\"x\": {\"axis\": {\"labelAngle\": -20, \"title\": \"Column\"}, \"field\": \"column_name\", \"sort\": {\"field\": \"bar_sort_order\", \"order\": \"ascending\"}, \"type\": \"nominal\"}, \"x2\": {\"field\": \"lead\"}, \"y\": {\"axis\": {\"labelExpr\": \"format(1 / (1 + pow(2, -1*datum.value)), '.2r')\", \"orient\": \"right\", \"title\": \"Probability\"}, \"field\": \"sum\", \"scale\": {\"zero\": false}, \"type\": \"quantitative\"}}}], \"data\": {\"name\": \"data-87c6bdde6dff79586a0c8642f450870c\"}, \"height\": 450, \"params\": [{\"name\": \"record_number\", \"bind\": {\"input\": \"range\", \"max\": 4, \"min\": 0, \"step\": 1}, \"value\": 0}], \"resolve\": {\"axis\": {\"y\": \"independent\"}}, \"title\": {\"text\": \"Match weights waterfall chart\", \"subtitle\": \"How each comparison contributes to the final match score\"}, \"transform\": [{\"filter\": \"(datum.record_number == record_number)\"}, {\"window\": [{\"op\": \"sum\", \"field\": \"log2_bayes_factor\", \"as\": \"sum\"}, {\"op\": \"lead\", \"field\": \"column_name\", \"as\": \"lead\"}], \"frame\": [null, 0]}, {\"calculate\": \"datum.column_name === \\\"Final score\\\" ? datum.sum - datum.log2_bayes_factor : datum.sum\", \"as\": \"sum\"}, {\"calculate\": \"datum.lead === null ? datum.column_name : datum.lead\", \"as\": \"lead\"}, {\"calculate\": \"datum.column_name === \\\"Final score\\\" || datum.column_name === \\\"Prior match weight\\\" ? 0 : datum.sum - datum.log2_bayes_factor\", \"as\": \"previous_sum\"}, {\"calculate\": \"datum.sum > datum.previous_sum ? datum.column_name : \\\"\\\"\", \"as\": \"top_label\"}, {\"calculate\": \"datum.sum < datum.previous_sum ? datum.column_name : \\\"\\\"\", \"as\": \"bottom_label\"}, {\"calculate\": \"datum.sum > datum.previous_sum ? datum.sum : datum.previous_sum\", \"as\": \"sum_top\"}, {\"calculate\": \"datum.sum < datum.previous_sum ? datum.sum : datum.previous_sum\", \"as\": \"sum_bottom\"}, {\"calculate\": \"(datum.sum + datum.previous_sum) / 2\", \"as\": \"center\"}, {\"calculate\": \"(datum.log2_bayes_factor > 0 ? \\\"+\\\" : \\\"\\\") + datum.log2_bayes_factor\", \"as\": \"text_log2_bayes_factor\"}, {\"calculate\": \"datum.sum < datum.previous_sum ? 4 : -4\", \"as\": \"dy\"}, {\"calculate\": \"datum.sum < datum.previous_sum ? \\\"top\\\" : \\\"bottom\\\"\", \"as\": \"baseline\"}, {\"calculate\": \"1. / (1 + pow(2, -1.*datum.sum))\", \"as\": \"prob\"}, {\"calculate\": \"0*datum.sum\", \"as\": \"zero\"}], \"width\": {\"step\": 75}, \"$schema\": \"https://vega.github.io/schema/vega-lite/v5.9.3.json\", \"datasets\": {\"data-87c6bdde6dff79586a0c8642f450870c\": [{\"column_name\": \"Prior\", \"label_for_charts\": \"Starting match weight (prior)\", \"sql_condition\": null, \"log2_bayes_factor\": -7.960001932068081, \"bayes_factor\": 0.004016064257028113, \"comparison_vector_value\": null, \"m_probability\": null, \"u_probability\": null, \"bayes_factor_description\": null, \"value_l\": \"\", \"value_r\": \"\", \"term_frequency_adjustment\": null, \"bar_sort_order\": 0, \"record_number\": 0}, {\"column_name\": \"cltname_x\", \"label_for_charts\": \"Exact match\", \"sql_condition\": \"\\\"cltname_x_l\\\" = \\\"cltname_x_r\\\"\", \"log2_bayes_factor\": 13.952408253252116, \"bayes_factor\": 15852.340638611924, \"comparison_vector_value\": 2, \"m_probability\": 0.9411479160331413, \"u_probability\": 5.936965004024484e-05, \"bayes_factor_description\": \"If comparison level is `exact match` then comparison is 15,852.34 times more likely to be a match\", \"value_l\": \"mogeni tea factory\", \"value_r\": \"mogeni tea factory\", \"term_frequency_adjustment\": false, \"bar_sort_order\": 1, \"record_number\": 0}, {\"column_name\": \"ClientPinNumber\", \"label_for_charts\": \"All other comparisons\", \"sql_condition\": \"ELSE\", \"log2_bayes_factor\": -3.7903239310019843, \"bayes_factor\": 0.07227678123186622, \"comparison_vector_value\": 0, \"m_probability\": 0.07181048843527471, \"u_probability\": 0.9935485118644724, \"bayes_factor_description\": \"If comparison level is `all other comparisons` then comparison is  13.84 times less likely to be a match\", \"value_l\": \"A000093952N\", \"value_r\": \"P051345509A\", \"term_frequency_adjustment\": false, \"bar_sort_order\": 2, \"record_number\": 0}, {\"column_name\": \"PolPcId\", \"label_for_charts\": \"All other comparisons\", \"sql_condition\": \"ELSE\", \"log2_bayes_factor\": -0.31404869127966734, \"bayes_factor\": 0.8043812224379736, \"comparison_vector_value\": 0, \"m_probability\": 0.8043679134357035, \"u_probability\": 0.9999834543598248, \"bayes_factor_description\": \"If comparison level is `all other comparisons` then comparison is  1.24 times less likely to be a match\", \"value_l\": \"1187325\", \"value_r\": \"1244015\", \"term_frequency_adjustment\": false, \"bar_sort_order\": 3, \"record_number\": 0}, {\"column_name\": \"OriginalAttachmentDate\", \"label_for_charts\": \"All other comparisons\", \"sql_condition\": \"ELSE\", \"log2_bayes_factor\": -0.6530927540853123, \"bayes_factor\": 0.6359156176226046, \"comparison_vector_value\": 0, \"m_probability\": 0.6352446833433667, \"u_probability\": 0.9989449319050439, \"bayes_factor_description\": \"If comparison level is `all other comparisons` then comparison is  1.57 times less likely to be a match\", \"value_l\": \"10/05/2018\", \"value_r\": \"04/02/2021\", \"term_frequency_adjustment\": false, \"bar_sort_order\": 4, \"record_number\": 0}, {\"column_name\": \"tf_OriginalAttachmentDate\", \"label_for_charts\": \"All other comparisons\", \"sql_condition\": \"ELSE\", \"log2_bayes_factor\": 0.0, \"bayes_factor\": 1.0, \"comparison_vector_value\": 0, \"m_probability\": 0.6352446833433667, \"u_probability\": 0.9989449319050439, \"bayes_factor_description\": \"If comparison level is `all other comparisons` then comparison is  1.57 times less likely to be a match\", \"value_l\": \"\", \"value_r\": \"\", \"term_frequency_adjustment\": true, \"bar_sort_order\": 5, \"record_number\": 0}, {\"column_name\": \"BranchName_x\", \"label_for_charts\": \"Exact match\", \"sql_condition\": \"\\\"BranchName_x_l\\\" = \\\"BranchName_x_r\\\"\", \"log2_bayes_factor\": 1.6862855452333034, \"bayes_factor\": 3.2182703964958987, \"comparison_vector_value\": 1, \"m_probability\": 0.999433829189739, \"u_probability\": 0.3105499868121515, \"bayes_factor_description\": \"If comparison level is `exact match` then comparison is 3.22 times more likely to be a match\", \"value_l\": \"kisumu\", \"value_r\": \"kisumu\", \"term_frequency_adjustment\": false, \"bar_sort_order\": 6, \"record_number\": 0}, {\"column_name\": \"tf_BranchName_x\", \"label_for_charts\": \"Term freq adjustment on BranchName_x with weight {cl.tf_adjustment_weight}\", \"sql_condition\": \"\\\"BranchName_x_l\\\" = \\\"BranchName_x_r\\\"\", \"log2_bayes_factor\": 4.175412292491602, \"bayes_factor\": 18.06859337051563, \"comparison_vector_value\": 1, \"m_probability\": null, \"u_probability\": null, \"bayes_factor_description\": \"Term frequency adjustment on BranchName_x makes comparison 18.07 times more likely to be a match\", \"value_l\": \"kisumu\", \"value_r\": \"kisumu\", \"term_frequency_adjustment\": true, \"bar_sort_order\": 7, \"record_number\": 0}, {\"column_name\": \"Final score\", \"label_for_charts\": \"Final score\", \"sql_condition\": null, \"log2_bayes_factor\": 7.0966387825419766, \"bayes_factor\": 136.86775443998363, \"comparison_vector_value\": null, \"m_probability\": null, \"u_probability\": null, \"bayes_factor_description\": null, \"value_l\": \"\", \"value_r\": \"\", \"term_frequency_adjustment\": null, \"bar_sort_order\": 8, \"record_number\": 0}, {\"column_name\": \"Prior\", \"label_for_charts\": \"Starting match weight (prior)\", \"sql_condition\": null, \"log2_bayes_factor\": -7.960001932068081, \"bayes_factor\": 0.004016064257028113, \"comparison_vector_value\": null, \"m_probability\": null, \"u_probability\": null, \"bayes_factor_description\": null, \"value_l\": \"\", \"value_r\": \"\", \"term_frequency_adjustment\": null, \"bar_sort_order\": 0, \"record_number\": 1}, {\"column_name\": \"cltname_x\", \"label_for_charts\": \"Exact match\", \"sql_condition\": \"\\\"cltname_x_l\\\" = \\\"cltname_x_r\\\"\", \"log2_bayes_factor\": 13.952408253252116, \"bayes_factor\": 15852.340638611924, \"comparison_vector_value\": 2, \"m_probability\": 0.9411479160331413, \"u_probability\": 5.936965004024484e-05, \"bayes_factor_description\": \"If comparison level is `exact match` then comparison is 15,852.34 times more likely to be a match\", \"value_l\": \"makarim limited\", \"value_r\": \"makarim limited\", \"term_frequency_adjustment\": false, \"bar_sort_order\": 1, \"record_number\": 1}, {\"column_name\": \"ClientPinNumber\", \"label_for_charts\": \"Null\", \"sql_condition\": \"\\\"ClientPinNumber_l\\\" IS NULL OR \\\"ClientPinNumber_r\\\" IS NULL\", \"log2_bayes_factor\": 0.0, \"bayes_factor\": 1.0, \"comparison_vector_value\": -1, \"m_probability\": null, \"u_probability\": null, \"bayes_factor_description\": \"If comparison level is `null` then comparison is 1.00 times more likely to be a match\", \"value_l\": \"P0512548421A\", \"value_r\": \"nan\", \"term_frequency_adjustment\": false, \"bar_sort_order\": 2, \"record_number\": 1}, {\"column_name\": \"PolPcId\", \"label_for_charts\": \"All other comparisons\", \"sql_condition\": \"ELSE\", \"log2_bayes_factor\": -0.31404869127966734, \"bayes_factor\": 0.8043812224379736, \"comparison_vector_value\": 0, \"m_probability\": 0.8043679134357035, \"u_probability\": 0.9999834543598248, \"bayes_factor_description\": \"If comparison level is `all other comparisons` then comparison is  1.24 times less likely to be a match\", \"value_l\": \"1107145\", \"value_r\": \"1095259\", \"term_frequency_adjustment\": false, \"bar_sort_order\": 3, \"record_number\": 1}, {\"column_name\": \"OriginalAttachmentDate\", \"label_for_charts\": \"All other comparisons\", \"sql_condition\": \"ELSE\", \"log2_bayes_factor\": -0.6530927540853123, \"bayes_factor\": 0.6359156176226046, \"comparison_vector_value\": 0, \"m_probability\": 0.6352446833433667, \"u_probability\": 0.9989449319050439, \"bayes_factor_description\": \"If comparison level is `all other comparisons` then comparison is  1.57 times less likely to be a match\", \"value_l\": \"29/05/2013\", \"value_r\": \"12/07/2012\", \"term_frequency_adjustment\": false, \"bar_sort_order\": 4, \"record_number\": 1}, {\"column_name\": \"tf_OriginalAttachmentDate\", \"label_for_charts\": \"All other comparisons\", \"sql_condition\": \"ELSE\", \"log2_bayes_factor\": 0.0, \"bayes_factor\": 1.0, \"comparison_vector_value\": 0, \"m_probability\": 0.6352446833433667, \"u_probability\": 0.9989449319050439, \"bayes_factor_description\": \"If comparison level is `all other comparisons` then comparison is  1.57 times less likely to be a match\", \"value_l\": \"\", \"value_r\": \"\", \"term_frequency_adjustment\": true, \"bar_sort_order\": 5, \"record_number\": 1}, {\"column_name\": \"BranchName_x\", \"label_for_charts\": \"Exact match\", \"sql_condition\": \"\\\"BranchName_x_l\\\" = \\\"BranchName_x_r\\\"\", \"log2_bayes_factor\": 1.6862855452333034, \"bayes_factor\": 3.2182703964958987, \"comparison_vector_value\": 1, \"m_probability\": 0.999433829189739, \"u_probability\": 0.3105499868121515, \"bayes_factor_description\": \"If comparison level is `exact match` then comparison is 3.22 times more likely to be a match\", \"value_l\": \"williamson house\", \"value_r\": \"williamson house\", \"term_frequency_adjustment\": false, \"bar_sort_order\": 6, \"record_number\": 1}, {\"column_name\": \"tf_BranchName_x\", \"label_for_charts\": \"Term freq adjustment on BranchName_x with weight {cl.tf_adjustment_weight}\", \"sql_condition\": \"\\\"BranchName_x_l\\\" = \\\"BranchName_x_r\\\"\", \"log2_bayes_factor\": 1.3743983042796026, \"bayes_factor\": 2.592597605460115, \"comparison_vector_value\": 1, \"m_probability\": null, \"u_probability\": null, \"bayes_factor_description\": \"Term frequency adjustment on BranchName_x makes comparison 2.59 times more likely to be a match\", \"value_l\": \"williamson house\", \"value_r\": \"williamson house\", \"term_frequency_adjustment\": true, \"bar_sort_order\": 7, \"record_number\": 1}, {\"column_name\": \"Final score\", \"label_for_charts\": \"Final score\", \"sql_condition\": null, \"log2_bayes_factor\": 8.085948725331962, \"bayes_factor\": 271.71468433739847, \"comparison_vector_value\": null, \"m_probability\": null, \"u_probability\": null, \"bayes_factor_description\": null, \"value_l\": \"\", \"value_r\": \"\", \"term_frequency_adjustment\": null, \"bar_sort_order\": 8, \"record_number\": 1}, {\"column_name\": \"Prior\", \"label_for_charts\": \"Starting match weight (prior)\", \"sql_condition\": null, \"log2_bayes_factor\": -7.960001932068081, \"bayes_factor\": 0.004016064257028113, \"comparison_vector_value\": null, \"m_probability\": null, \"u_probability\": null, \"bayes_factor_description\": null, \"value_l\": \"\", \"value_r\": \"\", \"term_frequency_adjustment\": null, \"bar_sort_order\": 0, \"record_number\": 2}, {\"column_name\": \"cltname_x\", \"label_for_charts\": \"Exact match\", \"sql_condition\": \"\\\"cltname_x_l\\\" = \\\"cltname_x_r\\\"\", \"log2_bayes_factor\": 13.952408253252116, \"bayes_factor\": 15852.340638611924, \"comparison_vector_value\": 2, \"m_probability\": 0.9411479160331413, \"u_probability\": 5.936965004024484e-05, \"bayes_factor_description\": \"If comparison level is `exact match` then comparison is 15,852.34 times more likely to be a match\", \"value_l\": \"wahome moses j n\", \"value_r\": \"wahome moses j n\", \"term_frequency_adjustment\": false, \"bar_sort_order\": 1, \"record_number\": 2}, {\"column_name\": \"ClientPinNumber\", \"label_for_charts\": \"Exact match\", \"sql_condition\": \"\\\"ClientPinNumber_l\\\" = \\\"ClientPinNumber_r\\\"\", \"log2_bayes_factor\": 7.168643606237589, \"bayes_factor\": 143.872156635193, \"comparison_vector_value\": 1, \"m_probability\": 0.9281895115647253, \"u_probability\": 0.006451488135527665, \"bayes_factor_description\": \"If comparison level is `exact match` then comparison is 143.87 times more likely to be a match\", \"value_l\": \"A001114797F\", \"value_r\": \"A001114797F\", \"term_frequency_adjustment\": false, \"bar_sort_order\": 2, \"record_number\": 2}, {\"column_name\": \"PolPcId\", \"label_for_charts\": \"Exact match\", \"sql_condition\": \"\\\"PolPcId_l\\\" = \\\"PolPcId_r\\\"\", \"log2_bayes_factor\": 13.529404279911825, \"bayes_factor\": 11823.784664319925, \"comparison_vector_value\": 1, \"m_probability\": 0.19563208656429656, \"u_probability\": 1.65456401751502e-05, \"bayes_factor_description\": \"If comparison level is `exact match` then comparison is 11,823.78 times more likely to be a match\", \"value_l\": \"14690\", \"value_r\": \"14690\", \"term_frequency_adjustment\": false, \"bar_sort_order\": 3, \"record_number\": 2}, {\"column_name\": \"OriginalAttachmentDate\", \"label_for_charts\": \"Exact match\", \"sql_condition\": \"\\\"OriginalAttachmentDate_l\\\" = \\\"OriginalAttachmentDate_r\\\"\", \"log2_bayes_factor\": 8.433449082074345, \"bayes_factor\": 345.7173223229732, \"comparison_vector_value\": 1, \"m_probability\": 0.3647553166566332, \"u_probability\": 0.0010550680949561286, \"bayes_factor_description\": \"If comparison level is `exact match` then comparison is 345.72 times more likely to be a match\", \"value_l\": \"12/05/2010\", \"value_r\": \"12/05/2010\", \"term_frequency_adjustment\": false, \"bar_sort_order\": 4, \"record_number\": 2}, {\"column_name\": \"tf_OriginalAttachmentDate\", \"label_for_charts\": \"Term freq adjustment on OriginalAttachmentDate with weight {cl.tf_adjustment_weight}\", \"sql_condition\": \"\\\"OriginalAttachmentDate_l\\\" = \\\"OriginalAttachmentDate_r\\\"\", \"log2_bayes_factor\": 2.643436846156, \"bayes_factor\": 6.248183596203191, \"comparison_vector_value\": 1, \"m_probability\": null, \"u_probability\": null, \"bayes_factor_description\": \"Term frequency adjustment on OriginalAttachmentDate makes comparison 6.25 times more likely to be a match\", \"value_l\": \"12/05/2010\", \"value_r\": \"12/05/2010\", \"term_frequency_adjustment\": true, \"bar_sort_order\": 5, \"record_number\": 2}, {\"column_name\": \"BranchName_x\", \"label_for_charts\": \"Exact match\", \"sql_condition\": \"\\\"BranchName_x_l\\\" = \\\"BranchName_x_r\\\"\", \"log2_bayes_factor\": 1.6862855452333034, \"bayes_factor\": 3.2182703964958987, \"comparison_vector_value\": 1, \"m_probability\": 0.999433829189739, \"u_probability\": 0.3105499868121515, \"bayes_factor_description\": \"If comparison level is `exact match` then comparison is 3.22 times more likely to be a match\", \"value_l\": \"williamson house\", \"value_r\": \"williamson house\", \"term_frequency_adjustment\": false, \"bar_sort_order\": 6, \"record_number\": 2}, {\"column_name\": \"tf_BranchName_x\", \"label_for_charts\": \"Term freq adjustment on BranchName_x with weight {cl.tf_adjustment_weight}\", \"sql_condition\": \"\\\"BranchName_x_l\\\" = \\\"BranchName_x_r\\\"\", \"log2_bayes_factor\": 1.3743983042796026, \"bayes_factor\": 2.592597605460115, \"comparison_vector_value\": 1, \"m_probability\": null, \"u_probability\": null, \"bayes_factor_description\": \"Term frequency adjustment on BranchName_x makes comparison 2.59 times more likely to be a match\", \"value_l\": \"williamson house\", \"value_r\": \"williamson house\", \"term_frequency_adjustment\": true, \"bar_sort_order\": 7, \"record_number\": 2}, {\"column_name\": \"Final score\", \"label_for_charts\": \"Final score\", \"sql_condition\": null, \"log2_bayes_factor\": 40.828023985076705, \"bayes_factor\": 1951910423155.8025, \"comparison_vector_value\": null, \"m_probability\": null, \"u_probability\": null, \"bayes_factor_description\": null, \"value_l\": \"\", \"value_r\": \"\", \"term_frequency_adjustment\": null, \"bar_sort_order\": 8, \"record_number\": 2}, {\"column_name\": \"Prior\", \"label_for_charts\": \"Starting match weight (prior)\", \"sql_condition\": null, \"log2_bayes_factor\": -7.960001932068081, \"bayes_factor\": 0.004016064257028113, \"comparison_vector_value\": null, \"m_probability\": null, \"u_probability\": null, \"bayes_factor_description\": null, \"value_l\": \"\", \"value_r\": \"\", \"term_frequency_adjustment\": null, \"bar_sort_order\": 0, \"record_number\": 3}, {\"column_name\": \"cltname_x\", \"label_for_charts\": \"Exact match\", \"sql_condition\": \"\\\"cltname_x_l\\\" = \\\"cltname_x_r\\\"\", \"log2_bayes_factor\": 13.952408253252116, \"bayes_factor\": 15852.340638611924, \"comparison_vector_value\": 2, \"m_probability\": 0.9411479160331413, \"u_probability\": 5.936965004024484e-05, \"bayes_factor_description\": \"If comparison level is `exact match` then comparison is 15,852.34 times more likely to be a match\", \"value_l\": \"nic bank ltd - loan vehicles\", \"value_r\": \"nic bank ltd - loan vehicles\", \"term_frequency_adjustment\": false, \"bar_sort_order\": 1, \"record_number\": 3}, {\"column_name\": \"ClientPinNumber\", \"label_for_charts\": \"Exact match\", \"sql_condition\": \"\\\"ClientPinNumber_l\\\" = \\\"ClientPinNumber_r\\\"\", \"log2_bayes_factor\": 7.168643606237589, \"bayes_factor\": 143.872156635193, \"comparison_vector_value\": 1, \"m_probability\": 0.9281895115647253, \"u_probability\": 0.006451488135527665, \"bayes_factor_description\": \"If comparison level is `exact match` then comparison is 143.87 times more likely to be a match\", \"value_l\": \"P000595273F\", \"value_r\": \"P000595273F\", \"term_frequency_adjustment\": false, \"bar_sort_order\": 2, \"record_number\": 3}, {\"column_name\": \"PolPcId\", \"label_for_charts\": \"All other comparisons\", \"sql_condition\": \"ELSE\", \"log2_bayes_factor\": -0.31404869127966734, \"bayes_factor\": 0.8043812224379736, \"comparison_vector_value\": 0, \"m_probability\": 0.8043679134357035, \"u_probability\": 0.9999834543598248, \"bayes_factor_description\": \"If comparison level is `all other comparisons` then comparison is  1.24 times less likely to be a match\", \"value_l\": \"1179994\", \"value_r\": \"1224345\", \"term_frequency_adjustment\": false, \"bar_sort_order\": 3, \"record_number\": 3}, {\"column_name\": \"OriginalAttachmentDate\", \"label_for_charts\": \"All other comparisons\", \"sql_condition\": \"ELSE\", \"log2_bayes_factor\": -0.6530927540853123, \"bayes_factor\": 0.6359156176226046, \"comparison_vector_value\": 0, \"m_probability\": 0.6352446833433667, \"u_probability\": 0.9989449319050439, \"bayes_factor_description\": \"If comparison level is `all other comparisons` then comparison is  1.57 times less likely to be a match\", \"value_l\": \"07/08/2017\", \"value_r\": \"02/10/2019\", \"term_frequency_adjustment\": false, \"bar_sort_order\": 4, \"record_number\": 3}, {\"column_name\": \"tf_OriginalAttachmentDate\", \"label_for_charts\": \"All other comparisons\", \"sql_condition\": \"ELSE\", \"log2_bayes_factor\": 0.0, \"bayes_factor\": 1.0, \"comparison_vector_value\": 0, \"m_probability\": 0.6352446833433667, \"u_probability\": 0.9989449319050439, \"bayes_factor_description\": \"If comparison level is `all other comparisons` then comparison is  1.57 times less likely to be a match\", \"value_l\": \"\", \"value_r\": \"\", \"term_frequency_adjustment\": true, \"bar_sort_order\": 5, \"record_number\": 3}, {\"column_name\": \"BranchName_x\", \"label_for_charts\": \"Exact match\", \"sql_condition\": \"\\\"BranchName_x_l\\\" = \\\"BranchName_x_r\\\"\", \"log2_bayes_factor\": 1.6862855452333034, \"bayes_factor\": 3.2182703964958987, \"comparison_vector_value\": 1, \"m_probability\": 0.999433829189739, \"u_probability\": 0.3105499868121515, \"bayes_factor_description\": \"If comparison level is `exact match` then comparison is 3.22 times more likely to be a match\", \"value_l\": \"nic business\", \"value_r\": \"nic business\", \"term_frequency_adjustment\": false, \"bar_sort_order\": 6, \"record_number\": 3}, {\"column_name\": \"tf_BranchName_x\", \"label_for_charts\": \"Term freq adjustment on BranchName_x with weight {cl.tf_adjustment_weight}\", \"sql_condition\": \"\\\"BranchName_x_l\\\" = \\\"BranchName_x_r\\\"\", \"log2_bayes_factor\": 3.615000829576288, \"bayes_factor\": 12.252471022150118, \"comparison_vector_value\": 1, \"m_probability\": null, \"u_probability\": null, \"bayes_factor_description\": \"Term frequency adjustment on BranchName_x makes comparison 12.25 times more likely to be a match\", \"value_l\": \"nic business\", \"value_r\": \"nic business\", \"term_frequency_adjustment\": true, \"bar_sort_order\": 7, \"record_number\": 3}, {\"column_name\": \"Final score\", \"label_for_charts\": \"Final score\", \"sql_condition\": null, \"log2_bayes_factor\": 17.495194856866235, \"bayes_factor\": 184747.44115137638, \"comparison_vector_value\": null, \"m_probability\": null, \"u_probability\": null, \"bayes_factor_description\": null, \"value_l\": \"\", \"value_r\": \"\", \"term_frequency_adjustment\": null, \"bar_sort_order\": 8, \"record_number\": 3}, {\"column_name\": \"Prior\", \"label_for_charts\": \"Starting match weight (prior)\", \"sql_condition\": null, \"log2_bayes_factor\": -7.960001932068081, \"bayes_factor\": 0.004016064257028113, \"comparison_vector_value\": null, \"m_probability\": null, \"u_probability\": null, \"bayes_factor_description\": null, \"value_l\": \"\", \"value_r\": \"\", \"term_frequency_adjustment\": null, \"bar_sort_order\": 0, \"record_number\": 4}, {\"column_name\": \"cltname_x\", \"label_for_charts\": \"Exact match\", \"sql_condition\": \"\\\"cltname_x_l\\\" = \\\"cltname_x_r\\\"\", \"log2_bayes_factor\": 13.952408253252116, \"bayes_factor\": 15852.340638611924, \"comparison_vector_value\": 2, \"m_probability\": 0.9411479160331413, \"u_probability\": 5.936965004024484e-05, \"bayes_factor_description\": \"If comparison level is `exact match` then comparison is 15,852.34 times more likely to be a match\", \"value_l\": \"gal baking limited\", \"value_r\": \"gal baking limited\", \"term_frequency_adjustment\": false, \"bar_sort_order\": 1, \"record_number\": 4}, {\"column_name\": \"ClientPinNumber\", \"label_for_charts\": \"Exact match\", \"sql_condition\": \"\\\"ClientPinNumber_l\\\" = \\\"ClientPinNumber_r\\\"\", \"log2_bayes_factor\": 7.168643606237589, \"bayes_factor\": 143.872156635193, \"comparison_vector_value\": 1, \"m_probability\": 0.9281895115647253, \"u_probability\": 0.006451488135527665, \"bayes_factor_description\": \"If comparison level is `exact match` then comparison is 143.87 times more likely to be a match\", \"value_l\": \"A003168213F\", \"value_r\": \"A003168213F\", \"term_frequency_adjustment\": false, \"bar_sort_order\": 2, \"record_number\": 4}, {\"column_name\": \"PolPcId\", \"label_for_charts\": \"All other comparisons\", \"sql_condition\": \"ELSE\", \"log2_bayes_factor\": -0.31404869127966734, \"bayes_factor\": 0.8043812224379736, \"comparison_vector_value\": 0, \"m_probability\": 0.8043679134357035, \"u_probability\": 0.9999834543598248, \"bayes_factor_description\": \"If comparison level is `all other comparisons` then comparison is  1.24 times less likely to be a match\", \"value_l\": \"1172545\", \"value_r\": \"1169535\", \"term_frequency_adjustment\": false, \"bar_sort_order\": 3, \"record_number\": 4}, {\"column_name\": \"OriginalAttachmentDate\", \"label_for_charts\": \"All other comparisons\", \"sql_condition\": \"ELSE\", \"log2_bayes_factor\": -0.6530927540853123, \"bayes_factor\": 0.6359156176226046, \"comparison_vector_value\": 0, \"m_probability\": 0.6352446833433667, \"u_probability\": 0.9989449319050439, \"bayes_factor_description\": \"If comparison level is `all other comparisons` then comparison is  1.57 times less likely to be a match\", \"value_l\": \"15/05/2017\", \"value_r\": \"10/03/2017\", \"term_frequency_adjustment\": false, \"bar_sort_order\": 4, \"record_number\": 4}, {\"column_name\": \"tf_OriginalAttachmentDate\", \"label_for_charts\": \"All other comparisons\", \"sql_condition\": \"ELSE\", \"log2_bayes_factor\": 0.0, \"bayes_factor\": 1.0, \"comparison_vector_value\": 0, \"m_probability\": 0.6352446833433667, \"u_probability\": 0.9989449319050439, \"bayes_factor_description\": \"If comparison level is `all other comparisons` then comparison is  1.57 times less likely to be a match\", \"value_l\": \"\", \"value_r\": \"\", \"term_frequency_adjustment\": true, \"bar_sort_order\": 5, \"record_number\": 4}, {\"column_name\": \"BranchName_x\", \"label_for_charts\": \"Exact match\", \"sql_condition\": \"\\\"BranchName_x_l\\\" = \\\"BranchName_x_r\\\"\", \"log2_bayes_factor\": 1.6862855452333034, \"bayes_factor\": 3.2182703964958987, \"comparison_vector_value\": 1, \"m_probability\": 0.999433829189739, \"u_probability\": 0.3105499868121515, \"bayes_factor_description\": \"If comparison level is `exact match` then comparison is 3.22 times more likely to be a match\", \"value_l\": \"meru\", \"value_r\": \"meru\", \"term_frequency_adjustment\": false, \"bar_sort_order\": 6, \"record_number\": 4}, {\"column_name\": \"tf_BranchName_x\", \"label_for_charts\": \"Term freq adjustment on BranchName_x with weight {cl.tf_adjustment_weight}\", \"sql_condition\": \"\\\"BranchName_x_l\\\" = \\\"BranchName_x_r\\\"\", \"log2_bayes_factor\": 4.906265759043632, \"bayes_factor\": 29.98700970217824, \"comparison_vector_value\": 1, \"m_probability\": null, \"u_probability\": null, \"bayes_factor_description\": \"Term frequency adjustment on BranchName_x makes comparison 29.99 times more likely to be a match\", \"value_l\": \"meru\", \"value_r\": \"meru\", \"term_frequency_adjustment\": true, \"bar_sort_order\": 7, \"record_number\": 4}, {\"column_name\": \"Final score\", \"label_for_charts\": \"Final score\", \"sql_condition\": null, \"log2_bayes_factor\": 18.78645978633358, \"bayes_factor\": 452155.5937772581, \"comparison_vector_value\": null, \"m_probability\": null, \"u_probability\": null, \"bayes_factor_description\": null, \"value_l\": \"\", \"value_r\": \"\", \"term_frequency_adjustment\": null, \"bar_sort_order\": 8, \"record_number\": 4}]}}, {\"mode\": \"vega-lite\"});\n",
              "</script>"
            ],
            "text/plain": [
              "alt.LayerChart(...)"
            ]
          },
          "metadata": {},
          "execution_count": 28
        }
      ],
      "source": [
        "records_to_view  = df_predictions.as_record_dict(limit=5)\n",
        "linker.waterfall_chart(records_to_view, filter_nulls=False)"
      ]
    },
    {
      "cell_type": "code",
      "source": [
        "clusters = linker.cluster_pairwise_predictions_at_threshold(df_predictions, threshold_match_probability=0.95)"
      ],
      "metadata": {
        "colab": {
          "base_uri": "https://localhost:8080/",
          "height": 416,
          "referenced_widgets": [
            "165ce652d1234eba8b07a36f6622a34e",
            "4ac4ae22302f467bb76409b96ba96e2b",
            "d99e47a00b23465db12d957dcf22265a"
          ]
        },
        "id": "osqtjNe7Qw5t",
        "outputId": "0ac1ed23-9a75-4d97-dfb3-18a606f135c3"
      },
      "execution_count": 29,
      "outputs": [
        {
          "output_type": "stream",
          "name": "stderr",
          "text": [
            "/usr/local/lib/python3.10/dist-packages/ipykernel/ipkernel.py:283: DeprecationWarning: `should_run_async` will not call `transform_cell` automatically in the future. Please pass the result to `transformed_cell` argument and any exception that happen during thetransform in `preprocessing_exc_tuple` in IPython 7.17 and above.\n",
            "  and should_run_async(code)\n"
          ]
        },
        {
          "output_type": "display_data",
          "data": {
            "text/plain": [
              "FloatProgress(value=0.0, layout=Layout(width='auto'), style=ProgressStyle(bar_color='black'))"
            ],
            "application/vnd.jupyter.widget-view+json": {
              "version_major": 2,
              "version_minor": 0,
              "model_id": "165ce652d1234eba8b07a36f6622a34e"
            }
          },
          "metadata": {}
        },
        {
          "output_type": "stream",
          "name": "stderr",
          "text": [
            "INFO:splink.connected_components:Completed iteration 1, root rows count 11657\n",
            "INFO:splink.connected_components:Completed iteration 2, root rows count 7987\n",
            "INFO:splink.connected_components:Completed iteration 3, root rows count 6272\n",
            "INFO:splink.connected_components:Completed iteration 4, root rows count 5895\n",
            "INFO:splink.connected_components:Completed iteration 5, root rows count 5186\n",
            "INFO:splink.connected_components:Completed iteration 6, root rows count 3818\n",
            "INFO:splink.connected_components:Completed iteration 7, root rows count 3003\n",
            "INFO:splink.connected_components:Completed iteration 8, root rows count 1281\n",
            "INFO:splink.connected_components:Completed iteration 9, root rows count 1049\n",
            "INFO:splink.connected_components:Completed iteration 10, root rows count 718\n",
            "INFO:splink.connected_components:Completed iteration 11, root rows count 543\n",
            "INFO:splink.connected_components:Completed iteration 12, root rows count 96\n",
            "INFO:splink.connected_components:Completed iteration 13, root rows count 47\n",
            "INFO:splink.connected_components:Completed iteration 14, root rows count 34\n",
            "INFO:splink.connected_components:Completed iteration 15, root rows count 15\n",
            "INFO:splink.connected_components:Completed iteration 16, root rows count 20\n",
            "INFO:splink.connected_components:Completed iteration 17, root rows count 8\n",
            "INFO:splink.connected_components:Completed iteration 18, root rows count 0\n"
          ]
        }
      ]
    },
    {
      "cell_type": "code",
      "source": [
        "linker.cluster_studio_dashboard(df_predictions, clusters, \"50k_cluster.html\", sampling_method='by_cluster_size', overwrite=True)"
      ],
      "metadata": {
        "colab": {
          "base_uri": "https://localhost:8080/",
          "height": 104,
          "referenced_widgets": [
            "94abae8be72648a791e3eac75e7ad839",
            "51a1b9b252f141c28b09193408727d7c",
            "7f6f01946eb24d75b3b9ef7b54ab4a27"
          ]
        },
        "id": "E1cFZzz4RKku",
        "outputId": "fe3b308d-e4da-4f7c-c00d-a852ae693d4e"
      },
      "execution_count": 31,
      "outputs": [
        {
          "output_type": "stream",
          "name": "stderr",
          "text": [
            "/usr/local/lib/python3.10/dist-packages/ipykernel/ipkernel.py:283: DeprecationWarning: `should_run_async` will not call `transform_cell` automatically in the future. Please pass the result to `transformed_cell` argument and any exception that happen during thetransform in `preprocessing_exc_tuple` in IPython 7.17 and above.\n",
            "  and should_run_async(code)\n"
          ]
        },
        {
          "output_type": "display_data",
          "data": {
            "text/plain": [
              "FloatProgress(value=0.0, layout=Layout(width='auto'), style=ProgressStyle(bar_color='black'))"
            ],
            "application/vnd.jupyter.widget-view+json": {
              "version_major": 2,
              "version_minor": 0,
              "model_id": "94abae8be72648a791e3eac75e7ad839"
            }
          },
          "metadata": {}
        }
      ]
    },
    {
      "cell_type": "code",
      "execution_count": null,
      "metadata": {
        "colab": {
          "base_uri": "https://localhost:8080/"
        },
        "id": "1nAcAA8XpS4e",
        "outputId": "3cc38561-7a81-419b-f499-038b014df0b0"
      },
      "outputs": [
        {
          "name": "stderr",
          "output_type": "stream",
          "text": [
            "/usr/local/lib/python3.10/dist-packages/ipykernel/ipkernel.py:283: DeprecationWarning: `should_run_async` will not call `transform_cell` automatically in the future. Please pass the result to `transformed_cell` argument and any exception that happen during thetransform in `preprocessing_exc_tuple` in IPython 7.17 and above.\n",
            "  and should_run_async(code)\n"
          ]
        },
        {
          "name": "stdout",
          "output_type": "stream",
          "text": [
            "1872057\n"
          ]
        }
      ],
      "source": [
        "import recordlinkage\n",
        "\n",
        "dfA = Actuarial_claims_unique_id\n",
        "\n",
        "# Indexation step\n",
        "indexer = recordlinkage.Index()\n",
        "indexer.block(left_on=\"cltname_x\")\n",
        "candidate_links = indexer.index(dfA)\n",
        "\n",
        "# Comparison step\n",
        "compare_cl = recordlinkage.Compare()\n",
        "\n",
        "compare_cl.exact(\"ClientPinNumber\", \"ClientPinNumber\", label=\"ClientPinNumber\")\n",
        "compare_cl.string(\"cltname_x\", \"cltname_x\", method=\"jarowinkler\", threshold=0.85, label=\"cltname_x\")\n",
        "compare_cl.exact(\"OriginalAttachmentDate\", \"OriginalAttachmentDate\", label=\"OriginalAttachmentDate\")\n",
        "compare_cl.exact(\"Department\", \"Department\", label=\"Department\")\n",
        "compare_cl.exact(\"polref\", \"polref\", label=\"polref\")\n",
        "compare_cl.string(\"BranchName_x\", \"BranchName_x\", threshold=0.85, label=\"BranchName_x\")\n",
        "\n",
        "features = compare_cl.compute(candidate_links, dfA)\n",
        "\n",
        "# Classification step\n",
        "matches = features[features.sum(axis=1) > 3]\n",
        "print(len(matches))"
      ]
    },
    {
      "cell_type": "code",
      "execution_count": null,
      "metadata": {
        "colab": {
          "base_uri": "https://localhost:8080/"
        },
        "id": "mjsCQze3rzL4",
        "outputId": "4bfdd26c-9249-477d-cb02-ffff7b6018bb"
      },
      "outputs": [
        {
          "name": "stderr",
          "output_type": "stream",
          "text": [
            "/usr/local/lib/python3.10/dist-packages/ipykernel/ipkernel.py:283: DeprecationWarning: `should_run_async` will not call `transform_cell` automatically in the future. Please pass the result to `transformed_cell` argument and any exception that happen during thetransform in `preprocessing_exc_tuple` in IPython 7.17 and above.\n",
            "  and should_run_async(code)\n",
            "<ipython-input-60-13801593053b>:1: SettingWithCopyWarning: \n",
            "A value is trying to be set on a copy of a slice from a DataFrame.\n",
            "Try using .loc[row_indexer,col_indexer] = value instead\n",
            "\n",
            "See the caveats in the documentation: https://pandas.pydata.org/pandas-docs/stable/user_guide/indexing.html#returning-a-view-versus-a-copy\n",
            "  Actuarial_claims_unique_id[\"unique_id\"]=Actuarial_claims_unique_id[\"PolPcId\"]\n"
          ]
        }
      ],
      "source": [
        "Actuarial_claims_unique_id[\"unique_id\"]=Actuarial_claims_unique_id[\"PolPcId\"]"
      ]
    },
    {
      "cell_type": "markdown",
      "metadata": {
        "id": "YLykENXhr33w"
      },
      "source": []
    },
    {
      "cell_type": "code",
      "execution_count": null,
      "metadata": {
        "id": "3RfRit6zyJjB"
      },
      "outputs": [],
      "source": []
    }
  ],
  "metadata": {
    "colab": {
      "provenance": [],
      "authorship_tag": "ABX9TyN9tmcKagCdiotFBT4+g9BE",
      "include_colab_link": true
    },
    "kernelspec": {
      "display_name": "Python 3",
      "name": "python3"
    },
    "language_info": {
      "name": "python"
    },
    "widgets": {
      "application/vnd.jupyter.widget-state+json": {
        "086cb8ecdd064e0c89ce3982d51cdd9f": {
          "model_module": "@jupyter-widgets/controls",
          "model_module_version": "1.5.0",
          "model_name": "FloatProgressModel",
          "state": {
            "_dom_classes": [],
            "_model_module": "@jupyter-widgets/controls",
            "_model_module_version": "1.5.0",
            "_model_name": "FloatProgressModel",
            "_view_count": null,
            "_view_module": "@jupyter-widgets/controls",
            "_view_module_version": "1.5.0",
            "_view_name": "ProgressView",
            "bar_style": "",
            "description": "",
            "description_tooltip": null,
            "layout": "IPY_MODEL_f4eb563af2b24d7eb73906db2189bff4",
            "max": 100,
            "min": 0,
            "orientation": "horizontal",
            "style": "IPY_MODEL_6f1ea44581434b3a82317d9cd9927c79",
            "value": 100
          }
        },
        "0942a3b505b34c89891f83bee308384c": {
          "model_module": "@jupyter-widgets/controls",
          "model_module_version": "1.5.0",
          "model_name": "FloatProgressModel",
          "state": {
            "_dom_classes": [],
            "_model_module": "@jupyter-widgets/controls",
            "_model_module_version": "1.5.0",
            "_model_name": "FloatProgressModel",
            "_view_count": null,
            "_view_module": "@jupyter-widgets/controls",
            "_view_module_version": "1.5.0",
            "_view_name": "ProgressView",
            "bar_style": "",
            "description": "",
            "description_tooltip": null,
            "layout": "IPY_MODEL_f2f3778149b34588bcff917755142b87",
            "max": 100,
            "min": 0,
            "orientation": "horizontal",
            "style": "IPY_MODEL_fe7f195557f74d5f8f7d750c9db07970",
            "value": 100
          }
        },
        "10cb219b95db413aaa39dd15eaa30910": {
          "model_module": "@jupyter-widgets/controls",
          "model_module_version": "1.5.0",
          "model_name": "FloatProgressModel",
          "state": {
            "_dom_classes": [],
            "_model_module": "@jupyter-widgets/controls",
            "_model_module_version": "1.5.0",
            "_model_name": "FloatProgressModel",
            "_view_count": null,
            "_view_module": "@jupyter-widgets/controls",
            "_view_module_version": "1.5.0",
            "_view_name": "ProgressView",
            "bar_style": "",
            "description": "",
            "description_tooltip": null,
            "layout": "IPY_MODEL_613e933cad77454c97894e8b73fb9291",
            "max": 100,
            "min": 0,
            "orientation": "horizontal",
            "style": "IPY_MODEL_58b60ef297c440318df4e644b0d40613",
            "value": 49
          }
        },
        "12fc0ada52d247cba9f6fff6f231a261": {
          "model_module": "@jupyter-widgets/controls",
          "model_module_version": "1.5.0",
          "model_name": "ProgressStyleModel",
          "state": {
            "_model_module": "@jupyter-widgets/controls",
            "_model_module_version": "1.5.0",
            "_model_name": "ProgressStyleModel",
            "_view_count": null,
            "_view_module": "@jupyter-widgets/base",
            "_view_module_version": "1.2.0",
            "_view_name": "StyleView",
            "bar_color": "black",
            "description_width": ""
          }
        },
        "18b9e3ed3345450ead51ba212193b61e": {
          "model_module": "@jupyter-widgets/controls",
          "model_module_version": "1.5.0",
          "model_name": "FloatProgressModel",
          "state": {
            "_dom_classes": [],
            "_model_module": "@jupyter-widgets/controls",
            "_model_module_version": "1.5.0",
            "_model_name": "FloatProgressModel",
            "_view_count": null,
            "_view_module": "@jupyter-widgets/controls",
            "_view_module_version": "1.5.0",
            "_view_name": "ProgressView",
            "bar_style": "",
            "description": "",
            "description_tooltip": null,
            "layout": "IPY_MODEL_91577f2a6b5f4321867b544b3546ed56",
            "max": 100,
            "min": 0,
            "orientation": "horizontal",
            "style": "IPY_MODEL_1c1e23d6cc4c47ac8a9779bd6c008fa2",
            "value": 100
          }
        },
        "1918874319134f8ea94871580db77e8b": {
          "model_module": "@jupyter-widgets/base",
          "model_module_version": "1.2.0",
          "model_name": "LayoutModel",
          "state": {
            "_model_module": "@jupyter-widgets/base",
            "_model_module_version": "1.2.0",
            "_model_name": "LayoutModel",
            "_view_count": null,
            "_view_module": "@jupyter-widgets/base",
            "_view_module_version": "1.2.0",
            "_view_name": "LayoutView",
            "align_content": null,
            "align_items": null,
            "align_self": null,
            "border": null,
            "bottom": null,
            "display": null,
            "flex": null,
            "flex_flow": null,
            "grid_area": null,
            "grid_auto_columns": null,
            "grid_auto_flow": null,
            "grid_auto_rows": null,
            "grid_column": null,
            "grid_gap": null,
            "grid_row": null,
            "grid_template_areas": null,
            "grid_template_columns": null,
            "grid_template_rows": null,
            "height": null,
            "justify_content": null,
            "justify_items": null,
            "left": null,
            "margin": null,
            "max_height": null,
            "max_width": null,
            "min_height": null,
            "min_width": null,
            "object_fit": null,
            "object_position": null,
            "order": null,
            "overflow": null,
            "overflow_x": null,
            "overflow_y": null,
            "padding": null,
            "right": null,
            "top": null,
            "visibility": null,
            "width": "auto"
          }
        },
        "1a26051974074e2bbf57bc7407ab38af": {
          "model_module": "@jupyter-widgets/controls",
          "model_module_version": "1.5.0",
          "model_name": "ProgressStyleModel",
          "state": {
            "_model_module": "@jupyter-widgets/controls",
            "_model_module_version": "1.5.0",
            "_model_name": "ProgressStyleModel",
            "_view_count": null,
            "_view_module": "@jupyter-widgets/base",
            "_view_module_version": "1.2.0",
            "_view_name": "StyleView",
            "bar_color": "black",
            "description_width": ""
          }
        },
        "1c1e23d6cc4c47ac8a9779bd6c008fa2": {
          "model_module": "@jupyter-widgets/controls",
          "model_module_version": "1.5.0",
          "model_name": "ProgressStyleModel",
          "state": {
            "_model_module": "@jupyter-widgets/controls",
            "_model_module_version": "1.5.0",
            "_model_name": "ProgressStyleModel",
            "_view_count": null,
            "_view_module": "@jupyter-widgets/base",
            "_view_module_version": "1.2.0",
            "_view_name": "StyleView",
            "bar_color": "black",
            "description_width": ""
          }
        },
        "203c2f8b294f4a15bfede0394869975c": {
          "model_module": "@jupyter-widgets/controls",
          "model_module_version": "1.5.0",
          "model_name": "FloatProgressModel",
          "state": {
            "_dom_classes": [],
            "_model_module": "@jupyter-widgets/controls",
            "_model_module_version": "1.5.0",
            "_model_name": "FloatProgressModel",
            "_view_count": null,
            "_view_module": "@jupyter-widgets/controls",
            "_view_module_version": "1.5.0",
            "_view_name": "ProgressView",
            "bar_style": "",
            "description": "",
            "description_tooltip": null,
            "layout": "IPY_MODEL_75173c57aaaf41909c4c52ea2b98cb7d",
            "max": 100,
            "min": 0,
            "orientation": "horizontal",
            "style": "IPY_MODEL_a392d75fe5e04b8ba9e4f7b8020b7d33",
            "value": 100
          }
        },
        "291d72f4a6154973a90136b47cddee01": {
          "model_module": "@jupyter-widgets/controls",
          "model_module_version": "1.5.0",
          "model_name": "FloatProgressModel",
          "state": {
            "_dom_classes": [],
            "_model_module": "@jupyter-widgets/controls",
            "_model_module_version": "1.5.0",
            "_model_name": "FloatProgressModel",
            "_view_count": null,
            "_view_module": "@jupyter-widgets/controls",
            "_view_module_version": "1.5.0",
            "_view_name": "ProgressView",
            "bar_style": "",
            "description": "",
            "description_tooltip": null,
            "layout": "IPY_MODEL_e1eb9ec69c024fc5ad05632fc5fb51c6",
            "max": 100,
            "min": 0,
            "orientation": "horizontal",
            "style": "IPY_MODEL_6194df9926ec407b89eb80f98a3eb5f8",
            "value": 100
          }
        },
        "34546645c6874c86927beded91073896": {
          "model_module": "@jupyter-widgets/controls",
          "model_module_version": "1.5.0",
          "model_name": "ProgressStyleModel",
          "state": {
            "_model_module": "@jupyter-widgets/controls",
            "_model_module_version": "1.5.0",
            "_model_name": "ProgressStyleModel",
            "_view_count": null,
            "_view_module": "@jupyter-widgets/base",
            "_view_module_version": "1.2.0",
            "_view_name": "StyleView",
            "bar_color": "black",
            "description_width": ""
          }
        },
        "34e000fda6694b3f9f1d75fd9b9ffab0": {
          "model_module": "@jupyter-widgets/controls",
          "model_module_version": "1.5.0",
          "model_name": "FloatProgressModel",
          "state": {
            "_dom_classes": [],
            "_model_module": "@jupyter-widgets/controls",
            "_model_module_version": "1.5.0",
            "_model_name": "FloatProgressModel",
            "_view_count": null,
            "_view_module": "@jupyter-widgets/controls",
            "_view_module_version": "1.5.0",
            "_view_name": "ProgressView",
            "bar_style": "",
            "description": "",
            "description_tooltip": null,
            "layout": "IPY_MODEL_f0ec5b0961014969bdecda82a660ef47",
            "max": 100,
            "min": 0,
            "orientation": "horizontal",
            "style": "IPY_MODEL_b5c68569b34a4262a3f3e2968be6e7f4",
            "value": 100
          }
        },
        "404b33ca920144f48af5f78d20eb7616": {
          "model_module": "@jupyter-widgets/base",
          "model_module_version": "1.2.0",
          "model_name": "LayoutModel",
          "state": {
            "_model_module": "@jupyter-widgets/base",
            "_model_module_version": "1.2.0",
            "_model_name": "LayoutModel",
            "_view_count": null,
            "_view_module": "@jupyter-widgets/base",
            "_view_module_version": "1.2.0",
            "_view_name": "LayoutView",
            "align_content": null,
            "align_items": null,
            "align_self": null,
            "border": null,
            "bottom": null,
            "display": null,
            "flex": null,
            "flex_flow": null,
            "grid_area": null,
            "grid_auto_columns": null,
            "grid_auto_flow": null,
            "grid_auto_rows": null,
            "grid_column": null,
            "grid_gap": null,
            "grid_row": null,
            "grid_template_areas": null,
            "grid_template_columns": null,
            "grid_template_rows": null,
            "height": null,
            "justify_content": null,
            "justify_items": null,
            "left": null,
            "margin": null,
            "max_height": null,
            "max_width": null,
            "min_height": null,
            "min_width": null,
            "object_fit": null,
            "object_position": null,
            "order": null,
            "overflow": null,
            "overflow_x": null,
            "overflow_y": null,
            "padding": null,
            "right": null,
            "top": null,
            "visibility": null,
            "width": "auto"
          }
        },
        "492f91b15a374a3ca4f38a27041b158b": {
          "model_module": "@jupyter-widgets/controls",
          "model_module_version": "1.5.0",
          "model_name": "FloatProgressModel",
          "state": {
            "_dom_classes": [],
            "_model_module": "@jupyter-widgets/controls",
            "_model_module_version": "1.5.0",
            "_model_name": "FloatProgressModel",
            "_view_count": null,
            "_view_module": "@jupyter-widgets/controls",
            "_view_module_version": "1.5.0",
            "_view_name": "ProgressView",
            "bar_style": "",
            "description": "",
            "description_tooltip": null,
            "layout": "IPY_MODEL_c99bb6bd4ed848bfa5cf0354bb69528c",
            "max": 100,
            "min": 0,
            "orientation": "horizontal",
            "style": "IPY_MODEL_a90288989e244c65915cc7610a90e83e",
            "value": 100
          }
        },
        "4b89ceec2c25434397fa7b930f8380f7": {
          "model_module": "@jupyter-widgets/controls",
          "model_module_version": "1.5.0",
          "model_name": "FloatProgressModel",
          "state": {
            "_dom_classes": [],
            "_model_module": "@jupyter-widgets/controls",
            "_model_module_version": "1.5.0",
            "_model_name": "FloatProgressModel",
            "_view_count": null,
            "_view_module": "@jupyter-widgets/controls",
            "_view_module_version": "1.5.0",
            "_view_name": "ProgressView",
            "bar_style": "",
            "description": "",
            "description_tooltip": null,
            "layout": "IPY_MODEL_803f1a0478b942c39fac289f5b4df737",
            "max": 100,
            "min": 0,
            "orientation": "horizontal",
            "style": "IPY_MODEL_12fc0ada52d247cba9f6fff6f231a261",
            "value": 100
          }
        },
        "4e526ecfc33f4b589cf05d6362265963": {
          "model_module": "@jupyter-widgets/base",
          "model_module_version": "1.2.0",
          "model_name": "LayoutModel",
          "state": {
            "_model_module": "@jupyter-widgets/base",
            "_model_module_version": "1.2.0",
            "_model_name": "LayoutModel",
            "_view_count": null,
            "_view_module": "@jupyter-widgets/base",
            "_view_module_version": "1.2.0",
            "_view_name": "LayoutView",
            "align_content": null,
            "align_items": null,
            "align_self": null,
            "border": null,
            "bottom": null,
            "display": null,
            "flex": null,
            "flex_flow": null,
            "grid_area": null,
            "grid_auto_columns": null,
            "grid_auto_flow": null,
            "grid_auto_rows": null,
            "grid_column": null,
            "grid_gap": null,
            "grid_row": null,
            "grid_template_areas": null,
            "grid_template_columns": null,
            "grid_template_rows": null,
            "height": null,
            "justify_content": null,
            "justify_items": null,
            "left": null,
            "margin": null,
            "max_height": null,
            "max_width": null,
            "min_height": null,
            "min_width": null,
            "object_fit": null,
            "object_position": null,
            "order": null,
            "overflow": null,
            "overflow_x": null,
            "overflow_y": null,
            "padding": null,
            "right": null,
            "top": null,
            "visibility": null,
            "width": "auto"
          }
        },
        "58b60ef297c440318df4e644b0d40613": {
          "model_module": "@jupyter-widgets/controls",
          "model_module_version": "1.5.0",
          "model_name": "ProgressStyleModel",
          "state": {
            "_model_module": "@jupyter-widgets/controls",
            "_model_module_version": "1.5.0",
            "_model_name": "ProgressStyleModel",
            "_view_count": null,
            "_view_module": "@jupyter-widgets/base",
            "_view_module_version": "1.2.0",
            "_view_name": "StyleView",
            "bar_color": "black",
            "description_width": ""
          }
        },
        "613e933cad77454c97894e8b73fb9291": {
          "model_module": "@jupyter-widgets/base",
          "model_module_version": "1.2.0",
          "model_name": "LayoutModel",
          "state": {
            "_model_module": "@jupyter-widgets/base",
            "_model_module_version": "1.2.0",
            "_model_name": "LayoutModel",
            "_view_count": null,
            "_view_module": "@jupyter-widgets/base",
            "_view_module_version": "1.2.0",
            "_view_name": "LayoutView",
            "align_content": null,
            "align_items": null,
            "align_self": null,
            "border": null,
            "bottom": null,
            "display": null,
            "flex": null,
            "flex_flow": null,
            "grid_area": null,
            "grid_auto_columns": null,
            "grid_auto_flow": null,
            "grid_auto_rows": null,
            "grid_column": null,
            "grid_gap": null,
            "grid_row": null,
            "grid_template_areas": null,
            "grid_template_columns": null,
            "grid_template_rows": null,
            "height": null,
            "justify_content": null,
            "justify_items": null,
            "left": null,
            "margin": null,
            "max_height": null,
            "max_width": null,
            "min_height": null,
            "min_width": null,
            "object_fit": null,
            "object_position": null,
            "order": null,
            "overflow": null,
            "overflow_x": null,
            "overflow_y": null,
            "padding": null,
            "right": null,
            "top": null,
            "visibility": null,
            "width": "auto"
          }
        },
        "6194df9926ec407b89eb80f98a3eb5f8": {
          "model_module": "@jupyter-widgets/controls",
          "model_module_version": "1.5.0",
          "model_name": "ProgressStyleModel",
          "state": {
            "_model_module": "@jupyter-widgets/controls",
            "_model_module_version": "1.5.0",
            "_model_name": "ProgressStyleModel",
            "_view_count": null,
            "_view_module": "@jupyter-widgets/base",
            "_view_module_version": "1.2.0",
            "_view_name": "StyleView",
            "bar_color": "black",
            "description_width": ""
          }
        },
        "64bebb5919294169a4a8ddd7b9a252b1": {
          "model_module": "@jupyter-widgets/controls",
          "model_module_version": "1.5.0",
          "model_name": "FloatProgressModel",
          "state": {
            "_dom_classes": [],
            "_model_module": "@jupyter-widgets/controls",
            "_model_module_version": "1.5.0",
            "_model_name": "FloatProgressModel",
            "_view_count": null,
            "_view_module": "@jupyter-widgets/controls",
            "_view_module_version": "1.5.0",
            "_view_name": "ProgressView",
            "bar_style": "",
            "description": "",
            "description_tooltip": null,
            "layout": "IPY_MODEL_e266101654c944cb967f7f74f8852adc",
            "max": 100,
            "min": 0,
            "orientation": "horizontal",
            "style": "IPY_MODEL_ce63067ebfaf415e83263c2d325b07a6",
            "value": 100
          }
        },
        "6dc8d9c15fea44878cad7a84c887fea8": {
          "model_module": "@jupyter-widgets/base",
          "model_module_version": "1.2.0",
          "model_name": "LayoutModel",
          "state": {
            "_model_module": "@jupyter-widgets/base",
            "_model_module_version": "1.2.0",
            "_model_name": "LayoutModel",
            "_view_count": null,
            "_view_module": "@jupyter-widgets/base",
            "_view_module_version": "1.2.0",
            "_view_name": "LayoutView",
            "align_content": null,
            "align_items": null,
            "align_self": null,
            "border": null,
            "bottom": null,
            "display": null,
            "flex": null,
            "flex_flow": null,
            "grid_area": null,
            "grid_auto_columns": null,
            "grid_auto_flow": null,
            "grid_auto_rows": null,
            "grid_column": null,
            "grid_gap": null,
            "grid_row": null,
            "grid_template_areas": null,
            "grid_template_columns": null,
            "grid_template_rows": null,
            "height": null,
            "justify_content": null,
            "justify_items": null,
            "left": null,
            "margin": null,
            "max_height": null,
            "max_width": null,
            "min_height": null,
            "min_width": null,
            "object_fit": null,
            "object_position": null,
            "order": null,
            "overflow": null,
            "overflow_x": null,
            "overflow_y": null,
            "padding": null,
            "right": null,
            "top": null,
            "visibility": null,
            "width": "auto"
          }
        },
        "6f1ea44581434b3a82317d9cd9927c79": {
          "model_module": "@jupyter-widgets/controls",
          "model_module_version": "1.5.0",
          "model_name": "ProgressStyleModel",
          "state": {
            "_model_module": "@jupyter-widgets/controls",
            "_model_module_version": "1.5.0",
            "_model_name": "ProgressStyleModel",
            "_view_count": null,
            "_view_module": "@jupyter-widgets/base",
            "_view_module_version": "1.2.0",
            "_view_name": "StyleView",
            "bar_color": "black",
            "description_width": ""
          }
        },
        "6f2ae5a41b374b62a62a0167ae196a2f": {
          "model_module": "@jupyter-widgets/controls",
          "model_module_version": "1.5.0",
          "model_name": "FloatProgressModel",
          "state": {
            "_dom_classes": [],
            "_model_module": "@jupyter-widgets/controls",
            "_model_module_version": "1.5.0",
            "_model_name": "FloatProgressModel",
            "_view_count": null,
            "_view_module": "@jupyter-widgets/controls",
            "_view_module_version": "1.5.0",
            "_view_name": "ProgressView",
            "bar_style": "",
            "description": "",
            "description_tooltip": null,
            "layout": "IPY_MODEL_6dc8d9c15fea44878cad7a84c887fea8",
            "max": 100,
            "min": 0,
            "orientation": "horizontal",
            "style": "IPY_MODEL_9e3717a3c42f4bbcac5eb008dc347249",
            "value": 100
          }
        },
        "7444740056fc43c3b2aae02b07f8b4d3": {
          "model_module": "@jupyter-widgets/controls",
          "model_module_version": "1.5.0",
          "model_name": "FloatProgressModel",
          "state": {
            "_dom_classes": [],
            "_model_module": "@jupyter-widgets/controls",
            "_model_module_version": "1.5.0",
            "_model_name": "FloatProgressModel",
            "_view_count": null,
            "_view_module": "@jupyter-widgets/controls",
            "_view_module_version": "1.5.0",
            "_view_name": "ProgressView",
            "bar_style": "",
            "description": "",
            "description_tooltip": null,
            "layout": "IPY_MODEL_4e526ecfc33f4b589cf05d6362265963",
            "max": 100,
            "min": 0,
            "orientation": "horizontal",
            "style": "IPY_MODEL_1a26051974074e2bbf57bc7407ab38af",
            "value": 100
          }
        },
        "75173c57aaaf41909c4c52ea2b98cb7d": {
          "model_module": "@jupyter-widgets/base",
          "model_module_version": "1.2.0",
          "model_name": "LayoutModel",
          "state": {
            "_model_module": "@jupyter-widgets/base",
            "_model_module_version": "1.2.0",
            "_model_name": "LayoutModel",
            "_view_count": null,
            "_view_module": "@jupyter-widgets/base",
            "_view_module_version": "1.2.0",
            "_view_name": "LayoutView",
            "align_content": null,
            "align_items": null,
            "align_self": null,
            "border": null,
            "bottom": null,
            "display": null,
            "flex": null,
            "flex_flow": null,
            "grid_area": null,
            "grid_auto_columns": null,
            "grid_auto_flow": null,
            "grid_auto_rows": null,
            "grid_column": null,
            "grid_gap": null,
            "grid_row": null,
            "grid_template_areas": null,
            "grid_template_columns": null,
            "grid_template_rows": null,
            "height": null,
            "justify_content": null,
            "justify_items": null,
            "left": null,
            "margin": null,
            "max_height": null,
            "max_width": null,
            "min_height": null,
            "min_width": null,
            "object_fit": null,
            "object_position": null,
            "order": null,
            "overflow": null,
            "overflow_x": null,
            "overflow_y": null,
            "padding": null,
            "right": null,
            "top": null,
            "visibility": null,
            "width": "auto"
          }
        },
        "7ec71ead2bfb4be48e332e842733e07f": {
          "model_module": "@jupyter-widgets/controls",
          "model_module_version": "1.5.0",
          "model_name": "FloatProgressModel",
          "state": {
            "_dom_classes": [],
            "_model_module": "@jupyter-widgets/controls",
            "_model_module_version": "1.5.0",
            "_model_name": "FloatProgressModel",
            "_view_count": null,
            "_view_module": "@jupyter-widgets/controls",
            "_view_module_version": "1.5.0",
            "_view_name": "ProgressView",
            "bar_style": "",
            "description": "",
            "description_tooltip": null,
            "layout": "IPY_MODEL_adea4c8e68ce418c99ef9becdc9d93b2",
            "max": 100,
            "min": 0,
            "orientation": "horizontal",
            "style": "IPY_MODEL_b62c1edb6cbd4f579d88b37da1f0720a",
            "value": 100
          }
        },
        "803f1a0478b942c39fac289f5b4df737": {
          "model_module": "@jupyter-widgets/base",
          "model_module_version": "1.2.0",
          "model_name": "LayoutModel",
          "state": {
            "_model_module": "@jupyter-widgets/base",
            "_model_module_version": "1.2.0",
            "_model_name": "LayoutModel",
            "_view_count": null,
            "_view_module": "@jupyter-widgets/base",
            "_view_module_version": "1.2.0",
            "_view_name": "LayoutView",
            "align_content": null,
            "align_items": null,
            "align_self": null,
            "border": null,
            "bottom": null,
            "display": null,
            "flex": null,
            "flex_flow": null,
            "grid_area": null,
            "grid_auto_columns": null,
            "grid_auto_flow": null,
            "grid_auto_rows": null,
            "grid_column": null,
            "grid_gap": null,
            "grid_row": null,
            "grid_template_areas": null,
            "grid_template_columns": null,
            "grid_template_rows": null,
            "height": null,
            "justify_content": null,
            "justify_items": null,
            "left": null,
            "margin": null,
            "max_height": null,
            "max_width": null,
            "min_height": null,
            "min_width": null,
            "object_fit": null,
            "object_position": null,
            "order": null,
            "overflow": null,
            "overflow_x": null,
            "overflow_y": null,
            "padding": null,
            "right": null,
            "top": null,
            "visibility": null,
            "width": "auto"
          }
        },
        "83a871b2034b4c2aa765edfb16399fb9": {
          "model_module": "@jupyter-widgets/base",
          "model_module_version": "1.2.0",
          "model_name": "LayoutModel",
          "state": {
            "_model_module": "@jupyter-widgets/base",
            "_model_module_version": "1.2.0",
            "_model_name": "LayoutModel",
            "_view_count": null,
            "_view_module": "@jupyter-widgets/base",
            "_view_module_version": "1.2.0",
            "_view_name": "LayoutView",
            "align_content": null,
            "align_items": null,
            "align_self": null,
            "border": null,
            "bottom": null,
            "display": null,
            "flex": null,
            "flex_flow": null,
            "grid_area": null,
            "grid_auto_columns": null,
            "grid_auto_flow": null,
            "grid_auto_rows": null,
            "grid_column": null,
            "grid_gap": null,
            "grid_row": null,
            "grid_template_areas": null,
            "grid_template_columns": null,
            "grid_template_rows": null,
            "height": null,
            "justify_content": null,
            "justify_items": null,
            "left": null,
            "margin": null,
            "max_height": null,
            "max_width": null,
            "min_height": null,
            "min_width": null,
            "object_fit": null,
            "object_position": null,
            "order": null,
            "overflow": null,
            "overflow_x": null,
            "overflow_y": null,
            "padding": null,
            "right": null,
            "top": null,
            "visibility": null,
            "width": "auto"
          }
        },
        "8413c843070b469e9d9a2dbf23205097": {
          "model_module": "@jupyter-widgets/controls",
          "model_module_version": "1.5.0",
          "model_name": "FloatProgressModel",
          "state": {
            "_dom_classes": [],
            "_model_module": "@jupyter-widgets/controls",
            "_model_module_version": "1.5.0",
            "_model_name": "FloatProgressModel",
            "_view_count": null,
            "_view_module": "@jupyter-widgets/controls",
            "_view_module_version": "1.5.0",
            "_view_name": "ProgressView",
            "bar_style": "",
            "description": "",
            "description_tooltip": null,
            "layout": "IPY_MODEL_c542823fbc2b406d9c73d7d7874d332d",
            "max": 100,
            "min": 0,
            "orientation": "horizontal",
            "style": "IPY_MODEL_34546645c6874c86927beded91073896",
            "value": 100
          }
        },
        "88d28f61e9be407eb2ae07153c4e6eeb": {
          "model_module": "@jupyter-widgets/controls",
          "model_module_version": "1.5.0",
          "model_name": "FloatProgressModel",
          "state": {
            "_dom_classes": [],
            "_model_module": "@jupyter-widgets/controls",
            "_model_module_version": "1.5.0",
            "_model_name": "FloatProgressModel",
            "_view_count": null,
            "_view_module": "@jupyter-widgets/controls",
            "_view_module_version": "1.5.0",
            "_view_name": "ProgressView",
            "bar_style": "",
            "description": "",
            "description_tooltip": null,
            "layout": "IPY_MODEL_404b33ca920144f48af5f78d20eb7616",
            "max": 100,
            "min": 0,
            "orientation": "horizontal",
            "style": "IPY_MODEL_b4e6aea9a48e4ea9a13fa80c26f1bce8",
            "value": 100
          }
        },
        "91577f2a6b5f4321867b544b3546ed56": {
          "model_module": "@jupyter-widgets/base",
          "model_module_version": "1.2.0",
          "model_name": "LayoutModel",
          "state": {
            "_model_module": "@jupyter-widgets/base",
            "_model_module_version": "1.2.0",
            "_model_name": "LayoutModel",
            "_view_count": null,
            "_view_module": "@jupyter-widgets/base",
            "_view_module_version": "1.2.0",
            "_view_name": "LayoutView",
            "align_content": null,
            "align_items": null,
            "align_self": null,
            "border": null,
            "bottom": null,
            "display": null,
            "flex": null,
            "flex_flow": null,
            "grid_area": null,
            "grid_auto_columns": null,
            "grid_auto_flow": null,
            "grid_auto_rows": null,
            "grid_column": null,
            "grid_gap": null,
            "grid_row": null,
            "grid_template_areas": null,
            "grid_template_columns": null,
            "grid_template_rows": null,
            "height": null,
            "justify_content": null,
            "justify_items": null,
            "left": null,
            "margin": null,
            "max_height": null,
            "max_width": null,
            "min_height": null,
            "min_width": null,
            "object_fit": null,
            "object_position": null,
            "order": null,
            "overflow": null,
            "overflow_x": null,
            "overflow_y": null,
            "padding": null,
            "right": null,
            "top": null,
            "visibility": null,
            "width": "auto"
          }
        },
        "9e3717a3c42f4bbcac5eb008dc347249": {
          "model_module": "@jupyter-widgets/controls",
          "model_module_version": "1.5.0",
          "model_name": "ProgressStyleModel",
          "state": {
            "_model_module": "@jupyter-widgets/controls",
            "_model_module_version": "1.5.0",
            "_model_name": "ProgressStyleModel",
            "_view_count": null,
            "_view_module": "@jupyter-widgets/base",
            "_view_module_version": "1.2.0",
            "_view_name": "StyleView",
            "bar_color": "black",
            "description_width": ""
          }
        },
        "a392d75fe5e04b8ba9e4f7b8020b7d33": {
          "model_module": "@jupyter-widgets/controls",
          "model_module_version": "1.5.0",
          "model_name": "ProgressStyleModel",
          "state": {
            "_model_module": "@jupyter-widgets/controls",
            "_model_module_version": "1.5.0",
            "_model_name": "ProgressStyleModel",
            "_view_count": null,
            "_view_module": "@jupyter-widgets/base",
            "_view_module_version": "1.2.0",
            "_view_name": "StyleView",
            "bar_color": "black",
            "description_width": ""
          }
        },
        "a90288989e244c65915cc7610a90e83e": {
          "model_module": "@jupyter-widgets/controls",
          "model_module_version": "1.5.0",
          "model_name": "ProgressStyleModel",
          "state": {
            "_model_module": "@jupyter-widgets/controls",
            "_model_module_version": "1.5.0",
            "_model_name": "ProgressStyleModel",
            "_view_count": null,
            "_view_module": "@jupyter-widgets/base",
            "_view_module_version": "1.2.0",
            "_view_name": "StyleView",
            "bar_color": "black",
            "description_width": ""
          }
        },
        "aaf6b293e6ea419c80e2893241190bf0": {
          "model_module": "@jupyter-widgets/controls",
          "model_module_version": "1.5.0",
          "model_name": "FloatProgressModel",
          "state": {
            "_dom_classes": [],
            "_model_module": "@jupyter-widgets/controls",
            "_model_module_version": "1.5.0",
            "_model_name": "FloatProgressModel",
            "_view_count": null,
            "_view_module": "@jupyter-widgets/controls",
            "_view_module_version": "1.5.0",
            "_view_name": "ProgressView",
            "bar_style": "",
            "description": "",
            "description_tooltip": null,
            "layout": "IPY_MODEL_83a871b2034b4c2aa765edfb16399fb9",
            "max": 100,
            "min": 0,
            "orientation": "horizontal",
            "style": "IPY_MODEL_f537b080f3b142209c9e76968b8c41ef",
            "value": 100
          }
        },
        "adea4c8e68ce418c99ef9becdc9d93b2": {
          "model_module": "@jupyter-widgets/base",
          "model_module_version": "1.2.0",
          "model_name": "LayoutModel",
          "state": {
            "_model_module": "@jupyter-widgets/base",
            "_model_module_version": "1.2.0",
            "_model_name": "LayoutModel",
            "_view_count": null,
            "_view_module": "@jupyter-widgets/base",
            "_view_module_version": "1.2.0",
            "_view_name": "LayoutView",
            "align_content": null,
            "align_items": null,
            "align_self": null,
            "border": null,
            "bottom": null,
            "display": null,
            "flex": null,
            "flex_flow": null,
            "grid_area": null,
            "grid_auto_columns": null,
            "grid_auto_flow": null,
            "grid_auto_rows": null,
            "grid_column": null,
            "grid_gap": null,
            "grid_row": null,
            "grid_template_areas": null,
            "grid_template_columns": null,
            "grid_template_rows": null,
            "height": null,
            "justify_content": null,
            "justify_items": null,
            "left": null,
            "margin": null,
            "max_height": null,
            "max_width": null,
            "min_height": null,
            "min_width": null,
            "object_fit": null,
            "object_position": null,
            "order": null,
            "overflow": null,
            "overflow_x": null,
            "overflow_y": null,
            "padding": null,
            "right": null,
            "top": null,
            "visibility": null,
            "width": "auto"
          }
        },
        "b4e6aea9a48e4ea9a13fa80c26f1bce8": {
          "model_module": "@jupyter-widgets/controls",
          "model_module_version": "1.5.0",
          "model_name": "ProgressStyleModel",
          "state": {
            "_model_module": "@jupyter-widgets/controls",
            "_model_module_version": "1.5.0",
            "_model_name": "ProgressStyleModel",
            "_view_count": null,
            "_view_module": "@jupyter-widgets/base",
            "_view_module_version": "1.2.0",
            "_view_name": "StyleView",
            "bar_color": "black",
            "description_width": ""
          }
        },
        "b5c68569b34a4262a3f3e2968be6e7f4": {
          "model_module": "@jupyter-widgets/controls",
          "model_module_version": "1.5.0",
          "model_name": "ProgressStyleModel",
          "state": {
            "_model_module": "@jupyter-widgets/controls",
            "_model_module_version": "1.5.0",
            "_model_name": "ProgressStyleModel",
            "_view_count": null,
            "_view_module": "@jupyter-widgets/base",
            "_view_module_version": "1.2.0",
            "_view_name": "StyleView",
            "bar_color": "black",
            "description_width": ""
          }
        },
        "b62c1edb6cbd4f579d88b37da1f0720a": {
          "model_module": "@jupyter-widgets/controls",
          "model_module_version": "1.5.0",
          "model_name": "ProgressStyleModel",
          "state": {
            "_model_module": "@jupyter-widgets/controls",
            "_model_module_version": "1.5.0",
            "_model_name": "ProgressStyleModel",
            "_view_count": null,
            "_view_module": "@jupyter-widgets/base",
            "_view_module_version": "1.2.0",
            "_view_name": "StyleView",
            "bar_color": "black",
            "description_width": ""
          }
        },
        "b7c6e300bb9b4e199dca9b0f4b973b8f": {
          "model_module": "@jupyter-widgets/controls",
          "model_module_version": "1.5.0",
          "model_name": "FloatProgressModel",
          "state": {
            "_dom_classes": [],
            "_model_module": "@jupyter-widgets/controls",
            "_model_module_version": "1.5.0",
            "_model_name": "FloatProgressModel",
            "_view_count": null,
            "_view_module": "@jupyter-widgets/controls",
            "_view_module_version": "1.5.0",
            "_view_name": "ProgressView",
            "bar_style": "",
            "description": "",
            "description_tooltip": null,
            "layout": "IPY_MODEL_bb0fc04fdfcd41bfafb965d82ee8da6f",
            "max": 100,
            "min": 0,
            "orientation": "horizontal",
            "style": "IPY_MODEL_cf3b95d63c284114b72603863b917e68",
            "value": 100
          }
        },
        "bb0fc04fdfcd41bfafb965d82ee8da6f": {
          "model_module": "@jupyter-widgets/base",
          "model_module_version": "1.2.0",
          "model_name": "LayoutModel",
          "state": {
            "_model_module": "@jupyter-widgets/base",
            "_model_module_version": "1.2.0",
            "_model_name": "LayoutModel",
            "_view_count": null,
            "_view_module": "@jupyter-widgets/base",
            "_view_module_version": "1.2.0",
            "_view_name": "LayoutView",
            "align_content": null,
            "align_items": null,
            "align_self": null,
            "border": null,
            "bottom": null,
            "display": null,
            "flex": null,
            "flex_flow": null,
            "grid_area": null,
            "grid_auto_columns": null,
            "grid_auto_flow": null,
            "grid_auto_rows": null,
            "grid_column": null,
            "grid_gap": null,
            "grid_row": null,
            "grid_template_areas": null,
            "grid_template_columns": null,
            "grid_template_rows": null,
            "height": null,
            "justify_content": null,
            "justify_items": null,
            "left": null,
            "margin": null,
            "max_height": null,
            "max_width": null,
            "min_height": null,
            "min_width": null,
            "object_fit": null,
            "object_position": null,
            "order": null,
            "overflow": null,
            "overflow_x": null,
            "overflow_y": null,
            "padding": null,
            "right": null,
            "top": null,
            "visibility": null,
            "width": "auto"
          }
        },
        "bce23328821f438f97d5d6a9c6df33b6": {
          "model_module": "@jupyter-widgets/controls",
          "model_module_version": "1.5.0",
          "model_name": "ProgressStyleModel",
          "state": {
            "_model_module": "@jupyter-widgets/controls",
            "_model_module_version": "1.5.0",
            "_model_name": "ProgressStyleModel",
            "_view_count": null,
            "_view_module": "@jupyter-widgets/base",
            "_view_module_version": "1.2.0",
            "_view_name": "StyleView",
            "bar_color": "black",
            "description_width": ""
          }
        },
        "c542823fbc2b406d9c73d7d7874d332d": {
          "model_module": "@jupyter-widgets/base",
          "model_module_version": "1.2.0",
          "model_name": "LayoutModel",
          "state": {
            "_model_module": "@jupyter-widgets/base",
            "_model_module_version": "1.2.0",
            "_model_name": "LayoutModel",
            "_view_count": null,
            "_view_module": "@jupyter-widgets/base",
            "_view_module_version": "1.2.0",
            "_view_name": "LayoutView",
            "align_content": null,
            "align_items": null,
            "align_self": null,
            "border": null,
            "bottom": null,
            "display": null,
            "flex": null,
            "flex_flow": null,
            "grid_area": null,
            "grid_auto_columns": null,
            "grid_auto_flow": null,
            "grid_auto_rows": null,
            "grid_column": null,
            "grid_gap": null,
            "grid_row": null,
            "grid_template_areas": null,
            "grid_template_columns": null,
            "grid_template_rows": null,
            "height": null,
            "justify_content": null,
            "justify_items": null,
            "left": null,
            "margin": null,
            "max_height": null,
            "max_width": null,
            "min_height": null,
            "min_width": null,
            "object_fit": null,
            "object_position": null,
            "order": null,
            "overflow": null,
            "overflow_x": null,
            "overflow_y": null,
            "padding": null,
            "right": null,
            "top": null,
            "visibility": null,
            "width": "auto"
          }
        },
        "c99bb6bd4ed848bfa5cf0354bb69528c": {
          "model_module": "@jupyter-widgets/base",
          "model_module_version": "1.2.0",
          "model_name": "LayoutModel",
          "state": {
            "_model_module": "@jupyter-widgets/base",
            "_model_module_version": "1.2.0",
            "_model_name": "LayoutModel",
            "_view_count": null,
            "_view_module": "@jupyter-widgets/base",
            "_view_module_version": "1.2.0",
            "_view_name": "LayoutView",
            "align_content": null,
            "align_items": null,
            "align_self": null,
            "border": null,
            "bottom": null,
            "display": null,
            "flex": null,
            "flex_flow": null,
            "grid_area": null,
            "grid_auto_columns": null,
            "grid_auto_flow": null,
            "grid_auto_rows": null,
            "grid_column": null,
            "grid_gap": null,
            "grid_row": null,
            "grid_template_areas": null,
            "grid_template_columns": null,
            "grid_template_rows": null,
            "height": null,
            "justify_content": null,
            "justify_items": null,
            "left": null,
            "margin": null,
            "max_height": null,
            "max_width": null,
            "min_height": null,
            "min_width": null,
            "object_fit": null,
            "object_position": null,
            "order": null,
            "overflow": null,
            "overflow_x": null,
            "overflow_y": null,
            "padding": null,
            "right": null,
            "top": null,
            "visibility": null,
            "width": "auto"
          }
        },
        "cbc3b3a14b94494e8597f46e4047d0cf": {
          "model_module": "@jupyter-widgets/controls",
          "model_module_version": "1.5.0",
          "model_name": "FloatProgressModel",
          "state": {
            "_dom_classes": [],
            "_model_module": "@jupyter-widgets/controls",
            "_model_module_version": "1.5.0",
            "_model_name": "FloatProgressModel",
            "_view_count": null,
            "_view_module": "@jupyter-widgets/controls",
            "_view_module_version": "1.5.0",
            "_view_name": "ProgressView",
            "bar_style": "",
            "description": "",
            "description_tooltip": null,
            "layout": "IPY_MODEL_1918874319134f8ea94871580db77e8b",
            "max": 100,
            "min": 0,
            "orientation": "horizontal",
            "style": "IPY_MODEL_f865cd14b4b847769dffb001c8c18285",
            "value": 100
          }
        },
        "ce63067ebfaf415e83263c2d325b07a6": {
          "model_module": "@jupyter-widgets/controls",
          "model_module_version": "1.5.0",
          "model_name": "ProgressStyleModel",
          "state": {
            "_model_module": "@jupyter-widgets/controls",
            "_model_module_version": "1.5.0",
            "_model_name": "ProgressStyleModel",
            "_view_count": null,
            "_view_module": "@jupyter-widgets/base",
            "_view_module_version": "1.2.0",
            "_view_name": "StyleView",
            "bar_color": "black",
            "description_width": ""
          }
        },
        "cf3b95d63c284114b72603863b917e68": {
          "model_module": "@jupyter-widgets/controls",
          "model_module_version": "1.5.0",
          "model_name": "ProgressStyleModel",
          "state": {
            "_model_module": "@jupyter-widgets/controls",
            "_model_module_version": "1.5.0",
            "_model_name": "ProgressStyleModel",
            "_view_count": null,
            "_view_module": "@jupyter-widgets/base",
            "_view_module_version": "1.2.0",
            "_view_name": "StyleView",
            "bar_color": "black",
            "description_width": ""
          }
        },
        "d043be37b88143ad85925f363f393c16": {
          "model_module": "@jupyter-widgets/base",
          "model_module_version": "1.2.0",
          "model_name": "LayoutModel",
          "state": {
            "_model_module": "@jupyter-widgets/base",
            "_model_module_version": "1.2.0",
            "_model_name": "LayoutModel",
            "_view_count": null,
            "_view_module": "@jupyter-widgets/base",
            "_view_module_version": "1.2.0",
            "_view_name": "LayoutView",
            "align_content": null,
            "align_items": null,
            "align_self": null,
            "border": null,
            "bottom": null,
            "display": null,
            "flex": null,
            "flex_flow": null,
            "grid_area": null,
            "grid_auto_columns": null,
            "grid_auto_flow": null,
            "grid_auto_rows": null,
            "grid_column": null,
            "grid_gap": null,
            "grid_row": null,
            "grid_template_areas": null,
            "grid_template_columns": null,
            "grid_template_rows": null,
            "height": null,
            "justify_content": null,
            "justify_items": null,
            "left": null,
            "margin": null,
            "max_height": null,
            "max_width": null,
            "min_height": null,
            "min_width": null,
            "object_fit": null,
            "object_position": null,
            "order": null,
            "overflow": null,
            "overflow_x": null,
            "overflow_y": null,
            "padding": null,
            "right": null,
            "top": null,
            "visibility": null,
            "width": "auto"
          }
        },
        "e1eb9ec69c024fc5ad05632fc5fb51c6": {
          "model_module": "@jupyter-widgets/base",
          "model_module_version": "1.2.0",
          "model_name": "LayoutModel",
          "state": {
            "_model_module": "@jupyter-widgets/base",
            "_model_module_version": "1.2.0",
            "_model_name": "LayoutModel",
            "_view_count": null,
            "_view_module": "@jupyter-widgets/base",
            "_view_module_version": "1.2.0",
            "_view_name": "LayoutView",
            "align_content": null,
            "align_items": null,
            "align_self": null,
            "border": null,
            "bottom": null,
            "display": null,
            "flex": null,
            "flex_flow": null,
            "grid_area": null,
            "grid_auto_columns": null,
            "grid_auto_flow": null,
            "grid_auto_rows": null,
            "grid_column": null,
            "grid_gap": null,
            "grid_row": null,
            "grid_template_areas": null,
            "grid_template_columns": null,
            "grid_template_rows": null,
            "height": null,
            "justify_content": null,
            "justify_items": null,
            "left": null,
            "margin": null,
            "max_height": null,
            "max_width": null,
            "min_height": null,
            "min_width": null,
            "object_fit": null,
            "object_position": null,
            "order": null,
            "overflow": null,
            "overflow_x": null,
            "overflow_y": null,
            "padding": null,
            "right": null,
            "top": null,
            "visibility": null,
            "width": "auto"
          }
        },
        "e266101654c944cb967f7f74f8852adc": {
          "model_module": "@jupyter-widgets/base",
          "model_module_version": "1.2.0",
          "model_name": "LayoutModel",
          "state": {
            "_model_module": "@jupyter-widgets/base",
            "_model_module_version": "1.2.0",
            "_model_name": "LayoutModel",
            "_view_count": null,
            "_view_module": "@jupyter-widgets/base",
            "_view_module_version": "1.2.0",
            "_view_name": "LayoutView",
            "align_content": null,
            "align_items": null,
            "align_self": null,
            "border": null,
            "bottom": null,
            "display": null,
            "flex": null,
            "flex_flow": null,
            "grid_area": null,
            "grid_auto_columns": null,
            "grid_auto_flow": null,
            "grid_auto_rows": null,
            "grid_column": null,
            "grid_gap": null,
            "grid_row": null,
            "grid_template_areas": null,
            "grid_template_columns": null,
            "grid_template_rows": null,
            "height": null,
            "justify_content": null,
            "justify_items": null,
            "left": null,
            "margin": null,
            "max_height": null,
            "max_width": null,
            "min_height": null,
            "min_width": null,
            "object_fit": null,
            "object_position": null,
            "order": null,
            "overflow": null,
            "overflow_x": null,
            "overflow_y": null,
            "padding": null,
            "right": null,
            "top": null,
            "visibility": null,
            "width": "auto"
          }
        },
        "f0ec5b0961014969bdecda82a660ef47": {
          "model_module": "@jupyter-widgets/base",
          "model_module_version": "1.2.0",
          "model_name": "LayoutModel",
          "state": {
            "_model_module": "@jupyter-widgets/base",
            "_model_module_version": "1.2.0",
            "_model_name": "LayoutModel",
            "_view_count": null,
            "_view_module": "@jupyter-widgets/base",
            "_view_module_version": "1.2.0",
            "_view_name": "LayoutView",
            "align_content": null,
            "align_items": null,
            "align_self": null,
            "border": null,
            "bottom": null,
            "display": null,
            "flex": null,
            "flex_flow": null,
            "grid_area": null,
            "grid_auto_columns": null,
            "grid_auto_flow": null,
            "grid_auto_rows": null,
            "grid_column": null,
            "grid_gap": null,
            "grid_row": null,
            "grid_template_areas": null,
            "grid_template_columns": null,
            "grid_template_rows": null,
            "height": null,
            "justify_content": null,
            "justify_items": null,
            "left": null,
            "margin": null,
            "max_height": null,
            "max_width": null,
            "min_height": null,
            "min_width": null,
            "object_fit": null,
            "object_position": null,
            "order": null,
            "overflow": null,
            "overflow_x": null,
            "overflow_y": null,
            "padding": null,
            "right": null,
            "top": null,
            "visibility": null,
            "width": "auto"
          }
        },
        "f2f3778149b34588bcff917755142b87": {
          "model_module": "@jupyter-widgets/base",
          "model_module_version": "1.2.0",
          "model_name": "LayoutModel",
          "state": {
            "_model_module": "@jupyter-widgets/base",
            "_model_module_version": "1.2.0",
            "_model_name": "LayoutModel",
            "_view_count": null,
            "_view_module": "@jupyter-widgets/base",
            "_view_module_version": "1.2.0",
            "_view_name": "LayoutView",
            "align_content": null,
            "align_items": null,
            "align_self": null,
            "border": null,
            "bottom": null,
            "display": null,
            "flex": null,
            "flex_flow": null,
            "grid_area": null,
            "grid_auto_columns": null,
            "grid_auto_flow": null,
            "grid_auto_rows": null,
            "grid_column": null,
            "grid_gap": null,
            "grid_row": null,
            "grid_template_areas": null,
            "grid_template_columns": null,
            "grid_template_rows": null,
            "height": null,
            "justify_content": null,
            "justify_items": null,
            "left": null,
            "margin": null,
            "max_height": null,
            "max_width": null,
            "min_height": null,
            "min_width": null,
            "object_fit": null,
            "object_position": null,
            "order": null,
            "overflow": null,
            "overflow_x": null,
            "overflow_y": null,
            "padding": null,
            "right": null,
            "top": null,
            "visibility": null,
            "width": "auto"
          }
        },
        "f4eb563af2b24d7eb73906db2189bff4": {
          "model_module": "@jupyter-widgets/base",
          "model_module_version": "1.2.0",
          "model_name": "LayoutModel",
          "state": {
            "_model_module": "@jupyter-widgets/base",
            "_model_module_version": "1.2.0",
            "_model_name": "LayoutModel",
            "_view_count": null,
            "_view_module": "@jupyter-widgets/base",
            "_view_module_version": "1.2.0",
            "_view_name": "LayoutView",
            "align_content": null,
            "align_items": null,
            "align_self": null,
            "border": null,
            "bottom": null,
            "display": null,
            "flex": null,
            "flex_flow": null,
            "grid_area": null,
            "grid_auto_columns": null,
            "grid_auto_flow": null,
            "grid_auto_rows": null,
            "grid_column": null,
            "grid_gap": null,
            "grid_row": null,
            "grid_template_areas": null,
            "grid_template_columns": null,
            "grid_template_rows": null,
            "height": null,
            "justify_content": null,
            "justify_items": null,
            "left": null,
            "margin": null,
            "max_height": null,
            "max_width": null,
            "min_height": null,
            "min_width": null,
            "object_fit": null,
            "object_position": null,
            "order": null,
            "overflow": null,
            "overflow_x": null,
            "overflow_y": null,
            "padding": null,
            "right": null,
            "top": null,
            "visibility": null,
            "width": "auto"
          }
        },
        "f537b080f3b142209c9e76968b8c41ef": {
          "model_module": "@jupyter-widgets/controls",
          "model_module_version": "1.5.0",
          "model_name": "ProgressStyleModel",
          "state": {
            "_model_module": "@jupyter-widgets/controls",
            "_model_module_version": "1.5.0",
            "_model_name": "ProgressStyleModel",
            "_view_count": null,
            "_view_module": "@jupyter-widgets/base",
            "_view_module_version": "1.2.0",
            "_view_name": "StyleView",
            "bar_color": "black",
            "description_width": ""
          }
        },
        "f865cd14b4b847769dffb001c8c18285": {
          "model_module": "@jupyter-widgets/controls",
          "model_module_version": "1.5.0",
          "model_name": "ProgressStyleModel",
          "state": {
            "_model_module": "@jupyter-widgets/controls",
            "_model_module_version": "1.5.0",
            "_model_name": "ProgressStyleModel",
            "_view_count": null,
            "_view_module": "@jupyter-widgets/base",
            "_view_module_version": "1.2.0",
            "_view_name": "StyleView",
            "bar_color": "black",
            "description_width": ""
          }
        },
        "fe7f195557f74d5f8f7d750c9db07970": {
          "model_module": "@jupyter-widgets/controls",
          "model_module_version": "1.5.0",
          "model_name": "ProgressStyleModel",
          "state": {
            "_model_module": "@jupyter-widgets/controls",
            "_model_module_version": "1.5.0",
            "_model_name": "ProgressStyleModel",
            "_view_count": null,
            "_view_module": "@jupyter-widgets/base",
            "_view_module_version": "1.2.0",
            "_view_name": "StyleView",
            "bar_color": "black",
            "description_width": ""
          }
        },
        "ffa18fa13e1e4dec9036a2e5c98967c6": {
          "model_module": "@jupyter-widgets/controls",
          "model_module_version": "1.5.0",
          "model_name": "FloatProgressModel",
          "state": {
            "_dom_classes": [],
            "_model_module": "@jupyter-widgets/controls",
            "_model_module_version": "1.5.0",
            "_model_name": "FloatProgressModel",
            "_view_count": null,
            "_view_module": "@jupyter-widgets/controls",
            "_view_module_version": "1.5.0",
            "_view_name": "ProgressView",
            "bar_style": "",
            "description": "",
            "description_tooltip": null,
            "layout": "IPY_MODEL_d043be37b88143ad85925f363f393c16",
            "max": 100,
            "min": 0,
            "orientation": "horizontal",
            "style": "IPY_MODEL_bce23328821f438f97d5d6a9c6df33b6",
            "value": 100
          }
        },
        "8b4b2a39114f457ab6b69e78b45da574": {
          "model_module": "@jupyter-widgets/controls",
          "model_name": "FloatProgressModel",
          "model_module_version": "1.5.0",
          "state": {
            "_dom_classes": [],
            "_model_module": "@jupyter-widgets/controls",
            "_model_module_version": "1.5.0",
            "_model_name": "FloatProgressModel",
            "_view_count": null,
            "_view_module": "@jupyter-widgets/controls",
            "_view_module_version": "1.5.0",
            "_view_name": "ProgressView",
            "bar_style": "",
            "description": "",
            "description_tooltip": null,
            "layout": "IPY_MODEL_a44c01b617e747a1b454d9221b4e4c78",
            "max": 100,
            "min": 0,
            "orientation": "horizontal",
            "style": "IPY_MODEL_b1e53973b9cc4961bb8c62727fe1f6fd",
            "value": 100
          }
        },
        "a44c01b617e747a1b454d9221b4e4c78": {
          "model_module": "@jupyter-widgets/base",
          "model_name": "LayoutModel",
          "model_module_version": "1.2.0",
          "state": {
            "_model_module": "@jupyter-widgets/base",
            "_model_module_version": "1.2.0",
            "_model_name": "LayoutModel",
            "_view_count": null,
            "_view_module": "@jupyter-widgets/base",
            "_view_module_version": "1.2.0",
            "_view_name": "LayoutView",
            "align_content": null,
            "align_items": null,
            "align_self": null,
            "border": null,
            "bottom": null,
            "display": null,
            "flex": null,
            "flex_flow": null,
            "grid_area": null,
            "grid_auto_columns": null,
            "grid_auto_flow": null,
            "grid_auto_rows": null,
            "grid_column": null,
            "grid_gap": null,
            "grid_row": null,
            "grid_template_areas": null,
            "grid_template_columns": null,
            "grid_template_rows": null,
            "height": null,
            "justify_content": null,
            "justify_items": null,
            "left": null,
            "margin": null,
            "max_height": null,
            "max_width": null,
            "min_height": null,
            "min_width": null,
            "object_fit": null,
            "object_position": null,
            "order": null,
            "overflow": null,
            "overflow_x": null,
            "overflow_y": null,
            "padding": null,
            "right": null,
            "top": null,
            "visibility": null,
            "width": "auto"
          }
        },
        "b1e53973b9cc4961bb8c62727fe1f6fd": {
          "model_module": "@jupyter-widgets/controls",
          "model_name": "ProgressStyleModel",
          "model_module_version": "1.5.0",
          "state": {
            "_model_module": "@jupyter-widgets/controls",
            "_model_module_version": "1.5.0",
            "_model_name": "ProgressStyleModel",
            "_view_count": null,
            "_view_module": "@jupyter-widgets/base",
            "_view_module_version": "1.2.0",
            "_view_name": "StyleView",
            "bar_color": "black",
            "description_width": ""
          }
        },
        "165ce652d1234eba8b07a36f6622a34e": {
          "model_module": "@jupyter-widgets/controls",
          "model_name": "FloatProgressModel",
          "model_module_version": "1.5.0",
          "state": {
            "_dom_classes": [],
            "_model_module": "@jupyter-widgets/controls",
            "_model_module_version": "1.5.0",
            "_model_name": "FloatProgressModel",
            "_view_count": null,
            "_view_module": "@jupyter-widgets/controls",
            "_view_module_version": "1.5.0",
            "_view_name": "ProgressView",
            "bar_style": "",
            "description": "",
            "description_tooltip": null,
            "layout": "IPY_MODEL_4ac4ae22302f467bb76409b96ba96e2b",
            "max": 100,
            "min": 0,
            "orientation": "horizontal",
            "style": "IPY_MODEL_d99e47a00b23465db12d957dcf22265a",
            "value": 100
          }
        },
        "4ac4ae22302f467bb76409b96ba96e2b": {
          "model_module": "@jupyter-widgets/base",
          "model_name": "LayoutModel",
          "model_module_version": "1.2.0",
          "state": {
            "_model_module": "@jupyter-widgets/base",
            "_model_module_version": "1.2.0",
            "_model_name": "LayoutModel",
            "_view_count": null,
            "_view_module": "@jupyter-widgets/base",
            "_view_module_version": "1.2.0",
            "_view_name": "LayoutView",
            "align_content": null,
            "align_items": null,
            "align_self": null,
            "border": null,
            "bottom": null,
            "display": null,
            "flex": null,
            "flex_flow": null,
            "grid_area": null,
            "grid_auto_columns": null,
            "grid_auto_flow": null,
            "grid_auto_rows": null,
            "grid_column": null,
            "grid_gap": null,
            "grid_row": null,
            "grid_template_areas": null,
            "grid_template_columns": null,
            "grid_template_rows": null,
            "height": null,
            "justify_content": null,
            "justify_items": null,
            "left": null,
            "margin": null,
            "max_height": null,
            "max_width": null,
            "min_height": null,
            "min_width": null,
            "object_fit": null,
            "object_position": null,
            "order": null,
            "overflow": null,
            "overflow_x": null,
            "overflow_y": null,
            "padding": null,
            "right": null,
            "top": null,
            "visibility": null,
            "width": "auto"
          }
        },
        "d99e47a00b23465db12d957dcf22265a": {
          "model_module": "@jupyter-widgets/controls",
          "model_name": "ProgressStyleModel",
          "model_module_version": "1.5.0",
          "state": {
            "_model_module": "@jupyter-widgets/controls",
            "_model_module_version": "1.5.0",
            "_model_name": "ProgressStyleModel",
            "_view_count": null,
            "_view_module": "@jupyter-widgets/base",
            "_view_module_version": "1.2.0",
            "_view_name": "StyleView",
            "bar_color": "black",
            "description_width": ""
          }
        },
        "94abae8be72648a791e3eac75e7ad839": {
          "model_module": "@jupyter-widgets/controls",
          "model_name": "FloatProgressModel",
          "model_module_version": "1.5.0",
          "state": {
            "_dom_classes": [],
            "_model_module": "@jupyter-widgets/controls",
            "_model_module_version": "1.5.0",
            "_model_name": "FloatProgressModel",
            "_view_count": null,
            "_view_module": "@jupyter-widgets/controls",
            "_view_module_version": "1.5.0",
            "_view_name": "ProgressView",
            "bar_style": "",
            "description": "",
            "description_tooltip": null,
            "layout": "IPY_MODEL_51a1b9b252f141c28b09193408727d7c",
            "max": 100,
            "min": 0,
            "orientation": "horizontal",
            "style": "IPY_MODEL_7f6f01946eb24d75b3b9ef7b54ab4a27",
            "value": 100
          }
        },
        "51a1b9b252f141c28b09193408727d7c": {
          "model_module": "@jupyter-widgets/base",
          "model_name": "LayoutModel",
          "model_module_version": "1.2.0",
          "state": {
            "_model_module": "@jupyter-widgets/base",
            "_model_module_version": "1.2.0",
            "_model_name": "LayoutModel",
            "_view_count": null,
            "_view_module": "@jupyter-widgets/base",
            "_view_module_version": "1.2.0",
            "_view_name": "LayoutView",
            "align_content": null,
            "align_items": null,
            "align_self": null,
            "border": null,
            "bottom": null,
            "display": null,
            "flex": null,
            "flex_flow": null,
            "grid_area": null,
            "grid_auto_columns": null,
            "grid_auto_flow": null,
            "grid_auto_rows": null,
            "grid_column": null,
            "grid_gap": null,
            "grid_row": null,
            "grid_template_areas": null,
            "grid_template_columns": null,
            "grid_template_rows": null,
            "height": null,
            "justify_content": null,
            "justify_items": null,
            "left": null,
            "margin": null,
            "max_height": null,
            "max_width": null,
            "min_height": null,
            "min_width": null,
            "object_fit": null,
            "object_position": null,
            "order": null,
            "overflow": null,
            "overflow_x": null,
            "overflow_y": null,
            "padding": null,
            "right": null,
            "top": null,
            "visibility": null,
            "width": "auto"
          }
        },
        "7f6f01946eb24d75b3b9ef7b54ab4a27": {
          "model_module": "@jupyter-widgets/controls",
          "model_name": "ProgressStyleModel",
          "model_module_version": "1.5.0",
          "state": {
            "_model_module": "@jupyter-widgets/controls",
            "_model_module_version": "1.5.0",
            "_model_name": "ProgressStyleModel",
            "_view_count": null,
            "_view_module": "@jupyter-widgets/base",
            "_view_module_version": "1.2.0",
            "_view_name": "StyleView",
            "bar_color": "black",
            "description_width": ""
          }
        }
      }
    }
  },
  "nbformat": 4,
  "nbformat_minor": 0
}