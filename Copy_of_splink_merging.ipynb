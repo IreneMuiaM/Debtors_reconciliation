{
  "cells": [
    {
      "cell_type": "markdown",
      "metadata": {
        "id": "view-in-github",
        "colab_type": "text"
      },
      "source": [
        "<a href=\"https://colab.research.google.com/github/IreneMuiaM/Debtors_reconciliation/blob/main/Copy_of_splink_merging.ipynb\" target=\"_parent\"><img src=\"https://colab.research.google.com/assets/colab-badge.svg\" alt=\"Open In Colab\"/></a>"
      ]
    },
    {
      "cell_type": "code",
      "execution_count": null,
      "metadata": {
        "id": "D-wW2fXVambb"
      },
      "outputs": [],
      "source": [
        "#!sudo apt install python3-pip\n"
      ]
    },
    {
      "cell_type": "code",
      "execution_count": null,
      "metadata": {
        "id": "viC6z4DPgXxO"
      },
      "outputs": [],
      "source": [
        "# !sudo apt-get update -y\n",
        "\n",
        "# !sudo apt-get install python3.7\n",
        "\n",
        "# !sudo update-alternatives --install /usr/bin/python3 python3 /usr/bin/python3.7 1\n",
        "\n",
        "# !sudo update-alternatives --config python3\n",
        "\n",
        "# !apt-get install python3-pip\n",
        "\n",
        "# !python -m pip install --upgrade pip --us\n",
        "# 2"
      ]
    },
    {
      "cell_type": "code",
      "execution_count": 2,
      "metadata": {
        "id": "-_y-C188iK1L",
        "colab": {
          "base_uri": "https://localhost:8080/"
        },
        "outputId": "f44a2433-571d-42f8-f06d-fd86a9b48c0a"
      },
      "outputs": [
        {
          "output_type": "stream",
          "name": "stdout",
          "text": [
            "Reading package lists... Done\n",
            "Building dependency tree       \n",
            "Reading state information... Done\n",
            "python3.7 is already the newest version (3.7.17-1+focal1).\n",
            "0 upgraded, 0 newly installed, 0 to remove and 15 not upgraded.\n"
          ]
        }
      ],
      "source": [
        "!apt-get install python3.7\n",
        "!ln -sf /usr/bin/python3.7 /usr/bin/python"
      ]
    },
    {
      "cell_type": "code",
      "execution_count": 3,
      "metadata": {
        "id": "KU9A8p0Q8kmV",
        "colab": {
          "base_uri": "https://localhost:8080/"
        },
        "outputId": "a4aad435-54a0-463e-8c1b-a922314f7646"
      },
      "outputs": [
        {
          "output_type": "stream",
          "name": "stdout",
          "text": [
            "Python 3.10.12\n"
          ]
        }
      ],
      "source": [
        "!python3 --version"
      ]
    },
    {
      "cell_type": "code",
      "execution_count": 4,
      "metadata": {
        "id": "rX18MmQ-71OO"
      },
      "outputs": [],
      "source": [
        "import pandas as pd\n",
        "import numpy as np"
      ]
    },
    {
      "cell_type": "code",
      "execution_count": 5,
      "metadata": {
        "id": "0TeL2mpdnWR9",
        "colab": {
          "base_uri": "https://localhost:8080/"
        },
        "outputId": "c9d053ef-dcb5-4e77-8bea-b723fcc6040d"
      },
      "outputs": [
        {
          "output_type": "stream",
          "name": "stderr",
          "text": [
            "<ipython-input-5-3d0591096b08>:1: DtypeWarning: Columns (2,4,9,26) have mixed types. Specify dtype option on import or set low_memory=False.\n",
            "  Actuarial_claims=pd.read_csv(\"Actuarial.csv\")\n"
          ]
        }
      ],
      "source": [
        "Actuarial_claims=pd.read_csv(\"Actuarial.csv\")"
      ]
    },
    {
      "cell_type": "code",
      "execution_count": 6,
      "metadata": {
        "id": "hAjNBX9qn3cT"
      },
      "outputs": [],
      "source": [
        "Actuarial_claims_unique_id=Actuarial_claims[['PolPcId', 'cltname_x', 'ClientPinNumber',\n",
        "       'OriginalAttachmentDate','Department', 'BranchName_x']]"
      ]
    },
    {
      "cell_type": "code",
      "source": [
        "# removing duplicates from data\n",
        "Actuarial_claims_unique_id1=Actuarial_claims_unique_id.drop_duplicates()"
      ],
      "metadata": {
        "id": "EuR-ezBhfkem"
      },
      "execution_count": 7,
      "outputs": []
    },
    {
      "cell_type": "code",
      "source": [
        "print(Actuarial_claims_unique_id.shape)\n",
        "print(Actuarial_claims_unique_id1.shape)"
      ],
      "metadata": {
        "colab": {
          "base_uri": "https://localhost:8080/"
        },
        "id": "hg2f6rMOff-_",
        "outputId": "aa78a4ff-0a92-4f2c-c75b-1eb0fbe87ab6"
      },
      "execution_count": 8,
      "outputs": [
        {
          "output_type": "stream",
          "name": "stdout",
          "text": [
            "(356310, 6)\n",
            "(189285, 6)\n"
          ]
        }
      ]
    },
    {
      "cell_type": "code",
      "execution_count": 9,
      "metadata": {
        "colab": {
          "base_uri": "https://localhost:8080/"
        },
        "id": "KQJbuNlRzwC2",
        "outputId": "ea7b86c9-c4ba-4520-9db2-76fa0dc89268"
      },
      "outputs": [
        {
          "output_type": "stream",
          "name": "stderr",
          "text": [
            "<ipython-input-9-54fb0dc4e032>:2: SettingWithCopyWarning: \n",
            "A value is trying to be set on a copy of a slice from a DataFrame.\n",
            "Try using .loc[row_indexer,col_indexer] = value instead\n",
            "\n",
            "See the caveats in the documentation: https://pandas.pydata.org/pandas-docs/stable/user_guide/indexing.html#returning-a-view-versus-a-copy\n",
            "  x[\"cltname_x\"]=x[\"cltname_x\"].apply(str.lower)\n",
            "<ipython-input-9-54fb0dc4e032>:3: SettingWithCopyWarning: \n",
            "A value is trying to be set on a copy of a slice from a DataFrame.\n",
            "Try using .loc[row_indexer,col_indexer] = value instead\n",
            "\n",
            "See the caveats in the documentation: https://pandas.pydata.org/pandas-docs/stable/user_guide/indexing.html#returning-a-view-versus-a-copy\n",
            "  x[\"Department\"]=x[\"Department\"].apply(str.lower)\n",
            "<ipython-input-9-54fb0dc4e032>:4: SettingWithCopyWarning: \n",
            "A value is trying to be set on a copy of a slice from a DataFrame.\n",
            "Try using .loc[row_indexer,col_indexer] = value instead\n",
            "\n",
            "See the caveats in the documentation: https://pandas.pydata.org/pandas-docs/stable/user_guide/indexing.html#returning-a-view-versus-a-copy\n",
            "  x[\"BranchName_x\"]=x[\"BranchName_x\"].apply(str.lower)\n",
            "<ipython-input-9-54fb0dc4e032>:11: SettingWithCopyWarning: \n",
            "A value is trying to be set on a copy of a slice from a DataFrame.\n",
            "Try using .loc[row_indexer,col_indexer] = value instead\n",
            "\n",
            "See the caveats in the documentation: https://pandas.pydata.org/pandas-docs/stable/user_guide/indexing.html#returning-a-view-versus-a-copy\n",
            "  x[\"cltname_x\"]=x[\"cltname_x\"].apply(lambda y: re.sub('[\">\",\",\",\"/\",\".\",\"-\",\"?\",\")\",\"(\",\"-\"]', ' ', y))\n",
            "<ipython-input-9-54fb0dc4e032>:12: SettingWithCopyWarning: \n",
            "A value is trying to be set on a copy of a slice from a DataFrame.\n",
            "Try using .loc[row_indexer,col_indexer] = value instead\n",
            "\n",
            "See the caveats in the documentation: https://pandas.pydata.org/pandas-docs/stable/user_guide/indexing.html#returning-a-view-versus-a-copy\n",
            "  x[\"BranchName_x\"]=x[\"BranchName_x\"].apply(lambda y: re.sub('[\">\",\",\",\"/\",\".\",\"-\",\"?\",\")\",\"(\",\"-\"]', ' ', y))\n",
            "<ipython-input-9-54fb0dc4e032>:18: SettingWithCopyWarning: \n",
            "A value is trying to be set on a copy of a slice from a DataFrame.\n",
            "Try using .loc[row_indexer,col_indexer] = value instead\n",
            "\n",
            "See the caveats in the documentation: https://pandas.pydata.org/pandas-docs/stable/user_guide/indexing.html#returning-a-view-versus-a-copy\n",
            "  x[\"cltname_x\"]=x[\"cltname_x\"].str.strip()\n",
            "<ipython-input-9-54fb0dc4e032>:19: SettingWithCopyWarning: \n",
            "A value is trying to be set on a copy of a slice from a DataFrame.\n",
            "Try using .loc[row_indexer,col_indexer] = value instead\n",
            "\n",
            "See the caveats in the documentation: https://pandas.pydata.org/pandas-docs/stable/user_guide/indexing.html#returning-a-view-versus-a-copy\n",
            "  x[\"Department\"]=x[\"Department\"].str.strip()\n",
            "<ipython-input-9-54fb0dc4e032>:20: SettingWithCopyWarning: \n",
            "A value is trying to be set on a copy of a slice from a DataFrame.\n",
            "Try using .loc[row_indexer,col_indexer] = value instead\n",
            "\n",
            "See the caveats in the documentation: https://pandas.pydata.org/pandas-docs/stable/user_guide/indexing.html#returning-a-view-versus-a-copy\n",
            "  x[\"BranchName_x\"]=x[\"BranchName_x\"].str.strip()\n",
            "<ipython-input-9-54fb0dc4e032>:21: SettingWithCopyWarning: \n",
            "A value is trying to be set on a copy of a slice from a DataFrame.\n",
            "Try using .loc[row_indexer,col_indexer] = value instead\n",
            "\n",
            "See the caveats in the documentation: https://pandas.pydata.org/pandas-docs/stable/user_guide/indexing.html#returning-a-view-versus-a-copy\n",
            "  x[\"ClientPinNumber\"]= x[\"ClientPinNumber\"].str.strip()\n"
          ]
        }
      ],
      "source": [
        "def lower_case(x):\n",
        "  x[\"cltname_x\"]=x[\"cltname_x\"].apply(str.lower)\n",
        "  x[\"Department\"]=x[\"Department\"].apply(str.lower)\n",
        "  x[\"BranchName_x\"]=x[\"BranchName_x\"].apply(str.lower)\n",
        "  return x\n",
        "\n",
        "Actuarial_claims_unique_id2=lower_case(Actuarial_claims_unique_id1)\n",
        "\n",
        "import re\n",
        "def remove_dirt(x):\n",
        "  x[\"cltname_x\"]=x[\"cltname_x\"].apply(lambda y: re.sub('[\">\",\",\",\"/\",\".\",\"-\",\"?\",\")\",\"(\",\"-\"]', ' ', y))\n",
        "  x[\"BranchName_x\"]=x[\"BranchName_x\"].apply(lambda y: re.sub('[\">\",\",\",\"/\",\".\",\"-\",\"?\",\")\",\"(\",\"-\"]', ' ', y))\n",
        "  return x\n",
        "\n",
        "Actuarial_claims_unique_id3=remove_dirt(Actuarial_claims_unique_id2)\n",
        "\n",
        "def remove_trailing(x):\n",
        "  x[\"cltname_x\"]=x[\"cltname_x\"].str.strip()\n",
        "  x[\"Department\"]=x[\"Department\"].str.strip()\n",
        "  x[\"BranchName_x\"]=x[\"BranchName_x\"].str.strip()\n",
        "  x[\"ClientPinNumber\"]= x[\"ClientPinNumber\"].str.strip()\n",
        "  return x\n",
        "Actuarial_claims_unique_id4=remove_trailing(Actuarial_claims_unique_id3)\n"
      ]
    },
    {
      "cell_type": "code",
      "execution_count": 10,
      "metadata": {
        "colab": {
          "base_uri": "https://localhost:8080/"
        },
        "id": "sR265tSd8C4V",
        "outputId": "53e4cc61-5fd8-4049-97bc-6d9de52bc41f"
      },
      "outputs": [
        {
          "output_type": "stream",
          "name": "stderr",
          "text": [
            "<ipython-input-10-12ae5a98a46e>:3: SettingWithCopyWarning: \n",
            "A value is trying to be set on a copy of a slice from a DataFrame.\n",
            "Try using .loc[row_indexer,col_indexer] = value instead\n",
            "\n",
            "See the caveats in the documentation: https://pandas.pydata.org/pandas-docs/stable/user_guide/indexing.html#returning-a-view-versus-a-copy\n",
            "  x[\"cltname_x\"]=x[\"cltname_x\"].replace('', np.nan)\n",
            "<ipython-input-10-12ae5a98a46e>:4: SettingWithCopyWarning: \n",
            "A value is trying to be set on a copy of a slice from a DataFrame.\n",
            "Try using .loc[row_indexer,col_indexer] = value instead\n",
            "\n",
            "See the caveats in the documentation: https://pandas.pydata.org/pandas-docs/stable/user_guide/indexing.html#returning-a-view-versus-a-copy\n",
            "  x[\"Department\"]=x[\"Department\"].replace('', np.nan)\n",
            "<ipython-input-10-12ae5a98a46e>:5: SettingWithCopyWarning: \n",
            "A value is trying to be set on a copy of a slice from a DataFrame.\n",
            "Try using .loc[row_indexer,col_indexer] = value instead\n",
            "\n",
            "See the caveats in the documentation: https://pandas.pydata.org/pandas-docs/stable/user_guide/indexing.html#returning-a-view-versus-a-copy\n",
            "  x[\"BranchName_x\"]=x[\"BranchName_x\"].replace('', np.nan)\n",
            "<ipython-input-10-12ae5a98a46e>:6: SettingWithCopyWarning: \n",
            "A value is trying to be set on a copy of a slice from a DataFrame.\n",
            "Try using .loc[row_indexer,col_indexer] = value instead\n",
            "\n",
            "See the caveats in the documentation: https://pandas.pydata.org/pandas-docs/stable/user_guide/indexing.html#returning-a-view-versus-a-copy\n",
            "  x[\"OriginalAttachmentDate\"]= x[\"OriginalAttachmentDate\"].replace('', np.nan)\n"
          ]
        }
      ],
      "source": [
        "# fILL MISSING Values with nan\n",
        "def replace_to_null(x):\n",
        "  x[\"cltname_x\"]=x[\"cltname_x\"].replace('', np.nan)\n",
        "  x[\"Department\"]=x[\"Department\"].replace('', np.nan)\n",
        "  x[\"BranchName_x\"]=x[\"BranchName_x\"].replace('', np.nan)\n",
        "  x[\"OriginalAttachmentDate\"]= x[\"OriginalAttachmentDate\"].replace('', np.nan)\n",
        "  return x\n",
        "Actuarial_claims_unique_id5=replace_to_null(Actuarial_claims_unique_id4)"
      ]
    },
    {
      "cell_type": "code",
      "execution_count": 11,
      "metadata": {
        "colab": {
          "base_uri": "https://localhost:8080/"
        },
        "id": "SGuMeDcdrfRd",
        "outputId": "890c00ca-74e1-45d8-9719-38a88b4e5f8a"
      },
      "outputs": [
        {
          "output_type": "stream",
          "name": "stdout",
          "text": [
            "<class 'pandas.core.frame.DataFrame'>\n",
            "Int64Index: 189285 entries, 0 to 356309\n",
            "Data columns (total 7 columns):\n",
            " #   Column                  Non-Null Count   Dtype \n",
            "---  ------                  --------------   ----- \n",
            " 0   PolPcId                 189285 non-null  int64 \n",
            " 1   cltname_x               189285 non-null  object\n",
            " 2   ClientPinNumber         162515 non-null  object\n",
            " 3   OriginalAttachmentDate  188303 non-null  object\n",
            " 4   Department              189285 non-null  object\n",
            " 5   BranchName_x            189285 non-null  object\n",
            " 6   unique_id               189285 non-null  int64 \n",
            "dtypes: int64(2), object(5)\n",
            "memory usage: 11.6+ MB\n"
          ]
        }
      ],
      "source": [
        "Actuarial_claims_unique_id6 = Actuarial_claims_unique_id5.replace(r'^\\s*$', np.nan, regex=True)\n",
        "Actuarial_claims_unique_id6 = Actuarial_claims_unique_id6.assign(unique_id=range(len(Actuarial_claims_unique_id6)))\n",
        "Actuarial_claims_unique_id6.info()"
      ]
    },
    {
      "cell_type": "code",
      "execution_count": 12,
      "metadata": {
        "id": "kbIyS86dhlm7"
      },
      "outputs": [],
      "source": [
        "Actuarial_claims_unique_id6.to_csv(\"Actuarial_claims_unique_id7.csv\")"
      ]
    },
    {
      "cell_type": "markdown",
      "metadata": {
        "id": "GgfWqkacolQ1"
      },
      "source": [
        "#Data deduplication using splink"
      ]
    },
    {
      "cell_type": "code",
      "execution_count": 13,
      "metadata": {
        "colab": {
          "base_uri": "https://localhost:8080/"
        },
        "id": "67o-y4WHzE3E",
        "outputId": "8074d5db-a94c-4dcc-99ff-c67118f737e4"
      },
      "outputs": [
        {
          "output_type": "stream",
          "name": "stdout",
          "text": [
            "Requirement already satisfied: splink in /usr/local/lib/python3.10/dist-packages (3.9.3)\n",
            "Requirement already satisfied: Jinja2>=3.0.3 in /usr/local/lib/python3.10/dist-packages (from splink) (3.1.2)\n",
            "Requirement already satisfied: altair<6.0.0,>=5.0.1 in /usr/local/lib/python3.10/dist-packages (from splink) (5.0.1)\n",
            "Requirement already satisfied: duckdb>=0.6.0 in /usr/local/lib/python3.10/dist-packages (from splink) (0.8.1)\n",
            "Requirement already satisfied: jsonschema<5.0,>=3.2 in /usr/local/lib/python3.10/dist-packages (from splink) (4.3.3)\n",
            "Requirement already satisfied: pandas>=1.0.0 in /usr/local/lib/python3.10/dist-packages (from splink) (1.5.3)\n",
            "Requirement already satisfied: phonetics<2.0.0,>=1.0.5 in /usr/local/lib/python3.10/dist-packages (from splink) (1.0.5)\n",
            "Requirement already satisfied: sqlglot<11.4.2,>=5.1.0 in /usr/local/lib/python3.10/dist-packages (from splink) (11.4.1)\n",
            "Requirement already satisfied: numpy in /usr/local/lib/python3.10/dist-packages (from altair<6.0.0,>=5.0.1->splink) (1.22.4)\n",
            "Requirement already satisfied: toolz in /usr/local/lib/python3.10/dist-packages (from altair<6.0.0,>=5.0.1->splink) (0.12.0)\n",
            "Requirement already satisfied: typing-extensions>=4.0.1 in /usr/local/lib/python3.10/dist-packages (from altair<6.0.0,>=5.0.1->splink) (4.6.3)\n",
            "Requirement already satisfied: MarkupSafe>=2.0 in /usr/local/lib/python3.10/dist-packages (from Jinja2>=3.0.3->splink) (2.1.3)\n",
            "Requirement already satisfied: attrs>=17.4.0 in /usr/local/lib/python3.10/dist-packages (from jsonschema<5.0,>=3.2->splink) (23.1.0)\n",
            "Requirement already satisfied: pyrsistent!=0.17.0,!=0.17.1,!=0.17.2,>=0.14.0 in /usr/local/lib/python3.10/dist-packages (from jsonschema<5.0,>=3.2->splink) (0.19.3)\n",
            "Requirement already satisfied: python-dateutil>=2.8.1 in /usr/local/lib/python3.10/dist-packages (from pandas>=1.0.0->splink) (2.8.2)\n",
            "Requirement already satisfied: pytz>=2020.1 in /usr/local/lib/python3.10/dist-packages (from pandas>=1.0.0->splink) (2022.7.1)\n",
            "Requirement already satisfied: six>=1.5 in /usr/local/lib/python3.10/dist-packages (from python-dateutil>=2.8.1->pandas>=1.0.0->splink) (1.16.0)\n"
          ]
        }
      ],
      "source": [
        "\n",
        "\n",
        "\n",
        "\n",
        "\n",
        "\n",
        "\n",
        "\n",
        "\n",
        "\n",
        "\n",
        "\n",
        "\n",
        "\n",
        "\n",
        "\n",
        "\n",
        "\n",
        "\n",
        "\n",
        "\n",
        "\n",
        "\n",
        "\n",
        "\n",
        "\n",
        "\n",
        "pip install splink"
      ]
    },
    {
      "cell_type": "code",
      "execution_count": 14,
      "metadata": {
        "colab": {
          "base_uri": "https://localhost:8080/"
        },
        "id": "L-K8ilOUifyH",
        "outputId": "c15579fd-a0e8-48ab-8ff6-ebf8ce3f4965"
      },
      "outputs": [
        {
          "output_type": "stream",
          "name": "stdout",
          "text": [
            "Requirement already satisfied: altair in /usr/local/lib/python3.10/dist-packages (5.0.1)\n",
            "Requirement already satisfied: vega_datasets in /usr/local/lib/python3.10/dist-packages (0.9.0)\n",
            "Requirement already satisfied: jinja2 in /usr/local/lib/python3.10/dist-packages (from altair) (3.1.2)\n",
            "Requirement already satisfied: jsonschema>=3.0 in /usr/local/lib/python3.10/dist-packages (from altair) (4.3.3)\n",
            "Requirement already satisfied: numpy in /usr/local/lib/python3.10/dist-packages (from altair) (1.22.4)\n",
            "Requirement already satisfied: pandas>=0.18 in /usr/local/lib/python3.10/dist-packages (from altair) (1.5.3)\n",
            "Requirement already satisfied: toolz in /usr/local/lib/python3.10/dist-packages (from altair) (0.12.0)\n",
            "Requirement already satisfied: typing-extensions>=4.0.1 in /usr/local/lib/python3.10/dist-packages (from altair) (4.6.3)\n",
            "Requirement already satisfied: attrs>=17.4.0 in /usr/local/lib/python3.10/dist-packages (from jsonschema>=3.0->altair) (23.1.0)\n",
            "Requirement already satisfied: pyrsistent!=0.17.0,!=0.17.1,!=0.17.2,>=0.14.0 in /usr/local/lib/python3.10/dist-packages (from jsonschema>=3.0->altair) (0.19.3)\n",
            "Requirement already satisfied: python-dateutil>=2.8.1 in /usr/local/lib/python3.10/dist-packages (from pandas>=0.18->altair) (2.8.2)\n",
            "Requirement already satisfied: pytz>=2020.1 in /usr/local/lib/python3.10/dist-packages (from pandas>=0.18->altair) (2022.7.1)\n",
            "Requirement already satisfied: MarkupSafe>=2.0 in /usr/local/lib/python3.10/dist-packages (from jinja2->altair) (2.1.3)\n",
            "Requirement already satisfied: six>=1.5 in /usr/local/lib/python3.10/dist-packages (from python-dateutil>=2.8.1->pandas>=0.18->altair) (1.16.0)\n"
          ]
        }
      ],
      "source": [
        "pip install altair vega_datasets"
      ]
    },
    {
      "cell_type": "code",
      "execution_count": 15,
      "metadata": {
        "colab": {
          "base_uri": "https://localhost:8080/"
        },
        "id": "Ed0g8S-03eK1",
        "outputId": "52fbe715-9c22-43c2-8f70-2e628574c593"
      },
      "outputs": [
        {
          "output_type": "stream",
          "name": "stdout",
          "text": [
            "Requirement already satisfied: altair_viewer in /usr/local/lib/python3.10/dist-packages (0.4.0)\n",
            "Requirement already satisfied: altair in /usr/local/lib/python3.10/dist-packages (from altair_viewer) (5.0.1)\n",
            "Requirement already satisfied: altair-data-server>=0.4.0 in /usr/local/lib/python3.10/dist-packages (from altair_viewer) (0.4.1)\n",
            "Requirement already satisfied: portpicker in /usr/local/lib/python3.10/dist-packages (from altair-data-server>=0.4.0->altair_viewer) (1.5.2)\n",
            "Requirement already satisfied: tornado in /usr/local/lib/python3.10/dist-packages (from altair-data-server>=0.4.0->altair_viewer) (6.3.1)\n",
            "Requirement already satisfied: jinja2 in /usr/local/lib/python3.10/dist-packages (from altair->altair_viewer) (3.1.2)\n",
            "Requirement already satisfied: jsonschema>=3.0 in /usr/local/lib/python3.10/dist-packages (from altair->altair_viewer) (4.3.3)\n",
            "Requirement already satisfied: numpy in /usr/local/lib/python3.10/dist-packages (from altair->altair_viewer) (1.22.4)\n",
            "Requirement already satisfied: pandas>=0.18 in /usr/local/lib/python3.10/dist-packages (from altair->altair_viewer) (1.5.3)\n",
            "Requirement already satisfied: toolz in /usr/local/lib/python3.10/dist-packages (from altair->altair_viewer) (0.12.0)\n",
            "Requirement already satisfied: typing-extensions>=4.0.1 in /usr/local/lib/python3.10/dist-packages (from altair->altair_viewer) (4.6.3)\n",
            "Requirement already satisfied: attrs>=17.4.0 in /usr/local/lib/python3.10/dist-packages (from jsonschema>=3.0->altair->altair_viewer) (23.1.0)\n",
            "Requirement already satisfied: pyrsistent!=0.17.0,!=0.17.1,!=0.17.2,>=0.14.0 in /usr/local/lib/python3.10/dist-packages (from jsonschema>=3.0->altair->altair_viewer) (0.19.3)\n",
            "Requirement already satisfied: python-dateutil>=2.8.1 in /usr/local/lib/python3.10/dist-packages (from pandas>=0.18->altair->altair_viewer) (2.8.2)\n",
            "Requirement already satisfied: pytz>=2020.1 in /usr/local/lib/python3.10/dist-packages (from pandas>=0.18->altair->altair_viewer) (2022.7.1)\n",
            "Requirement already satisfied: MarkupSafe>=2.0 in /usr/local/lib/python3.10/dist-packages (from jinja2->altair->altair_viewer) (2.1.3)\n",
            "Requirement already satisfied: psutil in /usr/local/lib/python3.10/dist-packages (from portpicker->altair-data-server>=0.4.0->altair_viewer) (5.9.5)\n",
            "Requirement already satisfied: six>=1.5 in /usr/local/lib/python3.10/dist-packages (from python-dateutil>=2.8.1->pandas>=0.18->altair->altair_viewer) (1.16.0)\n"
          ]
        }
      ],
      "source": [
        "pip install altair_viewer"
      ]
    },
    {
      "cell_type": "code",
      "execution_count": 16,
      "metadata": {
        "colab": {
          "base_uri": "https://localhost:8080/"
        },
        "id": "o7NmtPbJ1maA",
        "outputId": "f452aaa6-5176-4b93-a09a-0ebedb5c45b9"
      },
      "outputs": [
        {
          "output_type": "execute_result",
          "data": {
            "text/plain": [
              "RendererRegistry.enable('mimetype')"
            ]
          },
          "metadata": {},
          "execution_count": 16
        }
      ],
      "source": [
        "import pandas as pd\n",
        "import altair as alt\n",
        "alt.renderers.enable('mimetype')"
      ]
    },
    {
      "cell_type": "code",
      "execution_count": 17,
      "metadata": {
        "colab": {
          "base_uri": "https://localhost:8080/"
        },
        "id": "fKW6gUZYu77r",
        "outputId": "f09e5e90-d746-45cb-dfbf-8dad6b9bbd36"
      },
      "outputs": [
        {
          "output_type": "execute_result",
          "data": {
            "text/plain": [
              "RendererRegistry.enable('default')"
            ]
          },
          "metadata": {},
          "execution_count": 17
        }
      ],
      "source": [
        "import altair as alt\n",
        "alt.renderers.enable('default')"
      ]
    },
    {
      "cell_type": "code",
      "execution_count": 18,
      "metadata": {
        "id": "nFFGwKuDxPXS"
      },
      "outputs": [],
      "source": [
        "#pip install git+git://github.com/altair-viz/altair.git\n",
        "#pip install git+git://github.com/altair-viz/altair_viewer.git\n",
        "#import altair as alt\n",
        "#alt.renderers.enable('altair_viewer')"
      ]
    },
    {
      "cell_type": "markdown",
      "metadata": {
        "id": "gY-SDU1l2B4d"
      },
      "source": [
        "## **Deduplicating with Splink**"
      ]
    },
    {
      "cell_type": "code",
      "execution_count": 19,
      "metadata": {
        "id": "AkngVXm_1_3I"
      },
      "outputs": [],
      "source": [
        "# Initialise the linker, passing in the input dataset(s)\n",
        "from splink.duckdb.linker import DuckDBLinker\n",
        "linker = DuckDBLinker(Actuarial_claims_unique_id6)"
      ]
    },
    {
      "cell_type": "markdown",
      "metadata": {
        "id": "Co0npGCg5eSa"
      },
      "source": [
        "# Explaratory Analysis"
      ]
    },
    {
      "cell_type": "code",
      "execution_count": 20,
      "metadata": {
        "colab": {
          "base_uri": "https://localhost:8080/",
          "height": 296
        },
        "id": "akZ0CSaQ2Qgl",
        "outputId": "b8a96dfe-83d2-4dcb-9d8f-cc442527d760"
      },
      "outputs": [
        {
          "output_type": "stream",
          "name": "stderr",
          "text": [
            "/usr/local/lib/python3.10/dist-packages/ipykernel/ipkernel.py:283: DeprecationWarning: `should_run_async` will not call `transform_cell` automatically in the future. Please pass the result to `transformed_cell` argument and any exception that happen during thetransform in `preprocessing_exc_tuple` in IPython 7.17 and above.\n",
            "  and should_run_async(code)\n"
          ]
        },
        {
          "output_type": "execute_result",
          "data": {
            "text/html": [
              "\n",
              "<style>\n",
              "  #altair-viz-921e6bed48b3425884d99460a39e61da.vega-embed {\n",
              "    width: 100%;\n",
              "    display: flex;\n",
              "  }\n",
              "\n",
              "  #altair-viz-921e6bed48b3425884d99460a39e61da.vega-embed details,\n",
              "  #altair-viz-921e6bed48b3425884d99460a39e61da.vega-embed details summary {\n",
              "    position: relative;\n",
              "  }\n",
              "</style>\n",
              "<div id=\"altair-viz-921e6bed48b3425884d99460a39e61da\"></div>\n",
              "<script type=\"text/javascript\">\n",
              "  var VEGA_DEBUG = (typeof VEGA_DEBUG == \"undefined\") ? {} : VEGA_DEBUG;\n",
              "  (function(spec, embedOpt){\n",
              "    let outputDiv = document.currentScript.previousElementSibling;\n",
              "    if (outputDiv.id !== \"altair-viz-921e6bed48b3425884d99460a39e61da\") {\n",
              "      outputDiv = document.getElementById(\"altair-viz-921e6bed48b3425884d99460a39e61da\");\n",
              "    }\n",
              "    const paths = {\n",
              "      \"vega\": \"https://cdn.jsdelivr.net/npm/vega@5?noext\",\n",
              "      \"vega-lib\": \"https://cdn.jsdelivr.net/npm/vega-lib?noext\",\n",
              "      \"vega-lite\": \"https://cdn.jsdelivr.net/npm/vega-lite@5.8.0?noext\",\n",
              "      \"vega-embed\": \"https://cdn.jsdelivr.net/npm/vega-embed@6?noext\",\n",
              "    };\n",
              "\n",
              "    function maybeLoadScript(lib, version) {\n",
              "      var key = `${lib.replace(\"-\", \"\")}_version`;\n",
              "      return (VEGA_DEBUG[key] == version) ?\n",
              "        Promise.resolve(paths[lib]) :\n",
              "        new Promise(function(resolve, reject) {\n",
              "          var s = document.createElement('script');\n",
              "          document.getElementsByTagName(\"head\")[0].appendChild(s);\n",
              "          s.async = true;\n",
              "          s.onload = () => {\n",
              "            VEGA_DEBUG[key] = version;\n",
              "            return resolve(paths[lib]);\n",
              "          };\n",
              "          s.onerror = () => reject(`Error loading script: ${paths[lib]}`);\n",
              "          s.src = paths[lib];\n",
              "        });\n",
              "    }\n",
              "\n",
              "    function showError(err) {\n",
              "      outputDiv.innerHTML = `<div class=\"error\" style=\"color:red;\">${err}</div>`;\n",
              "      throw err;\n",
              "    }\n",
              "\n",
              "    function displayChart(vegaEmbed) {\n",
              "      vegaEmbed(outputDiv, spec, embedOpt)\n",
              "        .catch(err => showError(`Javascript Error: ${err.message}<br>This usually means there's a typo in your chart specification. See the javascript console for the full traceback.`));\n",
              "    }\n",
              "\n",
              "    if(typeof define === \"function\" && define.amd) {\n",
              "      requirejs.config({paths});\n",
              "      require([\"vega-embed\"], displayChart, err => showError(`Error loading script: ${err.message}`));\n",
              "    } else {\n",
              "      maybeLoadScript(\"vega\", \"5\")\n",
              "        .then(() => maybeLoadScript(\"vega-lite\", \"5.8.0\"))\n",
              "        .then(() => maybeLoadScript(\"vega-embed\", \"6\"))\n",
              "        .catch(showError)\n",
              "        .then(() => displayChart(vegaEmbed));\n",
              "    }\n",
              "  })({\"config\": {\"view\": {\"continuousWidth\": 400, \"continuousHeight\": 300}, \"axis\": {\"labelFontSize\": 11}}, \"layer\": [{\"mark\": \"bar\", \"encoding\": {\"color\": {\"field\": \"null_proportion\", \"legend\": {\"format\": \".0%\"}, \"scale\": {\"range\": \"heatmap\"}, \"title\": \"Missingness\", \"type\": \"quantitative\"}, \"tooltip\": [{\"field\": \"column_name\", \"title\": \"Column\", \"type\": \"nominal\"}, {\"field\": \"null_count\", \"format\": \",.0f\", \"title\": \"Count of nulls\", \"type\": \"quantitative\"}, {\"field\": \"null_proportion\", \"format\": \".2%\", \"title\": \"Percentage of nulls\", \"type\": \"quantitative\"}, {\"field\": \"total_record_count\", \"format\": \",.0f\", \"title\": \"Total record count\", \"type\": \"quantitative\"}], \"x\": {\"axis\": {\"format\": \"%\", \"title\": \"Percentage of nulls\"}, \"field\": \"null_proportion\", \"type\": \"quantitative\"}, \"y\": {\"axis\": {\"title\": \"\"}, \"field\": \"column_name\", \"sort\": \"-x\", \"type\": \"nominal\"}}, \"title\": \"Missingness per column out of 189,285 records\"}], \"data\": {\"values\": [{\"null_proportion\": 0.0, \"null_count\": 0, \"total_record_count\": 189285, \"column_name\": \"None\"}, {\"null_proportion\": 0.0, \"null_count\": 0, \"total_record_count\": 189285, \"column_name\": \"PolPcId\"}, {\"null_proportion\": 0.0, \"null_count\": 0, \"total_record_count\": 189285, \"column_name\": \"cltname_x\"}, {\"null_proportion\": 0.1414269208908081, \"null_count\": 26770, \"total_record_count\": 189285, \"column_name\": \"ClientPinNumber\"}, {\"null_proportion\": 0.005187928676605225, \"null_count\": 982, \"total_record_count\": 189285, \"column_name\": \"OriginalAttachmentDate\"}, {\"null_proportion\": 0.0, \"null_count\": 0, \"total_record_count\": 189285, \"column_name\": \"Department\"}, {\"null_proportion\": 0.0, \"null_count\": 0, \"total_record_count\": 189285, \"column_name\": \"BranchName_x\"}, {\"null_proportion\": 0.0, \"null_count\": 0, \"total_record_count\": 189285, \"column_name\": \"unique_id\"}], \"name\": \"data-0e7bce5a1d2f132e282789d6ef7780fe\"}, \"title\": \"\", \"$schema\": \"https://vega.github.io/schema/vega-lite/v5.9.3.json\"}, {\"mode\": \"vega-lite\"});\n",
              "</script>"
            ],
            "text/plain": [
              "alt.LayerChart(...)"
            ]
          },
          "metadata": {},
          "execution_count": 20
        }
      ],
      "source": [
        "linker.missingness_chart()"
      ]
    },
    {
      "cell_type": "code",
      "execution_count": 21,
      "metadata": {
        "colab": {
          "base_uri": "https://localhost:8080/"
        },
        "id": "0MqMCyvK5upE",
        "outputId": "7ac92f6e-a59c-40fc-8ce8-6e7548043eb0"
      },
      "outputs": [
        {
          "output_type": "stream",
          "name": "stderr",
          "text": [
            "/usr/local/lib/python3.10/dist-packages/ipykernel/ipkernel.py:283: DeprecationWarning: `should_run_async` will not call `transform_cell` automatically in the future. Please pass the result to `transformed_cell` argument and any exception that happen during thetransform in `preprocessing_exc_tuple` in IPython 7.17 and above.\n",
            "  and should_run_async(code)\n"
          ]
        },
        {
          "output_type": "execute_result",
          "data": {
            "text/plain": [
              "Index(['PolPcId', 'cltname_x', 'ClientPinNumber', 'OriginalAttachmentDate',\n",
              "       'Department', 'BranchName_x', 'unique_id'],\n",
              "      dtype='object')"
            ]
          },
          "metadata": {},
          "execution_count": 21
        }
      ],
      "source": [
        "Actuarial_claims_unique_id6.columns"
      ]
    },
    {
      "cell_type": "code",
      "execution_count": 22,
      "metadata": {
        "colab": {
          "base_uri": "https://localhost:8080/",
          "height": 1000
        },
        "id": "GHRnvncd5oFB",
        "outputId": "75cc547f-50af-49c5-ab35-066e1c3e66bd"
      },
      "outputs": [
        {
          "output_type": "stream",
          "name": "stderr",
          "text": [
            "/usr/local/lib/python3.10/dist-packages/ipykernel/ipkernel.py:283: DeprecationWarning: `should_run_async` will not call `transform_cell` automatically in the future. Please pass the result to `transformed_cell` argument and any exception that happen during thetransform in `preprocessing_exc_tuple` in IPython 7.17 and above.\n",
            "  and should_run_async(code)\n"
          ]
        },
        {
          "output_type": "execute_result",
          "data": {
            "text/html": [
              "\n",
              "<style>\n",
              "  #altair-viz-5b5ec4c700f4497caee6ee59ed0cb3c2.vega-embed {\n",
              "    width: 100%;\n",
              "    display: flex;\n",
              "  }\n",
              "\n",
              "  #altair-viz-5b5ec4c700f4497caee6ee59ed0cb3c2.vega-embed details,\n",
              "  #altair-viz-5b5ec4c700f4497caee6ee59ed0cb3c2.vega-embed details summary {\n",
              "    position: relative;\n",
              "  }\n",
              "</style>\n",
              "<div id=\"altair-viz-5b5ec4c700f4497caee6ee59ed0cb3c2\"></div>\n",
              "<script type=\"text/javascript\">\n",
              "  var VEGA_DEBUG = (typeof VEGA_DEBUG == \"undefined\") ? {} : VEGA_DEBUG;\n",
              "  (function(spec, embedOpt){\n",
              "    let outputDiv = document.currentScript.previousElementSibling;\n",
              "    if (outputDiv.id !== \"altair-viz-5b5ec4c700f4497caee6ee59ed0cb3c2\") {\n",
              "      outputDiv = document.getElementById(\"altair-viz-5b5ec4c700f4497caee6ee59ed0cb3c2\");\n",
              "    }\n",
              "    const paths = {\n",
              "      \"vega\": \"https://cdn.jsdelivr.net/npm/vega@5?noext\",\n",
              "      \"vega-lib\": \"https://cdn.jsdelivr.net/npm/vega-lib?noext\",\n",
              "      \"vega-lite\": \"https://cdn.jsdelivr.net/npm/vega-lite@5.8.0?noext\",\n",
              "      \"vega-embed\": \"https://cdn.jsdelivr.net/npm/vega-embed@6?noext\",\n",
              "    };\n",
              "\n",
              "    function maybeLoadScript(lib, version) {\n",
              "      var key = `${lib.replace(\"-\", \"\")}_version`;\n",
              "      return (VEGA_DEBUG[key] == version) ?\n",
              "        Promise.resolve(paths[lib]) :\n",
              "        new Promise(function(resolve, reject) {\n",
              "          var s = document.createElement('script');\n",
              "          document.getElementsByTagName(\"head\")[0].appendChild(s);\n",
              "          s.async = true;\n",
              "          s.onload = () => {\n",
              "            VEGA_DEBUG[key] = version;\n",
              "            return resolve(paths[lib]);\n",
              "          };\n",
              "          s.onerror = () => reject(`Error loading script: ${paths[lib]}`);\n",
              "          s.src = paths[lib];\n",
              "        });\n",
              "    }\n",
              "\n",
              "    function showError(err) {\n",
              "      outputDiv.innerHTML = `<div class=\"error\" style=\"color:red;\">${err}</div>`;\n",
              "      throw err;\n",
              "    }\n",
              "\n",
              "    function displayChart(vegaEmbed) {\n",
              "      vegaEmbed(outputDiv, spec, embedOpt)\n",
              "        .catch(err => showError(`Javascript Error: ${err.message}<br>This usually means there's a typo in your chart specification. See the javascript console for the full traceback.`));\n",
              "    }\n",
              "\n",
              "    if(typeof define === \"function\" && define.amd) {\n",
              "      requirejs.config({paths});\n",
              "      require([\"vega-embed\"], displayChart, err => showError(`Error loading script: ${err.message}`));\n",
              "    } else {\n",
              "      maybeLoadScript(\"vega\", \"5\")\n",
              "        .then(() => maybeLoadScript(\"vega-lite\", \"5.8.0\"))\n",
              "        .then(() => maybeLoadScript(\"vega-embed\", \"6\"))\n",
              "        .catch(showError)\n",
              "        .then(() => displayChart(vegaEmbed));\n",
              "    }\n",
              "  })({\"config\": {\"view\": {\"continuousWidth\": 400, \"continuousHeight\": 300}}, \"vconcat\": [{\"hconcat\": [{\"mark\": {\"type\": \"line\", \"interpolate\": \"step-after\"}, \"data\": {\"values\": [{\"percentile_ex_nulls\": 0.9966822266578674, \"percentile_inc_nulls\": 0.9966822266578674, \"value_count\": 628, \"group_name\": \"cltname_x\", \"total_non_null_rows\": 189285, \"total_rows_inc_nulls\": 189285, \"sum_tokens_in_value_count_group\": 628.0, \"distinct_value_count\": 82423}, {\"percentile_ex_nulls\": 0.9936973452568054, \"percentile_inc_nulls\": 0.9936973452568054, \"value_count\": 565, \"group_name\": \"cltname_x\", \"total_non_null_rows\": 189285, \"total_rows_inc_nulls\": 189285, \"sum_tokens_in_value_count_group\": 565.0, \"distinct_value_count\": 82423}, {\"percentile_ex_nulls\": 0.992408275604248, \"percentile_inc_nulls\": 0.992408275604248, \"value_count\": 244, \"group_name\": \"cltname_x\", \"total_non_null_rows\": 189285, \"total_rows_inc_nulls\": 189285, \"sum_tokens_in_value_count_group\": 244.0, \"distinct_value_count\": 82423}, {\"percentile_ex_nulls\": 0.9912195801734924, \"percentile_inc_nulls\": 0.9912195801734924, \"value_count\": 225, \"group_name\": \"cltname_x\", \"total_non_null_rows\": 189285, \"total_rows_inc_nulls\": 189285, \"sum_tokens_in_value_count_group\": 225.0, \"distinct_value_count\": 82423}, {\"percentile_ex_nulls\": 0.9901048541069031, \"percentile_inc_nulls\": 0.9901048541069031, \"value_count\": 211, \"group_name\": \"cltname_x\", \"total_non_null_rows\": 189285, \"total_rows_inc_nulls\": 189285, \"sum_tokens_in_value_count_group\": 211.0, \"distinct_value_count\": 82423}, {\"percentile_ex_nulls\": 0.9890007376670837, \"percentile_inc_nulls\": 0.9890007376670837, \"value_count\": 209, \"group_name\": \"cltname_x\", \"total_non_null_rows\": 189285, \"total_rows_inc_nulls\": 189285, \"sum_tokens_in_value_count_group\": 209.0, \"distinct_value_count\": 82423}, {\"percentile_ex_nulls\": 0.9879229664802551, \"percentile_inc_nulls\": 0.9879229664802551, \"value_count\": 204, \"group_name\": \"cltname_x\", \"total_non_null_rows\": 189285, \"total_rows_inc_nulls\": 189285, \"sum_tokens_in_value_count_group\": 204.0, \"distinct_value_count\": 82423}, {\"percentile_ex_nulls\": 0.9869297742843628, \"percentile_inc_nulls\": 0.9869297742843628, \"value_count\": 188, \"group_name\": \"cltname_x\", \"total_non_null_rows\": 189285, \"total_rows_inc_nulls\": 189285, \"sum_tokens_in_value_count_group\": 188.0, \"distinct_value_count\": 82423}, {\"percentile_ex_nulls\": 0.9859735369682312, \"percentile_inc_nulls\": 0.9859735369682312, \"value_count\": 181, \"group_name\": \"cltname_x\", \"total_non_null_rows\": 189285, \"total_rows_inc_nulls\": 189285, \"sum_tokens_in_value_count_group\": 181.0, \"distinct_value_count\": 82423}, {\"percentile_ex_nulls\": 0.9850595593452454, \"percentile_inc_nulls\": 0.9850595593452454, \"value_count\": 173, \"group_name\": \"cltname_x\", \"total_non_null_rows\": 189285, \"total_rows_inc_nulls\": 189285, \"sum_tokens_in_value_count_group\": 173.0, \"distinct_value_count\": 82423}, {\"percentile_ex_nulls\": 0.984171986579895, \"percentile_inc_nulls\": 0.984171986579895, \"value_count\": 168, \"group_name\": \"cltname_x\", \"total_non_null_rows\": 189285, \"total_rows_inc_nulls\": 189285, \"sum_tokens_in_value_count_group\": 168.0, \"distinct_value_count\": 82423}, {\"percentile_ex_nulls\": 0.9833003282546997, \"percentile_inc_nulls\": 0.9833003282546997, \"value_count\": 165, \"group_name\": \"cltname_x\", \"total_non_null_rows\": 189285, \"total_rows_inc_nulls\": 189285, \"sum_tokens_in_value_count_group\": 165.0, \"distinct_value_count\": 82423}, {\"percentile_ex_nulls\": 0.9824972748756409, \"percentile_inc_nulls\": 0.9824972748756409, \"value_count\": 152, \"group_name\": \"cltname_x\", \"total_non_null_rows\": 189285, \"total_rows_inc_nulls\": 189285, \"sum_tokens_in_value_count_group\": 152.0, \"distinct_value_count\": 82423}, {\"percentile_ex_nulls\": 0.9817312359809875, \"percentile_inc_nulls\": 0.9817312359809875, \"value_count\": 145, \"group_name\": \"cltname_x\", \"total_non_null_rows\": 189285, \"total_rows_inc_nulls\": 189285, \"sum_tokens_in_value_count_group\": 145.0, \"distinct_value_count\": 82423}, {\"percentile_ex_nulls\": 0.9809916019439697, \"percentile_inc_nulls\": 0.9809916019439697, \"value_count\": 140, \"group_name\": \"cltname_x\", \"total_non_null_rows\": 189285, \"total_rows_inc_nulls\": 189285, \"sum_tokens_in_value_count_group\": 140.0, \"distinct_value_count\": 82423}, {\"percentile_ex_nulls\": 0.9802836775779724, \"percentile_inc_nulls\": 0.9802836775779724, \"value_count\": 134, \"group_name\": \"cltname_x\", \"total_non_null_rows\": 189285, \"total_rows_inc_nulls\": 189285, \"sum_tokens_in_value_count_group\": 134.0, \"distinct_value_count\": 82423}, {\"percentile_ex_nulls\": 0.9795969128608704, \"percentile_inc_nulls\": 0.9795969128608704, \"value_count\": 130, \"group_name\": \"cltname_x\", \"total_non_null_rows\": 189285, \"total_rows_inc_nulls\": 189285, \"sum_tokens_in_value_count_group\": 130.0, \"distinct_value_count\": 82423}, {\"percentile_ex_nulls\": 0.9789206981658936, \"percentile_inc_nulls\": 0.9789206981658936, \"value_count\": 128, \"group_name\": \"cltname_x\", \"total_non_null_rows\": 189285, \"total_rows_inc_nulls\": 189285, \"sum_tokens_in_value_count_group\": 128.0, \"distinct_value_count\": 82423}, {\"percentile_ex_nulls\": 0.9782972931861877, \"percentile_inc_nulls\": 0.9782972931861877, \"value_count\": 118, \"group_name\": \"cltname_x\", \"total_non_null_rows\": 189285, \"total_rows_inc_nulls\": 189285, \"sum_tokens_in_value_count_group\": 118.0, \"distinct_value_count\": 82423}, {\"percentile_ex_nulls\": 0.9772300720214844, \"percentile_inc_nulls\": 0.9772300720214844, \"value_count\": 101, \"group_name\": \"cltname_x\", \"total_non_null_rows\": 189285, \"total_rows_inc_nulls\": 189285, \"sum_tokens_in_value_count_group\": 202.0, \"distinct_value_count\": 82423}, {\"percentile_ex_nulls\": 0.9767071008682251, \"percentile_inc_nulls\": 0.9767071008682251, \"value_count\": 99, \"group_name\": \"cltname_x\", \"total_non_null_rows\": 189285, \"total_rows_inc_nulls\": 189285, \"sum_tokens_in_value_count_group\": 99.0, \"distinct_value_count\": 82423}, {\"percentile_ex_nulls\": 0.9761946201324463, \"percentile_inc_nulls\": 0.9761946201324463, \"value_count\": 97, \"group_name\": \"cltname_x\", \"total_non_null_rows\": 189285, \"total_rows_inc_nulls\": 189285, \"sum_tokens_in_value_count_group\": 97.0, \"distinct_value_count\": 82423}, {\"percentile_ex_nulls\": 0.9756874442100525, \"percentile_inc_nulls\": 0.9756874442100525, \"value_count\": 96, \"group_name\": \"cltname_x\", \"total_non_null_rows\": 189285, \"total_rows_inc_nulls\": 189285, \"sum_tokens_in_value_count_group\": 96.0, \"distinct_value_count\": 82423}, {\"percentile_ex_nulls\": 0.9752066731452942, \"percentile_inc_nulls\": 0.9752066731452942, \"value_count\": 91, \"group_name\": \"cltname_x\", \"total_non_null_rows\": 189285, \"total_rows_inc_nulls\": 189285, \"sum_tokens_in_value_count_group\": 91.0, \"distinct_value_count\": 82423}, {\"percentile_ex_nulls\": 0.9747312068939209, \"percentile_inc_nulls\": 0.9747312068939209, \"value_count\": 90, \"group_name\": \"cltname_x\", \"total_non_null_rows\": 189285, \"total_rows_inc_nulls\": 189285, \"sum_tokens_in_value_count_group\": 90.0, \"distinct_value_count\": 82423}, {\"percentile_ex_nulls\": 0.9742610454559326, \"percentile_inc_nulls\": 0.9742610454559326, \"value_count\": 89, \"group_name\": \"cltname_x\", \"total_non_null_rows\": 189285, \"total_rows_inc_nulls\": 189285, \"sum_tokens_in_value_count_group\": 89.0, \"distinct_value_count\": 82423}, {\"percentile_ex_nulls\": 0.9737961292266846, \"percentile_inc_nulls\": 0.9737961292266846, \"value_count\": 88, \"group_name\": \"cltname_x\", \"total_non_null_rows\": 189285, \"total_rows_inc_nulls\": 189285, \"sum_tokens_in_value_count_group\": 88.0, \"distinct_value_count\": 82423}, {\"percentile_ex_nulls\": 0.9733417630195618, \"percentile_inc_nulls\": 0.9733417630195618, \"value_count\": 86, \"group_name\": \"cltname_x\", \"total_non_null_rows\": 189285, \"total_rows_inc_nulls\": 189285, \"sum_tokens_in_value_count_group\": 86.0, \"distinct_value_count\": 82423}, {\"percentile_ex_nulls\": 0.9724753499031067, \"percentile_inc_nulls\": 0.9724753499031067, \"value_count\": 82, \"group_name\": \"cltname_x\", \"total_non_null_rows\": 189285, \"total_rows_inc_nulls\": 189285, \"sum_tokens_in_value_count_group\": 164.0, \"distinct_value_count\": 82423}, {\"percentile_ex_nulls\": 0.9720474481582642, \"percentile_inc_nulls\": 0.9720474481582642, \"value_count\": 81, \"group_name\": \"cltname_x\", \"total_non_null_rows\": 189285, \"total_rows_inc_nulls\": 189285, \"sum_tokens_in_value_count_group\": 81.0, \"distinct_value_count\": 82423}, {\"percentile_ex_nulls\": 0.9716247916221619, \"percentile_inc_nulls\": 0.9716247916221619, \"value_count\": 80, \"group_name\": \"cltname_x\", \"total_non_null_rows\": 189285, \"total_rows_inc_nulls\": 189285, \"sum_tokens_in_value_count_group\": 80.0, \"distinct_value_count\": 82423}, {\"percentile_ex_nulls\": 0.9712127447128296, \"percentile_inc_nulls\": 0.9712127447128296, \"value_count\": 78, \"group_name\": \"cltname_x\", \"total_non_null_rows\": 189285, \"total_rows_inc_nulls\": 189285, \"sum_tokens_in_value_count_group\": 78.0, \"distinct_value_count\": 82423}, {\"percentile_ex_nulls\": 0.9703991413116455, \"percentile_inc_nulls\": 0.9703991413116455, \"value_count\": 77, \"group_name\": \"cltname_x\", \"total_non_null_rows\": 189285, \"total_rows_inc_nulls\": 189285, \"sum_tokens_in_value_count_group\": 154.0, \"distinct_value_count\": 82423}, {\"percentile_ex_nulls\": 0.9699976444244385, \"percentile_inc_nulls\": 0.9699976444244385, \"value_count\": 76, \"group_name\": \"cltname_x\", \"total_non_null_rows\": 189285, \"total_rows_inc_nulls\": 189285, \"sum_tokens_in_value_count_group\": 76.0, \"distinct_value_count\": 82423}, {\"percentile_ex_nulls\": 0.9696013927459717, \"percentile_inc_nulls\": 0.9696013927459717, \"value_count\": 75, \"group_name\": \"cltname_x\", \"total_non_null_rows\": 189285, \"total_rows_inc_nulls\": 189285, \"sum_tokens_in_value_count_group\": 75.0, \"distinct_value_count\": 82423}, {\"percentile_ex_nulls\": 0.9688194990158081, \"percentile_inc_nulls\": 0.9688194990158081, \"value_count\": 74, \"group_name\": \"cltname_x\", \"total_non_null_rows\": 189285, \"total_rows_inc_nulls\": 189285, \"sum_tokens_in_value_count_group\": 148.0, \"distinct_value_count\": 82423}, {\"percentile_ex_nulls\": 0.9684391021728516, \"percentile_inc_nulls\": 0.9684391021728516, \"value_count\": 72, \"group_name\": \"cltname_x\", \"total_non_null_rows\": 189285, \"total_rows_inc_nulls\": 189285, \"sum_tokens_in_value_count_group\": 72.0, \"distinct_value_count\": 82423}, {\"percentile_ex_nulls\": 0.9676889181137085, \"percentile_inc_nulls\": 0.9676889181137085, \"value_count\": 71, \"group_name\": \"cltname_x\", \"total_non_null_rows\": 189285, \"total_rows_inc_nulls\": 189285, \"sum_tokens_in_value_count_group\": 142.0, \"distinct_value_count\": 82423}, {\"percentile_ex_nulls\": 0.967319130897522, \"percentile_inc_nulls\": 0.967319130897522, \"value_count\": 70, \"group_name\": \"cltname_x\", \"total_non_null_rows\": 189285, \"total_rows_inc_nulls\": 189285, \"sum_tokens_in_value_count_group\": 70.0, \"distinct_value_count\": 82423}, {\"percentile_ex_nulls\": 0.9666112065315247, \"percentile_inc_nulls\": 0.9666112065315247, \"value_count\": 67, \"group_name\": \"cltname_x\", \"total_non_null_rows\": 189285, \"total_rows_inc_nulls\": 189285, \"sum_tokens_in_value_count_group\": 134.0, \"distinct_value_count\": 82423}, {\"percentile_ex_nulls\": 0.9659349918365479, \"percentile_inc_nulls\": 0.9659349918365479, \"value_count\": 64, \"group_name\": \"cltname_x\", \"total_non_null_rows\": 189285, \"total_rows_inc_nulls\": 189285, \"sum_tokens_in_value_count_group\": 128.0, \"distinct_value_count\": 82423}, {\"percentile_ex_nulls\": 0.9652693271636963, \"percentile_inc_nulls\": 0.9652693271636963, \"value_count\": 63, \"group_name\": \"cltname_x\", \"total_non_null_rows\": 189285, \"total_rows_inc_nulls\": 189285, \"sum_tokens_in_value_count_group\": 126.0, \"distinct_value_count\": 82423}, {\"percentile_ex_nulls\": 0.9649417400360107, \"percentile_inc_nulls\": 0.9649417400360107, \"value_count\": 62, \"group_name\": \"cltname_x\", \"total_non_null_rows\": 189285, \"total_rows_inc_nulls\": 189285, \"sum_tokens_in_value_count_group\": 62.0, \"distinct_value_count\": 82423}, {\"percentile_ex_nulls\": 0.9646247625350952, \"percentile_inc_nulls\": 0.9646247625350952, \"value_count\": 60, \"group_name\": \"cltname_x\", \"total_non_null_rows\": 189285, \"total_rows_inc_nulls\": 189285, \"sum_tokens_in_value_count_group\": 60.0, \"distinct_value_count\": 82423}, {\"percentile_ex_nulls\": 0.9627862572669983, \"percentile_inc_nulls\": 0.9627862572669983, \"value_count\": 58, \"group_name\": \"cltname_x\", \"total_non_null_rows\": 189285, \"total_rows_inc_nulls\": 189285, \"sum_tokens_in_value_count_group\": 348.0, \"distinct_value_count\": 82423}, {\"percentile_ex_nulls\": 0.962485134601593, \"percentile_inc_nulls\": 0.962485134601593, \"value_count\": 57, \"group_name\": \"cltname_x\", \"total_non_null_rows\": 189285, \"total_rows_inc_nulls\": 189285, \"sum_tokens_in_value_count_group\": 57.0, \"distinct_value_count\": 82423}, {\"percentile_ex_nulls\": 0.9621893167495728, \"percentile_inc_nulls\": 0.9621893167495728, \"value_count\": 56, \"group_name\": \"cltname_x\", \"total_non_null_rows\": 189285, \"total_rows_inc_nulls\": 189285, \"sum_tokens_in_value_count_group\": 56.0, \"distinct_value_count\": 82423}, {\"percentile_ex_nulls\": 0.9616081714630127, \"percentile_inc_nulls\": 0.9616081714630127, \"value_count\": 55, \"group_name\": \"cltname_x\", \"total_non_null_rows\": 189285, \"total_rows_inc_nulls\": 189285, \"sum_tokens_in_value_count_group\": 110.0, \"distinct_value_count\": 82423}, {\"percentile_ex_nulls\": 0.9613229036331177, \"percentile_inc_nulls\": 0.9613229036331177, \"value_count\": 54, \"group_name\": \"cltname_x\", \"total_non_null_rows\": 189285, \"total_rows_inc_nulls\": 189285, \"sum_tokens_in_value_count_group\": 54.0, \"distinct_value_count\": 82423}, {\"percentile_ex_nulls\": 0.9610428810119629, \"percentile_inc_nulls\": 0.9610428810119629, \"value_count\": 53, \"group_name\": \"cltname_x\", \"total_non_null_rows\": 189285, \"total_rows_inc_nulls\": 189285, \"sum_tokens_in_value_count_group\": 53.0, \"distinct_value_count\": 82423}, {\"percentile_ex_nulls\": 0.9604934453964233, \"percentile_inc_nulls\": 0.9604934453964233, \"value_count\": 52, \"group_name\": \"cltname_x\", \"total_non_null_rows\": 189285, \"total_rows_inc_nulls\": 189285, \"sum_tokens_in_value_count_group\": 104.0, \"distinct_value_count\": 82423}, {\"percentile_ex_nulls\": 0.9602240324020386, \"percentile_inc_nulls\": 0.9602240324020386, \"value_count\": 51, \"group_name\": \"cltname_x\", \"total_non_null_rows\": 189285, \"total_rows_inc_nulls\": 189285, \"sum_tokens_in_value_count_group\": 51.0, \"distinct_value_count\": 82423}, {\"percentile_ex_nulls\": 0.959431529045105, \"percentile_inc_nulls\": 0.959431529045105, \"value_count\": 50, \"group_name\": \"cltname_x\", \"total_non_null_rows\": 189285, \"total_rows_inc_nulls\": 189285, \"sum_tokens_in_value_count_group\": 150.0, \"distinct_value_count\": 82423}, {\"percentile_ex_nulls\": 0.9586549401283264, \"percentile_inc_nulls\": 0.9586549401283264, \"value_count\": 49, \"group_name\": \"cltname_x\", \"total_non_null_rows\": 189285, \"total_rows_inc_nulls\": 189285, \"sum_tokens_in_value_count_group\": 147.0, \"distinct_value_count\": 82423}, {\"percentile_ex_nulls\": 0.9576617479324341, \"percentile_inc_nulls\": 0.9576617479324341, \"value_count\": 47, \"group_name\": \"cltname_x\", \"total_non_null_rows\": 189285, \"total_rows_inc_nulls\": 189285, \"sum_tokens_in_value_count_group\": 188.0, \"distinct_value_count\": 82423}, {\"percentile_ex_nulls\": 0.9562035799026489, \"percentile_inc_nulls\": 0.9562035799026489, \"value_count\": 46, \"group_name\": \"cltname_x\", \"total_non_null_rows\": 189285, \"total_rows_inc_nulls\": 189285, \"sum_tokens_in_value_count_group\": 276.0, \"distinct_value_count\": 82423}, {\"percentile_ex_nulls\": 0.9557281136512756, \"percentile_inc_nulls\": 0.9557281136512756, \"value_count\": 45, \"group_name\": \"cltname_x\", \"total_non_null_rows\": 189285, \"total_rows_inc_nulls\": 189285, \"sum_tokens_in_value_count_group\": 90.0, \"distinct_value_count\": 82423}, {\"percentile_ex_nulls\": 0.9541009664535522, \"percentile_inc_nulls\": 0.9541009664535522, \"value_count\": 44, \"group_name\": \"cltname_x\", \"total_non_null_rows\": 189285, \"total_rows_inc_nulls\": 189285, \"sum_tokens_in_value_count_group\": 308.0, \"distinct_value_count\": 82423}, {\"percentile_ex_nulls\": 0.9536466002464294, \"percentile_inc_nulls\": 0.9536466002464294, \"value_count\": 43, \"group_name\": \"cltname_x\", \"total_non_null_rows\": 189285, \"total_rows_inc_nulls\": 189285, \"sum_tokens_in_value_count_group\": 86.0, \"distinct_value_count\": 82423}, {\"percentile_ex_nulls\": 0.951205849647522, \"percentile_inc_nulls\": 0.951205849647522, \"value_count\": 42, \"group_name\": \"cltname_x\", \"total_non_null_rows\": 189285, \"total_rows_inc_nulls\": 189285, \"sum_tokens_in_value_count_group\": 462.0, \"distinct_value_count\": 82423}, {\"percentile_ex_nulls\": 0.9507726430892944, \"percentile_inc_nulls\": 0.9507726430892944, \"value_count\": 41, \"group_name\": \"cltname_x\", \"total_non_null_rows\": 189285, \"total_rows_inc_nulls\": 189285, \"sum_tokens_in_value_count_group\": 82.0, \"distinct_value_count\": 82423}, {\"percentile_ex_nulls\": 0.9492933750152588, \"percentile_inc_nulls\": 0.9492933750152588, \"value_count\": 40, \"group_name\": \"cltname_x\", \"total_non_null_rows\": 189285, \"total_rows_inc_nulls\": 189285, \"sum_tokens_in_value_count_group\": 280.0, \"distinct_value_count\": 82423}, {\"percentile_ex_nulls\": 0.9484692215919495, \"percentile_inc_nulls\": 0.9484692215919495, \"value_count\": 39, \"group_name\": \"cltname_x\", \"total_non_null_rows\": 189285, \"total_rows_inc_nulls\": 189285, \"sum_tokens_in_value_count_group\": 156.0, \"distinct_value_count\": 82423}, {\"percentile_ex_nulls\": 0.9474654793739319, \"percentile_inc_nulls\": 0.9474654793739319, \"value_count\": 38, \"group_name\": \"cltname_x\", \"total_non_null_rows\": 189285, \"total_rows_inc_nulls\": 189285, \"sum_tokens_in_value_count_group\": 190.0, \"distinct_value_count\": 82423}, {\"percentile_ex_nulls\": 0.9466835856437683, \"percentile_inc_nulls\": 0.9466835856437683, \"value_count\": 37, \"group_name\": \"cltname_x\", \"total_non_null_rows\": 189285, \"total_rows_inc_nulls\": 189285, \"sum_tokens_in_value_count_group\": 148.0, \"distinct_value_count\": 82423}, {\"percentile_ex_nulls\": 0.9451620578765869, \"percentile_inc_nulls\": 0.9451620578765869, \"value_count\": 36, \"group_name\": \"cltname_x\", \"total_non_null_rows\": 189285, \"total_rows_inc_nulls\": 189285, \"sum_tokens_in_value_count_group\": 288.0, \"distinct_value_count\": 82423}, {\"percentile_ex_nulls\": 0.9438676834106445, \"percentile_inc_nulls\": 0.9438676834106445, \"value_count\": 35, \"group_name\": \"cltname_x\", \"total_non_null_rows\": 189285, \"total_rows_inc_nulls\": 189285, \"sum_tokens_in_value_count_group\": 245.0, \"distinct_value_count\": 82423}, {\"percentile_ex_nulls\": 0.9415326118469238, \"percentile_inc_nulls\": 0.9415326118469238, \"value_count\": 34, \"group_name\": \"cltname_x\", \"total_non_null_rows\": 189285, \"total_rows_inc_nulls\": 189285, \"sum_tokens_in_value_count_group\": 442.0, \"distinct_value_count\": 82423}, {\"percentile_ex_nulls\": 0.9399635195732117, \"percentile_inc_nulls\": 0.9399635195732117, \"value_count\": 33, \"group_name\": \"cltname_x\", \"total_non_null_rows\": 189285, \"total_rows_inc_nulls\": 189285, \"sum_tokens_in_value_count_group\": 297.0, \"distinct_value_count\": 82423}, {\"percentile_ex_nulls\": 0.9389492273330688, \"percentile_inc_nulls\": 0.9389492273330688, \"value_count\": 32, \"group_name\": \"cltname_x\", \"total_non_null_rows\": 189285, \"total_rows_inc_nulls\": 189285, \"sum_tokens_in_value_count_group\": 192.0, \"distinct_value_count\": 82423}, {\"percentile_ex_nulls\": 0.9363288283348083, \"percentile_inc_nulls\": 0.9363288283348083, \"value_count\": 31, \"group_name\": \"cltname_x\", \"total_non_null_rows\": 189285, \"total_rows_inc_nulls\": 189285, \"sum_tokens_in_value_count_group\": 496.0, \"distinct_value_count\": 82423}, {\"percentile_ex_nulls\": 0.9339514374732971, \"percentile_inc_nulls\": 0.9339514374732971, \"value_count\": 30, \"group_name\": \"cltname_x\", \"total_non_null_rows\": 189285, \"total_rows_inc_nulls\": 189285, \"sum_tokens_in_value_count_group\": 450.0, \"distinct_value_count\": 82423}, {\"percentile_ex_nulls\": 0.9316533207893372, \"percentile_inc_nulls\": 0.9316533207893372, \"value_count\": 29, \"group_name\": \"cltname_x\", \"total_non_null_rows\": 189285, \"total_rows_inc_nulls\": 189285, \"sum_tokens_in_value_count_group\": 435.0, \"distinct_value_count\": 82423}, {\"percentile_ex_nulls\": 0.9291386008262634, \"percentile_inc_nulls\": 0.9291386008262634, \"value_count\": 28, \"group_name\": \"cltname_x\", \"total_non_null_rows\": 189285, \"total_rows_inc_nulls\": 189285, \"sum_tokens_in_value_count_group\": 476.0, \"distinct_value_count\": 82423}, {\"percentile_ex_nulls\": 0.9265710115432739, \"percentile_inc_nulls\": 0.9265710115432739, \"value_count\": 27, \"group_name\": \"cltname_x\", \"total_non_null_rows\": 189285, \"total_rows_inc_nulls\": 189285, \"sum_tokens_in_value_count_group\": 486.0, \"distinct_value_count\": 82423}, {\"percentile_ex_nulls\": 0.9231370687484741, \"percentile_inc_nulls\": 0.9231370687484741, \"value_count\": 26, \"group_name\": \"cltname_x\", \"total_non_null_rows\": 189285, \"total_rows_inc_nulls\": 189285, \"sum_tokens_in_value_count_group\": 650.0, \"distinct_value_count\": 82423}, {\"percentile_ex_nulls\": 0.921288013458252, \"percentile_inc_nulls\": 0.921288013458252, \"value_count\": 25, \"group_name\": \"cltname_x\", \"total_non_null_rows\": 189285, \"total_rows_inc_nulls\": 189285, \"sum_tokens_in_value_count_group\": 350.0, \"distinct_value_count\": 82423}, {\"percentile_ex_nulls\": 0.9184985756874084, \"percentile_inc_nulls\": 0.9184985756874084, \"value_count\": 24, \"group_name\": \"cltname_x\", \"total_non_null_rows\": 189285, \"total_rows_inc_nulls\": 189285, \"sum_tokens_in_value_count_group\": 528.0, \"distinct_value_count\": 82423}, {\"percentile_ex_nulls\": 0.9153392910957336, \"percentile_inc_nulls\": 0.9153392910957336, \"value_count\": 23, \"group_name\": \"cltname_x\", \"total_non_null_rows\": 189285, \"total_rows_inc_nulls\": 189285, \"sum_tokens_in_value_count_group\": 598.0, \"distinct_value_count\": 82423}, {\"percentile_ex_nulls\": 0.9106902480125427, \"percentile_inc_nulls\": 0.9106902480125427, \"value_count\": 22, \"group_name\": \"cltname_x\", \"total_non_null_rows\": 189285, \"total_rows_inc_nulls\": 189285, \"sum_tokens_in_value_count_group\": 880.0, \"distinct_value_count\": 82423}, {\"percentile_ex_nulls\": 0.9070290923118591, \"percentile_inc_nulls\": 0.9070290923118591, \"value_count\": 21, \"group_name\": \"cltname_x\", \"total_non_null_rows\": 189285, \"total_rows_inc_nulls\": 189285, \"sum_tokens_in_value_count_group\": 693.0, \"distinct_value_count\": 82423}, {\"percentile_ex_nulls\": 0.9028026461601257, \"percentile_inc_nulls\": 0.9028026461601257, \"value_count\": 20, \"group_name\": \"cltname_x\", \"total_non_null_rows\": 189285, \"total_rows_inc_nulls\": 189285, \"sum_tokens_in_value_count_group\": 800.0, \"distinct_value_count\": 82423}, {\"percentile_ex_nulls\": 0.8980848789215088, \"percentile_inc_nulls\": 0.8980848789215088, \"value_count\": 19, \"group_name\": \"cltname_x\", \"total_non_null_rows\": 189285, \"total_rows_inc_nulls\": 189285, \"sum_tokens_in_value_count_group\": 893.0, \"distinct_value_count\": 82423}, {\"percentile_ex_nulls\": 0.8925694227218628, \"percentile_inc_nulls\": 0.8925694227218628, \"value_count\": 18, \"group_name\": \"cltname_x\", \"total_non_null_rows\": 189285, \"total_rows_inc_nulls\": 189285, \"sum_tokens_in_value_count_group\": 1044.0, \"distinct_value_count\": 82423}, {\"percentile_ex_nulls\": 0.8873603343963623, \"percentile_inc_nulls\": 0.8873603343963623, \"value_count\": 17, \"group_name\": \"cltname_x\", \"total_non_null_rows\": 189285, \"total_rows_inc_nulls\": 189285, \"sum_tokens_in_value_count_group\": 986.0, \"distinct_value_count\": 82423}, {\"percentile_ex_nulls\": 0.8801754117012024, \"percentile_inc_nulls\": 0.8801754117012024, \"value_count\": 16, \"group_name\": \"cltname_x\", \"total_non_null_rows\": 189285, \"total_rows_inc_nulls\": 189285, \"sum_tokens_in_value_count_group\": 1360.0, \"distinct_value_count\": 82423}, {\"percentile_ex_nulls\": 0.872726321220398, \"percentile_inc_nulls\": 0.872726321220398, \"value_count\": 15, \"group_name\": \"cltname_x\", \"total_non_null_rows\": 189285, \"total_rows_inc_nulls\": 189285, \"sum_tokens_in_value_count_group\": 1410.0, \"distinct_value_count\": 82423}, {\"percentile_ex_nulls\": 0.8662915825843811, \"percentile_inc_nulls\": 0.8662915825843811, \"value_count\": 14, \"group_name\": \"cltname_x\", \"total_non_null_rows\": 189285, \"total_rows_inc_nulls\": 189285, \"sum_tokens_in_value_count_group\": 1218.0, \"distinct_value_count\": 82423}, {\"percentile_ex_nulls\": 0.8570885062217712, \"percentile_inc_nulls\": 0.8570885062217712, \"value_count\": 13, \"group_name\": \"cltname_x\", \"total_non_null_rows\": 189285, \"total_rows_inc_nulls\": 189285, \"sum_tokens_in_value_count_group\": 1742.0, \"distinct_value_count\": 82423}, {\"percentile_ex_nulls\": 0.8471353054046631, \"percentile_inc_nulls\": 0.8471353054046631, \"value_count\": 12, \"group_name\": \"cltname_x\", \"total_non_null_rows\": 189285, \"total_rows_inc_nulls\": 189285, \"sum_tokens_in_value_count_group\": 1884.0, \"distinct_value_count\": 82423}, {\"percentile_ex_nulls\": 0.8345246315002441, \"percentile_inc_nulls\": 0.8345246315002441, \"value_count\": 11, \"group_name\": \"cltname_x\", \"total_non_null_rows\": 189285, \"total_rows_inc_nulls\": 189285, \"sum_tokens_in_value_count_group\": 2387.0, \"distinct_value_count\": 82423}, {\"percentile_ex_nulls\": 0.819732129573822, \"percentile_inc_nulls\": 0.819732129573822, \"value_count\": 10, \"group_name\": \"cltname_x\", \"total_non_null_rows\": 189285, \"total_rows_inc_nulls\": 189285, \"sum_tokens_in_value_count_group\": 2800.0, \"distinct_value_count\": 82423}, {\"percentile_ex_nulls\": 0.8014739751815796, \"percentile_inc_nulls\": 0.8014739751815796, \"value_count\": 9, \"group_name\": \"cltname_x\", \"total_non_null_rows\": 189285, \"total_rows_inc_nulls\": 189285, \"sum_tokens_in_value_count_group\": 3456.0, \"distinct_value_count\": 82423}, {\"percentile_ex_nulls\": 0.7795388102531433, \"percentile_inc_nulls\": 0.7795388102531433, \"value_count\": 8, \"group_name\": \"cltname_x\", \"total_non_null_rows\": 189285, \"total_rows_inc_nulls\": 189285, \"sum_tokens_in_value_count_group\": 4152.0, \"distinct_value_count\": 82423}, {\"percentile_ex_nulls\": 0.7507673501968384, \"percentile_inc_nulls\": 0.7507673501968384, \"value_count\": 7, \"group_name\": \"cltname_x\", \"total_non_null_rows\": 189285, \"total_rows_inc_nulls\": 189285, \"sum_tokens_in_value_count_group\": 5446.0, \"distinct_value_count\": 82423}, {\"percentile_ex_nulls\": 0.7148849964141846, \"percentile_inc_nulls\": 0.7148849964141846, \"value_count\": 6, \"group_name\": \"cltname_x\", \"total_non_null_rows\": 189285, \"total_rows_inc_nulls\": 189285, \"sum_tokens_in_value_count_group\": 6792.0, \"distinct_value_count\": 82423}, {\"percentile_ex_nulls\": 0.6520960330963135, \"percentile_inc_nulls\": 0.6520960330963135, \"value_count\": 5, \"group_name\": \"cltname_x\", \"total_non_null_rows\": 189285, \"total_rows_inc_nulls\": 189285, \"sum_tokens_in_value_count_group\": 11885.0, \"distinct_value_count\": 82423}, {\"percentile_ex_nulls\": 0.5503024458885193, \"percentile_inc_nulls\": 0.5503024458885193, \"value_count\": 4, \"group_name\": \"cltname_x\", \"total_non_null_rows\": 189285, \"total_rows_inc_nulls\": 189285, \"sum_tokens_in_value_count_group\": 19268.0, \"distinct_value_count\": 82423}, {\"percentile_ex_nulls\": 0.4478537440299988, \"percentile_inc_nulls\": 0.4478537440299988, \"value_count\": 3, \"group_name\": \"cltname_x\", \"total_non_null_rows\": 189285, \"total_rows_inc_nulls\": 189285, \"sum_tokens_in_value_count_group\": 19392.0, \"distinct_value_count\": 82423}, {\"percentile_ex_nulls\": 0.23137599229812622, \"percentile_inc_nulls\": 0.23137599229812622, \"value_count\": 2, \"group_name\": \"cltname_x\", \"total_non_null_rows\": 189285, \"total_rows_inc_nulls\": 189285, \"sum_tokens_in_value_count_group\": 40976.0, \"distinct_value_count\": 82423}, {\"percentile_ex_nulls\": 0.0, \"percentile_inc_nulls\": 0.0, \"value_count\": 1, \"group_name\": \"cltname_x\", \"total_non_null_rows\": 189285, \"total_rows_inc_nulls\": 189285, \"sum_tokens_in_value_count_group\": 43796.0, \"distinct_value_count\": 82423}, {\"percentile_ex_nulls\": 1.0, \"percentile_inc_nulls\": 1.0, \"value_count\": 628, \"group_name\": \"cltname_x\", \"total_non_null_rows\": 189285, \"total_rows_inc_nulls\": 189285, \"sum_tokens_in_value_count_group\": 628.0, \"distinct_value_count\": 82423}]}, \"encoding\": {\"tooltip\": [{\"field\": \"value_count\", \"type\": \"quantitative\"}, {\"field\": \"percentile_ex_nulls\", \"type\": \"quantitative\"}, {\"field\": \"percentile_inc_nulls\", \"type\": \"quantitative\"}, {\"field\": \"total_non_null_rows\", \"type\": \"quantitative\"}, {\"field\": \"total_rows_inc_nulls\", \"type\": \"quantitative\"}], \"x\": {\"field\": \"percentile_ex_nulls\", \"sort\": \"descending\", \"title\": \"Percentile\", \"type\": \"quantitative\"}, \"y\": {\"field\": \"value_count\", \"title\": \"Count of values\", \"type\": \"quantitative\"}}, \"title\": {\"text\": \"Distribution of counts of values in column cltname_x\", \"subtitle\": \"In this col, 0 values (0.0%) are null and there are 82423 distinct values\"}}, {\"mark\": \"bar\", \"data\": {\"values\": [{\"value_count\": 628, \"group_name\": \"cltname_x\", \"value\": \"asl limited\", \"total_non_null_rows\": 189285, \"total_rows_inc_nulls\": 189285, \"distinct_value_count\": 82423}, {\"value_count\": 565, \"group_name\": \"cltname_x\", \"value\": \"fair trade on declaration\", \"total_non_null_rows\": 189285, \"total_rows_inc_nulls\": 189285, \"distinct_value_count\": 82423}, {\"value_count\": 244, \"group_name\": \"cltname_x\", \"value\": \"flamingo horticulture kenya limited  trillvane limited and or associated and or subsidiary companies\", \"total_non_null_rows\": 189285, \"total_rows_inc_nulls\": 189285, \"distinct_value_count\": 82423}, {\"value_count\": 225, \"group_name\": \"cltname_x\", \"value\": \"ramco printing works limited\", \"total_non_null_rows\": 189285, \"total_rows_inc_nulls\": 189285, \"distinct_value_count\": 82423}, {\"value_count\": 211, \"group_name\": \"cltname_x\", \"value\": \"polythene industries ltd\", \"total_non_null_rows\": 189285, \"total_rows_inc_nulls\": 189285, \"distinct_value_count\": 82423}, {\"value_count\": 209, \"group_name\": \"cltname_x\", \"value\": \"flamingo horticulture kenya limited\", \"total_non_null_rows\": 189285, \"total_rows_inc_nulls\": 189285, \"distinct_value_count\": 82423}, {\"value_count\": 204, \"group_name\": \"cltname_x\", \"value\": \"indepth scientific co  ltd\", \"total_non_null_rows\": 189285, \"total_rows_inc_nulls\": 189285, \"distinct_value_count\": 82423}, {\"value_count\": 188, \"group_name\": \"cltname_x\", \"value\": \"kenya electricity generating co ltd\", \"total_non_null_rows\": 189285, \"total_rows_inc_nulls\": 189285, \"distinct_value_count\": 82423}, {\"value_count\": 181, \"group_name\": \"cltname_x\", \"value\": \"flamingo horticulture kenya limited and or associated and or subsidiary companies\", \"total_non_null_rows\": 189285, \"total_rows_inc_nulls\": 189285, \"distinct_value_count\": 82423}, {\"value_count\": 173, \"group_name\": \"cltname_x\", \"value\": \"elecster kenya limited\", \"total_non_null_rows\": 189285, \"total_rows_inc_nulls\": 189285, \"distinct_value_count\": 82423}]}, \"encoding\": {\"tooltip\": [{\"field\": \"value\", \"type\": \"nominal\"}, {\"field\": \"value_count\", \"type\": \"quantitative\"}, {\"field\": \"total_non_null_rows\", \"type\": \"quantitative\"}, {\"field\": \"total_rows_inc_nulls\", \"type\": \"quantitative\"}], \"x\": {\"field\": \"value\", \"sort\": \"-y\", \"title\": null, \"type\": \"nominal\"}, \"y\": {\"field\": \"value_count\", \"title\": \"Value count\", \"type\": \"quantitative\"}}, \"title\": \"Top 10 values by value count\"}, {\"mark\": \"bar\", \"data\": {\"values\": [{\"value_count\": 1, \"group_name\": \"cltname_x\", \"value\": \"linet  sitawa\", \"total_non_null_rows\": 189285, \"total_rows_inc_nulls\": 189285, \"distinct_value_count\": 82423}, {\"value_count\": 1, \"group_name\": \"cltname_x\", \"value\": \"esekon simon peter\", \"total_non_null_rows\": 189285, \"total_rows_inc_nulls\": 189285, \"distinct_value_count\": 82423}, {\"value_count\": 1, \"group_name\": \"cltname_x\", \"value\": \"joseph maina gathirwa\", \"total_non_null_rows\": 189285, \"total_rows_inc_nulls\": 189285, \"distinct_value_count\": 82423}, {\"value_count\": 1, \"group_name\": \"cltname_x\", \"value\": \"mohammed  diyad elmi\", \"total_non_null_rows\": 189285, \"total_rows_inc_nulls\": 189285, \"distinct_value_count\": 82423}, {\"value_count\": 1, \"group_name\": \"cltname_x\", \"value\": \"patrick gitau  iraya\", \"total_non_null_rows\": 189285, \"total_rows_inc_nulls\": 189285, \"distinct_value_count\": 82423}]}, \"encoding\": {\"tooltip\": [{\"field\": \"value\", \"type\": \"nominal\"}, {\"field\": \"value_count\", \"type\": \"quantitative\"}, {\"field\": \"total_non_null_rows\", \"type\": \"quantitative\"}, {\"field\": \"total_rows_inc_nulls\", \"type\": \"quantitative\"}], \"x\": {\"field\": \"value\", \"sort\": \"-y\", \"title\": null, \"type\": \"nominal\"}, \"y\": {\"field\": \"value_count\", \"scale\": {\"domain\": [0, 628]}, \"title\": \"Value count\", \"type\": \"quantitative\"}}, \"title\": \"Bottom 5 values by value count\"}]}, {\"hconcat\": [{\"mark\": {\"type\": \"line\", \"interpolate\": \"step-after\"}, \"data\": {\"values\": [{\"percentile_ex_nulls\": 0.999883770942688, \"percentile_inc_nulls\": 0.999883770942688, \"value_count\": 22, \"group_name\": \"PolPcId\", \"total_non_null_rows\": 189285, \"total_rows_inc_nulls\": 189285, \"sum_tokens_in_value_count_group\": 22.0, \"distinct_value_count\": 131308}, {\"percentile_ex_nulls\": 0.9997780919075012, \"percentile_inc_nulls\": 0.9997780919075012, \"value_count\": 20, \"group_name\": \"PolPcId\", \"total_non_null_rows\": 189285, \"total_rows_inc_nulls\": 189285, \"sum_tokens_in_value_count_group\": 20.0, \"distinct_value_count\": 131308}, {\"percentile_ex_nulls\": 0.9996777176856995, \"percentile_inc_nulls\": 0.9996777176856995, \"value_count\": 19, \"group_name\": \"PolPcId\", \"total_non_null_rows\": 189285, \"total_rows_inc_nulls\": 189285, \"sum_tokens_in_value_count_group\": 19.0, \"distinct_value_count\": 131308}, {\"percentile_ex_nulls\": 0.9994875192642212, \"percentile_inc_nulls\": 0.9994875192642212, \"value_count\": 18, \"group_name\": \"PolPcId\", \"total_non_null_rows\": 189285, \"total_rows_inc_nulls\": 189285, \"sum_tokens_in_value_count_group\": 36.0, \"distinct_value_count\": 131308}, {\"percentile_ex_nulls\": 0.9993977546691895, \"percentile_inc_nulls\": 0.9993977546691895, \"value_count\": 17, \"group_name\": \"PolPcId\", \"total_non_null_rows\": 189285, \"total_rows_inc_nulls\": 189285, \"sum_tokens_in_value_count_group\": 17.0, \"distinct_value_count\": 131308}, {\"percentile_ex_nulls\": 0.9988905787467957, \"percentile_inc_nulls\": 0.9988905787467957, \"value_count\": 16, \"group_name\": \"PolPcId\", \"total_non_null_rows\": 189285, \"total_rows_inc_nulls\": 189285, \"sum_tokens_in_value_count_group\": 96.0, \"distinct_value_count\": 131308}, {\"percentile_ex_nulls\": 0.9987320899963379, \"percentile_inc_nulls\": 0.9987320899963379, \"value_count\": 15, \"group_name\": \"PolPcId\", \"total_non_null_rows\": 189285, \"total_rows_inc_nulls\": 189285, \"sum_tokens_in_value_count_group\": 30.0, \"distinct_value_count\": 131308}, {\"percentile_ex_nulls\": 0.9982143044471741, \"percentile_inc_nulls\": 0.9982143044471741, \"value_count\": 14, \"group_name\": \"PolPcId\", \"total_non_null_rows\": 189285, \"total_rows_inc_nulls\": 189285, \"sum_tokens_in_value_count_group\": 98.0, \"distinct_value_count\": 131308}, {\"percentile_ex_nulls\": 0.9980083107948303, \"percentile_inc_nulls\": 0.9980083107948303, \"value_count\": 13, \"group_name\": \"PolPcId\", \"total_non_null_rows\": 189285, \"total_rows_inc_nulls\": 189285, \"sum_tokens_in_value_count_group\": 39.0, \"distinct_value_count\": 131308}, {\"percentile_ex_nulls\": 0.9975011348724365, \"percentile_inc_nulls\": 0.9975011348724365, \"value_count\": 12, \"group_name\": \"PolPcId\", \"total_non_null_rows\": 189285, \"total_rows_inc_nulls\": 189285, \"sum_tokens_in_value_count_group\": 96.0, \"distinct_value_count\": 131308}, {\"percentile_ex_nulls\": 0.9968037605285645, \"percentile_inc_nulls\": 0.9968037605285645, \"value_count\": 11, \"group_name\": \"PolPcId\", \"total_non_null_rows\": 189285, \"total_rows_inc_nulls\": 189285, \"sum_tokens_in_value_count_group\": 132.0, \"distinct_value_count\": 131308}, {\"percentile_ex_nulls\": 0.9954301714897156, \"percentile_inc_nulls\": 0.9954301714897156, \"value_count\": 10, \"group_name\": \"PolPcId\", \"total_non_null_rows\": 189285, \"total_rows_inc_nulls\": 189285, \"sum_tokens_in_value_count_group\": 260.0, \"distinct_value_count\": 131308}, {\"percentile_ex_nulls\": 0.9931954741477966, \"percentile_inc_nulls\": 0.9931954741477966, \"value_count\": 9, \"group_name\": \"PolPcId\", \"total_non_null_rows\": 189285, \"total_rows_inc_nulls\": 189285, \"sum_tokens_in_value_count_group\": 423.0, \"distinct_value_count\": 131308}, {\"percentile_ex_nulls\": 0.9912090301513672, \"percentile_inc_nulls\": 0.9912090301513672, \"value_count\": 8, \"group_name\": \"PolPcId\", \"total_non_null_rows\": 189285, \"total_rows_inc_nulls\": 189285, \"sum_tokens_in_value_count_group\": 376.0, \"distinct_value_count\": 131308}, {\"percentile_ex_nulls\": 0.9878807067871094, \"percentile_inc_nulls\": 0.9878807067871094, \"value_count\": 7, \"group_name\": \"PolPcId\", \"total_non_null_rows\": 189285, \"total_rows_inc_nulls\": 189285, \"sum_tokens_in_value_count_group\": 630.0, \"distinct_value_count\": 131308}, {\"percentile_ex_nulls\": 0.9822067022323608, \"percentile_inc_nulls\": 0.9822067022323608, \"value_count\": 6, \"group_name\": \"PolPcId\", \"total_non_null_rows\": 189285, \"total_rows_inc_nulls\": 189285, \"sum_tokens_in_value_count_group\": 1074.0, \"distinct_value_count\": 131308}, {\"percentile_ex_nulls\": 0.949134886264801, \"percentile_inc_nulls\": 0.949134886264801, \"value_count\": 5, \"group_name\": \"PolPcId\", \"total_non_null_rows\": 189285, \"total_rows_inc_nulls\": 189285, \"sum_tokens_in_value_count_group\": 6260.0, \"distinct_value_count\": 131308}, {\"percentile_ex_nulls\": 0.8871542811393738, \"percentile_inc_nulls\": 0.8871542811393738, \"value_count\": 4, \"group_name\": \"PolPcId\", \"total_non_null_rows\": 189285, \"total_rows_inc_nulls\": 189285, \"sum_tokens_in_value_count_group\": 11732.0, \"distinct_value_count\": 131308}, {\"percentile_ex_nulls\": 0.7948966026306152, \"percentile_inc_nulls\": 0.7948966026306152, \"value_count\": 3, \"group_name\": \"PolPcId\", \"total_non_null_rows\": 189285, \"total_rows_inc_nulls\": 189285, \"sum_tokens_in_value_count_group\": 17463.0, \"distinct_value_count\": 131308}, {\"percentile_ex_nulls\": 0.48221462965011597, \"percentile_inc_nulls\": 0.48221462965011597, \"value_count\": 2, \"group_name\": \"PolPcId\", \"total_non_null_rows\": 189285, \"total_rows_inc_nulls\": 189285, \"sum_tokens_in_value_count_group\": 59186.0, \"distinct_value_count\": 131308}, {\"percentile_ex_nulls\": 0.0, \"percentile_inc_nulls\": 0.0, \"value_count\": 1, \"group_name\": \"PolPcId\", \"total_non_null_rows\": 189285, \"total_rows_inc_nulls\": 189285, \"sum_tokens_in_value_count_group\": 91276.0, \"distinct_value_count\": 131308}, {\"percentile_ex_nulls\": 1.0, \"percentile_inc_nulls\": 1.0, \"value_count\": 22, \"group_name\": \"PolPcId\", \"total_non_null_rows\": 189285, \"total_rows_inc_nulls\": 189285, \"sum_tokens_in_value_count_group\": 22.0, \"distinct_value_count\": 131308}]}, \"encoding\": {\"tooltip\": [{\"field\": \"value_count\", \"type\": \"quantitative\"}, {\"field\": \"percentile_ex_nulls\", \"type\": \"quantitative\"}, {\"field\": \"percentile_inc_nulls\", \"type\": \"quantitative\"}, {\"field\": \"total_non_null_rows\", \"type\": \"quantitative\"}, {\"field\": \"total_rows_inc_nulls\", \"type\": \"quantitative\"}], \"x\": {\"field\": \"percentile_ex_nulls\", \"sort\": \"descending\", \"title\": \"Percentile\", \"type\": \"quantitative\"}, \"y\": {\"field\": \"value_count\", \"title\": \"Count of values\", \"type\": \"quantitative\"}}, \"title\": {\"text\": \"Distribution of counts of values in column PolPcId\", \"subtitle\": \"In this col, 0 values (0.0%) are null and there are 131308 distinct values\"}}, {\"mark\": \"bar\", \"data\": {\"values\": [{\"value_count\": 22, \"group_name\": \"PolPcId\", \"value\": \"1163396\", \"total_non_null_rows\": 189285, \"total_rows_inc_nulls\": 189285, \"distinct_value_count\": 131308}, {\"value_count\": 20, \"group_name\": \"PolPcId\", \"value\": \"1166781\", \"total_non_null_rows\": 189285, \"total_rows_inc_nulls\": 189285, \"distinct_value_count\": 131308}, {\"value_count\": 19, \"group_name\": \"PolPcId\", \"value\": \"1157009\", \"total_non_null_rows\": 189285, \"total_rows_inc_nulls\": 189285, \"distinct_value_count\": 131308}, {\"value_count\": 18, \"group_name\": \"PolPcId\", \"value\": \"1157007\", \"total_non_null_rows\": 189285, \"total_rows_inc_nulls\": 189285, \"distinct_value_count\": 131308}, {\"value_count\": 18, \"group_name\": \"PolPcId\", \"value\": \"1172133\", \"total_non_null_rows\": 189285, \"total_rows_inc_nulls\": 189285, \"distinct_value_count\": 131308}, {\"value_count\": 17, \"group_name\": \"PolPcId\", \"value\": \"1178573\", \"total_non_null_rows\": 189285, \"total_rows_inc_nulls\": 189285, \"distinct_value_count\": 131308}, {\"value_count\": 16, \"group_name\": \"PolPcId\", \"value\": \"1157191\", \"total_non_null_rows\": 189285, \"total_rows_inc_nulls\": 189285, \"distinct_value_count\": 131308}, {\"value_count\": 16, \"group_name\": \"PolPcId\", \"value\": \"1174864\", \"total_non_null_rows\": 189285, \"total_rows_inc_nulls\": 189285, \"distinct_value_count\": 131308}, {\"value_count\": 16, \"group_name\": \"PolPcId\", \"value\": \"1168048\", \"total_non_null_rows\": 189285, \"total_rows_inc_nulls\": 189285, \"distinct_value_count\": 131308}, {\"value_count\": 16, \"group_name\": \"PolPcId\", \"value\": \"1158500\", \"total_non_null_rows\": 189285, \"total_rows_inc_nulls\": 189285, \"distinct_value_count\": 131308}]}, \"encoding\": {\"tooltip\": [{\"field\": \"value\", \"type\": \"nominal\"}, {\"field\": \"value_count\", \"type\": \"quantitative\"}, {\"field\": \"total_non_null_rows\", \"type\": \"quantitative\"}, {\"field\": \"total_rows_inc_nulls\", \"type\": \"quantitative\"}], \"x\": {\"field\": \"value\", \"sort\": \"-y\", \"title\": null, \"type\": \"nominal\"}, \"y\": {\"field\": \"value_count\", \"title\": \"Value count\", \"type\": \"quantitative\"}}, \"title\": \"Top 10 values by value count\"}, {\"mark\": \"bar\", \"data\": {\"values\": [{\"value_count\": 1, \"group_name\": \"PolPcId\", \"value\": \"1299257\", \"total_non_null_rows\": 189285, \"total_rows_inc_nulls\": 189285, \"distinct_value_count\": 131308}, {\"value_count\": 1, \"group_name\": \"PolPcId\", \"value\": \"1244861\", \"total_non_null_rows\": 189285, \"total_rows_inc_nulls\": 189285, \"distinct_value_count\": 131308}, {\"value_count\": 1, \"group_name\": \"PolPcId\", \"value\": \"1275841\", \"total_non_null_rows\": 189285, \"total_rows_inc_nulls\": 189285, \"distinct_value_count\": 131308}, {\"value_count\": 1, \"group_name\": \"PolPcId\", \"value\": \"1275843\", \"total_non_null_rows\": 189285, \"total_rows_inc_nulls\": 189285, \"distinct_value_count\": 131308}, {\"value_count\": 1, \"group_name\": \"PolPcId\", \"value\": \"1244863\", \"total_non_null_rows\": 189285, \"total_rows_inc_nulls\": 189285, \"distinct_value_count\": 131308}]}, \"encoding\": {\"tooltip\": [{\"field\": \"value\", \"type\": \"nominal\"}, {\"field\": \"value_count\", \"type\": \"quantitative\"}, {\"field\": \"total_non_null_rows\", \"type\": \"quantitative\"}, {\"field\": \"total_rows_inc_nulls\", \"type\": \"quantitative\"}], \"x\": {\"field\": \"value\", \"sort\": \"-y\", \"title\": null, \"type\": \"nominal\"}, \"y\": {\"field\": \"value_count\", \"scale\": {\"domain\": [0, 22]}, \"title\": \"Value count\", \"type\": \"quantitative\"}}, \"title\": \"Bottom 5 values by value count\"}]}, {\"hconcat\": [{\"mark\": {\"type\": \"line\", \"interpolate\": \"step-after\"}, \"data\": {\"values\": [{\"percentile_ex_nulls\": 0.8997631072998047, \"percentile_inc_nulls\": 0.9139392971992493, \"value_count\": 16290, \"group_name\": \"ClientPinNumber\", \"total_non_null_rows\": 162515, \"total_rows_inc_nulls\": 189285, \"sum_tokens_in_value_count_group\": 16290.0, \"distinct_value_count\": 57160}, {\"percentile_ex_nulls\": 0.8921884298324585, \"percentile_inc_nulls\": 0.9074358940124512, \"value_count\": 1231, \"group_name\": \"ClientPinNumber\", \"total_non_null_rows\": 162515, \"total_rows_inc_nulls\": 189285, \"sum_tokens_in_value_count_group\": 1231.0, \"distinct_value_count\": 57160}, {\"percentile_ex_nulls\": 0.886428952217102, \"percentile_inc_nulls\": 0.9024909734725952, \"value_count\": 936, \"group_name\": \"ClientPinNumber\", \"total_non_null_rows\": 162515, \"total_rows_inc_nulls\": 189285, \"sum_tokens_in_value_count_group\": 936.0, \"distinct_value_count\": 57160}, {\"percentile_ex_nulls\": 0.8812724947929382, \"percentile_inc_nulls\": 0.8980637788772583, \"value_count\": 838, \"group_name\": \"ClientPinNumber\", \"total_non_null_rows\": 162515, \"total_rows_inc_nulls\": 189285, \"sum_tokens_in_value_count_group\": 838.0, \"distinct_value_count\": 57160}, {\"percentile_ex_nulls\": 0.8764052391052246, \"percentile_inc_nulls\": 0.8938848972320557, \"value_count\": 791, \"group_name\": \"ClientPinNumber\", \"total_non_null_rows\": 162515, \"total_rows_inc_nulls\": 189285, \"sum_tokens_in_value_count_group\": 791.0, \"distinct_value_count\": 57160}, {\"percentile_ex_nulls\": 0.8722518086433411, \"percentile_inc_nulls\": 0.8903188109397888, \"value_count\": 675, \"group_name\": \"ClientPinNumber\", \"total_non_null_rows\": 162515, \"total_rows_inc_nulls\": 189285, \"sum_tokens_in_value_count_group\": 675.0, \"distinct_value_count\": 57160}, {\"percentile_ex_nulls\": 0.8683813810348511, \"percentile_inc_nulls\": 0.886995792388916, \"value_count\": 629, \"group_name\": \"ClientPinNumber\", \"total_non_null_rows\": 162515, \"total_rows_inc_nulls\": 189285, \"sum_tokens_in_value_count_group\": 629.0, \"distinct_value_count\": 57160}, {\"percentile_ex_nulls\": 0.86460942029953, \"percentile_inc_nulls\": 0.8837572932243347, \"value_count\": 613, \"group_name\": \"ClientPinNumber\", \"total_non_null_rows\": 162515, \"total_rows_inc_nulls\": 189285, \"sum_tokens_in_value_count_group\": 613.0, \"distinct_value_count\": 57160}, {\"percentile_ex_nulls\": 0.8609235882759094, \"percentile_inc_nulls\": 0.8805927634239197, \"value_count\": 599, \"group_name\": \"ClientPinNumber\", \"total_non_null_rows\": 162515, \"total_rows_inc_nulls\": 189285, \"sum_tokens_in_value_count_group\": 599.0, \"distinct_value_count\": 57160}, {\"percentile_ex_nulls\": 0.8572562336921692, \"percentile_inc_nulls\": 0.8774440884590149, \"value_count\": 596, \"group_name\": \"ClientPinNumber\", \"total_non_null_rows\": 162515, \"total_rows_inc_nulls\": 189285, \"sum_tokens_in_value_count_group\": 596.0, \"distinct_value_count\": 57160}, {\"percentile_ex_nulls\": 0.8539581298828125, \"percentile_inc_nulls\": 0.8746123313903809, \"value_count\": 536, \"group_name\": \"ClientPinNumber\", \"total_non_null_rows\": 162515, \"total_rows_inc_nulls\": 189285, \"sum_tokens_in_value_count_group\": 536.0, \"distinct_value_count\": 57160}, {\"percentile_ex_nulls\": 0.8510352969169617, \"percentile_inc_nulls\": 0.8721029162406921, \"value_count\": 475, \"group_name\": \"ClientPinNumber\", \"total_non_null_rows\": 162515, \"total_rows_inc_nulls\": 189285, \"sum_tokens_in_value_count_group\": 475.0, \"distinct_value_count\": 57160}, {\"percentile_ex_nulls\": 0.8485370874404907, \"percentile_inc_nulls\": 0.8699579834938049, \"value_count\": 406, \"group_name\": \"ClientPinNumber\", \"total_non_null_rows\": 162515, \"total_rows_inc_nulls\": 189285, \"sum_tokens_in_value_count_group\": 406.0, \"distinct_value_count\": 57160}, {\"percentile_ex_nulls\": 0.8462295532226562, \"percentile_inc_nulls\": 0.8679768443107605, \"value_count\": 375, \"group_name\": \"ClientPinNumber\", \"total_non_null_rows\": 162515, \"total_rows_inc_nulls\": 189285, \"sum_tokens_in_value_count_group\": 375.0, \"distinct_value_count\": 57160}, {\"percentile_ex_nulls\": 0.8440082669258118, \"percentile_inc_nulls\": 0.8660696744918823, \"value_count\": 361, \"group_name\": \"ClientPinNumber\", \"total_non_null_rows\": 162515, \"total_rows_inc_nulls\": 189285, \"sum_tokens_in_value_count_group\": 361.0, \"distinct_value_count\": 57160}, {\"percentile_ex_nulls\": 0.8422361016273499, \"percentile_inc_nulls\": 0.8645481467247009, \"value_count\": 288, \"group_name\": \"ClientPinNumber\", \"total_non_null_rows\": 162515, \"total_rows_inc_nulls\": 189285, \"sum_tokens_in_value_count_group\": 288.0, \"distinct_value_count\": 57160}, {\"percentile_ex_nulls\": 0.8408085107803345, \"percentile_inc_nulls\": 0.8633224964141846, \"value_count\": 232, \"group_name\": \"ClientPinNumber\", \"total_non_null_rows\": 162515, \"total_rows_inc_nulls\": 189285, \"sum_tokens_in_value_count_group\": 232.0, \"distinct_value_count\": 57160}, {\"percentile_ex_nulls\": 0.8394302129745483, \"percentile_inc_nulls\": 0.862139105796814, \"value_count\": 224, \"group_name\": \"ClientPinNumber\", \"total_non_null_rows\": 162515, \"total_rows_inc_nulls\": 189285, \"sum_tokens_in_value_count_group\": 224.0, \"distinct_value_count\": 57160}, {\"percentile_ex_nulls\": 0.8381134271621704, \"percentile_inc_nulls\": 0.8610085248947144, \"value_count\": 214, \"group_name\": \"ClientPinNumber\", \"total_non_null_rows\": 162515, \"total_rows_inc_nulls\": 189285, \"sum_tokens_in_value_count_group\": 214.0, \"distinct_value_count\": 57160}, {\"percentile_ex_nulls\": 0.8368211984634399, \"percentile_inc_nulls\": 0.85989910364151, \"value_count\": 210, \"group_name\": \"ClientPinNumber\", \"total_non_null_rows\": 162515, \"total_rows_inc_nulls\": 189285, \"sum_tokens_in_value_count_group\": 210.0, \"distinct_value_count\": 57160}, {\"percentile_ex_nulls\": 0.8355659246444702, \"percentile_inc_nulls\": 0.8588213324546814, \"value_count\": 204, \"group_name\": \"ClientPinNumber\", \"total_non_null_rows\": 162515, \"total_rows_inc_nulls\": 189285, \"sum_tokens_in_value_count_group\": 204.0, \"distinct_value_count\": 57160}, {\"percentile_ex_nulls\": 0.834322988986969, \"percentile_inc_nulls\": 0.8577541708946228, \"value_count\": 202, \"group_name\": \"ClientPinNumber\", \"total_non_null_rows\": 162515, \"total_rows_inc_nulls\": 189285, \"sum_tokens_in_value_count_group\": 202.0, \"distinct_value_count\": 57160}, {\"percentile_ex_nulls\": 0.8330923318862915, \"percentile_inc_nulls\": 0.8566975593566895, \"value_count\": 200, \"group_name\": \"ClientPinNumber\", \"total_non_null_rows\": 162515, \"total_rows_inc_nulls\": 189285, \"sum_tokens_in_value_count_group\": 200.0, \"distinct_value_count\": 57160}, {\"percentile_ex_nulls\": 0.8318862915039062, \"percentile_inc_nulls\": 0.8556621074676514, \"value_count\": 196, \"group_name\": \"ClientPinNumber\", \"total_non_null_rows\": 162515, \"total_rows_inc_nulls\": 189285, \"sum_tokens_in_value_count_group\": 196.0, \"distinct_value_count\": 57160}, {\"percentile_ex_nulls\": 0.8307294845581055, \"percentile_inc_nulls\": 0.8546688556671143, \"value_count\": 188, \"group_name\": \"ClientPinNumber\", \"total_non_null_rows\": 162515, \"total_rows_inc_nulls\": 189285, \"sum_tokens_in_value_count_group\": 188.0, \"distinct_value_count\": 57160}, {\"percentile_ex_nulls\": 0.8296526670455933, \"percentile_inc_nulls\": 0.853744387626648, \"value_count\": 175, \"group_name\": \"ClientPinNumber\", \"total_non_null_rows\": 162515, \"total_rows_inc_nulls\": 189285, \"sum_tokens_in_value_count_group\": 175.0, \"distinct_value_count\": 57160}, {\"percentile_ex_nulls\": 0.8285942673683167, \"percentile_inc_nulls\": 0.8528356552124023, \"value_count\": 172, \"group_name\": \"ClientPinNumber\", \"total_non_null_rows\": 162515, \"total_rows_inc_nulls\": 189285, \"sum_tokens_in_value_count_group\": 172.0, \"distinct_value_count\": 57160}, {\"percentile_ex_nulls\": 0.8275482058525085, \"percentile_inc_nulls\": 0.8519375324249268, \"value_count\": 170, \"group_name\": \"ClientPinNumber\", \"total_non_null_rows\": 162515, \"total_rows_inc_nulls\": 189285, \"sum_tokens_in_value_count_group\": 170.0, \"distinct_value_count\": 57160}, {\"percentile_ex_nulls\": 0.826514482498169, \"percentile_inc_nulls\": 0.8510500192642212, \"value_count\": 168, \"group_name\": \"ClientPinNumber\", \"total_non_null_rows\": 162515, \"total_rows_inc_nulls\": 189285, \"sum_tokens_in_value_count_group\": 168.0, \"distinct_value_count\": 57160}, {\"percentile_ex_nulls\": 0.8245084881782532, \"percentile_inc_nulls\": 0.8493277430534363, \"value_count\": 163, \"group_name\": \"ClientPinNumber\", \"total_non_null_rows\": 162515, \"total_rows_inc_nulls\": 189285, \"sum_tokens_in_value_count_group\": 326.0, \"distinct_value_count\": 57160}, {\"percentile_ex_nulls\": 0.8235362768173218, \"percentile_inc_nulls\": 0.8484929800033569, \"value_count\": 158, \"group_name\": \"ClientPinNumber\", \"total_non_null_rows\": 162515, \"total_rows_inc_nulls\": 189285, \"sum_tokens_in_value_count_group\": 158.0, \"distinct_value_count\": 57160}, {\"percentile_ex_nulls\": 0.8225702047348022, \"percentile_inc_nulls\": 0.8476635813713074, \"value_count\": 157, \"group_name\": \"ClientPinNumber\", \"total_non_null_rows\": 162515, \"total_rows_inc_nulls\": 189285, \"sum_tokens_in_value_count_group\": 157.0, \"distinct_value_count\": 57160}, {\"percentile_ex_nulls\": 0.8216164708137512, \"percentile_inc_nulls\": 0.8468446731567383, \"value_count\": 155, \"group_name\": \"ClientPinNumber\", \"total_non_null_rows\": 162515, \"total_rows_inc_nulls\": 189285, \"sum_tokens_in_value_count_group\": 155.0, \"distinct_value_count\": 57160}, {\"percentile_ex_nulls\": 0.8207488656044006, \"percentile_inc_nulls\": 0.8460997939109802, \"value_count\": 141, \"group_name\": \"ClientPinNumber\", \"total_non_null_rows\": 162515, \"total_rows_inc_nulls\": 189285, \"sum_tokens_in_value_count_group\": 141.0, \"distinct_value_count\": 57160}, {\"percentile_ex_nulls\": 0.8190259337425232, \"percentile_inc_nulls\": 0.8446205258369446, \"value_count\": 140, \"group_name\": \"ClientPinNumber\", \"total_non_null_rows\": 162515, \"total_rows_inc_nulls\": 189285, \"sum_tokens_in_value_count_group\": 280.0, \"distinct_value_count\": 57160}, {\"percentile_ex_nulls\": 0.8174507021903992, \"percentile_inc_nulls\": 0.843268096446991, \"value_count\": 128, \"group_name\": \"ClientPinNumber\", \"total_non_null_rows\": 162515, \"total_rows_inc_nulls\": 189285, \"sum_tokens_in_value_count_group\": 256.0, \"distinct_value_count\": 57160}, {\"percentile_ex_nulls\": 0.8166999816894531, \"percentile_inc_nulls\": 0.8426235914230347, \"value_count\": 122, \"group_name\": \"ClientPinNumber\", \"total_non_null_rows\": 162515, \"total_rows_inc_nulls\": 189285, \"sum_tokens_in_value_count_group\": 122.0, \"distinct_value_count\": 57160}, {\"percentile_ex_nulls\": 0.8159554600715637, \"percentile_inc_nulls\": 0.8419843316078186, \"value_count\": 121, \"group_name\": \"ClientPinNumber\", \"total_non_null_rows\": 162515, \"total_rows_inc_nulls\": 189285, \"sum_tokens_in_value_count_group\": 121.0, \"distinct_value_count\": 57160}, {\"percentile_ex_nulls\": 0.8152539730072021, \"percentile_inc_nulls\": 0.8413820266723633, \"value_count\": 114, \"group_name\": \"ClientPinNumber\", \"total_non_null_rows\": 162515, \"total_rows_inc_nulls\": 189285, \"sum_tokens_in_value_count_group\": 114.0, \"distinct_value_count\": 57160}, {\"percentile_ex_nulls\": 0.8145894408226013, \"percentile_inc_nulls\": 0.8408114910125732, \"value_count\": 108, \"group_name\": \"ClientPinNumber\", \"total_non_null_rows\": 162515, \"total_rows_inc_nulls\": 189285, \"sum_tokens_in_value_count_group\": 108.0, \"distinct_value_count\": 57160}, {\"percentile_ex_nulls\": 0.813949465751648, \"percentile_inc_nulls\": 0.8402620553970337, \"value_count\": 104, \"group_name\": \"ClientPinNumber\", \"total_non_null_rows\": 162515, \"total_rows_inc_nulls\": 189285, \"sum_tokens_in_value_count_group\": 104.0, \"distinct_value_count\": 57160}, {\"percentile_ex_nulls\": 0.8133156895637512, \"percentile_inc_nulls\": 0.8397178649902344, \"value_count\": 103, \"group_name\": \"ClientPinNumber\", \"total_non_null_rows\": 162515, \"total_rows_inc_nulls\": 189285, \"sum_tokens_in_value_count_group\": 103.0, \"distinct_value_count\": 57160}, {\"percentile_ex_nulls\": 0.811451256275177, \"percentile_inc_nulls\": 0.8381171226501465, \"value_count\": 101, \"group_name\": \"ClientPinNumber\", \"total_non_null_rows\": 162515, \"total_rows_inc_nulls\": 189285, \"sum_tokens_in_value_count_group\": 303.0, \"distinct_value_count\": 57160}, {\"percentile_ex_nulls\": 0.8102328777313232, \"percentile_inc_nulls\": 0.8370710611343384, \"value_count\": 99, \"group_name\": \"ClientPinNumber\", \"total_non_null_rows\": 162515, \"total_rows_inc_nulls\": 189285, \"sum_tokens_in_value_count_group\": 198.0, \"distinct_value_count\": 57160}, {\"percentile_ex_nulls\": 0.8096421957015991, \"percentile_inc_nulls\": 0.8365639448165894, \"value_count\": 96, \"group_name\": \"ClientPinNumber\", \"total_non_null_rows\": 162515, \"total_rows_inc_nulls\": 189285, \"sum_tokens_in_value_count_group\": 96.0, \"distinct_value_count\": 57160}, {\"percentile_ex_nulls\": 0.8084730505943298, \"percentile_inc_nulls\": 0.835560142993927, \"value_count\": 95, \"group_name\": \"ClientPinNumber\", \"total_non_null_rows\": 162515, \"total_rows_inc_nulls\": 189285, \"sum_tokens_in_value_count_group\": 190.0, \"distinct_value_count\": 57160}, {\"percentile_ex_nulls\": 0.8079007863998413, \"percentile_inc_nulls\": 0.8350688219070435, \"value_count\": 93, \"group_name\": \"ClientPinNumber\", \"total_non_null_rows\": 162515, \"total_rows_inc_nulls\": 189285, \"sum_tokens_in_value_count_group\": 93.0, \"distinct_value_count\": 57160}, {\"percentile_ex_nulls\": 0.8073593378067017, \"percentile_inc_nulls\": 0.8346039056777954, \"value_count\": 88, \"group_name\": \"ClientPinNumber\", \"total_non_null_rows\": 162515, \"total_rows_inc_nulls\": 189285, \"sum_tokens_in_value_count_group\": 88.0, \"distinct_value_count\": 57160}, {\"percentile_ex_nulls\": 0.8068239688873291, \"percentile_inc_nulls\": 0.8341442942619324, \"value_count\": 87, \"group_name\": \"ClientPinNumber\", \"total_non_null_rows\": 162515, \"total_rows_inc_nulls\": 189285, \"sum_tokens_in_value_count_group\": 87.0, \"distinct_value_count\": 57160}, {\"percentile_ex_nulls\": 0.8062947988510132, \"percentile_inc_nulls\": 0.8336899280548096, \"value_count\": 86, \"group_name\": \"ClientPinNumber\", \"total_non_null_rows\": 162515, \"total_rows_inc_nulls\": 189285, \"sum_tokens_in_value_count_group\": 86.0, \"distinct_value_count\": 57160}, {\"percentile_ex_nulls\": 0.8057717680931091, \"percentile_inc_nulls\": 0.8332408666610718, \"value_count\": 85, \"group_name\": \"ClientPinNumber\", \"total_non_null_rows\": 162515, \"total_rows_inc_nulls\": 189285, \"sum_tokens_in_value_count_group\": 85.0, \"distinct_value_count\": 57160}, {\"percentile_ex_nulls\": 0.8052549362182617, \"percentile_inc_nulls\": 0.832797110080719, \"value_count\": 84, \"group_name\": \"ClientPinNumber\", \"total_non_null_rows\": 162515, \"total_rows_inc_nulls\": 189285, \"sum_tokens_in_value_count_group\": 84.0, \"distinct_value_count\": 57160}, {\"percentile_ex_nulls\": 0.8037596344947815, \"percentile_inc_nulls\": 0.8315133452415466, \"value_count\": 81, \"group_name\": \"ClientPinNumber\", \"total_non_null_rows\": 162515, \"total_rows_inc_nulls\": 189285, \"sum_tokens_in_value_count_group\": 243.0, \"distinct_value_count\": 57160}, {\"percentile_ex_nulls\": 0.8032735586166382, \"percentile_inc_nulls\": 0.8310959339141846, \"value_count\": 79, \"group_name\": \"ClientPinNumber\", \"total_non_null_rows\": 162515, \"total_rows_inc_nulls\": 189285, \"sum_tokens_in_value_count_group\": 79.0, \"distinct_value_count\": 57160}, {\"percentile_ex_nulls\": 0.8027936220169067, \"percentile_inc_nulls\": 0.8306838870048523, \"value_count\": 78, \"group_name\": \"ClientPinNumber\", \"total_non_null_rows\": 162515, \"total_rows_inc_nulls\": 189285, \"sum_tokens_in_value_count_group\": 78.0, \"distinct_value_count\": 57160}, {\"percentile_ex_nulls\": 0.8013721704483032, \"percentile_inc_nulls\": 0.8294634819030762, \"value_count\": 77, \"group_name\": \"ClientPinNumber\", \"total_non_null_rows\": 162515, \"total_rows_inc_nulls\": 189285, \"sum_tokens_in_value_count_group\": 231.0, \"distinct_value_count\": 57160}, {\"percentile_ex_nulls\": 0.8004368543624878, \"percentile_inc_nulls\": 0.8286604881286621, \"value_count\": 76, \"group_name\": \"ClientPinNumber\", \"total_non_null_rows\": 162515, \"total_rows_inc_nulls\": 189285, \"sum_tokens_in_value_count_group\": 152.0, \"distinct_value_count\": 57160}, {\"percentile_ex_nulls\": 0.7999753952026367, \"percentile_inc_nulls\": 0.8282642364501953, \"value_count\": 75, \"group_name\": \"ClientPinNumber\", \"total_non_null_rows\": 162515, \"total_rows_inc_nulls\": 189285, \"sum_tokens_in_value_count_group\": 75.0, \"distinct_value_count\": 57160}, {\"percentile_ex_nulls\": 0.7995200157165527, \"percentile_inc_nulls\": 0.8278733491897583, \"value_count\": 74, \"group_name\": \"ClientPinNumber\", \"total_non_null_rows\": 162515, \"total_rows_inc_nulls\": 189285, \"sum_tokens_in_value_count_group\": 74.0, \"distinct_value_count\": 57160}, {\"percentile_ex_nulls\": 0.7981724739074707, \"percentile_inc_nulls\": 0.8267163038253784, \"value_count\": 73, \"group_name\": \"ClientPinNumber\", \"total_non_null_rows\": 162515, \"total_rows_inc_nulls\": 189285, \"sum_tokens_in_value_count_group\": 219.0, \"distinct_value_count\": 57160}, {\"percentile_ex_nulls\": 0.7977540493011475, \"percentile_inc_nulls\": 0.8263570666313171, \"value_count\": 68, \"group_name\": \"ClientPinNumber\", \"total_non_null_rows\": 162515, \"total_rows_inc_nulls\": 189285, \"sum_tokens_in_value_count_group\": 68.0, \"distinct_value_count\": 57160}, {\"percentile_ex_nulls\": 0.7973417639732361, \"percentile_inc_nulls\": 0.8260031342506409, \"value_count\": 67, \"group_name\": \"ClientPinNumber\", \"total_non_null_rows\": 162515, \"total_rows_inc_nulls\": 189285, \"sum_tokens_in_value_count_group\": 67.0, \"distinct_value_count\": 57160}, {\"percentile_ex_nulls\": 0.7965295314788818, \"percentile_inc_nulls\": 0.8253057599067688, \"value_count\": 66, \"group_name\": \"ClientPinNumber\", \"total_non_null_rows\": 162515, \"total_rows_inc_nulls\": 189285, \"sum_tokens_in_value_count_group\": 132.0, \"distinct_value_count\": 57160}, {\"percentile_ex_nulls\": 0.7949296832084656, \"percentile_inc_nulls\": 0.8239321708679199, \"value_count\": 65, \"group_name\": \"ClientPinNumber\", \"total_non_null_rows\": 162515, \"total_rows_inc_nulls\": 189285, \"sum_tokens_in_value_count_group\": 260.0, \"distinct_value_count\": 57160}, {\"percentile_ex_nulls\": 0.7945358753204346, \"percentile_inc_nulls\": 0.8235940337181091, \"value_count\": 64, \"group_name\": \"ClientPinNumber\", \"total_non_null_rows\": 162515, \"total_rows_inc_nulls\": 189285, \"sum_tokens_in_value_count_group\": 64.0, \"distinct_value_count\": 57160}, {\"percentile_ex_nulls\": 0.7941544055938721, \"percentile_inc_nulls\": 0.8232665061950684, \"value_count\": 62, \"group_name\": \"ClientPinNumber\", \"total_non_null_rows\": 162515, \"total_rows_inc_nulls\": 189285, \"sum_tokens_in_value_count_group\": 62.0, \"distinct_value_count\": 57160}, {\"percentile_ex_nulls\": 0.7937790155410767, \"percentile_inc_nulls\": 0.8229442238807678, \"value_count\": 61, \"group_name\": \"ClientPinNumber\", \"total_non_null_rows\": 162515, \"total_rows_inc_nulls\": 189285, \"sum_tokens_in_value_count_group\": 61.0, \"distinct_value_count\": 57160}, {\"percentile_ex_nulls\": 0.7919330596923828, \"percentile_inc_nulls\": 0.8213593363761902, \"value_count\": 60, \"group_name\": \"ClientPinNumber\", \"total_non_null_rows\": 162515, \"total_rows_inc_nulls\": 189285, \"sum_tokens_in_value_count_group\": 300.0, \"distinct_value_count\": 57160}, {\"percentile_ex_nulls\": 0.791206955909729, \"percentile_inc_nulls\": 0.8207359313964844, \"value_count\": 59, \"group_name\": \"ClientPinNumber\", \"total_non_null_rows\": 162515, \"total_rows_inc_nulls\": 189285, \"sum_tokens_in_value_count_group\": 118.0, \"distinct_value_count\": 57160}, {\"percentile_ex_nulls\": 0.7901362776756287, \"percentile_inc_nulls\": 0.8198167085647583, \"value_count\": 58, \"group_name\": \"ClientPinNumber\", \"total_non_null_rows\": 162515, \"total_rows_inc_nulls\": 189285, \"sum_tokens_in_value_count_group\": 174.0, \"distinct_value_count\": 57160}, {\"percentile_ex_nulls\": 0.7890840768814087, \"percentile_inc_nulls\": 0.8189132809638977, \"value_count\": 57, \"group_name\": \"ClientPinNumber\", \"total_non_null_rows\": 162515, \"total_rows_inc_nulls\": 189285, \"sum_tokens_in_value_count_group\": 171.0, \"distinct_value_count\": 57160}, {\"percentile_ex_nulls\": 0.7887395024299622, \"percentile_inc_nulls\": 0.8186174631118774, \"value_count\": 56, \"group_name\": \"ClientPinNumber\", \"total_non_null_rows\": 162515, \"total_rows_inc_nulls\": 189285, \"sum_tokens_in_value_count_group\": 56.0, \"distinct_value_count\": 57160}, {\"percentile_ex_nulls\": 0.7873857617378235, \"percentile_inc_nulls\": 0.8174551725387573, \"value_count\": 55, \"group_name\": \"ClientPinNumber\", \"total_non_null_rows\": 162515, \"total_rows_inc_nulls\": 189285, \"sum_tokens_in_value_count_group\": 220.0, \"distinct_value_count\": 57160}, {\"percentile_ex_nulls\": 0.7861058712005615, \"percentile_inc_nulls\": 0.8163563013076782, \"value_count\": 52, \"group_name\": \"ClientPinNumber\", \"total_non_null_rows\": 162515, \"total_rows_inc_nulls\": 189285, \"sum_tokens_in_value_count_group\": 208.0, \"distinct_value_count\": 57160}, {\"percentile_ex_nulls\": 0.7857921123504639, \"percentile_inc_nulls\": 0.8160868883132935, \"value_count\": 51, \"group_name\": \"ClientPinNumber\", \"total_non_null_rows\": 162515, \"total_rows_inc_nulls\": 189285, \"sum_tokens_in_value_count_group\": 51.0, \"distinct_value_count\": 57160}, {\"percentile_ex_nulls\": 0.7848690748214722, \"percentile_inc_nulls\": 0.8152943849563599, \"value_count\": 50, \"group_name\": \"ClientPinNumber\", \"total_non_null_rows\": 162515, \"total_rows_inc_nulls\": 189285, \"sum_tokens_in_value_count_group\": 150.0, \"distinct_value_count\": 57160}, {\"percentile_ex_nulls\": 0.7827585339546204, \"percentile_inc_nulls\": 0.8134822845458984, \"value_count\": 49, \"group_name\": \"ClientPinNumber\", \"total_non_null_rows\": 162515, \"total_rows_inc_nulls\": 189285, \"sum_tokens_in_value_count_group\": 343.0, \"distinct_value_count\": 57160}, {\"percentile_ex_nulls\": 0.7818724513053894, \"percentile_inc_nulls\": 0.8127215504646301, \"value_count\": 48, \"group_name\": \"ClientPinNumber\", \"total_non_null_rows\": 162515, \"total_rows_inc_nulls\": 189285, \"sum_tokens_in_value_count_group\": 144.0, \"distinct_value_count\": 57160}, {\"percentile_ex_nulls\": 0.7798479795455933, \"percentile_inc_nulls\": 0.810983419418335, \"value_count\": 47, \"group_name\": \"ClientPinNumber\", \"total_non_null_rows\": 162515, \"total_rows_inc_nulls\": 189285, \"sum_tokens_in_value_count_group\": 329.0, \"distinct_value_count\": 57160}, {\"percentile_ex_nulls\": 0.7775835990905762, \"percentile_inc_nulls\": 0.809039294719696, \"value_count\": 46, \"group_name\": \"ClientPinNumber\", \"total_non_null_rows\": 162515, \"total_rows_inc_nulls\": 189285, \"sum_tokens_in_value_count_group\": 368.0, \"distinct_value_count\": 57160}, {\"percentile_ex_nulls\": 0.7753684520721436, \"percentile_inc_nulls\": 0.8071373701095581, \"value_count\": 45, \"group_name\": \"ClientPinNumber\", \"total_non_null_rows\": 162515, \"total_rows_inc_nulls\": 189285, \"sum_tokens_in_value_count_group\": 360.0, \"distinct_value_count\": 57160}, {\"percentile_ex_nulls\": 0.7740147113800049, \"percentile_inc_nulls\": 0.8059751391410828, \"value_count\": 44, \"group_name\": \"ClientPinNumber\", \"total_non_null_rows\": 162515, \"total_rows_inc_nulls\": 189285, \"sum_tokens_in_value_count_group\": 220.0, \"distinct_value_count\": 57160}, {\"percentile_ex_nulls\": 0.7726917266845703, \"percentile_inc_nulls\": 0.8048392534255981, \"value_count\": 43, \"group_name\": \"ClientPinNumber\", \"total_non_null_rows\": 162515, \"total_rows_inc_nulls\": 189285, \"sum_tokens_in_value_count_group\": 215.0, \"distinct_value_count\": 57160}, {\"percentile_ex_nulls\": 0.7711411118507385, \"percentile_inc_nulls\": 0.803507924079895, \"value_count\": 42, \"group_name\": \"ClientPinNumber\", \"total_non_null_rows\": 162515, \"total_rows_inc_nulls\": 189285, \"sum_tokens_in_value_count_group\": 252.0, \"distinct_value_count\": 57160}, {\"percentile_ex_nulls\": 0.7708888053894043, \"percentile_inc_nulls\": 0.8032913208007812, \"value_count\": 41, \"group_name\": \"ClientPinNumber\", \"total_non_null_rows\": 162515, \"total_rows_inc_nulls\": 189285, \"sum_tokens_in_value_count_group\": 41.0, \"distinct_value_count\": 57160}, {\"percentile_ex_nulls\": 0.7691659331321716, \"percentile_inc_nulls\": 0.8018120527267456, \"value_count\": 40, \"group_name\": \"ClientPinNumber\", \"total_non_null_rows\": 162515, \"total_rows_inc_nulls\": 189285, \"sum_tokens_in_value_count_group\": 280.0, \"distinct_value_count\": 57160}, {\"percentile_ex_nulls\": 0.7684459686279297, \"percentile_inc_nulls\": 0.8011939525604248, \"value_count\": 39, \"group_name\": \"ClientPinNumber\", \"total_non_null_rows\": 162515, \"total_rows_inc_nulls\": 189285, \"sum_tokens_in_value_count_group\": 117.0, \"distinct_value_count\": 57160}, {\"percentile_ex_nulls\": 0.7672768831253052, \"percentile_inc_nulls\": 0.8001902103424072, \"value_count\": 38, \"group_name\": \"ClientPinNumber\", \"total_non_null_rows\": 162515, \"total_rows_inc_nulls\": 189285, \"sum_tokens_in_value_count_group\": 190.0, \"distinct_value_count\": 57160}, {\"percentile_ex_nulls\": 0.7656831741333008, \"percentile_inc_nulls\": 0.7988218665122986, \"value_count\": 37, \"group_name\": \"ClientPinNumber\", \"total_non_null_rows\": 162515, \"total_rows_inc_nulls\": 189285, \"sum_tokens_in_value_count_group\": 259.0, \"distinct_value_count\": 57160}, {\"percentile_ex_nulls\": 0.7645756006240845, \"percentile_inc_nulls\": 0.797870934009552, \"value_count\": 36, \"group_name\": \"ClientPinNumber\", \"total_non_null_rows\": 162515, \"total_rows_inc_nulls\": 189285, \"sum_tokens_in_value_count_group\": 180.0, \"distinct_value_count\": 57160}, {\"percentile_ex_nulls\": 0.7611297369003296, \"percentile_inc_nulls\": 0.7949124574661255, \"value_count\": 35, \"group_name\": \"ClientPinNumber\", \"total_non_null_rows\": 162515, \"total_rows_inc_nulls\": 189285, \"sum_tokens_in_value_count_group\": 560.0, \"distinct_value_count\": 57160}, {\"percentile_ex_nulls\": 0.7573639154434204, \"percentile_inc_nulls\": 0.7916792035102844, \"value_count\": 34, \"group_name\": \"ClientPinNumber\", \"total_non_null_rows\": 162515, \"total_rows_inc_nulls\": 189285, \"sum_tokens_in_value_count_group\": 612.0, \"distinct_value_count\": 57160}, {\"percentile_ex_nulls\": 0.7551302909851074, \"percentile_inc_nulls\": 0.789761483669281, \"value_count\": 33, \"group_name\": \"ClientPinNumber\", \"total_non_null_rows\": 162515, \"total_rows_inc_nulls\": 189285, \"sum_tokens_in_value_count_group\": 363.0, \"distinct_value_count\": 57160}, {\"percentile_ex_nulls\": 0.7547364830970764, \"percentile_inc_nulls\": 0.7894233465194702, \"value_count\": 32, \"group_name\": \"ClientPinNumber\", \"total_non_null_rows\": 162515, \"total_rows_inc_nulls\": 189285, \"sum_tokens_in_value_count_group\": 64.0, \"distinct_value_count\": 57160}, {\"percentile_ex_nulls\": 0.7518752217292786, \"percentile_inc_nulls\": 0.7869667410850525, \"value_count\": 31, \"group_name\": \"ClientPinNumber\", \"total_non_null_rows\": 162515, \"total_rows_inc_nulls\": 189285, \"sum_tokens_in_value_count_group\": 465.0, \"distinct_value_count\": 57160}, {\"percentile_ex_nulls\": 0.7492908239364624, \"percentile_inc_nulls\": 0.784747838973999, \"value_count\": 30, \"group_name\": \"ClientPinNumber\", \"total_non_null_rows\": 162515, \"total_rows_inc_nulls\": 189285, \"sum_tokens_in_value_count_group\": 420.0, \"distinct_value_count\": 57160}, {\"percentile_ex_nulls\": 0.7460788488388062, \"percentile_inc_nulls\": 0.781990110874176, \"value_count\": 29, \"group_name\": \"ClientPinNumber\", \"total_non_null_rows\": 162515, \"total_rows_inc_nulls\": 189285, \"sum_tokens_in_value_count_group\": 522.0, \"distinct_value_count\": 57160}, {\"percentile_ex_nulls\": 0.7438390254974365, \"percentile_inc_nulls\": 0.7800670862197876, \"value_count\": 28, \"group_name\": \"ClientPinNumber\", \"total_non_null_rows\": 162515, \"total_rows_inc_nulls\": 189285, \"sum_tokens_in_value_count_group\": 364.0, \"distinct_value_count\": 57160}, {\"percentile_ex_nulls\": 0.74018394947052, \"percentile_inc_nulls\": 0.7769289612770081, \"value_count\": 27, \"group_name\": \"ClientPinNumber\", \"total_non_null_rows\": 162515, \"total_rows_inc_nulls\": 189285, \"sum_tokens_in_value_count_group\": 594.0, \"distinct_value_count\": 57160}, {\"percentile_ex_nulls\": 0.7382642030715942, \"percentile_inc_nulls\": 0.7752806544303894, \"value_count\": 26, \"group_name\": \"ClientPinNumber\", \"total_non_null_rows\": 162515, \"total_rows_inc_nulls\": 189285, \"sum_tokens_in_value_count_group\": 312.0, \"distinct_value_count\": 57160}, {\"percentile_ex_nulls\": 0.7353413105010986, \"percentile_inc_nulls\": 0.7727712392807007, \"value_count\": 25, \"group_name\": \"ClientPinNumber\", \"total_non_null_rows\": 162515, \"total_rows_inc_nulls\": 189285, \"sum_tokens_in_value_count_group\": 475.0, \"distinct_value_count\": 57160}, {\"percentile_ex_nulls\": 0.73076331615448, \"percentile_inc_nulls\": 0.7688406705856323, \"value_count\": 24, \"group_name\": \"ClientPinNumber\", \"total_non_null_rows\": 162515, \"total_rows_inc_nulls\": 189285, \"sum_tokens_in_value_count_group\": 744.0, \"distinct_value_count\": 57160}, {\"percentile_ex_nulls\": 0.727083683013916, \"percentile_inc_nulls\": 0.7656813859939575, \"value_count\": 23, \"group_name\": \"ClientPinNumber\", \"total_non_null_rows\": 162515, \"total_rows_inc_nulls\": 189285, \"sum_tokens_in_value_count_group\": 598.0, \"distinct_value_count\": 57160}, {\"percentile_ex_nulls\": 0.723834753036499, \"percentile_inc_nulls\": 0.762891948223114, \"value_count\": 22, \"group_name\": \"ClientPinNumber\", \"total_non_null_rows\": 162515, \"total_rows_inc_nulls\": 189285, \"sum_tokens_in_value_count_group\": 528.0, \"distinct_value_count\": 57160}, {\"percentile_ex_nulls\": 0.7199581861495972, \"percentile_inc_nulls\": 0.7595636248588562, \"value_count\": 21, \"group_name\": \"ClientPinNumber\", \"total_non_null_rows\": 162515, \"total_rows_inc_nulls\": 189285, \"sum_tokens_in_value_count_group\": 630.0, \"distinct_value_count\": 57160}, {\"percentile_ex_nulls\": 0.7155277729034424, \"percentile_inc_nulls\": 0.7557598352432251, \"value_count\": 20, \"group_name\": \"ClientPinNumber\", \"total_non_null_rows\": 162515, \"total_rows_inc_nulls\": 189285, \"sum_tokens_in_value_count_group\": 720.0, \"distinct_value_count\": 57160}, {\"percentile_ex_nulls\": 0.711435854434967, \"percentile_inc_nulls\": 0.752246618270874, \"value_count\": 19, \"group_name\": \"ClientPinNumber\", \"total_non_null_rows\": 162515, \"total_rows_inc_nulls\": 189285, \"sum_tokens_in_value_count_group\": 665.0, \"distinct_value_count\": 57160}, {\"percentile_ex_nulls\": 0.7052333354949951, \"percentile_inc_nulls\": 0.7469213008880615, \"value_count\": 18, \"group_name\": \"ClientPinNumber\", \"total_non_null_rows\": 162515, \"total_rows_inc_nulls\": 189285, \"sum_tokens_in_value_count_group\": 1008.0, \"distinct_value_count\": 57160}, {\"percentile_ex_nulls\": 0.6996892690658569, \"percentile_inc_nulls\": 0.7421612739562988, \"value_count\": 17, \"group_name\": \"ClientPinNumber\", \"total_non_null_rows\": 162515, \"total_rows_inc_nulls\": 189285, \"sum_tokens_in_value_count_group\": 901.0, \"distinct_value_count\": 57160}, {\"percentile_ex_nulls\": 0.692206859588623, \"percentile_inc_nulls\": 0.7357370853424072, \"value_count\": 16, \"group_name\": \"ClientPinNumber\", \"total_non_null_rows\": 162515, \"total_rows_inc_nulls\": 189285, \"sum_tokens_in_value_count_group\": 1216.0, \"distinct_value_count\": 57160}, {\"percentile_ex_nulls\": 0.6848229169845581, \"percentile_inc_nulls\": 0.7293974757194519, \"value_count\": 15, \"group_name\": \"ClientPinNumber\", \"total_non_null_rows\": 162515, \"total_rows_inc_nulls\": 189285, \"sum_tokens_in_value_count_group\": 1200.0, \"distinct_value_count\": 57160}, {\"percentile_ex_nulls\": 0.6762083768844604, \"percentile_inc_nulls\": 0.7220011949539185, \"value_count\": 14, \"group_name\": \"ClientPinNumber\", \"total_non_null_rows\": 162515, \"total_rows_inc_nulls\": 189285, \"sum_tokens_in_value_count_group\": 1400.0, \"distinct_value_count\": 57160}, {\"percentile_ex_nulls\": 0.6666092276573181, \"percentile_inc_nulls\": 0.7137596607208252, \"value_count\": 13, \"group_name\": \"ClientPinNumber\", \"total_non_null_rows\": 162515, \"total_rows_inc_nulls\": 189285, \"sum_tokens_in_value_count_group\": 1560.0, \"distinct_value_count\": 57160}, {\"percentile_ex_nulls\": 0.6562716960906982, \"percentile_inc_nulls\": 0.7048841714859009, \"value_count\": 12, \"group_name\": \"ClientPinNumber\", \"total_non_null_rows\": 162515, \"total_rows_inc_nulls\": 189285, \"sum_tokens_in_value_count_group\": 1680.0, \"distinct_value_count\": 57160}, {\"percentile_ex_nulls\": 0.6438174843788147, \"percentile_inc_nulls\": 0.6941913366317749, \"value_count\": 11, \"group_name\": \"ClientPinNumber\", \"total_non_null_rows\": 162515, \"total_rows_inc_nulls\": 189285, \"sum_tokens_in_value_count_group\": 2024.0, \"distinct_value_count\": 57160}, {\"percentile_ex_nulls\": 0.6313263177871704, \"percentile_inc_nulls\": 0.6834667325019836, \"value_count\": 10, \"group_name\": \"ClientPinNumber\", \"total_non_null_rows\": 162515, \"total_rows_inc_nulls\": 189285, \"sum_tokens_in_value_count_group\": 2030.0, \"distinct_value_count\": 57160}, {\"percentile_ex_nulls\": 0.6165953874588013, \"percentile_inc_nulls\": 0.6708191633224487, \"value_count\": 9, \"group_name\": \"ClientPinNumber\", \"total_non_null_rows\": 162515, \"total_rows_inc_nulls\": 189285, \"sum_tokens_in_value_count_group\": 2394.0, \"distinct_value_count\": 57160}, {\"percentile_ex_nulls\": 0.5964618921279907, \"percentile_inc_nulls\": 0.6535330414772034, \"value_count\": 8, \"group_name\": \"ClientPinNumber\", \"total_non_null_rows\": 162515, \"total_rows_inc_nulls\": 189285, \"sum_tokens_in_value_count_group\": 3272.0, \"distinct_value_count\": 57160}, {\"percentile_ex_nulls\": 0.5741069912910461, \"percentile_inc_nulls\": 0.6343397498130798, \"value_count\": 7, \"group_name\": \"ClientPinNumber\", \"total_non_null_rows\": 162515, \"total_rows_inc_nulls\": 189285, \"sum_tokens_in_value_count_group\": 3633.0, \"distinct_value_count\": 57160}, {\"percentile_ex_nulls\": 0.5425037741661072, \"percentile_inc_nulls\": 0.6072061061859131, \"value_count\": 6, \"group_name\": \"ClientPinNumber\", \"total_non_null_rows\": 162515, \"total_rows_inc_nulls\": 189285, \"sum_tokens_in_value_count_group\": 5136.0, \"distinct_value_count\": 57160}, {\"percentile_ex_nulls\": 0.5088760852813721, \"percentile_inc_nulls\": 0.5783342719078064, \"value_count\": 5, \"group_name\": \"ClientPinNumber\", \"total_non_null_rows\": 162515, \"total_rows_inc_nulls\": 189285, \"sum_tokens_in_value_count_group\": 5465.0, \"distinct_value_count\": 57160}, {\"percentile_ex_nulls\": 0.44333136081695557, \"percentile_inc_nulls\": 0.5220593214035034, \"value_count\": 4, \"group_name\": \"ClientPinNumber\", \"total_non_null_rows\": 162515, \"total_rows_inc_nulls\": 189285, \"sum_tokens_in_value_count_group\": 10652.0, \"distinct_value_count\": 57160}, {\"percentile_ex_nulls\": 0.3778543472290039, \"percentile_inc_nulls\": 0.46584248542785645, \"value_count\": 3, \"group_name\": \"ClientPinNumber\", \"total_non_null_rows\": 162515, \"total_rows_inc_nulls\": 189285, \"sum_tokens_in_value_count_group\": 10641.0, \"distinct_value_count\": 57160}, {\"percentile_ex_nulls\": 0.1915084719657898, \"percentile_inc_nulls\": 0.3058509826660156, \"value_count\": 2, \"group_name\": \"ClientPinNumber\", \"total_non_null_rows\": 162515, \"total_rows_inc_nulls\": 189285, \"sum_tokens_in_value_count_group\": 30284.0, \"distinct_value_count\": 57160}, {\"percentile_ex_nulls\": 0.0, \"percentile_inc_nulls\": 0.1414269208908081, \"value_count\": 1, \"group_name\": \"ClientPinNumber\", \"total_non_null_rows\": 162515, \"total_rows_inc_nulls\": 189285, \"sum_tokens_in_value_count_group\": 31123.0, \"distinct_value_count\": 57160}, {\"percentile_ex_nulls\": 1.0, \"percentile_inc_nulls\": 1.0, \"value_count\": 16290, \"group_name\": \"ClientPinNumber\", \"total_non_null_rows\": 162515, \"total_rows_inc_nulls\": 189285, \"sum_tokens_in_value_count_group\": 16290.0, \"distinct_value_count\": 57160}]}, \"encoding\": {\"tooltip\": [{\"field\": \"value_count\", \"type\": \"quantitative\"}, {\"field\": \"percentile_ex_nulls\", \"type\": \"quantitative\"}, {\"field\": \"percentile_inc_nulls\", \"type\": \"quantitative\"}, {\"field\": \"total_non_null_rows\", \"type\": \"quantitative\"}, {\"field\": \"total_rows_inc_nulls\", \"type\": \"quantitative\"}], \"x\": {\"field\": \"percentile_ex_nulls\", \"sort\": \"descending\", \"title\": \"Percentile\", \"type\": \"quantitative\"}, \"y\": {\"field\": \"value_count\", \"title\": \"Count of values\", \"type\": \"quantitative\"}}, \"title\": {\"text\": \"Distribution of counts of values in column ClientPinNumber\", \"subtitle\": \"In this col, 26,770 values (14.1%) are null and there are 57160 distinct values\"}}, {\"mark\": \"bar\", \"data\": {\"values\": [{\"value_count\": 16290, \"group_name\": \"ClientPinNumber\", \"value\": \"0\", \"total_non_null_rows\": 162515, \"total_rows_inc_nulls\": 189285, \"distinct_value_count\": 57160}, {\"value_count\": 1231, \"group_name\": \"ClientPinNumber\", \"value\": \"P000609362E\", \"total_non_null_rows\": 162515, \"total_rows_inc_nulls\": 189285, \"distinct_value_count\": 57160}, {\"value_count\": 936, \"group_name\": \"ClientPinNumber\", \"value\": \"P000619379O\", \"total_non_null_rows\": 162515, \"total_rows_inc_nulls\": 189285, \"distinct_value_count\": 57160}, {\"value_count\": 838, \"group_name\": \"ClientPinNumber\", \"value\": \"P000591343L\", \"total_non_null_rows\": 162515, \"total_rows_inc_nulls\": 189285, \"distinct_value_count\": 57160}, {\"value_count\": 791, \"group_name\": \"ClientPinNumber\", \"value\": \"P000596926F\", \"total_non_null_rows\": 162515, \"total_rows_inc_nulls\": 189285, \"distinct_value_count\": 57160}, {\"value_count\": 675, \"group_name\": \"ClientPinNumber\", \"value\": \"P000593831T\", \"total_non_null_rows\": 162515, \"total_rows_inc_nulls\": 189285, \"distinct_value_count\": 57160}, {\"value_count\": 629, \"group_name\": \"ClientPinNumber\", \"value\": \"P051449667X\", \"total_non_null_rows\": 162515, \"total_rows_inc_nulls\": 189285, \"distinct_value_count\": 57160}, {\"value_count\": 613, \"group_name\": \"ClientPinNumber\", \"value\": \"P000608609Y\", \"total_non_null_rows\": 162515, \"total_rows_inc_nulls\": 189285, \"distinct_value_count\": 57160}, {\"value_count\": 599, \"group_name\": \"ClientPinNumber\", \"value\": \"P000609289O\", \"total_non_null_rows\": 162515, \"total_rows_inc_nulls\": 189285, \"distinct_value_count\": 57160}, {\"value_count\": 596, \"group_name\": \"ClientPinNumber\", \"value\": \"P0513288915D\", \"total_non_null_rows\": 162515, \"total_rows_inc_nulls\": 189285, \"distinct_value_count\": 57160}]}, \"encoding\": {\"tooltip\": [{\"field\": \"value\", \"type\": \"nominal\"}, {\"field\": \"value_count\", \"type\": \"quantitative\"}, {\"field\": \"total_non_null_rows\", \"type\": \"quantitative\"}, {\"field\": \"total_rows_inc_nulls\", \"type\": \"quantitative\"}], \"x\": {\"field\": \"value\", \"sort\": \"-y\", \"title\": null, \"type\": \"nominal\"}, \"y\": {\"field\": \"value_count\", \"title\": \"Value count\", \"type\": \"quantitative\"}}, \"title\": \"Top 10 values by value count\"}, {\"mark\": \"bar\", \"data\": {\"values\": [{\"value_count\": 1, \"group_name\": \"ClientPinNumber\", \"value\": \"A003772681E\", \"total_non_null_rows\": 162515, \"total_rows_inc_nulls\": 189285, \"distinct_value_count\": 57160}, {\"value_count\": 1, \"group_name\": \"ClientPinNumber\", \"value\": \"A001310654E\", \"total_non_null_rows\": 162515, \"total_rows_inc_nulls\": 189285, \"distinct_value_count\": 57160}, {\"value_count\": 1, \"group_name\": \"ClientPinNumber\", \"value\": \"A005436484F\", \"total_non_null_rows\": 162515, \"total_rows_inc_nulls\": 189285, \"distinct_value_count\": 57160}, {\"value_count\": 1, \"group_name\": \"ClientPinNumber\", \"value\": \"A0002595673\", \"total_non_null_rows\": 162515, \"total_rows_inc_nulls\": 189285, \"distinct_value_count\": 57160}, {\"value_count\": 1, \"group_name\": \"ClientPinNumber\", \"value\": \"A003253720E\", \"total_non_null_rows\": 162515, \"total_rows_inc_nulls\": 189285, \"distinct_value_count\": 57160}]}, \"encoding\": {\"tooltip\": [{\"field\": \"value\", \"type\": \"nominal\"}, {\"field\": \"value_count\", \"type\": \"quantitative\"}, {\"field\": \"total_non_null_rows\", \"type\": \"quantitative\"}, {\"field\": \"total_rows_inc_nulls\", \"type\": \"quantitative\"}], \"x\": {\"field\": \"value\", \"sort\": \"-y\", \"title\": null, \"type\": \"nominal\"}, \"y\": {\"field\": \"value_count\", \"scale\": {\"domain\": [0, 16290]}, \"title\": \"Value count\", \"type\": \"quantitative\"}}, \"title\": \"Bottom 5 values by value count\"}]}, {\"hconcat\": [{\"mark\": {\"type\": \"line\", \"interpolate\": \"step-after\"}, \"data\": {\"values\": [{\"percentile_ex_nulls\": 0.6750508546829224, \"percentile_inc_nulls\": 0.6750508546829224, \"value_count\": 61508, \"group_name\": \"Department\", \"total_non_null_rows\": 189285, \"total_rows_inc_nulls\": 189285, \"sum_tokens_in_value_count_group\": 61508.0, \"distinct_value_count\": 13}, {\"percentile_ex_nulls\": 0.5232902765274048, \"percentile_inc_nulls\": 0.5232902765274048, \"value_count\": 28726, \"group_name\": \"Department\", \"total_non_null_rows\": 189285, \"total_rows_inc_nulls\": 189285, \"sum_tokens_in_value_count_group\": 28726.0, \"distinct_value_count\": 13}, {\"percentile_ex_nulls\": 0.4104604125022888, \"percentile_inc_nulls\": 0.4104604125022888, \"value_count\": 21357, \"group_name\": \"Department\", \"total_non_null_rows\": 189285, \"total_rows_inc_nulls\": 189285, \"sum_tokens_in_value_count_group\": 21357.0, \"distinct_value_count\": 13}, {\"percentile_ex_nulls\": 0.3228253722190857, \"percentile_inc_nulls\": 0.3228253722190857, \"value_count\": 16588, \"group_name\": \"Department\", \"total_non_null_rows\": 189285, \"total_rows_inc_nulls\": 189285, \"sum_tokens_in_value_count_group\": 16588.0, \"distinct_value_count\": 13}, {\"percentile_ex_nulls\": 0.2578704357147217, \"percentile_inc_nulls\": 0.2578704357147217, \"value_count\": 12295, \"group_name\": \"Department\", \"total_non_null_rows\": 189285, \"total_rows_inc_nulls\": 189285, \"sum_tokens_in_value_count_group\": 12295.0, \"distinct_value_count\": 13}, {\"percentile_ex_nulls\": 0.19490188360214233, \"percentile_inc_nulls\": 0.19490188360214233, \"value_count\": 11919, \"group_name\": \"Department\", \"total_non_null_rows\": 189285, \"total_rows_inc_nulls\": 189285, \"sum_tokens_in_value_count_group\": 11919.0, \"distinct_value_count\": 13}, {\"percentile_ex_nulls\": 0.1423039436340332, \"percentile_inc_nulls\": 0.1423039436340332, \"value_count\": 9956, \"group_name\": \"Department\", \"total_non_null_rows\": 189285, \"total_rows_inc_nulls\": 189285, \"sum_tokens_in_value_count_group\": 9956.0, \"distinct_value_count\": 13}, {\"percentile_ex_nulls\": 0.1035422682762146, \"percentile_inc_nulls\": 0.1035422682762146, \"value_count\": 7337, \"group_name\": \"Department\", \"total_non_null_rows\": 189285, \"total_rows_inc_nulls\": 189285, \"sum_tokens_in_value_count_group\": 7337.0, \"distinct_value_count\": 13}, {\"percentile_ex_nulls\": 0.06559950113296509, \"percentile_inc_nulls\": 0.06559950113296509, \"value_count\": 7182, \"group_name\": \"Department\", \"total_non_null_rows\": 189285, \"total_rows_inc_nulls\": 189285, \"sum_tokens_in_value_count_group\": 7182.0, \"distinct_value_count\": 13}, {\"percentile_ex_nulls\": 0.03826504945755005, \"percentile_inc_nulls\": 0.03826504945755005, \"value_count\": 5174, \"group_name\": \"Department\", \"total_non_null_rows\": 189285, \"total_rows_inc_nulls\": 189285, \"sum_tokens_in_value_count_group\": 5174.0, \"distinct_value_count\": 13}, {\"percentile_ex_nulls\": 0.016858160495758057, \"percentile_inc_nulls\": 0.016858160495758057, \"value_count\": 4052, \"group_name\": \"Department\", \"total_non_null_rows\": 189285, \"total_rows_inc_nulls\": 189285, \"sum_tokens_in_value_count_group\": 4052.0, \"distinct_value_count\": 13}, {\"percentile_ex_nulls\": 0.0029056668281555176, \"percentile_inc_nulls\": 0.0029056668281555176, \"value_count\": 2641, \"group_name\": \"Department\", \"total_non_null_rows\": 189285, \"total_rows_inc_nulls\": 189285, \"sum_tokens_in_value_count_group\": 2641.0, \"distinct_value_count\": 13}, {\"percentile_ex_nulls\": 0.0, \"percentile_inc_nulls\": 0.0, \"value_count\": 550, \"group_name\": \"Department\", \"total_non_null_rows\": 189285, \"total_rows_inc_nulls\": 189285, \"sum_tokens_in_value_count_group\": 550.0, \"distinct_value_count\": 13}, {\"percentile_ex_nulls\": 1.0, \"percentile_inc_nulls\": 1.0, \"value_count\": 61508, \"group_name\": \"Department\", \"total_non_null_rows\": 189285, \"total_rows_inc_nulls\": 189285, \"sum_tokens_in_value_count_group\": 61508.0, \"distinct_value_count\": 13}]}, \"encoding\": {\"tooltip\": [{\"field\": \"value_count\", \"type\": \"quantitative\"}, {\"field\": \"percentile_ex_nulls\", \"type\": \"quantitative\"}, {\"field\": \"percentile_inc_nulls\", \"type\": \"quantitative\"}, {\"field\": \"total_non_null_rows\", \"type\": \"quantitative\"}, {\"field\": \"total_rows_inc_nulls\", \"type\": \"quantitative\"}], \"x\": {\"field\": \"percentile_ex_nulls\", \"sort\": \"descending\", \"title\": \"Percentile\", \"type\": \"quantitative\"}, \"y\": {\"field\": \"value_count\", \"title\": \"Count of values\", \"type\": \"quantitative\"}}, \"title\": {\"text\": \"Distribution of counts of values in column Department\", \"subtitle\": \"In this col, 0 values (0.0%) are null and there are 13 distinct values\"}}, {\"mark\": \"bar\", \"data\": {\"values\": [{\"value_count\": 61508, \"group_name\": \"Department\", \"value\": \"motor private\", \"total_non_null_rows\": 189285, \"total_rows_inc_nulls\": 189285, \"distinct_value_count\": 13}, {\"value_count\": 28726, \"group_name\": \"Department\", \"value\": \"fire industrial\", \"total_non_null_rows\": 189285, \"total_rows_inc_nulls\": 189285, \"distinct_value_count\": 13}, {\"value_count\": 21357, \"group_name\": \"Department\", \"value\": \"medical\", \"total_non_null_rows\": 189285, \"total_rows_inc_nulls\": 189285, \"distinct_value_count\": 13}, {\"value_count\": 16588, \"group_name\": \"Department\", \"value\": \"miscellaneous accident\", \"total_non_null_rows\": 189285, \"total_rows_inc_nulls\": 189285, \"distinct_value_count\": 13}, {\"value_count\": 12295, \"group_name\": \"Department\", \"value\": \"personal accident\", \"total_non_null_rows\": 189285, \"total_rows_inc_nulls\": 189285, \"distinct_value_count\": 13}, {\"value_count\": 11919, \"group_name\": \"Department\", \"value\": \"motor commercial\", \"total_non_null_rows\": 189285, \"total_rows_inc_nulls\": 189285, \"distinct_value_count\": 13}, {\"value_count\": 9956, \"group_name\": \"Department\", \"value\": \"fire domestic\", \"total_non_null_rows\": 189285, \"total_rows_inc_nulls\": 189285, \"distinct_value_count\": 13}, {\"value_count\": 7337, \"group_name\": \"Department\", \"value\": \"workmens compensation\", \"total_non_null_rows\": 189285, \"total_rows_inc_nulls\": 189285, \"distinct_value_count\": 13}, {\"value_count\": 7182, \"group_name\": \"Department\", \"value\": \"theft\", \"total_non_null_rows\": 189285, \"total_rows_inc_nulls\": 189285, \"distinct_value_count\": 13}, {\"value_count\": 5174, \"group_name\": \"Department\", \"value\": \"marine\", \"total_non_null_rows\": 189285, \"total_rows_inc_nulls\": 189285, \"distinct_value_count\": 13}]}, \"encoding\": {\"tooltip\": [{\"field\": \"value\", \"type\": \"nominal\"}, {\"field\": \"value_count\", \"type\": \"quantitative\"}, {\"field\": \"total_non_null_rows\", \"type\": \"quantitative\"}, {\"field\": \"total_rows_inc_nulls\", \"type\": \"quantitative\"}], \"x\": {\"field\": \"value\", \"sort\": \"-y\", \"title\": null, \"type\": \"nominal\"}, \"y\": {\"field\": \"value_count\", \"title\": \"Value count\", \"type\": \"quantitative\"}}, \"title\": \"Top 10 values by value count\"}, {\"mark\": \"bar\", \"data\": {\"values\": [{\"value_count\": 550, \"group_name\": \"Department\", \"value\": \"aviation\", \"total_non_null_rows\": 189285, \"total_rows_inc_nulls\": 189285, \"distinct_value_count\": 13}, {\"value_count\": 2641, \"group_name\": \"Department\", \"value\": \"engineering\", \"total_non_null_rows\": 189285, \"total_rows_inc_nulls\": 189285, \"distinct_value_count\": 13}, {\"value_count\": 4052, \"group_name\": \"Department\", \"value\": \"liabilities\", \"total_non_null_rows\": 189285, \"total_rows_inc_nulls\": 189285, \"distinct_value_count\": 13}, {\"value_count\": 5174, \"group_name\": \"Department\", \"value\": \"marine\", \"total_non_null_rows\": 189285, \"total_rows_inc_nulls\": 189285, \"distinct_value_count\": 13}, {\"value_count\": 7182, \"group_name\": \"Department\", \"value\": \"theft\", \"total_non_null_rows\": 189285, \"total_rows_inc_nulls\": 189285, \"distinct_value_count\": 13}]}, \"encoding\": {\"tooltip\": [{\"field\": \"value\", \"type\": \"nominal\"}, {\"field\": \"value_count\", \"type\": \"quantitative\"}, {\"field\": \"total_non_null_rows\", \"type\": \"quantitative\"}, {\"field\": \"total_rows_inc_nulls\", \"type\": \"quantitative\"}], \"x\": {\"field\": \"value\", \"sort\": \"-y\", \"title\": null, \"type\": \"nominal\"}, \"y\": {\"field\": \"value_count\", \"scale\": {\"domain\": [0, 61508]}, \"title\": \"Value count\", \"type\": \"quantitative\"}}, \"title\": \"Bottom 5 values by value count\"}]}, {\"hconcat\": [{\"mark\": {\"type\": \"line\", \"interpolate\": \"step-after\"}, \"data\": {\"values\": [{\"percentile_ex_nulls\": 0.8173581957817078, \"percentile_inc_nulls\": 0.8183057308197021, \"value_count\": 34392, \"group_name\": \"substr_OriginalAttachmentDate_1_4_\", \"total_non_null_rows\": 188303, \"total_rows_inc_nulls\": 189285, \"sum_tokens_in_value_count_group\": 34392.0, \"distinct_value_count\": 62}, {\"percentile_ex_nulls\": 0.7847564816474915, \"percentile_inc_nulls\": 0.7858731746673584, \"value_count\": 6139, \"group_name\": \"substr_OriginalAttachmentDate_1_4_\", \"total_non_null_rows\": 188303, \"total_rows_inc_nulls\": 189285, \"sum_tokens_in_value_count_group\": 6139.0, \"distinct_value_count\": 62}, {\"percentile_ex_nulls\": 0.756658136844635, \"percentile_inc_nulls\": 0.7579206228256226, \"value_count\": 5291, \"group_name\": \"substr_OriginalAttachmentDate_1_4_\", \"total_non_null_rows\": 188303, \"total_rows_inc_nulls\": 189285, \"sum_tokens_in_value_count_group\": 5291.0, \"distinct_value_count\": 62}, {\"percentile_ex_nulls\": 0.7348157167434692, \"percentile_inc_nulls\": 0.73619145154953, \"value_count\": 4113, \"group_name\": \"substr_OriginalAttachmentDate_1_4_\", \"total_non_null_rows\": 188303, \"total_rows_inc_nulls\": 189285, \"sum_tokens_in_value_count_group\": 4113.0, \"distinct_value_count\": 62}, {\"percentile_ex_nulls\": 0.7136317491531372, \"percentile_inc_nulls\": 0.7151174545288086, \"value_count\": 3989, \"group_name\": \"substr_OriginalAttachmentDate_1_4_\", \"total_non_null_rows\": 188303, \"total_rows_inc_nulls\": 189285, \"sum_tokens_in_value_count_group\": 3989.0, \"distinct_value_count\": 62}, {\"percentile_ex_nulls\": 0.6926655769348145, \"percentile_inc_nulls\": 0.6942600011825562, \"value_count\": 3948, \"group_name\": \"substr_OriginalAttachmentDate_1_4_\", \"total_non_null_rows\": 188303, \"total_rows_inc_nulls\": 189285, \"sum_tokens_in_value_count_group\": 3948.0, \"distinct_value_count\": 62}, {\"percentile_ex_nulls\": 0.6723843812942505, \"percentile_inc_nulls\": 0.6740840673446655, \"value_count\": 3819, \"group_name\": \"substr_OriginalAttachmentDate_1_4_\", \"total_non_null_rows\": 188303, \"total_rows_inc_nulls\": 189285, \"sum_tokens_in_value_count_group\": 3819.0, \"distinct_value_count\": 62}, {\"percentile_ex_nulls\": 0.652193546295166, \"percentile_inc_nulls\": 0.6539978981018066, \"value_count\": 3802, \"group_name\": \"substr_OriginalAttachmentDate_1_4_\", \"total_non_null_rows\": 188303, \"total_rows_inc_nulls\": 189285, \"sum_tokens_in_value_count_group\": 3802.0, \"distinct_value_count\": 62}, {\"percentile_ex_nulls\": 0.6321779489517212, \"percentile_inc_nulls\": 0.6340861320495605, \"value_count\": 3769, \"group_name\": \"substr_OriginalAttachmentDate_1_4_\", \"total_non_null_rows\": 188303, \"total_rows_inc_nulls\": 189285, \"sum_tokens_in_value_count_group\": 3769.0, \"distinct_value_count\": 62}, {\"percentile_ex_nulls\": 0.6122791767120361, \"percentile_inc_nulls\": 0.6142905950546265, \"value_count\": 3747, \"group_name\": \"substr_OriginalAttachmentDate_1_4_\", \"total_non_null_rows\": 188303, \"total_rows_inc_nulls\": 189285, \"sum_tokens_in_value_count_group\": 3747.0, \"distinct_value_count\": 62}, {\"percentile_ex_nulls\": 0.5924334526062012, \"percentile_inc_nulls\": 0.5945478677749634, \"value_count\": 3737, \"group_name\": \"substr_OriginalAttachmentDate_1_4_\", \"total_non_null_rows\": 188303, \"total_rows_inc_nulls\": 189285, \"sum_tokens_in_value_count_group\": 3737.0, \"distinct_value_count\": 62}, {\"percentile_ex_nulls\": 0.5727471113204956, \"percentile_inc_nulls\": 0.5749636888504028, \"value_count\": 3707, \"group_name\": \"substr_OriginalAttachmentDate_1_4_\", \"total_non_null_rows\": 188303, \"total_rows_inc_nulls\": 189285, \"sum_tokens_in_value_count_group\": 3707.0, \"distinct_value_count\": 62}, {\"percentile_ex_nulls\": 0.5531457662582397, \"percentile_inc_nulls\": 0.555463969707489, \"value_count\": 3691, \"group_name\": \"substr_OriginalAttachmentDate_1_4_\", \"total_non_null_rows\": 188303, \"total_rows_inc_nulls\": 189285, \"sum_tokens_in_value_count_group\": 3691.0, \"distinct_value_count\": 62}, {\"percentile_ex_nulls\": 0.5335496664047241, \"percentile_inc_nulls\": 0.5359695553779602, \"value_count\": 3690, \"group_name\": \"substr_OriginalAttachmentDate_1_4_\", \"total_non_null_rows\": 188303, \"total_rows_inc_nulls\": 189285, \"sum_tokens_in_value_count_group\": 3690.0, \"distinct_value_count\": 62}, {\"percentile_ex_nulls\": 0.5139801502227783, \"percentile_inc_nulls\": 0.5165015459060669, \"value_count\": 3685, \"group_name\": \"substr_OriginalAttachmentDate_1_4_\", \"total_non_null_rows\": 188303, \"total_rows_inc_nulls\": 189285, \"sum_tokens_in_value_count_group\": 3685.0, \"distinct_value_count\": 62}, {\"percentile_ex_nulls\": 0.49450618028640747, \"percentile_inc_nulls\": 0.4971286654472351, \"value_count\": 3667, \"group_name\": \"substr_OriginalAttachmentDate_1_4_\", \"total_non_null_rows\": 188303, \"total_rows_inc_nulls\": 189285, \"sum_tokens_in_value_count_group\": 3667.0, \"distinct_value_count\": 62}, {\"percentile_ex_nulls\": 0.4750959873199463, \"percentile_inc_nulls\": 0.47781914472579956, \"value_count\": 3655, \"group_name\": \"substr_OriginalAttachmentDate_1_4_\", \"total_non_null_rows\": 188303, \"total_rows_inc_nulls\": 189285, \"sum_tokens_in_value_count_group\": 3655.0, \"distinct_value_count\": 62}, {\"percentile_ex_nulls\": 0.45572829246520996, \"percentile_inc_nulls\": 0.45855194330215454, \"value_count\": 3647, \"group_name\": \"substr_OriginalAttachmentDate_1_4_\", \"total_non_null_rows\": 188303, \"total_rows_inc_nulls\": 189285, \"sum_tokens_in_value_count_group\": 3647.0, \"distinct_value_count\": 62}, {\"percentile_ex_nulls\": 0.4363711476325989, \"percentile_inc_nulls\": 0.43929523229599, \"value_count\": 3645, \"group_name\": \"substr_OriginalAttachmentDate_1_4_\", \"total_non_null_rows\": 188303, \"total_rows_inc_nulls\": 189285, \"sum_tokens_in_value_count_group\": 3645.0, \"distinct_value_count\": 62}, {\"percentile_ex_nulls\": 0.4170883893966675, \"percentile_inc_nulls\": 0.4201125502586365, \"value_count\": 3631, \"group_name\": \"substr_OriginalAttachmentDate_1_4_\", \"total_non_null_rows\": 188303, \"total_rows_inc_nulls\": 189285, \"sum_tokens_in_value_count_group\": 3631.0, \"distinct_value_count\": 62}, {\"percentile_ex_nulls\": 0.39784812927246094, \"percentile_inc_nulls\": 0.40097206830978394, \"value_count\": 3623, \"group_name\": \"substr_OriginalAttachmentDate_1_4_\", \"total_non_null_rows\": 188303, \"total_rows_inc_nulls\": 189285, \"sum_tokens_in_value_count_group\": 3623.0, \"distinct_value_count\": 62}, {\"percentile_ex_nulls\": 0.3786291480064392, \"percentile_inc_nulls\": 0.38185274600982666, \"value_count\": 3619, \"group_name\": \"substr_OriginalAttachmentDate_1_4_\", \"total_non_null_rows\": 188303, \"total_rows_inc_nulls\": 189285, \"sum_tokens_in_value_count_group\": 3619.0, \"distinct_value_count\": 62}, {\"percentile_ex_nulls\": 0.359771192073822, \"percentile_inc_nulls\": 0.36309272050857544, \"value_count\": 3551, \"group_name\": \"substr_OriginalAttachmentDate_1_4_\", \"total_non_null_rows\": 188303, \"total_rows_inc_nulls\": 189285, \"sum_tokens_in_value_count_group\": 3551.0, \"distinct_value_count\": 62}, {\"percentile_ex_nulls\": 0.3409664034843445, \"percentile_inc_nulls\": 0.34438544511795044, \"value_count\": 3541, \"group_name\": \"substr_OriginalAttachmentDate_1_4_\", \"total_non_null_rows\": 188303, \"total_rows_inc_nulls\": 189285, \"sum_tokens_in_value_count_group\": 3541.0, \"distinct_value_count\": 62}, {\"percentile_ex_nulls\": 0.32246965169906616, \"percentile_inc_nulls\": 0.3259845972061157, \"value_count\": 3483, \"group_name\": \"substr_OriginalAttachmentDate_1_4_\", \"total_non_null_rows\": 188303, \"total_rows_inc_nulls\": 189285, \"sum_tokens_in_value_count_group\": 3483.0, \"distinct_value_count\": 62}, {\"percentile_ex_nulls\": 0.3039781451225281, \"percentile_inc_nulls\": 0.3075891137123108, \"value_count\": 3482, \"group_name\": \"substr_OriginalAttachmentDate_1_4_\", \"total_non_null_rows\": 188303, \"total_rows_inc_nulls\": 189285, \"sum_tokens_in_value_count_group\": 3482.0, \"distinct_value_count\": 62}, {\"percentile_ex_nulls\": 0.2855238914489746, \"percentile_inc_nulls\": 0.2892305254936218, \"value_count\": 3475, \"group_name\": \"substr_OriginalAttachmentDate_1_4_\", \"total_non_null_rows\": 188303, \"total_rows_inc_nulls\": 189285, \"sum_tokens_in_value_count_group\": 3475.0, \"distinct_value_count\": 62}, {\"percentile_ex_nulls\": 0.26747846603393555, \"percentile_inc_nulls\": 0.2712787389755249, \"value_count\": 3398, \"group_name\": \"substr_OriginalAttachmentDate_1_4_\", \"total_non_null_rows\": 188303, \"total_rows_inc_nulls\": 189285, \"sum_tokens_in_value_count_group\": 3398.0, \"distinct_value_count\": 62}, {\"percentile_ex_nulls\": 0.24956583976745605, \"percentile_inc_nulls\": 0.253459095954895, \"value_count\": 3373, \"group_name\": \"substr_OriginalAttachmentDate_1_4_\", \"total_non_null_rows\": 188303, \"total_rows_inc_nulls\": 189285, \"sum_tokens_in_value_count_group\": 3373.0, \"distinct_value_count\": 62}, {\"percentile_ex_nulls\": 0.23195064067840576, \"percentile_inc_nulls\": 0.23593521118164062, \"value_count\": 3317, \"group_name\": \"substr_OriginalAttachmentDate_1_4_\", \"total_non_null_rows\": 188303, \"total_rows_inc_nulls\": 189285, \"sum_tokens_in_value_count_group\": 3317.0, \"distinct_value_count\": 62}, {\"percentile_ex_nulls\": 0.2149248719215393, \"percentile_inc_nulls\": 0.21899783611297607, \"value_count\": 3206, \"group_name\": \"substr_OriginalAttachmentDate_1_4_\", \"total_non_null_rows\": 188303, \"total_rows_inc_nulls\": 189285, \"sum_tokens_in_value_count_group\": 3206.0, \"distinct_value_count\": 62}, {\"percentile_ex_nulls\": 0.202195405960083, \"percentile_inc_nulls\": 0.20633435249328613, \"value_count\": 2397, \"group_name\": \"substr_OriginalAttachmentDate_1_4_\", \"total_non_null_rows\": 188303, \"total_rows_inc_nulls\": 189285, \"sum_tokens_in_value_count_group\": 2397.0, \"distinct_value_count\": 62}, {\"percentile_ex_nulls\": 0.19350194931030273, \"percentile_inc_nulls\": 0.19768601655960083, \"value_count\": 1637, \"group_name\": \"substr_OriginalAttachmentDate_1_4_\", \"total_non_null_rows\": 188303, \"total_rows_inc_nulls\": 189285, \"sum_tokens_in_value_count_group\": 1637.0, \"distinct_value_count\": 62}, {\"percentile_ex_nulls\": 0.18529707193374634, \"percentile_inc_nulls\": 0.18952375650405884, \"value_count\": 1545, \"group_name\": \"substr_OriginalAttachmentDate_1_4_\", \"total_non_null_rows\": 188303, \"total_rows_inc_nulls\": 189285, \"sum_tokens_in_value_count_group\": 1545.0, \"distinct_value_count\": 62}, {\"percentile_ex_nulls\": 0.1771506667137146, \"percentile_inc_nulls\": 0.18141955137252808, \"value_count\": 1534, \"group_name\": \"substr_OriginalAttachmentDate_1_4_\", \"total_non_null_rows\": 188303, \"total_rows_inc_nulls\": 189285, \"sum_tokens_in_value_count_group\": 1534.0, \"distinct_value_count\": 62}, {\"percentile_ex_nulls\": 0.1692962646484375, \"percentile_inc_nulls\": 0.17360591888427734, \"value_count\": 1479, \"group_name\": \"substr_OriginalAttachmentDate_1_4_\", \"total_non_null_rows\": 188303, \"total_rows_inc_nulls\": 189285, \"sum_tokens_in_value_count_group\": 1479.0, \"distinct_value_count\": 62}, {\"percentile_ex_nulls\": 0.1617499589920044, \"percentile_inc_nulls\": 0.1660987138748169, \"value_count\": 1421, \"group_name\": \"substr_OriginalAttachmentDate_1_4_\", \"total_non_null_rows\": 188303, \"total_rows_inc_nulls\": 189285, \"sum_tokens_in_value_count_group\": 1421.0, \"distinct_value_count\": 62}, {\"percentile_ex_nulls\": 0.1542832851409912, \"percentile_inc_nulls\": 0.15867078304290771, \"value_count\": 1406, \"group_name\": \"substr_OriginalAttachmentDate_1_4_\", \"total_non_null_rows\": 188303, \"total_rows_inc_nulls\": 189285, \"sum_tokens_in_value_count_group\": 1406.0, \"distinct_value_count\": 62}, {\"percentile_ex_nulls\": 0.14701306819915771, \"percentile_inc_nulls\": 0.15143829584121704, \"value_count\": 1369, \"group_name\": \"substr_OriginalAttachmentDate_1_4_\", \"total_non_null_rows\": 188303, \"total_rows_inc_nulls\": 189285, \"sum_tokens_in_value_count_group\": 1369.0, \"distinct_value_count\": 62}, {\"percentile_ex_nulls\": 0.13978534936904907, \"percentile_inc_nulls\": 0.14424806833267212, \"value_count\": 1361, \"group_name\": \"substr_OriginalAttachmentDate_1_4_\", \"total_non_null_rows\": 188303, \"total_rows_inc_nulls\": 189285, \"sum_tokens_in_value_count_group\": 1361.0, \"distinct_value_count\": 62}, {\"percentile_ex_nulls\": 0.13257354497909546, \"percentile_inc_nulls\": 0.13707369565963745, \"value_count\": 1358, \"group_name\": \"substr_OriginalAttachmentDate_1_4_\", \"total_non_null_rows\": 188303, \"total_rows_inc_nulls\": 189285, \"sum_tokens_in_value_count_group\": 1358.0, \"distinct_value_count\": 62}, {\"percentile_ex_nulls\": 0.1254255175590515, \"percentile_inc_nulls\": 0.1299627423286438, \"value_count\": 1346, \"group_name\": \"substr_OriginalAttachmentDate_1_4_\", \"total_non_null_rows\": 188303, \"total_rows_inc_nulls\": 189285, \"sum_tokens_in_value_count_group\": 1346.0, \"distinct_value_count\": 62}, {\"percentile_ex_nulls\": 0.11828809976577759, \"percentile_inc_nulls\": 0.12286233901977539, \"value_count\": 1344, \"group_name\": \"substr_OriginalAttachmentDate_1_4_\", \"total_non_null_rows\": 188303, \"total_rows_inc_nulls\": 189285, \"sum_tokens_in_value_count_group\": 1344.0, \"distinct_value_count\": 62}, {\"percentile_ex_nulls\": 0.11122500896453857, \"percentile_inc_nulls\": 0.11583590507507324, \"value_count\": 1330, \"group_name\": \"substr_OriginalAttachmentDate_1_4_\", \"total_non_null_rows\": 188303, \"total_rows_inc_nulls\": 189285, \"sum_tokens_in_value_count_group\": 1330.0, \"distinct_value_count\": 62}, {\"percentile_ex_nulls\": 0.10425752401351929, \"percentile_inc_nulls\": 0.10890454053878784, \"value_count\": 1312, \"group_name\": \"substr_OriginalAttachmentDate_1_4_\", \"total_non_null_rows\": 188303, \"total_rows_inc_nulls\": 189285, \"sum_tokens_in_value_count_group\": 1312.0, \"distinct_value_count\": 62}, {\"percentile_ex_nulls\": 0.09729534387588501, \"percentile_inc_nulls\": 0.10197848081588745, \"value_count\": 1311, \"group_name\": \"substr_OriginalAttachmentDate_1_4_\", \"total_non_null_rows\": 188303, \"total_rows_inc_nulls\": 189285, \"sum_tokens_in_value_count_group\": 1311.0, \"distinct_value_count\": 62}, {\"percentile_ex_nulls\": 0.09039157629013062, \"percentile_inc_nulls\": 0.09511053562164307, \"value_count\": 1300, \"group_name\": \"substr_OriginalAttachmentDate_1_4_\", \"total_non_null_rows\": 188303, \"total_rows_inc_nulls\": 189285, \"sum_tokens_in_value_count_group\": 1300.0, \"distinct_value_count\": 62}, {\"percentile_ex_nulls\": 0.08349841833114624, \"percentile_inc_nulls\": 0.08825314044952393, \"value_count\": 1298, \"group_name\": \"substr_OriginalAttachmentDate_1_4_\", \"total_non_null_rows\": 188303, \"total_rows_inc_nulls\": 189285, \"sum_tokens_in_value_count_group\": 1298.0, \"distinct_value_count\": 62}, {\"percentile_ex_nulls\": 0.07661586999893188, \"percentile_inc_nulls\": 0.0814063549041748, \"value_count\": 1296, \"group_name\": \"substr_OriginalAttachmentDate_1_4_\", \"total_non_null_rows\": 188303, \"total_rows_inc_nulls\": 189285, \"sum_tokens_in_value_count_group\": 1296.0, \"distinct_value_count\": 62}, {\"percentile_ex_nulls\": 0.06975990533828735, \"percentile_inc_nulls\": 0.0745859146118164, \"value_count\": 1291, \"group_name\": \"substr_OriginalAttachmentDate_1_4_\", \"total_non_null_rows\": 188303, \"total_rows_inc_nulls\": 189285, \"sum_tokens_in_value_count_group\": 1291.0, \"distinct_value_count\": 62}, {\"percentile_ex_nulls\": 0.06296765804290771, \"percentile_inc_nulls\": 0.0678289532661438, \"value_count\": 1279, \"group_name\": \"substr_OriginalAttachmentDate_1_4_\", \"total_non_null_rows\": 188303, \"total_rows_inc_nulls\": 189285, \"sum_tokens_in_value_count_group\": 1279.0, \"distinct_value_count\": 62}, {\"percentile_ex_nulls\": 0.05621790885925293, \"percentile_inc_nulls\": 0.06111419200897217, \"value_count\": 1271, \"group_name\": \"substr_OriginalAttachmentDate_1_4_\", \"total_non_null_rows\": 188303, \"total_rows_inc_nulls\": 189285, \"sum_tokens_in_value_count_group\": 1271.0, \"distinct_value_count\": 62}, {\"percentile_ex_nulls\": 0.049510657787323, \"percentile_inc_nulls\": 0.05444169044494629, \"value_count\": 1263, \"group_name\": \"substr_OriginalAttachmentDate_1_4_\", \"total_non_null_rows\": 188303, \"total_rows_inc_nulls\": 189285, \"sum_tokens_in_value_count_group\": 1263.0, \"distinct_value_count\": 62}, {\"percentile_ex_nulls\": 0.04305827617645264, \"percentile_inc_nulls\": 0.0480228066444397, \"value_count\": 1215, \"group_name\": \"substr_OriginalAttachmentDate_1_4_\", \"total_non_null_rows\": 188303, \"total_rows_inc_nulls\": 189285, \"sum_tokens_in_value_count_group\": 1215.0, \"distinct_value_count\": 62}, {\"percentile_ex_nulls\": 0.03664839267730713, \"percentile_inc_nulls\": 0.04164618253707886, \"value_count\": 1207, \"group_name\": \"substr_OriginalAttachmentDate_1_4_\", \"total_non_null_rows\": 188303, \"total_rows_inc_nulls\": 189285, \"sum_tokens_in_value_count_group\": 1207.0, \"distinct_value_count\": 62}, {\"percentile_ex_nulls\": 0.030838608741760254, \"percentile_inc_nulls\": 0.03586655855178833, \"value_count\": 1094, \"group_name\": \"substr_OriginalAttachmentDate_1_4_\", \"total_non_null_rows\": 188303, \"total_rows_inc_nulls\": 189285, \"sum_tokens_in_value_count_group\": 1094.0, \"distinct_value_count\": 62}, {\"percentile_ex_nulls\": 0.025193452835083008, \"percentile_inc_nulls\": 0.0302506685256958, \"value_count\": 1063, \"group_name\": \"substr_OriginalAttachmentDate_1_4_\", \"total_non_null_rows\": 188303, \"total_rows_inc_nulls\": 189285, \"sum_tokens_in_value_count_group\": 1063.0, \"distinct_value_count\": 62}, {\"percentile_ex_nulls\": 0.019819140434265137, \"percentile_inc_nulls\": 0.024904251098632812, \"value_count\": 1012, \"group_name\": \"substr_OriginalAttachmentDate_1_4_\", \"total_non_null_rows\": 188303, \"total_rows_inc_nulls\": 189285, \"sum_tokens_in_value_count_group\": 1012.0, \"distinct_value_count\": 62}, {\"percentile_ex_nulls\": 0.014551043510437012, \"percentile_inc_nulls\": 0.019663453102111816, \"value_count\": 992, \"group_name\": \"substr_OriginalAttachmentDate_1_4_\", \"total_non_null_rows\": 188303, \"total_rows_inc_nulls\": 189285, \"sum_tokens_in_value_count_group\": 992.0, \"distinct_value_count\": 62}, {\"percentile_ex_nulls\": 0.009553730487823486, \"percentile_inc_nulls\": 0.014692127704620361, \"value_count\": 941, \"group_name\": \"substr_OriginalAttachmentDate_1_4_\", \"total_non_null_rows\": 188303, \"total_rows_inc_nulls\": 189285, \"sum_tokens_in_value_count_group\": 941.0, \"distinct_value_count\": 62}, {\"percentile_ex_nulls\": 0.00458836555480957, \"percentile_inc_nulls\": 0.009752511978149414, \"value_count\": 935, \"group_name\": \"substr_OriginalAttachmentDate_1_4_\", \"total_non_null_rows\": 188303, \"total_rows_inc_nulls\": 189285, \"sum_tokens_in_value_count_group\": 935.0, \"distinct_value_count\": 62}, {\"percentile_ex_nulls\": 0.0, \"percentile_inc_nulls\": 0.005187928676605225, \"value_count\": 864, \"group_name\": \"substr_OriginalAttachmentDate_1_4_\", \"total_non_null_rows\": 188303, \"total_rows_inc_nulls\": 189285, \"sum_tokens_in_value_count_group\": 864.0, \"distinct_value_count\": 62}, {\"percentile_ex_nulls\": 1.0, \"percentile_inc_nulls\": 1.0, \"value_count\": 34392, \"group_name\": \"substr_OriginalAttachmentDate_1_4_\", \"total_non_null_rows\": 188303, \"total_rows_inc_nulls\": 189285, \"sum_tokens_in_value_count_group\": 34392.0, \"distinct_value_count\": 62}]}, \"encoding\": {\"tooltip\": [{\"field\": \"value_count\", \"type\": \"quantitative\"}, {\"field\": \"percentile_ex_nulls\", \"type\": \"quantitative\"}, {\"field\": \"percentile_inc_nulls\", \"type\": \"quantitative\"}, {\"field\": \"total_non_null_rows\", \"type\": \"quantitative\"}, {\"field\": \"total_rows_inc_nulls\", \"type\": \"quantitative\"}], \"x\": {\"field\": \"percentile_ex_nulls\", \"sort\": \"descending\", \"title\": \"Percentile\", \"type\": \"quantitative\"}, \"y\": {\"field\": \"value_count\", \"title\": \"Count of values\", \"type\": \"quantitative\"}}, \"title\": {\"text\": \"Distribution of counts of values in column substr(OriginalAttachmentDate, 1,4)\", \"subtitle\": \"In this col, 982 values (0.5%) are null and there are 62 distinct values\"}}, {\"mark\": \"bar\", \"data\": {\"values\": [{\"value_count\": 34392, \"group_name\": \"substr_OriginalAttachmentDate_1_4_\", \"value\": \"01/0\", \"total_non_null_rows\": 188303, \"total_rows_inc_nulls\": 189285, \"distinct_value_count\": 62}, {\"value_count\": 6139, \"group_name\": \"substr_OriginalAttachmentDate_1_4_\", \"value\": \"15/0\", \"total_non_null_rows\": 188303, \"total_rows_inc_nulls\": 189285, \"distinct_value_count\": 62}, {\"value_count\": 5291, \"group_name\": \"substr_OriginalAttachmentDate_1_4_\", \"value\": \"01/1\", \"total_non_null_rows\": 188303, \"total_rows_inc_nulls\": 189285, \"distinct_value_count\": 62}, {\"value_count\": 4113, \"group_name\": \"substr_OriginalAttachmentDate_1_4_\", \"value\": \"29/0\", \"total_non_null_rows\": 188303, \"total_rows_inc_nulls\": 189285, \"distinct_value_count\": 62}, {\"value_count\": 3989, \"group_name\": \"substr_OriginalAttachmentDate_1_4_\", \"value\": \"10/0\", \"total_non_null_rows\": 188303, \"total_rows_inc_nulls\": 189285, \"distinct_value_count\": 62}, {\"value_count\": 3948, \"group_name\": \"substr_OriginalAttachmentDate_1_4_\", \"value\": \"16/0\", \"total_non_null_rows\": 188303, \"total_rows_inc_nulls\": 189285, \"distinct_value_count\": 62}, {\"value_count\": 3819, \"group_name\": \"substr_OriginalAttachmentDate_1_4_\", \"value\": \"18/0\", \"total_non_null_rows\": 188303, \"total_rows_inc_nulls\": 189285, \"distinct_value_count\": 62}, {\"value_count\": 3802, \"group_name\": \"substr_OriginalAttachmentDate_1_4_\", \"value\": \"20/0\", \"total_non_null_rows\": 188303, \"total_rows_inc_nulls\": 189285, \"distinct_value_count\": 62}, {\"value_count\": 3769, \"group_name\": \"substr_OriginalAttachmentDate_1_4_\", \"value\": \"08/0\", \"total_non_null_rows\": 188303, \"total_rows_inc_nulls\": 189285, \"distinct_value_count\": 62}, {\"value_count\": 3747, \"group_name\": \"substr_OriginalAttachmentDate_1_4_\", \"value\": \"27/0\", \"total_non_null_rows\": 188303, \"total_rows_inc_nulls\": 189285, \"distinct_value_count\": 62}]}, \"encoding\": {\"tooltip\": [{\"field\": \"value\", \"type\": \"nominal\"}, {\"field\": \"value_count\", \"type\": \"quantitative\"}, {\"field\": \"total_non_null_rows\", \"type\": \"quantitative\"}, {\"field\": \"total_rows_inc_nulls\", \"type\": \"quantitative\"}], \"x\": {\"field\": \"value\", \"sort\": \"-y\", \"title\": null, \"type\": \"nominal\"}, \"y\": {\"field\": \"value_count\", \"title\": \"Value count\", \"type\": \"quantitative\"}}, \"title\": \"Top 10 values by value count\"}, {\"mark\": \"bar\", \"data\": {\"values\": [{\"value_count\": 864, \"group_name\": \"substr_OriginalAttachmentDate_1_4_\", \"value\": \"26/1\", \"total_non_null_rows\": 188303, \"total_rows_inc_nulls\": 189285, \"distinct_value_count\": 62}, {\"value_count\": 935, \"group_name\": \"substr_OriginalAttachmentDate_1_4_\", \"value\": \"27/1\", \"total_non_null_rows\": 188303, \"total_rows_inc_nulls\": 189285, \"distinct_value_count\": 62}, {\"value_count\": 941, \"group_name\": \"substr_OriginalAttachmentDate_1_4_\", \"value\": \"25/1\", \"total_non_null_rows\": 188303, \"total_rows_inc_nulls\": 189285, \"distinct_value_count\": 62}, {\"value_count\": 992, \"group_name\": \"substr_OriginalAttachmentDate_1_4_\", \"value\": \"28/1\", \"total_non_null_rows\": 188303, \"total_rows_inc_nulls\": 189285, \"distinct_value_count\": 62}, {\"value_count\": 1012, \"group_name\": \"substr_OriginalAttachmentDate_1_4_\", \"value\": \"12/1\", \"total_non_null_rows\": 188303, \"total_rows_inc_nulls\": 189285, \"distinct_value_count\": 62}]}, \"encoding\": {\"tooltip\": [{\"field\": \"value\", \"type\": \"nominal\"}, {\"field\": \"value_count\", \"type\": \"quantitative\"}, {\"field\": \"total_non_null_rows\", \"type\": \"quantitative\"}, {\"field\": \"total_rows_inc_nulls\", \"type\": \"quantitative\"}], \"x\": {\"field\": \"value\", \"sort\": \"-y\", \"title\": null, \"type\": \"nominal\"}, \"y\": {\"field\": \"value_count\", \"scale\": {\"domain\": [0, 34392]}, \"title\": \"Value count\", \"type\": \"quantitative\"}}, \"title\": \"Bottom 5 values by value count\"}]}], \"$schema\": \"https://vega.github.io/schema/vega-lite/v5.9.3.json\"}, {\"mode\": \"vega-lite\"});\n",
              "</script>"
            ],
            "text/plain": [
              "alt.VConcatChart(...)"
            ]
          },
          "metadata": {},
          "execution_count": 22
        }
      ],
      "source": [
        "linker.profile_columns([\"cltname_x\", \"PolPcId\", \"ClientPinNumber\", \"Department\", \"substr(OriginalAttachmentDate, 1,4)\"], top_n=10, bottom_n=5)"
      ]
    },
    {
      "cell_type": "markdown",
      "metadata": {
        "id": "b_u6WuPPkXbg"
      },
      "source": [
        "\n",
        "\n",
        "\n",
        "\n",
        "\n",
        "\n",
        "\n",
        "\n",
        "\n",
        "\n",
        "\n",
        "\n",
        "\n",
        "\n",
        "\n",
        "\n",
        "\n",
        "\n",
        "\n",
        "\n",
        "\n",
        "\n",
        "\n",
        "\n",
        "\n",
        "\n",
        "\n",
        "\n",
        "\n",
        "## Specifying a linkage model"
      ]
    },
    {
      "cell_type": "markdown",
      "metadata": {
        "id": "TFHBnhYD8Yz4"
      },
      "source": [
        "### Comparisons"
      ]
    },
    {
      "cell_type": "code",
      "execution_count": 23,
      "metadata": {
        "colab": {
          "base_uri": "https://localhost:8080/"
        },
        "id": "vqeqVg6amQNm",
        "outputId": "5f8f4ab4-7b08-4a54-c600-2d58b2816012"
      },
      "outputs": [
        {
          "output_type": "stream",
          "name": "stdout",
          "text": [
            "Comparison 'Exact match vs. Cltname_X within levenshtein threshold 4 vs. anything else' of \"cltname_x\".\n",
            "Similarity is assessed using the following ComparisonLevels:\n",
            "    - 'Null' with SQL rule: \"cltname_x_l\" IS NULL OR \"cltname_x_r\" IS NULL\n",
            "    - 'Exact match' with SQL rule: \"cltname_x_l\" = \"cltname_x_r\"\n",
            "    - 'Levenshtein <= 4' with SQL rule: levenshtein(\"cltname_x_l\", \"cltname_x_r\") <= 4\n",
            "    - 'All other comparisons' with SQL rule: ELSE\n",
            "\n"
          ]
        },
        {
          "output_type": "stream",
          "name": "stderr",
          "text": [
            "/usr/local/lib/python3.10/dist-packages/ipykernel/ipkernel.py:283: DeprecationWarning: `should_run_async` will not call `transform_cell` automatically in the future. Please pass the result to `transformed_cell` argument and any exception that happen during thetransform in `preprocessing_exc_tuple` in IPython 7.17 and above.\n",
            "  and should_run_async(code)\n",
            "<ipython-input-23-e46a11a61581>:1: SplinkDeprecated: Importing directly from `splink.duckdb.duckdb_comparison_library` is deprecated and will be removed in Splink v4. Please import from `splink.duckdb.comparison_library` going forward.\n",
            "  import splink.duckdb.duckdb_comparison_library as cl\n"
          ]
        }
      ],
      "source": [
        "import splink.duckdb.duckdb_comparison_library as cl\n",
        "first_name_comparison = cl.levenshtein_at_thresholds(\"cltname_x\", 4)\n",
        "print(first_name_comparison.human_readable_description)"
      ]
    },
    {
      "cell_type": "markdown",
      "metadata": {
        "id": "8z0dIirJ_v9t"
      },
      "source": [
        "## Testing Blocking Rules"
      ]
    },
    {
      "cell_type": "code",
      "execution_count": 24,
      "metadata": {
        "colab": {
          "base_uri": "https://localhost:8080/"
        },
        "id": "aCewQ96noOKC",
        "outputId": "43451b63-e905-44d7-eb67-fc707a018202"
      },
      "outputs": [
        {
          "output_type": "stream",
          "name": "stderr",
          "text": [
            "/usr/local/lib/python3.10/dist-packages/ipykernel/ipkernel.py:283: DeprecationWarning: `should_run_async` will not call `transform_cell` automatically in the future. Please pass the result to `transformed_cell` argument and any exception that happen during thetransform in `preprocessing_exc_tuple` in IPython 7.17 and above.\n",
            "  and should_run_async(code)\n"
          ]
        }
      ],
      "source": [
        "# df =Actuarial_claims_unique_id6\n",
        "\n",
        "# from splink.duckdb.duckdb_linker import DuckDBLinker\n",
        "# settings = {\"link_type\": \"dedupe_only\"}\n",
        "# linker = DuckDBLinker(df, settings)\n",
        "\n",
        "# blocking_rule_1 = \"l.cltname_x =r.cltname_x and l.polref = r.polref\"\n",
        "# count = linker.count_num_comparisons_from_blocking_rule(blocking_rule_1)\n",
        "# print(f\"Number of comparisons generated by '{blocking_rule_1}': {count:,.0f}\")\n",
        "\n",
        "# blocking_rule_2 = \"l.ClientPinNumber = r.ClientPinNumber\"\n",
        "# count = linker.count_num_comparisons_from_blocking_rule(blocking_rule_2)\n",
        "# print(f\"Number of comparisons generated by '{blocking_rule_2}': {count:,.0f}\")\n",
        "\n",
        "# blocking_rule_3 = \"l.polref = r.polref\"\n",
        "# count = linker.count_num_comparisons_from_blocking_rule(blocking_rule_3)\n",
        "# print(f\"Number of comparisons generated by '{blocking_rule_3}': {count:,.0f}\")\n",
        "\n",
        "# blocking_rule_3 = \"l.BranchName_x = r.BranchName_x and l.cltname_x = r.cltname_x\"\n",
        "# count = linker.count_num_comparisons_from_blocking_rule(blocking_rule_3)\n",
        "# print(f\"Number of comparisons generated by '{blocking_rule_3}': {count:,.0f}\")\n"
      ]
    },
    {
      "cell_type": "markdown",
      "metadata": {
        "id": "zCqriTYt-O3r"
      },
      "source": [
        "## Specifying the full settings dictionary\n",
        "\n",
        "`Comparisons` are specified as part of the Splink `settings`, a Python dictionary which controls all of the configuration of a Splink model."
      ]
    },
    {
      "cell_type": "code",
      "execution_count": 25,
      "metadata": {
        "colab": {
          "base_uri": "https://localhost:8080/"
        },
        "id": "L1ku_mOuklDG",
        "outputId": "1cdc07bb-6258-4590-f0c6-697e64aab641"
      },
      "outputs": [
        {
          "output_type": "stream",
          "name": "stderr",
          "text": [
            "/usr/local/lib/python3.10/dist-packages/ipykernel/ipkernel.py:283: DeprecationWarning: `should_run_async` will not call `transform_cell` automatically in the future. Please pass the result to `transformed_cell` argument and any exception that happen during thetransform in `preprocessing_exc_tuple` in IPython 7.17 and above.\n",
            "  and should_run_async(code)\n"
          ]
        }
      ],
      "source": [
        "settings = {\n",
        "    \"probability_two_random_records_match\": 4/1000,\n",
        "    \"link_type\": \"dedupe_only\",\n",
        "    \"comparisons\": [\n",
        "        cl.levenshtein_at_thresholds(\"cltname_x\", 4),\n",
        "        cl.exact_match(\"ClientPinNumber\"),\n",
        "        cl.exact_match(\"PolPcId\"),\n",
        "        cl.exact_match(\"OriginalAttachmentDate\",term_frequency_adjustments=True),\n",
        "        cl.exact_match(\"BranchName_x\",term_frequency_adjustments=True),\n",
        "    ],\n",
        "    \"blocking_rules_to_generate_predictions\": [\n",
        "        \"l.cltname_x = r.cltname_x\",\n",
        "        \"l.ClientPinNumber = r.ClientPinNumber\",\n",
        "    ],\n",
        "    \"retain_matching_columns\": True,\n",
        "    \"retain_intermediate_calculation_columns\": True,\n",
        "    \"additional_columns_to_retain\": [\"Department\"],\n",
        "}"
      ]
    },
    {
      "cell_type": "markdown",
      "metadata": {
        "id": "EehjVfk5AONn"
      },
      "source": [
        "## Estimate the parameters of the model\n",
        "\n",
        "Now that we have specified our linkage model, we want to estimate its `m` and `u` parameters.\n",
        "\n",
        "- The `m` values are the proportion of records falling into each `ComparisonLevel` amongst truly *matching* records\n",
        "\n",
        "- The `u` values are the proportion of records falling into each `ComparisonLevel` amongst truly *non-matching* records"
      ]
    },
    {
      "cell_type": "code",
      "execution_count": 26,
      "metadata": {
        "colab": {
          "base_uri": "https://localhost:8080/",
          "height": 312,
          "referenced_widgets": [
            "3b10c7f1bbcf4a429cd6e83e6e839fcb",
            "e256cd6eb37a4eca8dee04694a55e663",
            "03f0145da58d4d87932ae8283fb9a717"
          ]
        },
        "id": "eLM2LltFrBnC",
        "outputId": "f525f897-a535-4120-a7b8-47857ecc468b"
      },
      "outputs": [
        {
          "output_type": "stream",
          "name": "stderr",
          "text": [
            "/usr/local/lib/python3.10/dist-packages/ipykernel/ipkernel.py:283: DeprecationWarning: `should_run_async` will not call `transform_cell` automatically in the future. Please pass the result to `transformed_cell` argument and any exception that happen during thetransform in `preprocessing_exc_tuple` in IPython 7.17 and above.\n",
            "  and should_run_async(code)\n",
            "<ipython-input-26-b32a9c7f81cf>:4: DeprecationWarning: target_rows is deprecated; use max_pairs\n",
            "  linker.estimate_u_using_random_sampling(target_rows=1e6)\n",
            "INFO:splink.estimate_u:----- Estimating u probabilities using random sampling -----\n"
          ]
        },
        {
          "output_type": "display_data",
          "data": {
            "text/plain": [
              "FloatProgress(value=0.0, layout=Layout(width='auto'), style=ProgressStyle(bar_color='black'))"
            ],
            "application/vnd.jupyter.widget-view+json": {
              "version_major": 2,
              "version_minor": 0,
              "model_id": "3b10c7f1bbcf4a429cd6e83e6e839fcb"
            }
          },
          "metadata": {}
        },
        {
          "output_type": "stream",
          "name": "stderr",
          "text": [
            "INFO:splink.estimate_u:\n",
            "Estimated u probabilities using random sampling\n",
            "INFO:splink.settings:\n",
            "Your model is not yet fully trained. Missing estimates for:\n",
            "    - cltname_x (no m values are trained).\n",
            "    - ClientPinNumber (no m values are trained).\n",
            "    - PolPcId (no m values are trained).\n",
            "    - OriginalAttachmentDate (no m values are trained).\n",
            "    - BranchName_x (no m values are trained).\n"
          ]
        }
      ],
      "source": [
        "df =Actuarial_claims_unique_id6\n",
        "linker = DuckDBLinker(df, settings)\n",
        "## control random sample using the `target_rows`\n",
        "linker.estimate_u_using_random_sampling(target_rows=1e6)"
      ]
    },
    {
      "cell_type": "markdown",
      "metadata": {
        "id": "Bg2-DJ3fCltl"
      },
      "source": [
        "### Estimating m values by blocking client name and pin number"
      ]
    },
    {
      "cell_type": "code",
      "execution_count": 27,
      "metadata": {
        "colab": {
          "base_uri": "https://localhost:8080/"
        },
        "id": "yNNgBmXspbZx",
        "outputId": "a93fd4f9-cd4a-4106-8118-495d592c1026"
      },
      "outputs": [
        {
          "output_type": "stream",
          "name": "stderr",
          "text": [
            "/usr/local/lib/python3.10/dist-packages/ipykernel/ipkernel.py:283: DeprecationWarning: `should_run_async` will not call `transform_cell` automatically in the future. Please pass the result to `transformed_cell` argument and any exception that happen during thetransform in `preprocessing_exc_tuple` in IPython 7.17 and above.\n",
            "  and should_run_async(code)\n",
            "INFO:splink.em_training_session:\n",
            "----- Starting EM training session -----\n",
            "\n",
            "INFO:splink.em_training_session:Estimating the m probabilities of the model by blocking on:\n",
            "l.cltname_x = r.cltname_x and l.ClientPinNumber = r.ClientPinNumber\n",
            "\n",
            "Parameter estimates will be made for the following comparison(s):\n",
            "    - PolPcId\n",
            "    - OriginalAttachmentDate\n",
            "    - BranchName_x\n",
            "\n",
            "Parameter estimates cannot be made for the following comparison(s) since they are used in the blocking rules: \n",
            "    - cltname_x\n",
            "    - ClientPinNumber\n",
            "INFO:splink.expectation_maximisation:\n",
            "INFO:splink.expectation_maximisation:Iteration 1: Largest change in params was -0.804 in the m_probability of PolPcId, level `Exact match`\n",
            "INFO:splink.expectation_maximisation:Iteration 2: Largest change in params was 0.1 in probability_two_random_records_match\n",
            "INFO:splink.expectation_maximisation:Iteration 3: Largest change in params was 0.11 in probability_two_random_records_match\n",
            "INFO:splink.expectation_maximisation:Iteration 4: Largest change in params was 0.101 in probability_two_random_records_match\n",
            "INFO:splink.expectation_maximisation:Iteration 5: Largest change in params was 0.0804 in probability_two_random_records_match\n",
            "INFO:splink.expectation_maximisation:Iteration 6: Largest change in params was 0.0566 in probability_two_random_records_match\n",
            "INFO:splink.expectation_maximisation:Iteration 7: Largest change in params was 0.0366 in probability_two_random_records_match\n",
            "INFO:splink.expectation_maximisation:Iteration 8: Largest change in params was 0.0224 in probability_two_random_records_match\n",
            "INFO:splink.expectation_maximisation:Iteration 9: Largest change in params was 0.0132 in probability_two_random_records_match\n",
            "INFO:splink.expectation_maximisation:Iteration 10: Largest change in params was 0.00768 in probability_two_random_records_match\n",
            "INFO:splink.expectation_maximisation:Iteration 11: Largest change in params was 0.00443 in probability_two_random_records_match\n",
            "INFO:splink.expectation_maximisation:Iteration 12: Largest change in params was 0.00256 in probability_two_random_records_match\n",
            "INFO:splink.expectation_maximisation:Iteration 13: Largest change in params was 0.00148 in probability_two_random_records_match\n",
            "INFO:splink.expectation_maximisation:Iteration 14: Largest change in params was 0.000873 in probability_two_random_records_match\n",
            "INFO:splink.expectation_maximisation:Iteration 15: Largest change in params was 0.000523 in probability_two_random_records_match\n",
            "INFO:splink.expectation_maximisation:Iteration 16: Largest change in params was 0.000319 in probability_two_random_records_match\n",
            "INFO:splink.expectation_maximisation:Iteration 17: Largest change in params was 0.0002 in probability_two_random_records_match\n",
            "INFO:splink.expectation_maximisation:Iteration 18: Largest change in params was 0.000129 in probability_two_random_records_match\n",
            "INFO:splink.expectation_maximisation:Iteration 19: Largest change in params was 8.52e-05 in probability_two_random_records_match\n",
            "INFO:splink.expectation_maximisation:\n",
            "EM converged after 19 iterations\n",
            "INFO:splink.settings:\n",
            "Your model is not yet fully trained. Missing estimates for:\n",
            "    - cltname_x (no m values are trained).\n",
            "    - ClientPinNumber (no m values are trained).\n"
          ]
        }
      ],
      "source": [
        "training_blocking_rule = \"l.cltname_x = r.cltname_x and l.ClientPinNumber = r.ClientPinNumber\"\n",
        "training_session_client_name_pin = linker.estimate_parameters_using_expectation_maximisation(training_blocking_rule)"
      ]
    },
    {
      "cell_type": "code",
      "execution_count": 28,
      "metadata": {
        "colab": {
          "base_uri": "https://localhost:8080/"
        },
        "id": "NoHn0kcpmg6I",
        "outputId": "dda7f4cb-8c46-40f5-a2f1-5bdadb57c377"
      },
      "outputs": [
        {
          "output_type": "stream",
          "name": "stderr",
          "text": [
            "/usr/local/lib/python3.10/dist-packages/ipykernel/ipkernel.py:283: DeprecationWarning: `should_run_async` will not call `transform_cell` automatically in the future. Please pass the result to `transformed_cell` argument and any exception that happen during thetransform in `preprocessing_exc_tuple` in IPython 7.17 and above.\n",
            "  and should_run_async(code)\n",
            "INFO:splink.em_training_session:\n",
            "----- Starting EM training session -----\n",
            "\n",
            "INFO:splink.em_training_session:Estimating the m probabilities of the model by blocking on:\n",
            "l.OriginalAttachmentDate = r.OriginalAttachmentDate and l.PolPcId= r.PolPcId\n",
            "\n",
            "Parameter estimates will be made for the following comparison(s):\n",
            "    - cltname_x\n",
            "    - ClientPinNumber\n",
            "    - BranchName_x\n",
            "\n",
            "Parameter estimates cannot be made for the following comparison(s) since they are used in the blocking rules: \n",
            "    - PolPcId\n",
            "    - OriginalAttachmentDate\n",
            "INFO:splink.expectation_maximisation:\n",
            "INFO:splink.expectation_maximisation:Iteration 1: Largest change in params was 0.866 in probability_two_random_records_match\n",
            "INFO:splink.expectation_maximisation:Iteration 2: Largest change in params was 0.0943 in probability_two_random_records_match\n",
            "INFO:splink.expectation_maximisation:Iteration 3: Largest change in params was 0.0265 in probability_two_random_records_match\n",
            "INFO:splink.expectation_maximisation:Iteration 4: Largest change in params was 0.00667 in probability_two_random_records_match\n",
            "INFO:splink.expectation_maximisation:Iteration 5: Largest change in params was 0.00183 in probability_two_random_records_match\n",
            "INFO:splink.expectation_maximisation:Iteration 6: Largest change in params was 0.000526 in probability_two_random_records_match\n",
            "INFO:splink.expectation_maximisation:Iteration 7: Largest change in params was 0.000164 in probability_two_random_records_match\n",
            "INFO:splink.expectation_maximisation:Iteration 8: Largest change in params was 6.22e-05 in probability_two_random_records_match\n",
            "INFO:splink.expectation_maximisation:\n",
            "EM converged after 8 iterations\n",
            "INFO:splink.settings:\n",
            "Your model is fully trained. All comparisons have at least one estimate for their m and u values\n"
          ]
        }
      ],
      "source": [
        "# estimating m values by blocking original attachment date and PCID\n",
        "training_blocking_rule = \"l.OriginalAttachmentDate = r.OriginalAttachmentDate and l.PolPcId= r.PolPcId\"\n",
        "training_session_dob = linker.estimate_parameters_using_expectation_maximisation(training_blocking_rule)"
      ]
    },
    {
      "cell_type": "code",
      "execution_count": 29,
      "metadata": {
        "colab": {
          "base_uri": "https://localhost:8080/"
        },
        "id": "_fJS8p0ezQLT",
        "outputId": "f0102f79-87f8-4c08-91d6-47c6633ed313"
      },
      "outputs": [
        {
          "output_type": "stream",
          "name": "stderr",
          "text": [
            "/usr/local/lib/python3.10/dist-packages/ipykernel/ipkernel.py:283: DeprecationWarning: `should_run_async` will not call `transform_cell` automatically in the future. Please pass the result to `transformed_cell` argument and any exception that happen during thetransform in `preprocessing_exc_tuple` in IPython 7.17 and above.\n",
            "  and should_run_async(code)\n",
            "<ipython-input-29-16998612a483>:2: DeprecationWarning: This function is deprecated. Use save_model_to_json() instead.\n",
            "  linker.save_settings_to_json(\"saved_prediction_model.json\", overwrite=True)\n"
          ]
        },
        {
          "output_type": "execute_result",
          "data": {
            "text/plain": [
              "{'probability_two_random_records_match': 0.004,\n",
              " 'link_type': 'dedupe_only',\n",
              " 'comparisons': [{'output_column_name': 'cltname_x',\n",
              "   'comparison_levels': [{'sql_condition': '\"cltname_x_l\" IS NULL OR \"cltname_x_r\" IS NULL',\n",
              "     'label_for_charts': 'Null',\n",
              "     'is_null_level': True},\n",
              "    {'sql_condition': '\"cltname_x_l\" = \"cltname_x_r\"',\n",
              "     'label_for_charts': 'Exact match',\n",
              "     'm_probability': 0.871498588893588,\n",
              "     'u_probability': 9.144483838615763e-05},\n",
              "    {'sql_condition': 'levenshtein(\"cltname_x_l\", \"cltname_x_r\") <= 4',\n",
              "     'label_for_charts': 'Levenshtein <= 4',\n",
              "     'm_probability': 0.03271023985725835,\n",
              "     'u_probability': 5.56620755394003e-05},\n",
              "    {'sql_condition': 'ELSE',\n",
              "     'label_for_charts': 'All other comparisons',\n",
              "     'm_probability': 0.09579117124915369,\n",
              "     'u_probability': 0.9998528930860744}],\n",
              "   'comparison_description': 'Exact match vs. Cltname_X within levenshtein threshold 4 vs. anything else'},\n",
              "  {'output_column_name': 'ClientPinNumber',\n",
              "   'comparison_levels': [{'sql_condition': '\"ClientPinNumber_l\" IS NULL OR \"ClientPinNumber_r\" IS NULL',\n",
              "     'label_for_charts': 'Null',\n",
              "     'is_null_level': True},\n",
              "    {'sql_condition': '\"ClientPinNumber_l\" = \"ClientPinNumber_r\"',\n",
              "     'label_for_charts': 'Exact match',\n",
              "     'm_probability': 0.7281916649771002,\n",
              "     'u_probability': 0.009842575829393541},\n",
              "    {'sql_condition': 'ELSE',\n",
              "     'label_for_charts': 'All other comparisons',\n",
              "     'm_probability': 0.27180833502289975,\n",
              "     'u_probability': 0.9901574241706065}],\n",
              "   'comparison_description': 'Exact match vs. anything else'},\n",
              "  {'output_column_name': 'PolPcId',\n",
              "   'comparison_levels': [{'sql_condition': '\"PolPcId_l\" IS NULL OR \"PolPcId_r\" IS NULL',\n",
              "     'label_for_charts': 'Null',\n",
              "     'is_null_level': True},\n",
              "    {'sql_condition': '\"PolPcId_l\" = \"PolPcId_r\"',\n",
              "     'label_for_charts': 'Exact match',\n",
              "     'm_probability': 0.05040923183281556,\n",
              "     'u_probability': 8.945690711689335e-06},\n",
              "    {'sql_condition': 'ELSE',\n",
              "     'label_for_charts': 'All other comparisons',\n",
              "     'm_probability': 0.9495907681671845,\n",
              "     'u_probability': 0.9999910543092884}],\n",
              "   'comparison_description': 'Exact match vs. anything else'},\n",
              "  {'output_column_name': 'OriginalAttachmentDate',\n",
              "   'comparison_levels': [{'sql_condition': '\"OriginalAttachmentDate_l\" IS NULL OR \"OriginalAttachmentDate_r\" IS NULL',\n",
              "     'label_for_charts': 'Null',\n",
              "     'is_null_level': True},\n",
              "    {'sql_condition': '\"OriginalAttachmentDate_l\" = \"OriginalAttachmentDate_r\"',\n",
              "     'label_for_charts': 'Exact match',\n",
              "     'm_probability': 0.12871004028449082,\n",
              "     'u_probability': 0.0017113069206971176,\n",
              "     'tf_adjustment_column': 'OriginalAttachmentDate',\n",
              "     'tf_adjustment_weight': 1.0},\n",
              "    {'sql_condition': 'ELSE',\n",
              "     'label_for_charts': 'All other comparisons',\n",
              "     'm_probability': 0.8712899597155092,\n",
              "     'u_probability': 0.9982886930793029}],\n",
              "   'comparison_description': 'Exact match vs. anything else'},\n",
              "  {'output_column_name': 'BranchName_x',\n",
              "   'comparison_levels': [{'sql_condition': '\"BranchName_x_l\" IS NULL OR \"BranchName_x_r\" IS NULL',\n",
              "     'label_for_charts': 'Null',\n",
              "     'is_null_level': True},\n",
              "    {'sql_condition': '\"BranchName_x_l\" = \"BranchName_x_r\"',\n",
              "     'label_for_charts': 'Exact match',\n",
              "     'm_probability': 0.999184707867574,\n",
              "     'u_probability': 0.3339515799580745,\n",
              "     'tf_adjustment_column': 'BranchName_x',\n",
              "     'tf_adjustment_weight': 1.0},\n",
              "    {'sql_condition': 'ELSE',\n",
              "     'label_for_charts': 'All other comparisons',\n",
              "     'm_probability': 0.0008152921324260549,\n",
              "     'u_probability': 0.6660484200419254}],\n",
              "   'comparison_description': 'Exact match vs. anything else'}],\n",
              " 'blocking_rules_to_generate_predictions': ['l.cltname_x = r.cltname_x',\n",
              "  'l.ClientPinNumber = r.ClientPinNumber'],\n",
              " 'retain_matching_columns': True,\n",
              " 'retain_intermediate_calculation_columns': True,\n",
              " 'additional_columns_to_retain': ['Department'],\n",
              " 'sql_dialect': 'duckdb',\n",
              " 'linker_uid': 'yuu7g49n'}"
            ]
          },
          "metadata": {},
          "execution_count": 29
        }
      ],
      "source": [
        "# save model setting for access in prediction stage\n",
        "linker.save_settings_to_json(\"saved_prediction_model.json\", overwrite=True)"
      ]
    },
    {
      "cell_type": "markdown",
      "metadata": {
        "id": "fr_sXQSYKG1r"
      },
      "source": [
        "## Visualising model parameters"
      ]
    },
    {
      "cell_type": "code",
      "execution_count": 30,
      "metadata": {
        "colab": {
          "base_uri": "https://localhost:8080/",
          "height": 414
        },
        "id": "EE24BQQOKL8M",
        "outputId": "9921a8b7-1aac-4868-8af3-f2008eabb7c8"
      },
      "outputs": [
        {
          "output_type": "stream",
          "name": "stderr",
          "text": [
            "/usr/local/lib/python3.10/dist-packages/ipykernel/ipkernel.py:283: DeprecationWarning: `should_run_async` will not call `transform_cell` automatically in the future. Please pass the result to `transformed_cell` argument and any exception that happen during thetransform in `preprocessing_exc_tuple` in IPython 7.17 and above.\n",
            "  and should_run_async(code)\n"
          ]
        },
        {
          "output_type": "execute_result",
          "data": {
            "text/html": [
              "\n",
              "<style>\n",
              "  #altair-viz-14f38c5abe534281a47902c1d80e297e.vega-embed {\n",
              "    width: 100%;\n",
              "    display: flex;\n",
              "  }\n",
              "\n",
              "  #altair-viz-14f38c5abe534281a47902c1d80e297e.vega-embed details,\n",
              "  #altair-viz-14f38c5abe534281a47902c1d80e297e.vega-embed details summary {\n",
              "    position: relative;\n",
              "  }\n",
              "</style>\n",
              "<div id=\"altair-viz-14f38c5abe534281a47902c1d80e297e\"></div>\n",
              "<script type=\"text/javascript\">\n",
              "  var VEGA_DEBUG = (typeof VEGA_DEBUG == \"undefined\") ? {} : VEGA_DEBUG;\n",
              "  (function(spec, embedOpt){\n",
              "    let outputDiv = document.currentScript.previousElementSibling;\n",
              "    if (outputDiv.id !== \"altair-viz-14f38c5abe534281a47902c1d80e297e\") {\n",
              "      outputDiv = document.getElementById(\"altair-viz-14f38c5abe534281a47902c1d80e297e\");\n",
              "    }\n",
              "    const paths = {\n",
              "      \"vega\": \"https://cdn.jsdelivr.net/npm/vega@5?noext\",\n",
              "      \"vega-lib\": \"https://cdn.jsdelivr.net/npm/vega-lib?noext\",\n",
              "      \"vega-lite\": \"https://cdn.jsdelivr.net/npm/vega-lite@5.8.0?noext\",\n",
              "      \"vega-embed\": \"https://cdn.jsdelivr.net/npm/vega-embed@6?noext\",\n",
              "    };\n",
              "\n",
              "    function maybeLoadScript(lib, version) {\n",
              "      var key = `${lib.replace(\"-\", \"\")}_version`;\n",
              "      return (VEGA_DEBUG[key] == version) ?\n",
              "        Promise.resolve(paths[lib]) :\n",
              "        new Promise(function(resolve, reject) {\n",
              "          var s = document.createElement('script');\n",
              "          document.getElementsByTagName(\"head\")[0].appendChild(s);\n",
              "          s.async = true;\n",
              "          s.onload = () => {\n",
              "            VEGA_DEBUG[key] = version;\n",
              "            return resolve(paths[lib]);\n",
              "          };\n",
              "          s.onerror = () => reject(`Error loading script: ${paths[lib]}`);\n",
              "          s.src = paths[lib];\n",
              "        });\n",
              "    }\n",
              "\n",
              "    function showError(err) {\n",
              "      outputDiv.innerHTML = `<div class=\"error\" style=\"color:red;\">${err}</div>`;\n",
              "      throw err;\n",
              "    }\n",
              "\n",
              "    function displayChart(vegaEmbed) {\n",
              "      vegaEmbed(outputDiv, spec, embedOpt)\n",
              "        .catch(err => showError(`Javascript Error: ${err.message}<br>This usually means there's a typo in your chart specification. See the javascript console for the full traceback.`));\n",
              "    }\n",
              "\n",
              "    if(typeof define === \"function\" && define.amd) {\n",
              "      requirejs.config({paths});\n",
              "      require([\"vega-embed\"], displayChart, err => showError(`Error loading script: ${err.message}`));\n",
              "    } else {\n",
              "      maybeLoadScript(\"vega\", \"5\")\n",
              "        .then(() => maybeLoadScript(\"vega-lite\", \"5.8.0\"))\n",
              "        .then(() => maybeLoadScript(\"vega-embed\", \"6\"))\n",
              "        .catch(showError)\n",
              "        .then(() => displayChart(vegaEmbed));\n",
              "    }\n",
              "  })({\"config\": {\"view\": {\"continuousWidth\": 300, \"continuousHeight\": 300, \"discreteHeight\": 60, \"discreteWidth\": 400}, \"header\": {\"title\": null}, \"mark\": {\"tooltip\": null}, \"title\": {\"anchor\": \"middle\"}}, \"vconcat\": [{\"mark\": {\"type\": \"bar\", \"clip\": true, \"height\": 15}, \"encoding\": {\"color\": {\"field\": \"log2_bayes_factor\", \"scale\": {\"domain\": [-10, 0, 10], \"range\": [\"red\", \"orange\", \"green\"]}, \"title\": \"Match weight\", \"type\": \"quantitative\"}, \"tooltip\": [{\"field\": \"comparison_name\", \"title\": \"Comparison name\", \"type\": \"nominal\"}, {\"field\": \"probability_two_random_records_match\", \"format\": \".4f\", \"title\": \"Probability two random records match\", \"type\": \"nominal\"}, {\"field\": \"log2_bayes_factor\", \"format\": \",.4f\", \"title\": \"Equivalent match weight\", \"type\": \"quantitative\"}, {\"field\": \"bayes_factor_description\", \"title\": \"Match weight description\", \"type\": \"nominal\"}], \"x\": {\"axis\": {\"domain\": false, \"labels\": false, \"ticks\": false, \"title\": \"\"}, \"field\": \"log2_bayes_factor\", \"scale\": {\"domain\": [-10, 10]}, \"type\": \"quantitative\"}, \"y\": {\"axis\": {\"title\": \"Prior (starting) match weight\", \"titleAlign\": \"right\", \"titleAngle\": 0, \"titleFontWeight\": \"normal\"}, \"field\": \"label_for_charts\", \"sort\": {\"field\": \"comparison_vector_value\", \"order\": \"descending\"}, \"type\": \"nominal\"}}, \"height\": 20, \"transform\": [{\"filter\": \"(datum.comparison_name == 'probability_two_random_records_match')\"}]}, {\"mark\": {\"type\": \"bar\", \"clip\": true}, \"encoding\": {\"color\": {\"field\": \"log2_bayes_factor\", \"scale\": {\"domain\": [-10, 0, 10], \"range\": [\"red\", \"orange\", \"green\"]}, \"title\": \"Match weight\", \"type\": \"quantitative\"}, \"row\": {\"field\": \"comparison_name\", \"header\": {\"labelAlign\": \"left\", \"labelAnchor\": \"middle\", \"labelAngle\": 0}, \"sort\": {\"field\": \"comparison_sort_order\"}, \"type\": \"nominal\"}, \"tooltip\": [{\"field\": \"comparison_name\", \"title\": \"Comparison name\", \"type\": \"nominal\"}, {\"field\": \"label_for_charts\", \"title\": \"Label\", \"type\": \"ordinal\"}, {\"field\": \"sql_condition\", \"title\": \"SQL condition\", \"type\": \"nominal\"}, {\"field\": \"m_probability\", \"format\": \".4f\", \"title\": \"M probability\", \"type\": \"quantitative\"}, {\"field\": \"u_probability\", \"format\": \".4f\", \"title\": \"U probability\", \"type\": \"quantitative\"}, {\"field\": \"bayes_factor\", \"format\": \",.4f\", \"title\": \"Bayes factor = m/u\", \"type\": \"quantitative\"}, {\"field\": \"log2_bayes_factor\", \"format\": \",.4f\", \"title\": \"Match weight = log2(m/u)\", \"type\": \"quantitative\"}, {\"field\": \"bayes_factor_description\", \"title\": \"Match weight description\", \"type\": \"nominal\"}], \"x\": {\"axis\": {\"title\": \"Comparison level match weight = log2(m/u)\"}, \"field\": \"log2_bayes_factor\", \"scale\": {\"domain\": [-10, 10]}, \"type\": \"quantitative\"}, \"y\": {\"axis\": {\"title\": null}, \"field\": \"label_for_charts\", \"sort\": {\"field\": \"comparison_vector_value\", \"order\": \"descending\"}, \"type\": \"nominal\"}}, \"height\": {\"step\": 12}, \"resolve\": {\"axis\": {\"y\": \"independent\"}, \"scale\": {\"y\": \"independent\"}}, \"transform\": [{\"filter\": \"(datum.comparison_name != 'probability_two_random_records_match')\"}]}], \"data\": {\"name\": \"data-8a15913a76927dd1fb3dcc7ebb1e0408\"}, \"params\": [{\"name\": \"mouse_zoom\", \"select\": {\"type\": \"interval\", \"encodings\": [\"x\"]}, \"bind\": \"scales\", \"views\": []}], \"resolve\": {\"axis\": {\"y\": \"independent\"}, \"scale\": {\"y\": \"independent\"}}, \"title\": {\"text\": \"Model parameters (components of final match weight)\", \"subtitle\": \"Use mousewheel to zoom\"}, \"$schema\": \"https://vega.github.io/schema/vega-lite/v5.9.3.json\", \"datasets\": {\"data-8a15913a76927dd1fb3dcc7ebb1e0408\": [{\"comparison_name\": \"probability_two_random_records_match\", \"sql_condition\": null, \"label_for_charts\": \"\", \"m_probability\": null, \"u_probability\": null, \"m_probability_description\": null, \"u_probability_description\": null, \"has_tf_adjustments\": false, \"tf_adjustment_column\": null, \"tf_adjustment_weight\": null, \"is_null_level\": false, \"bayes_factor\": 0.004016064257028113, \"log2_bayes_factor\": -7.960001932068081, \"comparison_vector_value\": 0, \"max_comparison_vector_value\": 0, \"bayes_factor_description\": \"The probability that two random records drawn at random match is 0.004 or one in  250.0 records.This is equivalent to a starting match weight of -7.960.\", \"probability_two_random_records_match\": 0.004, \"comparison_sort_order\": -1}, {\"comparison_name\": \"cltname_x\", \"sql_condition\": \"\\\"cltname_x_l\\\" = \\\"cltname_x_r\\\"\", \"label_for_charts\": \"Exact match\", \"m_probability\": 0.871498588893588, \"u_probability\": 9.144483838615763e-05, \"m_probability_description\": \"Amongst matching record comparisons, 87.15% of records are in the exact match comparison level\", \"u_probability_description\": \"Amongst non-matching record comparisons, 0.01% of records are in the exact match comparison level\", \"has_tf_adjustments\": false, \"tf_adjustment_column\": null, \"tf_adjustment_weight\": 1.0, \"is_null_level\": false, \"bayes_factor\": 9530.320182899577, \"log2_bayes_factor\": 13.218308968736634, \"comparison_vector_value\": 2, \"max_comparison_vector_value\": 2, \"bayes_factor_description\": \"If comparison level is `exact match` then comparison is 9,530.32 times more likely to be a match\", \"probability_two_random_records_match\": 0.004, \"comparison_sort_order\": 0}, {\"comparison_name\": \"cltname_x\", \"sql_condition\": \"levenshtein(\\\"cltname_x_l\\\", \\\"cltname_x_r\\\") <= 4\", \"label_for_charts\": \"Levenshtein <= 4\", \"m_probability\": 0.03271023985725835, \"u_probability\": 5.56620755394003e-05, \"m_probability_description\": \"Amongst matching record comparisons, 3.27% of records are in the levenshtein <= 4 comparison level\", \"u_probability_description\": \"Amongst non-matching record comparisons, 0.01% of records are in the levenshtein <= 4 comparison level\", \"has_tf_adjustments\": false, \"tf_adjustment_column\": null, \"tf_adjustment_weight\": 1.0, \"is_null_level\": false, \"bayes_factor\": 587.6575664898529, \"log2_bayes_factor\": 9.198831917904279, \"comparison_vector_value\": 1, \"max_comparison_vector_value\": 2, \"bayes_factor_description\": \"If comparison level is `levenshtein <= 4` then comparison is 587.66 times more likely to be a match\", \"probability_two_random_records_match\": 0.004, \"comparison_sort_order\": 0}, {\"comparison_name\": \"cltname_x\", \"sql_condition\": \"ELSE\", \"label_for_charts\": \"All other comparisons\", \"m_probability\": 0.09579117124915369, \"u_probability\": 0.9998528930860744, \"m_probability_description\": \"Amongst matching record comparisons, 9.58% of records are in the all other comparisons comparison level\", \"u_probability_description\": \"Amongst non-matching record comparisons, 99.99% of records are in the all other comparisons comparison level\", \"has_tf_adjustments\": false, \"tf_adjustment_column\": null, \"tf_adjustment_weight\": 1.0, \"is_null_level\": false, \"bayes_factor\": 0.09580526486600596, \"log2_bayes_factor\": -3.383751250020259, \"comparison_vector_value\": 0, \"max_comparison_vector_value\": 2, \"bayes_factor_description\": \"If comparison level is `all other comparisons` then comparison is  10.44 times less likely to be a match\", \"probability_two_random_records_match\": 0.004, \"comparison_sort_order\": 0}, {\"comparison_name\": \"ClientPinNumber\", \"sql_condition\": \"\\\"ClientPinNumber_l\\\" = \\\"ClientPinNumber_r\\\"\", \"label_for_charts\": \"Exact match\", \"m_probability\": 0.7281916649771002, \"u_probability\": 0.009842575829393541, \"m_probability_description\": \"Amongst matching record comparisons, 72.82% of records are in the exact match comparison level\", \"u_probability_description\": \"Amongst non-matching record comparisons, 0.98% of records are in the exact match comparison level\", \"has_tf_adjustments\": false, \"tf_adjustment_column\": null, \"tf_adjustment_weight\": 1.0, \"is_null_level\": false, \"bayes_factor\": 73.98385113807839, \"log2_bayes_factor\": 6.209138495014034, \"comparison_vector_value\": 1, \"max_comparison_vector_value\": 1, \"bayes_factor_description\": \"If comparison level is `exact match` then comparison is 73.98 times more likely to be a match\", \"probability_two_random_records_match\": 0.004, \"comparison_sort_order\": 1}, {\"comparison_name\": \"ClientPinNumber\", \"sql_condition\": \"ELSE\", \"label_for_charts\": \"All other comparisons\", \"m_probability\": 0.27180833502289975, \"u_probability\": 0.9901574241706065, \"m_probability_description\": \"Amongst matching record comparisons, 27.18% of records are in the all other comparisons comparison level\", \"u_probability_description\": \"Amongst non-matching record comparisons, 99.02% of records are in the all other comparisons comparison level\", \"has_tf_adjustments\": false, \"tf_adjustment_column\": null, \"tf_adjustment_weight\": 1.0, \"is_null_level\": false, \"bayes_factor\": 0.27451022270582554, \"log2_bayes_factor\": -1.8650682189815344, \"comparison_vector_value\": 0, \"max_comparison_vector_value\": 1, \"bayes_factor_description\": \"If comparison level is `all other comparisons` then comparison is  3.64 times less likely to be a match\", \"probability_two_random_records_match\": 0.004, \"comparison_sort_order\": 1}, {\"comparison_name\": \"PolPcId\", \"sql_condition\": \"\\\"PolPcId_l\\\" = \\\"PolPcId_r\\\"\", \"label_for_charts\": \"Exact match\", \"m_probability\": 0.05040923183281556, \"u_probability\": 8.945690711689335e-06, \"m_probability_description\": \"Amongst matching record comparisons, 5.04% of records are in the exact match comparison level\", \"u_probability_description\": \"Amongst non-matching record comparisons, 0.00% of records are in the exact match comparison level\", \"has_tf_adjustments\": false, \"tf_adjustment_column\": null, \"tf_adjustment_weight\": 1.0, \"is_null_level\": false, \"bayes_factor\": 5635.0295865858425, \"log2_bayes_factor\": 12.460207469914707, \"comparison_vector_value\": 1, \"max_comparison_vector_value\": 1, \"bayes_factor_description\": \"If comparison level is `exact match` then comparison is 5,635.03 times more likely to be a match\", \"probability_two_random_records_match\": 0.004, \"comparison_sort_order\": 2}, {\"comparison_name\": \"PolPcId\", \"sql_condition\": \"ELSE\", \"label_for_charts\": \"All other comparisons\", \"m_probability\": 0.9495907681671845, \"u_probability\": 0.9999910543092884, \"m_probability_description\": \"Amongst matching record comparisons, 94.96% of records are in the all other comparisons comparison level\", \"u_probability_description\": \"Amongst non-matching record comparisons, 100.00% of records are in the all other comparisons comparison level\", \"has_tf_adjustments\": false, \"tf_adjustment_column\": null, \"tf_adjustment_weight\": 1.0, \"is_null_level\": false, \"bayes_factor\": 0.9495992629884912, \"log2_bayes_factor\": -0.07460927962454089, \"comparison_vector_value\": 0, \"max_comparison_vector_value\": 1, \"bayes_factor_description\": \"If comparison level is `all other comparisons` then comparison is  1.05 times less likely to be a match\", \"probability_two_random_records_match\": 0.004, \"comparison_sort_order\": 2}, {\"comparison_name\": \"OriginalAttachmentDate\", \"sql_condition\": \"\\\"OriginalAttachmentDate_l\\\" = \\\"OriginalAttachmentDate_r\\\"\", \"label_for_charts\": \"Exact match\", \"m_probability\": 0.12871004028449082, \"u_probability\": 0.0017113069206971176, \"m_probability_description\": \"Amongst matching record comparisons, 12.87% of records are in the exact match comparison level\", \"u_probability_description\": \"Amongst non-matching record comparisons, 0.17% of records are in the exact match comparison level\", \"has_tf_adjustments\": true, \"tf_adjustment_column\": \"OriginalAttachmentDate\", \"tf_adjustment_weight\": 1.0, \"is_null_level\": false, \"bayes_factor\": 75.21154664182596, \"log2_bayes_factor\": 6.2328822595047395, \"comparison_vector_value\": 1, \"max_comparison_vector_value\": 1, \"bayes_factor_description\": \"If comparison level is `exact match` then comparison is 75.21 times more likely to be a match\", \"probability_two_random_records_match\": 0.004, \"comparison_sort_order\": 3}, {\"comparison_name\": \"OriginalAttachmentDate\", \"sql_condition\": \"ELSE\", \"label_for_charts\": \"All other comparisons\", \"m_probability\": 0.8712899597155092, \"u_probability\": 0.9982886930793029, \"m_probability_description\": \"Amongst matching record comparisons, 87.13% of records are in the all other comparisons comparison level\", \"u_probability_description\": \"Amongst non-matching record comparisons, 99.83% of records are in the all other comparisons comparison level\", \"has_tf_adjustments\": false, \"tf_adjustment_column\": null, \"tf_adjustment_weight\": 1.0, \"is_null_level\": false, \"bayes_factor\": 0.872783560262457, \"log2_bayes_factor\": -0.19630416755122823, \"comparison_vector_value\": 0, \"max_comparison_vector_value\": 1, \"bayes_factor_description\": \"If comparison level is `all other comparisons` then comparison is  1.15 times less likely to be a match\", \"probability_two_random_records_match\": 0.004, \"comparison_sort_order\": 3}, {\"comparison_name\": \"BranchName_x\", \"sql_condition\": \"\\\"BranchName_x_l\\\" = \\\"BranchName_x_r\\\"\", \"label_for_charts\": \"Exact match\", \"m_probability\": 0.999184707867574, \"u_probability\": 0.3339515799580745, \"m_probability_description\": \"Amongst matching record comparisons, 99.92% of records are in the exact match comparison level\", \"u_probability_description\": \"Amongst non-matching record comparisons, 33.40% of records are in the exact match comparison level\", \"has_tf_adjustments\": true, \"tf_adjustment_column\": \"BranchName_x\", \"tf_adjustment_weight\": 1.0, \"is_null_level\": false, \"bayes_factor\": 2.992004733120338, \"log2_bayes_factor\": 1.5811124574594528, \"comparison_vector_value\": 1, \"max_comparison_vector_value\": 1, \"bayes_factor_description\": \"If comparison level is `exact match` then comparison is 2.99 times more likely to be a match\", \"probability_two_random_records_match\": 0.004, \"comparison_sort_order\": 4}, {\"comparison_name\": \"BranchName_x\", \"sql_condition\": \"ELSE\", \"label_for_charts\": \"All other comparisons\", \"m_probability\": 0.0008152921324260549, \"u_probability\": 0.6660484200419254, \"m_probability_description\": \"Amongst matching record comparisons, 0.08% of records are in the all other comparisons comparison level\", \"u_probability_description\": \"Amongst non-matching record comparisons, 66.60% of records are in the all other comparisons comparison level\", \"has_tf_adjustments\": false, \"tf_adjustment_column\": null, \"tf_adjustment_weight\": 1.0, \"is_null_level\": false, \"bayes_factor\": 0.0012240733674809036, \"log2_bayes_factor\": -9.67409425299695, \"comparison_vector_value\": 0, \"max_comparison_vector_value\": 1, \"bayes_factor_description\": \"If comparison level is `all other comparisons` then comparison is  816.94 times less likely to be a match\", \"probability_two_random_records_match\": 0.004, \"comparison_sort_order\": 4}]}}, {\"mode\": \"vega-lite\"});\n",
              "</script>"
            ],
            "text/plain": [
              "alt.VConcatChart(...)"
            ]
          },
          "metadata": {},
          "execution_count": 30
        }
      ],
      "source": [
        "linker.match_weights_chart()"
      ]
    },
    {
      "cell_type": "code",
      "execution_count": 31,
      "metadata": {
        "colab": {
          "base_uri": "https://localhost:8080/",
          "height": 400
        },
        "id": "jHkJtnlcKnOZ",
        "outputId": "dc2bac44-8799-4f2d-ac1a-fb031857bea9"
      },
      "outputs": [
        {
          "output_type": "stream",
          "name": "stderr",
          "text": [
            "/usr/local/lib/python3.10/dist-packages/ipykernel/ipkernel.py:283: DeprecationWarning: `should_run_async` will not call `transform_cell` automatically in the future. Please pass the result to `transformed_cell` argument and any exception that happen during thetransform in `preprocessing_exc_tuple` in IPython 7.17 and above.\n",
            "  and should_run_async(code)\n"
          ]
        },
        {
          "output_type": "execute_result",
          "data": {
            "text/html": [
              "\n",
              "<style>\n",
              "  #altair-viz-51b5be7b06344c14b2b5f7dc3a7e044c.vega-embed {\n",
              "    width: 100%;\n",
              "    display: flex;\n",
              "  }\n",
              "\n",
              "  #altair-viz-51b5be7b06344c14b2b5f7dc3a7e044c.vega-embed details,\n",
              "  #altair-viz-51b5be7b06344c14b2b5f7dc3a7e044c.vega-embed details summary {\n",
              "    position: relative;\n",
              "  }\n",
              "</style>\n",
              "<div id=\"altair-viz-51b5be7b06344c14b2b5f7dc3a7e044c\"></div>\n",
              "<script type=\"text/javascript\">\n",
              "  var VEGA_DEBUG = (typeof VEGA_DEBUG == \"undefined\") ? {} : VEGA_DEBUG;\n",
              "  (function(spec, embedOpt){\n",
              "    let outputDiv = document.currentScript.previousElementSibling;\n",
              "    if (outputDiv.id !== \"altair-viz-51b5be7b06344c14b2b5f7dc3a7e044c\") {\n",
              "      outputDiv = document.getElementById(\"altair-viz-51b5be7b06344c14b2b5f7dc3a7e044c\");\n",
              "    }\n",
              "    const paths = {\n",
              "      \"vega\": \"https://cdn.jsdelivr.net/npm/vega@5?noext\",\n",
              "      \"vega-lib\": \"https://cdn.jsdelivr.net/npm/vega-lib?noext\",\n",
              "      \"vega-lite\": \"https://cdn.jsdelivr.net/npm/vega-lite@5.8.0?noext\",\n",
              "      \"vega-embed\": \"https://cdn.jsdelivr.net/npm/vega-embed@6?noext\",\n",
              "    };\n",
              "\n",
              "    function maybeLoadScript(lib, version) {\n",
              "      var key = `${lib.replace(\"-\", \"\")}_version`;\n",
              "      return (VEGA_DEBUG[key] == version) ?\n",
              "        Promise.resolve(paths[lib]) :\n",
              "        new Promise(function(resolve, reject) {\n",
              "          var s = document.createElement('script');\n",
              "          document.getElementsByTagName(\"head\")[0].appendChild(s);\n",
              "          s.async = true;\n",
              "          s.onload = () => {\n",
              "            VEGA_DEBUG[key] = version;\n",
              "            return resolve(paths[lib]);\n",
              "          };\n",
              "          s.onerror = () => reject(`Error loading script: ${paths[lib]}`);\n",
              "          s.src = paths[lib];\n",
              "        });\n",
              "    }\n",
              "\n",
              "    function showError(err) {\n",
              "      outputDiv.innerHTML = `<div class=\"error\" style=\"color:red;\">${err}</div>`;\n",
              "      throw err;\n",
              "    }\n",
              "\n",
              "    function displayChart(vegaEmbed) {\n",
              "      vegaEmbed(outputDiv, spec, embedOpt)\n",
              "        .catch(err => showError(`Javascript Error: ${err.message}<br>This usually means there's a typo in your chart specification. See the javascript console for the full traceback.`));\n",
              "    }\n",
              "\n",
              "    if(typeof define === \"function\" && define.amd) {\n",
              "      requirejs.config({paths});\n",
              "      require([\"vega-embed\"], displayChart, err => showError(`Error loading script: ${err.message}`));\n",
              "    } else {\n",
              "      maybeLoadScript(\"vega\", \"5\")\n",
              "        .then(() => maybeLoadScript(\"vega-lite\", \"5.8.0\"))\n",
              "        .then(() => maybeLoadScript(\"vega-embed\", \"6\"))\n",
              "        .catch(showError)\n",
              "        .then(() => displayChart(vegaEmbed));\n",
              "    }\n",
              "  })({\"config\": {\"view\": {\"continuousWidth\": 300, \"continuousHeight\": 300, \"discreteHeight\": 300, \"discreteWidth\": 400}, \"header\": {\"title\": null}, \"title\": {\"anchor\": \"middle\", \"offset\": 10}}, \"hconcat\": [{\"mark\": \"bar\", \"encoding\": {\"color\": {\"value\": \"green\"}, \"row\": {\"field\": \"comparison_name\", \"header\": {\"labelAlign\": \"left\", \"labelAnchor\": \"middle\", \"labelAngle\": 0}, \"sort\": {\"field\": \"comparison_sort_order\"}, \"type\": \"nominal\"}, \"tooltip\": [{\"field\": \"m_probability_description\", \"title\": \"m probability description\", \"type\": \"nominal\"}, {\"field\": \"comparison_name\", \"title\": \"Comparison column name\", \"type\": \"nominal\"}, {\"field\": \"label_for_charts\", \"title\": \"Label\", \"type\": \"ordinal\"}, {\"field\": \"sql_condition\", \"title\": \"SQL condition\", \"type\": \"nominal\"}, {\"field\": \"m_probability\", \"format\": \".4p\", \"title\": \"m probability\", \"type\": \"quantitative\"}, {\"field\": \"u_probability\", \"format\": \".4p\", \"title\": \"u probability\", \"type\": \"quantitative\"}, {\"field\": \"bayes_factor\", \"format\": \",.4f\", \"title\": \"Bayes factor = m/u\", \"type\": \"quantitative\"}, {\"field\": \"log2_bayes_factor\", \"format\": \",.4f\", \"title\": \"Match weight = log2(m/u)\", \"type\": \"quantitative\"}], \"x\": {\"axis\": {\"title\": \"Proportion of record comparisons\"}, \"field\": \"m_probability\", \"type\": \"quantitative\"}, \"y\": {\"axis\": {\"title\": null}, \"field\": \"label_for_charts\", \"sort\": {\"field\": \"comparison_vector_value\", \"order\": \"descending\"}, \"type\": \"nominal\"}}, \"height\": {\"step\": 12}, \"resolve\": {\"scale\": {\"y\": \"independent\"}}, \"title\": {\"text\": \"Amongst matching record comparisons:\", \"fontSize\": 12, \"fontWeight\": \"bold\"}, \"transform\": [{\"filter\": \"(datum.bayes_factor != 'no-op filter due to vega lite issue 4680')\"}], \"width\": 150}, {\"mark\": \"bar\", \"encoding\": {\"color\": {\"value\": \"red\"}, \"row\": {\"field\": \"comparison_name\", \"header\": {\"labels\": false}, \"sort\": {\"field\": \"comparison_sort_order\"}, \"type\": \"nominal\"}, \"tooltip\": [{\"field\": \"u_probability_description\", \"title\": \"u probability description\", \"type\": \"nominal\"}, {\"field\": \"comparison_name\", \"title\": \"Comparison column name\", \"type\": \"nominal\"}, {\"field\": \"label_for_charts\", \"title\": \"Label\", \"type\": \"ordinal\"}, {\"field\": \"sql_condition\", \"title\": \"SQL condition\", \"type\": \"nominal\"}, {\"field\": \"m_probability\", \"format\": \".4p\", \"title\": \"m probability\", \"type\": \"quantitative\"}, {\"field\": \"u_probability\", \"format\": \".4p\", \"title\": \"u probability\", \"type\": \"quantitative\"}, {\"field\": \"bayes_factor\", \"format\": \",.4f\", \"title\": \"Bayes factor = m/u\", \"type\": \"quantitative\"}, {\"field\": \"log2_bayes_factor\", \"format\": \",.4f\", \"title\": \"Match weight = log2(m/u)\", \"type\": \"quantitative\"}], \"x\": {\"axis\": {\"title\": \"Proportion of record comparisons\"}, \"field\": \"u_probability\", \"type\": \"quantitative\"}, \"y\": {\"axis\": {\"title\": null}, \"field\": \"label_for_charts\", \"sort\": {\"field\": \"comparison_vector_value\", \"order\": \"descending\"}, \"type\": \"nominal\"}}, \"height\": {\"step\": 12}, \"resolve\": {\"scale\": {\"y\": \"independent\"}}, \"title\": {\"text\": \"Amongst non-matching record comparisons:\", \"fontSize\": 12, \"fontWeight\": \"bold\"}, \"transform\": [{\"filter\": \"(datum.bayes_factor != 'no-op filter2 due to vega lite issue 4680')\"}], \"width\": 150}], \"data\": {\"name\": \"data-9c25c8c5fc5b1e8db6a698c7c1307f29\"}, \"title\": {\"text\": \"Proportion of record comparisons in each comparison level by match status\", \"subtitle\": \"(m and u probabilities)\"}, \"$schema\": \"https://vega.github.io/schema/vega-lite/v5.9.3.json\", \"datasets\": {\"data-9c25c8c5fc5b1e8db6a698c7c1307f29\": [{\"comparison_name\": \"cltname_x\", \"sql_condition\": \"\\\"cltname_x_l\\\" = \\\"cltname_x_r\\\"\", \"label_for_charts\": \"Exact match\", \"m_probability\": 0.871498588893588, \"u_probability\": 9.144483838615763e-05, \"m_probability_description\": \"Amongst matching record comparisons, 87.15% of records are in the exact match comparison level\", \"u_probability_description\": \"Amongst non-matching record comparisons, 0.01% of records are in the exact match comparison level\", \"has_tf_adjustments\": false, \"tf_adjustment_column\": null, \"tf_adjustment_weight\": 1.0, \"is_null_level\": false, \"bayes_factor\": 9530.320182899577, \"log2_bayes_factor\": 13.218308968736634, \"comparison_vector_value\": 2, \"max_comparison_vector_value\": 2, \"bayes_factor_description\": \"If comparison level is `exact match` then comparison is 9,530.32 times more likely to be a match\", \"probability_two_random_records_match\": 0.004, \"comparison_sort_order\": 0}, {\"comparison_name\": \"cltname_x\", \"sql_condition\": \"levenshtein(\\\"cltname_x_l\\\", \\\"cltname_x_r\\\") <= 4\", \"label_for_charts\": \"Levenshtein <= 4\", \"m_probability\": 0.03271023985725835, \"u_probability\": 5.56620755394003e-05, \"m_probability_description\": \"Amongst matching record comparisons, 3.27% of records are in the levenshtein <= 4 comparison level\", \"u_probability_description\": \"Amongst non-matching record comparisons, 0.01% of records are in the levenshtein <= 4 comparison level\", \"has_tf_adjustments\": false, \"tf_adjustment_column\": null, \"tf_adjustment_weight\": 1.0, \"is_null_level\": false, \"bayes_factor\": 587.6575664898529, \"log2_bayes_factor\": 9.198831917904279, \"comparison_vector_value\": 1, \"max_comparison_vector_value\": 2, \"bayes_factor_description\": \"If comparison level is `levenshtein <= 4` then comparison is 587.66 times more likely to be a match\", \"probability_two_random_records_match\": 0.004, \"comparison_sort_order\": 0}, {\"comparison_name\": \"cltname_x\", \"sql_condition\": \"ELSE\", \"label_for_charts\": \"All other comparisons\", \"m_probability\": 0.09579117124915369, \"u_probability\": 0.9998528930860744, \"m_probability_description\": \"Amongst matching record comparisons, 9.58% of records are in the all other comparisons comparison level\", \"u_probability_description\": \"Amongst non-matching record comparisons, 99.99% of records are in the all other comparisons comparison level\", \"has_tf_adjustments\": false, \"tf_adjustment_column\": null, \"tf_adjustment_weight\": 1.0, \"is_null_level\": false, \"bayes_factor\": 0.09580526486600596, \"log2_bayes_factor\": -3.383751250020259, \"comparison_vector_value\": 0, \"max_comparison_vector_value\": 2, \"bayes_factor_description\": \"If comparison level is `all other comparisons` then comparison is  10.44 times less likely to be a match\", \"probability_two_random_records_match\": 0.004, \"comparison_sort_order\": 0}, {\"comparison_name\": \"ClientPinNumber\", \"sql_condition\": \"\\\"ClientPinNumber_l\\\" = \\\"ClientPinNumber_r\\\"\", \"label_for_charts\": \"Exact match\", \"m_probability\": 0.7281916649771002, \"u_probability\": 0.009842575829393541, \"m_probability_description\": \"Amongst matching record comparisons, 72.82% of records are in the exact match comparison level\", \"u_probability_description\": \"Amongst non-matching record comparisons, 0.98% of records are in the exact match comparison level\", \"has_tf_adjustments\": false, \"tf_adjustment_column\": null, \"tf_adjustment_weight\": 1.0, \"is_null_level\": false, \"bayes_factor\": 73.98385113807839, \"log2_bayes_factor\": 6.209138495014034, \"comparison_vector_value\": 1, \"max_comparison_vector_value\": 1, \"bayes_factor_description\": \"If comparison level is `exact match` then comparison is 73.98 times more likely to be a match\", \"probability_two_random_records_match\": 0.004, \"comparison_sort_order\": 1}, {\"comparison_name\": \"ClientPinNumber\", \"sql_condition\": \"ELSE\", \"label_for_charts\": \"All other comparisons\", \"m_probability\": 0.27180833502289975, \"u_probability\": 0.9901574241706065, \"m_probability_description\": \"Amongst matching record comparisons, 27.18% of records are in the all other comparisons comparison level\", \"u_probability_description\": \"Amongst non-matching record comparisons, 99.02% of records are in the all other comparisons comparison level\", \"has_tf_adjustments\": false, \"tf_adjustment_column\": null, \"tf_adjustment_weight\": 1.0, \"is_null_level\": false, \"bayes_factor\": 0.27451022270582554, \"log2_bayes_factor\": -1.8650682189815344, \"comparison_vector_value\": 0, \"max_comparison_vector_value\": 1, \"bayes_factor_description\": \"If comparison level is `all other comparisons` then comparison is  3.64 times less likely to be a match\", \"probability_two_random_records_match\": 0.004, \"comparison_sort_order\": 1}, {\"comparison_name\": \"PolPcId\", \"sql_condition\": \"\\\"PolPcId_l\\\" = \\\"PolPcId_r\\\"\", \"label_for_charts\": \"Exact match\", \"m_probability\": 0.05040923183281556, \"u_probability\": 8.945690711689335e-06, \"m_probability_description\": \"Amongst matching record comparisons, 5.04% of records are in the exact match comparison level\", \"u_probability_description\": \"Amongst non-matching record comparisons, 0.00% of records are in the exact match comparison level\", \"has_tf_adjustments\": false, \"tf_adjustment_column\": null, \"tf_adjustment_weight\": 1.0, \"is_null_level\": false, \"bayes_factor\": 5635.0295865858425, \"log2_bayes_factor\": 12.460207469914707, \"comparison_vector_value\": 1, \"max_comparison_vector_value\": 1, \"bayes_factor_description\": \"If comparison level is `exact match` then comparison is 5,635.03 times more likely to be a match\", \"probability_two_random_records_match\": 0.004, \"comparison_sort_order\": 2}, {\"comparison_name\": \"PolPcId\", \"sql_condition\": \"ELSE\", \"label_for_charts\": \"All other comparisons\", \"m_probability\": 0.9495907681671845, \"u_probability\": 0.9999910543092884, \"m_probability_description\": \"Amongst matching record comparisons, 94.96% of records are in the all other comparisons comparison level\", \"u_probability_description\": \"Amongst non-matching record comparisons, 100.00% of records are in the all other comparisons comparison level\", \"has_tf_adjustments\": false, \"tf_adjustment_column\": null, \"tf_adjustment_weight\": 1.0, \"is_null_level\": false, \"bayes_factor\": 0.9495992629884912, \"log2_bayes_factor\": -0.07460927962454089, \"comparison_vector_value\": 0, \"max_comparison_vector_value\": 1, \"bayes_factor_description\": \"If comparison level is `all other comparisons` then comparison is  1.05 times less likely to be a match\", \"probability_two_random_records_match\": 0.004, \"comparison_sort_order\": 2}, {\"comparison_name\": \"OriginalAttachmentDate\", \"sql_condition\": \"\\\"OriginalAttachmentDate_l\\\" = \\\"OriginalAttachmentDate_r\\\"\", \"label_for_charts\": \"Exact match\", \"m_probability\": 0.12871004028449082, \"u_probability\": 0.0017113069206971176, \"m_probability_description\": \"Amongst matching record comparisons, 12.87% of records are in the exact match comparison level\", \"u_probability_description\": \"Amongst non-matching record comparisons, 0.17% of records are in the exact match comparison level\", \"has_tf_adjustments\": true, \"tf_adjustment_column\": \"OriginalAttachmentDate\", \"tf_adjustment_weight\": 1.0, \"is_null_level\": false, \"bayes_factor\": 75.21154664182596, \"log2_bayes_factor\": 6.2328822595047395, \"comparison_vector_value\": 1, \"max_comparison_vector_value\": 1, \"bayes_factor_description\": \"If comparison level is `exact match` then comparison is 75.21 times more likely to be a match\", \"probability_two_random_records_match\": 0.004, \"comparison_sort_order\": 3}, {\"comparison_name\": \"OriginalAttachmentDate\", \"sql_condition\": \"ELSE\", \"label_for_charts\": \"All other comparisons\", \"m_probability\": 0.8712899597155092, \"u_probability\": 0.9982886930793029, \"m_probability_description\": \"Amongst matching record comparisons, 87.13% of records are in the all other comparisons comparison level\", \"u_probability_description\": \"Amongst non-matching record comparisons, 99.83% of records are in the all other comparisons comparison level\", \"has_tf_adjustments\": false, \"tf_adjustment_column\": null, \"tf_adjustment_weight\": 1.0, \"is_null_level\": false, \"bayes_factor\": 0.872783560262457, \"log2_bayes_factor\": -0.19630416755122823, \"comparison_vector_value\": 0, \"max_comparison_vector_value\": 1, \"bayes_factor_description\": \"If comparison level is `all other comparisons` then comparison is  1.15 times less likely to be a match\", \"probability_two_random_records_match\": 0.004, \"comparison_sort_order\": 3}, {\"comparison_name\": \"BranchName_x\", \"sql_condition\": \"\\\"BranchName_x_l\\\" = \\\"BranchName_x_r\\\"\", \"label_for_charts\": \"Exact match\", \"m_probability\": 0.999184707867574, \"u_probability\": 0.3339515799580745, \"m_probability_description\": \"Amongst matching record comparisons, 99.92% of records are in the exact match comparison level\", \"u_probability_description\": \"Amongst non-matching record comparisons, 33.40% of records are in the exact match comparison level\", \"has_tf_adjustments\": true, \"tf_adjustment_column\": \"BranchName_x\", \"tf_adjustment_weight\": 1.0, \"is_null_level\": false, \"bayes_factor\": 2.992004733120338, \"log2_bayes_factor\": 1.5811124574594528, \"comparison_vector_value\": 1, \"max_comparison_vector_value\": 1, \"bayes_factor_description\": \"If comparison level is `exact match` then comparison is 2.99 times more likely to be a match\", \"probability_two_random_records_match\": 0.004, \"comparison_sort_order\": 4}, {\"comparison_name\": \"BranchName_x\", \"sql_condition\": \"ELSE\", \"label_for_charts\": \"All other comparisons\", \"m_probability\": 0.0008152921324260549, \"u_probability\": 0.6660484200419254, \"m_probability_description\": \"Amongst matching record comparisons, 0.08% of records are in the all other comparisons comparison level\", \"u_probability_description\": \"Amongst non-matching record comparisons, 66.60% of records are in the all other comparisons comparison level\", \"has_tf_adjustments\": false, \"tf_adjustment_column\": null, \"tf_adjustment_weight\": 1.0, \"is_null_level\": false, \"bayes_factor\": 0.0012240733674809036, \"log2_bayes_factor\": -9.67409425299695, \"comparison_vector_value\": 0, \"max_comparison_vector_value\": 1, \"bayes_factor_description\": \"If comparison level is `all other comparisons` then comparison is  816.94 times less likely to be a match\", \"probability_two_random_records_match\": 0.004, \"comparison_sort_order\": 4}]}}, {\"mode\": \"vega-lite\"});\n",
              "</script>"
            ],
            "text/plain": [
              "alt.HConcatChart(...)"
            ]
          },
          "metadata": {},
          "execution_count": 31
        }
      ],
      "source": [
        "linker.m_u_parameters_chart()"
      ]
    },
    {
      "cell_type": "markdown",
      "metadata": {
        "id": "B_BSw3LRK9a1"
      },
      "source": [
        "## Predicting which records match"
      ]
    },
    {
      "cell_type": "code",
      "execution_count": 32,
      "metadata": {
        "colab": {
          "base_uri": "https://localhost:8080/"
        },
        "id": "IOruxFMA0qHf",
        "outputId": "1f531777-bb42-4a08-baa5-0c59e454823e"
      },
      "outputs": [
        {
          "output_type": "stream",
          "name": "stderr",
          "text": [
            "/usr/local/lib/python3.10/dist-packages/ipykernel/ipkernel.py:283: DeprecationWarning: `should_run_async` will not call `transform_cell` automatically in the future. Please pass the result to `transformed_cell` argument and any exception that happen during thetransform in `preprocessing_exc_tuple` in IPython 7.17 and above.\n",
            "  and should_run_async(code)\n",
            "<ipython-input-32-2357a84ca35a>:3: DeprecationWarning: `load_settings_from_json` is deprecated. We advise you use `linker.load_settings()` when loading in your settings or a previously trained model.\n",
            "  linker.load_settings_from_json(\"saved_prediction_model.json\")\n"
          ]
        }
      ],
      "source": [
        "## Load estimated model from previous sectiom\n",
        "linker = DuckDBLinker(df)\n",
        "linker.load_settings_from_json(\"saved_prediction_model.json\")"
      ]
    },
    {
      "cell_type": "code",
      "execution_count": 33,
      "metadata": {
        "colab": {
          "base_uri": "https://localhost:8080/",
          "referenced_widgets": [
            "7cfc1a4708934d33a1ce4b8661dbdba3",
            "aa3ca3602b2a4e76bc25dd3e9f45166d",
            "d41bdbdd89fd43fc83a962431aa55de5"
          ],
          "height": 522
        },
        "id": "qxomkP4z0zBB",
        "outputId": "1b777ac7-df17-40bd-8175-c0362115ff4c"
      },
      "outputs": [
        {
          "output_type": "stream",
          "name": "stderr",
          "text": [
            "/usr/local/lib/python3.10/dist-packages/ipykernel/ipkernel.py:283: DeprecationWarning: `should_run_async` will not call `transform_cell` automatically in the future. Please pass the result to `transformed_cell` argument and any exception that happen during thetransform in `preprocessing_exc_tuple` in IPython 7.17 and above.\n",
            "  and should_run_async(code)\n"
          ]
        },
        {
          "output_type": "display_data",
          "data": {
            "text/plain": [
              "FloatProgress(value=0.0, layout=Layout(width='auto'), style=ProgressStyle(bar_color='black'))"
            ],
            "application/vnd.jupyter.widget-view+json": {
              "version_major": 2,
              "version_minor": 0,
              "model_id": "7cfc1a4708934d33a1ce4b8661dbdba3"
            }
          },
          "metadata": {}
        },
        {
          "output_type": "execute_result",
          "data": {
            "text/plain": [
              "   match_weight  match_probability  unique_id_l  unique_id_r  \\\n",
              "0      3.960246           0.939632       102410       179310   \n",
              "1      3.960246           0.939632       102413       178055   \n",
              "2     19.746485           0.999999       102414       124025   \n",
              "3      3.960246           0.939632       102417       178089   \n",
              "4     12.034453           0.999762       102422       142110   \n",
              "\n",
              "                  cltname_x_l                 cltname_x_r  gamma_cltname_x  \\\n",
              "0      beatrice mwara wanjiru      beatrice mwara wanjiru                2   \n",
              "1  catherine kathina syonguvi  catherine kathina syonguvi                2   \n",
              "2     daniel muchiri  gichuki     daniel muchiri  gichuki                2   \n",
              "3       irene kawira kithinji       irene kawira kithinji                2   \n",
              "4    margaret muthoni shikuku    margaret muthoni shikuku                2   \n",
              "\n",
              "   bf_cltname_x ClientPinNumber_l ClientPinNumber_r  ...  BranchName_x_l  \\\n",
              "0   9530.320183                 0       P051160233G  ...         nairobi   \n",
              "1   9530.320183                 0       P051160233G  ...         nairobi   \n",
              "2   9530.320183                 0       P000609362E  ...         nairobi   \n",
              "3   9530.320183                 0       P051160233G  ...         nairobi   \n",
              "4   9530.320183                 0                 0  ...         nairobi   \n",
              "\n",
              "   BranchName_x_r  gamma_BranchName_x  tf_BranchName_x_l  tf_BranchName_x_r  \\\n",
              "0         nairobi                   1           0.558993           0.558993   \n",
              "1         nairobi                   1           0.558993           0.558993   \n",
              "2         nairobi                   1           0.558993           0.558993   \n",
              "3         nairobi                   1           0.558993           0.558993   \n",
              "4         nairobi                   1           0.558993           0.558993   \n",
              "\n",
              "   bf_BranchName_x bf_tf_adj_BranchName_x Department_l  Department_r  \\\n",
              "0         2.992005               0.597416      medical       medical   \n",
              "1         2.992005               0.597416      medical       medical   \n",
              "2         2.992005               0.597416      medical       medical   \n",
              "3         2.992005               0.597416      medical       medical   \n",
              "4         2.992005               0.597416      medical       medical   \n",
              "\n",
              "   match_key  \n",
              "0          0  \n",
              "1          0  \n",
              "2          0  \n",
              "3          0  \n",
              "4          0  \n",
              "\n",
              "[5 rows x 33 columns]"
            ],
            "text/html": [
              "\n",
              "  <div id=\"df-19f7ebf2-423e-4235-bce3-36ae76eec260\">\n",
              "    <div class=\"colab-df-container\">\n",
              "      <div>\n",
              "<style scoped>\n",
              "    .dataframe tbody tr th:only-of-type {\n",
              "        vertical-align: middle;\n",
              "    }\n",
              "\n",
              "    .dataframe tbody tr th {\n",
              "        vertical-align: top;\n",
              "    }\n",
              "\n",
              "    .dataframe thead th {\n",
              "        text-align: right;\n",
              "    }\n",
              "</style>\n",
              "<table border=\"1\" class=\"dataframe\">\n",
              "  <thead>\n",
              "    <tr style=\"text-align: right;\">\n",
              "      <th></th>\n",
              "      <th>match_weight</th>\n",
              "      <th>match_probability</th>\n",
              "      <th>unique_id_l</th>\n",
              "      <th>unique_id_r</th>\n",
              "      <th>cltname_x_l</th>\n",
              "      <th>cltname_x_r</th>\n",
              "      <th>gamma_cltname_x</th>\n",
              "      <th>bf_cltname_x</th>\n",
              "      <th>ClientPinNumber_l</th>\n",
              "      <th>ClientPinNumber_r</th>\n",
              "      <th>...</th>\n",
              "      <th>BranchName_x_l</th>\n",
              "      <th>BranchName_x_r</th>\n",
              "      <th>gamma_BranchName_x</th>\n",
              "      <th>tf_BranchName_x_l</th>\n",
              "      <th>tf_BranchName_x_r</th>\n",
              "      <th>bf_BranchName_x</th>\n",
              "      <th>bf_tf_adj_BranchName_x</th>\n",
              "      <th>Department_l</th>\n",
              "      <th>Department_r</th>\n",
              "      <th>match_key</th>\n",
              "    </tr>\n",
              "  </thead>\n",
              "  <tbody>\n",
              "    <tr>\n",
              "      <th>0</th>\n",
              "      <td>3.960246</td>\n",
              "      <td>0.939632</td>\n",
              "      <td>102410</td>\n",
              "      <td>179310</td>\n",
              "      <td>beatrice mwara wanjiru</td>\n",
              "      <td>beatrice mwara wanjiru</td>\n",
              "      <td>2</td>\n",
              "      <td>9530.320183</td>\n",
              "      <td>0</td>\n",
              "      <td>P051160233G</td>\n",
              "      <td>...</td>\n",
              "      <td>nairobi</td>\n",
              "      <td>nairobi</td>\n",
              "      <td>1</td>\n",
              "      <td>0.558993</td>\n",
              "      <td>0.558993</td>\n",
              "      <td>2.992005</td>\n",
              "      <td>0.597416</td>\n",
              "      <td>medical</td>\n",
              "      <td>medical</td>\n",
              "      <td>0</td>\n",
              "    </tr>\n",
              "    <tr>\n",
              "      <th>1</th>\n",
              "      <td>3.960246</td>\n",
              "      <td>0.939632</td>\n",
              "      <td>102413</td>\n",
              "      <td>178055</td>\n",
              "      <td>catherine kathina syonguvi</td>\n",
              "      <td>catherine kathina syonguvi</td>\n",
              "      <td>2</td>\n",
              "      <td>9530.320183</td>\n",
              "      <td>0</td>\n",
              "      <td>P051160233G</td>\n",
              "      <td>...</td>\n",
              "      <td>nairobi</td>\n",
              "      <td>nairobi</td>\n",
              "      <td>1</td>\n",
              "      <td>0.558993</td>\n",
              "      <td>0.558993</td>\n",
              "      <td>2.992005</td>\n",
              "      <td>0.597416</td>\n",
              "      <td>medical</td>\n",
              "      <td>medical</td>\n",
              "      <td>0</td>\n",
              "    </tr>\n",
              "    <tr>\n",
              "      <th>2</th>\n",
              "      <td>19.746485</td>\n",
              "      <td>0.999999</td>\n",
              "      <td>102414</td>\n",
              "      <td>124025</td>\n",
              "      <td>daniel muchiri  gichuki</td>\n",
              "      <td>daniel muchiri  gichuki</td>\n",
              "      <td>2</td>\n",
              "      <td>9530.320183</td>\n",
              "      <td>0</td>\n",
              "      <td>P000609362E</td>\n",
              "      <td>...</td>\n",
              "      <td>nairobi</td>\n",
              "      <td>nairobi</td>\n",
              "      <td>1</td>\n",
              "      <td>0.558993</td>\n",
              "      <td>0.558993</td>\n",
              "      <td>2.992005</td>\n",
              "      <td>0.597416</td>\n",
              "      <td>medical</td>\n",
              "      <td>medical</td>\n",
              "      <td>0</td>\n",
              "    </tr>\n",
              "    <tr>\n",
              "      <th>3</th>\n",
              "      <td>3.960246</td>\n",
              "      <td>0.939632</td>\n",
              "      <td>102417</td>\n",
              "      <td>178089</td>\n",
              "      <td>irene kawira kithinji</td>\n",
              "      <td>irene kawira kithinji</td>\n",
              "      <td>2</td>\n",
              "      <td>9530.320183</td>\n",
              "      <td>0</td>\n",
              "      <td>P051160233G</td>\n",
              "      <td>...</td>\n",
              "      <td>nairobi</td>\n",
              "      <td>nairobi</td>\n",
              "      <td>1</td>\n",
              "      <td>0.558993</td>\n",
              "      <td>0.558993</td>\n",
              "      <td>2.992005</td>\n",
              "      <td>0.597416</td>\n",
              "      <td>medical</td>\n",
              "      <td>medical</td>\n",
              "      <td>0</td>\n",
              "    </tr>\n",
              "    <tr>\n",
              "      <th>4</th>\n",
              "      <td>12.034453</td>\n",
              "      <td>0.999762</td>\n",
              "      <td>102422</td>\n",
              "      <td>142110</td>\n",
              "      <td>margaret muthoni shikuku</td>\n",
              "      <td>margaret muthoni shikuku</td>\n",
              "      <td>2</td>\n",
              "      <td>9530.320183</td>\n",
              "      <td>0</td>\n",
              "      <td>0</td>\n",
              "      <td>...</td>\n",
              "      <td>nairobi</td>\n",
              "      <td>nairobi</td>\n",
              "      <td>1</td>\n",
              "      <td>0.558993</td>\n",
              "      <td>0.558993</td>\n",
              "      <td>2.992005</td>\n",
              "      <td>0.597416</td>\n",
              "      <td>medical</td>\n",
              "      <td>medical</td>\n",
              "      <td>0</td>\n",
              "    </tr>\n",
              "  </tbody>\n",
              "</table>\n",
              "<p>5 rows × 33 columns</p>\n",
              "</div>\n",
              "      <button class=\"colab-df-convert\" onclick=\"convertToInteractive('df-19f7ebf2-423e-4235-bce3-36ae76eec260')\"\n",
              "              title=\"Convert this dataframe to an interactive table.\"\n",
              "              style=\"display:none;\">\n",
              "        \n",
              "  <svg xmlns=\"http://www.w3.org/2000/svg\" height=\"24px\"viewBox=\"0 0 24 24\"\n",
              "       width=\"24px\">\n",
              "    <path d=\"M0 0h24v24H0V0z\" fill=\"none\"/>\n",
              "    <path d=\"M18.56 5.44l.94 2.06.94-2.06 2.06-.94-2.06-.94-.94-2.06-.94 2.06-2.06.94zm-11 1L8.5 8.5l.94-2.06 2.06-.94-2.06-.94L8.5 2.5l-.94 2.06-2.06.94zm10 10l.94 2.06.94-2.06 2.06-.94-2.06-.94-.94-2.06-.94 2.06-2.06.94z\"/><path d=\"M17.41 7.96l-1.37-1.37c-.4-.4-.92-.59-1.43-.59-.52 0-1.04.2-1.43.59L10.3 9.45l-7.72 7.72c-.78.78-.78 2.05 0 2.83L4 21.41c.39.39.9.59 1.41.59.51 0 1.02-.2 1.41-.59l7.78-7.78 2.81-2.81c.8-.78.8-2.07 0-2.86zM5.41 20L4 18.59l7.72-7.72 1.47 1.35L5.41 20z\"/>\n",
              "  </svg>\n",
              "      </button>\n",
              "      \n",
              "  <style>\n",
              "    .colab-df-container {\n",
              "      display:flex;\n",
              "      flex-wrap:wrap;\n",
              "      gap: 12px;\n",
              "    }\n",
              "\n",
              "    .colab-df-convert {\n",
              "      background-color: #E8F0FE;\n",
              "      border: none;\n",
              "      border-radius: 50%;\n",
              "      cursor: pointer;\n",
              "      display: none;\n",
              "      fill: #1967D2;\n",
              "      height: 32px;\n",
              "      padding: 0 0 0 0;\n",
              "      width: 32px;\n",
              "    }\n",
              "\n",
              "    .colab-df-convert:hover {\n",
              "      background-color: #E2EBFA;\n",
              "      box-shadow: 0px 1px 2px rgba(60, 64, 67, 0.3), 0px 1px 3px 1px rgba(60, 64, 67, 0.15);\n",
              "      fill: #174EA6;\n",
              "    }\n",
              "\n",
              "    [theme=dark] .colab-df-convert {\n",
              "      background-color: #3B4455;\n",
              "      fill: #D2E3FC;\n",
              "    }\n",
              "\n",
              "    [theme=dark] .colab-df-convert:hover {\n",
              "      background-color: #434B5C;\n",
              "      box-shadow: 0px 1px 3px 1px rgba(0, 0, 0, 0.15);\n",
              "      filter: drop-shadow(0px 1px 2px rgba(0, 0, 0, 0.3));\n",
              "      fill: #FFFFFF;\n",
              "    }\n",
              "  </style>\n",
              "\n",
              "      <script>\n",
              "        const buttonEl =\n",
              "          document.querySelector('#df-19f7ebf2-423e-4235-bce3-36ae76eec260 button.colab-df-convert');\n",
              "        buttonEl.style.display =\n",
              "          google.colab.kernel.accessAllowed ? 'block' : 'none';\n",
              "\n",
              "        async function convertToInteractive(key) {\n",
              "          const element = document.querySelector('#df-19f7ebf2-423e-4235-bce3-36ae76eec260');\n",
              "          const dataTable =\n",
              "            await google.colab.kernel.invokeFunction('convertToInteractive',\n",
              "                                                     [key], {});\n",
              "          if (!dataTable) return;\n",
              "\n",
              "          const docLinkHtml = 'Like what you see? Visit the ' +\n",
              "            '<a target=\"_blank\" href=https://colab.research.google.com/notebooks/data_table.ipynb>data table notebook</a>'\n",
              "            + ' to learn more about interactive tables.';\n",
              "          element.innerHTML = '';\n",
              "          dataTable['output_type'] = 'display_data';\n",
              "          await google.colab.output.renderOutput(dataTable, element);\n",
              "          const docLink = document.createElement('div');\n",
              "          docLink.innerHTML = docLinkHtml;\n",
              "          element.appendChild(docLink);\n",
              "        }\n",
              "      </script>\n",
              "    </div>\n",
              "  </div>\n",
              "  "
            ]
          },
          "metadata": {},
          "execution_count": 33
        }
      ],
      "source": [
        "#  `threshold_match_probability` or `threshold_match_weight` can be provided, which will drop any row where the predicted score is below the threshold\n",
        "df_predictions = linker.predict(threshold_match_probability=0.2)\n",
        "df_predictions.as_pandas_dataframe(limit=5)"
      ]
    },
    {
      "cell_type": "code",
      "execution_count": 34,
      "metadata": {
        "colab": {
          "base_uri": "https://localhost:8080/",
          "height": 1000
        },
        "id": "uQitRl0l1QIV",
        "outputId": "509d33c3-82b0-4254-ae5c-552170b17025"
      },
      "outputs": [
        {
          "output_type": "stream",
          "name": "stderr",
          "text": [
            "/usr/local/lib/python3.10/dist-packages/ipykernel/ipkernel.py:283: DeprecationWarning: `should_run_async` will not call `transform_cell` automatically in the future. Please pass the result to `transformed_cell` argument and any exception that happen during thetransform in `preprocessing_exc_tuple` in IPython 7.17 and above.\n",
            "  and should_run_async(code)\n",
            "INFO:splink.connected_components:Completed iteration 1, root rows count 9259\n",
            "INFO:splink.connected_components:Completed iteration 2, root rows count 6967\n",
            "INFO:splink.connected_components:Completed iteration 3, root rows count 6049\n",
            "INFO:splink.connected_components:Completed iteration 4, root rows count 5445\n",
            "INFO:splink.connected_components:Completed iteration 5, root rows count 4278\n",
            "INFO:splink.connected_components:Completed iteration 6, root rows count 2694\n",
            "INFO:splink.connected_components:Completed iteration 7, root rows count 1510\n",
            "INFO:splink.connected_components:Completed iteration 8, root rows count 1022\n",
            "INFO:splink.connected_components:Completed iteration 9, root rows count 578\n",
            "INFO:splink.connected_components:Completed iteration 10, root rows count 421\n",
            "INFO:splink.connected_components:Completed iteration 11, root rows count 252\n",
            "INFO:splink.connected_components:Completed iteration 12, root rows count 126\n",
            "INFO:splink.connected_components:Completed iteration 13, root rows count 111\n",
            "INFO:splink.connected_components:Completed iteration 14, root rows count 61\n",
            "INFO:splink.connected_components:Completed iteration 15, root rows count 38\n",
            "INFO:splink.connected_components:Completed iteration 16, root rows count 39\n",
            "INFO:splink.connected_components:Completed iteration 17, root rows count 36\n",
            "INFO:splink.connected_components:Completed iteration 18, root rows count 39\n",
            "INFO:splink.connected_components:Completed iteration 19, root rows count 29\n",
            "INFO:splink.connected_components:Completed iteration 20, root rows count 29\n",
            "INFO:splink.connected_components:Completed iteration 21, root rows count 18\n",
            "INFO:splink.connected_components:Completed iteration 22, root rows count 11\n",
            "INFO:splink.connected_components:Completed iteration 23, root rows count 6\n",
            "INFO:splink.connected_components:Completed iteration 24, root rows count 2\n",
            "INFO:splink.connected_components:Completed iteration 25, root rows count 0\n"
          ]
        },
        {
          "output_type": "execute_result",
          "data": {
            "text/plain": [
              "   cluster_id  PolPcId                              cltname_x ClientPinNumber  \\\n",
              "0       92037  1281308            elburgon mattresses limited     P051195073D   \n",
              "1      186719  1090548                       kennedy otieno b             NaN   \n",
              "2       89918  1238168  andrew m  momanyi & gladys m  momanyi     A005396479M   \n",
              "3      186854    62478                       ng'ang'a stephen             NaN   \n",
              "4       13711  1040410                       jane mumbi chuma     A003158206I   \n",
              "5       27493  1094785                        macwan agencies     P000613037L   \n",
              "6        3645    43431                   kariuki esther wangu             NaN   \n",
              "7       81589  1227596                          ngugi kamonde     A001665456E   \n",
              "8       13262  1167100                  samuel nteere ncheeri     A000138286V   \n",
              "9      101711  1231021                   risper achieng amoto     P000596926F   \n",
              "\n",
              "  OriginalAttachmentDate        Department                    BranchName_x  \\\n",
              "0             23/01/2022  motor commercial                          nakuru   \n",
              "1             01/03/2012     motor private                          kisumu   \n",
              "2             16/09/2020   fire industrial                         nairobi   \n",
              "3             01/04/2010     motor private                         nairobi   \n",
              "4             06/09/2005     motor private  mombasa - market outreach unit   \n",
              "5             27/06/2012       liabilities                          nakuru   \n",
              "6             26/01/1998  motor commercial                         nairobi   \n",
              "7             18/02/2020   fire industrial            icea building branch   \n",
              "8             01/01/2017     motor private                         nairobi   \n",
              "9             01/04/2020           medical                         nairobi   \n",
              "\n",
              "   unique_id  tf_OriginalAttachmentDate  tf_BranchName_x  \n",
              "0     160386                   0.000069         0.024635  \n",
              "1     186719                   0.000090         0.016272  \n",
              "2      89918                   0.000297         0.558993  \n",
              "3     186854                   0.000574         0.558993  \n",
              "4      60931                   0.000032         0.001728  \n",
              "5      42371                   0.000090         0.024635  \n",
              "6       3645                   0.000005         0.558993  \n",
              "7     149628                   0.000441         0.110833  \n",
              "8      13263                   0.004737         0.558993  \n",
              "9     122689                   0.008539         0.558993  "
            ],
            "text/html": [
              "\n",
              "  <div id=\"df-ba172a43-e0e7-456b-8417-f218c1c9b687\">\n",
              "    <div class=\"colab-df-container\">\n",
              "      <div>\n",
              "<style scoped>\n",
              "    .dataframe tbody tr th:only-of-type {\n",
              "        vertical-align: middle;\n",
              "    }\n",
              "\n",
              "    .dataframe tbody tr th {\n",
              "        vertical-align: top;\n",
              "    }\n",
              "\n",
              "    .dataframe thead th {\n",
              "        text-align: right;\n",
              "    }\n",
              "</style>\n",
              "<table border=\"1\" class=\"dataframe\">\n",
              "  <thead>\n",
              "    <tr style=\"text-align: right;\">\n",
              "      <th></th>\n",
              "      <th>cluster_id</th>\n",
              "      <th>PolPcId</th>\n",
              "      <th>cltname_x</th>\n",
              "      <th>ClientPinNumber</th>\n",
              "      <th>OriginalAttachmentDate</th>\n",
              "      <th>Department</th>\n",
              "      <th>BranchName_x</th>\n",
              "      <th>unique_id</th>\n",
              "      <th>tf_OriginalAttachmentDate</th>\n",
              "      <th>tf_BranchName_x</th>\n",
              "    </tr>\n",
              "  </thead>\n",
              "  <tbody>\n",
              "    <tr>\n",
              "      <th>0</th>\n",
              "      <td>92037</td>\n",
              "      <td>1281308</td>\n",
              "      <td>elburgon mattresses limited</td>\n",
              "      <td>P051195073D</td>\n",
              "      <td>23/01/2022</td>\n",
              "      <td>motor commercial</td>\n",
              "      <td>nakuru</td>\n",
              "      <td>160386</td>\n",
              "      <td>0.000069</td>\n",
              "      <td>0.024635</td>\n",
              "    </tr>\n",
              "    <tr>\n",
              "      <th>1</th>\n",
              "      <td>186719</td>\n",
              "      <td>1090548</td>\n",
              "      <td>kennedy otieno b</td>\n",
              "      <td>NaN</td>\n",
              "      <td>01/03/2012</td>\n",
              "      <td>motor private</td>\n",
              "      <td>kisumu</td>\n",
              "      <td>186719</td>\n",
              "      <td>0.000090</td>\n",
              "      <td>0.016272</td>\n",
              "    </tr>\n",
              "    <tr>\n",
              "      <th>2</th>\n",
              "      <td>89918</td>\n",
              "      <td>1238168</td>\n",
              "      <td>andrew m  momanyi &amp; gladys m  momanyi</td>\n",
              "      <td>A005396479M</td>\n",
              "      <td>16/09/2020</td>\n",
              "      <td>fire industrial</td>\n",
              "      <td>nairobi</td>\n",
              "      <td>89918</td>\n",
              "      <td>0.000297</td>\n",
              "      <td>0.558993</td>\n",
              "    </tr>\n",
              "    <tr>\n",
              "      <th>3</th>\n",
              "      <td>186854</td>\n",
              "      <td>62478</td>\n",
              "      <td>ng'ang'a stephen</td>\n",
              "      <td>NaN</td>\n",
              "      <td>01/04/2010</td>\n",
              "      <td>motor private</td>\n",
              "      <td>nairobi</td>\n",
              "      <td>186854</td>\n",
              "      <td>0.000574</td>\n",
              "      <td>0.558993</td>\n",
              "    </tr>\n",
              "    <tr>\n",
              "      <th>4</th>\n",
              "      <td>13711</td>\n",
              "      <td>1040410</td>\n",
              "      <td>jane mumbi chuma</td>\n",
              "      <td>A003158206I</td>\n",
              "      <td>06/09/2005</td>\n",
              "      <td>motor private</td>\n",
              "      <td>mombasa - market outreach unit</td>\n",
              "      <td>60931</td>\n",
              "      <td>0.000032</td>\n",
              "      <td>0.001728</td>\n",
              "    </tr>\n",
              "    <tr>\n",
              "      <th>5</th>\n",
              "      <td>27493</td>\n",
              "      <td>1094785</td>\n",
              "      <td>macwan agencies</td>\n",
              "      <td>P000613037L</td>\n",
              "      <td>27/06/2012</td>\n",
              "      <td>liabilities</td>\n",
              "      <td>nakuru</td>\n",
              "      <td>42371</td>\n",
              "      <td>0.000090</td>\n",
              "      <td>0.024635</td>\n",
              "    </tr>\n",
              "    <tr>\n",
              "      <th>6</th>\n",
              "      <td>3645</td>\n",
              "      <td>43431</td>\n",
              "      <td>kariuki esther wangu</td>\n",
              "      <td>NaN</td>\n",
              "      <td>26/01/1998</td>\n",
              "      <td>motor commercial</td>\n",
              "      <td>nairobi</td>\n",
              "      <td>3645</td>\n",
              "      <td>0.000005</td>\n",
              "      <td>0.558993</td>\n",
              "    </tr>\n",
              "    <tr>\n",
              "      <th>7</th>\n",
              "      <td>81589</td>\n",
              "      <td>1227596</td>\n",
              "      <td>ngugi kamonde</td>\n",
              "      <td>A001665456E</td>\n",
              "      <td>18/02/2020</td>\n",
              "      <td>fire industrial</td>\n",
              "      <td>icea building branch</td>\n",
              "      <td>149628</td>\n",
              "      <td>0.000441</td>\n",
              "      <td>0.110833</td>\n",
              "    </tr>\n",
              "    <tr>\n",
              "      <th>8</th>\n",
              "      <td>13262</td>\n",
              "      <td>1167100</td>\n",
              "      <td>samuel nteere ncheeri</td>\n",
              "      <td>A000138286V</td>\n",
              "      <td>01/01/2017</td>\n",
              "      <td>motor private</td>\n",
              "      <td>nairobi</td>\n",
              "      <td>13263</td>\n",
              "      <td>0.004737</td>\n",
              "      <td>0.558993</td>\n",
              "    </tr>\n",
              "    <tr>\n",
              "      <th>9</th>\n",
              "      <td>101711</td>\n",
              "      <td>1231021</td>\n",
              "      <td>risper achieng amoto</td>\n",
              "      <td>P000596926F</td>\n",
              "      <td>01/04/2020</td>\n",
              "      <td>medical</td>\n",
              "      <td>nairobi</td>\n",
              "      <td>122689</td>\n",
              "      <td>0.008539</td>\n",
              "      <td>0.558993</td>\n",
              "    </tr>\n",
              "  </tbody>\n",
              "</table>\n",
              "</div>\n",
              "      <button class=\"colab-df-convert\" onclick=\"convertToInteractive('df-ba172a43-e0e7-456b-8417-f218c1c9b687')\"\n",
              "              title=\"Convert this dataframe to an interactive table.\"\n",
              "              style=\"display:none;\">\n",
              "        \n",
              "  <svg xmlns=\"http://www.w3.org/2000/svg\" height=\"24px\"viewBox=\"0 0 24 24\"\n",
              "       width=\"24px\">\n",
              "    <path d=\"M0 0h24v24H0V0z\" fill=\"none\"/>\n",
              "    <path d=\"M18.56 5.44l.94 2.06.94-2.06 2.06-.94-2.06-.94-.94-2.06-.94 2.06-2.06.94zm-11 1L8.5 8.5l.94-2.06 2.06-.94-2.06-.94L8.5 2.5l-.94 2.06-2.06.94zm10 10l.94 2.06.94-2.06 2.06-.94-2.06-.94-.94-2.06-.94 2.06-2.06.94z\"/><path d=\"M17.41 7.96l-1.37-1.37c-.4-.4-.92-.59-1.43-.59-.52 0-1.04.2-1.43.59L10.3 9.45l-7.72 7.72c-.78.78-.78 2.05 0 2.83L4 21.41c.39.39.9.59 1.41.59.51 0 1.02-.2 1.41-.59l7.78-7.78 2.81-2.81c.8-.78.8-2.07 0-2.86zM5.41 20L4 18.59l7.72-7.72 1.47 1.35L5.41 20z\"/>\n",
              "  </svg>\n",
              "      </button>\n",
              "      \n",
              "  <style>\n",
              "    .colab-df-container {\n",
              "      display:flex;\n",
              "      flex-wrap:wrap;\n",
              "      gap: 12px;\n",
              "    }\n",
              "\n",
              "    .colab-df-convert {\n",
              "      background-color: #E8F0FE;\n",
              "      border: none;\n",
              "      border-radius: 50%;\n",
              "      cursor: pointer;\n",
              "      display: none;\n",
              "      fill: #1967D2;\n",
              "      height: 32px;\n",
              "      padding: 0 0 0 0;\n",
              "      width: 32px;\n",
              "    }\n",
              "\n",
              "    .colab-df-convert:hover {\n",
              "      background-color: #E2EBFA;\n",
              "      box-shadow: 0px 1px 2px rgba(60, 64, 67, 0.3), 0px 1px 3px 1px rgba(60, 64, 67, 0.15);\n",
              "      fill: #174EA6;\n",
              "    }\n",
              "\n",
              "    [theme=dark] .colab-df-convert {\n",
              "      background-color: #3B4455;\n",
              "      fill: #D2E3FC;\n",
              "    }\n",
              "\n",
              "    [theme=dark] .colab-df-convert:hover {\n",
              "      background-color: #434B5C;\n",
              "      box-shadow: 0px 1px 3px 1px rgba(0, 0, 0, 0.15);\n",
              "      filter: drop-shadow(0px 1px 2px rgba(0, 0, 0, 0.3));\n",
              "      fill: #FFFFFF;\n",
              "    }\n",
              "  </style>\n",
              "\n",
              "      <script>\n",
              "        const buttonEl =\n",
              "          document.querySelector('#df-ba172a43-e0e7-456b-8417-f218c1c9b687 button.colab-df-convert');\n",
              "        buttonEl.style.display =\n",
              "          google.colab.kernel.accessAllowed ? 'block' : 'none';\n",
              "\n",
              "        async function convertToInteractive(key) {\n",
              "          const element = document.querySelector('#df-ba172a43-e0e7-456b-8417-f218c1c9b687');\n",
              "          const dataTable =\n",
              "            await google.colab.kernel.invokeFunction('convertToInteractive',\n",
              "                                                     [key], {});\n",
              "          if (!dataTable) return;\n",
              "\n",
              "          const docLinkHtml = 'Like what you see? Visit the ' +\n",
              "            '<a target=\"_blank\" href=https://colab.research.google.com/notebooks/data_table.ipynb>data table notebook</a>'\n",
              "            + ' to learn more about interactive tables.';\n",
              "          element.innerHTML = '';\n",
              "          dataTable['output_type'] = 'display_data';\n",
              "          await google.colab.output.renderOutput(dataTable, element);\n",
              "          const docLink = document.createElement('div');\n",
              "          docLink.innerHTML = docLinkHtml;\n",
              "          element.appendChild(docLink);\n",
              "        }\n",
              "      </script>\n",
              "    </div>\n",
              "  </div>\n",
              "  "
            ]
          },
          "metadata": {},
          "execution_count": 34
        }
      ],
      "source": [
        "clusters = linker.cluster_pairwise_predictions_at_threshold(df_predictions, threshold_match_probability=0.8)\n",
        "clusters.as_pandas_dataframe(limit=10)"
      ]
    },
    {
      "cell_type": "code",
      "execution_count": 35,
      "metadata": {
        "colab": {
          "base_uri": "https://localhost:8080/",
          "height": 663
        },
        "id": "LrHgyE1RyLvY",
        "outputId": "2808d235-38c2-4e56-8c55-4f3d50d776e9"
      },
      "outputs": [
        {
          "output_type": "stream",
          "name": "stderr",
          "text": [
            "/usr/local/lib/python3.10/dist-packages/ipykernel/ipkernel.py:283: DeprecationWarning: `should_run_async` will not call `transform_cell` automatically in the future. Please pass the result to `transformed_cell` argument and any exception that happen during thetransform in `preprocessing_exc_tuple` in IPython 7.17 and above.\n",
            "  and should_run_async(code)\n"
          ]
        },
        {
          "output_type": "execute_result",
          "data": {
            "text/html": [
              "\n",
              "<style>\n",
              "  #altair-viz-906c8839c9324f54b9695786669dbbdc.vega-embed {\n",
              "    width: 100%;\n",
              "    display: flex;\n",
              "  }\n",
              "\n",
              "  #altair-viz-906c8839c9324f54b9695786669dbbdc.vega-embed details,\n",
              "  #altair-viz-906c8839c9324f54b9695786669dbbdc.vega-embed details summary {\n",
              "    position: relative;\n",
              "  }\n",
              "</style>\n",
              "<div id=\"altair-viz-906c8839c9324f54b9695786669dbbdc\"></div>\n",
              "<script type=\"text/javascript\">\n",
              "  var VEGA_DEBUG = (typeof VEGA_DEBUG == \"undefined\") ? {} : VEGA_DEBUG;\n",
              "  (function(spec, embedOpt){\n",
              "    let outputDiv = document.currentScript.previousElementSibling;\n",
              "    if (outputDiv.id !== \"altair-viz-906c8839c9324f54b9695786669dbbdc\") {\n",
              "      outputDiv = document.getElementById(\"altair-viz-906c8839c9324f54b9695786669dbbdc\");\n",
              "    }\n",
              "    const paths = {\n",
              "      \"vega\": \"https://cdn.jsdelivr.net/npm/vega@5?noext\",\n",
              "      \"vega-lib\": \"https://cdn.jsdelivr.net/npm/vega-lib?noext\",\n",
              "      \"vega-lite\": \"https://cdn.jsdelivr.net/npm/vega-lite@5.8.0?noext\",\n",
              "      \"vega-embed\": \"https://cdn.jsdelivr.net/npm/vega-embed@6?noext\",\n",
              "    };\n",
              "\n",
              "    function maybeLoadScript(lib, version) {\n",
              "      var key = `${lib.replace(\"-\", \"\")}_version`;\n",
              "      return (VEGA_DEBUG[key] == version) ?\n",
              "        Promise.resolve(paths[lib]) :\n",
              "        new Promise(function(resolve, reject) {\n",
              "          var s = document.createElement('script');\n",
              "          document.getElementsByTagName(\"head\")[0].appendChild(s);\n",
              "          s.async = true;\n",
              "          s.onload = () => {\n",
              "            VEGA_DEBUG[key] = version;\n",
              "            return resolve(paths[lib]);\n",
              "          };\n",
              "          s.onerror = () => reject(`Error loading script: ${paths[lib]}`);\n",
              "          s.src = paths[lib];\n",
              "        });\n",
              "    }\n",
              "\n",
              "    function showError(err) {\n",
              "      outputDiv.innerHTML = `<div class=\"error\" style=\"color:red;\">${err}</div>`;\n",
              "      throw err;\n",
              "    }\n",
              "\n",
              "    function displayChart(vegaEmbed) {\n",
              "      vegaEmbed(outputDiv, spec, embedOpt)\n",
              "        .catch(err => showError(`Javascript Error: ${err.message}<br>This usually means there's a typo in your chart specification. See the javascript console for the full traceback.`));\n",
              "    }\n",
              "\n",
              "    if(typeof define === \"function\" && define.amd) {\n",
              "      requirejs.config({paths});\n",
              "      require([\"vega-embed\"], displayChart, err => showError(`Error loading script: ${err.message}`));\n",
              "    } else {\n",
              "      maybeLoadScript(\"vega\", \"5\")\n",
              "        .then(() => maybeLoadScript(\"vega-lite\", \"5.8.0\"))\n",
              "        .then(() => maybeLoadScript(\"vega-embed\", \"6\"))\n",
              "        .catch(showError)\n",
              "        .then(() => displayChart(vegaEmbed));\n",
              "    }\n",
              "  })({\"config\": {\"view\": {\"continuousWidth\": 400, \"continuousHeight\": 300}}, \"layer\": [{\"layer\": [{\"mark\": \"rule\", \"encoding\": {\"color\": {\"value\": \"black\"}, \"size\": {\"value\": 0.5}, \"y\": {\"field\": \"zero\", \"type\": \"quantitative\"}}}, {\"mark\": {\"type\": \"bar\", \"width\": 60}, \"encoding\": {\"color\": {\"condition\": {\"test\": \"(datum.log2_bayes_factor < 0)\", \"value\": \"red\"}, \"value\": \"green\"}, \"opacity\": {\"condition\": {\"test\": \"datum.column_name == 'Prior match weight' || datum.column_name == 'Final score'\", \"value\": 1}, \"value\": 0.5}, \"tooltip\": [{\"field\": \"column_name\", \"title\": \"Comparison column\", \"type\": \"nominal\"}, {\"field\": \"value_l\", \"title\": \"Value (L)\", \"type\": \"nominal\"}, {\"field\": \"value_r\", \"title\": \"Value (R)\", \"type\": \"nominal\"}, {\"field\": \"label_for_charts\", \"title\": \"Label\", \"type\": \"ordinal\"}, {\"field\": \"sql_condition\", \"title\": \"SQL condition\", \"type\": \"nominal\"}, {\"field\": \"comparison_vector_value\", \"title\": \"Comparison vector value\", \"type\": \"nominal\"}, {\"field\": \"bayes_factor\", \"format\": \",.4f\", \"title\": \"Bayes factor = m/u\", \"type\": \"quantitative\"}, {\"field\": \"log2_bayes_factor\", \"format\": \",.4f\", \"title\": \"Match weight = log2(m/u)\", \"type\": \"quantitative\"}, {\"field\": \"prob\", \"format\": \".4f\", \"title\": \"Adjusted match score\", \"type\": \"quantitative\"}, {\"field\": \"bayes_factor_description\", \"title\": \"Match weight description\", \"type\": \"nominal\"}], \"x\": {\"axis\": {\"grid\": true, \"labelAlign\": \"center\", \"labelAngle\": -20, \"labelExpr\": \"datum.value == 'Prior' || datum.value == 'Final score' ? '' : datum.value\", \"labelPadding\": 10, \"tickBand\": \"extent\", \"title\": \"Column\"}, \"field\": \"column_name\", \"sort\": {\"field\": \"bar_sort_order\", \"order\": \"ascending\"}, \"type\": \"nominal\"}, \"y\": {\"axis\": {\"grid\": false, \"orient\": \"left\", \"title\": \"log2(Bayes factor)\"}, \"field\": \"previous_sum\", \"type\": \"quantitative\"}, \"y2\": {\"field\": \"sum\"}}}, {\"mark\": {\"type\": \"text\", \"fontWeight\": \"bold\"}, \"encoding\": {\"color\": {\"value\": \"white\"}, \"text\": {\"condition\": {\"test\": \"abs(datum.log2_bayes_factor) > 1\", \"field\": \"log2_bayes_factor\", \"format\": \".2f\", \"type\": \"nominal\"}, \"value\": \"\"}, \"x\": {\"axis\": {\"labelAngle\": -20, \"title\": \"Column\"}, \"field\": \"column_name\", \"sort\": {\"field\": \"bar_sort_order\", \"order\": \"ascending\"}, \"type\": \"nominal\"}, \"y\": {\"axis\": {\"orient\": \"left\"}, \"field\": \"center\", \"type\": \"quantitative\"}}}, {\"mark\": {\"type\": \"text\", \"baseline\": \"bottom\", \"dy\": -25, \"fontWeight\": \"bold\"}, \"encoding\": {\"color\": {\"value\": \"black\"}, \"text\": {\"field\": \"column_name\", \"type\": \"nominal\"}, \"x\": {\"axis\": {\"labelAngle\": -20, \"title\": \"Column\"}, \"field\": \"column_name\", \"sort\": {\"field\": \"bar_sort_order\", \"order\": \"ascending\"}, \"type\": \"nominal\"}, \"y\": {\"field\": \"sum_top\", \"type\": \"quantitative\"}}}, {\"mark\": {\"type\": \"text\", \"baseline\": \"bottom\", \"dy\": -13, \"fontSize\": 8}, \"encoding\": {\"color\": {\"value\": \"grey\"}, \"text\": {\"field\": \"value_l\", \"type\": \"nominal\"}, \"x\": {\"axis\": {\"labelAngle\": -20, \"title\": \"Column\"}, \"field\": \"column_name\", \"sort\": {\"field\": \"bar_sort_order\", \"order\": \"ascending\"}, \"type\": \"nominal\"}, \"y\": {\"field\": \"sum_top\", \"type\": \"quantitative\"}}}, {\"mark\": {\"type\": \"text\", \"baseline\": \"bottom\", \"dy\": -5, \"fontSize\": 8}, \"encoding\": {\"color\": {\"value\": \"grey\"}, \"text\": {\"field\": \"value_r\", \"type\": \"nominal\"}, \"x\": {\"axis\": {\"labelAngle\": -20, \"title\": \"Column\"}, \"field\": \"column_name\", \"sort\": {\"field\": \"bar_sort_order\", \"order\": \"ascending\"}, \"type\": \"nominal\"}, \"y\": {\"field\": \"sum_top\", \"type\": \"quantitative\"}}}]}, {\"mark\": {\"type\": \"rule\", \"color\": \"black\", \"strokeWidth\": 2, \"x2Offset\": 30, \"xOffset\": -30}, \"encoding\": {\"x\": {\"axis\": {\"labelAngle\": -20, \"title\": \"Column\"}, \"field\": \"column_name\", \"sort\": {\"field\": \"bar_sort_order\", \"order\": \"ascending\"}, \"type\": \"nominal\"}, \"x2\": {\"field\": \"lead\"}, \"y\": {\"axis\": {\"labelExpr\": \"format(1 / (1 + pow(2, -1*datum.value)), '.2r')\", \"orient\": \"right\", \"title\": \"Probability\"}, \"field\": \"sum\", \"scale\": {\"zero\": false}, \"type\": \"quantitative\"}}}], \"data\": {\"name\": \"data-7624b5f05580ca6203a8d6e48edd7749\"}, \"height\": 450, \"params\": [{\"name\": \"record_number\", \"bind\": {\"input\": \"range\", \"max\": 4, \"min\": 0, \"step\": 1}, \"value\": 0}], \"resolve\": {\"axis\": {\"y\": \"independent\"}}, \"title\": {\"text\": \"Match weights waterfall chart\", \"subtitle\": \"How each comparison contributes to the final match score\"}, \"transform\": [{\"filter\": \"(datum.record_number == record_number)\"}, {\"window\": [{\"op\": \"sum\", \"field\": \"log2_bayes_factor\", \"as\": \"sum\"}, {\"op\": \"lead\", \"field\": \"column_name\", \"as\": \"lead\"}], \"frame\": [null, 0]}, {\"calculate\": \"datum.column_name === \\\"Final score\\\" ? datum.sum - datum.log2_bayes_factor : datum.sum\", \"as\": \"sum\"}, {\"calculate\": \"datum.lead === null ? datum.column_name : datum.lead\", \"as\": \"lead\"}, {\"calculate\": \"datum.column_name === \\\"Final score\\\" || datum.column_name === \\\"Prior match weight\\\" ? 0 : datum.sum - datum.log2_bayes_factor\", \"as\": \"previous_sum\"}, {\"calculate\": \"datum.sum > datum.previous_sum ? datum.column_name : \\\"\\\"\", \"as\": \"top_label\"}, {\"calculate\": \"datum.sum < datum.previous_sum ? datum.column_name : \\\"\\\"\", \"as\": \"bottom_label\"}, {\"calculate\": \"datum.sum > datum.previous_sum ? datum.sum : datum.previous_sum\", \"as\": \"sum_top\"}, {\"calculate\": \"datum.sum < datum.previous_sum ? datum.sum : datum.previous_sum\", \"as\": \"sum_bottom\"}, {\"calculate\": \"(datum.sum + datum.previous_sum) / 2\", \"as\": \"center\"}, {\"calculate\": \"(datum.log2_bayes_factor > 0 ? \\\"+\\\" : \\\"\\\") + datum.log2_bayes_factor\", \"as\": \"text_log2_bayes_factor\"}, {\"calculate\": \"datum.sum < datum.previous_sum ? 4 : -4\", \"as\": \"dy\"}, {\"calculate\": \"datum.sum < datum.previous_sum ? \\\"top\\\" : \\\"bottom\\\"\", \"as\": \"baseline\"}, {\"calculate\": \"1. / (1 + pow(2, -1.*datum.sum))\", \"as\": \"prob\"}, {\"calculate\": \"0*datum.sum\", \"as\": \"zero\"}], \"width\": {\"step\": 75}, \"$schema\": \"https://vega.github.io/schema/vega-lite/v5.9.3.json\", \"datasets\": {\"data-7624b5f05580ca6203a8d6e48edd7749\": [{\"column_name\": \"Prior\", \"label_for_charts\": \"Starting match weight (prior)\", \"sql_condition\": null, \"log2_bayes_factor\": -7.960001932068081, \"bayes_factor\": 0.004016064257028113, \"comparison_vector_value\": null, \"m_probability\": null, \"u_probability\": null, \"bayes_factor_description\": null, \"value_l\": \"\", \"value_r\": \"\", \"term_frequency_adjustment\": null, \"bar_sort_order\": 0, \"record_number\": 0}, {\"column_name\": \"cltname_x\", \"label_for_charts\": \"Exact match\", \"sql_condition\": \"\\\"cltname_x_l\\\" = \\\"cltname_x_r\\\"\", \"log2_bayes_factor\": 13.218308968736634, \"bayes_factor\": 9530.320182899577, \"comparison_vector_value\": 2, \"m_probability\": 0.871498588893588, \"u_probability\": 9.144483838615763e-05, \"bayes_factor_description\": \"If comparison level is `exact match` then comparison is 9,530.32 times more likely to be a match\", \"value_l\": \"beatrice mwara wanjiru\", \"value_r\": \"beatrice mwara wanjiru\", \"term_frequency_adjustment\": false, \"bar_sort_order\": 1, \"record_number\": 0}, {\"column_name\": \"ClientPinNumber\", \"label_for_charts\": \"All other comparisons\", \"sql_condition\": \"ELSE\", \"log2_bayes_factor\": -1.8650682189815344, \"bayes_factor\": 0.27451022270582554, \"comparison_vector_value\": 0, \"m_probability\": 0.27180833502289975, \"u_probability\": 0.9901574241706065, \"bayes_factor_description\": \"If comparison level is `all other comparisons` then comparison is  3.64 times less likely to be a match\", \"value_l\": \"0\", \"value_r\": \"P051160233G\", \"term_frequency_adjustment\": false, \"bar_sort_order\": 2, \"record_number\": 0}, {\"column_name\": \"PolPcId\", \"label_for_charts\": \"All other comparisons\", \"sql_condition\": \"ELSE\", \"log2_bayes_factor\": -0.07460927962454089, \"bayes_factor\": 0.9495992629884912, \"comparison_vector_value\": 0, \"m_probability\": 0.9495907681671845, \"u_probability\": 0.9999910543092884, \"bayes_factor_description\": \"If comparison level is `all other comparisons` then comparison is  1.05 times less likely to be a match\", \"value_l\": \"1226565\", \"value_r\": \"1308192\", \"term_frequency_adjustment\": false, \"bar_sort_order\": 3, \"record_number\": 0}, {\"column_name\": \"OriginalAttachmentDate\", \"label_for_charts\": \"All other comparisons\", \"sql_condition\": \"ELSE\", \"log2_bayes_factor\": -0.19630416755122823, \"bayes_factor\": 0.872783560262457, \"comparison_vector_value\": 0, \"m_probability\": 0.8712899597155092, \"u_probability\": 0.9982886930793029, \"bayes_factor_description\": \"If comparison level is `all other comparisons` then comparison is  1.15 times less likely to be a match\", \"value_l\": \"01/01/2020\", \"value_r\": \"31/03/2023\", \"term_frequency_adjustment\": false, \"bar_sort_order\": 4, \"record_number\": 0}, {\"column_name\": \"tf_OriginalAttachmentDate\", \"label_for_charts\": \"All other comparisons\", \"sql_condition\": \"ELSE\", \"log2_bayes_factor\": 0.0, \"bayes_factor\": 1.0, \"comparison_vector_value\": 0, \"m_probability\": 0.8712899597155092, \"u_probability\": 0.9982886930793029, \"bayes_factor_description\": \"If comparison level is `all other comparisons` then comparison is  1.15 times less likely to be a match\", \"value_l\": \"\", \"value_r\": \"\", \"term_frequency_adjustment\": true, \"bar_sort_order\": 5, \"record_number\": 0}, {\"column_name\": \"BranchName_x\", \"label_for_charts\": \"Exact match\", \"sql_condition\": \"\\\"BranchName_x_l\\\" = \\\"BranchName_x_r\\\"\", \"log2_bayes_factor\": 1.5811124574594528, \"bayes_factor\": 2.992004733120338, \"comparison_vector_value\": 1, \"m_probability\": 0.999184707867574, \"u_probability\": 0.3339515799580745, \"bayes_factor_description\": \"If comparison level is `exact match` then comparison is 2.99 times more likely to be a match\", \"value_l\": \"nairobi\", \"value_r\": \"nairobi\", \"term_frequency_adjustment\": false, \"bar_sort_order\": 6, \"record_number\": 0}, {\"column_name\": \"tf_BranchName_x\", \"label_for_charts\": \"Term freq adjustment on BranchName_x with weight {cl.tf_adjustment_weight}\", \"sql_condition\": \"\\\"BranchName_x_l\\\" = \\\"BranchName_x_r\\\"\", \"log2_bayes_factor\": -0.7431914135173342, \"bayes_factor\": 0.5974163333210232, \"comparison_vector_value\": 1, \"m_probability\": null, \"u_probability\": null, \"bayes_factor_description\": \"Term frequency adjustment on BranchName_x makes comparison  1.67 times less likely to be a match\", \"value_l\": \"nairobi\", \"value_r\": \"nairobi\", \"term_frequency_adjustment\": true, \"bar_sort_order\": 7, \"record_number\": 0}, {\"column_name\": \"Final score\", \"label_for_charts\": \"Final score\", \"sql_condition\": null, \"log2_bayes_factor\": 3.9602464144533687, \"bayes_factor\": 15.565137480141546, \"comparison_vector_value\": null, \"m_probability\": null, \"u_probability\": null, \"bayes_factor_description\": null, \"value_l\": \"\", \"value_r\": \"\", \"term_frequency_adjustment\": null, \"bar_sort_order\": 8, \"record_number\": 0}, {\"column_name\": \"Prior\", \"label_for_charts\": \"Starting match weight (prior)\", \"sql_condition\": null, \"log2_bayes_factor\": -7.960001932068081, \"bayes_factor\": 0.004016064257028113, \"comparison_vector_value\": null, \"m_probability\": null, \"u_probability\": null, \"bayes_factor_description\": null, \"value_l\": \"\", \"value_r\": \"\", \"term_frequency_adjustment\": null, \"bar_sort_order\": 0, \"record_number\": 1}, {\"column_name\": \"cltname_x\", \"label_for_charts\": \"Exact match\", \"sql_condition\": \"\\\"cltname_x_l\\\" = \\\"cltname_x_r\\\"\", \"log2_bayes_factor\": 13.218308968736634, \"bayes_factor\": 9530.320182899577, \"comparison_vector_value\": 2, \"m_probability\": 0.871498588893588, \"u_probability\": 9.144483838615763e-05, \"bayes_factor_description\": \"If comparison level is `exact match` then comparison is 9,530.32 times more likely to be a match\", \"value_l\": \"catherine kathina syonguvi\", \"value_r\": \"catherine kathina syonguvi\", \"term_frequency_adjustment\": false, \"bar_sort_order\": 1, \"record_number\": 1}, {\"column_name\": \"ClientPinNumber\", \"label_for_charts\": \"All other comparisons\", \"sql_condition\": \"ELSE\", \"log2_bayes_factor\": -1.8650682189815344, \"bayes_factor\": 0.27451022270582554, \"comparison_vector_value\": 0, \"m_probability\": 0.27180833502289975, \"u_probability\": 0.9901574241706065, \"bayes_factor_description\": \"If comparison level is `all other comparisons` then comparison is  3.64 times less likely to be a match\", \"value_l\": \"0\", \"value_r\": \"P051160233G\", \"term_frequency_adjustment\": false, \"bar_sort_order\": 2, \"record_number\": 1}, {\"column_name\": \"PolPcId\", \"label_for_charts\": \"All other comparisons\", \"sql_condition\": \"ELSE\", \"log2_bayes_factor\": -0.07460927962454089, \"bayes_factor\": 0.9495992629884912, \"comparison_vector_value\": 0, \"m_probability\": 0.9495907681671845, \"u_probability\": 0.9999910543092884, \"bayes_factor_description\": \"If comparison level is `all other comparisons` then comparison is  1.05 times less likely to be a match\", \"value_l\": \"1226564\", \"value_r\": \"1286764\", \"term_frequency_adjustment\": false, \"bar_sort_order\": 3, \"record_number\": 1}, {\"column_name\": \"OriginalAttachmentDate\", \"label_for_charts\": \"All other comparisons\", \"sql_condition\": \"ELSE\", \"log2_bayes_factor\": -0.19630416755122823, \"bayes_factor\": 0.872783560262457, \"comparison_vector_value\": 0, \"m_probability\": 0.8712899597155092, \"u_probability\": 0.9982886930793029, \"bayes_factor_description\": \"If comparison level is `all other comparisons` then comparison is  1.15 times less likely to be a match\", \"value_l\": \"01/01/2020\", \"value_r\": \"01/04/2022\", \"term_frequency_adjustment\": false, \"bar_sort_order\": 4, \"record_number\": 1}, {\"column_name\": \"tf_OriginalAttachmentDate\", \"label_for_charts\": \"All other comparisons\", \"sql_condition\": \"ELSE\", \"log2_bayes_factor\": 0.0, \"bayes_factor\": 1.0, \"comparison_vector_value\": 0, \"m_probability\": 0.8712899597155092, \"u_probability\": 0.9982886930793029, \"bayes_factor_description\": \"If comparison level is `all other comparisons` then comparison is  1.15 times less likely to be a match\", \"value_l\": \"\", \"value_r\": \"\", \"term_frequency_adjustment\": true, \"bar_sort_order\": 5, \"record_number\": 1}, {\"column_name\": \"BranchName_x\", \"label_for_charts\": \"Exact match\", \"sql_condition\": \"\\\"BranchName_x_l\\\" = \\\"BranchName_x_r\\\"\", \"log2_bayes_factor\": 1.5811124574594528, \"bayes_factor\": 2.992004733120338, \"comparison_vector_value\": 1, \"m_probability\": 0.999184707867574, \"u_probability\": 0.3339515799580745, \"bayes_factor_description\": \"If comparison level is `exact match` then comparison is 2.99 times more likely to be a match\", \"value_l\": \"nairobi\", \"value_r\": \"nairobi\", \"term_frequency_adjustment\": false, \"bar_sort_order\": 6, \"record_number\": 1}, {\"column_name\": \"tf_BranchName_x\", \"label_for_charts\": \"Term freq adjustment on BranchName_x with weight {cl.tf_adjustment_weight}\", \"sql_condition\": \"\\\"BranchName_x_l\\\" = \\\"BranchName_x_r\\\"\", \"log2_bayes_factor\": -0.7431914135173342, \"bayes_factor\": 0.5974163333210232, \"comparison_vector_value\": 1, \"m_probability\": null, \"u_probability\": null, \"bayes_factor_description\": \"Term frequency adjustment on BranchName_x makes comparison  1.67 times less likely to be a match\", \"value_l\": \"nairobi\", \"value_r\": \"nairobi\", \"term_frequency_adjustment\": true, \"bar_sort_order\": 7, \"record_number\": 1}, {\"column_name\": \"Final score\", \"label_for_charts\": \"Final score\", \"sql_condition\": null, \"log2_bayes_factor\": 3.9602464144533687, \"bayes_factor\": 15.565137480141546, \"comparison_vector_value\": null, \"m_probability\": null, \"u_probability\": null, \"bayes_factor_description\": null, \"value_l\": \"\", \"value_r\": \"\", \"term_frequency_adjustment\": null, \"bar_sort_order\": 8, \"record_number\": 1}, {\"column_name\": \"Prior\", \"label_for_charts\": \"Starting match weight (prior)\", \"sql_condition\": null, \"log2_bayes_factor\": -7.960001932068081, \"bayes_factor\": 0.004016064257028113, \"comparison_vector_value\": null, \"m_probability\": null, \"u_probability\": null, \"bayes_factor_description\": null, \"value_l\": \"\", \"value_r\": \"\", \"term_frequency_adjustment\": null, \"bar_sort_order\": 0, \"record_number\": 2}, {\"column_name\": \"cltname_x\", \"label_for_charts\": \"Exact match\", \"sql_condition\": \"\\\"cltname_x_l\\\" = \\\"cltname_x_r\\\"\", \"log2_bayes_factor\": 13.218308968736634, \"bayes_factor\": 9530.320182899577, \"comparison_vector_value\": 2, \"m_probability\": 0.871498588893588, \"u_probability\": 9.144483838615763e-05, \"bayes_factor_description\": \"If comparison level is `exact match` then comparison is 9,530.32 times more likely to be a match\", \"value_l\": \"daniel muchiri  gichuki\", \"value_r\": \"daniel muchiri  gichuki\", \"term_frequency_adjustment\": false, \"bar_sort_order\": 1, \"record_number\": 2}, {\"column_name\": \"ClientPinNumber\", \"label_for_charts\": \"All other comparisons\", \"sql_condition\": \"ELSE\", \"log2_bayes_factor\": -1.8650682189815344, \"bayes_factor\": 0.27451022270582554, \"comparison_vector_value\": 0, \"m_probability\": 0.27180833502289975, \"u_probability\": 0.9901574241706065, \"bayes_factor_description\": \"If comparison level is `all other comparisons` then comparison is  3.64 times less likely to be a match\", \"value_l\": \"0\", \"value_r\": \"P000609362E\", \"term_frequency_adjustment\": false, \"bar_sort_order\": 2, \"record_number\": 2}, {\"column_name\": \"PolPcId\", \"label_for_charts\": \"Exact match\", \"sql_condition\": \"\\\"PolPcId_l\\\" = \\\"PolPcId_r\\\"\", \"log2_bayes_factor\": 12.460207469914707, \"bayes_factor\": 5635.0295865858425, \"comparison_vector_value\": 1, \"m_probability\": 0.05040923183281556, \"u_probability\": 8.945690711689335e-06, \"bayes_factor_description\": \"If comparison level is `exact match` then comparison is 5,635.03 times more likely to be a match\", \"value_l\": \"1226714\", \"value_r\": \"1226714\", \"term_frequency_adjustment\": false, \"bar_sort_order\": 3, \"record_number\": 2}, {\"column_name\": \"OriginalAttachmentDate\", \"label_for_charts\": \"Exact match\", \"sql_condition\": \"\\\"OriginalAttachmentDate_l\\\" = \\\"OriginalAttachmentDate_r\\\"\", \"log2_bayes_factor\": 6.2328822595047395, \"bayes_factor\": 75.21154664182596, \"comparison_vector_value\": 1, \"m_probability\": 0.12871004028449082, \"u_probability\": 0.0017113069206971176, \"bayes_factor_description\": \"If comparison level is `exact match` then comparison is 75.21 times more likely to be a match\", \"value_l\": \"01/01/2020\", \"value_r\": \"01/01/2020\", \"term_frequency_adjustment\": false, \"bar_sort_order\": 4, \"record_number\": 2}, {\"column_name\": \"tf_OriginalAttachmentDate\", \"label_for_charts\": \"Term freq adjustment on OriginalAttachmentDate with weight {cl.tf_adjustment_weight}\", \"sql_condition\": \"\\\"OriginalAttachmentDate_l\\\" = \\\"OriginalAttachmentDate_r\\\"\", \"log2_bayes_factor\": -3.177764301197475, \"bayes_factor\": 0.1105089942002844, \"comparison_vector_value\": 1, \"m_probability\": null, \"u_probability\": null, \"bayes_factor_description\": \"Term frequency adjustment on OriginalAttachmentDate makes comparison  9.05 times less likely to be a match\", \"value_l\": \"01/01/2020\", \"value_r\": \"01/01/2020\", \"term_frequency_adjustment\": true, \"bar_sort_order\": 5, \"record_number\": 2}, {\"column_name\": \"BranchName_x\", \"label_for_charts\": \"Exact match\", \"sql_condition\": \"\\\"BranchName_x_l\\\" = \\\"BranchName_x_r\\\"\", \"log2_bayes_factor\": 1.5811124574594528, \"bayes_factor\": 2.992004733120338, \"comparison_vector_value\": 1, \"m_probability\": 0.999184707867574, \"u_probability\": 0.3339515799580745, \"bayes_factor_description\": \"If comparison level is `exact match` then comparison is 2.99 times more likely to be a match\", \"value_l\": \"nairobi\", \"value_r\": \"nairobi\", \"term_frequency_adjustment\": false, \"bar_sort_order\": 6, \"record_number\": 2}, {\"column_name\": \"tf_BranchName_x\", \"label_for_charts\": \"Term freq adjustment on BranchName_x with weight {cl.tf_adjustment_weight}\", \"sql_condition\": \"\\\"BranchName_x_l\\\" = \\\"BranchName_x_r\\\"\", \"log2_bayes_factor\": -0.7431914135173342, \"bayes_factor\": 0.5974163333210232, \"comparison_vector_value\": 1, \"m_probability\": null, \"u_probability\": null, \"bayes_factor_description\": \"Term frequency adjustment on BranchName_x makes comparison  1.67 times less likely to be a match\", \"value_l\": \"nairobi\", \"value_r\": \"nairobi\", \"term_frequency_adjustment\": true, \"bar_sort_order\": 7, \"record_number\": 2}, {\"column_name\": \"Final score\", \"label_for_charts\": \"Final score\", \"sql_condition\": null, \"log2_bayes_factor\": 19.74648528985111, \"bayes_factor\": 879598.2997049255, \"comparison_vector_value\": null, \"m_probability\": null, \"u_probability\": null, \"bayes_factor_description\": null, \"value_l\": \"\", \"value_r\": \"\", \"term_frequency_adjustment\": null, \"bar_sort_order\": 8, \"record_number\": 2}, {\"column_name\": \"Prior\", \"label_for_charts\": \"Starting match weight (prior)\", \"sql_condition\": null, \"log2_bayes_factor\": -7.960001932068081, \"bayes_factor\": 0.004016064257028113, \"comparison_vector_value\": null, \"m_probability\": null, \"u_probability\": null, \"bayes_factor_description\": null, \"value_l\": \"\", \"value_r\": \"\", \"term_frequency_adjustment\": null, \"bar_sort_order\": 0, \"record_number\": 3}, {\"column_name\": \"cltname_x\", \"label_for_charts\": \"Exact match\", \"sql_condition\": \"\\\"cltname_x_l\\\" = \\\"cltname_x_r\\\"\", \"log2_bayes_factor\": 13.218308968736634, \"bayes_factor\": 9530.320182899577, \"comparison_vector_value\": 2, \"m_probability\": 0.871498588893588, \"u_probability\": 9.144483838615763e-05, \"bayes_factor_description\": \"If comparison level is `exact match` then comparison is 9,530.32 times more likely to be a match\", \"value_l\": \"irene kawira kithinji\", \"value_r\": \"irene kawira kithinji\", \"term_frequency_adjustment\": false, \"bar_sort_order\": 1, \"record_number\": 3}, {\"column_name\": \"ClientPinNumber\", \"label_for_charts\": \"All other comparisons\", \"sql_condition\": \"ELSE\", \"log2_bayes_factor\": -1.8650682189815344, \"bayes_factor\": 0.27451022270582554, \"comparison_vector_value\": 0, \"m_probability\": 0.27180833502289975, \"u_probability\": 0.9901574241706065, \"bayes_factor_description\": \"If comparison level is `all other comparisons` then comparison is  3.64 times less likely to be a match\", \"value_l\": \"0\", \"value_r\": \"P051160233G\", \"term_frequency_adjustment\": false, \"bar_sort_order\": 2, \"record_number\": 3}, {\"column_name\": \"PolPcId\", \"label_for_charts\": \"All other comparisons\", \"sql_condition\": \"ELSE\", \"log2_bayes_factor\": -0.07460927962454089, \"bayes_factor\": 0.9495992629884912, \"comparison_vector_value\": 0, \"m_probability\": 0.9495907681671845, \"u_probability\": 0.9999910543092884, \"bayes_factor_description\": \"If comparison level is `all other comparisons` then comparison is  1.05 times less likely to be a match\", \"value_l\": \"1226562\", \"value_r\": \"1286850\", \"term_frequency_adjustment\": false, \"bar_sort_order\": 3, \"record_number\": 3}, {\"column_name\": \"OriginalAttachmentDate\", \"label_for_charts\": \"All other comparisons\", \"sql_condition\": \"ELSE\", \"log2_bayes_factor\": -0.19630416755122823, \"bayes_factor\": 0.872783560262457, \"comparison_vector_value\": 0, \"m_probability\": 0.8712899597155092, \"u_probability\": 0.9982886930793029, \"bayes_factor_description\": \"If comparison level is `all other comparisons` then comparison is  1.15 times less likely to be a match\", \"value_l\": \"01/01/2020\", \"value_r\": \"01/04/2022\", \"term_frequency_adjustment\": false, \"bar_sort_order\": 4, \"record_number\": 3}, {\"column_name\": \"tf_OriginalAttachmentDate\", \"label_for_charts\": \"All other comparisons\", \"sql_condition\": \"ELSE\", \"log2_bayes_factor\": 0.0, \"bayes_factor\": 1.0, \"comparison_vector_value\": 0, \"m_probability\": 0.8712899597155092, \"u_probability\": 0.9982886930793029, \"bayes_factor_description\": \"If comparison level is `all other comparisons` then comparison is  1.15 times less likely to be a match\", \"value_l\": \"\", \"value_r\": \"\", \"term_frequency_adjustment\": true, \"bar_sort_order\": 5, \"record_number\": 3}, {\"column_name\": \"BranchName_x\", \"label_for_charts\": \"Exact match\", \"sql_condition\": \"\\\"BranchName_x_l\\\" = \\\"BranchName_x_r\\\"\", \"log2_bayes_factor\": 1.5811124574594528, \"bayes_factor\": 2.992004733120338, \"comparison_vector_value\": 1, \"m_probability\": 0.999184707867574, \"u_probability\": 0.3339515799580745, \"bayes_factor_description\": \"If comparison level is `exact match` then comparison is 2.99 times more likely to be a match\", \"value_l\": \"nairobi\", \"value_r\": \"nairobi\", \"term_frequency_adjustment\": false, \"bar_sort_order\": 6, \"record_number\": 3}, {\"column_name\": \"tf_BranchName_x\", \"label_for_charts\": \"Term freq adjustment on BranchName_x with weight {cl.tf_adjustment_weight}\", \"sql_condition\": \"\\\"BranchName_x_l\\\" = \\\"BranchName_x_r\\\"\", \"log2_bayes_factor\": -0.7431914135173342, \"bayes_factor\": 0.5974163333210232, \"comparison_vector_value\": 1, \"m_probability\": null, \"u_probability\": null, \"bayes_factor_description\": \"Term frequency adjustment on BranchName_x makes comparison  1.67 times less likely to be a match\", \"value_l\": \"nairobi\", \"value_r\": \"nairobi\", \"term_frequency_adjustment\": true, \"bar_sort_order\": 7, \"record_number\": 3}, {\"column_name\": \"Final score\", \"label_for_charts\": \"Final score\", \"sql_condition\": null, \"log2_bayes_factor\": 3.9602464144533687, \"bayes_factor\": 15.565137480141546, \"comparison_vector_value\": null, \"m_probability\": null, \"u_probability\": null, \"bayes_factor_description\": null, \"value_l\": \"\", \"value_r\": \"\", \"term_frequency_adjustment\": null, \"bar_sort_order\": 8, \"record_number\": 3}, {\"column_name\": \"Prior\", \"label_for_charts\": \"Starting match weight (prior)\", \"sql_condition\": null, \"log2_bayes_factor\": -7.960001932068081, \"bayes_factor\": 0.004016064257028113, \"comparison_vector_value\": null, \"m_probability\": null, \"u_probability\": null, \"bayes_factor_description\": null, \"value_l\": \"\", \"value_r\": \"\", \"term_frequency_adjustment\": null, \"bar_sort_order\": 0, \"record_number\": 4}, {\"column_name\": \"cltname_x\", \"label_for_charts\": \"Exact match\", \"sql_condition\": \"\\\"cltname_x_l\\\" = \\\"cltname_x_r\\\"\", \"log2_bayes_factor\": 13.218308968736634, \"bayes_factor\": 9530.320182899577, \"comparison_vector_value\": 2, \"m_probability\": 0.871498588893588, \"u_probability\": 9.144483838615763e-05, \"bayes_factor_description\": \"If comparison level is `exact match` then comparison is 9,530.32 times more likely to be a match\", \"value_l\": \"margaret muthoni shikuku\", \"value_r\": \"margaret muthoni shikuku\", \"term_frequency_adjustment\": false, \"bar_sort_order\": 1, \"record_number\": 4}, {\"column_name\": \"ClientPinNumber\", \"label_for_charts\": \"Exact match\", \"sql_condition\": \"\\\"ClientPinNumber_l\\\" = \\\"ClientPinNumber_r\\\"\", \"log2_bayes_factor\": 6.209138495014034, \"bayes_factor\": 73.98385113807839, \"comparison_vector_value\": 1, \"m_probability\": 0.7281916649771002, \"u_probability\": 0.009842575829393541, \"bayes_factor_description\": \"If comparison level is `exact match` then comparison is 73.98 times more likely to be a match\", \"value_l\": \"0\", \"value_r\": \"0\", \"term_frequency_adjustment\": false, \"bar_sort_order\": 2, \"record_number\": 4}, {\"column_name\": \"PolPcId\", \"label_for_charts\": \"All other comparisons\", \"sql_condition\": \"ELSE\", \"log2_bayes_factor\": -0.07460927962454089, \"bayes_factor\": 0.9495992629884912, \"comparison_vector_value\": 0, \"m_probability\": 0.9495907681671845, \"u_probability\": 0.9999910543092884, \"bayes_factor_description\": \"If comparison level is `all other comparisons` then comparison is  1.05 times less likely to be a match\", \"value_l\": \"1226560\", \"value_r\": \"1286865\", \"term_frequency_adjustment\": false, \"bar_sort_order\": 3, \"record_number\": 4}, {\"column_name\": \"OriginalAttachmentDate\", \"label_for_charts\": \"All other comparisons\", \"sql_condition\": \"ELSE\", \"log2_bayes_factor\": -0.19630416755122823, \"bayes_factor\": 0.872783560262457, \"comparison_vector_value\": 0, \"m_probability\": 0.8712899597155092, \"u_probability\": 0.9982886930793029, \"bayes_factor_description\": \"If comparison level is `all other comparisons` then comparison is  1.15 times less likely to be a match\", \"value_l\": \"01/01/2020\", \"value_r\": \"01/04/2022\", \"term_frequency_adjustment\": false, \"bar_sort_order\": 4, \"record_number\": 4}, {\"column_name\": \"tf_OriginalAttachmentDate\", \"label_for_charts\": \"All other comparisons\", \"sql_condition\": \"ELSE\", \"log2_bayes_factor\": 0.0, \"bayes_factor\": 1.0, \"comparison_vector_value\": 0, \"m_probability\": 0.8712899597155092, \"u_probability\": 0.9982886930793029, \"bayes_factor_description\": \"If comparison level is `all other comparisons` then comparison is  1.15 times less likely to be a match\", \"value_l\": \"\", \"value_r\": \"\", \"term_frequency_adjustment\": true, \"bar_sort_order\": 5, \"record_number\": 4}, {\"column_name\": \"BranchName_x\", \"label_for_charts\": \"Exact match\", \"sql_condition\": \"\\\"BranchName_x_l\\\" = \\\"BranchName_x_r\\\"\", \"log2_bayes_factor\": 1.5811124574594528, \"bayes_factor\": 2.992004733120338, \"comparison_vector_value\": 1, \"m_probability\": 0.999184707867574, \"u_probability\": 0.3339515799580745, \"bayes_factor_description\": \"If comparison level is `exact match` then comparison is 2.99 times more likely to be a match\", \"value_l\": \"nairobi\", \"value_r\": \"nairobi\", \"term_frequency_adjustment\": false, \"bar_sort_order\": 6, \"record_number\": 4}, {\"column_name\": \"tf_BranchName_x\", \"label_for_charts\": \"Term freq adjustment on BranchName_x with weight {cl.tf_adjustment_weight}\", \"sql_condition\": \"\\\"BranchName_x_l\\\" = \\\"BranchName_x_r\\\"\", \"log2_bayes_factor\": -0.7431914135173342, \"bayes_factor\": 0.5974163333210232, \"comparison_vector_value\": 1, \"m_probability\": null, \"u_probability\": null, \"bayes_factor_description\": \"Term frequency adjustment on BranchName_x makes comparison  1.67 times less likely to be a match\", \"value_l\": \"nairobi\", \"value_r\": \"nairobi\", \"term_frequency_adjustment\": true, \"bar_sort_order\": 7, \"record_number\": 4}, {\"column_name\": \"Final score\", \"label_for_charts\": \"Final score\", \"sql_condition\": null, \"log2_bayes_factor\": 12.034453128448936, \"bayes_factor\": 4194.994280808904, \"comparison_vector_value\": null, \"m_probability\": null, \"u_probability\": null, \"bayes_factor_description\": null, \"value_l\": \"\", \"value_r\": \"\", \"term_frequency_adjustment\": null, \"bar_sort_order\": 8, \"record_number\": 4}]}}, {\"mode\": \"vega-lite\"});\n",
              "</script>"
            ],
            "text/plain": [
              "alt.LayerChart(...)"
            ]
          },
          "metadata": {},
          "execution_count": 35
        }
      ],
      "source": [
        "records_to_view  = df_predictions.as_record_dict(limit=5)\n",
        "linker.waterfall_chart(records_to_view, filter_nulls=False)"
      ]
    },
    {
      "cell_type": "code",
      "source": [
        "clusters = linker.cluster_pairwise_predictions_at_threshold(df_predictions, threshold_match_probability=0.95)"
      ],
      "metadata": {
        "colab": {
          "base_uri": "https://localhost:8080/"
        },
        "id": "osqtjNe7Qw5t",
        "outputId": "dc41aa34-00d1-40b9-fe1e-981d2d1a3e03"
      },
      "execution_count": 36,
      "outputs": [
        {
          "output_type": "stream",
          "name": "stderr",
          "text": [
            "/usr/local/lib/python3.10/dist-packages/ipykernel/ipkernel.py:283: DeprecationWarning: `should_run_async` will not call `transform_cell` automatically in the future. Please pass the result to `transformed_cell` argument and any exception that happen during thetransform in `preprocessing_exc_tuple` in IPython 7.17 and above.\n",
            "  and should_run_async(code)\n",
            "INFO:splink.connected_components:Completed iteration 1, root rows count 5067\n",
            "INFO:splink.connected_components:Completed iteration 2, root rows count 2952\n",
            "INFO:splink.connected_components:Completed iteration 3, root rows count 2094\n",
            "INFO:splink.connected_components:Completed iteration 4, root rows count 1840\n",
            "INFO:splink.connected_components:Completed iteration 5, root rows count 1363\n",
            "INFO:splink.connected_components:Completed iteration 6, root rows count 1171\n",
            "INFO:splink.connected_components:Completed iteration 7, root rows count 1065\n",
            "INFO:splink.connected_components:Completed iteration 8, root rows count 817\n",
            "INFO:splink.connected_components:Completed iteration 9, root rows count 731\n",
            "INFO:splink.connected_components:Completed iteration 10, root rows count 622\n",
            "INFO:splink.connected_components:Completed iteration 11, root rows count 489\n",
            "INFO:splink.connected_components:Completed iteration 12, root rows count 276\n",
            "INFO:splink.connected_components:Completed iteration 13, root rows count 333\n",
            "INFO:splink.connected_components:Completed iteration 14, root rows count 193\n",
            "INFO:splink.connected_components:Completed iteration 15, root rows count 105\n",
            "INFO:splink.connected_components:Completed iteration 16, root rows count 68\n",
            "INFO:splink.connected_components:Completed iteration 17, root rows count 110\n",
            "INFO:splink.connected_components:Completed iteration 18, root rows count 66\n",
            "INFO:splink.connected_components:Completed iteration 19, root rows count 131\n",
            "INFO:splink.connected_components:Completed iteration 20, root rows count 63\n",
            "INFO:splink.connected_components:Completed iteration 21, root rows count 18\n",
            "INFO:splink.connected_components:Completed iteration 22, root rows count 21\n",
            "INFO:splink.connected_components:Completed iteration 23, root rows count 6\n",
            "INFO:splink.connected_components:Completed iteration 24, root rows count 16\n",
            "INFO:splink.connected_components:Completed iteration 25, root rows count 24\n",
            "INFO:splink.connected_components:Completed iteration 26, root rows count 0\n"
          ]
        }
      ]
    },
    {
      "cell_type": "code",
      "source": [
        "linker.cluster_studio_dashboard(df_predictions, clusters, \"50k_cluster.html\", sampling_method='by_cluster_size', overwrite=True)"
      ],
      "metadata": {
        "colab": {
          "base_uri": "https://localhost:8080/",
          "height": 104,
          "referenced_widgets": [
            "94abae8be72648a791e3eac75e7ad839",
            "51a1b9b252f141c28b09193408727d7c",
            "7f6f01946eb24d75b3b9ef7b54ab4a27"
          ]
        },
        "id": "E1cFZzz4RKku",
        "outputId": "fe3b308d-e4da-4f7c-c00d-a852ae693d4e"
      },
      "execution_count": null,
      "outputs": [
        {
          "output_type": "stream",
          "name": "stderr",
          "text": [
            "/usr/local/lib/python3.10/dist-packages/ipykernel/ipkernel.py:283: DeprecationWarning: `should_run_async` will not call `transform_cell` automatically in the future. Please pass the result to `transformed_cell` argument and any exception that happen during thetransform in `preprocessing_exc_tuple` in IPython 7.17 and above.\n",
            "  and should_run_async(code)\n"
          ]
        },
        {
          "output_type": "display_data",
          "data": {
            "text/plain": [
              "FloatProgress(value=0.0, layout=Layout(width='auto'), style=ProgressStyle(bar_color='black'))"
            ],
            "application/vnd.jupyter.widget-view+json": {
              "version_major": 2,
              "version_minor": 0,
              "model_id": "94abae8be72648a791e3eac75e7ad839"
            }
          },
          "metadata": {}
        }
      ]
    },
    {
      "cell_type": "code",
      "execution_count": null,
      "metadata": {
        "colab": {
          "base_uri": "https://localhost:8080/"
        },
        "id": "1nAcAA8XpS4e",
        "outputId": "3cc38561-7a81-419b-f499-038b014df0b0"
      },
      "outputs": [
        {
          "name": "stderr",
          "output_type": "stream",
          "text": [
            "/usr/local/lib/python3.10/dist-packages/ipykernel/ipkernel.py:283: DeprecationWarning: `should_run_async` will not call `transform_cell` automatically in the future. Please pass the result to `transformed_cell` argument and any exception that happen during thetransform in `preprocessing_exc_tuple` in IPython 7.17 and above.\n",
            "  and should_run_async(code)\n"
          ]
        },
        {
          "name": "stdout",
          "output_type": "stream",
          "text": [
            "1872057\n"
          ]
        }
      ],
      "source": [
        "import recordlinkage\n",
        "\n",
        "dfA = Actuarial_claims_unique_id\n",
        "\n",
        "# Indexation step\n",
        "indexer = recordlinkage.Index()\n",
        "indexer.block(left_on=\"cltname_x\")\n",
        "candidate_links = indexer.index(dfA)\n",
        "\n",
        "# Comparison step\n",
        "compare_cl = recordlinkage.Compare()\n",
        "\n",
        "compare_cl.exact(\"ClientPinNumber\", \"ClientPinNumber\", label=\"ClientPinNumber\")\n",
        "compare_cl.string(\"cltname_x\", \"cltname_x\", method=\"jarowinkler\", threshold=0.85, label=\"cltname_x\")\n",
        "compare_cl.exact(\"OriginalAttachmentDate\", \"OriginalAttachmentDate\", label=\"OriginalAttachmentDate\")\n",
        "compare_cl.exact(\"Department\", \"Department\", label=\"Department\")\n",
        "compare_cl.exact(\"polref\", \"polref\", label=\"polref\")\n",
        "compare_cl.string(\"BranchName_x\", \"BranchName_x\", threshold=0.85, label=\"BranchName_x\")\n",
        "\n",
        "features = compare_cl.compute(candidate_links, dfA)\n",
        "\n",
        "# Classification step\n",
        "matches = features[features.sum(axis=1) > 3]\n",
        "print(len(matches))"
      ]
    },
    {
      "cell_type": "code",
      "execution_count": null,
      "metadata": {
        "colab": {
          "base_uri": "https://localhost:8080/"
        },
        "id": "mjsCQze3rzL4",
        "outputId": "4bfdd26c-9249-477d-cb02-ffff7b6018bb"
      },
      "outputs": [
        {
          "name": "stderr",
          "output_type": "stream",
          "text": [
            "/usr/local/lib/python3.10/dist-packages/ipykernel/ipkernel.py:283: DeprecationWarning: `should_run_async` will not call `transform_cell` automatically in the future. Please pass the result to `transformed_cell` argument and any exception that happen during thetransform in `preprocessing_exc_tuple` in IPython 7.17 and above.\n",
            "  and should_run_async(code)\n",
            "<ipython-input-60-13801593053b>:1: SettingWithCopyWarning: \n",
            "A value is trying to be set on a copy of a slice from a DataFrame.\n",
            "Try using .loc[row_indexer,col_indexer] = value instead\n",
            "\n",
            "See the caveats in the documentation: https://pandas.pydata.org/pandas-docs/stable/user_guide/indexing.html#returning-a-view-versus-a-copy\n",
            "  Actuarial_claims_unique_id[\"unique_id\"]=Actuarial_claims_unique_id[\"PolPcId\"]\n"
          ]
        }
      ],
      "source": [
        "Actuarial_claims_unique_id[\"unique_id\"]=Actuarial_claims_unique_id[\"PolPcId\"]"
      ]
    },
    {
      "cell_type": "markdown",
      "metadata": {
        "id": "YLykENXhr33w"
      },
      "source": []
    },
    {
      "cell_type": "code",
      "execution_count": null,
      "metadata": {
        "id": "3RfRit6zyJjB"
      },
      "outputs": [],
      "source": []
    }
  ],
  "metadata": {
    "colab": {
      "provenance": [],
      "authorship_tag": "ABX9TyNUvf7CmJzB3L5lr2aYac8Y",
      "include_colab_link": true
    },
    "kernelspec": {
      "display_name": "Python 3",
      "name": "python3"
    },
    "language_info": {
      "name": "python"
    },
    "widgets": {
      "application/vnd.jupyter.widget-state+json": {
        "94abae8be72648a791e3eac75e7ad839": {
          "model_module": "@jupyter-widgets/controls",
          "model_name": "FloatProgressModel",
          "model_module_version": "1.5.0",
          "state": {
            "_dom_classes": [],
            "_model_module": "@jupyter-widgets/controls",
            "_model_module_version": "1.5.0",
            "_model_name": "FloatProgressModel",
            "_view_count": null,
            "_view_module": "@jupyter-widgets/controls",
            "_view_module_version": "1.5.0",
            "_view_name": "ProgressView",
            "bar_style": "",
            "description": "",
            "description_tooltip": null,
            "layout": "IPY_MODEL_51a1b9b252f141c28b09193408727d7c",
            "max": 100,
            "min": 0,
            "orientation": "horizontal",
            "style": "IPY_MODEL_7f6f01946eb24d75b3b9ef7b54ab4a27",
            "value": 100
          }
        },
        "51a1b9b252f141c28b09193408727d7c": {
          "model_module": "@jupyter-widgets/base",
          "model_name": "LayoutModel",
          "model_module_version": "1.2.0",
          "state": {
            "_model_module": "@jupyter-widgets/base",
            "_model_module_version": "1.2.0",
            "_model_name": "LayoutModel",
            "_view_count": null,
            "_view_module": "@jupyter-widgets/base",
            "_view_module_version": "1.2.0",
            "_view_name": "LayoutView",
            "align_content": null,
            "align_items": null,
            "align_self": null,
            "border": null,
            "bottom": null,
            "display": null,
            "flex": null,
            "flex_flow": null,
            "grid_area": null,
            "grid_auto_columns": null,
            "grid_auto_flow": null,
            "grid_auto_rows": null,
            "grid_column": null,
            "grid_gap": null,
            "grid_row": null,
            "grid_template_areas": null,
            "grid_template_columns": null,
            "grid_template_rows": null,
            "height": null,
            "justify_content": null,
            "justify_items": null,
            "left": null,
            "margin": null,
            "max_height": null,
            "max_width": null,
            "min_height": null,
            "min_width": null,
            "object_fit": null,
            "object_position": null,
            "order": null,
            "overflow": null,
            "overflow_x": null,
            "overflow_y": null,
            "padding": null,
            "right": null,
            "top": null,
            "visibility": null,
            "width": "auto"
          }
        },
        "7f6f01946eb24d75b3b9ef7b54ab4a27": {
          "model_module": "@jupyter-widgets/controls",
          "model_name": "ProgressStyleModel",
          "model_module_version": "1.5.0",
          "state": {
            "_model_module": "@jupyter-widgets/controls",
            "_model_module_version": "1.5.0",
            "_model_name": "ProgressStyleModel",
            "_view_count": null,
            "_view_module": "@jupyter-widgets/base",
            "_view_module_version": "1.2.0",
            "_view_name": "StyleView",
            "bar_color": "black",
            "description_width": ""
          }
        },
        "3b10c7f1bbcf4a429cd6e83e6e839fcb": {
          "model_module": "@jupyter-widgets/controls",
          "model_name": "FloatProgressModel",
          "model_module_version": "1.5.0",
          "state": {
            "_dom_classes": [],
            "_model_module": "@jupyter-widgets/controls",
            "_model_module_version": "1.5.0",
            "_model_name": "FloatProgressModel",
            "_view_count": null,
            "_view_module": "@jupyter-widgets/controls",
            "_view_module_version": "1.5.0",
            "_view_name": "ProgressView",
            "bar_style": "",
            "description": "",
            "description_tooltip": null,
            "layout": "IPY_MODEL_e256cd6eb37a4eca8dee04694a55e663",
            "max": 100,
            "min": 0,
            "orientation": "horizontal",
            "style": "IPY_MODEL_03f0145da58d4d87932ae8283fb9a717",
            "value": 100
          }
        },
        "e256cd6eb37a4eca8dee04694a55e663": {
          "model_module": "@jupyter-widgets/base",
          "model_name": "LayoutModel",
          "model_module_version": "1.2.0",
          "state": {
            "_model_module": "@jupyter-widgets/base",
            "_model_module_version": "1.2.0",
            "_model_name": "LayoutModel",
            "_view_count": null,
            "_view_module": "@jupyter-widgets/base",
            "_view_module_version": "1.2.0",
            "_view_name": "LayoutView",
            "align_content": null,
            "align_items": null,
            "align_self": null,
            "border": null,
            "bottom": null,
            "display": null,
            "flex": null,
            "flex_flow": null,
            "grid_area": null,
            "grid_auto_columns": null,
            "grid_auto_flow": null,
            "grid_auto_rows": null,
            "grid_column": null,
            "grid_gap": null,
            "grid_row": null,
            "grid_template_areas": null,
            "grid_template_columns": null,
            "grid_template_rows": null,
            "height": null,
            "justify_content": null,
            "justify_items": null,
            "left": null,
            "margin": null,
            "max_height": null,
            "max_width": null,
            "min_height": null,
            "min_width": null,
            "object_fit": null,
            "object_position": null,
            "order": null,
            "overflow": null,
            "overflow_x": null,
            "overflow_y": null,
            "padding": null,
            "right": null,
            "top": null,
            "visibility": null,
            "width": "auto"
          }
        },
        "03f0145da58d4d87932ae8283fb9a717": {
          "model_module": "@jupyter-widgets/controls",
          "model_name": "ProgressStyleModel",
          "model_module_version": "1.5.0",
          "state": {
            "_model_module": "@jupyter-widgets/controls",
            "_model_module_version": "1.5.0",
            "_model_name": "ProgressStyleModel",
            "_view_count": null,
            "_view_module": "@jupyter-widgets/base",
            "_view_module_version": "1.2.0",
            "_view_name": "StyleView",
            "bar_color": "black",
            "description_width": ""
          }
        },
        "7cfc1a4708934d33a1ce4b8661dbdba3": {
          "model_module": "@jupyter-widgets/controls",
          "model_name": "FloatProgressModel",
          "model_module_version": "1.5.0",
          "state": {
            "_dom_classes": [],
            "_model_module": "@jupyter-widgets/controls",
            "_model_module_version": "1.5.0",
            "_model_name": "FloatProgressModel",
            "_view_count": null,
            "_view_module": "@jupyter-widgets/controls",
            "_view_module_version": "1.5.0",
            "_view_name": "ProgressView",
            "bar_style": "",
            "description": "",
            "description_tooltip": null,
            "layout": "IPY_MODEL_aa3ca3602b2a4e76bc25dd3e9f45166d",
            "max": 100,
            "min": 0,
            "orientation": "horizontal",
            "style": "IPY_MODEL_d41bdbdd89fd43fc83a962431aa55de5",
            "value": 100
          }
        },
        "aa3ca3602b2a4e76bc25dd3e9f45166d": {
          "model_module": "@jupyter-widgets/base",
          "model_name": "LayoutModel",
          "model_module_version": "1.2.0",
          "state": {
            "_model_module": "@jupyter-widgets/base",
            "_model_module_version": "1.2.0",
            "_model_name": "LayoutModel",
            "_view_count": null,
            "_view_module": "@jupyter-widgets/base",
            "_view_module_version": "1.2.0",
            "_view_name": "LayoutView",
            "align_content": null,
            "align_items": null,
            "align_self": null,
            "border": null,
            "bottom": null,
            "display": null,
            "flex": null,
            "flex_flow": null,
            "grid_area": null,
            "grid_auto_columns": null,
            "grid_auto_flow": null,
            "grid_auto_rows": null,
            "grid_column": null,
            "grid_gap": null,
            "grid_row": null,
            "grid_template_areas": null,
            "grid_template_columns": null,
            "grid_template_rows": null,
            "height": null,
            "justify_content": null,
            "justify_items": null,
            "left": null,
            "margin": null,
            "max_height": null,
            "max_width": null,
            "min_height": null,
            "min_width": null,
            "object_fit": null,
            "object_position": null,
            "order": null,
            "overflow": null,
            "overflow_x": null,
            "overflow_y": null,
            "padding": null,
            "right": null,
            "top": null,
            "visibility": null,
            "width": "auto"
          }
        },
        "d41bdbdd89fd43fc83a962431aa55de5": {
          "model_module": "@jupyter-widgets/controls",
          "model_name": "ProgressStyleModel",
          "model_module_version": "1.5.0",
          "state": {
            "_model_module": "@jupyter-widgets/controls",
            "_model_module_version": "1.5.0",
            "_model_name": "ProgressStyleModel",
            "_view_count": null,
            "_view_module": "@jupyter-widgets/base",
            "_view_module_version": "1.2.0",
            "_view_name": "StyleView",
            "bar_color": "black",
            "description_width": ""
          }
        }
      }
    }
  },
  "nbformat": 4,
  "nbformat_minor": 0
}